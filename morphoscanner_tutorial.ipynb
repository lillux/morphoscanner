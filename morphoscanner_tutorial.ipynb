{
 "cells": [
  {
   "cell_type": "markdown",
   "metadata": {},
   "source": [
    "# Morphoscanner Tutorial\n",
    "\n",
    "This jupyter-notebook tutorial refer to:\n",
    "\n",
    "> `morphoscanner` branch: `v0.0.2`\n",
    "\n",
    "The aim of this tutorial is to guide the user through `morphoscanner` library workflow.\n",
    "\n",
    "We performed our Molecular Dynamics simulations using the `GROMACS` software and the `Martini CG Force Field v2.2`."
   ]
  },
  {
   "cell_type": "markdown",
   "metadata": {},
   "source": [
    "### Import morphoscanner"
   ]
  },
  {
   "cell_type": "code",
   "execution_count": 1,
   "metadata": {},
   "outputs": [],
   "source": [
    "import morphoscanner as ms"
   ]
  },
  {
   "cell_type": "markdown",
   "metadata": {},
   "source": [
    "### Check for CUDA device\n",
    "If `True`, the system is correctly configured to run on GPU.\n",
    "\n",
    "If `False`, `morphoscanner` will run in parallel on the CPU."
   ]
  },
  {
   "cell_type": "code",
   "execution_count": 2,
   "metadata": {},
   "outputs": [
    {
     "data": {
      "text/plain": [
       "True"
      ]
     },
     "execution_count": 2,
     "metadata": {},
     "output_type": "execute_result"
    }
   ],
   "source": [
    "import torch\n",
    "from timeit import default_timer as timer\n",
    "torch.cuda.is_available()"
   ]
  },
  {
   "cell_type": "markdown",
   "metadata": {},
   "source": [
    "### Data paths\n",
    "The following cell is used to insert the path for your MD trajectory data."
   ]
  },
  {
   "cell_type": "code",
   "execution_count": null,
   "metadata": {},
   "outputs": [],
   "source": [
    "trj_gro = '/user/home/data/sistem_conf.gro'\n",
    "trj_xtc = '/user/home/data/production.xtc'\n",
    "\n",
    "prod_gro = '/user/home/data/sistem_conf.gro'\n",
    "prod_xtc = '/user/home/data/production_part1.xtc'\n",
    "prod1_xtc = '/user/home/data/production_part2.xtc'\n",
    "\n",
    "_3perc_1_gro = '/user/home/data/final_equilibration.gro'\n",
    "_3perc_1_trr = '/user/home/data/prod.trr'\n",
    "\n",
    "_3perc_2_gro = '/user/home/data/final_equilibration1.gro'\n",
    "_3perc_2_trr = '/user/home/data/prod1.trr'\n",
    "\n",
    "_3perc_3_gro = '/user/home/data/final_equilibration2.gro'\n",
    "_3perc_3_trr = '/user/home/data/prod2.trr'"
   ]
  },
  {
   "cell_type": "code",
   "execution_count": 3,
   "metadata": {},
   "outputs": [],
   "source": [
    "### LAPTOP\n",
    "\n",
    "trj_gro = '/home/lillo/TesiCNTE/CNTE/trajectory/min-LDLK12-100mer-out-c.gro'    #laptop\n",
    "trj_xtc = '/home/lillo/TesiCNTE/CNTE/trajectory/prd-LDLK12-100mer-out-mol.xtc'  #laptop\n",
    "\n",
    "prod_gro = '/home/lillo/TesiCNTE/from_cluster/prod/prod_part1/min.gro'            # laptop\n",
    "prod_xtc = '/home/lillo/TesiCNTE/from_cluster/prod/prod_part1/prod.xtc'           # laptop\n",
    "prod1_xtc = '/home/lillo/TesiCNTE/from_cluster/prod/prod_part2/prod-compl.xtc'    # laptop\n",
    "\n",
    "glac_3perc_1_gro = '/home/lillo/TesiCNTE/from_cluster/glicosilati_6bis/6bis-GlAC/3perc/6bis-GLAC/equilibration-2/eq-2-out.gro'\n",
    "glac_3perc_1_trr = '/home/lillo/TesiCNTE/from_cluster/glicosilati_6bis/6bis-GlAC/3perc/6bis-GLAC/production/prd-6bis-GLAC-40mer-3per-out.trr'\n",
    "\n",
    "glac_3perc_2_gro = '/home/lillo/TesiCNTE/from_cluster/glicosilati_6bis/6bis-GlAC/3perc/6bis-GLAC-2/equilibration-2/eq-2-out.gro'\n",
    "glac_3perc_2_trr = '/home/lillo/TesiCNTE/from_cluster/glicosilati_6bis/6bis-GlAC/3perc/6bis-GLAC-2/production/prd-6bis-40mer-3per-out.trr'\n",
    "\n",
    "glac_3perc_3_gro = '/home/lillo/TesiCNTE/from_cluster/glicosilati_6bis/6bis-GlAC/3perc/6bis-GLAC-3/equilibration-2/eq-2-out.gro'\n",
    "glac_3perc_3_trr = '/home/lillo/TesiCNTE/from_cluster/glicosilati_6bis/6bis-GlAC/3perc/6bis-GLAC-3/production/prd-6bis-GLAC-40mer-3per-out.trr'\n"
   ]
  },
  {
   "cell_type": "markdown",
   "metadata": {},
   "source": [
    "## Single trajectory analysis\n",
    "The class `morphoscanner.trajectory.trajectory()` instantiate the class instance `trajectory()`, that is responsible to perform the analysis on an MD trajectory.\n",
    "\n",
    "The instance `trajectory()` contains the results of the analysis, and the capability to visualize the computed data.\n"
   ]
  },
  {
   "cell_type": "markdown",
   "metadata": {},
   "source": [
    "The `trajectory()` class need few arguments to be instantiated and start the analysis:\n",
    "\n",
    "- _sys_config : `str`\n",
    "  - file path of the initial configuration of the system (.gro file for GROMACS)\n",
    "  \n",
    "- _sys_traj : `str`\n",
    "  - file path of the trajectory file (or files) (.xtc or .trr in GROMACS)\n",
    "  \n",
    "- select : `list(str)`, optional\n",
    "  - The *parameter* `select` let you choose which atoms to parse. These are the atoms that will be used to perform the analysis. Atoms definitions are taken from the `Martini FF v2.2` and are found in the module `ms.molnames.constituents`. Default value is `select = ['aminoacids']`, that will select all the aminoacids ***alpha-carbon*** atoms.\n",
    "  \n",
    "`select = ['aminoacids']` will select the following atoms:\n",
    ">`ms.molnames.aminoacids_list`\\\n",
    "\\\n",
    "['GLY',\n",
    " 'ALA',\n",
    " 'CYS',\n",
    " 'VAL',\n",
    " 'LEU',\n",
    " 'ILE',\n",
    " 'MET',\n",
    " 'PRO',\n",
    " 'ASN',\n",
    " 'GLN',\n",
    " 'ASP',\n",
    " 'ASP0',\n",
    " 'GLU',\n",
    " 'GLU0',\n",
    " 'THR',\n",
    " 'SER',\n",
    " 'LYS',\n",
    " 'LYS0',\n",
    " 'ARG',\n",
    " 'ARG0',\n",
    " 'HIS',\n",
    " 'HISH',\n",
    " 'PHE',\n",
    " 'TYR',\n",
    " 'TRP',\n",
    " 'BTNr4']\n",
    "\n",
    "`'aminoacids'` can be changed with one of the `ms.molnames.costituents.keys()` to select other atom types:"
   ]
  },
  {
   "cell_type": "code",
   "execution_count": null,
   "metadata": {},
   "outputs": [],
   "source": [
    "folding['pace_helix'] = pace_helix\n",
    "    foldims.molnames.costituents.keys()"
   ]
  },
  {
   "cell_type": "markdown",
   "metadata": {},
   "source": [
    "When instantiated, `trajectory()` will report exploratory data on the MD trajectory, like the number of frames in the system, the number of peptides in the system, with the name *Peptides*, and their number of aminoacids, called *Length*.\n",
    "\n",
    "Ther output of an MD trajectory of 151 frames, of a system of 10 peptides of 96 aminoacids each, and 20 peptides of 12 aminoacids each will look like:\n",
    ">In your trajectory there are 151 frames.\\\n",
    "Length: 96, Peptides: 10\\\n",
    "Length: 12, Peptides: 20\n"
   ]
  },
  {
   "cell_type": "code",
   "execution_count": 4,
   "metadata": {},
   "outputs": [
    {
     "name": "stdout",
     "output_type": "stream",
     "text": [
      "In your trajectory there are 1001 frames.\n",
      "\n",
      "Length: 21, Peptides: 40\n",
      "In your trajectory there are 1001 frames.\n",
      "\n",
      "Length: 21, Peptides: 40\n",
      "In your trajectory there are 1001 frames.\n",
      "\n",
      "Length: 21, Peptides: 40\n"
     ]
    }
   ],
   "source": [
    "a = ms.trajectory.trajectory(glac_3perc_1_gro, glac_3perc_1_trr, select=['aminoacids'])\n",
    "b = ms.trajectory.trajectory(glac_3perc_2_gro, glac_3perc_2_trr, select=['aminoacids'])\n",
    "c = ms.trajectory.trajectory(glac_3perc_3_gro, glac_3perc_3_trr, select=['aminoacids'])\n",
    "#trj_prod = ms.trajectory.trajectory(prod_gro, (prod_xtc, prod1_xtc))\n",
    "#trj_mix = ms.trajectory.trajectory(trj_gro, trj_xtc)"
   ]
  },
  {
   "cell_type": "markdown",
   "metadata": {},
   "source": [
    "### There are data in the instantiated object\n",
    "After the loading of an MD trajectory is completed, you will have access to some data on the trajectory itself, and to the `MDAnalysis.Universe()` ([here](https://www.mdanalysis.org/MDAnalysisTutorial/basics.html) the docs), that is used as our MD trajectory parser.\n",
    "\n",
    "The available *attribute* of the instatiated object are:"
   ]
  },
  {
   "cell_type": "markdown",
   "metadata": {},
   "source": [
    "##### number_of_frames\n",
    "Is the number of frame, or timesteps, of the loaded MD trajectory."
   ]
  },
  {
   "cell_type": "code",
   "execution_count": null,
   "metadata": {},
   "outputs": [],
   "source": [
    "a.number_of_frames"
   ]
  },
  {
   "cell_type": "markdown",
   "metadata": {},
   "source": [
    " "
   ]
  },
  {
   "cell_type": "markdown",
   "metadata": {},
   "source": [
    "##### len_dict\n",
    "Is a `dict()` that has as `key : value` pairs where the `key` is the number of aminoacids, and the `value` is the number of peptides in the system that contain `key` aminoacids.\n",
    "\n",
    "In a system with 40 pedides of 21 aminoacid each, the output will be:\n",
    ">{21: 40}"
   ]
  },
  {
   "cell_type": "code",
   "execution_count": null,
   "metadata": {},
   "outputs": [],
   "source": [
    "a.len_dict"
   ]
  },
  {
   "cell_type": "markdown",
   "metadata": {},
   "source": [
    " "
   ]
  },
  {
   "cell_type": "markdown",
   "metadata": {},
   "source": [
    "##### peptide_length_list\n",
    "Is a `list()` of `int`, where each entry is the number of aminoacids of a peptide in the system, starting from the first peptide in the system (starting from the top of the `.gro` file).\n",
    "\n",
    "The system above, with 40 peptides of 21 aminoacids each will look like:\n",
    "> [21,\n",
    " 21,\n",
    " 21,\n",
    " 21,\n",
    " 21,\n",
    " 21,\n",
    " 21,\n",
    " 21,\n",
    " 21,\n",
    " 21,\n",
    " 21,\n",
    " 21,\n",
    " 21,\n",
    " 21,\n",
    " 21,\n",
    " 21,\n",
    " 21,\n",
    " 21,\n",
    " 21,\n",
    " 21,\n",
    " 21,\n",
    " 21,\n",
    " 21,\n",
    " 21,\n",
    " 21,\n",
    " 21,\n",
    " 21,\n",
    " 21,\n",
    " 21,\n",
    " 21,\n",
    " 21,\n",
    " 21,\n",
    " 21,\n",
    " 21,\n",
    " 21,\n",
    " 21,\n",
    " 21,\n",
    " 21,\n",
    " 21,\n",
    " 21]"
   ]
  },
  {
   "cell_type": "code",
   "execution_count": null,
   "metadata": {
    "scrolled": true
   },
   "outputs": [],
   "source": [
    "a.peptide_length_list"
   ]
  },
  {
   "cell_type": "markdown",
   "metadata": {},
   "source": [
    " "
   ]
  },
  {
   "cell_type": "markdown",
   "metadata": {},
   "source": [
    "##### universe\n",
    "`universe` is just the `MDAnalysis.Universe()` exposed. You can refer to the MDAnalysis docs for further information."
   ]
  },
  {
   "cell_type": "code",
   "execution_count": null,
   "metadata": {},
   "outputs": [],
   "source": [
    "a.universe"
   ]
  },
  {
   "cell_type": "markdown",
   "metadata": {},
   "source": [
    " "
   ]
  },
  {
   "cell_type": "markdown",
   "metadata": {},
   "source": [
    "##### select\n",
    "`select` is the group of atom that you selected for parsing and analysis when the `trajectory()` was instantiated."
   ]
  },
  {
   "cell_type": "code",
   "execution_count": null,
   "metadata": {},
   "outputs": [],
   "source": [
    "a.select"
   ]
  },
  {
   "cell_type": "markdown",
   "metadata": {},
   "source": [
    " "
   ]
  },
  {
   "cell_type": "markdown",
   "metadata": {},
   "source": [
    "### Trajectory exploration\n",
    "The exploratory step is needed to initializate a trajectory. It gives the possibility to give a look to the trajectory before to start the analysis.\n",
    "\n",
    "If the exploration is succesful, a message will be reported, as:\n",
    "> Exploration of frame 0 done.\n"
   ]
  },
  {
   "cell_type": "code",
   "execution_count": 5,
   "metadata": {},
   "outputs": [
    {
     "name": "stdout",
     "output_type": "stream",
     "text": [
      "Exploration of frame 0 done.\n",
      "\n",
      "Exploration of frame 0 done.\n",
      "\n",
      "Exploration of frame 0 done.\n",
      "\n"
     ]
    }
   ],
   "source": [
    "a.explore()\n",
    "b.explore()\n",
    "c.explore()\n",
    "#trj_prod.explore()\n",
    "#trj_mix.explore()"
   ]
  },
  {
   "cell_type": "markdown",
   "metadata": {},
   "source": [
    "#### Visualize Exploratory frame\n",
    "Visualization of *frame 0* of the explored trajectory can be useful to check if the desired parsing of the peptides have been made by *morphoscanner*, and to visualize the initial configuration of the sistem.\\\n",
    "The grains of a peptide are plotted with the same color."
   ]
  },
  {
   "cell_type": "markdown",
   "metadata": {},
   "source": [
    "To enable *interactive* 3D visualization:"
   ]
  },
  {
   "cell_type": "code",
   "execution_count": null,
   "metadata": {},
   "outputs": [],
   "source": [
    "%matplotlib notebook"
   ]
  },
  {
   "cell_type": "markdown",
   "metadata": {},
   "source": [
    "To remove *interactive* 3D visualization:"
   ]
  },
  {
   "cell_type": "code",
   "execution_count": null,
   "metadata": {},
   "outputs": [],
   "source": [
    "%matplotlib inline"
   ]
  },
  {
   "cell_type": "markdown",
   "metadata": {},
   "source": [
    "To visualize a frame:"
   ]
  },
  {
   "cell_type": "code",
   "execution_count": null,
   "metadata": {
    "scrolled": false
   },
   "outputs": [],
   "source": [
    "ms.plot.plot.plot_peptide_list(a.get_frame(0))"
   ]
  },
  {
   "cell_type": "markdown",
   "metadata": {},
   "source": [
    "#### Parse frames of the trajectory\n",
    "The input MD trajectory can be analyzed on each frame (timestep). Calling `compose_database()` enable the frames sampling and parsing.\n",
    "\n",
    "`sampling_interval` is an `int`.\\\n",
    "Each frame of the trajectory has an `index` = `i` that is an `int` in ```F = [0, number_of_frame)```.\\\n",
    "If `i / sampling_interval = 0`, the frame is sampled for subsequent analysis. \\\n",
    "The sampled frames are the frames of which the index `i` is a multiple of `sampling_interval`."
   ]
  },
  {
   "cell_type": "code",
   "execution_count": 6,
   "metadata": {},
   "outputs": [
    {
     "name": "stderr",
     "output_type": "stream",
     "text": [
      "100%|██████████| 10/10 [00:00<00:00, 71.66it/s]\n",
      "100%|██████████| 10/10 [00:00<00:00, 72.99it/s]\n",
      "100%|██████████| 10/10 [00:00<00:00, 75.16it/s]\n"
     ]
    }
   ],
   "source": [
    "a.compose_database(sampling_interval=100)\n",
    "b.compose_database(sampling_interval=100)\n",
    "c.compose_database(sampling_interval=100)\n",
    "#trj_prod.compose_database(sampling_interval=50)\n",
    "#trj_mix.compose_database(sampling_interval=5)"
   ]
  },
  {
   "cell_type": "markdown",
   "metadata": {},
   "source": [
    "At this point there is an implementation detail worth discussion, because two methods are used by `morphoscanner` to parse the `MDAnalysis.Universe()` that contains all the trajectory data.\n",
    "\n",
    "We have parsed the trajectory for two times already, but using different methods. In the `explore()` step we parsed the `MDAnalysis.Universe()` using the following code:\n",
    "\n",
    "```python\n",
    "from morphoscanner import backend\n",
    "from morphoscanner.backend import trj_object\n",
    "\n",
    "def explore(self):\n",
    "    '''\n",
    "    Parse the first frame of the trajectory to gather peptide sequence, coordinates \n",
    "    and index number in the MDAnalysis.Universe(). \n",
    "    '''\n",
    "    # the frame to parse is the first frame of the trajectory \n",
    "    frame = 0\n",
    "    # instantiate the dict() that will contain the frame information\n",
    "    self.frames = {}\n",
    "    # instantiate the object 'frame'\n",
    "    self.frames[frame] = trj_object.trj_objects.frames(frame)\n",
    "    # instantiate 'peptide' object and fill with frame data\n",
    "    self.frames[frame].peptides = backend.topology.get_data_from_trajectory_frame_v2(universe=self.universe, frame=frame, select=self.select)\n",
    "    # to print when done\n",
    "    print('Exploration of frame %d done.\\n' % frame)\n",
    "\n",
    "    return  \n",
    "```\n",
    "\n",
    "With `self.frames = {}` the frames `dict()` is created to contains all the sampled frames data.\\\n",
    "Then the object `frames` is instantiated, this is just a container for each `frame` data.\\\n",
    "After the steps above, the `peptides` attribute is created in the `frame` object. `peptides` is filled with peptides data by the function `backend.topology.get_data_from_trajectory_frame_v2()`, that directly interfaces with the `MDAnalysis.Universe`, capturing the system configuration in its first frame.\n",
    "\n",
    "The collected data for each peptide of the first frame are:\n",
    "- peptide aminoacidic sequence\n",
    "- peptide atoms index\n",
    "- peptide atoms coordinate\n",
    "\n",
    "The method `compose_database` use a different logic to parse the data. This approach requires two assumption to works:\n",
    "- peptides grains do not change index in the MD trajectory.\n",
    "- peptides grains are not removed, added or substituted in the MD trajectory.\n",
    "\n",
    "We use the following code:\n",
    "\n",
    "```python\n",
    "def compose_database(self, sampling_interval=1, direct_parse=False):\n",
    "    '''\n",
    "    Sample the trajectory() frames to gather coordinates from the peptides.\n",
    "\n",
    "    The informations retrieved about the sequence and the index number of each peptide\n",
    "    are the same as the one in frame 0, already parsed with the function self.explore().\n",
    "\n",
    "    Parameters\n",
    "    ----------\n",
    "    sampling_interval : int, optional\n",
    "        If frame % sampling interval == 0, sample the frame.\n",
    "        The default is 1.\n",
    "        \n",
    "    direct_parse : bool, optional\n",
    "        Is the method used to parse atoms coordinates from MDAnalysis.Universe().\n",
    "        \n",
    "        If True, parse directly from each timestep the following information\n",
    "        from each atom:\n",
    "            - residue name, (if the parsed atom is a alpha-carbon,\n",
    "            the name is the standard three letter identifier of each aminoacid.\n",
    "            - atom index, the index of the atom in the MDAnalysis.Universe()\n",
    "            - coordinates, the x,y,z 3d coordinate of the atom\n",
    "            \n",
    "        If False, use the atom index of the first frame's atoms to parse\n",
    "        coordinates of each atom in subsequent frames.\n",
    "        residue name and atom index are the same as the first frame, parsed with\n",
    "        explore(). This method is ~ 20-30 times faster than direct parsing\n",
    "        each data from each atom in each step, but works only if atom's residue name\n",
    "        and atom index do not change in the MD trajectory analyzed.\n",
    "        \n",
    "        The default is False.\n",
    "\n",
    "    Returns\n",
    "    -------\n",
    "    None.\n",
    "\n",
    "    '''\n",
    "    # create a list that contains the trajectory step to parse\n",
    "    steps = [s for s in range(self.number_of_frames) if (s % sampling_interval)==0 and (s != 0)]\n",
    "    # for each step\n",
    "    for step in tqdm.tqdm(steps):\n",
    "        # move MDAnalysis.Universe.trajectory to the selected frame\n",
    "        self.universe.trajectory[step]\n",
    "        # create 'frame' object\n",
    "        self.frames[step] = trj_object.trj_objects.frames(step)\n",
    "        # Parse each atoms full data, slower but directly parse information from each atoms.\n",
    "        if direct_parse:\n",
    "            # instantiate 'peptide' object and fill with frame data.\n",
    "            self.frames[step].peptides = backend.topology.get_data_from_trajectory_frame_v2(universe=self.universe, frame=step, select=self.select)\n",
    "        # Parse only coordinate from each atom.\n",
    "        # this is way faster, but does not work if atom index change during the MD simulation.\n",
    "        else:\n",
    "            self.frames[step].peptides = {}\n",
    "            # for each peptide in the first frame (frame 0)\n",
    "            # (number of peptides and their composition is supposed to be the same in each step)\n",
    "            for pep in self.frames[0].peptides:\n",
    "                # instantiate a dict that will contain the information about ol the peptide in the frame\n",
    "                c_list = {}\n",
    "                # for each atom index parsed in frame 0\n",
    "                # (atoms are supposed to mantain their index in each step of the trajectory)\n",
    "                for idx, i in enumerate(self.frames[0].peptides[pep].atom_numbers.values()):\n",
    "                    # get position of atom at atom index 'i' in frame 'step' \n",
    "                    p = self.universe.atoms[i].position\n",
    "                    # add position to a dict()\n",
    "                    c_list[idx] = p\n",
    "                # create peptide object, that contains the data of each grain (atom) of the peptide\n",
    "                self.frames[step].peptides[pep] = trj_object.trj_objects.single_peptide(self.frames[0].peptides[pep].sequence,self.frames[0].peptides[pep].atom_numbers,c_list)\n",
    "\n",
    "        return\n",
    "```\n",
    "\n",
    "As can be seen in the code above, if `direct_parse` = `False`, we use the atom index of `frame 0`, parsed before with the method `explore()`, to retrive coordinates from each atom in each frame. This approach have less flexibility, but it really impact performances, as it more than 10 times faster than parsing with `backend.topology.get_data_from_trajectory_frame_v2`.\\\n",
    "The performance improvement can be seen comparing the two methods with the following code:\n"
   ]
  },
  {
   "cell_type": "markdown",
   "metadata": {},
   "source": [
    "***The same trajectory parsed with the two methods***"
   ]
  },
  {
   "cell_type": "markdown",
   "metadata": {},
   "source": [
    "Use *direct* data parsing and retrival from the `MDAnalysis.Universe()` using the function `backend.topology.get_data_from_trajectory_frame_v2`."
   ]
  },
  {
   "cell_type": "code",
   "execution_count": null,
   "metadata": {},
   "outputs": [],
   "source": [
    "%time a.compose_database(10, direct_parse=True)"
   ]
  },
  {
   "cell_type": "markdown",
   "metadata": {},
   "source": [
    "100%|██████████| 100/100 [00:26<00:00,  3.77it/s]\n",
    "\n",
    "CPU times: user 26.8 s, sys: 71.2 ms, total: 26.9 s\\\n",
    "Wall time: 26.6 s"
   ]
  },
  {
   "cell_type": "markdown",
   "metadata": {},
   "source": [
    "Use *indirect* data parsing, using *sequence* and *atom_index* from the `frame 0` atoms parsed before with the function `explore()`, and get only *coordinates*."
   ]
  },
  {
   "cell_type": "code",
   "execution_count": null,
   "metadata": {},
   "outputs": [],
   "source": [
    "%time a.compose_database(10, direct_parse=False)"
   ]
  },
  {
   "cell_type": "markdown",
   "metadata": {},
   "source": [
    "100%|██████████| 100/100 [00:01<00:00, 62.35it/s]\n",
    "\n",
    "CPU times: user 1.6 s, sys: 15.9 ms, total: 1.62 s\\\n",
    "Wall time: 1.61 s"
   ]
  },
  {
   "cell_type": "markdown",
   "metadata": {},
   "source": [
    "  "
   ]
  },
  {
   "cell_type": "markdown",
   "metadata": {},
   "source": [
    "##### After parsing\n",
    "When the trajectory dataset have been composed each sampled frame can be visualized, and the coordinates of each point is available."
   ]
  },
  {
   "cell_type": "code",
   "execution_count": null,
   "metadata": {},
   "outputs": [],
   "source": [
    "ms.plot.plot.plot_peptide_list(a.get_frame(1000))"
   ]
  },
  {
   "cell_type": "markdown",
   "metadata": {},
   "source": [
    " "
   ]
  },
  {
   "cell_type": "markdown",
   "metadata": {},
   "source": [
    "### Analysis of the sampled frames"
   ]
  },
  {
   "cell_type": "markdown",
   "metadata": {},
   "source": [
    "After the frame sampling and data retrieval each sampled frame of the system is analyzed with our algorithm, to search for the emergence of complex structures that match a beta sheets pattern.\n",
    "\n",
    "The method `analyze_inLoop()` takes as parameters:\n",
    "- `threshold` : `float`, optional\\\n",
    "    The default is `5`.\\\n",
    "    `threshold` is the longest distance at which two points *i*,*j* are considered in contact.\\\n",
    "    This means that if `ed(i,j) < threshold`, the points *i* and *j* are contacting.\\\n",
    "    `ed` is the *euclidean distance*.\n",
    "-  `threshold_multiplier` : `float`, optional\n",
    "    The default is `1.5`.\n",
    "    `threshold_multiplier` is a factor used to multiply the calculated threshold distance for contact recognition.\\\n",
    "    The parameter `threshold_multipier` is overwritten if `threshold` is passed as parameters.\n",
    "-   `device` : str, optional\\\n",
    "    The device on which the data are saved and the analysis is computed.\\\n",
    "    The option are:\n",
    "    - `cpu`, to perform parallelization on cpu,\n",
    "    - `cuda`, to performe parallelization on CUDA compatible device, usually Nvidia GPUs.\\\n",
    "    \\\n",
    "    The default is `cpu`.\n"
   ]
  },
  {
   "cell_type": "code",
   "execution_count": 7,
   "metadata": {},
   "outputs": [
    {
     "name": "stdout",
     "output_type": "stream",
     "text": [
      "processing started...\n",
      "\n",
      "Analyzing frame n°  0\n",
      "Time to compute distance is:  0.13345138800013956 seconds.\n"
     ]
    },
    {
     "name": "stderr",
     "output_type": "stream",
     "text": [
      "100%|██████████| 1/1 [00:00<00:00, 3956.89it/s]\n"
     ]
    },
    {
     "name": "stdout",
     "output_type": "stream",
     "text": [
      "Time to denoise:  0.23720005200084415 seconds.\n",
      "Finished analysis of frame n° 0\n",
      "Time needed to analyze frame 0 was 0.373359 seconds.\n",
      "\n",
      "Analyzing frame n°  100\n",
      "Time to compute distance is:  0.07715127200026473 seconds.\n"
     ]
    },
    {
     "name": "stderr",
     "output_type": "stream",
     "text": [
      "100%|██████████| 12/12 [00:00<00:00, 26393.10it/s]\n"
     ]
    },
    {
     "name": "stdout",
     "output_type": "stream",
     "text": [
      "Time to denoise:  0.2504389169998831 seconds.\n",
      "Finished analysis of frame n° 100\n",
      "Time needed to analyze frame 100 was 0.342928 seconds.\n",
      "\n",
      "Analyzing frame n°  200\n",
      "Time to compute distance is:  0.07182168100007402 seconds.\n"
     ]
    },
    {
     "name": "stderr",
     "output_type": "stream",
     "text": [
      "100%|██████████| 13/13 [00:00<00:00, 36157.79it/s]\n"
     ]
    },
    {
     "name": "stdout",
     "output_type": "stream",
     "text": [
      "Time to denoise:  0.24752861600063625 seconds.\n",
      "Finished analysis of frame n° 200\n",
      "Time needed to analyze frame 200 was 0.329790 seconds.\n",
      "\n",
      "Analyzing frame n°  300\n",
      "Time to compute distance is:  0.06380802999956359 seconds.\n"
     ]
    },
    {
     "name": "stderr",
     "output_type": "stream",
     "text": [
      "100%|██████████| 11/11 [00:00<00:00, 37663.14it/s]\n"
     ]
    },
    {
     "name": "stdout",
     "output_type": "stream",
     "text": [
      "Time to denoise:  0.290258250000079 seconds.\n",
      "Finished analysis of frame n° 300\n",
      "Time needed to analyze frame 300 was 0.362750 seconds.\n",
      "\n",
      "Analyzing frame n°  400\n",
      "Time to compute distance is:  0.06705982000039512 seconds.\n"
     ]
    },
    {
     "name": "stderr",
     "output_type": "stream",
     "text": [
      "100%|██████████| 15/15 [00:00<00:00, 35585.16it/s]\n"
     ]
    },
    {
     "name": "stdout",
     "output_type": "stream",
     "text": [
      "Time to denoise:  0.2549310490003336 seconds.\n",
      "Finished analysis of frame n° 400\n",
      "Time needed to analyze frame 400 was 0.343431 seconds.\n",
      "\n",
      "Analyzing frame n°  500\n",
      "Time to compute distance is:  0.06930151899996417 seconds.\n"
     ]
    },
    {
     "name": "stderr",
     "output_type": "stream",
     "text": [
      "100%|██████████| 14/14 [00:00<00:00, 39702.67it/s]\n"
     ]
    },
    {
     "name": "stdout",
     "output_type": "stream",
     "text": [
      "Time to denoise:  0.25590749100047105 seconds.\n",
      "Finished analysis of frame n° 500\n",
      "Time needed to analyze frame 500 was 0.345007 seconds.\n",
      "\n",
      "Analyzing frame n°  600\n",
      "Time to compute distance is:  0.06528057800005627 seconds.\n"
     ]
    },
    {
     "name": "stderr",
     "output_type": "stream",
     "text": [
      "100%|██████████| 18/18 [00:00<00:00, 47965.36it/s]\n"
     ]
    },
    {
     "name": "stdout",
     "output_type": "stream",
     "text": [
      "Time to denoise:  0.2646825339998031 seconds.\n",
      "Finished analysis of frame n° 600\n",
      "Time needed to analyze frame 600 was 0.344044 seconds.\n",
      "\n",
      "Analyzing frame n°  700\n",
      "Time to compute distance is:  0.07079532300031133 seconds.\n"
     ]
    },
    {
     "name": "stderr",
     "output_type": "stream",
     "text": [
      "100%|██████████| 12/12 [00:00<00:00, 29347.90it/s]\n"
     ]
    },
    {
     "name": "stdout",
     "output_type": "stream",
     "text": [
      "Time to denoise:  0.2555729780006004 seconds.\n",
      "Finished analysis of frame n° 700\n",
      "Time needed to analyze frame 700 was 0.336074 seconds.\n",
      "\n",
      "Analyzing frame n°  800\n",
      "Time to compute distance is:  0.07068582699957915 seconds.\n"
     ]
    },
    {
     "name": "stderr",
     "output_type": "stream",
     "text": [
      "100%|██████████| 11/11 [00:00<00:00, 31131.81it/s]\n"
     ]
    },
    {
     "name": "stdout",
     "output_type": "stream",
     "text": [
      "Time to denoise:  0.2555149390000224 seconds.\n",
      "Finished analysis of frame n° 800\n",
      "Time needed to analyze frame 800 was 0.336044 seconds.\n",
      "\n",
      "Analyzing frame n°  900\n",
      "Time to compute distance is:  0.07087381399924197 seconds.\n"
     ]
    },
    {
     "name": "stderr",
     "output_type": "stream",
     "text": [
      "100%|██████████| 17/17 [00:00<00:00, 43557.22it/s]\n"
     ]
    },
    {
     "name": "stdout",
     "output_type": "stream",
     "text": [
      "Time to denoise:  0.2564913770002022 seconds.\n",
      "Finished analysis of frame n° 900\n",
      "Time needed to analyze frame 900 was 0.342092 seconds.\n",
      "\n",
      "Analyzing frame n°  1000\n",
      "Time to compute distance is:  0.06371274000048288 seconds.\n"
     ]
    },
    {
     "name": "stderr",
     "output_type": "stream",
     "text": [
      "100%|██████████| 19/19 [00:00<00:00, 38572.98it/s]\n"
     ]
    },
    {
     "name": "stdout",
     "output_type": "stream",
     "text": [
      "Time to denoise:  0.260046020000118 seconds.\n",
      "Finished analysis of frame n° 1000\n",
      "Time needed to analyze frame 1000 was 0.345751 seconds.\n",
      "\n",
      "Total time to analyze dataset was 3.801688 seconds\n",
      ".\n",
      "processing started...\n",
      "\n",
      "Analyzing frame n°  0\n",
      "Time to compute distance is:  0.09750208200057386 seconds.\n"
     ]
    },
    {
     "name": "stderr",
     "output_type": "stream",
     "text": [
      "0it [00:00, ?it/s]\n"
     ]
    },
    {
     "name": "stdout",
     "output_type": "stream",
     "text": [
      "Time to denoise:  0.2773254909998286 seconds.\n",
      "Finished analysis of frame n° 0\n",
      "Time needed to analyze frame 0 was 0.375138 seconds.\n",
      "\n",
      "Analyzing frame n°  100\n",
      "Time to compute distance is:  0.07128831400041236 seconds.\n"
     ]
    },
    {
     "name": "stderr",
     "output_type": "stream",
     "text": [
      "100%|██████████| 11/11 [00:00<00:00, 31471.59it/s]\n"
     ]
    },
    {
     "name": "stdout",
     "output_type": "stream",
     "text": [
      "Time to denoise:  0.3079471230003037 seconds.\n",
      "Finished analysis of frame n° 100\n",
      "Time needed to analyze frame 100 was 0.397761 seconds.\n",
      "\n",
      "Analyzing frame n°  200\n",
      "Time to compute distance is:  0.06443722599942703 seconds.\n"
     ]
    },
    {
     "name": "stderr",
     "output_type": "stream",
     "text": [
      "100%|██████████| 19/19 [00:00<00:00, 40268.71it/s]\n"
     ]
    },
    {
     "name": "stdout",
     "output_type": "stream",
     "text": [
      "Time to denoise:  0.2567432080004437 seconds.\n",
      "Finished analysis of frame n° 200\n",
      "Time needed to analyze frame 200 was 0.342420 seconds.\n",
      "\n",
      "Analyzing frame n°  300\n",
      "Time to compute distance is:  0.07780038300006709 seconds.\n"
     ]
    },
    {
     "name": "stderr",
     "output_type": "stream",
     "text": [
      "100%|██████████| 17/17 [00:00<00:00, 43663.91it/s]\n"
     ]
    },
    {
     "name": "stdout",
     "output_type": "stream",
     "text": [
      "Time to denoise:  0.24400584000068193 seconds.\n",
      "Finished analysis of frame n° 300\n",
      "Time needed to analyze frame 300 was 0.341170 seconds.\n",
      "\n",
      "Analyzing frame n°  400\n",
      "Time to compute distance is:  0.09532627000044158 seconds.\n"
     ]
    },
    {
     "name": "stderr",
     "output_type": "stream",
     "text": [
      "100%|██████████| 10/10 [00:00<00:00, 25085.55it/s]\n"
     ]
    },
    {
     "name": "stdout",
     "output_type": "stream",
     "text": [
      "Time to denoise:  0.27421905400024116 seconds.\n",
      "Finished analysis of frame n° 400\n",
      "Time needed to analyze frame 400 was 0.381573 seconds.\n",
      "\n",
      "Analyzing frame n°  500\n",
      "Time to compute distance is:  0.07895483799984504 seconds.\n"
     ]
    },
    {
     "name": "stderr",
     "output_type": "stream",
     "text": [
      "100%|██████████| 19/19 [00:00<00:00, 48681.60it/s]\n"
     ]
    },
    {
     "name": "stdout",
     "output_type": "stream",
     "text": [
      "Time to denoise:  0.2604735940003593 seconds.\n",
      "Finished analysis of frame n° 500\n",
      "Time needed to analyze frame 500 was 0.354773 seconds.\n",
      "\n",
      "Analyzing frame n°  600\n",
      "Time to compute distance is:  0.06708770899967931 seconds.\n"
     ]
    },
    {
     "name": "stderr",
     "output_type": "stream",
     "text": [
      "100%|██████████| 14/14 [00:00<00:00, 33307.01it/s]\n"
     ]
    },
    {
     "name": "stdout",
     "output_type": "stream",
     "text": [
      "Time to denoise:  0.26550470199981646 seconds.\n",
      "Finished analysis of frame n° 600\n",
      "Time needed to analyze frame 600 was 0.349047 seconds.\n",
      "\n",
      "Analyzing frame n°  700\n",
      "Time to compute distance is:  0.08985628499976883 seconds.\n"
     ]
    },
    {
     "name": "stderr",
     "output_type": "stream",
     "text": [
      "100%|██████████| 19/19 [00:00<00:00, 13202.75it/s]\n"
     ]
    },
    {
     "name": "stdout",
     "output_type": "stream",
     "text": [
      "Time to denoise:  0.254897474000245 seconds.\n",
      "Finished analysis of frame n° 700\n",
      "Time needed to analyze frame 700 was 0.368111 seconds.\n",
      "\n",
      "Analyzing frame n°  800\n",
      "Time to compute distance is:  0.06683236899971234 seconds.\n"
     ]
    },
    {
     "name": "stderr",
     "output_type": "stream",
     "text": [
      "100%|██████████| 15/15 [00:00<00:00, 31823.25it/s]\n"
     ]
    },
    {
     "name": "stdout",
     "output_type": "stream",
     "text": [
      "Time to denoise:  0.26813273599964305 seconds.\n",
      "Finished analysis of frame n° 800\n",
      "Time needed to analyze frame 800 was 0.348601 seconds.\n",
      "\n",
      "Analyzing frame n°  900\n",
      "Time to compute distance is:  0.06495227300001716 seconds.\n"
     ]
    },
    {
     "name": "stderr",
     "output_type": "stream",
     "text": [
      "100%|██████████| 17/17 [00:00<00:00, 42241.21it/s]\n"
     ]
    },
    {
     "name": "stdout",
     "output_type": "stream",
     "text": [
      "Time to denoise:  0.25958569399972475 seconds.\n",
      "Finished analysis of frame n° 900\n",
      "Time needed to analyze frame 900 was 0.339207 seconds.\n",
      "\n",
      "Analyzing frame n°  1000\n",
      "Time to compute distance is:  0.06586132400025235 seconds.\n"
     ]
    },
    {
     "name": "stderr",
     "output_type": "stream",
     "text": [
      "100%|██████████| 17/17 [00:00<00:00, 42696.51it/s]\n"
     ]
    },
    {
     "name": "stdout",
     "output_type": "stream",
     "text": [
      "Time to denoise:  0.2660993919998873 seconds.\n",
      "Finished analysis of frame n° 1000\n",
      "Time needed to analyze frame 1000 was 0.345848 seconds.\n",
      "\n",
      "Total time to analyze dataset was 3.943978 seconds\n",
      ".\n",
      "processing started...\n",
      "\n",
      "Analyzing frame n°  0\n",
      "Time to compute distance is:  0.06446865100042487 seconds.\n"
     ]
    },
    {
     "name": "stderr",
     "output_type": "stream",
     "text": [
      "0it [00:00, ?it/s]\n"
     ]
    },
    {
     "name": "stdout",
     "output_type": "stream",
     "text": [
      "Time to denoise:  0.2413766299996496 seconds.\n",
      "Finished analysis of frame n° 0\n",
      "Time needed to analyze frame 0 was 0.306114 seconds.\n",
      "\n",
      "Analyzing frame n°  100\n",
      "Time to compute distance is:  0.06739147899952513 seconds.\n"
     ]
    },
    {
     "name": "stderr",
     "output_type": "stream",
     "text": [
      "100%|██████████| 18/18 [00:00<00:00, 46805.62it/s]\n"
     ]
    },
    {
     "name": "stdout",
     "output_type": "stream",
     "text": [
      "Time to denoise:  0.25111412400019617 seconds.\n",
      "Finished analysis of frame n° 100\n",
      "Time needed to analyze frame 100 was 0.336881 seconds.\n",
      "\n",
      "Analyzing frame n°  200\n",
      "Time to compute distance is:  0.07299227799921937 seconds.\n"
     ]
    },
    {
     "name": "stderr",
     "output_type": "stream",
     "text": [
      "100%|██████████| 13/13 [00:00<00:00, 8491.82it/s]\n"
     ]
    },
    {
     "name": "stdout",
     "output_type": "stream",
     "text": [
      "Time to denoise:  0.25412573300036456 seconds.\n",
      "Finished analysis of frame n° 200\n",
      "Time needed to analyze frame 200 was 0.338869 seconds.\n",
      "\n",
      "Analyzing frame n°  300\n",
      "Time to compute distance is:  0.069419186000232 seconds.\n"
     ]
    },
    {
     "name": "stderr",
     "output_type": "stream",
     "text": [
      "100%|██████████| 16/16 [00:00<00:00, 52062.73it/s]\n"
     ]
    },
    {
     "name": "stdout",
     "output_type": "stream",
     "text": [
      "Time to denoise:  0.2500409350004702 seconds.\n",
      "Finished analysis of frame n° 300\n",
      "Time needed to analyze frame 300 was 0.331196 seconds.\n",
      "\n",
      "Analyzing frame n°  400\n",
      "Time to compute distance is:  0.13742553400061297 seconds.\n"
     ]
    },
    {
     "name": "stderr",
     "output_type": "stream",
     "text": [
      "100%|██████████| 13/13 [00:00<00:00, 35291.88it/s]\n"
     ]
    },
    {
     "name": "stdout",
     "output_type": "stream",
     "text": [
      "Time to denoise:  0.2734455589998106 seconds.\n",
      "Finished analysis of frame n° 400\n",
      "Time needed to analyze frame 400 was 0.428840 seconds.\n",
      "\n",
      "Analyzing frame n°  500\n",
      "Time to compute distance is:  0.0726087090006331 seconds.\n"
     ]
    },
    {
     "name": "stderr",
     "output_type": "stream",
     "text": [
      "100%|██████████| 16/16 [00:00<00:00, 41020.09it/s]\n"
     ]
    },
    {
     "name": "stdout",
     "output_type": "stream",
     "text": [
      "Time to denoise:  0.2870600119995288 seconds.\n",
      "Finished analysis of frame n° 500\n",
      "Time needed to analyze frame 500 was 0.376528 seconds.\n",
      "\n",
      "Analyzing frame n°  600\n",
      "Time to compute distance is:  0.09341452999979083 seconds.\n"
     ]
    },
    {
     "name": "stderr",
     "output_type": "stream",
     "text": [
      "100%|██████████| 13/13 [00:00<00:00, 25804.99it/s]\n"
     ]
    },
    {
     "name": "stdout",
     "output_type": "stream",
     "text": [
      "Time to denoise:  0.2634110389999478 seconds.\n",
      "Finished analysis of frame n° 600\n",
      "Time needed to analyze frame 600 was 0.372830 seconds.\n",
      "\n",
      "Analyzing frame n°  700\n",
      "Time to compute distance is:  0.06658147999951325 seconds.\n"
     ]
    },
    {
     "name": "stderr",
     "output_type": "stream",
     "text": [
      "100%|██████████| 16/16 [00:00<00:00, 42881.06it/s]\n"
     ]
    },
    {
     "name": "stdout",
     "output_type": "stream",
     "text": [
      "Time to denoise:  0.3107645849995606 seconds.\n",
      "Finished analysis of frame n° 700\n",
      "Time needed to analyze frame 700 was 0.392274 seconds.\n",
      "\n",
      "Analyzing frame n°  800\n",
      "Time to compute distance is:  0.06561619800049812 seconds.\n"
     ]
    },
    {
     "name": "stderr",
     "output_type": "stream",
     "text": [
      "100%|██████████| 17/17 [00:00<00:00, 39048.83it/s]\n"
     ]
    },
    {
     "name": "stdout",
     "output_type": "stream",
     "text": [
      "Time to denoise:  0.2626590399995621 seconds.\n",
      "Finished analysis of frame n° 800\n",
      "Time needed to analyze frame 800 was 0.347636 seconds.\n",
      "\n",
      "Analyzing frame n°  900\n",
      "Time to compute distance is:  0.08503173200006131 seconds.\n"
     ]
    },
    {
     "name": "stderr",
     "output_type": "stream",
     "text": [
      "100%|██████████| 12/12 [00:00<00:00, 27746.22it/s]\n"
     ]
    },
    {
     "name": "stdout",
     "output_type": "stream",
     "text": [
      "Time to denoise:  0.2962295469997116 seconds.\n",
      "Finished analysis of frame n° 900\n",
      "Time needed to analyze frame 900 was 0.395631 seconds.\n",
      "\n",
      "Analyzing frame n°  1000\n",
      "Time to compute distance is:  0.0955466660007005 seconds.\n"
     ]
    },
    {
     "name": "stderr",
     "output_type": "stream",
     "text": [
      "100%|██████████| 10/10 [00:00<00:00, 22286.42it/s]"
     ]
    },
    {
     "name": "stdout",
     "output_type": "stream",
     "text": [
      "Time to denoise:  0.2639492540001811 seconds.\n",
      "Finished analysis of frame n° 1000\n",
      "Time needed to analyze frame 1000 was 0.373907 seconds.\n",
      "\n",
      "Total time to analyze dataset was 4.001024 seconds\n",
      ".\n",
      "total time was 11.747268291000182\n"
     ]
    },
    {
     "name": "stderr",
     "output_type": "stream",
     "text": [
      "\n"
     ]
    }
   ],
   "source": [
    "start = timer()\n",
    "a.analyze_inLoop(threshold=5.1, threshold_multiplier=1.5, device='cpu')\n",
    "b.analyze_inLoop(threshold=5.1, threshold_multiplier=1.5, device='cpu')\n",
    "c.analyze_inLoop(threshold=5.1, threshold_multiplier=1.5, device='cpu')\n",
    "#trj_prod.analyze_inLoop(threshold=5, device='cpu')\n",
    "#trj_mix.analyze_inLoop(threshold=5, device='cpu')\n",
    "end = timer()\n",
    "print('total time was', (end-start))"
   ]
  },
  {
   "cell_type": "markdown",
   "metadata": {},
   "source": [
    "The *parameters* of the method `analyze_inLoop()` are passed internally to the method `analysis()`, that is called on each sampled frame and performs the analysis.\n",
    "\n",
    "The `analysis()` workflow consist of the following steps:\n",
    "- `threshold` calculation, only if `threshold`=`None`\n",
    "- frame's atoms coordinates retrival from the coordinate's database\n",
    "- pairwise distance maps calculation\n",
    "- contact maps calculation, using the threshold calculated above\n",
    "- pattern recognition, analyze contact for matching with beta-sheet pattern\n",
    "- compose a graph of contacting peptide matching the beta-sheet pattern\n",
    "- search for isolated communities (cluster of peptides) in the graph\n",
    "\n",
    "Each step will be here described in its logic and implementation.\n",
    "\n",
    "#### threshold calculation\n",
    "The `threshold` is the distance used to discriminate between atoms that are involved in an interaction.\\\n",
    "The distance between points `i` and `j` is `d[i][j] = sqrt(|i^2 - j^2|)`.\\\n",
    "If `d` < `threshold`, points `i` and `j` are defined as contacting.\n",
    "\n",
    "**The `threshold` is an important parameter, because subsequent analysis steps depends on the contact found between peptides.**\n",
    "\n",
    "> Default `threshold` is 5 (Angstrom).\n",
    "\n",
    "If `threshold` == `None`, the `threshold` is calculated by `morphoscanner`.\n",
    "The calculate `threshold` distance is the median distance between all the contiguous apha-carbon median distance of each peptides aminoacid in a frame, multiplied by a `threshold_multiplier`.\n",
    "\n",
    "`threshold` is calculated as:\n",
    "> `median(median(ed(p[c], p[c+1]) for c in [0, len(p)) for each p in f)`.\\\n",
    "\\\n",
    "Where **T** is the set of the sampled frames,\\\n",
    "*f* is a frame in *T*,\\\n",
    "*p* is a peptide in *f*,\\\n",
    "*c* is an alpha-carbon in *p*,\\\n",
    "*len(p)* is the number of *c* in *p*,\\\n",
    "*ed* is the euclidean distance,\\\n",
    "*median* is the median value.\n",
    "\n",
    "The result of this calculation in our mesurements are between 3.3 and 3.5 Angstrom.\n",
    "\n",
    "Inter alpha-carbon distance can be calculated and retrieved using the function `backend.distance_tensor.sample_intrapeptide_distance()`.\n",
    "\n",
    "The above function can be used after `compose_database`. It gets as argument the `trajectory()` object on which the trajectory was composed, and `samples`, that are the number of frames to sample to get the inter alpha-carbon distance. `samples = 1` by default.\n",
    "\n",
    "In the following cell we calculate the inter alpha-carbon distance for the `trajectory()` object `a` instantiated above, on 5 sampled frame."
   ]
  },
  {
   "cell_type": "code",
   "execution_count": null,
   "metadata": {},
   "outputs": [],
   "source": [
    "inter_ca_distance = ms.backend.distance_tensor.sample_intrapeptide_distance(a, samples=5)"
   ]
  },
  {
   "cell_type": "markdown",
   "metadata": {},
   "source": [
    "Plot a *probability distrubution* histogram of the calculated distances."
   ]
  },
  {
   "cell_type": "code",
   "execution_count": null,
   "metadata": {},
   "outputs": [],
   "source": [
    "import matplotlib.pyplot as plt\n",
    "data = plt.hist(inter_ca_distance,bins=20,density=True)"
   ]
  },
  {
   "cell_type": "markdown",
   "metadata": {},
   "source": [
    "Calculate 95% confidence interval and median of computed distances:"
   ]
  },
  {
   "cell_type": "code",
   "execution_count": null,
   "metadata": {},
   "outputs": [],
   "source": [
    "import numpy as np\n",
    "low, high = np.percentile(inter_ca_distance, (2.5, 97.5))\n",
    "median = np.percentile(inter_ca_distance, (50))\n",
    "print('95% confidence interval is between', low, 'and', high,'Angstrom.\\n')\n",
    "print('median distance is', median,'Angstrom.\\n')"
   ]
  },
  {
   "cell_type": "markdown",
   "metadata": {},
   "source": [
    "The `threshold` is calculated only in the fist step of the trajectory, then is saved as an attribute of the `trajectory()` object, and used for all the frame contacts calculation.\n",
    "\n",
    "With `a` as `trajectory()` class instance, the `threshold` used for the analysis is accessible at `a.contact_threshold`"
   ]
  },
  {
   "cell_type": "markdown",
   "metadata": {},
   "source": [
    "#### frame's atoms coordinates retrival\n",
    "\n",
    "Frame's coordinate are retrieved from the database using the class method `get_frame()`.\n",
    "This method can be used to retrieve a specific sampled frame from the `trajectory()` class instance. If `a` is a `trajectory()` class instance:\\\n",
    "`a.get_frame(frame)` return a `dict` that contains all the frame's atoms coordinates. `frame` must be an int specifying one of the frames sampled by the method `compose_database()`. The sampled frames are the `key` of the `trajectory()` instance attribute `frames`.\n",
    "Is possible to ask for the sampled frame using:\\\n",
    "`a.frames.keys()`."
   ]
  },
  {
   "cell_type": "markdown",
   "metadata": {},
   "source": [
    "#### pairwise distance maps and contacts maps calculation\n",
    "To perform our analysis we need to undestand how peptides interact with each other.\\\n",
    "To obtain the **distance maps** that are used to track peptides motion through the trajectory, we compute the *euclidean distance* between each pair of atoms for each frame in the MD trajectory.\\\n",
    "From the *euclidean distance* calculation we obtain a set **D** of distance maps *d*,  that are matrix (or 2d tensors).\n",
    "\n",
    "**D** [i,j] is the matrix *d* that contains the calculated euclidean distance between two peptides *i* and *j*. Each element *d* [x,y] is the distance between atom *x* of peptide *i* and atom *y* of peptide *j*.\n",
    "\n",
    "The distance calculation is parallelized as tensor operation, thanks to `PyTorch` tensor engine. Our implementation is found in `morphoscanner.backend.distance_tensor.fast_cdist()`, and derive from Prof. Jacob R. Gardner implementation posted [here](https://github.com/pytorch/pytorch/pull/25799#issuecomment-529021810).\n",
    "\n",
    ">A concern of the current implementation is that we do not have a limit on the `torch.tensor` size on which we operate. Internal tests with synthetic datasets have shown that the memory limit depends on the user's hardware, as RAM if computed on CPUs, or VRAM if computed on GPUs. We have not encountered issues with real MD trajectory dataset, but this limitation requires attention in future development.\n",
    "\n",
    "**Contact maps** are calculated using the distance maps set **D** and the *threshold* distance above, from which we obtain the set **C**.\n",
    "\n",
    "A contacts map *c* is the matrix **C** [i,j], derived from the distance map *d* = **D** [i,j], in which each element *c* [x,y] is:\n",
    ">1 if *d* [x,y] < *threshold*.\\\n",
    "0 if *d* [x,y] > *threshold*.\n",
    "\n",
    "Both distance and contacts maps are calculated with the function `morphoscanner.backend.distance_tensor.compute_distance_and_contact_maps()`,and are saved as instance attribute. With `a` as our instance, these maps are accessible under `a.frames[frame].results.distance_maps`and `a.frames[frame].results.contact_maps`, where `frame` is one of the sampled frames, `a.frames.keys()`."
   ]
  },
  {
   "cell_type": "markdown",
   "metadata": {},
   "source": [
    "#### pattern recognition\n",
    "`morphoscanner` main goal is to **recognize beta-sheet-like structures**.\\\n",
    "Beta-sheets consist of beta-strands connected laterally by at least two backbone hydrogen bonds, forming a pleated sheet.\\\n",
    "A beta-strand is a stretch of polypeptide chain typically 3 to 10 amino acids long with backbone in an extended conformation.\\\n",
    "Beta-strands in a beta-sheet can be *parallel* (head to head) or *antiparallel* (head to tail), depending on the respective position of the interacting peptides.\n",
    "\n",
    "To recognize beta-sheet pattern, `morphoscanner` checks for contacts using a *shift matrix library* composed for each contact map.\\\n",
    "The *shift matrix library* is composed by two set of matrix, one *parallel* and one *antiparallel*, that span all the given contact map, searching for contacts resembling the beta sheet pattern. The match between each *shift matrix* and a contact map is scored with the *Normalized Cross-Correlation Function*, and the shift matrix with the higher score is used to denoise the contact map.\\\n",
    "The denoised contact map is then selected as matching the beta-sheet pattern only if it has at least 2 contacts.\\\n",
    "At the end of the pattern recognition step, the set of denoised contact maps and a `pandas.DataFrame` containing the beta-sheet matching contacts information are given. The `pandas.DataFrame` is saved as a class instance attribute. With `a` as class instance, `a.frames[frame].results.cross_correlation` return the `pandas.DataFrame`.\\\n",
    "The dataframe contains the following information:\n",
    "- **peptide1**: the index of peptide `i` that partecipate in the contact\n",
    "- **peptide2**: the index of peptide `j` that partecipate in the contact\n",
    "- **NCC Value**: the *Normalized Cross Correlation* score between the *contact map* and best matching *shift matrix*\n",
    "- **shift index**: the index of the best matching *shift matrix* in the corresponding *shift matrix library*\n",
    "- **contact**: the number of contacts between the two contacting peptides\n",
    "- **sense**: the sense *parallel* pr *antiparallel* of the contact\n",
    "- **shift**: the shift between the two contacting peptides. A *shift* value of 0 means that the peptides are perfectly aligned, in an *head to head* if *sense* is parallel, or *head to tail* if the *sense* is antiparallel."
   ]
  },
  {
   "cell_type": "markdown",
   "metadata": {},
   "source": [
    "#### composing a graph\n",
    "A graph ***g*** [v,e] is composed, in which each `vertex` **v** is a peptide, and **e** is an `edge` that joints two nodes that contact with a beta sheet pattern.\\\n",
    "The graph is a `networkx.Graph()`, that can be analyzed with the tools available in the `NetworkX` library.\\\n",
    "With `a` as class instance, the graph is saved in `a.frames[frame].results.graph`.\\\n",
    "The graph composed for each sampled frame can be visualized with `a.plot_graph(frame)`. The plotted graph has visual aids to qualitatively describe the interaction between the peptides:\n",
    "- each `vertex` has a **label**, that is the index `i` of the corresponding peptide. More info on that peptide can be found in `a.frames[frame].peptide[i]`.\n",
    "- each `edge` has:\n",
    "    - **thickness**: the edge's thickness is proportional to the number of contact between the nodes joined by the edge.\n",
    "    - **color**\n",
    "        - *green*: identify parallel contacts\n",
    "        - *blue*: identify antiparallel contacts"
   ]
  },
  {
   "cell_type": "markdown",
   "metadata": {},
   "source": [
    "#### search for interacting group of peptides in the graph\n",
    "We use ***depth first search*** to cluster contacting peptides in the graph.\\\n",
    "The algorithm `nx.algorithms.traversal.depth_first_search.dfs_tree()` is implemented in the class method `morphoscanner.backend.graph.find_subgraph()`. The search output is saved as a `list()` **l** of `list()` **c**.\\\n",
    "Each element *e* of cluster **c** is the index of a peptide in graph **g**. Clusters **c** in **l** are ordered from the biggest to the smaller."
   ]
  },
  {
   "cell_type": "markdown",
   "metadata": {},
   "source": [
    "### Recover Data after the analysis"
   ]
  },
  {
   "cell_type": "code",
   "execution_count": 8,
   "metadata": {},
   "outputs": [],
   "source": [
    "a.get_data()\n",
    "b.get_data()\n",
    "c.get_data()\n",
    "#trj_prod.get_data()\n",
    "#trj_mix.get_data()"
   ]
  },
  {
   "cell_type": "markdown",
   "metadata": {},
   "source": [
    "The method `get_data()` run a set of other methods that recover data from the analysis. Additional class attributes are created.\\\n",
    "The obtained data are saved in `pandas.DataFrame`, reachable from `a.database`.\\\n",
    "In `a.database` there is a row for each sampled and analyzed timestep (or frame) of the trajectory. For each sampled timestep, the following data are saved in separate columns:\n",
    "- **n° of peptides in macroaggragate**:\\\n",
    "    is an ordered descending `list()` in which each element is the number of peptide found in a peptide cluster\n",
    "- **parallel**:\\\n",
    "    is an `int`, the number of parallel contact in that timestep\n",
    "- **antiparallel**:\\\n",
    "    is an `int`, the number of antiparallel contact in that timestep\n",
    "- **n° of macroaggregate**:\\\n",
    "    is an `int`, the number of clusters in the frame. Is equal to **len(*n° of peptides in macroaggragate*)**.\n",
    "- There are then a number of other columns, in which the label in an `int` from 0 to *N* that depends on the number *N* of peptides cluster found in that frame. If clusters are found, the corresponding columns contains a `dict()` with the `key:value`:\n",
    "    - *parallel* : `int`\n",
    "    - *antiparallel* : `int`\n",
    "    \n",
    "  In which the `int` value define the number of *parallel* or *antiparallel* contacts on that cluster."
   ]
  },
  {
   "cell_type": "code",
   "execution_count": null,
   "metadata": {},
   "outputs": [],
   "source": [
    "a.database"
   ]
  },
  {
   "cell_type": "markdown",
   "metadata": {},
   "source": [
    "### Data Visualization"
   ]
  },
  {
   "cell_type": "markdown",
   "metadata": {},
   "source": [
    "The instance of the class `morphoscanner.tajectory.trajectory()` has a set of methods to visualize the data obtained from the analysis. "
   ]
  },
  {
   "cell_type": "markdown",
   "metadata": {},
   "source": [
    "#### plot_frame_aggregate(frame=`int`)\n",
    "Plot the frame with a color code that identify the sense of the majority of contacts in an cluster.\n",
    "- **Grey**: no contact,\n",
    "- **Green**: majority of parallel contacts,\n",
    "- **Blue**: majority of antparallel contacts,\n",
    "- **Yellow**: equal number of parallel and antiparallel contacts"
   ]
  },
  {
   "cell_type": "code",
   "execution_count": null,
   "metadata": {
    "scrolled": true
   },
   "outputs": [],
   "source": [
    "a.plot_frame_aggregate(1000)"
   ]
  },
  {
   "cell_type": "markdown",
   "metadata": {},
   "source": [
    "#### plot_graph(frame=`int`):\n",
    "Visualize the graph of the selected `frame`, with visual information about number of contacts between peptides and sense of the contacts:\n",
    "\n",
    "- **Edge thickness** scale with the number of contacts between two contacting peptides.\n",
    "- **Green** edges are parallel contacts.\n",
    "- **Blue** edges are antiparallel contacts.\n"
   ]
  },
  {
   "cell_type": "code",
   "execution_count": null,
   "metadata": {},
   "outputs": [],
   "source": [
    "a.plot_graph(1000)"
   ]
  },
  {
   "cell_type": "markdown",
   "metadata": {},
   "source": [
    "#### plot_contacts(kind='cubic')\n",
    "Plot the ratio `antiparallel contacts` / `total contact` for each sampled timestep (or frame).\\\n",
    "`kind` Is the kind of interpolation used to plot the data. The same as `scipy.interpolate.interp1()`"
   ]
  },
  {
   "cell_type": "code",
   "execution_count": null,
   "metadata": {},
   "outputs": [],
   "source": [
    "a.plot_contacts()"
   ]
  },
  {
   "cell_type": "markdown",
   "metadata": {},
   "source": [
    "#### plot_peptides_in_beta(kind='cubic'):\n",
    "Plot the ratio `peptide in beta` / `total peptide` for each sampled timestep (or frame)."
   ]
  },
  {
   "cell_type": "code",
   "execution_count": null,
   "metadata": {},
   "outputs": [],
   "source": [
    "a.plot_peptides_in_beta()"
   ]
  },
  {
   "cell_type": "markdown",
   "metadata": {},
   "source": [
    "#### plot_aggregates(kind='cubic'):\n",
    "Plot `the number of macroaggregates` or clusters for each sampled timestep (or frame)."
   ]
  },
  {
   "cell_type": "code",
   "execution_count": null,
   "metadata": {},
   "outputs": [],
   "source": [
    "a.plot_aggregates()"
   ]
  },
  {
   "cell_type": "markdown",
   "metadata": {},
   "source": [
    "#### plot3d\n",
    "The distribution of **shift values** during the trajectory can be visualized with three separate methods, one for each type of shift:\n",
    "- plot3d_parallel():\n",
    "- plot3d_antiparallel_negative()\n",
    "- plot3d_antiparallel_positive()"
   ]
  },
  {
   "cell_type": "code",
   "execution_count": null,
   "metadata": {},
   "outputs": [],
   "source": [
    "a.plot3d_parallel()"
   ]
  },
  {
   "cell_type": "code",
   "execution_count": null,
   "metadata": {},
   "outputs": [],
   "source": [
    "a.plot3d_antiparallel_negative()"
   ]
  },
  {
   "cell_type": "code",
   "execution_count": null,
   "metadata": {},
   "outputs": [],
   "source": [
    "a.plot3d_antiparallel_positive()"
   ]
  },
  {
   "cell_type": "markdown",
   "metadata": {},
   "source": [
    "#### 3d Plot a distance map"
   ]
  },
  {
   "cell_type": "code",
   "execution_count": null,
   "metadata": {
    "scrolled": true
   },
   "outputs": [],
   "source": [
    "a.plot_3d_distance_map(frame=1000,i=35,j=19)"
   ]
  },
  {
   "cell_type": "markdown",
   "metadata": {},
   "source": [
    "#### Visualize peptides"
   ]
  },
  {
   "cell_type": "code",
   "execution_count": null,
   "metadata": {},
   "outputs": [],
   "source": [
    "ms.plot.plot.plot_peptide_list(a.get_frame(1000), [35,19])"
   ]
  },
  {
   "cell_type": "markdown",
   "metadata": {},
   "source": [
    "## Multi trajectory analysis\n",
    "\n",
    "The module `morphoscanner.analysis()` can be used to compute statistics on multiple `trajectory()` class instances. The following data can be visualized:\n",
    "- **Aggregation Order**: the number of clusters emerging during the MD trajectory\n",
    "- **Beta-sheet alignment**: the ratio *antiparallel contacts* / *total contacts*\n",
    "- **Fraction of peptides that form Bete-sheets**: the ratio *contacting peptides* / *total peptides*\n",
    "- **Peptides shift**: shift distribution average of the studied trajectories\n",
    "    - *Parallel*\n",
    "    - *Antiparallel Positive*\n",
    "    - *Antiparallel Negative*\n"
   ]
  },
  {
   "cell_type": "markdown",
   "metadata": {},
   "source": [
    "#### Aggregation order"
   ]
  },
  {
   "cell_type": "code",
   "execution_count": null,
   "metadata": {},
   "outputs": [],
   "source": [
    "ms.analysis.plot_aggregates_average([a], label='a')\n",
    "ms.analysis.plot_aggregates_average([b], label='b')\n",
    "ms.analysis.plot_aggregates_average([c], label='c')\n",
    "ms.analysis.plot_aggregates_average([a,b,c], label='mean')"
   ]
  },
  {
   "cell_type": "markdown",
   "metadata": {},
   "source": [
    "#### Beta sheet aligment"
   ]
  },
  {
   "cell_type": "code",
   "execution_count": null,
   "metadata": {},
   "outputs": [],
   "source": [
    "ms.analysis.plot_contacts_average([a], label='a')\n",
    "ms.analysis.plot_contacts_average([b], label='b')\n",
    "ms.analysis.plot_contacts_average([c], label='c')\n",
    "ms.analysis.plot_contacts_average([a,b,c], label='mean')"
   ]
  },
  {
   "cell_type": "markdown",
   "metadata": {},
   "source": [
    "#### Fraction of peptides that forms beta sheets"
   ]
  },
  {
   "cell_type": "code",
   "execution_count": null,
   "metadata": {},
   "outputs": [],
   "source": [
    "ms.analysis.plot_beta_average([a], label='a')\n",
    "ms.analysis.plot_beta_average([b], label='b')\n",
    "ms.analysis.plot_beta_average([c], label='c')\n",
    "ms.analysis.plot_beta_average([a,b,c], label='mean')"
   ]
  },
  {
   "cell_type": "markdown",
   "metadata": {},
   "source": [
    "#### Parallel shift"
   ]
  },
  {
   "cell_type": "code",
   "execution_count": null,
   "metadata": {},
   "outputs": [],
   "source": [
    "ms.analysis.plot_3d_parallel_average([a,b,c])"
   ]
  },
  {
   "cell_type": "markdown",
   "metadata": {},
   "source": [
    "#### Antiparallel positive shift"
   ]
  },
  {
   "cell_type": "code",
   "execution_count": null,
   "metadata": {},
   "outputs": [],
   "source": [
    "ms.analysis.plot_3d_antiparallel_positive_average([a,b,c])"
   ]
  },
  {
   "cell_type": "markdown",
   "metadata": {},
   "source": [
    "#### Antiparallel negative shift"
   ]
  },
  {
   "cell_type": "code",
   "execution_count": null,
   "metadata": {},
   "outputs": [],
   "source": [
    "ms.analysis.plot_3d_antiparallel_negative_average([a,b,c])"
   ]
  },
  {
   "cell_type": "code",
   "execution_count": null,
   "metadata": {},
   "outputs": [],
   "source": []
  },
  {
   "cell_type": "markdown",
   "metadata": {},
   "source": [
    "#### Calculate helix score for a single sampled frame"
   ]
  },
  {
   "cell_type": "code",
   "execution_count": null,
   "metadata": {},
   "outputs": [],
   "source": [
    "a.calculate_helix_score_for_frame(0)"
   ]
  },
  {
   "cell_type": "markdown",
   "metadata": {},
   "source": [
    "The results of the helix score calulation are saved in the `result` object of the selected frame."
   ]
  },
  {
   "cell_type": "code",
   "execution_count": null,
   "metadata": {},
   "outputs": [],
   "source": [
    "a.frames[0].results.helix_score"
   ]
  },
  {
   "cell_type": "code",
   "execution_count": null,
   "metadata": {},
   "outputs": [],
   "source": []
  },
  {
   "cell_type": "markdown",
   "metadata": {},
   "source": [
    "#### Calculate the helix score for each sampled frame of the trajectory"
   ]
  },
  {
   "cell_type": "code",
   "execution_count": 9,
   "metadata": {},
   "outputs": [],
   "source": [
    "a.helix_score()"
   ]
  },
  {
   "cell_type": "markdown",
   "metadata": {},
   "source": [
    "The results of the helix score calulation are saved in the `result` object of each frame."
   ]
  },
  {
   "cell_type": "code",
   "execution_count": 10,
   "metadata": {},
   "outputs": [
    {
     "data": {
      "text/plain": [
       "{0: {'pace_helix': 2.5,\n",
       "  'n_carbonalpha': 2,\n",
       "  'perc_alpha': 9.523809523809524,\n",
       "  'length_beta': 0.0,\n",
       "  'n_carbonbeta': 1,\n",
       "  'perc_beta': 4.761904761904762,\n",
       "  'explored_alpha': array([18., 20.]),\n",
       "  'explored_beta': array([19.])},\n",
       " 1: {'pace_helix': 4.75,\n",
       "  'n_carbonalpha': 4,\n",
       "  'perc_alpha': 19.047619047619047,\n",
       "  'length_beta': 0.0,\n",
       "  'n_carbonbeta': 1,\n",
       "  'perc_beta': 4.761904761904762,\n",
       "  'explored_alpha': array([15., 16., 17., 18.]),\n",
       "  'explored_beta': array([19.])},\n",
       " 2: {'pace_helix': 0.0,\n",
       "  'n_carbonalpha': 1,\n",
       "  'perc_alpha': 4.761904761904762,\n",
       "  'length_beta': 0,\n",
       "  'n_carbonbeta': 0,\n",
       "  'perc_beta': 0.0,\n",
       "  'explored_alpha': array([19.]),\n",
       "  'explored_beta': array([], dtype=float64)},\n",
       " 3: {'pace_helix': 2.8333333333333335,\n",
       "  'n_carbonalpha': 3,\n",
       "  'perc_alpha': 14.285714285714285,\n",
       "  'length_beta': 0.0,\n",
       "  'n_carbonbeta': 1,\n",
       "  'perc_beta': 4.761904761904762,\n",
       "  'explored_alpha': array([17., 19., 20.]),\n",
       "  'explored_beta': array([18.])},\n",
       " 4: {'pace_helix': 3.25,\n",
       "  'n_carbonalpha': 4,\n",
       "  'perc_alpha': 19.047619047619047,\n",
       "  'length_beta': 0,\n",
       "  'n_carbonbeta': 0,\n",
       "  'perc_beta': 0.0,\n",
       "  'explored_alpha': array([14., 15., 16., 19.]),\n",
       "  'explored_beta': array([], dtype=float64)},\n",
       " 5: {'pace_helix': 2.5,\n",
       "  'n_carbonalpha': 3,\n",
       "  'perc_alpha': 14.285714285714285,\n",
       "  'length_beta': 0,\n",
       "  'n_carbonbeta': 0,\n",
       "  'perc_beta': 0.0,\n",
       "  'explored_alpha': array([14., 17., 20.]),\n",
       "  'explored_beta': array([], dtype=float64)},\n",
       " 6: {'pace_helix': 4.458333333333333,\n",
       "  'n_carbonalpha': 4,\n",
       "  'perc_alpha': 19.047619047619047,\n",
       "  'length_beta': 2.0,\n",
       "  'n_carbonbeta': 2,\n",
       "  'perc_beta': 9.523809523809524,\n",
       "  'explored_alpha': array([14., 16., 17., 20.]),\n",
       "  'explored_beta': array([15., 19.])},\n",
       " 7: {'pace_helix': 1.5,\n",
       "  'n_carbonalpha': 2,\n",
       "  'perc_alpha': 9.523809523809524,\n",
       "  'length_beta': 8.125,\n",
       "  'n_carbonbeta': 4,\n",
       "  'perc_beta': 19.047619047619047,\n",
       "  'explored_alpha': array([15., 16.]),\n",
       "  'explored_beta': array([17., 18., 19., 20.])},\n",
       " 8: {'pace_helix': 3.8583333333333334,\n",
       "  'n_carbonalpha': 5,\n",
       "  'perc_alpha': 23.809523809523807,\n",
       "  'length_beta': 0,\n",
       "  'n_carbonbeta': 0,\n",
       "  'perc_beta': 0.0,\n",
       "  'explored_alpha': array([15., 17., 18., 19., 20.]),\n",
       "  'explored_beta': array([], dtype=float64)},\n",
       " 9: {'pace_helix': 3.7083333333333335,\n",
       "  'n_carbonalpha': 4,\n",
       "  'perc_alpha': 19.047619047619047,\n",
       "  'length_beta': 0.0,\n",
       "  'n_carbonbeta': 1,\n",
       "  'perc_beta': 4.761904761904762,\n",
       "  'explored_alpha': array([15., 16., 18., 19.]),\n",
       "  'explored_beta': array([20.])},\n",
       " 10: {'pace_helix': 0,\n",
       "  'n_carbonalpha': 0,\n",
       "  'perc_alpha': 0.0,\n",
       "  'length_beta': 0,\n",
       "  'n_carbonbeta': 0,\n",
       "  'perc_beta': 0.0,\n",
       "  'explored_alpha': array([], dtype=float64),\n",
       "  'explored_beta': array([], dtype=float64)},\n",
       " 11: {'pace_helix': 2.5,\n",
       "  'n_carbonalpha': 2,\n",
       "  'perc_alpha': 9.523809523809524,\n",
       "  'length_beta': 0.0,\n",
       "  'n_carbonbeta': 1,\n",
       "  'perc_beta': 4.761904761904762,\n",
       "  'explored_alpha': array([16., 17.]),\n",
       "  'explored_beta': array([18.])},\n",
       " 12: {'pace_helix': 1.5,\n",
       "  'n_carbonalpha': 2,\n",
       "  'perc_alpha': 9.523809523809524,\n",
       "  'length_beta': 2.5,\n",
       "  'n_carbonbeta': 2,\n",
       "  'perc_beta': 9.523809523809524,\n",
       "  'explored_alpha': array([14., 15.]),\n",
       "  'explored_beta': array([16., 17.])},\n",
       " 13: {'pace_helix': 0.0,\n",
       "  'n_carbonalpha': 1,\n",
       "  'perc_alpha': 4.761904761904762,\n",
       "  'length_beta': 6.666666666666667,\n",
       "  'n_carbonbeta': 3,\n",
       "  'perc_beta': 14.285714285714285,\n",
       "  'explored_alpha': array([14.]),\n",
       "  'explored_beta': array([15., 18., 19.])},\n",
       " 14: {'pace_helix': 3.1666666666666665,\n",
       "  'n_carbonalpha': 3,\n",
       "  'perc_alpha': 14.285714285714285,\n",
       "  'length_beta': 0.0,\n",
       "  'n_carbonbeta': 1,\n",
       "  'perc_beta': 4.761904761904762,\n",
       "  'explored_alpha': array([15., 16., 20.]),\n",
       "  'explored_beta': array([17.])},\n",
       " 15: {'pace_helix': 1.5,\n",
       "  'n_carbonalpha': 2,\n",
       "  'perc_alpha': 9.523809523809524,\n",
       "  'length_beta': 0,\n",
       "  'n_carbonbeta': 0,\n",
       "  'perc_beta': 0.0,\n",
       "  'explored_alpha': array([18., 20.]),\n",
       "  'explored_beta': array([], dtype=float64)},\n",
       " 16: {'pace_helix': 2.0,\n",
       "  'n_carbonalpha': 2,\n",
       "  'perc_alpha': 9.523809523809524,\n",
       "  'length_beta': 0,\n",
       "  'n_carbonbeta': 0,\n",
       "  'perc_beta': 0.0,\n",
       "  'explored_alpha': array([17., 18.]),\n",
       "  'explored_beta': array([], dtype=float64)},\n",
       " 17: {'pace_helix': 2.5,\n",
       "  'n_carbonalpha': 2,\n",
       "  'perc_alpha': 9.523809523809524,\n",
       "  'length_beta': 0.0,\n",
       "  'n_carbonbeta': 1,\n",
       "  'perc_beta': 4.761904761904762,\n",
       "  'explored_alpha': array([14., 15.]),\n",
       "  'explored_beta': array([17.])},\n",
       " 18: {'pace_helix': 2.5,\n",
       "  'n_carbonalpha': 3,\n",
       "  'perc_alpha': 14.285714285714285,\n",
       "  'length_beta': 0,\n",
       "  'n_carbonbeta': 0,\n",
       "  'perc_beta': 0.0,\n",
       "  'explored_alpha': array([15., 16., 19.]),\n",
       "  'explored_beta': array([], dtype=float64)},\n",
       " 19: {'pace_helix': 2.0,\n",
       "  'n_carbonalpha': 2,\n",
       "  'perc_alpha': 9.523809523809524,\n",
       "  'length_beta': 0.0,\n",
       "  'n_carbonbeta': 1,\n",
       "  'perc_beta': 4.761904761904762,\n",
       "  'explored_alpha': array([17., 20.]),\n",
       "  'explored_beta': array([19.])},\n",
       " 20: {'pace_helix': 3.7083333333333335,\n",
       "  'n_carbonalpha': 4,\n",
       "  'perc_alpha': 19.047619047619047,\n",
       "  'length_beta': 2.5,\n",
       "  'n_carbonbeta': 2,\n",
       "  'perc_beta': 9.523809523809524,\n",
       "  'explored_alpha': array([14., 16., 18., 19.]),\n",
       "  'explored_beta': array([15., 20.])},\n",
       " 21: {'pace_helix': 1.5,\n",
       "  'n_carbonalpha': 2,\n",
       "  'perc_alpha': 9.523809523809524,\n",
       "  'length_beta': 0,\n",
       "  'n_carbonbeta': 0,\n",
       "  'perc_beta': 0.0,\n",
       "  'explored_alpha': array([15., 17.]),\n",
       "  'explored_beta': array([], dtype=float64)},\n",
       " 22: {'pace_helix': 4.75,\n",
       "  'n_carbonalpha': 4,\n",
       "  'perc_alpha': 19.047619047619047,\n",
       "  'length_beta': 0,\n",
       "  'n_carbonbeta': 0,\n",
       "  'perc_beta': 0.0,\n",
       "  'explored_alpha': array([13., 14., 15., 16.]),\n",
       "  'explored_beta': array([], dtype=float64)},\n",
       " 23: {'pace_helix': 0.0,\n",
       "  'n_carbonalpha': 1,\n",
       "  'perc_alpha': 4.761904761904762,\n",
       "  'length_beta': 3.5,\n",
       "  'n_carbonbeta': 2,\n",
       "  'perc_beta': 9.523809523809524,\n",
       "  'explored_alpha': array([14.]),\n",
       "  'explored_beta': array([15., 17.])},\n",
       " 24: {'pace_helix': 1.5,\n",
       "  'n_carbonalpha': 2,\n",
       "  'perc_alpha': 9.523809523809524,\n",
       "  'length_beta': 0.0,\n",
       "  'n_carbonbeta': 1,\n",
       "  'perc_beta': 4.761904761904762,\n",
       "  'explored_alpha': array([17., 20.]),\n",
       "  'explored_beta': array([18.])},\n",
       " 25: {'pace_helix': 2.0,\n",
       "  'n_carbonalpha': 2,\n",
       "  'perc_alpha': 9.523809523809524,\n",
       "  'length_beta': 0.0,\n",
       "  'n_carbonbeta': 1,\n",
       "  'perc_beta': 4.761904761904762,\n",
       "  'explored_alpha': array([15., 16.]),\n",
       "  'explored_beta': array([14.])},\n",
       " 26: {'pace_helix': 2.6666666666666665,\n",
       "  'n_carbonalpha': 3,\n",
       "  'perc_alpha': 14.285714285714285,\n",
       "  'length_beta': 3.0,\n",
       "  'n_carbonbeta': 2,\n",
       "  'perc_beta': 9.523809523809524,\n",
       "  'explored_alpha': array([15., 16., 19.]),\n",
       "  'explored_beta': array([17., 18.])},\n",
       " 27: {'pace_helix': 4.0,\n",
       "  'n_carbonalpha': 3,\n",
       "  'perc_alpha': 14.285714285714285,\n",
       "  'length_beta': 0,\n",
       "  'n_carbonbeta': 0,\n",
       "  'perc_beta': 0.0,\n",
       "  'explored_alpha': array([17., 19., 20.]),\n",
       "  'explored_beta': array([], dtype=float64)},\n",
       " 28: {'pace_helix': 3.325,\n",
       "  'n_carbonalpha': 5,\n",
       "  'perc_alpha': 23.809523809523807,\n",
       "  'length_beta': 3.0,\n",
       "  'n_carbonbeta': 2,\n",
       "  'perc_beta': 9.523809523809524,\n",
       "  'explored_alpha': array([14., 15., 16., 17., 18.]),\n",
       "  'explored_beta': array([19., 20.])},\n",
       " 29: {'pace_helix': 2.6666666666666665,\n",
       "  'n_carbonalpha': 3,\n",
       "  'perc_alpha': 14.285714285714285,\n",
       "  'length_beta': 0.0,\n",
       "  'n_carbonbeta': 1,\n",
       "  'perc_beta': 4.761904761904762,\n",
       "  'explored_alpha': array([15., 17., 19.]),\n",
       "  'explored_beta': array([20.])},\n",
       " 30: {'pace_helix': 0.0,\n",
       "  'n_carbonalpha': 1,\n",
       "  'perc_alpha': 4.761904761904762,\n",
       "  'length_beta': 0,\n",
       "  'n_carbonbeta': 0,\n",
       "  'perc_beta': 0.0,\n",
       "  'explored_alpha': array([17.]),\n",
       "  'explored_beta': array([], dtype=float64)},\n",
       " 31: {'pace_helix': 0.0,\n",
       "  'n_carbonalpha': 1,\n",
       "  'perc_alpha': 4.761904761904762,\n",
       "  'length_beta': 4.0,\n",
       "  'n_carbonbeta': 3,\n",
       "  'perc_beta': 14.285714285714285,\n",
       "  'explored_alpha': array([20.]),\n",
       "  'explored_beta': array([14., 15., 16.])},\n",
       " 32: {'pace_helix': 4.791666666666667,\n",
       "  'n_carbonalpha': 4,\n",
       "  'perc_alpha': 19.047619047619047,\n",
       "  'length_beta': 0,\n",
       "  'n_carbonbeta': 0,\n",
       "  'perc_beta': 0.0,\n",
       "  'explored_alpha': array([17., 18., 19., 20.]),\n",
       "  'explored_beta': array([], dtype=float64)},\n",
       " 33: {'pace_helix': 0.0,\n",
       "  'n_carbonalpha': 1,\n",
       "  'perc_alpha': 4.761904761904762,\n",
       "  'length_beta': 3.0,\n",
       "  'n_carbonbeta': 2,\n",
       "  'perc_beta': 9.523809523809524,\n",
       "  'explored_alpha': array([18.]),\n",
       "  'explored_beta': array([19., 20.])},\n",
       " 34: {'pace_helix': 1.5,\n",
       "  'n_carbonalpha': 2,\n",
       "  'perc_alpha': 9.523809523809524,\n",
       "  'length_beta': 3.0,\n",
       "  'n_carbonbeta': 2,\n",
       "  'perc_beta': 9.523809523809524,\n",
       "  'explored_alpha': array([17., 20.]),\n",
       "  'explored_beta': array([18., 19.])},\n",
       " 35: {'pace_helix': 2.5,\n",
       "  'n_carbonalpha': 2,\n",
       "  'perc_alpha': 9.523809523809524,\n",
       "  'length_beta': 0,\n",
       "  'n_carbonbeta': 0,\n",
       "  'perc_beta': 0.0,\n",
       "  'explored_alpha': array([15., 16.]),\n",
       "  'explored_beta': array([], dtype=float64)},\n",
       " 36: {'pace_helix': 0.0,\n",
       "  'n_carbonalpha': 1,\n",
       "  'perc_alpha': 4.761904761904762,\n",
       "  'length_beta': 0,\n",
       "  'n_carbonbeta': 0,\n",
       "  'perc_beta': 0.0,\n",
       "  'explored_alpha': array([17.]),\n",
       "  'explored_beta': array([], dtype=float64)},\n",
       " 37: {'pace_helix': 2.6666666666666665,\n",
       "  'n_carbonalpha': 3,\n",
       "  'perc_alpha': 14.285714285714285,\n",
       "  'length_beta': 8.5,\n",
       "  'n_carbonbeta': 2,\n",
       "  'perc_beta': 9.523809523809524,\n",
       "  'explored_alpha': array([14., 15., 18.]),\n",
       "  'explored_beta': array([19., 20.])},\n",
       " 38: {'pace_helix': 2.9583333333333335,\n",
       "  'n_carbonalpha': 4,\n",
       "  'perc_alpha': 19.047619047619047,\n",
       "  'length_beta': 3.5,\n",
       "  'n_carbonbeta': 2,\n",
       "  'perc_beta': 9.523809523809524,\n",
       "  'explored_alpha': array([14., 16., 17., 20.]),\n",
       "  'explored_beta': array([18., 19.])},\n",
       " 39: {'pace_helix': 1.5,\n",
       "  'n_carbonalpha': 2,\n",
       "  'perc_alpha': 9.523809523809524,\n",
       "  'length_beta': 0,\n",
       "  'n_carbonbeta': 0,\n",
       "  'perc_beta': 0.0,\n",
       "  'explored_alpha': array([15., 20.]),\n",
       "  'explored_beta': array([], dtype=float64)}}"
      ]
     },
     "execution_count": 10,
     "metadata": {},
     "output_type": "execute_result"
    }
   ],
   "source": [
    "a.frames[100].results.helix_score"
   ]
  },
  {
   "cell_type": "code",
   "execution_count": null,
   "metadata": {},
   "outputs": [],
   "source": []
  }
 ],
 "metadata": {
  "kernelspec": {
   "display_name": "Python 3 (ipykernel)",
   "language": "python",
   "name": "python3"
  },
  "language_info": {
   "codemirror_mode": {
    "name": "ipython",
    "version": 3
   },
   "file_extension": ".py",
   "mimetype": "text/x-python",
   "name": "python",
   "nbconvert_exporter": "python",
   "pygments_lexer": "ipython3",
   "version": "3.8.13"
  }
 },
 "nbformat": 4,
 "nbformat_minor": 4
}
