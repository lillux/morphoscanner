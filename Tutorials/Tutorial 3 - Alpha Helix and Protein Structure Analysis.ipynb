{
 "cells": [
  {
   "cell_type": "markdown",
   "id": "fc593fcf",
   "metadata": {},
   "source": [
    "# Analysis of simulation of alpha-helix peptides"
   ]
  },
  {
   "cell_type": "code",
   "execution_count": 3,
   "id": "ff359451",
   "metadata": {},
   "outputs": [
    {
     "name": "stderr",
     "output_type": "stream",
     "text": [
      "/Users/federicofontana/opt/anaconda3/lib/python3.8/site-packages/MDAnalysis/coordinates/chemfiles.py:108: DeprecationWarning: distutils Version classes are deprecated. Use packaging.version instead.\n",
      "  MIN_CHEMFILES_VERSION = LooseVersion(\"0.9\")\n"
     ]
    }
   ],
   "source": [
    "import morphoscanner as ms"
   ]
  },
  {
   "cell_type": "code",
   "execution_count": 5,
   "id": "e4cc586e",
   "metadata": {},
   "outputs": [
    {
     "data": {
      "application/vnd.jupyter.widget-view+json": {
       "model_id": "ac00817bacc249b9ba77b491ebb3292a",
       "version_major": 2,
       "version_minor": 0
      },
      "text/plain": []
     },
     "metadata": {},
     "output_type": "display_data"
    }
   ],
   "source": [
    "import os\n",
    "import glob\n",
    "import numpy as np\n",
    "import matplotlib, matplotlib.pyplot\n",
    "import nglview as nv\n",
    "import MDAnalysis as mda"
   ]
  },
  {
   "cell_type": "code",
   "execution_count": null,
   "id": "62df9244",
   "metadata": {},
   "outputs": [],
   "source": [
    "#find the structure which is closer to the definition of alpha-helix\n",
    "def visualize_alpha_helix_stat(self):\n",
    "    alpha_perc = []\n",
    "    for f in self.frames:\n",
    "        alpha_perc.append(self.frames[f].results.helix_score[0]['perc_alpha'])\n",
    "    max_alpha = max(alpha_perc)\n",
    "    max_time = [alpha_perc.index(max_alpha)]\n",
    "    return max_time,max_alpha"
   ]
  },
  {
   "cell_type": "code",
   "execution_count": null,
   "id": "10998c32",
   "metadata": {},
   "outputs": [],
   "source": [
    "#Generalized function for browsing the target file"
   ]
  },
  {
   "cell_type": "code",
   "execution_count": null,
   "id": "b1e92156",
   "metadata": {},
   "outputs": [],
   "source": [
    "gro_path = './Morphoscanner_sequences/myoglobin/**/*_md.gro'\n",
    "files_gro = glob.glob(gro_path,recursive=True)\n",
    "xtc_path = './Morphoscanner_sequences/myoglobin/**/*_md.xtc'\n",
    "files_xtc = glob.glob(xtc_path,recursive=True)\n",
    "\n",
    "len(files_xtc)"
   ]
  },
  {
   "cell_type": "code",
   "execution_count": null,
   "id": "9ab3efe3",
   "metadata": {},
   "outputs": [],
   "source": [
    "#Browsing the specified files for the example"
   ]
  },
  {
   "cell_type": "code",
   "execution_count": null,
   "id": "0c010168",
   "metadata": {},
   "outputs": [],
   "source": [
    "gro_path = './protein_A/pA10/md/**_md.gro'\n",
    "files_gro = glob.glob(gro_path,recursive=True)\n",
    "xtc_path = './protein_A/pA10/md/*_md.xtc'\n",
    "files_xtc = glob.glob(xtc_path,recursive=True)\n",
    "\n",
    "len(files_xtc)"
   ]
  },
  {
   "cell_type": "code",
   "execution_count": null,
   "id": "75f54281",
   "metadata": {},
   "outputs": [],
   "source": [
    "a = ms.trajectory.trajectory(files_gro[0],files_xtc[0],select=['aminoacids'])\n",
    "a.explore()\n",
    "a.compose_database(sampling_interval=1)\n",
    "a.analyze_inLoop()\n",
    "a.get_data()\n",
    "a.helix_score()\n",
    "ms.plot.plot.plot_alpha_perc(a)\n",
    "[max_time, max_alpha] = visualize_alpha_helix_stat(a)"
   ]
  },
  {
   "cell_type": "code",
   "execution_count": null,
   "id": "a29af792",
   "metadata": {},
   "outputs": [],
   "source": [
    "#Visualization of MD simulations"
   ]
  },
  {
   "cell_type": "code",
   "execution_count": null,
   "id": "630b25c9",
   "metadata": {
    "tags": []
   },
   "outputs": [],
   "source": [
    "v = nv.show_mdanalysis(a.universe.select_atoms(\"protein\"))\n",
    "v\n"
   ]
  },
  {
   "cell_type": "code",
   "execution_count": null,
   "id": "ef85b94f",
   "metadata": {},
   "outputs": [],
   "source": [
    "#Visualization of the native structure and export of the *png file"
   ]
  },
  {
   "cell_type": "code",
   "execution_count": null,
   "id": "ad95980e",
   "metadata": {},
   "outputs": [],
   "source": [
    "frame = str(max_time)[1:-1]\n",
    "frame = int(frame)\n",
    "frame\n",
    "v.frame = frame\n",
    "len(files_gro[0])\n",
    "visualization = str(files_gro[0])[36:-21] +  str(files_gro[0])[48:-8] + '.png'\n",
    "v.download_image(filename=visualization.format(frame))\n",
    "frame"
   ]
  },
  {
   "cell_type": "code",
   "execution_count": null,
   "id": "af81c433",
   "metadata": {},
   "outputs": [],
   "source": [
    "u = mda.Universe(files_gro[0],files_xtc[0])\n",
    "u.trajectory[frame]\n",
    "u.trajectory.frame\n",
    "native_structure = str(files_gro[0])[36:-21] +  str(files_gro[0])[48:-8] + '.gro'\n",
    "protein = u.select_atoms(\"protein\")\n",
    "protein.write(native_structure)"
   ]
  },
  {
   "cell_type": "code",
   "execution_count": null,
   "id": "419562a9",
   "metadata": {},
   "outputs": [],
   "source": [
    "c = mda.Universe(native_structure,native_structure)\n",
    "w = nv.show_mdanalysis(c.universe.select_atoms(\"protein\"))\n",
    "w"
   ]
  },
  {
   "cell_type": "markdown",
   "id": "3edcf232",
   "metadata": {},
   "source": [
    "# Validation of alpha-helix module"
   ]
  },
  {
   "cell_type": "code",
   "execution_count": null,
   "id": "b91b6283",
   "metadata": {},
   "outputs": [],
   "source": [
    "#Analysis of a single protein structure"
   ]
  },
  {
   "cell_type": "code",
   "execution_count": 1,
   "id": "62ccb9fa",
   "metadata": {},
   "outputs": [],
   "source": [
    "pdb = './3bep_BB.gro'\n",
    "pdb = './3bep_BB.gro'"
   ]
  },
  {
   "cell_type": "code",
   "execution_count": 6,
   "id": "05c78f06",
   "metadata": {},
   "outputs": [
    {
     "name": "stdout",
     "output_type": "stream",
     "text": [
      "In your trajectory there are 1 frames.\n",
      "\n",
      "Length: 366, Peptides: 2\n"
     ]
    }
   ],
   "source": [
    "a = ms.trajectory.trajectory(pdb,pdb,select=['aminoacids'])\n",
    "u = mda.Universe(pdb,pdb)"
   ]
  },
  {
   "cell_type": "code",
   "execution_count": 7,
   "id": "50d474a4",
   "metadata": {},
   "outputs": [
    {
     "name": "stdout",
     "output_type": "stream",
     "text": [
      "Exploration of frame 0 done.\n",
      "\n"
     ]
    },
    {
     "name": "stderr",
     "output_type": "stream",
     "text": [
      "0it [00:00, ?it/s]"
     ]
    },
    {
     "name": "stdout",
     "output_type": "stream",
     "text": [
      "processing started...\n",
      "\n",
      "Analyzing frame n°  0\n",
      "Time to compute distance is:  0.023117334000005485 seconds.\n"
     ]
    },
    {
     "name": "stderr",
     "output_type": "stream",
     "text": [
      "\n",
      "100%|██████████| 1/1 [00:00<00:00, 7463.17it/s]\n"
     ]
    },
    {
     "name": "stdout",
     "output_type": "stream",
     "text": [
      "Time to denoise:  2.2426621249999954 seconds.\n",
      "Finished analysis of frame n° 0\n",
      "Time needed to analyze frame 0 was 2.296424 seconds.\n",
      "\n",
      "Total time to analyze dataset was 2.296588 seconds\n",
      ".\n"
     ]
    }
   ],
   "source": [
    "a.explore()\n",
    "a.compose_database(sampling_interval=1)\n",
    "a.analyze_inLoop()\n",
    "a.get_data()\n",
    "a.helix_score()\n",
    "#ms.plot.plot.plot_alpha_perc(a)\n",
    "#visualize_alpha_helix_stat(a)"
   ]
  },
  {
   "cell_type": "code",
   "execution_count": 8,
   "id": "843756d2",
   "metadata": {},
   "outputs": [
    {
     "data": {
      "text/plain": [
       "{0: {'pace_helix': 3.9999986436784187,\n",
       "  'n_carbonalpha': 91,\n",
       "  'perc_alpha': 24.863387978142075,\n",
       "  'length_beta': 11.092311672530743,\n",
       "  'n_carbonbeta': 44,\n",
       "  'perc_beta': 12.021857923497267,\n",
       "  'explored_alpha': array([  9.,  10.,  11.,  12.,  13.,  14.,  15.,  16.,  17.,  18.,  27.,\n",
       "          30.,  40.,  50.,  51.,  73.,  74.,  75.,  76.,  77.,  78.,  79.,\n",
       "          80.,  81.,  95.,  96., 103., 104., 115., 134., 135., 136., 137.,\n",
       "         138., 139., 140., 142., 144., 145., 149., 152., 156., 165., 166.,\n",
       "         175., 176., 198., 199., 200., 201., 202., 203., 204., 205., 221.,\n",
       "         222., 229., 230., 246., 247., 251., 261., 262., 263., 264., 265.,\n",
       "         266., 267., 268., 269., 270., 271., 272., 278., 279., 288., 289.,\n",
       "         299., 322., 323., 324., 325., 326., 327., 328., 329., 330., 331.,\n",
       "         344., 345., 353.]),\n",
       "  'explored_beta': array([ 41.,  43.,  44.,  45.,  52.,  58.,  62.,  63.,  64.,  66.,  68.,\n",
       "          69.,  87.,  91., 106., 107., 112., 154., 155., 167., 168., 170.,\n",
       "         171., 181., 185., 189., 193., 194., 217., 224., 228., 231., 290.,\n",
       "         293., 294., 309., 318., 336., 351., 355., 356., 358., 360., 362.])},\n",
       " 1: {'pace_helix': 3.999998808979717,\n",
       "  'n_carbonalpha': 95,\n",
       "  'perc_alpha': 25.956284153005466,\n",
       "  'length_beta': 11.157636642243846,\n",
       "  'n_carbonbeta': 39,\n",
       "  'perc_beta': 10.655737704918032,\n",
       "  'explored_alpha': array([  9.,  10.,  12.,  13.,  14.,  15.,  16.,  17.,  18.,  20.,  21.,\n",
       "          27.,  29.,  30.,  40.,  50.,  51.,  73.,  74.,  75.,  76.,  77.,\n",
       "          78.,  79.,  80.,  81.,  95.,  96., 103., 104., 115., 135., 136.,\n",
       "         137., 138., 139., 140., 141., 142., 144., 145., 149., 152., 156.,\n",
       "         165., 166., 175., 176., 198., 199., 200., 201., 202., 203., 204.,\n",
       "         205., 206., 221., 222., 229., 230., 245., 246., 247., 251., 262.,\n",
       "         263., 264., 265., 266., 267., 268., 269., 270., 271., 272., 273.,\n",
       "         278., 279., 288., 289., 299., 322., 323., 324., 325., 326., 327.,\n",
       "         328., 329., 330., 331., 344., 345., 353.]),\n",
       "  'explored_beta': array([ 41.,  43.,  44.,  58.,  62.,  63.,  64.,  66.,  68.,  69.,  87.,\n",
       "          91., 107., 109., 154., 155., 167., 168., 170., 171., 181., 185.,\n",
       "         189., 193., 194., 217., 224., 228., 235., 290., 293., 294., 309.,\n",
       "         318., 339., 351., 355., 356., 358.])}}"
      ]
     },
     "execution_count": 8,
     "metadata": {},
     "output_type": "execute_result"
    }
   ],
   "source": [
    "a.frames[0].results.helix_score"
   ]
  },
  {
   "cell_type": "code",
   "execution_count": 9,
   "id": "c7554eba",
   "metadata": {},
   "outputs": [
    {
     "data": {
      "text/plain": [
       "'41 43 44 45 52 58 62 63 64 66 68 69 87 91 106 107 112 154 155 167 168 170 171 181 185 189 193 194 217 224 228 231 290 293 294 309 318 336 351 355 356 358 360 362'"
      ]
     },
     "execution_count": 9,
     "metadata": {},
     "output_type": "execute_result"
    }
   ],
   "source": [
    "alpha =  a.frames[0].results.helix_score[0]['explored_alpha']\n",
    "beta = a.frames[0].results.helix_score[0]['explored_beta']\n",
    "alpha = alpha.astype(int)\n",
    "beta = beta.astype(int)\n",
    "alpha_str = ' '.join([str(elem) for elem in alpha])\n",
    "alpha_str\n",
    "beta_str = ' '.join([str(elem) for elem in beta])\n",
    "beta_str"
   ]
  },
  {
   "cell_type": "code",
   "execution_count": 10,
   "id": "ea99ac06",
   "metadata": {},
   "outputs": [
    {
     "data": {
      "application/vnd.jupyter.widget-view+json": {
       "model_id": "0acf2ce7a6884f56a037b123e0f1fcd9",
       "version_major": 2,
       "version_minor": 0
      },
      "text/plain": [
       "NGLWidget()"
      ]
     },
     "metadata": {},
     "output_type": "display_data"
    }
   ],
   "source": [
    "string = 'resid ' + alpha_str\n",
    "string\n",
    "alpha = u.select_atoms(string)\n",
    "v = nv.show_mdanalysis(alpha)\n",
    "v\n"
   ]
  },
  {
   "cell_type": "code",
   "execution_count": 11,
   "id": "81c2bfe6",
   "metadata": {
    "scrolled": true
   },
   "outputs": [
    {
     "data": {
      "application/vnd.jupyter.widget-view+json": {
       "model_id": "1c0805dcc1034b17ab8771bd192e3fef",
       "version_major": 2,
       "version_minor": 0
      },
      "text/plain": [
       "NGLWidget()"
      ]
     },
     "metadata": {},
     "output_type": "display_data"
    }
   ],
   "source": [
    "beta_string = 'resid ' + beta_str\n",
    "beta = u.select_atoms(beta_string)\n",
    "v = nv.show_mdanalysis(beta)\n",
    "v"
   ]
  },
  {
   "cell_type": "code",
   "execution_count": 12,
   "id": "c7e1c582",
   "metadata": {},
   "outputs": [
    {
     "data": {
      "application/vnd.jupyter.widget-view+json": {
       "model_id": "077d317a94ea4e5b813fdfba483d4f44",
       "version_major": 2,
       "version_minor": 0
      },
      "text/plain": [
       "NGLWidget()"
      ]
     },
     "metadata": {},
     "output_type": "display_data"
    }
   ],
   "source": [
    "w = nv.show_mdanalysis(u)\n",
    "w"
   ]
  },
  {
   "cell_type": "code",
   "execution_count": null,
   "id": "30fe9010",
   "metadata": {},
   "outputs": [],
   "source": []
  }
 ],
 "metadata": {
  "kernelspec": {
   "display_name": "Python 3 (ipykernel)",
   "language": "python",
   "name": "python3"
  },
  "language_info": {
   "codemirror_mode": {
    "name": "ipython",
    "version": 3
   },
   "file_extension": ".py",
   "mimetype": "text/x-python",
   "name": "python",
   "nbconvert_exporter": "python",
   "pygments_lexer": "ipython3",
   "version": "3.8.8"
  }
 },
 "nbformat": 4,
 "nbformat_minor": 5
}
