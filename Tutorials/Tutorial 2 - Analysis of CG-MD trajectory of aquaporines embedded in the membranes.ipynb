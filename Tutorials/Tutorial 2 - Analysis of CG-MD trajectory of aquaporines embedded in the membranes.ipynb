{
 "cells": [
  {
   "cell_type": "markdown",
   "id": "193b28cd",
   "metadata": {},
   "source": [
    "Analysis of CG-MD simulations of self-assembling peptides system In the present tutorial, the authors reported the workflow with the main functions for analyzing CG-MD simulations. The analyzed simulation consists of 2 AQP structure embedded within a neuronal membrane.In each box, the authors reported the main instructions and the required packages for running the analysis."
   ]
  },
  {
   "cell_type": "code",
   "execution_count": 1,
   "id": "b73ab404",
   "metadata": {},
   "outputs": [
    {
     "name": "stderr",
     "output_type": "stream",
     "text": [
      "/Users/federicofontana/opt/anaconda3/lib/python3.8/site-packages/MDAnalysis/coordinates/chemfiles.py:108: DeprecationWarning: distutils Version classes are deprecated. Use packaging.version instead.\n",
      "  MIN_CHEMFILES_VERSION = LooseVersion(\"0.9\")\n"
     ]
    }
   ],
   "source": [
    "import morphoscanner as ms\n",
    "import MDAnalysis as mda\n",
    "import numpy as np\n",
    "from timeit import default_timer as timer"
   ]
  },
  {
   "cell_type": "code",
   "execution_count": 2,
   "id": "36789d1c",
   "metadata": {},
   "outputs": [
    {
     "name": "stderr",
     "output_type": "stream",
     "text": [
      "/Users/federicofontana/opt/anaconda3/lib/python3.8/site-packages/MDAnalysis/topology/guessers.py:146: UserWarning: Failed to guess the mass for the following atom types: A\n",
      "  warnings.warn(\"Failed to guess the mass for the following atom types: {}\".format(atom_type))\n",
      "/Users/federicofontana/opt/anaconda3/lib/python3.8/site-packages/MDAnalysis/topology/guessers.py:146: UserWarning: Failed to guess the mass for the following atom types: D\n",
      "  warnings.warn(\"Failed to guess the mass for the following atom types: {}\".format(atom_type))\n",
      "/Users/federicofontana/opt/anaconda3/lib/python3.8/site-packages/MDAnalysis/topology/guessers.py:146: UserWarning: Failed to guess the mass for the following atom types: G\n",
      "  warnings.warn(\"Failed to guess the mass for the following atom types: {}\".format(atom_type))\n",
      "/Users/federicofontana/opt/anaconda3/lib/python3.8/site-packages/MDAnalysis/topology/guessers.py:146: UserWarning: Failed to guess the mass for the following atom types: R\n",
      "  warnings.warn(\"Failed to guess the mass for the following atom types: {}\".format(atom_type))\n",
      "/Users/federicofontana/opt/anaconda3/lib/python3.8/site-packages/MDAnalysis/topology/guessers.py:146: UserWarning: Failed to guess the mass for the following atom types: T\n",
      "  warnings.warn(\"Failed to guess the mass for the following atom types: {}\".format(atom_type))\n"
     ]
    }
   ],
   "source": [
    "#Write the full trajectory just for the peptides\n",
    "trj_gro = '/Users/federicofontana/Documents/CNTE/Membrane-Peptide-Interactions/LKLK-Membrane-Peptide-Interactions/eq_LKLK_Membrane-F-out.gro'\n",
    "trj_xtc = '/Users/federicofontana/Documents/CNTE/Membrane-Peptide-Interactions/LKLK-Membrane-Peptide-Interactions/production-1/prd-LKLK-Fibril-1000ns-out.xtc'\n",
    "u = mda.Universe(trj_gro,trj_xtc)\n",
    "prot = u.select_atoms('index 1-1880') #previous index 29082-31482 and name BB\n",
    "prot_traj_name = \"/Users/federicofontana/Documents/CNTE/Membrane-Peptide-Interactions/LKLK-Membrane-Peptide-Interactions/production-1/prd-LKLK-Fibril-1000ns-out-AQP.xtc\"\n",
    "with mda.Writer(prot_traj_name, prot.n_atoms) as W:\n",
    "    for ts in u.trajectory:\n",
    "        W.write(prot)\n",
    "#Write the first frame of the trajectory\n",
    "u_min = mda.Universe(trj_gro,trj_gro)\n",
    "prot_min = u_min.select_atoms('index 1-1880')\n",
    "prot_min.write(\"/Users/federicofontana/Documents/CNTE/Membrane-Peptide-Interactions/LKLK-Membrane-Peptide-Interactions/production-1/eq_LKLK_Membrane-F-out-AQP.gro\")"
   ]
  },
  {
   "cell_type": "markdown",
   "id": "3a32cc4c",
   "metadata": {},
   "source": [
    "Locate the files of the initial configuration of the system and trajectory"
   ]
  },
  {
   "cell_type": "code",
   "execution_count": 3,
   "id": "c74f2276",
   "metadata": {},
   "outputs": [],
   "source": [
    "_gro ='/Users/federicofontana/Documents/CNTE/Membrane-Peptide-Interactions/LKLK-Membrane-Peptide-Interactions/production-1/eq_LKLK_Membrane-F-out-AQP.gro'\n",
    "_xtc ='/Users/federicofontana/Documents/CNTE/Membrane-Peptide-Interactions/LKLK-Membrane-Peptide-Interactions/production-1/prd-LKLK-Fibril-1000ns-out-AQP.xtc'"
   ]
  },
  {
   "cell_type": "markdown",
   "id": "927cd2b4",
   "metadata": {},
   "source": [
    "# Single trajectory analysis"
   ]
  },
  {
   "cell_type": "markdown",
   "id": "10e9d88a",
   "metadata": {},
   "source": [
    "The class morphoscanner.trajectory.trajectory() instantiate the class instance trajectory(), that is responsible to perform the analysis on a MD trajectory. The instance trajectory() contains the results of the analysis, and the capability to visualize the computed data.\n",
    "\n",
    "The trajectory() class need few arguments to be instantiated and start the analysis:\n",
    "\n",
    "_sys_config : str\n",
    "\n",
    "file path of the initial configuration of the system (.gro file for GROMACS) _sys_traj : str\n",
    "\n",
    "file path of the trajectory file (or files) (.xtc or .trr in GROMACS) select : list(str), optional\n",
    "\n",
    "The parameter select let you choose which atoms to parse. These are the atoms that will be used to perform the analysis. Atoms definitions are taken from the Martini FF v2.2 and are found in the module ms.molnames.constituents. Default value is select = ['aminoacids'], that will select all the aminoacids alpha-carbon atoms. select = ['aminoacids'] will select the following atoms:\n",
    "\n",
    "ms.molnames.aminoacids_list\\ \\ ['GLY', 'ALA', 'CYS', 'VAL', 'LEU', 'ILE', 'MET', 'PRO', 'ASN', 'GLN', 'ASP', 'ASP0', 'GLU', 'GLU0', 'THR', 'SER', 'LYS', 'LYS0', 'ARG', 'ARG0', 'HIS', 'HISH', 'PHE', 'TYR', 'TRP', 'BTNr4']\n",
    "\n",
    "'aminoacids' can be changed with one of the ms.molnames.costituents.keys() to select other atom types"
   ]
  },
  {
   "cell_type": "code",
   "execution_count": 4,
   "id": "9b28229a",
   "metadata": {},
   "outputs": [
    {
     "name": "stdout",
     "output_type": "stream",
     "text": [
      "In your trajectory there are 2001 frames.\n",
      "\n",
      "Length: 223, Peptides: 4\n"
     ]
    },
    {
     "name": "stderr",
     "output_type": "stream",
     "text": [
      "/Users/federicofontana/opt/anaconda3/lib/python3.8/site-packages/MDAnalysis/coordinates/XDR.py:215: UserWarning: Reload offsets from trajectory\n",
      " ctime or size or n_atoms did not match\n",
      "  warnings.warn(\"Reload offsets from trajectory\\n \"\n"
     ]
    }
   ],
   "source": [
    "a = ms.trajectory.trajectory(_gro,_xtc, select=['aminoacids'])"
   ]
  },
  {
   "cell_type": "markdown",
   "id": "f44c41a3",
   "metadata": {},
   "source": [
    "The exploratory step is needed to initializate a trajectory. It gives the possibility to give a look to the trajectory before to start the analysis."
   ]
  },
  {
   "cell_type": "code",
   "execution_count": 5,
   "id": "502de8ac",
   "metadata": {},
   "outputs": [
    {
     "name": "stdout",
     "output_type": "stream",
     "text": [
      "Exploration of frame 0 done.\n",
      "\n"
     ]
    }
   ],
   "source": [
    "a.explore()"
   ]
  },
  {
   "cell_type": "markdown",
   "id": "135ed282",
   "metadata": {},
   "source": [
    "# Parse frames of the trajectory"
   ]
  },
  {
   "cell_type": "markdown",
   "id": "e5c7c735",
   "metadata": {},
   "source": [
    "The input MD trajectory can be analyzed on each frame (timestep). Calling compose_database() enable the frames sampling and parsing.\n",
    "\n",
    "sampling_interval is an int.\\ Each frame of the trajectory has an index = i that is an int in F = [0, number_of_frame).\\ If i / sampling_interval = 0, the frame is sampled for subsequent analysis. \\ The sampled frames are the frames of which the index i is a multiple of sampling_interval."
   ]
  },
  {
   "cell_type": "code",
   "execution_count": 6,
   "id": "f24cd083",
   "metadata": {},
   "outputs": [
    {
     "name": "stderr",
     "output_type": "stream",
     "text": [
      "100%|██████████| 100/100 [00:00<00:00, 275.02it/s]\n"
     ]
    }
   ],
   "source": [
    "a.compose_database(sampling_interval=20)"
   ]
  },
  {
   "cell_type": "markdown",
   "id": "cd654028",
   "metadata": {},
   "source": [
    "# Analysis of the sampled frames"
   ]
  },
  {
   "cell_type": "markdown",
   "id": "8e104547",
   "metadata": {},
   "source": [
    "After the frame sampling and data retrieval each sampled frame of the system is analyzed with our algorithm, to search for the emergence of complex structures that match a beta sheets pattern.\n",
    "\n",
    "The method analyze_inLoop() takes as parameters:\n",
    "\n",
    "threshold : float, optional\\ The default is 5.\\ threshold is the longest distance at which two points i,j are considered in contact.\\ This means that if ed(i,j) < threshold, the points i and j are contacting.\\ ed is the euclidean distance. threshold_multiplier : float, optional The default is 1.5. threshold_multiplier is a factor used to multiply the calculated threshold distance for contact recognition.\\ The parameter threshold_multipier is overwritten if threshold is passed as parameters. device : str, optional\\ The device on which the data are saved and the analysis is computed.\\ The option are: cpu, to perform parallelization on cpu, cuda, to performe parallelization on CUDA compatible device, usually Nvidia GPUs.\\ \\ The default is cpu."
   ]
  },
  {
   "cell_type": "code",
   "execution_count": 7,
   "id": "b505d866",
   "metadata": {},
   "outputs": [
    {
     "name": "stdout",
     "output_type": "stream",
     "text": [
      "processing started...\n",
      "\n",
      "Analyzing frame n°  0\n",
      "Time to compute distance is:  0.039487917000002426 seconds.\n"
     ]
    },
    {
     "name": "stderr",
     "output_type": "stream",
     "text": [
      "100%|██████████| 2/2 [00:00<00:00, 17084.74it/s]\n"
     ]
    },
    {
     "name": "stdout",
     "output_type": "stream",
     "text": [
      "Time to denoise:  1.3720661659999962 seconds.\n",
      "Finished analysis of frame n° 0\n",
      "Time needed to analyze frame 0 was 1.433978 seconds.\n",
      "\n",
      "Analyzing frame n°  20\n",
      "Time to compute distance is:  0.012630708999978424 seconds.\n"
     ]
    },
    {
     "name": "stderr",
     "output_type": "stream",
     "text": [
      "0it [00:00, ?it/s]\n"
     ]
    },
    {
     "name": "stdout",
     "output_type": "stream",
     "text": [
      "Time to denoise:  1.2222869999999944 seconds.\n",
      "Finished analysis of frame n° 20\n",
      "Time needed to analyze frame 20 was 1.235242 seconds.\n",
      "\n",
      "Analyzing frame n°  40\n",
      "Time to compute distance is:  0.01301929199999563 seconds.\n"
     ]
    },
    {
     "name": "stderr",
     "output_type": "stream",
     "text": [
      "100%|██████████| 1/1 [00:00<00:00, 10754.63it/s]\n"
     ]
    },
    {
     "name": "stdout",
     "output_type": "stream",
     "text": [
      "Time to denoise:  0.9465690410000036 seconds.\n",
      "Finished analysis of frame n° 40\n",
      "Time needed to analyze frame 40 was 0.965253 seconds.\n",
      "\n",
      "Analyzing frame n°  60\n",
      "Time to compute distance is:  0.012202124999987518 seconds.\n"
     ]
    },
    {
     "name": "stderr",
     "output_type": "stream",
     "text": [
      "100%|██████████| 1/1 [00:00<00:00, 18558.87it/s]\n"
     ]
    },
    {
     "name": "stdout",
     "output_type": "stream",
     "text": [
      "Time to denoise:  1.0038424170000155 seconds.\n",
      "Finished analysis of frame n° 60\n",
      "Time needed to analyze frame 60 was 1.020466 seconds.\n",
      "\n",
      "Analyzing frame n°  80\n",
      "Time to compute distance is:  0.012132667000003039 seconds.\n"
     ]
    },
    {
     "name": "stderr",
     "output_type": "stream",
     "text": [
      "100%|██████████| 1/1 [00:00<00:00, 10082.46it/s]\n"
     ]
    },
    {
     "name": "stdout",
     "output_type": "stream",
     "text": [
      "Time to denoise:  0.9999487499999873 seconds.\n",
      "Finished analysis of frame n° 80\n",
      "Time needed to analyze frame 80 was 1.015611 seconds.\n",
      "\n",
      "Analyzing frame n°  100\n",
      "Time to compute distance is:  0.012346417000003385 seconds.\n"
     ]
    },
    {
     "name": "stderr",
     "output_type": "stream",
     "text": [
      "100%|██████████| 1/1 [00:00<00:00, 9619.96it/s]\n"
     ]
    },
    {
     "name": "stdout",
     "output_type": "stream",
     "text": [
      "Time to denoise:  0.9894075420000092 seconds.\n",
      "Finished analysis of frame n° 100\n",
      "Time needed to analyze frame 100 was 1.012787 seconds.\n",
      "\n",
      "Analyzing frame n°  120\n",
      "Time to compute distance is:  0.012470790999998371 seconds.\n"
     ]
    },
    {
     "name": "stderr",
     "output_type": "stream",
     "text": [
      "100%|██████████| 1/1 [00:00<00:00, 19239.93it/s]\n"
     ]
    },
    {
     "name": "stdout",
     "output_type": "stream",
     "text": [
      "Time to denoise:  0.9416949170000066 seconds.\n",
      "Finished analysis of frame n° 120\n",
      "Time needed to analyze frame 120 was 0.959743 seconds.\n",
      "\n",
      "Analyzing frame n°  140\n",
      "Time to compute distance is:  0.012342958000004955 seconds.\n"
     ]
    },
    {
     "name": "stderr",
     "output_type": "stream",
     "text": [
      "100%|██████████| 2/2 [00:00<00:00, 35246.25it/s]\n"
     ]
    },
    {
     "name": "stdout",
     "output_type": "stream",
     "text": [
      "Time to denoise:  0.9566822080000179 seconds.\n",
      "Finished analysis of frame n° 140\n",
      "Time needed to analyze frame 140 was 0.979296 seconds.\n",
      "\n",
      "Analyzing frame n°  160\n",
      "Time to compute distance is:  0.0123733750000099 seconds.\n"
     ]
    },
    {
     "name": "stderr",
     "output_type": "stream",
     "text": [
      "100%|██████████| 1/1 [00:00<00:00, 19239.93it/s]\n"
     ]
    },
    {
     "name": "stdout",
     "output_type": "stream",
     "text": [
      "Time to denoise:  0.9328200410000136 seconds.\n",
      "Finished analysis of frame n° 160\n",
      "Time needed to analyze frame 160 was 0.950968 seconds.\n",
      "\n",
      "Analyzing frame n°  180\n",
      "Time to compute distance is:  0.012475082999998222 seconds.\n"
     ]
    },
    {
     "name": "stderr",
     "output_type": "stream",
     "text": [
      "100%|██████████| 1/1 [00:00<00:00, 17848.10it/s]\n"
     ]
    },
    {
     "name": "stdout",
     "output_type": "stream",
     "text": [
      "Time to denoise:  0.9352803330000086 seconds.\n",
      "Finished analysis of frame n° 180\n",
      "Time needed to analyze frame 180 was 0.953415 seconds.\n",
      "\n",
      "Analyzing frame n°  200\n",
      "Time to compute distance is:  0.012417207999988022 seconds.\n"
     ]
    },
    {
     "name": "stderr",
     "output_type": "stream",
     "text": [
      "100%|██████████| 1/1 [00:00<00:00, 10407.70it/s]\n"
     ]
    },
    {
     "name": "stdout",
     "output_type": "stream",
     "text": [
      "Time to denoise:  1.0416312920000053 seconds.\n",
      "Finished analysis of frame n° 200\n",
      "Time needed to analyze frame 200 was 1.056806 seconds.\n",
      "\n",
      "Analyzing frame n°  220\n",
      "Time to compute distance is:  0.012221292000020867 seconds.\n"
     ]
    },
    {
     "name": "stderr",
     "output_type": "stream",
     "text": [
      "100%|██████████| 1/1 [00:00<00:00, 13530.01it/s]\n"
     ]
    },
    {
     "name": "stdout",
     "output_type": "stream",
     "text": [
      "Time to denoise:  0.9531585000000007 seconds.\n",
      "Finished analysis of frame n° 220\n",
      "Time needed to analyze frame 220 was 0.971143 seconds.\n",
      "\n",
      "Analyzing frame n°  240\n",
      "Time to compute distance is:  0.012278999999978168 seconds.\n"
     ]
    },
    {
     "name": "stderr",
     "output_type": "stream",
     "text": [
      "100%|██████████| 1/1 [00:00<00:00, 10131.17it/s]\n"
     ]
    },
    {
     "name": "stdout",
     "output_type": "stream",
     "text": [
      "Time to denoise:  1.064755415999997 seconds.\n",
      "Finished analysis of frame n° 240\n",
      "Time needed to analyze frame 240 was 1.083008 seconds.\n",
      "\n",
      "Analyzing frame n°  260\n",
      "Time to compute distance is:  0.011973041000004514 seconds.\n"
     ]
    },
    {
     "name": "stderr",
     "output_type": "stream",
     "text": [
      "100%|██████████| 1/1 [00:00<00:00, 12372.58it/s]\n"
     ]
    },
    {
     "name": "stdout",
     "output_type": "stream",
     "text": [
      "Time to denoise:  1.0530444999999986 seconds.\n",
      "Finished analysis of frame n° 260\n",
      "Time needed to analyze frame 260 was 1.069758 seconds.\n",
      "\n",
      "Analyzing frame n°  280\n",
      "Time to compute distance is:  0.011940417000005255 seconds.\n"
     ]
    },
    {
     "name": "stderr",
     "output_type": "stream",
     "text": [
      "100%|██████████| 1/1 [00:00<00:00, 18477.11it/s]\n"
     ]
    },
    {
     "name": "stdout",
     "output_type": "stream",
     "text": [
      "Time to denoise:  0.946599166999988 seconds.\n",
      "Finished analysis of frame n° 280\n",
      "Time needed to analyze frame 280 was 0.964348 seconds.\n",
      "\n",
      "Analyzing frame n°  300\n",
      "Time to compute distance is:  0.011961291999995183 seconds.\n"
     ]
    },
    {
     "name": "stderr",
     "output_type": "stream",
     "text": [
      "100%|██████████| 2/2 [00:00<00:00, 36472.21it/s]\n"
     ]
    },
    {
     "name": "stdout",
     "output_type": "stream",
     "text": [
      "Time to denoise:  0.912892625000012 seconds.\n",
      "Finished analysis of frame n° 300\n",
      "Time needed to analyze frame 300 was 0.936633 seconds.\n",
      "\n",
      "Analyzing frame n°  320\n",
      "Time to compute distance is:  0.011846332999994047 seconds.\n"
     ]
    },
    {
     "name": "stderr",
     "output_type": "stream",
     "text": [
      "100%|██████████| 2/2 [00:00<00:00, 17512.75it/s]\n"
     ]
    },
    {
     "name": "stdout",
     "output_type": "stream",
     "text": [
      "Time to denoise:  0.9427672920000134 seconds.\n",
      "Finished analysis of frame n° 320\n",
      "Time needed to analyze frame 320 was 0.967199 seconds.\n",
      "\n",
      "Analyzing frame n°  340\n",
      "Time to compute distance is:  0.011940791000000672 seconds.\n"
     ]
    },
    {
     "name": "stderr",
     "output_type": "stream",
     "text": [
      "100%|██████████| 2/2 [00:00<00:00, 20610.83it/s]\n"
     ]
    },
    {
     "name": "stdout",
     "output_type": "stream",
     "text": [
      "Time to denoise:  0.9209729159999824 seconds.\n",
      "Finished analysis of frame n° 340\n",
      "Time needed to analyze frame 340 was 0.943475 seconds.\n",
      "\n",
      "Analyzing frame n°  360\n",
      "Time to compute distance is:  0.012000625000013088 seconds.\n"
     ]
    },
    {
     "name": "stderr",
     "output_type": "stream",
     "text": [
      "100%|██████████| 1/1 [00:00<00:00, 9915.61it/s]\n"
     ]
    },
    {
     "name": "stdout",
     "output_type": "stream",
     "text": [
      "Time to denoise:  0.9346280839999963 seconds.\n",
      "Finished analysis of frame n° 360\n",
      "Time needed to analyze frame 360 was 0.952505 seconds.\n",
      "\n",
      "Analyzing frame n°  380\n",
      "Time to compute distance is:  0.012095458000004555 seconds.\n"
     ]
    },
    {
     "name": "stderr",
     "output_type": "stream",
     "text": [
      "100%|██████████| 1/1 [00:00<00:00, 18558.87it/s]\n"
     ]
    },
    {
     "name": "stdout",
     "output_type": "stream",
     "text": [
      "Time to denoise:  0.9182353749999947 seconds.\n",
      "Finished analysis of frame n° 380\n",
      "Time needed to analyze frame 380 was 0.936101 seconds.\n",
      "\n",
      "Analyzing frame n°  400\n",
      "Time to compute distance is:  0.012012999999996055 seconds.\n"
     ]
    },
    {
     "name": "stderr",
     "output_type": "stream",
     "text": [
      "100%|██████████| 1/1 [00:00<00:00, 9341.43it/s]\n"
     ]
    },
    {
     "name": "stdout",
     "output_type": "stream",
     "text": [
      "Time to denoise:  0.8513041659999772 seconds.\n",
      "Finished analysis of frame n° 400\n",
      "Time needed to analyze frame 400 was 0.868979 seconds.\n",
      "\n",
      "Analyzing frame n°  420\n",
      "Time to compute distance is:  0.012216209000001754 seconds.\n"
     ]
    },
    {
     "name": "stderr",
     "output_type": "stream",
     "text": [
      "100%|██████████| 1/1 [00:00<00:00, 19599.55it/s]\n"
     ]
    },
    {
     "name": "stdout",
     "output_type": "stream",
     "text": [
      "Time to denoise:  0.933185917000003 seconds.\n",
      "Finished analysis of frame n° 420\n",
      "Time needed to analyze frame 420 was 0.951032 seconds.\n",
      "\n",
      "Analyzing frame n°  440\n",
      "Time to compute distance is:  0.011987624999989066 seconds.\n"
     ]
    },
    {
     "name": "stderr",
     "output_type": "stream",
     "text": [
      "100%|██████████| 1/1 [00:00<00:00, 17476.27it/s]\n"
     ]
    },
    {
     "name": "stdout",
     "output_type": "stream",
     "text": [
      "Time to denoise:  0.953768249999996 seconds.\n",
      "Finished analysis of frame n° 440\n",
      "Time needed to analyze frame 440 was 0.976028 seconds.\n",
      "\n",
      "Analyzing frame n°  460\n",
      "Time to compute distance is:  0.012350790999988703 seconds.\n"
     ]
    },
    {
     "name": "stderr",
     "output_type": "stream",
     "text": [
      "100%|██████████| 1/1 [00:00<00:00, 9686.61it/s]\n"
     ]
    },
    {
     "name": "stdout",
     "output_type": "stream",
     "text": [
      "Time to denoise:  0.9223738750000052 seconds.\n",
      "Finished analysis of frame n° 460\n",
      "Time needed to analyze frame 460 was 0.940368 seconds.\n",
      "\n",
      "Analyzing frame n°  480\n",
      "Time to compute distance is:  0.012059667000016816 seconds.\n"
     ]
    },
    {
     "name": "stderr",
     "output_type": "stream",
     "text": [
      "100%|██████████| 2/2 [00:00<00:00, 18850.80it/s]\n"
     ]
    },
    {
     "name": "stdout",
     "output_type": "stream",
     "text": [
      "Time to denoise:  0.9271159580000017 seconds.\n",
      "Finished analysis of frame n° 480\n",
      "Time needed to analyze frame 480 was 0.949668 seconds.\n",
      "\n",
      "Analyzing frame n°  500\n",
      "Time to compute distance is:  0.012042540999999574 seconds.\n"
     ]
    },
    {
     "name": "stderr",
     "output_type": "stream",
     "text": [
      "100%|██████████| 2/2 [00:00<00:00, 18157.16it/s]\n"
     ]
    },
    {
     "name": "stdout",
     "output_type": "stream",
     "text": [
      "Time to denoise:  1.0817997919999982 seconds.\n",
      "Finished analysis of frame n° 500\n",
      "Time needed to analyze frame 500 was 1.104899 seconds.\n",
      "\n",
      "Analyzing frame n°  520\n",
      "Time to compute distance is:  0.012825749999990421 seconds.\n"
     ]
    },
    {
     "name": "stderr",
     "output_type": "stream",
     "text": [
      "100%|██████████| 1/1 [00:00<00:00, 9731.56it/s]\n"
     ]
    },
    {
     "name": "stdout",
     "output_type": "stream",
     "text": [
      "Time to denoise:  0.9933675000000051 seconds.\n",
      "Finished analysis of frame n° 520\n",
      "Time needed to analyze frame 520 was 1.013720 seconds.\n",
      "\n",
      "Analyzing frame n°  540\n",
      "Time to compute distance is:  0.0124595420000162 seconds.\n"
     ]
    },
    {
     "name": "stderr",
     "output_type": "stream",
     "text": [
      "100%|██████████| 2/2 [00:00<00:00, 16810.84it/s]\n"
     ]
    },
    {
     "name": "stdout",
     "output_type": "stream",
     "text": [
      "Time to denoise:  1.050245708999995 seconds.\n",
      "Finished analysis of frame n° 540\n",
      "Time needed to analyze frame 540 was 1.076763 seconds.\n",
      "\n",
      "Analyzing frame n°  560\n",
      "Time to compute distance is:  0.012149874999977328 seconds.\n"
     ]
    },
    {
     "name": "stderr",
     "output_type": "stream",
     "text": [
      "100%|██████████| 1/1 [00:00<00:00, 19239.93it/s]\n"
     ]
    },
    {
     "name": "stdout",
     "output_type": "stream",
     "text": [
      "Time to denoise:  0.9507235000000094 seconds.\n",
      "Finished analysis of frame n° 560\n",
      "Time needed to analyze frame 560 was 0.968892 seconds.\n",
      "\n",
      "Analyzing frame n°  580\n",
      "Time to compute distance is:  0.012399917000010419 seconds.\n"
     ]
    },
    {
     "name": "stderr",
     "output_type": "stream",
     "text": [
      "100%|██████████| 1/1 [00:00<00:00, 12192.74it/s]\n"
     ]
    },
    {
     "name": "stdout",
     "output_type": "stream",
     "text": [
      "Time to denoise:  0.9718887500000051 seconds.\n",
      "Finished analysis of frame n° 580\n",
      "Time needed to analyze frame 580 was 0.990973 seconds.\n",
      "\n",
      "Analyzing frame n°  600\n",
      "Time to compute distance is:  0.01190658300001246 seconds.\n"
     ]
    },
    {
     "name": "stderr",
     "output_type": "stream",
     "text": [
      "100%|██████████| 2/2 [00:00<00:00, 18315.74it/s]\n"
     ]
    },
    {
     "name": "stdout",
     "output_type": "stream",
     "text": [
      "Time to denoise:  1.0181401250000022 seconds.\n",
      "Finished analysis of frame n° 600\n",
      "Time needed to analyze frame 600 was 1.039738 seconds.\n",
      "\n",
      "Analyzing frame n°  620\n",
      "Time to compute distance is:  0.012363375000006727 seconds.\n"
     ]
    },
    {
     "name": "stderr",
     "output_type": "stream",
     "text": [
      "100%|██████████| 1/1 [00:00<00:00, 11491.24it/s]\n"
     ]
    },
    {
     "name": "stdout",
     "output_type": "stream",
     "text": [
      "Time to denoise:  0.9211943749999989 seconds.\n",
      "Finished analysis of frame n° 620\n",
      "Time needed to analyze frame 620 was 0.939318 seconds.\n",
      "\n",
      "Analyzing frame n°  640\n",
      "Time to compute distance is:  0.012063500000010663 seconds.\n"
     ]
    },
    {
     "name": "stderr",
     "output_type": "stream",
     "text": [
      "100%|██████████| 2/2 [00:00<00:00, 11765.23it/s]\n"
     ]
    },
    {
     "name": "stdout",
     "output_type": "stream",
     "text": [
      "Time to denoise:  0.9306112499999983 seconds.\n",
      "Finished analysis of frame n° 640\n",
      "Time needed to analyze frame 640 was 0.953618 seconds.\n",
      "\n",
      "Analyzing frame n°  660\n",
      "Time to compute distance is:  0.011956083999990597 seconds.\n"
     ]
    },
    {
     "name": "stderr",
     "output_type": "stream",
     "text": [
      "100%|██████████| 2/2 [00:00<00:00, 37117.73it/s]\n"
     ]
    },
    {
     "name": "stdout",
     "output_type": "stream",
     "text": [
      "Time to denoise:  0.9297667089999777 seconds.\n",
      "Finished analysis of frame n° 660\n",
      "Time needed to analyze frame 660 was 0.952955 seconds.\n",
      "\n",
      "Analyzing frame n°  680\n",
      "Time to compute distance is:  0.011943584000022156 seconds.\n"
     ]
    },
    {
     "name": "stderr",
     "output_type": "stream",
     "text": [
      "100%|██████████| 2/2 [00:00<00:00, 19972.88it/s]\n"
     ]
    },
    {
     "name": "stdout",
     "output_type": "stream",
     "text": [
      "Time to denoise:  0.9156923750000203 seconds.\n",
      "Finished analysis of frame n° 680\n",
      "Time needed to analyze frame 680 was 0.938398 seconds.\n",
      "\n",
      "Analyzing frame n°  700\n",
      "Time to compute distance is:  0.012202332999976306 seconds.\n"
     ]
    },
    {
     "name": "stderr",
     "output_type": "stream",
     "text": [
      "100%|██████████| 2/2 [00:00<00:00, 18682.87it/s]\n"
     ]
    },
    {
     "name": "stdout",
     "output_type": "stream",
     "text": [
      "Time to denoise:  0.9359379580000109 seconds.\n",
      "Finished analysis of frame n° 700\n",
      "Time needed to analyze frame 700 was 0.959913 seconds.\n",
      "\n",
      "Analyzing frame n°  720\n",
      "Time to compute distance is:  0.012187374999996337 seconds.\n"
     ]
    },
    {
     "name": "stderr",
     "output_type": "stream",
     "text": [
      "100%|██████████| 1/1 [00:00<00:00, 10010.27it/s]\n"
     ]
    },
    {
     "name": "stdout",
     "output_type": "stream",
     "text": [
      "Time to denoise:  0.9260314170000186 seconds.\n",
      "Finished analysis of frame n° 720\n",
      "Time needed to analyze frame 720 was 0.948903 seconds.\n",
      "\n",
      "Analyzing frame n°  740\n",
      "Time to compute distance is:  0.012127082999995764 seconds.\n"
     ]
    },
    {
     "name": "stderr",
     "output_type": "stream",
     "text": [
      "0it [00:00, ?it/s]\n"
     ]
    },
    {
     "name": "stdout",
     "output_type": "stream",
     "text": [
      "Time to denoise:  0.9339498749999962 seconds.\n",
      "Finished analysis of frame n° 740\n",
      "Time needed to analyze frame 740 was 0.946226 seconds.\n",
      "\n",
      "Analyzing frame n°  760\n",
      "Time to compute distance is:  0.012436707999995633 seconds.\n"
     ]
    },
    {
     "name": "stderr",
     "output_type": "stream",
     "text": [
      "100%|██████████| 2/2 [00:00<00:00, 36314.32it/s]\n"
     ]
    },
    {
     "name": "stdout",
     "output_type": "stream",
     "text": [
      "Time to denoise:  0.9329371249999951 seconds.\n",
      "Finished analysis of frame n° 760\n",
      "Time needed to analyze frame 760 was 0.955576 seconds.\n",
      "\n",
      "Analyzing frame n°  780\n",
      "Time to compute distance is:  0.012198208000000932 seconds.\n"
     ]
    },
    {
     "name": "stderr",
     "output_type": "stream",
     "text": [
      "100%|██████████| 1/1 [00:00<00:00, 18477.11it/s]\n"
     ]
    },
    {
     "name": "stdout",
     "output_type": "stream",
     "text": [
      "Time to denoise:  0.9380236249999996 seconds.\n",
      "Finished analysis of frame n° 780\n",
      "Time needed to analyze frame 780 was 0.955980 seconds.\n",
      "\n",
      "Analyzing frame n°  800\n",
      "Time to compute distance is:  0.011967666999993298 seconds.\n"
     ]
    },
    {
     "name": "stderr",
     "output_type": "stream",
     "text": [
      "100%|██████████| 1/1 [00:00<00:00, 16194.22it/s]\n"
     ]
    },
    {
     "name": "stdout",
     "output_type": "stream",
     "text": [
      "Time to denoise:  0.9704485419999855 seconds.\n",
      "Finished analysis of frame n° 800\n",
      "Time needed to analyze frame 800 was 0.990923 seconds.\n",
      "\n",
      "Analyzing frame n°  820\n",
      "Time to compute distance is:  0.012172792000001209 seconds.\n"
     ]
    },
    {
     "name": "stderr",
     "output_type": "stream",
     "text": [
      "100%|██████████| 2/2 [00:00<00:00, 20020.54it/s]\n"
     ]
    },
    {
     "name": "stdout",
     "output_type": "stream",
     "text": [
      "Time to denoise:  0.9687222500000132 seconds.\n",
      "Finished analysis of frame n° 820\n",
      "Time needed to analyze frame 820 was 0.994529 seconds.\n",
      "\n",
      "Analyzing frame n°  840\n",
      "Time to compute distance is:  0.011908500000004096 seconds.\n"
     ]
    },
    {
     "name": "stderr",
     "output_type": "stream",
     "text": [
      "100%|██████████| 1/1 [00:00<00:00, 18477.11it/s]\n"
     ]
    },
    {
     "name": "stdout",
     "output_type": "stream",
     "text": [
      "Time to denoise:  0.9371950419999848 seconds.\n",
      "Finished analysis of frame n° 840\n",
      "Time needed to analyze frame 840 was 0.954884 seconds.\n",
      "\n",
      "Analyzing frame n°  860\n",
      "Time to compute distance is:  0.012187417000006917 seconds.\n"
     ]
    },
    {
     "name": "stderr",
     "output_type": "stream",
     "text": [
      "100%|██████████| 1/1 [00:00<00:00, 10866.07it/s]\n"
     ]
    },
    {
     "name": "stdout",
     "output_type": "stream",
     "text": [
      "Time to denoise:  0.962387624999991 seconds.\n",
      "Finished analysis of frame n° 860\n",
      "Time needed to analyze frame 860 was 0.981645 seconds.\n",
      "\n",
      "Analyzing frame n°  880\n",
      "Time to compute distance is:  0.012376291000009587 seconds.\n"
     ]
    },
    {
     "name": "stderr",
     "output_type": "stream",
     "text": [
      "100%|██████████| 2/2 [00:00<00:00, 17225.07it/s]\n"
     ]
    },
    {
     "name": "stdout",
     "output_type": "stream",
     "text": [
      "Time to denoise:  1.0781915409999954 seconds.\n",
      "Finished analysis of frame n° 880\n",
      "Time needed to analyze frame 880 was 1.101572 seconds.\n",
      "\n",
      "Analyzing frame n°  900\n",
      "Time to compute distance is:  0.011936667000014722 seconds.\n"
     ]
    },
    {
     "name": "stderr",
     "output_type": "stream",
     "text": [
      "100%|██████████| 1/1 [00:00<00:00, 10010.27it/s]\n"
     ]
    },
    {
     "name": "stdout",
     "output_type": "stream",
     "text": [
      "Time to denoise:  1.0535801249999963 seconds.\n",
      "Finished analysis of frame n° 900\n",
      "Time needed to analyze frame 900 was 1.069764 seconds.\n",
      "\n",
      "Analyzing frame n°  920\n",
      "Time to compute distance is:  0.012195958999996037 seconds.\n"
     ]
    },
    {
     "name": "stderr",
     "output_type": "stream",
     "text": [
      "100%|██████████| 1/1 [00:00<00:00, 7626.01it/s]\n"
     ]
    },
    {
     "name": "stdout",
     "output_type": "stream",
     "text": [
      "Time to denoise:  1.1282025420000252 seconds.\n",
      "Finished analysis of frame n° 920\n",
      "Time needed to analyze frame 920 was 1.143299 seconds.\n",
      "\n",
      "Analyzing frame n°  940\n",
      "Time to compute distance is:  0.012350665999974808 seconds.\n"
     ]
    },
    {
     "name": "stderr",
     "output_type": "stream",
     "text": [
      "100%|██████████| 2/2 [00:00<00:00, 36314.32it/s]\n"
     ]
    },
    {
     "name": "stdout",
     "output_type": "stream",
     "text": [
      "Time to denoise:  0.9580304999999782 seconds.\n",
      "Finished analysis of frame n° 940\n",
      "Time needed to analyze frame 940 was 0.980612 seconds.\n",
      "\n",
      "Analyzing frame n°  960\n",
      "Time to compute distance is:  0.012273167000017793 seconds.\n"
     ]
    },
    {
     "name": "stderr",
     "output_type": "stream",
     "text": [
      "100%|██████████| 1/1 [00:00<00:00, 9799.78it/s]\n"
     ]
    },
    {
     "name": "stdout",
     "output_type": "stream",
     "text": [
      "Time to denoise:  0.9912870829999747 seconds.\n",
      "Finished analysis of frame n° 960\n",
      "Time needed to analyze frame 960 was 1.010982 seconds.\n",
      "\n",
      "Analyzing frame n°  980\n",
      "Time to compute distance is:  0.011998833000006925 seconds.\n"
     ]
    },
    {
     "name": "stderr",
     "output_type": "stream",
     "text": [
      "0it [00:00, ?it/s]\n"
     ]
    },
    {
     "name": "stdout",
     "output_type": "stream",
     "text": [
      "Time to denoise:  0.951634624999997 seconds.\n",
      "Finished analysis of frame n° 980\n",
      "Time needed to analyze frame 980 was 0.963897 seconds.\n",
      "\n",
      "Analyzing frame n°  1000\n",
      "Time to compute distance is:  0.012395292000007885 seconds.\n"
     ]
    },
    {
     "name": "stderr",
     "output_type": "stream",
     "text": [
      "100%|██████████| 1/1 [00:00<00:00, 10230.01it/s]\n"
     ]
    },
    {
     "name": "stdout",
     "output_type": "stream",
     "text": [
      "Time to denoise:  1.011193999999989 seconds.\n",
      "Finished analysis of frame n° 1000\n",
      "Time needed to analyze frame 1000 was 1.031343 seconds.\n",
      "\n",
      "Analyzing frame n°  1020\n",
      "Time to compute distance is:  0.012183625000005804 seconds.\n"
     ]
    },
    {
     "name": "stderr",
     "output_type": "stream",
     "text": [
      "100%|██████████| 1/1 [00:00<00:00, 17848.10it/s]\n"
     ]
    },
    {
     "name": "stdout",
     "output_type": "stream",
     "text": [
      "Time to denoise:  0.9665684169999906 seconds.\n",
      "Finished analysis of frame n° 1020\n",
      "Time needed to analyze frame 1020 was 0.988560 seconds.\n",
      "\n",
      "Analyzing frame n°  1040\n",
      "Time to compute distance is:  0.012237291000019468 seconds.\n"
     ]
    },
    {
     "name": "stderr",
     "output_type": "stream",
     "text": [
      "100%|██████████| 2/2 [00:00<00:00, 18682.87it/s]\n"
     ]
    },
    {
     "name": "stdout",
     "output_type": "stream",
     "text": [
      "Time to denoise:  0.9440954169999998 seconds.\n",
      "Finished analysis of frame n° 1040\n",
      "Time needed to analyze frame 1040 was 0.972991 seconds.\n",
      "\n",
      "Analyzing frame n°  1060\n",
      "Time to compute distance is:  0.01201379199997632 seconds.\n"
     ]
    },
    {
     "name": "stderr",
     "output_type": "stream",
     "text": [
      "100%|██████████| 1/1 [00:00<00:00, 19239.93it/s]\n"
     ]
    },
    {
     "name": "stdout",
     "output_type": "stream",
     "text": [
      "Time to denoise:  0.9527844170000037 seconds.\n",
      "Finished analysis of frame n° 1060\n",
      "Time needed to analyze frame 1060 was 0.970714 seconds.\n",
      "\n",
      "Analyzing frame n°  1080\n",
      "Time to compute distance is:  0.012179916999997431 seconds.\n"
     ]
    },
    {
     "name": "stderr",
     "output_type": "stream",
     "text": [
      "0it [00:00, ?it/s]\n"
     ]
    },
    {
     "name": "stdout",
     "output_type": "stream",
     "text": [
      "Time to denoise:  0.9538948750000031 seconds.\n",
      "Finished analysis of frame n° 1080\n",
      "Time needed to analyze frame 1080 was 0.966204 seconds.\n",
      "\n",
      "Analyzing frame n°  1100\n",
      "Time to compute distance is:  0.012288249999983236 seconds.\n"
     ]
    },
    {
     "name": "stderr",
     "output_type": "stream",
     "text": [
      "100%|██████████| 2/2 [00:00<00:00, 18001.30it/s]\n"
     ]
    },
    {
     "name": "stdout",
     "output_type": "stream",
     "text": [
      "Time to denoise:  1.011770083000016 seconds.\n",
      "Finished analysis of frame n° 1100\n",
      "Time needed to analyze frame 1100 was 1.034113 seconds.\n",
      "\n",
      "Analyzing frame n°  1120\n",
      "Time to compute distance is:  0.012189291999987972 seconds.\n"
     ]
    },
    {
     "name": "stderr",
     "output_type": "stream",
     "text": [
      "100%|██████████| 1/1 [00:00<00:00, 10106.76it/s]\n"
     ]
    },
    {
     "name": "stdout",
     "output_type": "stream",
     "text": [
      "Time to denoise:  0.9809893329999966 seconds.\n",
      "Finished analysis of frame n° 1120\n",
      "Time needed to analyze frame 1120 was 1.004870 seconds.\n",
      "\n",
      "Analyzing frame n°  1140\n",
      "Time to compute distance is:  0.011382832999998982 seconds.\n"
     ]
    },
    {
     "name": "stderr",
     "output_type": "stream",
     "text": [
      "100%|██████████| 1/1 [00:00<00:00, 17848.10it/s]\n"
     ]
    },
    {
     "name": "stdout",
     "output_type": "stream",
     "text": [
      "Time to denoise:  0.9386512499999924 seconds.\n",
      "Finished analysis of frame n° 1140\n",
      "Time needed to analyze frame 1140 was 0.961684 seconds.\n",
      "\n",
      "Analyzing frame n°  1160\n",
      "Time to compute distance is:  0.012247582999975748 seconds.\n"
     ]
    },
    {
     "name": "stderr",
     "output_type": "stream",
     "text": [
      "100%|██████████| 1/1 [00:00<00:00, 9157.87it/s]\n"
     ]
    },
    {
     "name": "stdout",
     "output_type": "stream",
     "text": [
      "Time to denoise:  0.9997019170000101 seconds.\n",
      "Finished analysis of frame n° 1160\n",
      "Time needed to analyze frame 1160 was 1.017716 seconds.\n",
      "\n",
      "Analyzing frame n°  1180\n",
      "Time to compute distance is:  0.011964167000002135 seconds.\n"
     ]
    },
    {
     "name": "stderr",
     "output_type": "stream",
     "text": [
      "100%|██████████| 2/2 [00:00<00:00, 30840.47it/s]\n"
     ]
    },
    {
     "name": "stdout",
     "output_type": "stream",
     "text": [
      "Time to denoise:  1.028816959000011 seconds.\n",
      "Finished analysis of frame n° 1180\n",
      "Time needed to analyze frame 1180 was 1.052797 seconds.\n",
      "\n",
      "Analyzing frame n°  1200\n",
      "Time to compute distance is:  0.01221175000000585 seconds.\n"
     ]
    },
    {
     "name": "stderr",
     "output_type": "stream",
     "text": [
      "100%|██████████| 1/1 [00:00<00:00, 10645.44it/s]\n"
     ]
    },
    {
     "name": "stdout",
     "output_type": "stream",
     "text": [
      "Time to denoise:  0.9281996249999906 seconds.\n",
      "Finished analysis of frame n° 1200\n",
      "Time needed to analyze frame 1200 was 0.946132 seconds.\n",
      "\n",
      "Analyzing frame n°  1220\n",
      "Time to compute distance is:  0.012064333000012084 seconds.\n"
     ]
    },
    {
     "name": "stderr",
     "output_type": "stream",
     "text": [
      "100%|██████████| 2/2 [00:00<00:00, 21024.08it/s]\n"
     ]
    },
    {
     "name": "stdout",
     "output_type": "stream",
     "text": [
      "Time to denoise:  1.0223420419999911 seconds.\n",
      "Finished analysis of frame n° 1220\n",
      "Time needed to analyze frame 1220 was 1.051033 seconds.\n",
      "\n",
      "Analyzing frame n°  1240\n",
      "Time to compute distance is:  0.011906834000001254 seconds.\n"
     ]
    },
    {
     "name": "stderr",
     "output_type": "stream",
     "text": [
      "100%|██████████| 2/2 [00:00<00:00, 29433.71it/s]\n"
     ]
    },
    {
     "name": "stdout",
     "output_type": "stream",
     "text": [
      "Time to denoise:  1.0343448329999774 seconds.\n",
      "Finished analysis of frame n° 1240\n",
      "Time needed to analyze frame 1240 was 1.058380 seconds.\n",
      "\n",
      "Analyzing frame n°  1260\n",
      "Time to compute distance is:  0.012120000000010123 seconds.\n"
     ]
    },
    {
     "name": "stderr",
     "output_type": "stream",
     "text": [
      "100%|██████████| 1/1 [00:00<00:00, 18315.74it/s]\n"
     ]
    },
    {
     "name": "stdout",
     "output_type": "stream",
     "text": [
      "Time to denoise:  0.9904397079999967 seconds.\n",
      "Finished analysis of frame n° 1260\n",
      "Time needed to analyze frame 1260 was 1.012098 seconds.\n",
      "\n",
      "Analyzing frame n°  1280\n",
      "Time to compute distance is:  0.01220041599998467 seconds.\n"
     ]
    },
    {
     "name": "stderr",
     "output_type": "stream",
     "text": [
      "100%|██████████| 1/1 [00:00<00:00, 11618.57it/s]\n"
     ]
    },
    {
     "name": "stdout",
     "output_type": "stream",
     "text": [
      "Time to denoise:  0.959533499999992 seconds.\n",
      "Finished analysis of frame n° 1280\n",
      "Time needed to analyze frame 1280 was 0.977504 seconds.\n",
      "\n",
      "Analyzing frame n°  1300\n",
      "Time to compute distance is:  0.012126792000003661 seconds.\n"
     ]
    },
    {
     "name": "stderr",
     "output_type": "stream",
     "text": [
      "100%|██████████| 2/2 [00:00<00:00, 34379.54it/s]\n"
     ]
    },
    {
     "name": "stdout",
     "output_type": "stream",
     "text": [
      "Time to denoise:  0.9482710839999982 seconds.\n",
      "Finished analysis of frame n° 1300\n",
      "Time needed to analyze frame 1300 was 0.971064 seconds.\n",
      "\n",
      "Analyzing frame n°  1320\n",
      "Time to compute distance is:  0.012187624999995705 seconds.\n"
     ]
    },
    {
     "name": "stderr",
     "output_type": "stream",
     "text": [
      "100%|██████████| 1/1 [00:00<00:00, 11214.72it/s]\n"
     ]
    },
    {
     "name": "stdout",
     "output_type": "stream",
     "text": [
      "Time to denoise:  0.9466117499999882 seconds.\n",
      "Finished analysis of frame n° 1320\n",
      "Time needed to analyze frame 1320 was 0.966392 seconds.\n",
      "\n",
      "Analyzing frame n°  1340\n",
      "Time to compute distance is:  0.01191650000001232 seconds.\n"
     ]
    },
    {
     "name": "stderr",
     "output_type": "stream",
     "text": [
      "100%|██████████| 2/2 [00:00<00:00, 18040.02it/s]\n"
     ]
    },
    {
     "name": "stdout",
     "output_type": "stream",
     "text": [
      "Time to denoise:  1.0117064169999992 seconds.\n",
      "Finished analysis of frame n° 1340\n",
      "Time needed to analyze frame 1340 was 1.034722 seconds.\n",
      "\n",
      "Analyzing frame n°  1360\n",
      "Time to compute distance is:  0.012050499999986641 seconds.\n"
     ]
    },
    {
     "name": "stderr",
     "output_type": "stream",
     "text": [
      "100%|██████████| 1/1 [00:00<00:00, 10512.04it/s]\n"
     ]
    },
    {
     "name": "stdout",
     "output_type": "stream",
     "text": [
      "Time to denoise:  0.9422139170000037 seconds.\n",
      "Finished analysis of frame n° 1360\n",
      "Time needed to analyze frame 1360 was 0.959982 seconds.\n",
      "\n",
      "Analyzing frame n°  1380\n",
      "Time to compute distance is:  0.012018957999998747 seconds.\n"
     ]
    },
    {
     "name": "stderr",
     "output_type": "stream",
     "text": [
      "100%|██████████| 1/1 [00:00<00:00, 19239.93it/s]\n"
     ]
    },
    {
     "name": "stdout",
     "output_type": "stream",
     "text": [
      "Time to denoise:  0.9431327080000074 seconds.\n",
      "Finished analysis of frame n° 1380\n",
      "Time needed to analyze frame 1380 was 0.960862 seconds.\n",
      "\n",
      "Analyzing frame n°  1400\n",
      "Time to compute distance is:  0.012057166000005282 seconds.\n"
     ]
    },
    {
     "name": "stderr",
     "output_type": "stream",
     "text": [
      "100%|██████████| 1/1 [00:00<00:00, 18893.26it/s]\n"
     ]
    },
    {
     "name": "stdout",
     "output_type": "stream",
     "text": [
      "Time to denoise:  0.9227900409999847 seconds.\n",
      "Finished analysis of frame n° 1400\n",
      "Time needed to analyze frame 1400 was 0.940603 seconds.\n",
      "\n",
      "Analyzing frame n°  1420\n",
      "Time to compute distance is:  0.012112500000000637 seconds.\n"
     ]
    },
    {
     "name": "stderr",
     "output_type": "stream",
     "text": [
      "100%|██████████| 1/1 [00:00<00:00, 17848.10it/s]\n"
     ]
    },
    {
     "name": "stdout",
     "output_type": "stream",
     "text": [
      "Time to denoise:  0.9279080830000055 seconds.\n",
      "Finished analysis of frame n° 1420\n",
      "Time needed to analyze frame 1420 was 0.950723 seconds.\n",
      "\n",
      "Analyzing frame n°  1440\n",
      "Time to compute distance is:  0.012584875000015927 seconds.\n"
     ]
    },
    {
     "name": "stderr",
     "output_type": "stream",
     "text": [
      "100%|██████████| 1/1 [00:00<00:00, 9686.61it/s]\n"
     ]
    },
    {
     "name": "stdout",
     "output_type": "stream",
     "text": [
      "Time to denoise:  0.9727024999999969 seconds.\n",
      "Finished analysis of frame n° 1440\n",
      "Time needed to analyze frame 1440 was 0.995078 seconds.\n",
      "\n",
      "Analyzing frame n°  1460\n",
      "Time to compute distance is:  0.012038334000010309 seconds.\n"
     ]
    },
    {
     "name": "stderr",
     "output_type": "stream",
     "text": [
      "100%|██████████| 1/1 [00:00<00:00, 9986.44it/s]\n"
     ]
    },
    {
     "name": "stdout",
     "output_type": "stream",
     "text": [
      "Time to denoise:  0.9977256669999974 seconds.\n",
      "Finished analysis of frame n° 1460\n",
      "Time needed to analyze frame 1460 was 1.017734 seconds.\n",
      "\n",
      "Analyzing frame n°  1480\n",
      "Time to compute distance is:  0.012328332999999247 seconds.\n"
     ]
    },
    {
     "name": "stderr",
     "output_type": "stream",
     "text": [
      "100%|██████████| 1/1 [00:00<00:00, 17848.10it/s]\n"
     ]
    },
    {
     "name": "stdout",
     "output_type": "stream",
     "text": [
      "Time to denoise:  0.8633569579999971 seconds.\n",
      "Finished analysis of frame n° 1480\n",
      "Time needed to analyze frame 1480 was 0.881831 seconds.\n",
      "\n",
      "Analyzing frame n°  1500\n",
      "Time to compute distance is:  0.01247641599999838 seconds.\n"
     ]
    },
    {
     "name": "stderr",
     "output_type": "stream",
     "text": [
      "0it [00:00, ?it/s]\n"
     ]
    },
    {
     "name": "stdout",
     "output_type": "stream",
     "text": [
      "Time to denoise:  0.9743000839999922 seconds.\n",
      "Finished analysis of frame n° 1500\n",
      "Time needed to analyze frame 1500 was 0.987057 seconds.\n",
      "\n",
      "Analyzing frame n°  1520\n",
      "Time to compute distance is:  0.012437208999983795 seconds.\n"
     ]
    },
    {
     "name": "stderr",
     "output_type": "stream",
     "text": [
      "100%|██████████| 2/2 [00:00<00:00, 34521.02it/s]\n"
     ]
    },
    {
     "name": "stdout",
     "output_type": "stream",
     "text": [
      "Time to denoise:  1.0486412500000029 seconds.\n",
      "Finished analysis of frame n° 1520\n",
      "Time needed to analyze frame 1520 was 1.067681 seconds.\n",
      "\n",
      "Analyzing frame n°  1540\n",
      "Time to compute distance is:  0.012420375000004924 seconds.\n"
     ]
    },
    {
     "name": "stderr",
     "output_type": "stream",
     "text": [
      "100%|██████████| 2/2 [00:00<00:00, 22982.49it/s]\n"
     ]
    },
    {
     "name": "stdout",
     "output_type": "stream",
     "text": [
      "Time to denoise:  1.0500661670000113 seconds.\n",
      "Finished analysis of frame n° 1540\n",
      "Time needed to analyze frame 1540 was 1.072392 seconds.\n",
      "\n",
      "Analyzing frame n°  1560\n",
      "Time to compute distance is:  0.01189145899999744 seconds.\n"
     ]
    },
    {
     "name": "stderr",
     "output_type": "stream",
     "text": [
      "100%|██████████| 1/1 [00:00<00:00, 16578.28it/s]\n"
     ]
    },
    {
     "name": "stdout",
     "output_type": "stream",
     "text": [
      "Time to denoise:  1.0013910829999872 seconds.\n",
      "Finished analysis of frame n° 1560\n",
      "Time needed to analyze frame 1560 was 1.016569 seconds.\n",
      "\n",
      "Analyzing frame n°  1580\n",
      "Time to compute distance is:  0.01266974999998638 seconds.\n"
     ]
    },
    {
     "name": "stderr",
     "output_type": "stream",
     "text": [
      "100%|██████████| 1/1 [00:00<00:00, 18808.54it/s]\n"
     ]
    },
    {
     "name": "stdout",
     "output_type": "stream",
     "text": [
      "Time to denoise:  1.0221888340000191 seconds.\n",
      "Finished analysis of frame n° 1580\n",
      "Time needed to analyze frame 1580 was 1.038995 seconds.\n",
      "\n",
      "Analyzing frame n°  1600\n",
      "Time to compute distance is:  0.012128042000028927 seconds.\n"
     ]
    },
    {
     "name": "stderr",
     "output_type": "stream",
     "text": [
      "100%|██████████| 2/2 [00:00<00:00, 18517.90it/s]\n"
     ]
    },
    {
     "name": "stdout",
     "output_type": "stream",
     "text": [
      "Time to denoise:  1.0086674170000265 seconds.\n",
      "Finished analysis of frame n° 1600\n",
      "Time needed to analyze frame 1600 was 1.031575 seconds.\n",
      "\n",
      "Analyzing frame n°  1620\n",
      "Time to compute distance is:  0.012057291000019177 seconds.\n"
     ]
    },
    {
     "name": "stderr",
     "output_type": "stream",
     "text": [
      "100%|██████████| 1/1 [00:00<00:00, 16912.52it/s]\n"
     ]
    },
    {
     "name": "stdout",
     "output_type": "stream",
     "text": [
      "Time to denoise:  0.9731842500000312 seconds.\n",
      "Finished analysis of frame n° 1620\n",
      "Time needed to analyze frame 1620 was 0.989802 seconds.\n",
      "\n",
      "Analyzing frame n°  1640\n",
      "Time to compute distance is:  0.02245962500001042 seconds.\n"
     ]
    },
    {
     "name": "stderr",
     "output_type": "stream",
     "text": [
      "100%|██████████| 1/1 [00:00<00:00, 8924.05it/s]\n"
     ]
    },
    {
     "name": "stdout",
     "output_type": "stream",
     "text": [
      "Time to denoise:  1.1085340409999844 seconds.\n",
      "Finished analysis of frame n° 1640\n",
      "Time needed to analyze frame 1640 was 1.139038 seconds.\n",
      "\n",
      "Analyzing frame n°  1660\n",
      "Time to compute distance is:  0.012772625000025073 seconds.\n"
     ]
    },
    {
     "name": "stderr",
     "output_type": "stream",
     "text": [
      "100%|██████████| 2/2 [00:00<00:00, 17848.10it/s]\n"
     ]
    },
    {
     "name": "stdout",
     "output_type": "stream",
     "text": [
      "Time to denoise:  1.016640500000051 seconds.\n",
      "Finished analysis of frame n° 1660\n",
      "Time needed to analyze frame 1660 was 1.041795 seconds.\n",
      "\n",
      "Analyzing frame n°  1680\n",
      "Time to compute distance is:  0.012106625000001259 seconds.\n"
     ]
    },
    {
     "name": "stderr",
     "output_type": "stream",
     "text": [
      "100%|██████████| 1/1 [00:00<00:00, 10106.76it/s]\n"
     ]
    },
    {
     "name": "stdout",
     "output_type": "stream",
     "text": [
      "Time to denoise:  0.9836377089999928 seconds.\n",
      "Finished analysis of frame n° 1680\n",
      "Time needed to analyze frame 1680 was 1.003900 seconds.\n",
      "\n",
      "Analyzing frame n°  1700\n",
      "Time to compute distance is:  0.01195212499999343 seconds.\n"
     ]
    },
    {
     "name": "stderr",
     "output_type": "stream",
     "text": [
      "100%|██████████| 2/2 [00:00<00:00, 35696.20it/s]\n"
     ]
    },
    {
     "name": "stdout",
     "output_type": "stream",
     "text": [
      "Time to denoise:  0.9773515420000081 seconds.\n",
      "Finished analysis of frame n° 1700\n",
      "Time needed to analyze frame 1700 was 0.997743 seconds.\n",
      "\n",
      "Analyzing frame n°  1720\n",
      "Time to compute distance is:  0.012105834000010418 seconds.\n"
     ]
    },
    {
     "name": "stderr",
     "output_type": "stream",
     "text": [
      "100%|██████████| 2/2 [00:00<00:00, 18196.55it/s]\n"
     ]
    },
    {
     "name": "stdout",
     "output_type": "stream",
     "text": [
      "Time to denoise:  0.9779535410000335 seconds.\n",
      "Finished analysis of frame n° 1720\n",
      "Time needed to analyze frame 1720 was 0.999530 seconds.\n",
      "\n",
      "Analyzing frame n°  1740\n",
      "Time to compute distance is:  0.01234599999997954 seconds.\n"
     ]
    },
    {
     "name": "stderr",
     "output_type": "stream",
     "text": [
      "100%|██████████| 1/1 [00:00<00:00, 18477.11it/s]\n"
     ]
    },
    {
     "name": "stdout",
     "output_type": "stream",
     "text": [
      "Time to denoise:  0.9523666669999784 seconds.\n",
      "Finished analysis of frame n° 1740\n",
      "Time needed to analyze frame 1740 was 0.971451 seconds.\n",
      "\n",
      "Analyzing frame n°  1760\n",
      "Time to compute distance is:  0.01231483300000491 seconds.\n"
     ]
    },
    {
     "name": "stderr",
     "output_type": "stream",
     "text": [
      "100%|██████████| 2/2 [00:00<00:00, 20867.18it/s]\n"
     ]
    },
    {
     "name": "stdout",
     "output_type": "stream",
     "text": [
      "Time to denoise:  0.9899582500000292 seconds.\n",
      "Finished analysis of frame n° 1760\n",
      "Time needed to analyze frame 1760 was 1.010758 seconds.\n",
      "\n",
      "Analyzing frame n°  1780\n",
      "Time to compute distance is:  0.011897458000021288 seconds.\n"
     ]
    },
    {
     "name": "stderr",
     "output_type": "stream",
     "text": [
      "100%|██████████| 2/2 [00:00<00:00, 18355.82it/s]\n"
     ]
    },
    {
     "name": "stdout",
     "output_type": "stream",
     "text": [
      "Time to denoise:  0.9290486250000072 seconds.\n",
      "Finished analysis of frame n° 1780\n",
      "Time needed to analyze frame 1780 was 0.951850 seconds.\n",
      "\n",
      "Analyzing frame n°  1800\n",
      "Time to compute distance is:  0.011916917000007743 seconds.\n"
     ]
    },
    {
     "name": "stderr",
     "output_type": "stream",
     "text": [
      "100%|██████████| 2/2 [00:00<00:00, 35098.78it/s]\n"
     ]
    },
    {
     "name": "stdout",
     "output_type": "stream",
     "text": [
      "Time to denoise:  1.0197505410000076 seconds.\n",
      "Finished analysis of frame n° 1800\n",
      "Time needed to analyze frame 1800 was 1.041936 seconds.\n",
      "\n",
      "Analyzing frame n°  1820\n",
      "Time to compute distance is:  0.011992958000007548 seconds.\n"
     ]
    },
    {
     "name": "stderr",
     "output_type": "stream",
     "text": [
      "100%|██████████| 1/1 [00:00<00:00, 10894.30it/s]\n"
     ]
    },
    {
     "name": "stdout",
     "output_type": "stream",
     "text": [
      "Time to denoise:  0.970572417000028 seconds.\n",
      "Finished analysis of frame n° 1820\n",
      "Time needed to analyze frame 1820 was 0.989023 seconds.\n",
      "\n",
      "Analyzing frame n°  1840\n",
      "Time to compute distance is:  0.012502540999946632 seconds.\n"
     ]
    },
    {
     "name": "stderr",
     "output_type": "stream",
     "text": [
      "100%|██████████| 2/2 [00:00<00:00, 18893.26it/s]\n"
     ]
    },
    {
     "name": "stdout",
     "output_type": "stream",
     "text": [
      "Time to denoise:  1.010166207999987 seconds.\n",
      "Finished analysis of frame n° 1840\n",
      "Time needed to analyze frame 1840 was 1.037203 seconds.\n",
      "\n",
      "Analyzing frame n°  1860\n",
      "Time to compute distance is:  0.012417042000038236 seconds.\n"
     ]
    },
    {
     "name": "stderr",
     "output_type": "stream",
     "text": [
      "0it [00:00, ?it/s]\n"
     ]
    },
    {
     "name": "stdout",
     "output_type": "stream",
     "text": [
      "Time to denoise:  0.9717350420000344 seconds.\n",
      "Finished analysis of frame n° 1860\n",
      "Time needed to analyze frame 1860 was 0.984337 seconds.\n",
      "\n",
      "Analyzing frame n°  1880\n",
      "Time to compute distance is:  0.012055916000008438 seconds.\n"
     ]
    },
    {
     "name": "stderr",
     "output_type": "stream",
     "text": [
      "100%|██████████| 1/1 [00:00<00:00, 10645.44it/s]\n"
     ]
    },
    {
     "name": "stdout",
     "output_type": "stream",
     "text": [
      "Time to denoise:  0.9757667920000017 seconds.\n",
      "Finished analysis of frame n° 1880\n",
      "Time needed to analyze frame 1880 was 0.993633 seconds.\n",
      "\n",
      "Analyzing frame n°  1900\n",
      "Time to compute distance is:  0.012106041999970785 seconds.\n"
     ]
    },
    {
     "name": "stderr",
     "output_type": "stream",
     "text": [
      "0it [00:00, ?it/s]\n"
     ]
    },
    {
     "name": "stdout",
     "output_type": "stream",
     "text": [
      "Time to denoise:  0.9419555829999808 seconds.\n",
      "Finished analysis of frame n° 1900\n",
      "Time needed to analyze frame 1900 was 0.954236 seconds.\n",
      "\n",
      "Analyzing frame n°  1920\n",
      "Time to compute distance is:  0.012293917000022248 seconds.\n"
     ]
    },
    {
     "name": "stderr",
     "output_type": "stream",
     "text": [
      "0it [00:00, ?it/s]\n"
     ]
    },
    {
     "name": "stdout",
     "output_type": "stream",
     "text": [
      "Time to denoise:  0.9460023329999672 seconds.\n",
      "Finished analysis of frame n° 1920\n",
      "Time needed to analyze frame 1920 was 0.958431 seconds.\n",
      "\n",
      "Analyzing frame n°  1940\n",
      "Time to compute distance is:  0.012289749999979449 seconds.\n"
     ]
    },
    {
     "name": "stderr",
     "output_type": "stream",
     "text": [
      "0it [00:00, ?it/s]\n"
     ]
    },
    {
     "name": "stdout",
     "output_type": "stream",
     "text": [
      "Time to denoise:  0.9516188750000083 seconds.\n",
      "Finished analysis of frame n° 1940\n",
      "Time needed to analyze frame 1940 was 0.964149 seconds.\n",
      "\n",
      "Analyzing frame n°  1960\n",
      "Time to compute distance is:  0.01233033300002262 seconds.\n"
     ]
    },
    {
     "name": "stderr",
     "output_type": "stream",
     "text": [
      "100%|██████████| 2/2 [00:00<00:00, 34379.54it/s]\n"
     ]
    },
    {
     "name": "stdout",
     "output_type": "stream",
     "text": [
      "Time to denoise:  1.0116721659999826 seconds.\n",
      "Finished analysis of frame n° 1960\n",
      "Time needed to analyze frame 1960 was 1.030215 seconds.\n",
      "\n",
      "Analyzing frame n°  1980\n",
      "Time to compute distance is:  0.01283587500000749 seconds.\n"
     ]
    },
    {
     "name": "stderr",
     "output_type": "stream",
     "text": [
      "0it [00:00, ?it/s]\n"
     ]
    },
    {
     "name": "stdout",
     "output_type": "stream",
     "text": [
      "Time to denoise:  0.9576676249999991 seconds.\n",
      "Finished analysis of frame n° 1980\n",
      "Time needed to analyze frame 1980 was 0.970673 seconds.\n",
      "\n",
      "Analyzing frame n°  2000\n",
      "Time to compute distance is:  0.012475417000018751 seconds.\n"
     ]
    },
    {
     "name": "stderr",
     "output_type": "stream",
     "text": [
      "100%|██████████| 1/1 [00:00<00:00, 17623.13it/s]"
     ]
    },
    {
     "name": "stdout",
     "output_type": "stream",
     "text": [
      "Time to denoise:  0.9845799169999623 seconds.\n",
      "Finished analysis of frame n° 2000\n",
      "Time needed to analyze frame 2000 was 0.999696 seconds.\n",
      "\n",
      "Total time to analyze dataset was 101.009686 seconds\n",
      ".\n"
     ]
    },
    {
     "name": "stderr",
     "output_type": "stream",
     "text": [
      "\n"
     ]
    }
   ],
   "source": [
    "start = timer()\n",
    "a.analyze_inLoop(threshold=5.1, threshold_multiplier=1.5, device='cpu')"
   ]
  },
  {
   "cell_type": "markdown",
   "id": "12107af2",
   "metadata": {},
   "source": [
    "The analysis() workflow consist of the following steps:\n",
    "\n",
    "threshold calculation, only if threshold=None frame's atoms coordinates retrival from the coordinate's database pairwise distance maps calculation contact maps calculation, using the threshold calculated above pattern recognition, analyze contact for matching with beta-sheet pattern compose a graph of contacting peptide matching the beta-sheet pattern search for isolated communities (cluster of peptides) in the graph Each step will be here described in its logic and implementation.\n",
    "\n",
    "threshold calculation The threshold is the distance used to discriminate between atoms that are involved in an interaction.\\ The distance between points i and j is d[i][j] = sqrt(|i^2 - j^2|).\\ If d < threshold, points i and j are defined as contacting.\n",
    "\n",
    "The threshold is an important parameter, because subsequent analysis steps depends on the contact found between peptides.\n",
    "\n",
    "Default threshold is 5 (Angstrom).\n",
    "\n",
    "If threshold == None, the threshold is calculated by morphoscanner. The calculate threshold distance is the median distance between all the contiguous apha-carbon median distance of each peptides aminoacid in a frame, multiplied by a threshold_multiplier.\n",
    "\n",
    "threshold is calculated as:\n",
    "\n",
    "median(median(ed(p[c], p[c+1]) for c in [0, len(p)) for each p in f).\\ \\ Where T is the set of the sampled frames,\\ f is a frame in T,\\ p is a peptide in f,\\ c is an alpha-carbon in p,\\ len(p) is the number of c in p,\\ ed is the euclidean distance,\\ median is the median value.\n",
    "\n",
    "The result of this calculation in our mesurements are between 3.3 and 3.5 Angstrom.\n",
    "\n",
    "Inter alpha-carbon distance can be calculated and retrieved using the function backend.distance_tensor.sample_intrapeptide_distance().\n",
    "\n",
    "The above function can be used after compose_database. It gets as argument the trajectory() object on which the trajectory was composed, and samples, that are the number of frames to sample to get the inter alpha-carbon distance. samples = 1 by default.\n",
    "\n",
    "In the following cell we calculate the inter alpha-carbon distance for the trajectory() object a instantiated above, on 5 sampled frame."
   ]
  },
  {
   "cell_type": "markdown",
   "id": "17d80868",
   "metadata": {},
   "source": [
    "# Recover Data after the analysis"
   ]
  },
  {
   "cell_type": "markdown",
   "id": "f66a92d9",
   "metadata": {},
   "source": [
    "The method get_data() run a set of other methods that recover data from the analysis. Additional class attributes are created.\\ The obtained data are saved in pandas.DataFrame, reachable from a.database.\\ In a.database there is a row for each sampled and analyzed timestep (or frame) of the trajectory. For each sampled timestep, the following data are saved in separate columns:\n",
    "\n",
    "n° of peptides in macroaggragate:\\ is an ordered descending list() in which each element is the number of peptide found in a peptide cluster parallel:\\ is an int, the number of parallel contact in that timestep antiparallel:\\ is an int, the number of antiparallel contact in that timestep n° of macroaggregate:\\ is an int, the number of clusters in the frame. Is equal to len(n° of peptides in macroaggragate). There are then a number of other columns, in which the label in an int from 0 to N that depends on the number N of peptides cluster found in that frame. If clusters are found, the corresponding columns contains a dict() with the key:value:\n",
    "\n",
    "parallel : int antiparallel : int In which the int value define the number of parallel or antiparallel contacts on that cluster."
   ]
  },
  {
   "cell_type": "code",
   "execution_count": 8,
   "id": "e19f3910",
   "metadata": {},
   "outputs": [],
   "source": [
    "a.get_data()"
   ]
  },
  {
   "cell_type": "markdown",
   "id": "f72e52b4",
   "metadata": {},
   "source": [
    "# Data Visualization"
   ]
  },
  {
   "cell_type": "markdown",
   "id": "06dc737a",
   "metadata": {},
   "source": [
    "The instance of the class morphoscanner.tajectory.trajectory() has a set of methods to visualize the data obtained from the analysis.\n",
    "\n",
    "plot_frame_aggregate(frame=int) Plot the frame with a color code that identify the sense of the majority of contacts in an cluster.\n",
    "\n",
    "Grey: no contact, Green: majority of parallel contacts, Blue: majority of antparallel contacts, Yellow: equal number of parallel and antiparallel contacts"
   ]
  },
  {
   "cell_type": "code",
   "execution_count": null,
   "id": "fe8f5c93",
   "metadata": {},
   "outputs": [],
   "source": [
    "ms.analysis.plot_aggregates_average([a], label='a')"
   ]
  },
  {
   "cell_type": "code",
   "execution_count": null,
   "id": "1b064217",
   "metadata": {},
   "outputs": [],
   "source": [
    "ms.analysis.plot_contacts_average([a], label='a')"
   ]
  },
  {
   "cell_type": "code",
   "execution_count": null,
   "id": "896c8d55",
   "metadata": {},
   "outputs": [],
   "source": [
    "ms.analysis.plot_beta_average([a], label='a')"
   ]
  },
  {
   "cell_type": "code",
   "execution_count": null,
   "id": "453a7dab",
   "metadata": {},
   "outputs": [],
   "source": [
    "ms.analysis.plot_3d_parallel_average([a])"
   ]
  },
  {
   "cell_type": "code",
   "execution_count": null,
   "id": "3950ea7e",
   "metadata": {},
   "outputs": [],
   "source": [
    "ms.analysis.plot_3d_antiparallel_positive_average([a])"
   ]
  },
  {
   "cell_type": "code",
   "execution_count": null,
   "id": "a3b98567",
   "metadata": {},
   "outputs": [],
   "source": [
    "ms.analysis.plot_3d_antiparallel_negative_average([a])"
   ]
  },
  {
   "cell_type": "code",
   "execution_count": null,
   "id": "00db689a",
   "metadata": {},
   "outputs": [],
   "source": [
    "#import nglview as nv\n",
    "#from MDAnalysis import transformations as trans\n",
    "#u = mda.Universe(_gro, _xtc)\n",
    "#prot = u.select_atoms('protein')\n",
    "#t = nv.MDAnalysisTrajectory(prot)\n",
    "#w = nv.NGLWidget(t)\n",
    "#w"
   ]
  },
  {
   "cell_type": "markdown",
   "id": "13940edb",
   "metadata": {},
   "source": [
    "# Calculate helix score for a single sampled frame"
   ]
  },
  {
   "cell_type": "code",
   "execution_count": 9,
   "id": "3bce40fe",
   "metadata": {},
   "outputs": [],
   "source": [
    "a.calculate_helix_score_for_frame(0)"
   ]
  },
  {
   "cell_type": "markdown",
   "id": "8d321f49",
   "metadata": {},
   "source": [
    "The results of the helix score calulation are saved in the result object of the selected frame."
   ]
  },
  {
   "cell_type": "code",
   "execution_count": 10,
   "id": "c9e300d5",
   "metadata": {},
   "outputs": [
    {
     "data": {
      "text/plain": [
       "{0: {'pace_helix': 3.999999994181296,\n",
       "  'n_carbonalpha': 116,\n",
       "  'perc_alpha': 52.01793721973094,\n",
       "  'length_beta': 4.135853499733592,\n",
       "  'n_carbonbeta': 24,\n",
       "  'perc_beta': 10.762331838565023,\n",
       "  'explored_alpha': array([  3.,   5.,   6.,   7.,   8.,  10.,  12.,  14.,  16.,  17.,  18.,\n",
       "          19.,  20.,  21.,  29.,  30.,  36.,  39.,  40.,  41.,  42.,  43.,\n",
       "          44.,  46.,  47.,  48.,  53.,  54.,  55.,  57.,  59.,  60.,  63.,\n",
       "          68.,  69.,  72.,  73.,  76.,  79.,  80.,  82.,  83.,  84.,  85.,\n",
       "          86.,  90.,  91.,  92.,  93.,  94.,  95.,  96.,  97.,  98., 100.,\n",
       "         102., 103., 104., 105., 106., 107., 108., 113., 122., 123., 124.,\n",
       "         126., 127., 130., 133., 134., 135., 136., 138., 139., 140., 141.,\n",
       "         142., 143., 144., 145., 146., 147., 148., 153., 159., 165., 167.,\n",
       "         168., 169., 170., 171., 173., 175., 182., 184., 185., 186., 190.,\n",
       "         192., 193., 194., 198., 200., 201., 202., 205., 207., 210., 211.,\n",
       "         215., 217., 219., 220., 221., 222.]),\n",
       "  'explored_beta': array([  9.,  32.,  33.,  45.,  56.,  61.,  62.,  71., 112., 114., 162.,\n",
       "         166., 177., 179., 181., 183., 187., 188., 189., 191., 203., 204.,\n",
       "         209., 213.])},\n",
       " 1: {'pace_helix': 4.999892611554557,\n",
       "  'n_carbonalpha': 97,\n",
       "  'perc_alpha': 43.49775784753363,\n",
       "  'length_beta': 4.000080437903316,\n",
       "  'n_carbonbeta': 31,\n",
       "  'perc_beta': 13.901345291479823,\n",
       "  'explored_alpha': array([  5.,   6.,   7.,  12.,  13.,  14.,  15.,  17.,  18.,  19.,  20.,\n",
       "          21.,  24.,  29.,  30.,  36.,  42.,  43.,  44.,  45.,  47.,  48.,\n",
       "          49.,  51.,  52.,  54.,  55.,  56.,  57.,  60.,  61.,  63.,  64.,\n",
       "          69.,  70.,  71.,  73.,  74.,  75.,  76.,  77.,  79.,  82.,  83.,\n",
       "          85.,  87.,  91.,  93.,  94.,  95.,  97.,  99., 101., 103., 105.,\n",
       "         107., 115., 125., 126., 128., 130., 132., 133., 134., 135., 136.,\n",
       "         138., 139., 140., 143., 144., 145., 146., 147., 150., 153., 161.,\n",
       "         164., 171., 173., 184., 186., 190., 192., 198., 199., 201., 202.,\n",
       "         204., 205., 208., 215., 218., 219., 220., 221., 222.]),\n",
       "  'explored_beta': array([ 11.,  25.,  53.,  68.,  72.,  84.,  89.,  90., 109., 111., 112.,\n",
       "         142., 149., 162., 163., 165., 166., 167., 172., 174., 175., 177.,\n",
       "         178., 179., 187., 188., 189., 193., 203., 209., 214.])},\n",
       " 2: {'pace_helix': 4.990991714347121,\n",
       "  'n_carbonalpha': 110,\n",
       "  'perc_alpha': 49.327354260089685,\n",
       "  'length_beta': 8.220083626480768,\n",
       "  'n_carbonbeta': 21,\n",
       "  'perc_beta': 9.417040358744394,\n",
       "  'explored_alpha': array([  4.,   7.,   8.,   9.,  11.,  12.,  13.,  14.,  15.,  16.,  17.,\n",
       "          18.,  19.,  22.,  24.,  28.,  29.,  40.,  41.,  42.,  43.,  45.,\n",
       "          46.,  47.,  48.,  53.,  54.,  55.,  56.,  57.,  59.,  60.,  61.,\n",
       "          62.,  63.,  68.,  69.,  70.,  71.,  72.,  73.,  74.,  75.,  76.,\n",
       "          77.,  79.,  81.,  83.,  85.,  86.,  87.,  88.,  91.,  94.,  96.,\n",
       "          97.,  98., 100., 103., 104., 105., 113., 115., 122., 126., 127.,\n",
       "         128., 130., 131., 132., 134., 135., 137., 145., 149., 151., 154.,\n",
       "         159., 160., 162., 163., 164., 166., 168., 175., 176., 177., 184.,\n",
       "         185., 186., 190., 191., 192., 193., 198., 199., 201., 202., 203.,\n",
       "         205., 208., 210., 213., 215., 216., 218., 219., 220., 221., 222.]),\n",
       "  'explored_beta': array([ 32.,  33.,  34.,  90.,  93., 106., 107., 109., 110., 111., 123.,\n",
       "         155., 179., 182., 183., 187., 188., 189., 200., 209., 214.])},\n",
       " 3: {'pace_helix': 4.9999992416659085,\n",
       "  'n_carbonalpha': 111,\n",
       "  'perc_alpha': 49.775784753363226,\n",
       "  'length_beta': 4.1219515903821415,\n",
       "  'n_carbonbeta': 24,\n",
       "  'perc_beta': 10.762331838565023,\n",
       "  'explored_alpha': array([  5.,   6.,   7.,   9.,  10.,  11.,  13.,  14.,  16.,  17.,  18.,\n",
       "          19.,  20.,  21.,  25.,  30.,  40.,  42.,  43.,  44.,  45.,  46.,\n",
       "          47.,  48.,  49.,  50.,  51.,  53.,  54.,  55.,  56.,  57.,  60.,\n",
       "          61.,  62.,  63.,  68.,  69.,  70.,  71.,  72.,  73.,  74.,  78.,\n",
       "          79.,  82.,  83.,  84.,  86.,  88.,  89.,  95.,  96., 100., 102.,\n",
       "         104., 105., 109., 110., 115., 122., 123., 125., 127., 131., 132.,\n",
       "         135., 137., 138., 139., 141., 143., 145., 146., 147., 150., 153.,\n",
       "         159., 160., 161., 164., 167., 170., 172., 173., 175., 176., 177.,\n",
       "         182., 185., 186., 187., 188., 190., 191., 192., 195., 198., 200.,\n",
       "         202., 203., 204., 205., 206., 207., 213., 218., 219., 220., 221.,\n",
       "         222.]),\n",
       "  'explored_beta': array([ 15.,  32.,  33.,  34.,  36.,  59.,  87.,  98.,  99., 112., 113.,\n",
       "         140., 158., 162., 163., 165., 166., 168., 169., 178., 181., 189.,\n",
       "         209., 212.])}}"
      ]
     },
     "execution_count": 10,
     "metadata": {},
     "output_type": "execute_result"
    }
   ],
   "source": [
    "a.frames[0].results.helix_score"
   ]
  },
  {
   "cell_type": "markdown",
   "id": "a2ac5ae1",
   "metadata": {},
   "source": [
    "# Calculate the helix score for each sampled frame of the trajectory"
   ]
  },
  {
   "cell_type": "code",
   "execution_count": 11,
   "id": "9d00e194",
   "metadata": {},
   "outputs": [],
   "source": [
    "a.helix_score()"
   ]
  },
  {
   "cell_type": "code",
   "execution_count": 12,
   "id": "478bf9fa",
   "metadata": {},
   "outputs": [
    {
     "data": {
      "text/plain": [
       "{0: {'pace_helix': 4.989900031239072,\n",
       "  'n_carbonalpha': 100,\n",
       "  'perc_alpha': 44.843049327354265,\n",
       "  'length_beta': 5.10458427406272,\n",
       "  'n_carbonbeta': 29,\n",
       "  'perc_beta': 13.004484304932735,\n",
       "  'explored_alpha': array([  7.,  13.,  14.,  15.,  16.,  17.,  18.,  19.,  20.,  21.,  23.,\n",
       "          29.,  32.,  33.,  34.,  35.,  39.,  44.,  47.,  51.,  54.,  55.,\n",
       "          56.,  59.,  62.,  68.,  69.,  70.,  71.,  72.,  73.,  75.,  78.,\n",
       "          79.,  80.,  82.,  83.,  84.,  85.,  86.,  87.,  88.,  91.,  92.,\n",
       "          94.,  95.,  97.,  98., 100., 103., 105., 106., 107., 110., 113.,\n",
       "         114., 115., 122., 123., 126., 128., 130., 132., 133., 134., 135.,\n",
       "         136., 137., 138., 139., 142., 144., 146., 148., 150., 161., 163.,\n",
       "         167., 169., 171., 175., 176., 177., 184., 185., 186., 190., 191.,\n",
       "         195., 198., 201., 202., 203., 211., 212., 213., 218., 219., 220.,\n",
       "         221.]),\n",
       "  'explored_beta': array([ 40.,  41.,  42.,  43.,  45.,  50.,  61.,  64.,  89.,  90., 109.,\n",
       "         127., 149., 151., 160., 162., 165., 166., 168., 170., 178., 180.,\n",
       "         181., 183., 192., 193., 205., 208., 214.])},\n",
       " 1: {'pace_helix': 3.022595137420781,\n",
       "  'n_carbonalpha': 88,\n",
       "  'perc_alpha': 39.46188340807175,\n",
       "  'length_beta': 12.789162677712223,\n",
       "  'n_carbonbeta': 20,\n",
       "  'perc_beta': 8.968609865470851,\n",
       "  'explored_alpha': array([  3.,   7.,  11.,  14.,  16.,  18.,  20.,  21.,  22.,  23.,  24.,\n",
       "          25.,  29.,  32.,  40.,  41.,  44.,  45.,  49.,  51.,  53.,  55.,\n",
       "          56.,  57.,  59.,  63.,  64.,  66.,  70.,  72.,  75.,  82.,  83.,\n",
       "          84.,  87.,  88.,  89.,  92.,  96.,  97., 101., 108., 109., 126.,\n",
       "         127., 128., 130., 134., 135., 136., 138., 141., 142., 143., 144.,\n",
       "         145., 146., 148., 149., 150., 151., 153., 154., 157., 161., 164.,\n",
       "         170., 173., 175., 178., 179., 182., 185., 186., 189., 195., 198.,\n",
       "         202., 204., 205., 206., 207., 208., 210., 218., 219., 221., 222.]),\n",
       "  'explored_beta': array([ 52.,  60.,  68.,  71.,  91.,  93.,  94.,  98., 112., 140., 159.,\n",
       "         162., 163., 166., 168., 177., 180., 187., 193., 212.])},\n",
       " 2: {'pace_helix': 3.988095281014322,\n",
       "  'n_carbonalpha': 84,\n",
       "  'perc_alpha': 37.66816143497758,\n",
       "  'length_beta': 4.066630611234764,\n",
       "  'n_carbonbeta': 29,\n",
       "  'perc_beta': 13.004484304932735,\n",
       "  'explored_alpha': array([  4.,   6.,   7.,   8.,  12.,  13.,  14.,  17.,  18.,  19.,  20.,\n",
       "          21.,  22.,  25.,  29.,  32.,  35.,  39.,  41.,  42.,  43.,  45.,\n",
       "          46.,  47.,  48.,  49.,  51.,  53.,  55.,  59.,  62.,  68.,  69.,\n",
       "          70.,  71.,  73.,  74.,  76.,  78.,  79.,  81.,  84.,  87.,  88.,\n",
       "          93., 106., 113., 115., 117., 118., 125., 126., 132., 133., 135.,\n",
       "         139., 140., 142., 149., 152., 154., 155., 158., 159., 160., 162.,\n",
       "         164., 170., 175., 176., 180., 186., 191., 193., 198., 201., 202.,\n",
       "         203., 204., 205., 210., 215., 218., 219.]),\n",
       "  'explored_beta': array([ 38.,  44.,  54.,  58.,  64.,  77.,  97.,  99., 103., 110., 131.,\n",
       "         141., 143., 165., 166., 167., 168., 174., 177., 179., 181., 182.,\n",
       "         184., 187., 188., 208., 209., 213., 214.])},\n",
       " 3: {'pace_helix': 3.0001262139046267,\n",
       "  'n_carbonalpha': 89,\n",
       "  'perc_alpha': 39.91031390134529,\n",
       "  'length_beta': 4.137070153108325,\n",
       "  'n_carbonbeta': 27,\n",
       "  'perc_beta': 12.10762331838565,\n",
       "  'explored_alpha': array([  5.,   6.,   9.,  11.,  15.,  16.,  17.,  19.,  20.,  21.,  23.,\n",
       "          29.,  30.,  33.,  34.,  35.,  42.,  43.,  44.,  45.,  46.,  48.,\n",
       "          50.,  52.,  53.,  54.,  55.,  56.,  57.,  59.,  61.,  65.,  69.,\n",
       "          70.,  72.,  75.,  78.,  83.,  84.,  88.,  90.,  91.,  92.,  95.,\n",
       "         108., 115., 121., 126., 127., 133., 134., 135., 138., 139., 144.,\n",
       "         146., 150., 151., 152., 156., 160., 161., 162., 164., 165., 166.,\n",
       "         168., 170., 172., 173., 175., 176., 177., 191., 192., 196., 197.,\n",
       "         199., 201., 203., 204., 205., 208., 209., 211., 212., 215., 219.,\n",
       "         222.]),\n",
       "  'explored_beta': array([  7.,  60.,  62.,  68.,  79.,  89.,  97.,  98., 109., 110., 111.,\n",
       "         114., 116., 142., 149., 163., 181., 182., 184., 185., 186., 187.,\n",
       "         188., 198., 210., 213., 214.])}}"
      ]
     },
     "execution_count": 12,
     "metadata": {},
     "output_type": "execute_result"
    }
   ],
   "source": [
    "a.frames[100].results.helix_score"
   ]
  },
  {
   "cell_type": "code",
   "execution_count": null,
   "id": "1dca4bae",
   "metadata": {},
   "outputs": [],
   "source": []
  }
 ],
 "metadata": {
  "kernelspec": {
   "display_name": "Python 3 (ipykernel)",
   "language": "python",
   "name": "python3"
  },
  "language_info": {
   "codemirror_mode": {
    "name": "ipython",
    "version": 3
   },
   "file_extension": ".py",
   "mimetype": "text/x-python",
   "name": "python",
   "nbconvert_exporter": "python",
   "pygments_lexer": "ipython3",
   "version": "3.8.8"
  }
 },
 "nbformat": 4,
 "nbformat_minor": 5
}
