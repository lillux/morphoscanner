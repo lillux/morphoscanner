{
 "cells": [
  {
   "cell_type": "markdown",
   "id": "ffb70c76",
   "metadata": {},
   "source": [
    "# morphoscanner - alpha-helix tutorial"
   ]
  },
  {
   "cell_type": "markdown",
   "id": "416ca8df",
   "metadata": {},
   "source": [
    "`morphoscanner` includes functionalities to study the *alpha-helix* secondary structure, on peptides and proteins.\n",
    "\n",
    "In this tutorial we will use one of the `.pdb` included in `morphoscanner` as sample data: `3bep`.\n",
    "\n",
    "`3bep` is a complex of *DNA* and a *sliding clamp* protein dimer. [Here](https://www.rcsb.org/structure/3BEP) for more information on the complex.\n",
    "\n",
    "We will need `nglView` package to visualize the structures. `nglView` ***is not installed*** with `morphoscanner`, so you have to install in your environment. The [nglview repository](https://github.com/nglviewer/nglview) contains all the necessary information to do it.\n",
    "\n",
    "I copy-pasted below their installation paragraph found in the README.md, to make everything easier."
   ]
  },
  {
   "cell_type": "markdown",
   "id": "1e2e7f4e",
   "metadata": {},
   "source": [
    "Installation of nglview -- [link](https://github.com/nglviewer/nglview#installation)\n",
    "============\n",
    "\n",
    "Released version\n",
    "----------------\n",
    "\n",
    "- Available on `conda-forge` channel\n",
    "\n",
    "    ```bash\n",
    "    conda install nglview -c conda-forge\n",
    "    # might need: jupyter-nbextension enable nglview --py --sys-prefix\n",
    "\n",
    "    # if you already installed nglview, you can `upgrade`\n",
    "    conda upgrade nglview --force\n",
    "    # might need: jupyter-nbextension enable nglview --py --sys-prefix\n",
    "    ```\n",
    "\n",
    "- Available on [PyPI](https://pypi.python.org/pypi/nglview/)\n",
    "\n",
    "```bash\n",
    "   pip install nglview\n",
    "   # might need: jupyter-nbextension enable nglview --py --sys-prefix\n",
    "```\n",
    "\n",
    "Jupyterlab: `nglview` works best with jupyterlab >= 3.0 and no further steps needed.\n",
    "\n",
    "## Notes\n",
    "\n",
    "If you are using `notebook` v5.0, you need to increase the `iopub_data_rate_limit`\n",
    "to [visualize big structure (e.g: solvated system)](https://github.com/arose/nglview/issues/633)\n",
    "\n",
    "```\n",
    "jupyter notebook --NotebookApp.iopub_data_rate_limit=10000000\n",
    "```"
   ]
  },
  {
   "cell_type": "markdown",
   "id": "239f04a0",
   "metadata": {},
   "source": [
    " "
   ]
  },
  {
   "cell_type": "markdown",
   "id": "e31c5521",
   "metadata": {},
   "source": [
    " "
   ]
  },
  {
   "cell_type": "markdown",
   "id": "a6c903be",
   "metadata": {},
   "source": [
    "Done with the setup, we can start to import what we will need."
   ]
  },
  {
   "cell_type": "code",
   "execution_count": 51,
   "id": "9b9ed4f3",
   "metadata": {},
   "outputs": [],
   "source": [
    "import morphoscanner\n",
    "import matplotlib.pyplot as plt\n",
    "import numpy as np\n",
    "import nglview as nv\n",
    "import pandas as pd"
   ]
  },
  {
   "cell_type": "code",
   "execution_count": null,
   "id": "55720800",
   "metadata": {},
   "outputs": [],
   "source": [
    "%matplotlib notebook"
   ]
  },
  {
   "cell_type": "markdown",
   "id": "05bf2a89",
   "metadata": {},
   "source": [
    "## Load the data"
   ]
  },
  {
   "cell_type": "markdown",
   "id": "472091d7",
   "metadata": {},
   "source": [
    "We will use our sample protein structure. To load your own structure, or trajectory, pass their datapath to the class instance."
   ]
  },
  {
   "cell_type": "code",
   "execution_count": 2,
   "id": "9e428212",
   "metadata": {},
   "outputs": [],
   "source": [
    "loader = morphoscanner.data_sample.loader.dataloader()"
   ]
  },
  {
   "cell_type": "markdown",
   "id": "78b53e39",
   "metadata": {},
   "source": [
    "## Analysis\n",
    "\n",
    "The workflow is the same, used both for a single topology, or for a trajectory.\n",
    "\n",
    "Since here we are using a `.pdb` topology, `morphoscanner` finds a single frame."
   ]
  },
  {
   "cell_type": "code",
   "execution_count": 3,
   "id": "6f842a28",
   "metadata": {},
   "outputs": [
    {
     "name": "stdout",
     "output_type": "stream",
     "text": [
      "In your trajectory there are 1 frames.\n",
      "\n"
     ]
    }
   ],
   "source": [
    "struct = morphoscanner.trajectory.trajectory(loader.pdb_3bep,select=['aminoacids'])"
   ]
  },
  {
   "cell_type": "markdown",
   "id": "1faecc28",
   "metadata": {},
   "source": [
    "The complex is composed by a dimer and a DNA helix. The dimer is found as two separate proteins, but the helix is not found by `morphoscanner`, since its atom type definitions are not in `morphoscanner` dictionary at the moment."
   ]
  },
  {
   "cell_type": "code",
   "execution_count": 4,
   "id": "017c2359",
   "metadata": {},
   "outputs": [
    {
     "name": "stdout",
     "output_type": "stream",
     "text": [
      "Length: 366, Peptides: 2\n",
      "Exploration of frame 0 done.\n",
      "\n"
     ]
    }
   ],
   "source": [
    "struct.explore()"
   ]
  },
  {
   "cell_type": "markdown",
   "id": "85a71573",
   "metadata": {},
   "source": [
    "We can now visualize the complex. You can turn on the interactive visualization to have a better look:"
   ]
  },
  {
   "cell_type": "code",
   "execution_count": 18,
   "id": "b9ef9371",
   "metadata": {},
   "outputs": [],
   "source": [
    "%matplotlib notebook"
   ]
  },
  {
   "cell_type": "code",
   "execution_count": 19,
   "id": "d6daaf81",
   "metadata": {},
   "outputs": [
    {
     "data": {
      "application/javascript": [
       "/* Put everything inside the global mpl namespace */\n",
       "/* global mpl */\n",
       "window.mpl = {};\n",
       "\n",
       "mpl.get_websocket_type = function () {\n",
       "    if (typeof WebSocket !== 'undefined') {\n",
       "        return WebSocket;\n",
       "    } else if (typeof MozWebSocket !== 'undefined') {\n",
       "        return MozWebSocket;\n",
       "    } else {\n",
       "        alert(\n",
       "            'Your browser does not have WebSocket support. ' +\n",
       "                'Please try Chrome, Safari or Firefox ≥ 6. ' +\n",
       "                'Firefox 4 and 5 are also supported but you ' +\n",
       "                'have to enable WebSockets in about:config.'\n",
       "        );\n",
       "    }\n",
       "};\n",
       "\n",
       "mpl.figure = function (figure_id, websocket, ondownload, parent_element) {\n",
       "    this.id = figure_id;\n",
       "\n",
       "    this.ws = websocket;\n",
       "\n",
       "    this.supports_binary = this.ws.binaryType !== undefined;\n",
       "\n",
       "    if (!this.supports_binary) {\n",
       "        var warnings = document.getElementById('mpl-warnings');\n",
       "        if (warnings) {\n",
       "            warnings.style.display = 'block';\n",
       "            warnings.textContent =\n",
       "                'This browser does not support binary websocket messages. ' +\n",
       "                'Performance may be slow.';\n",
       "        }\n",
       "    }\n",
       "\n",
       "    this.imageObj = new Image();\n",
       "\n",
       "    this.context = undefined;\n",
       "    this.message = undefined;\n",
       "    this.canvas = undefined;\n",
       "    this.rubberband_canvas = undefined;\n",
       "    this.rubberband_context = undefined;\n",
       "    this.format_dropdown = undefined;\n",
       "\n",
       "    this.image_mode = 'full';\n",
       "\n",
       "    this.root = document.createElement('div');\n",
       "    this.root.setAttribute('style', 'display: inline-block');\n",
       "    this._root_extra_style(this.root);\n",
       "\n",
       "    parent_element.appendChild(this.root);\n",
       "\n",
       "    this._init_header(this);\n",
       "    this._init_canvas(this);\n",
       "    this._init_toolbar(this);\n",
       "\n",
       "    var fig = this;\n",
       "\n",
       "    this.waiting = false;\n",
       "\n",
       "    this.ws.onopen = function () {\n",
       "        fig.send_message('supports_binary', { value: fig.supports_binary });\n",
       "        fig.send_message('send_image_mode', {});\n",
       "        if (fig.ratio !== 1) {\n",
       "            fig.send_message('set_device_pixel_ratio', {\n",
       "                device_pixel_ratio: fig.ratio,\n",
       "            });\n",
       "        }\n",
       "        fig.send_message('refresh', {});\n",
       "    };\n",
       "\n",
       "    this.imageObj.onload = function () {\n",
       "        if (fig.image_mode === 'full') {\n",
       "            // Full images could contain transparency (where diff images\n",
       "            // almost always do), so we need to clear the canvas so that\n",
       "            // there is no ghosting.\n",
       "            fig.context.clearRect(0, 0, fig.canvas.width, fig.canvas.height);\n",
       "        }\n",
       "        fig.context.drawImage(fig.imageObj, 0, 0);\n",
       "    };\n",
       "\n",
       "    this.imageObj.onunload = function () {\n",
       "        fig.ws.close();\n",
       "    };\n",
       "\n",
       "    this.ws.onmessage = this._make_on_message_function(this);\n",
       "\n",
       "    this.ondownload = ondownload;\n",
       "};\n",
       "\n",
       "mpl.figure.prototype._init_header = function () {\n",
       "    var titlebar = document.createElement('div');\n",
       "    titlebar.classList =\n",
       "        'ui-dialog-titlebar ui-widget-header ui-corner-all ui-helper-clearfix';\n",
       "    var titletext = document.createElement('div');\n",
       "    titletext.classList = 'ui-dialog-title';\n",
       "    titletext.setAttribute(\n",
       "        'style',\n",
       "        'width: 100%; text-align: center; padding: 3px;'\n",
       "    );\n",
       "    titlebar.appendChild(titletext);\n",
       "    this.root.appendChild(titlebar);\n",
       "    this.header = titletext;\n",
       "};\n",
       "\n",
       "mpl.figure.prototype._canvas_extra_style = function (_canvas_div) {};\n",
       "\n",
       "mpl.figure.prototype._root_extra_style = function (_canvas_div) {};\n",
       "\n",
       "mpl.figure.prototype._init_canvas = function () {\n",
       "    var fig = this;\n",
       "\n",
       "    var canvas_div = (this.canvas_div = document.createElement('div'));\n",
       "    canvas_div.setAttribute(\n",
       "        'style',\n",
       "        'border: 1px solid #ddd;' +\n",
       "            'box-sizing: content-box;' +\n",
       "            'clear: both;' +\n",
       "            'min-height: 1px;' +\n",
       "            'min-width: 1px;' +\n",
       "            'outline: 0;' +\n",
       "            'overflow: hidden;' +\n",
       "            'position: relative;' +\n",
       "            'resize: both;'\n",
       "    );\n",
       "\n",
       "    function on_keyboard_event_closure(name) {\n",
       "        return function (event) {\n",
       "            return fig.key_event(event, name);\n",
       "        };\n",
       "    }\n",
       "\n",
       "    canvas_div.addEventListener(\n",
       "        'keydown',\n",
       "        on_keyboard_event_closure('key_press')\n",
       "    );\n",
       "    canvas_div.addEventListener(\n",
       "        'keyup',\n",
       "        on_keyboard_event_closure('key_release')\n",
       "    );\n",
       "\n",
       "    this._canvas_extra_style(canvas_div);\n",
       "    this.root.appendChild(canvas_div);\n",
       "\n",
       "    var canvas = (this.canvas = document.createElement('canvas'));\n",
       "    canvas.classList.add('mpl-canvas');\n",
       "    canvas.setAttribute('style', 'box-sizing: content-box;');\n",
       "\n",
       "    this.context = canvas.getContext('2d');\n",
       "\n",
       "    var backingStore =\n",
       "        this.context.backingStorePixelRatio ||\n",
       "        this.context.webkitBackingStorePixelRatio ||\n",
       "        this.context.mozBackingStorePixelRatio ||\n",
       "        this.context.msBackingStorePixelRatio ||\n",
       "        this.context.oBackingStorePixelRatio ||\n",
       "        this.context.backingStorePixelRatio ||\n",
       "        1;\n",
       "\n",
       "    this.ratio = (window.devicePixelRatio || 1) / backingStore;\n",
       "\n",
       "    var rubberband_canvas = (this.rubberband_canvas = document.createElement(\n",
       "        'canvas'\n",
       "    ));\n",
       "    rubberband_canvas.setAttribute(\n",
       "        'style',\n",
       "        'box-sizing: content-box; position: absolute; left: 0; top: 0; z-index: 1;'\n",
       "    );\n",
       "\n",
       "    // Apply a ponyfill if ResizeObserver is not implemented by browser.\n",
       "    if (this.ResizeObserver === undefined) {\n",
       "        if (window.ResizeObserver !== undefined) {\n",
       "            this.ResizeObserver = window.ResizeObserver;\n",
       "        } else {\n",
       "            var obs = _JSXTOOLS_RESIZE_OBSERVER({});\n",
       "            this.ResizeObserver = obs.ResizeObserver;\n",
       "        }\n",
       "    }\n",
       "\n",
       "    this.resizeObserverInstance = new this.ResizeObserver(function (entries) {\n",
       "        var nentries = entries.length;\n",
       "        for (var i = 0; i < nentries; i++) {\n",
       "            var entry = entries[i];\n",
       "            var width, height;\n",
       "            if (entry.contentBoxSize) {\n",
       "                if (entry.contentBoxSize instanceof Array) {\n",
       "                    // Chrome 84 implements new version of spec.\n",
       "                    width = entry.contentBoxSize[0].inlineSize;\n",
       "                    height = entry.contentBoxSize[0].blockSize;\n",
       "                } else {\n",
       "                    // Firefox implements old version of spec.\n",
       "                    width = entry.contentBoxSize.inlineSize;\n",
       "                    height = entry.contentBoxSize.blockSize;\n",
       "                }\n",
       "            } else {\n",
       "                // Chrome <84 implements even older version of spec.\n",
       "                width = entry.contentRect.width;\n",
       "                height = entry.contentRect.height;\n",
       "            }\n",
       "\n",
       "            // Keep the size of the canvas and rubber band canvas in sync with\n",
       "            // the canvas container.\n",
       "            if (entry.devicePixelContentBoxSize) {\n",
       "                // Chrome 84 implements new version of spec.\n",
       "                canvas.setAttribute(\n",
       "                    'width',\n",
       "                    entry.devicePixelContentBoxSize[0].inlineSize\n",
       "                );\n",
       "                canvas.setAttribute(\n",
       "                    'height',\n",
       "                    entry.devicePixelContentBoxSize[0].blockSize\n",
       "                );\n",
       "            } else {\n",
       "                canvas.setAttribute('width', width * fig.ratio);\n",
       "                canvas.setAttribute('height', height * fig.ratio);\n",
       "            }\n",
       "            canvas.setAttribute(\n",
       "                'style',\n",
       "                'width: ' + width + 'px; height: ' + height + 'px;'\n",
       "            );\n",
       "\n",
       "            rubberband_canvas.setAttribute('width', width);\n",
       "            rubberband_canvas.setAttribute('height', height);\n",
       "\n",
       "            // And update the size in Python. We ignore the initial 0/0 size\n",
       "            // that occurs as the element is placed into the DOM, which should\n",
       "            // otherwise not happen due to the minimum size styling.\n",
       "            if (fig.ws.readyState == 1 && width != 0 && height != 0) {\n",
       "                fig.request_resize(width, height);\n",
       "            }\n",
       "        }\n",
       "    });\n",
       "    this.resizeObserverInstance.observe(canvas_div);\n",
       "\n",
       "    function on_mouse_event_closure(name) {\n",
       "        return function (event) {\n",
       "            return fig.mouse_event(event, name);\n",
       "        };\n",
       "    }\n",
       "\n",
       "    rubberband_canvas.addEventListener(\n",
       "        'mousedown',\n",
       "        on_mouse_event_closure('button_press')\n",
       "    );\n",
       "    rubberband_canvas.addEventListener(\n",
       "        'mouseup',\n",
       "        on_mouse_event_closure('button_release')\n",
       "    );\n",
       "    rubberband_canvas.addEventListener(\n",
       "        'dblclick',\n",
       "        on_mouse_event_closure('dblclick')\n",
       "    );\n",
       "    // Throttle sequential mouse events to 1 every 20ms.\n",
       "    rubberband_canvas.addEventListener(\n",
       "        'mousemove',\n",
       "        on_mouse_event_closure('motion_notify')\n",
       "    );\n",
       "\n",
       "    rubberband_canvas.addEventListener(\n",
       "        'mouseenter',\n",
       "        on_mouse_event_closure('figure_enter')\n",
       "    );\n",
       "    rubberband_canvas.addEventListener(\n",
       "        'mouseleave',\n",
       "        on_mouse_event_closure('figure_leave')\n",
       "    );\n",
       "\n",
       "    canvas_div.addEventListener('wheel', function (event) {\n",
       "        if (event.deltaY < 0) {\n",
       "            event.step = 1;\n",
       "        } else {\n",
       "            event.step = -1;\n",
       "        }\n",
       "        on_mouse_event_closure('scroll')(event);\n",
       "    });\n",
       "\n",
       "    canvas_div.appendChild(canvas);\n",
       "    canvas_div.appendChild(rubberband_canvas);\n",
       "\n",
       "    this.rubberband_context = rubberband_canvas.getContext('2d');\n",
       "    this.rubberband_context.strokeStyle = '#000000';\n",
       "\n",
       "    this._resize_canvas = function (width, height, forward) {\n",
       "        if (forward) {\n",
       "            canvas_div.style.width = width + 'px';\n",
       "            canvas_div.style.height = height + 'px';\n",
       "        }\n",
       "    };\n",
       "\n",
       "    // Disable right mouse context menu.\n",
       "    this.rubberband_canvas.addEventListener('contextmenu', function (_e) {\n",
       "        event.preventDefault();\n",
       "        return false;\n",
       "    });\n",
       "\n",
       "    function set_focus() {\n",
       "        canvas.focus();\n",
       "        canvas_div.focus();\n",
       "    }\n",
       "\n",
       "    window.setTimeout(set_focus, 100);\n",
       "};\n",
       "\n",
       "mpl.figure.prototype._init_toolbar = function () {\n",
       "    var fig = this;\n",
       "\n",
       "    var toolbar = document.createElement('div');\n",
       "    toolbar.classList = 'mpl-toolbar';\n",
       "    this.root.appendChild(toolbar);\n",
       "\n",
       "    function on_click_closure(name) {\n",
       "        return function (_event) {\n",
       "            return fig.toolbar_button_onclick(name);\n",
       "        };\n",
       "    }\n",
       "\n",
       "    function on_mouseover_closure(tooltip) {\n",
       "        return function (event) {\n",
       "            if (!event.currentTarget.disabled) {\n",
       "                return fig.toolbar_button_onmouseover(tooltip);\n",
       "            }\n",
       "        };\n",
       "    }\n",
       "\n",
       "    fig.buttons = {};\n",
       "    var buttonGroup = document.createElement('div');\n",
       "    buttonGroup.classList = 'mpl-button-group';\n",
       "    for (var toolbar_ind in mpl.toolbar_items) {\n",
       "        var name = mpl.toolbar_items[toolbar_ind][0];\n",
       "        var tooltip = mpl.toolbar_items[toolbar_ind][1];\n",
       "        var image = mpl.toolbar_items[toolbar_ind][2];\n",
       "        var method_name = mpl.toolbar_items[toolbar_ind][3];\n",
       "\n",
       "        if (!name) {\n",
       "            /* Instead of a spacer, we start a new button group. */\n",
       "            if (buttonGroup.hasChildNodes()) {\n",
       "                toolbar.appendChild(buttonGroup);\n",
       "            }\n",
       "            buttonGroup = document.createElement('div');\n",
       "            buttonGroup.classList = 'mpl-button-group';\n",
       "            continue;\n",
       "        }\n",
       "\n",
       "        var button = (fig.buttons[name] = document.createElement('button'));\n",
       "        button.classList = 'mpl-widget';\n",
       "        button.setAttribute('role', 'button');\n",
       "        button.setAttribute('aria-disabled', 'false');\n",
       "        button.addEventListener('click', on_click_closure(method_name));\n",
       "        button.addEventListener('mouseover', on_mouseover_closure(tooltip));\n",
       "\n",
       "        var icon_img = document.createElement('img');\n",
       "        icon_img.src = '_images/' + image + '.png';\n",
       "        icon_img.srcset = '_images/' + image + '_large.png 2x';\n",
       "        icon_img.alt = tooltip;\n",
       "        button.appendChild(icon_img);\n",
       "\n",
       "        buttonGroup.appendChild(button);\n",
       "    }\n",
       "\n",
       "    if (buttonGroup.hasChildNodes()) {\n",
       "        toolbar.appendChild(buttonGroup);\n",
       "    }\n",
       "\n",
       "    var fmt_picker = document.createElement('select');\n",
       "    fmt_picker.classList = 'mpl-widget';\n",
       "    toolbar.appendChild(fmt_picker);\n",
       "    this.format_dropdown = fmt_picker;\n",
       "\n",
       "    for (var ind in mpl.extensions) {\n",
       "        var fmt = mpl.extensions[ind];\n",
       "        var option = document.createElement('option');\n",
       "        option.selected = fmt === mpl.default_extension;\n",
       "        option.innerHTML = fmt;\n",
       "        fmt_picker.appendChild(option);\n",
       "    }\n",
       "\n",
       "    var status_bar = document.createElement('span');\n",
       "    status_bar.classList = 'mpl-message';\n",
       "    toolbar.appendChild(status_bar);\n",
       "    this.message = status_bar;\n",
       "};\n",
       "\n",
       "mpl.figure.prototype.request_resize = function (x_pixels, y_pixels) {\n",
       "    // Request matplotlib to resize the figure. Matplotlib will then trigger a resize in the client,\n",
       "    // which will in turn request a refresh of the image.\n",
       "    this.send_message('resize', { width: x_pixels, height: y_pixels });\n",
       "};\n",
       "\n",
       "mpl.figure.prototype.send_message = function (type, properties) {\n",
       "    properties['type'] = type;\n",
       "    properties['figure_id'] = this.id;\n",
       "    this.ws.send(JSON.stringify(properties));\n",
       "};\n",
       "\n",
       "mpl.figure.prototype.send_draw_message = function () {\n",
       "    if (!this.waiting) {\n",
       "        this.waiting = true;\n",
       "        this.ws.send(JSON.stringify({ type: 'draw', figure_id: this.id }));\n",
       "    }\n",
       "};\n",
       "\n",
       "mpl.figure.prototype.handle_save = function (fig, _msg) {\n",
       "    var format_dropdown = fig.format_dropdown;\n",
       "    var format = format_dropdown.options[format_dropdown.selectedIndex].value;\n",
       "    fig.ondownload(fig, format);\n",
       "};\n",
       "\n",
       "mpl.figure.prototype.handle_resize = function (fig, msg) {\n",
       "    var size = msg['size'];\n",
       "    if (size[0] !== fig.canvas.width || size[1] !== fig.canvas.height) {\n",
       "        fig._resize_canvas(size[0], size[1], msg['forward']);\n",
       "        fig.send_message('refresh', {});\n",
       "    }\n",
       "};\n",
       "\n",
       "mpl.figure.prototype.handle_rubberband = function (fig, msg) {\n",
       "    var x0 = msg['x0'] / fig.ratio;\n",
       "    var y0 = (fig.canvas.height - msg['y0']) / fig.ratio;\n",
       "    var x1 = msg['x1'] / fig.ratio;\n",
       "    var y1 = (fig.canvas.height - msg['y1']) / fig.ratio;\n",
       "    x0 = Math.floor(x0) + 0.5;\n",
       "    y0 = Math.floor(y0) + 0.5;\n",
       "    x1 = Math.floor(x1) + 0.5;\n",
       "    y1 = Math.floor(y1) + 0.5;\n",
       "    var min_x = Math.min(x0, x1);\n",
       "    var min_y = Math.min(y0, y1);\n",
       "    var width = Math.abs(x1 - x0);\n",
       "    var height = Math.abs(y1 - y0);\n",
       "\n",
       "    fig.rubberband_context.clearRect(\n",
       "        0,\n",
       "        0,\n",
       "        fig.canvas.width / fig.ratio,\n",
       "        fig.canvas.height / fig.ratio\n",
       "    );\n",
       "\n",
       "    fig.rubberband_context.strokeRect(min_x, min_y, width, height);\n",
       "};\n",
       "\n",
       "mpl.figure.prototype.handle_figure_label = function (fig, msg) {\n",
       "    // Updates the figure title.\n",
       "    fig.header.textContent = msg['label'];\n",
       "};\n",
       "\n",
       "mpl.figure.prototype.handle_cursor = function (fig, msg) {\n",
       "    fig.rubberband_canvas.style.cursor = msg['cursor'];\n",
       "};\n",
       "\n",
       "mpl.figure.prototype.handle_message = function (fig, msg) {\n",
       "    fig.message.textContent = msg['message'];\n",
       "};\n",
       "\n",
       "mpl.figure.prototype.handle_draw = function (fig, _msg) {\n",
       "    // Request the server to send over a new figure.\n",
       "    fig.send_draw_message();\n",
       "};\n",
       "\n",
       "mpl.figure.prototype.handle_image_mode = function (fig, msg) {\n",
       "    fig.image_mode = msg['mode'];\n",
       "};\n",
       "\n",
       "mpl.figure.prototype.handle_history_buttons = function (fig, msg) {\n",
       "    for (var key in msg) {\n",
       "        if (!(key in fig.buttons)) {\n",
       "            continue;\n",
       "        }\n",
       "        fig.buttons[key].disabled = !msg[key];\n",
       "        fig.buttons[key].setAttribute('aria-disabled', !msg[key]);\n",
       "    }\n",
       "};\n",
       "\n",
       "mpl.figure.prototype.handle_navigate_mode = function (fig, msg) {\n",
       "    if (msg['mode'] === 'PAN') {\n",
       "        fig.buttons['Pan'].classList.add('active');\n",
       "        fig.buttons['Zoom'].classList.remove('active');\n",
       "    } else if (msg['mode'] === 'ZOOM') {\n",
       "        fig.buttons['Pan'].classList.remove('active');\n",
       "        fig.buttons['Zoom'].classList.add('active');\n",
       "    } else {\n",
       "        fig.buttons['Pan'].classList.remove('active');\n",
       "        fig.buttons['Zoom'].classList.remove('active');\n",
       "    }\n",
       "};\n",
       "\n",
       "mpl.figure.prototype.updated_canvas_event = function () {\n",
       "    // Called whenever the canvas gets updated.\n",
       "    this.send_message('ack', {});\n",
       "};\n",
       "\n",
       "// A function to construct a web socket function for onmessage handling.\n",
       "// Called in the figure constructor.\n",
       "mpl.figure.prototype._make_on_message_function = function (fig) {\n",
       "    return function socket_on_message(evt) {\n",
       "        if (evt.data instanceof Blob) {\n",
       "            var img = evt.data;\n",
       "            if (img.type !== 'image/png') {\n",
       "                /* FIXME: We get \"Resource interpreted as Image but\n",
       "                 * transferred with MIME type text/plain:\" errors on\n",
       "                 * Chrome.  But how to set the MIME type?  It doesn't seem\n",
       "                 * to be part of the websocket stream */\n",
       "                img.type = 'image/png';\n",
       "            }\n",
       "\n",
       "            /* Free the memory for the previous frames */\n",
       "            if (fig.imageObj.src) {\n",
       "                (window.URL || window.webkitURL).revokeObjectURL(\n",
       "                    fig.imageObj.src\n",
       "                );\n",
       "            }\n",
       "\n",
       "            fig.imageObj.src = (window.URL || window.webkitURL).createObjectURL(\n",
       "                img\n",
       "            );\n",
       "            fig.updated_canvas_event();\n",
       "            fig.waiting = false;\n",
       "            return;\n",
       "        } else if (\n",
       "            typeof evt.data === 'string' &&\n",
       "            evt.data.slice(0, 21) === 'data:image/png;base64'\n",
       "        ) {\n",
       "            fig.imageObj.src = evt.data;\n",
       "            fig.updated_canvas_event();\n",
       "            fig.waiting = false;\n",
       "            return;\n",
       "        }\n",
       "\n",
       "        var msg = JSON.parse(evt.data);\n",
       "        var msg_type = msg['type'];\n",
       "\n",
       "        // Call the  \"handle_{type}\" callback, which takes\n",
       "        // the figure and JSON message as its only arguments.\n",
       "        try {\n",
       "            var callback = fig['handle_' + msg_type];\n",
       "        } catch (e) {\n",
       "            console.log(\n",
       "                \"No handler for the '\" + msg_type + \"' message type: \",\n",
       "                msg\n",
       "            );\n",
       "            return;\n",
       "        }\n",
       "\n",
       "        if (callback) {\n",
       "            try {\n",
       "                // console.log(\"Handling '\" + msg_type + \"' message: \", msg);\n",
       "                callback(fig, msg);\n",
       "            } catch (e) {\n",
       "                console.log(\n",
       "                    \"Exception inside the 'handler_\" + msg_type + \"' callback:\",\n",
       "                    e,\n",
       "                    e.stack,\n",
       "                    msg\n",
       "                );\n",
       "            }\n",
       "        }\n",
       "    };\n",
       "};\n",
       "\n",
       "// from https://stackoverflow.com/questions/1114465/getting-mouse-location-in-canvas\n",
       "mpl.findpos = function (e) {\n",
       "    //this section is from http://www.quirksmode.org/js/events_properties.html\n",
       "    var targ;\n",
       "    if (!e) {\n",
       "        e = window.event;\n",
       "    }\n",
       "    if (e.target) {\n",
       "        targ = e.target;\n",
       "    } else if (e.srcElement) {\n",
       "        targ = e.srcElement;\n",
       "    }\n",
       "    if (targ.nodeType === 3) {\n",
       "        // defeat Safari bug\n",
       "        targ = targ.parentNode;\n",
       "    }\n",
       "\n",
       "    // pageX,Y are the mouse positions relative to the document\n",
       "    var boundingRect = targ.getBoundingClientRect();\n",
       "    var x = e.pageX - (boundingRect.left + document.body.scrollLeft);\n",
       "    var y = e.pageY - (boundingRect.top + document.body.scrollTop);\n",
       "\n",
       "    return { x: x, y: y };\n",
       "};\n",
       "\n",
       "/*\n",
       " * return a copy of an object with only non-object keys\n",
       " * we need this to avoid circular references\n",
       " * https://stackoverflow.com/a/24161582/3208463\n",
       " */\n",
       "function simpleKeys(original) {\n",
       "    return Object.keys(original).reduce(function (obj, key) {\n",
       "        if (typeof original[key] !== 'object') {\n",
       "            obj[key] = original[key];\n",
       "        }\n",
       "        return obj;\n",
       "    }, {});\n",
       "}\n",
       "\n",
       "mpl.figure.prototype.mouse_event = function (event, name) {\n",
       "    var canvas_pos = mpl.findpos(event);\n",
       "\n",
       "    if (name === 'button_press') {\n",
       "        this.canvas.focus();\n",
       "        this.canvas_div.focus();\n",
       "    }\n",
       "\n",
       "    var x = canvas_pos.x * this.ratio;\n",
       "    var y = canvas_pos.y * this.ratio;\n",
       "\n",
       "    this.send_message(name, {\n",
       "        x: x,\n",
       "        y: y,\n",
       "        button: event.button,\n",
       "        step: event.step,\n",
       "        guiEvent: simpleKeys(event),\n",
       "    });\n",
       "\n",
       "    /* This prevents the web browser from automatically changing to\n",
       "     * the text insertion cursor when the button is pressed.  We want\n",
       "     * to control all of the cursor setting manually through the\n",
       "     * 'cursor' event from matplotlib */\n",
       "    event.preventDefault();\n",
       "    return false;\n",
       "};\n",
       "\n",
       "mpl.figure.prototype._key_event_extra = function (_event, _name) {\n",
       "    // Handle any extra behaviour associated with a key event\n",
       "};\n",
       "\n",
       "mpl.figure.prototype.key_event = function (event, name) {\n",
       "    // Prevent repeat events\n",
       "    if (name === 'key_press') {\n",
       "        if (event.key === this._key) {\n",
       "            return;\n",
       "        } else {\n",
       "            this._key = event.key;\n",
       "        }\n",
       "    }\n",
       "    if (name === 'key_release') {\n",
       "        this._key = null;\n",
       "    }\n",
       "\n",
       "    var value = '';\n",
       "    if (event.ctrlKey && event.key !== 'Control') {\n",
       "        value += 'ctrl+';\n",
       "    }\n",
       "    else if (event.altKey && event.key !== 'Alt') {\n",
       "        value += 'alt+';\n",
       "    }\n",
       "    else if (event.shiftKey && event.key !== 'Shift') {\n",
       "        value += 'shift+';\n",
       "    }\n",
       "\n",
       "    value += 'k' + event.key;\n",
       "\n",
       "    this._key_event_extra(event, name);\n",
       "\n",
       "    this.send_message(name, { key: value, guiEvent: simpleKeys(event) });\n",
       "    return false;\n",
       "};\n",
       "\n",
       "mpl.figure.prototype.toolbar_button_onclick = function (name) {\n",
       "    if (name === 'download') {\n",
       "        this.handle_save(this, null);\n",
       "    } else {\n",
       "        this.send_message('toolbar_button', { name: name });\n",
       "    }\n",
       "};\n",
       "\n",
       "mpl.figure.prototype.toolbar_button_onmouseover = function (tooltip) {\n",
       "    this.message.textContent = tooltip;\n",
       "};\n",
       "\n",
       "///////////////// REMAINING CONTENT GENERATED BY embed_js.py /////////////////\n",
       "// prettier-ignore\n",
       "var _JSXTOOLS_RESIZE_OBSERVER=function(A){var t,i=new WeakMap,n=new WeakMap,a=new WeakMap,r=new WeakMap,o=new Set;function s(e){if(!(this instanceof s))throw new TypeError(\"Constructor requires 'new' operator\");i.set(this,e)}function h(){throw new TypeError(\"Function is not a constructor\")}function c(e,t,i,n){e=0 in arguments?Number(arguments[0]):0,t=1 in arguments?Number(arguments[1]):0,i=2 in arguments?Number(arguments[2]):0,n=3 in arguments?Number(arguments[3]):0,this.right=(this.x=this.left=e)+(this.width=i),this.bottom=(this.y=this.top=t)+(this.height=n),Object.freeze(this)}function d(){t=requestAnimationFrame(d);var s=new WeakMap,p=new Set;o.forEach((function(t){r.get(t).forEach((function(i){var r=t instanceof window.SVGElement,o=a.get(t),d=r?0:parseFloat(o.paddingTop),f=r?0:parseFloat(o.paddingRight),l=r?0:parseFloat(o.paddingBottom),u=r?0:parseFloat(o.paddingLeft),g=r?0:parseFloat(o.borderTopWidth),m=r?0:parseFloat(o.borderRightWidth),w=r?0:parseFloat(o.borderBottomWidth),b=u+f,F=d+l,v=(r?0:parseFloat(o.borderLeftWidth))+m,W=g+w,y=r?0:t.offsetHeight-W-t.clientHeight,E=r?0:t.offsetWidth-v-t.clientWidth,R=b+v,z=F+W,M=r?t.width:parseFloat(o.width)-R-E,O=r?t.height:parseFloat(o.height)-z-y;if(n.has(t)){var k=n.get(t);if(k[0]===M&&k[1]===O)return}n.set(t,[M,O]);var S=Object.create(h.prototype);S.target=t,S.contentRect=new c(u,d,M,O),s.has(i)||(s.set(i,[]),p.add(i)),s.get(i).push(S)}))})),p.forEach((function(e){i.get(e).call(e,s.get(e),e)}))}return s.prototype.observe=function(i){if(i instanceof window.Element){r.has(i)||(r.set(i,new Set),o.add(i),a.set(i,window.getComputedStyle(i)));var n=r.get(i);n.has(this)||n.add(this),cancelAnimationFrame(t),t=requestAnimationFrame(d)}},s.prototype.unobserve=function(i){if(i instanceof window.Element&&r.has(i)){var n=r.get(i);n.has(this)&&(n.delete(this),n.size||(r.delete(i),o.delete(i))),n.size||r.delete(i),o.size||cancelAnimationFrame(t)}},A.DOMRectReadOnly=c,A.ResizeObserver=s,A.ResizeObserverEntry=h,A}; // eslint-disable-line\n",
       "mpl.toolbar_items = [[\"Home\", \"Reset original view\", \"fa fa-home icon-home\", \"home\"], [\"Back\", \"Back to previous view\", \"fa fa-arrow-left icon-arrow-left\", \"back\"], [\"Forward\", \"Forward to next view\", \"fa fa-arrow-right icon-arrow-right\", \"forward\"], [\"\", \"\", \"\", \"\"], [\"Pan\", \"Left button pans, Right button zooms\\nx/y fixes axis, CTRL fixes aspect\", \"fa fa-arrows icon-move\", \"pan\"], [\"Zoom\", \"Zoom to rectangle\\nx/y fixes axis\", \"fa fa-square-o icon-check-empty\", \"zoom\"], [\"\", \"\", \"\", \"\"], [\"Download\", \"Download plot\", \"fa fa-floppy-o icon-save\", \"download\"]];\n",
       "\n",
       "mpl.extensions = [\"eps\", \"jpeg\", \"pgf\", \"pdf\", \"png\", \"ps\", \"raw\", \"svg\", \"tif\"];\n",
       "\n",
       "mpl.default_extension = \"png\";/* global mpl */\n",
       "\n",
       "var comm_websocket_adapter = function (comm) {\n",
       "    // Create a \"websocket\"-like object which calls the given IPython comm\n",
       "    // object with the appropriate methods. Currently this is a non binary\n",
       "    // socket, so there is still some room for performance tuning.\n",
       "    var ws = {};\n",
       "\n",
       "    ws.binaryType = comm.kernel.ws.binaryType;\n",
       "    ws.readyState = comm.kernel.ws.readyState;\n",
       "    function updateReadyState(_event) {\n",
       "        if (comm.kernel.ws) {\n",
       "            ws.readyState = comm.kernel.ws.readyState;\n",
       "        } else {\n",
       "            ws.readyState = 3; // Closed state.\n",
       "        }\n",
       "    }\n",
       "    comm.kernel.ws.addEventListener('open', updateReadyState);\n",
       "    comm.kernel.ws.addEventListener('close', updateReadyState);\n",
       "    comm.kernel.ws.addEventListener('error', updateReadyState);\n",
       "\n",
       "    ws.close = function () {\n",
       "        comm.close();\n",
       "    };\n",
       "    ws.send = function (m) {\n",
       "        //console.log('sending', m);\n",
       "        comm.send(m);\n",
       "    };\n",
       "    // Register the callback with on_msg.\n",
       "    comm.on_msg(function (msg) {\n",
       "        //console.log('receiving', msg['content']['data'], msg);\n",
       "        var data = msg['content']['data'];\n",
       "        if (data['blob'] !== undefined) {\n",
       "            data = {\n",
       "                data: new Blob(msg['buffers'], { type: data['blob'] }),\n",
       "            };\n",
       "        }\n",
       "        // Pass the mpl event to the overridden (by mpl) onmessage function.\n",
       "        ws.onmessage(data);\n",
       "    });\n",
       "    return ws;\n",
       "};\n",
       "\n",
       "mpl.mpl_figure_comm = function (comm, msg) {\n",
       "    // This is the function which gets called when the mpl process\n",
       "    // starts-up an IPython Comm through the \"matplotlib\" channel.\n",
       "\n",
       "    var id = msg.content.data.id;\n",
       "    // Get hold of the div created by the display call when the Comm\n",
       "    // socket was opened in Python.\n",
       "    var element = document.getElementById(id);\n",
       "    var ws_proxy = comm_websocket_adapter(comm);\n",
       "\n",
       "    function ondownload(figure, _format) {\n",
       "        window.open(figure.canvas.toDataURL());\n",
       "    }\n",
       "\n",
       "    var fig = new mpl.figure(id, ws_proxy, ondownload, element);\n",
       "\n",
       "    // Call onopen now - mpl needs it, as it is assuming we've passed it a real\n",
       "    // web socket which is closed, not our websocket->open comm proxy.\n",
       "    ws_proxy.onopen();\n",
       "\n",
       "    fig.parent_element = element;\n",
       "    fig.cell_info = mpl.find_output_cell(\"<div id='\" + id + \"'></div>\");\n",
       "    if (!fig.cell_info) {\n",
       "        console.error('Failed to find cell for figure', id, fig);\n",
       "        return;\n",
       "    }\n",
       "    fig.cell_info[0].output_area.element.on(\n",
       "        'cleared',\n",
       "        { fig: fig },\n",
       "        fig._remove_fig_handler\n",
       "    );\n",
       "};\n",
       "\n",
       "mpl.figure.prototype.handle_close = function (fig, msg) {\n",
       "    var width = fig.canvas.width / fig.ratio;\n",
       "    fig.cell_info[0].output_area.element.off(\n",
       "        'cleared',\n",
       "        fig._remove_fig_handler\n",
       "    );\n",
       "    fig.resizeObserverInstance.unobserve(fig.canvas_div);\n",
       "\n",
       "    // Update the output cell to use the data from the current canvas.\n",
       "    fig.push_to_output();\n",
       "    var dataURL = fig.canvas.toDataURL();\n",
       "    // Re-enable the keyboard manager in IPython - without this line, in FF,\n",
       "    // the notebook keyboard shortcuts fail.\n",
       "    IPython.keyboard_manager.enable();\n",
       "    fig.parent_element.innerHTML =\n",
       "        '<img src=\"' + dataURL + '\" width=\"' + width + '\">';\n",
       "    fig.close_ws(fig, msg);\n",
       "};\n",
       "\n",
       "mpl.figure.prototype.close_ws = function (fig, msg) {\n",
       "    fig.send_message('closing', msg);\n",
       "    // fig.ws.close()\n",
       "};\n",
       "\n",
       "mpl.figure.prototype.push_to_output = function (_remove_interactive) {\n",
       "    // Turn the data on the canvas into data in the output cell.\n",
       "    var width = this.canvas.width / this.ratio;\n",
       "    var dataURL = this.canvas.toDataURL();\n",
       "    this.cell_info[1]['text/html'] =\n",
       "        '<img src=\"' + dataURL + '\" width=\"' + width + '\">';\n",
       "};\n",
       "\n",
       "mpl.figure.prototype.updated_canvas_event = function () {\n",
       "    // Tell IPython that the notebook contents must change.\n",
       "    IPython.notebook.set_dirty(true);\n",
       "    this.send_message('ack', {});\n",
       "    var fig = this;\n",
       "    // Wait a second, then push the new image to the DOM so\n",
       "    // that it is saved nicely (might be nice to debounce this).\n",
       "    setTimeout(function () {\n",
       "        fig.push_to_output();\n",
       "    }, 1000);\n",
       "};\n",
       "\n",
       "mpl.figure.prototype._init_toolbar = function () {\n",
       "    var fig = this;\n",
       "\n",
       "    var toolbar = document.createElement('div');\n",
       "    toolbar.classList = 'btn-toolbar';\n",
       "    this.root.appendChild(toolbar);\n",
       "\n",
       "    function on_click_closure(name) {\n",
       "        return function (_event) {\n",
       "            return fig.toolbar_button_onclick(name);\n",
       "        };\n",
       "    }\n",
       "\n",
       "    function on_mouseover_closure(tooltip) {\n",
       "        return function (event) {\n",
       "            if (!event.currentTarget.disabled) {\n",
       "                return fig.toolbar_button_onmouseover(tooltip);\n",
       "            }\n",
       "        };\n",
       "    }\n",
       "\n",
       "    fig.buttons = {};\n",
       "    var buttonGroup = document.createElement('div');\n",
       "    buttonGroup.classList = 'btn-group';\n",
       "    var button;\n",
       "    for (var toolbar_ind in mpl.toolbar_items) {\n",
       "        var name = mpl.toolbar_items[toolbar_ind][0];\n",
       "        var tooltip = mpl.toolbar_items[toolbar_ind][1];\n",
       "        var image = mpl.toolbar_items[toolbar_ind][2];\n",
       "        var method_name = mpl.toolbar_items[toolbar_ind][3];\n",
       "\n",
       "        if (!name) {\n",
       "            /* Instead of a spacer, we start a new button group. */\n",
       "            if (buttonGroup.hasChildNodes()) {\n",
       "                toolbar.appendChild(buttonGroup);\n",
       "            }\n",
       "            buttonGroup = document.createElement('div');\n",
       "            buttonGroup.classList = 'btn-group';\n",
       "            continue;\n",
       "        }\n",
       "\n",
       "        button = fig.buttons[name] = document.createElement('button');\n",
       "        button.classList = 'btn btn-default';\n",
       "        button.href = '#';\n",
       "        button.title = name;\n",
       "        button.innerHTML = '<i class=\"fa ' + image + ' fa-lg\"></i>';\n",
       "        button.addEventListener('click', on_click_closure(method_name));\n",
       "        button.addEventListener('mouseover', on_mouseover_closure(tooltip));\n",
       "        buttonGroup.appendChild(button);\n",
       "    }\n",
       "\n",
       "    if (buttonGroup.hasChildNodes()) {\n",
       "        toolbar.appendChild(buttonGroup);\n",
       "    }\n",
       "\n",
       "    // Add the status bar.\n",
       "    var status_bar = document.createElement('span');\n",
       "    status_bar.classList = 'mpl-message pull-right';\n",
       "    toolbar.appendChild(status_bar);\n",
       "    this.message = status_bar;\n",
       "\n",
       "    // Add the close button to the window.\n",
       "    var buttongrp = document.createElement('div');\n",
       "    buttongrp.classList = 'btn-group inline pull-right';\n",
       "    button = document.createElement('button');\n",
       "    button.classList = 'btn btn-mini btn-primary';\n",
       "    button.href = '#';\n",
       "    button.title = 'Stop Interaction';\n",
       "    button.innerHTML = '<i class=\"fa fa-power-off icon-remove icon-large\"></i>';\n",
       "    button.addEventListener('click', function (_evt) {\n",
       "        fig.handle_close(fig, {});\n",
       "    });\n",
       "    button.addEventListener(\n",
       "        'mouseover',\n",
       "        on_mouseover_closure('Stop Interaction')\n",
       "    );\n",
       "    buttongrp.appendChild(button);\n",
       "    var titlebar = this.root.querySelector('.ui-dialog-titlebar');\n",
       "    titlebar.insertBefore(buttongrp, titlebar.firstChild);\n",
       "};\n",
       "\n",
       "mpl.figure.prototype._remove_fig_handler = function (event) {\n",
       "    var fig = event.data.fig;\n",
       "    if (event.target !== this) {\n",
       "        // Ignore bubbled events from children.\n",
       "        return;\n",
       "    }\n",
       "    fig.close_ws(fig, {});\n",
       "};\n",
       "\n",
       "mpl.figure.prototype._root_extra_style = function (el) {\n",
       "    el.style.boxSizing = 'content-box'; // override notebook setting of border-box.\n",
       "};\n",
       "\n",
       "mpl.figure.prototype._canvas_extra_style = function (el) {\n",
       "    // this is important to make the div 'focusable\n",
       "    el.setAttribute('tabindex', 0);\n",
       "    // reach out to IPython and tell the keyboard manager to turn it's self\n",
       "    // off when our div gets focus\n",
       "\n",
       "    // location in version 3\n",
       "    if (IPython.notebook.keyboard_manager) {\n",
       "        IPython.notebook.keyboard_manager.register_events(el);\n",
       "    } else {\n",
       "        // location in version 2\n",
       "        IPython.keyboard_manager.register_events(el);\n",
       "    }\n",
       "};\n",
       "\n",
       "mpl.figure.prototype._key_event_extra = function (event, _name) {\n",
       "    // Check for shift+enter\n",
       "    if (event.shiftKey && event.which === 13) {\n",
       "        this.canvas_div.blur();\n",
       "        // select the cell after this one\n",
       "        var index = IPython.notebook.find_cell_index(this.cell_info[0]);\n",
       "        IPython.notebook.select(index + 1);\n",
       "    }\n",
       "};\n",
       "\n",
       "mpl.figure.prototype.handle_save = function (fig, _msg) {\n",
       "    fig.ondownload(fig, null);\n",
       "};\n",
       "\n",
       "mpl.find_output_cell = function (html_output) {\n",
       "    // Return the cell and output element which can be found *uniquely* in the notebook.\n",
       "    // Note - this is a bit hacky, but it is done because the \"notebook_saving.Notebook\"\n",
       "    // IPython event is triggered only after the cells have been serialised, which for\n",
       "    // our purposes (turning an active figure into a static one), is too late.\n",
       "    var cells = IPython.notebook.get_cells();\n",
       "    var ncells = cells.length;\n",
       "    for (var i = 0; i < ncells; i++) {\n",
       "        var cell = cells[i];\n",
       "        if (cell.cell_type === 'code') {\n",
       "            for (var j = 0; j < cell.output_area.outputs.length; j++) {\n",
       "                var data = cell.output_area.outputs[j];\n",
       "                if (data.data) {\n",
       "                    // IPython >= 3 moved mimebundle to data attribute of output\n",
       "                    data = data.data;\n",
       "                }\n",
       "                if (data['text/html'] === html_output) {\n",
       "                    return [cell, data, j];\n",
       "                }\n",
       "            }\n",
       "        }\n",
       "    }\n",
       "};\n",
       "\n",
       "// Register the function which deals with the matplotlib target/channel.\n",
       "// The kernel may be null if the page has been refreshed.\n",
       "if (IPython.notebook.kernel !== null) {\n",
       "    IPython.notebook.kernel.comm_manager.register_target(\n",
       "        'matplotlib',\n",
       "        mpl.mpl_figure_comm\n",
       "    );\n",
       "}\n"
      ],
      "text/plain": [
       "<IPython.core.display.Javascript object>"
      ]
     },
     "metadata": {},
     "output_type": "display_data"
    },
    {
     "data": {
      "text/html": [
       "<img src=\"data:image/png;base64,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\" width=\"640\">"
      ],
      "text/plain": [
       "<IPython.core.display.HTML object>"
      ]
     },
     "metadata": {},
     "output_type": "display_data"
    }
   ],
   "source": [
    "struct.plot_frame(0)"
   ]
  },
  {
   "cell_type": "code",
   "execution_count": 20,
   "id": "62bfd1ca",
   "metadata": {},
   "outputs": [],
   "source": [
    "%matplotlib inline"
   ]
  },
  {
   "cell_type": "markdown",
   "id": "37d98753",
   "metadata": {},
   "source": [
    "In this specific case it is possible to skip the `compose_database` command, since we only have 1 frame, that has already been read. I will put it here anyway, to have a complete workflow.\n"
   ]
  },
  {
   "cell_type": "code",
   "execution_count": 21,
   "id": "e96a7504",
   "metadata": {},
   "outputs": [
    {
     "name": "stdout",
     "output_type": "stream",
     "text": [
      "sampling_interval CAN NOT be more than 1 .\n",
      " sampling_interval is:  1\n"
     ]
    }
   ],
   "source": [
    "struct.compose_database()"
   ]
  },
  {
   "cell_type": "markdown",
   "id": "e6e024c5",
   "metadata": {},
   "source": [
    "We can nowperform the analysis, and collect the data."
   ]
  },
  {
   "cell_type": "code",
   "execution_count": 22,
   "id": "5141961c",
   "metadata": {},
   "outputs": [
    {
     "name": "stdout",
     "output_type": "stream",
     "text": [
      "processing started...\n",
      "\n",
      "Analyzing frame n°  0\n",
      "Time to compute distance is:  0.012402840999129694 seconds.\n"
     ]
    },
    {
     "name": "stderr",
     "output_type": "stream",
     "text": [
      "100%|███████████████████████████████████████████████████████████████████████████████████| 1/1 [00:00<00:00, 8208.03it/s]"
     ]
    },
    {
     "name": "stdout",
     "output_type": "stream",
     "text": [
      "Time to denoise:  0.8908350099954987 seconds.\n",
      "Finished analysis of frame n° 0\n",
      "Time needed to analyze frame 0 was 0.930867 seconds.\n",
      "\n",
      "Total time to analyze dataset was 0.930898 seconds\n",
      ".\n"
     ]
    },
    {
     "name": "stderr",
     "output_type": "stream",
     "text": [
      "\n"
     ]
    }
   ],
   "source": [
    "struct.analyze_inLoop()"
   ]
  },
  {
   "cell_type": "code",
   "execution_count": 23,
   "id": "4ef5d241",
   "metadata": {},
   "outputs": [],
   "source": [
    "struct.get_data()"
   ]
  },
  {
   "cell_type": "code",
   "execution_count": 24,
   "id": "935f83b1",
   "metadata": {},
   "outputs": [
    {
     "data": {
      "text/html": [
       "<div>\n",
       "<style scoped>\n",
       "    .dataframe tbody tr th:only-of-type {\n",
       "        vertical-align: middle;\n",
       "    }\n",
       "\n",
       "    .dataframe tbody tr th {\n",
       "        vertical-align: top;\n",
       "    }\n",
       "\n",
       "    .dataframe thead th {\n",
       "        text-align: right;\n",
       "    }\n",
       "</style>\n",
       "<table border=\"1\" class=\"dataframe\">\n",
       "  <thead>\n",
       "    <tr style=\"text-align: right;\">\n",
       "      <th></th>\n",
       "      <th>n° of peptides in macroaggregates</th>\n",
       "      <th>parallel</th>\n",
       "      <th>antiparallel</th>\n",
       "      <th>n° of macroaggreates</th>\n",
       "      <th>0</th>\n",
       "    </tr>\n",
       "  </thead>\n",
       "  <tbody>\n",
       "    <tr>\n",
       "      <th>0</th>\n",
       "      <td>[2]</td>\n",
       "      <td>0</td>\n",
       "      <td>1</td>\n",
       "      <td>1</td>\n",
       "      <td>{'parallel': 0, 'antiparallel': 1}</td>\n",
       "    </tr>\n",
       "  </tbody>\n",
       "</table>\n",
       "</div>"
      ],
      "text/plain": [
       "  n° of peptides in macroaggregates  parallel  antiparallel  \\\n",
       "0                               [2]         0             1   \n",
       "\n",
       "   n° of macroaggreates                                   0  \n",
       "0                     1  {'parallel': 0, 'antiparallel': 1}  "
      ]
     },
     "execution_count": 24,
     "metadata": {},
     "output_type": "execute_result"
    }
   ],
   "source": [
    "struct.database"
   ]
  },
  {
   "cell_type": "markdown",
   "id": "9b66b976",
   "metadata": {},
   "source": [
    "At this point we have ran our standard workflow. We can now perform additional analysis, to study the alpha-helix structures."
   ]
  },
  {
   "cell_type": "markdown",
   "id": "cbbc9d99",
   "metadata": {},
   "source": [
    " "
   ]
  },
  {
   "cell_type": "markdown",
   "id": "9d16a98e",
   "metadata": {},
   "source": [
    "## Alpha helix\n",
    "\n",
    "To perform the analysis we need one additional command."
   ]
  },
  {
   "cell_type": "code",
   "execution_count": 27,
   "id": "e08508ef",
   "metadata": {},
   "outputs": [],
   "source": [
    "struct.helix_score()"
   ]
  },
  {
   "cell_type": "markdown",
   "id": "0f7e69a6",
   "metadata": {},
   "source": [
    "When the analysis ends, we will have a pandas.DataFrame for each frame (only one in this case), with the output of the analysis."
   ]
  },
  {
   "cell_type": "code",
   "execution_count": 28,
   "id": "1171e1e6",
   "metadata": {},
   "outputs": [
    {
     "data": {
      "text/html": [
       "<div>\n",
       "<style scoped>\n",
       "    .dataframe tbody tr th:only-of-type {\n",
       "        vertical-align: middle;\n",
       "    }\n",
       "\n",
       "    .dataframe tbody tr th {\n",
       "        vertical-align: top;\n",
       "    }\n",
       "\n",
       "    .dataframe thead th {\n",
       "        text-align: right;\n",
       "    }\n",
       "</style>\n",
       "<table border=\"1\" class=\"dataframe\">\n",
       "  <thead>\n",
       "    <tr style=\"text-align: right;\">\n",
       "      <th></th>\n",
       "      <th>pace_helix</th>\n",
       "      <th>n_carbonalpha</th>\n",
       "      <th>perc_alpha</th>\n",
       "      <th>length_beta</th>\n",
       "      <th>n_carbonbeta</th>\n",
       "      <th>perc_beta</th>\n",
       "      <th>explored_alpha</th>\n",
       "      <th>explored_beta</th>\n",
       "    </tr>\n",
       "  </thead>\n",
       "  <tbody>\n",
       "    <tr>\n",
       "      <th>0</th>\n",
       "      <td>4.010985</td>\n",
       "      <td>90</td>\n",
       "      <td>24.590164</td>\n",
       "      <td>9.022447</td>\n",
       "      <td>92</td>\n",
       "      <td>25.136612</td>\n",
       "      <td>[8, 9, 10, 11, 12, 13, 14, 15, 16, 17, 18, 19,...</td>\n",
       "      <td>[42, 52, 55, 56, 57, 58, 63, 64, 65, 66, 67, 6...</td>\n",
       "    </tr>\n",
       "    <tr>\n",
       "      <th>1</th>\n",
       "      <td>3.989136</td>\n",
       "      <td>90</td>\n",
       "      <td>24.590164</td>\n",
       "      <td>9.0235</td>\n",
       "      <td>88</td>\n",
       "      <td>24.043716</td>\n",
       "      <td>[8, 9, 10, 11, 12, 13, 14, 15, 16, 17, 18, 20,...</td>\n",
       "      <td>[42, 52, 56, 57, 58, 63, 65, 66, 67, 68, 70, 7...</td>\n",
       "    </tr>\n",
       "  </tbody>\n",
       "</table>\n",
       "</div>"
      ],
      "text/plain": [
       "  pace_helix n_carbonalpha perc_alpha length_beta n_carbonbeta  perc_beta  \\\n",
       "0   4.010985            90  24.590164    9.022447           92  25.136612   \n",
       "1   3.989136            90  24.590164      9.0235           88  24.043716   \n",
       "\n",
       "                                      explored_alpha  \\\n",
       "0  [8, 9, 10, 11, 12, 13, 14, 15, 16, 17, 18, 19,...   \n",
       "1  [8, 9, 10, 11, 12, 13, 14, 15, 16, 17, 18, 20,...   \n",
       "\n",
       "                                       explored_beta  \n",
       "0  [42, 52, 55, 56, 57, 58, 63, 64, 65, 66, 67, 6...  \n",
       "1  [42, 52, 56, 57, 58, 63, 65, 66, 67, 68, 70, 7...  "
      ]
     },
     "execution_count": 28,
     "metadata": {},
     "output_type": "execute_result"
    }
   ],
   "source": [
    "struct.frames[0].results.helix_score"
   ]
  },
  {
   "cell_type": "markdown",
   "id": "74da725a",
   "metadata": {},
   "source": [
    "Each row of the above database refer, in this case, to a subunit of the the beta-clamp dimer.\n",
    "\n",
    "Here we focus on one of the output that we just obtained: ***explored_alpha***.\n",
    "\n",
    "*explored_alpha* contains the index of the residues that partecipate in an alpha-helical secondary structure, as found from `morphoscanner` searching algorithm."
   ]
  },
  {
   "cell_type": "markdown",
   "id": "15634417",
   "metadata": {},
   "source": [
    "We use the following code to get the indices, and to transform it in a suitable format to be retrived from `MDAnalysis.Universe`, and then be visualized with `nglview`."
   ]
  },
  {
   "cell_type": "markdown",
   "id": "718a5c7e",
   "metadata": {},
   "source": [
    "#### convert to string"
   ]
  },
  {
   "cell_type": "code",
   "execution_count": 31,
   "id": "4ba4910f",
   "metadata": {},
   "outputs": [],
   "source": [
    "alpha_str = ' '.join(str(i) for i in struct.frames[0].results.helix_score.explored_alpha[0])"
   ]
  },
  {
   "cell_type": "code",
   "execution_count": 32,
   "id": "5adf81fb",
   "metadata": {},
   "outputs": [
    {
     "data": {
      "text/plain": [
       "'8 9 10 11 12 13 14 15 16 17 18 19 20 29 30 31 41 51 73 74 75 76 77 78 79 80 81 96 104 114 115 133 134 135 136 137 138 139 140 141 142 144 145 152 154 166 176 199 200 201 202 203 204 205 206 222 245 246 247 251 261 262 263 264 265 266 267 268 269 270 271 272 273 277 289 299 300 322 323 324 325 326 327 328 329 330 331 344 345 354'"
      ]
     },
     "execution_count": 32,
     "metadata": {},
     "output_type": "execute_result"
    }
   ],
   "source": [
    "alpha_str"
   ]
  },
  {
   "cell_type": "markdown",
   "id": "a36f0f7b",
   "metadata": {},
   "source": [
    "#### make it suitable to make a request to `MDAnalysis.Universe`"
   ]
  },
  {
   "cell_type": "code",
   "execution_count": 34,
   "id": "daf8cd17",
   "metadata": {},
   "outputs": [],
   "source": [
    "alpha_call = 'resid ' + alpha_str"
   ]
  },
  {
   "cell_type": "code",
   "execution_count": 35,
   "id": "10d31d10",
   "metadata": {},
   "outputs": [
    {
     "data": {
      "text/plain": [
       "'resid 8 9 10 11 12 13 14 15 16 17 18 19 20 29 30 31 41 51 73 74 75 76 77 78 79 80 81 96 104 114 115 133 134 135 136 137 138 139 140 141 142 144 145 152 154 166 176 199 200 201 202 203 204 205 206 222 245 246 247 251 261 262 263 264 265 266 267 268 269 270 271 272 273 277 289 299 300 322 323 324 325 326 327 328 329 330 331 344 345 354'"
      ]
     },
     "execution_count": 35,
     "metadata": {},
     "output_type": "execute_result"
    }
   ],
   "source": [
    "alpha_call"
   ]
  },
  {
   "cell_type": "code",
   "execution_count": 36,
   "id": "067f4db4",
   "metadata": {},
   "outputs": [],
   "source": [
    "alpha_atom = struct.universe.select_atoms(alpha_call)"
   ]
  },
  {
   "cell_type": "markdown",
   "id": "f1590518",
   "metadata": {},
   "source": [
    "#### Use `nglview` for the visualization"
   ]
  },
  {
   "cell_type": "code",
   "execution_count": 42,
   "id": "74078efa",
   "metadata": {},
   "outputs": [],
   "source": [
    "view = nv.show_mdanalysis(alpha_atom)"
   ]
  },
  {
   "cell_type": "code",
   "execution_count": 43,
   "id": "07a924c8",
   "metadata": {},
   "outputs": [
    {
     "data": {
      "application/vnd.jupyter.widget-view+json": {
       "model_id": "55fb6daf8991430cb879b4dcff70bf48",
       "version_major": 2,
       "version_minor": 0
      },
      "text/plain": [
       "NGLWidget()"
      ]
     },
     "metadata": {},
     "output_type": "display_data"
    }
   ],
   "source": [
    "view"
   ]
  },
  {
   "cell_type": "markdown",
   "id": "8000b362",
   "metadata": {},
   "source": [
    "#### clean a bit and view again"
   ]
  },
  {
   "cell_type": "code",
   "execution_count": 40,
   "id": "db4dee6c",
   "metadata": {},
   "outputs": [],
   "source": [
    "view.remove_ball_and_stick()\n",
    "view.add_cartoon()"
   ]
  },
  {
   "cell_type": "code",
   "execution_count": 41,
   "id": "999d0b89",
   "metadata": {},
   "outputs": [
    {
     "data": {
      "application/vnd.jupyter.widget-view+json": {
       "model_id": "5ac823ca8b9d4f45bf8acf27a1dd9e93",
       "version_major": 2,
       "version_minor": 0
      },
      "text/plain": [
       "NGLWidget(n_components=1)"
      ]
     },
     "metadata": {},
     "output_type": "display_data"
    }
   ],
   "source": [
    "view"
   ]
  },
  {
   "cell_type": "markdown",
   "id": "2ff5d476",
   "metadata": {},
   "source": [
    " "
   ]
  },
  {
   "cell_type": "markdown",
   "id": "0a8a4ebd",
   "metadata": {},
   "source": [
    "We can compare it with the whole protein:"
   ]
  },
  {
   "cell_type": "code",
   "execution_count": 44,
   "id": "0b6ae90f",
   "metadata": {},
   "outputs": [
    {
     "data": {
      "application/vnd.jupyter.widget-view+json": {
       "model_id": "39ccb8613e88483ea3c5af6adb460c6f",
       "version_major": 2,
       "version_minor": 0
      },
      "text/plain": [
       "NGLWidget()"
      ]
     },
     "metadata": {},
     "output_type": "display_data"
    }
   ],
   "source": [
    "nv.show_pdbid('3bep')"
   ]
  },
  {
   "cell_type": "markdown",
   "id": "b4dd15fd",
   "metadata": {},
   "source": [
    " "
   ]
  },
  {
   "cell_type": "markdown",
   "id": "fdb9505e",
   "metadata": {},
   "source": [
    " "
   ]
  },
  {
   "cell_type": "markdown",
   "id": "4b730195",
   "metadata": {},
   "source": [
    "## Some utilities that can be useful\n",
    "\n",
    "`morphoscanner` simplifies the analysis, making it possible with a single command.\n",
    "\n",
    "What happens under the hood in this case is:\n",
    "- calculation of the distance map, already done with the first part of the workflow\n",
    "- calculation of the contact map, with distance based thresholds\n",
    "- analysis of the contact map"
   ]
  },
  {
   "cell_type": "markdown",
   "id": "58d1b1e2",
   "metadata": {},
   "source": [
    "So we get the map:"
   ]
  },
  {
   "cell_type": "code",
   "execution_count": 45,
   "id": "4fcd2de6",
   "metadata": {},
   "outputs": [],
   "source": [
    "dmap_sub0 = struct.frames[0].results.distance_maps[0][0]"
   ]
  },
  {
   "cell_type": "code",
   "execution_count": 46,
   "id": "189d3cac",
   "metadata": {},
   "outputs": [
    {
     "data": {
      "text/plain": [
       "<matplotlib.image.AxesImage at 0x7fb5926a1190>"
      ]
     },
     "execution_count": 46,
     "metadata": {},
     "output_type": "execute_result"
    },
    {
     "data": {
      "image/png": "[encoded data removed]",
      "text/plain": [
       "<Figure size 432x288 with 1 Axes>"
      ]
     },
     "metadata": {
      "needs_background": "light"
     },
     "output_type": "display_data"
    }
   ],
   "source": [
    "plt.imshow(dmap_sub0)"
   ]
  },
  {
   "cell_type": "markdown",
   "id": "ebad4e06",
   "metadata": {},
   "source": [
    "Calculate the contact map:"
   ]
  },
  {
   "cell_type": "code",
   "execution_count": 47,
   "id": "f5032534",
   "metadata": {},
   "outputs": [],
   "source": [
    "h_cont = morphoscanner.backend.helix_recognition.contact_map_helix_torch(dmap_sub0)"
   ]
  },
  {
   "cell_type": "code",
   "execution_count": 48,
   "id": "bc2f1318",
   "metadata": {},
   "outputs": [
    {
     "data": {
      "text/plain": [
       "<matplotlib.image.AxesImage at 0x7fb5901fb550>"
      ]
     },
     "execution_count": 48,
     "metadata": {},
     "output_type": "execute_result"
    },
    {
     "data": {
      "image/png": "[encoded data removed]",
      "text/plain": [
       "<Figure size 432x288 with 1 Axes>"
      ]
     },
     "metadata": {
      "needs_background": "light"
     },
     "output_type": "display_data"
    }
   ],
   "source": [
    "plt.imshow(h_cont)"
   ]
  },
  {
   "cell_type": "markdown",
   "id": "3f6e6f21",
   "metadata": {},
   "source": [
    "Perform the pattern recognition:"
   ]
  },
  {
   "cell_type": "code",
   "execution_count": 49,
   "id": "6f92f83f",
   "metadata": {},
   "outputs": [],
   "source": [
    "trace = morphoscanner.backend.helix_recognition.contact_tracer(h_cont)"
   ]
  },
  {
   "cell_type": "code",
   "execution_count": 50,
   "id": "cac46d37",
   "metadata": {},
   "outputs": [
    {
     "data": {
      "text/plain": [
       "{'pace_helix': 4.010984864791529,\n",
       " 'n_carbonalpha': 90,\n",
       " 'perc_alpha': 24.59016393442623,\n",
       " 'length_beta': 9.022446574380128,\n",
       " 'n_carbonbeta': 92,\n",
       " 'perc_beta': 25.136612021857925,\n",
       " 'explored_alpha': array([  8,   9,  10,  11,  12,  13,  14,  15,  16,  17,  18,  19,  20,\n",
       "         29,  30,  31,  41,  51,  73,  74,  75,  76,  77,  78,  79,  80,\n",
       "         81,  96, 104, 114, 115, 133, 134, 135, 136, 137, 138, 139, 140,\n",
       "        141, 142, 144, 145, 152, 154, 166, 176, 199, 200, 201, 202, 203,\n",
       "        204, 205, 206, 222, 245, 246, 247, 251, 261, 262, 263, 264, 265,\n",
       "        266, 267, 268, 269, 270, 271, 272, 273, 277, 289, 299, 300, 322,\n",
       "        323, 324, 325, 326, 327, 328, 329, 330, 331, 344, 345, 354],\n",
       "       dtype=int32),\n",
       " 'explored_beta': array([ 42,  52,  55,  56,  57,  58,  63,  64,  65,  66,  67,  68,  70,\n",
       "         71,  85,  87,  88,  89,  91,  97,  99, 106, 107, 108, 109, 110,\n",
       "        112, 155, 167, 168, 169, 171, 172, 177, 178, 179, 181, 182, 183,\n",
       "        187, 191, 192, 193, 194, 213, 215, 217, 218, 223, 224, 225, 230,\n",
       "        231, 232, 233, 234, 235, 236, 278, 279, 290, 291, 292, 293, 294,\n",
       "        295, 302, 303, 305, 307, 308, 310, 314, 316, 317, 319, 320, 335,\n",
       "        337, 338, 339, 348, 349, 350, 356, 357, 358, 359, 360, 361, 362,\n",
       "        363], dtype=int32)}"
      ]
     },
     "execution_count": 50,
     "metadata": {},
     "output_type": "execute_result"
    }
   ],
   "source": [
    "trace"
   ]
  },
  {
   "cell_type": "markdown",
   "id": "f29081f8",
   "metadata": {},
   "source": [
    "And the this becomes the good looking pandas.DataFrame"
   ]
  },
  {
   "cell_type": "code",
   "execution_count": 61,
   "id": "ec62b0f6",
   "metadata": {
    "scrolled": true
   },
   "outputs": [],
   "source": [
    "helix_score_data = pd.DataFrame.from_dict(trace, orient='index').transpose()"
   ]
  },
  {
   "cell_type": "code",
   "execution_count": 62,
   "id": "d2288ffd",
   "metadata": {},
   "outputs": [
    {
     "data": {
      "text/html": [
       "<div>\n",
       "<style scoped>\n",
       "    .dataframe tbody tr th:only-of-type {\n",
       "        vertical-align: middle;\n",
       "    }\n",
       "\n",
       "    .dataframe tbody tr th {\n",
       "        vertical-align: top;\n",
       "    }\n",
       "\n",
       "    .dataframe thead th {\n",
       "        text-align: right;\n",
       "    }\n",
       "</style>\n",
       "<table border=\"1\" class=\"dataframe\">\n",
       "  <thead>\n",
       "    <tr style=\"text-align: right;\">\n",
       "      <th></th>\n",
       "      <th>pace_helix</th>\n",
       "      <th>n_carbonalpha</th>\n",
       "      <th>perc_alpha</th>\n",
       "      <th>length_beta</th>\n",
       "      <th>n_carbonbeta</th>\n",
       "      <th>perc_beta</th>\n",
       "      <th>explored_alpha</th>\n",
       "      <th>explored_beta</th>\n",
       "    </tr>\n",
       "  </thead>\n",
       "  <tbody>\n",
       "    <tr>\n",
       "      <th>0</th>\n",
       "      <td>4.010985</td>\n",
       "      <td>90</td>\n",
       "      <td>24.590164</td>\n",
       "      <td>9.022447</td>\n",
       "      <td>92</td>\n",
       "      <td>25.136612</td>\n",
       "      <td>[8, 9, 10, 11, 12, 13, 14, 15, 16, 17, 18, 19,...</td>\n",
       "      <td>[42, 52, 55, 56, 57, 58, 63, 64, 65, 66, 67, 6...</td>\n",
       "    </tr>\n",
       "  </tbody>\n",
       "</table>\n",
       "</div>"
      ],
      "text/plain": [
       "  pace_helix n_carbonalpha perc_alpha length_beta n_carbonbeta  perc_beta  \\\n",
       "0   4.010985            90  24.590164    9.022447           92  25.136612   \n",
       "\n",
       "                                      explored_alpha  \\\n",
       "0  [8, 9, 10, 11, 12, 13, 14, 15, 16, 17, 18, 19,...   \n",
       "\n",
       "                                       explored_beta  \n",
       "0  [42, 52, 55, 56, 57, 58, 63, 64, 65, 66, 67, 6...  "
      ]
     },
     "execution_count": 62,
     "metadata": {},
     "output_type": "execute_result"
    }
   ],
   "source": [
    "helix_score_data"
   ]
  },
  {
   "cell_type": "markdown",
   "id": "5761d4ef",
   "metadata": {},
   "source": [
    " "
   ]
  },
  {
   "cell_type": "code",
   "execution_count": null,
   "id": "fd6db7ea",
   "metadata": {},
   "outputs": [],
   "source": []
  }
 ],
 "metadata": {
  "kernelspec": {
   "display_name": "Python 3 (ipykernel)",
   "language": "python",
   "name": "python3"
  },
  "language_info": {
   "codemirror_mode": {
    "name": "ipython",
    "version": 3
   },
   "file_extension": ".py",
   "mimetype": "text/x-python",
   "name": "python",
   "nbconvert_exporter": "python",
   "pygments_lexer": "ipython3",
   "version": "3.8.13"
  }
 },
 "nbformat": 4,
 "nbformat_minor": 5
}
