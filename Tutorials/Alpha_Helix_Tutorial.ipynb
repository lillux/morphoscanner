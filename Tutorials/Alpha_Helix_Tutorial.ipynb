{
 "cells": [
  {
   "cell_type": "markdown",
   "id": "ffb70c76",
   "metadata": {},
   "source": [
    "# morphoscanner - alpha-helix tutorial"
   ]
  },
  {
   "cell_type": "markdown",
   "id": "6e408e58",
   "metadata": {},
   "source": [
    "`morphoscanner` includes functionalities to study the *alpha-helix* secondary structure, on peptides and proteins.\n",
    "\n",
    "In this tutorial we will use one of the `.pdb` included in `morphoscanner` as sample data: `3bep`.\n",
    "\n",
    "`3bep` is a complex of *DNA* and a *sliding clamp* protein dimer. [Here](https://www.rcsb.org/structure/3BEP) for more information on the complex.\n",
    "\n",
    "We will need `nglView` package to visualize the structures. `nglView` ***is not installed*** with `morphoscanner`, so you have to install in your environment. The [nglview repository](https://github.com/nglviewer/nglview) contains all the necessary information to do it.\n",
    "\n",
    "I copy-pasted below their installation paragraph found in the README.md, to make everything easier."
   ]
  },
  {
   "cell_type": "markdown",
   "id": "42562b1d",
   "metadata": {},
   "source": [
    "Installation of nglview -- [link](https://github.com/nglviewer/nglview#installation)\n",
    "============\n",
    "\n",
    "Released version\n",
    "----------------\n",
    "\n",
    "- Available on `conda-forge` channel\n",
    "\n",
    "    ```bash\n",
    "    conda install nglview -c conda-forge\n",
    "    # might need: jupyter-nbextension enable nglview --py --sys-prefix\n",
    "\n",
    "    # if you already installed nglview, you can `upgrade`\n",
    "    conda upgrade nglview --force\n",
    "    # might need: jupyter-nbextension enable nglview --py --sys-prefix\n",
    "    ```\n",
    "\n",
    "- Available on [PyPI](https://pypi.python.org/pypi/nglview/)\n",
    "\n",
    "```bash\n",
    "   pip install nglview\n",
    "   # might need: jupyter-nbextension enable nglview --py --sys-prefix\n",
    "```\n",
    "\n",
    "Jupyterlab: `nglview` works best with jupyterlab >= 3.0 and no further steps needed.\n",
    "\n",
    "## Notes\n",
    "\n",
    "If you are using `notebook` v5.0, you need to increase the `iopub_data_rate_limit`\n",
    "to [visualize big structure (e.g: solvated system)](https://github.com/arose/nglview/issues/633)\n",
    "\n",
    "```\n",
    "jupyter notebook --NotebookApp.iopub_data_rate_limit=10000000\n",
    "```"
   ]
  },
  {
   "cell_type": "markdown",
   "id": "a6ad48bf",
   "metadata": {},
   "source": [
    " "
   ]
  },
  {
   "cell_type": "markdown",
   "id": "8c891aed",
   "metadata": {},
   "source": [
    " "
   ]
  },
  {
   "cell_type": "markdown",
   "id": "7aa8c6ff",
   "metadata": {},
   "source": [
    "Done with the setup, we can start to import what we will need."
   ]
  },
  {
   "cell_type": "code",
   "execution_count": 1,
   "id": "9b9ed4f3",
   "metadata": {},
   "outputs": [
    {
     "data": {
      "application/vnd.jupyter.widget-view+json": {
       "model_id": "d9d07935b1bc450b88175c01c53af219",
       "version_major": 2,
       "version_minor": 0
      },
      "text/plain": []
     },
     "metadata": {},
     "output_type": "display_data"
    }
   ],
   "source": [
    "import morphoscanner\n",
    "import matplotlib.pyplot as plt\n",
    "import numpy as np\n",
    "import nglview as nv\n",
    "import pandas as pd"
   ]
  },
  {
   "cell_type": "code",
   "execution_count": null,
   "id": "90e01fa9",
   "metadata": {},
   "outputs": [],
   "source": [
    "%matplotlib notebook"
   ]
  },
  {
   "cell_type": "markdown",
   "id": "75c81a5a",
   "metadata": {},
   "source": [
    "## Load the data"
   ]
  },
  {
   "cell_type": "markdown",
   "id": "baa6e5d6",
   "metadata": {},
   "source": [
    "We will use our sample protein structure. To load your own structure, or trajectory, pass their datapath to the class instance."
   ]
  },
  {
   "cell_type": "code",
   "execution_count": 2,
   "id": "8cdfd52a",
   "metadata": {},
   "outputs": [],
   "source": [
    "loader = morphoscanner.data_sample.loader.dataloader()"
   ]
  },
  {
   "cell_type": "markdown",
   "id": "a779180e",
   "metadata": {},
   "source": [
    "## Analysis\n",
    "\n",
    "The workflow is the same, used both for a single topology, or for a trajectory.\n",
    "\n",
    "Since here we are using a `.pdb` topology, `morphoscanner` finds a single frame."
   ]
  },
  {
   "cell_type": "code",
   "execution_count": 3,
   "id": "e658c102",
   "metadata": {},
   "outputs": [
    {
     "name": "stdout",
     "output_type": "stream",
     "text": [
      "In your trajectory there are 1 frames.\n",
      "\n"
     ]
    }
   ],
   "source": [
    "struct = morphoscanner.trajectory.trajectory(loader.pdb_3bep,select=['aminoacids'])"
   ]
  },
  {
   "cell_type": "markdown",
   "id": "be891ede",
   "metadata": {},
   "source": [
    "The complex is composed by a dimer and a DNA helix. The dimer is found as two separate proteins, but the helix is not found by `morphoscanner`, since its atom type definitions are not in `morphoscanner` dictionary at the moment."
   ]
  },
  {
   "cell_type": "code",
   "execution_count": 4,
   "id": "59367e6c",
   "metadata": {},
   "outputs": [
    {
     "name": "stdout",
     "output_type": "stream",
     "text": [
      "Length: 366, Peptides: 2\n",
      "Exploration of frame 0 done.\n",
      "\n"
     ]
    }
   ],
   "source": [
    "struct.explore()"
   ]
  },
  {
   "cell_type": "markdown",
   "id": "03b6eaad",
   "metadata": {},
   "source": [
    "We can now visualize the complex. You can turn on the interactive visualization to have a better look:"
   ]
  },
  {
   "cell_type": "code",
   "execution_count": 5,
   "id": "afe36ac0",
   "metadata": {},
   "outputs": [],
   "source": [
    "%matplotlib notebook"
   ]
  },
  {
   "cell_type": "code",
   "execution_count": 6,
   "id": "1ff3aef6",
   "metadata": {},
   "outputs": [
    {
     "data": {
      "application/javascript": [
       "/* Put everything inside the global mpl namespace */\n",
       "/* global mpl */\n",
       "window.mpl = {};\n",
       "\n",
       "mpl.get_websocket_type = function () {\n",
       "    if (typeof WebSocket !== 'undefined') {\n",
       "        return WebSocket;\n",
       "    } else if (typeof MozWebSocket !== 'undefined') {\n",
       "        return MozWebSocket;\n",
       "    } else {\n",
       "        alert(\n",
       "            'Your browser does not have WebSocket support. ' +\n",
       "                'Please try Chrome, Safari or Firefox ≥ 6. ' +\n",
       "                'Firefox 4 and 5 are also supported but you ' +\n",
       "                'have to enable WebSockets in about:config.'\n",
       "        );\n",
       "    }\n",
       "};\n",
       "\n",
       "mpl.figure = function (figure_id, websocket, ondownload, parent_element) {\n",
       "    this.id = figure_id;\n",
       "\n",
       "    this.ws = websocket;\n",
       "\n",
       "    this.supports_binary = this.ws.binaryType !== undefined;\n",
       "\n",
       "    if (!this.supports_binary) {\n",
       "        var warnings = document.getElementById('mpl-warnings');\n",
       "        if (warnings) {\n",
       "            warnings.style.display = 'block';\n",
       "            warnings.textContent =\n",
       "                'This browser does not support binary websocket messages. ' +\n",
       "                'Performance may be slow.';\n",
       "        }\n",
       "    }\n",
       "\n",
       "    this.imageObj = new Image();\n",
       "\n",
       "    this.context = undefined;\n",
       "    this.message = undefined;\n",
       "    this.canvas = undefined;\n",
       "    this.rubberband_canvas = undefined;\n",
       "    this.rubberband_context = undefined;\n",
       "    this.format_dropdown = undefined;\n",
       "\n",
       "    this.image_mode = 'full';\n",
       "\n",
       "    this.root = document.createElement('div');\n",
       "    this.root.setAttribute('style', 'display: inline-block');\n",
       "    this._root_extra_style(this.root);\n",
       "\n",
       "    parent_element.appendChild(this.root);\n",
       "\n",
       "    this._init_header(this);\n",
       "    this._init_canvas(this);\n",
       "    this._init_toolbar(this);\n",
       "\n",
       "    var fig = this;\n",
       "\n",
       "    this.waiting = false;\n",
       "\n",
       "    this.ws.onopen = function () {\n",
       "        fig.send_message('supports_binary', { value: fig.supports_binary });\n",
       "        fig.send_message('send_image_mode', {});\n",
       "        if (fig.ratio !== 1) {\n",
       "            fig.send_message('set_device_pixel_ratio', {\n",
       "                device_pixel_ratio: fig.ratio,\n",
       "            });\n",
       "        }\n",
       "        fig.send_message('refresh', {});\n",
       "    };\n",
       "\n",
       "    this.imageObj.onload = function () {\n",
       "        if (fig.image_mode === 'full') {\n",
       "            // Full images could contain transparency (where diff images\n",
       "            // almost always do), so we need to clear the canvas so that\n",
       "            // there is no ghosting.\n",
       "            fig.context.clearRect(0, 0, fig.canvas.width, fig.canvas.height);\n",
       "        }\n",
       "        fig.context.drawImage(fig.imageObj, 0, 0);\n",
       "    };\n",
       "\n",
       "    this.imageObj.onunload = function () {\n",
       "        fig.ws.close();\n",
       "    };\n",
       "\n",
       "    this.ws.onmessage = this._make_on_message_function(this);\n",
       "\n",
       "    this.ondownload = ondownload;\n",
       "};\n",
       "\n",
       "mpl.figure.prototype._init_header = function () {\n",
       "    var titlebar = document.createElement('div');\n",
       "    titlebar.classList =\n",
       "        'ui-dialog-titlebar ui-widget-header ui-corner-all ui-helper-clearfix';\n",
       "    var titletext = document.createElement('div');\n",
       "    titletext.classList = 'ui-dialog-title';\n",
       "    titletext.setAttribute(\n",
       "        'style',\n",
       "        'width: 100%; text-align: center; padding: 3px;'\n",
       "    );\n",
       "    titlebar.appendChild(titletext);\n",
       "    this.root.appendChild(titlebar);\n",
       "    this.header = titletext;\n",
       "};\n",
       "\n",
       "mpl.figure.prototype._canvas_extra_style = function (_canvas_div) {};\n",
       "\n",
       "mpl.figure.prototype._root_extra_style = function (_canvas_div) {};\n",
       "\n",
       "mpl.figure.prototype._init_canvas = function () {\n",
       "    var fig = this;\n",
       "\n",
       "    var canvas_div = (this.canvas_div = document.createElement('div'));\n",
       "    canvas_div.setAttribute(\n",
       "        'style',\n",
       "        'border: 1px solid #ddd;' +\n",
       "            'box-sizing: content-box;' +\n",
       "            'clear: both;' +\n",
       "            'min-height: 1px;' +\n",
       "            'min-width: 1px;' +\n",
       "            'outline: 0;' +\n",
       "            'overflow: hidden;' +\n",
       "            'position: relative;' +\n",
       "            'resize: both;'\n",
       "    );\n",
       "\n",
       "    function on_keyboard_event_closure(name) {\n",
       "        return function (event) {\n",
       "            return fig.key_event(event, name);\n",
       "        };\n",
       "    }\n",
       "\n",
       "    canvas_div.addEventListener(\n",
       "        'keydown',\n",
       "        on_keyboard_event_closure('key_press')\n",
       "    );\n",
       "    canvas_div.addEventListener(\n",
       "        'keyup',\n",
       "        on_keyboard_event_closure('key_release')\n",
       "    );\n",
       "\n",
       "    this._canvas_extra_style(canvas_div);\n",
       "    this.root.appendChild(canvas_div);\n",
       "\n",
       "    var canvas = (this.canvas = document.createElement('canvas'));\n",
       "    canvas.classList.add('mpl-canvas');\n",
       "    canvas.setAttribute('style', 'box-sizing: content-box;');\n",
       "\n",
       "    this.context = canvas.getContext('2d');\n",
       "\n",
       "    var backingStore =\n",
       "        this.context.backingStorePixelRatio ||\n",
       "        this.context.webkitBackingStorePixelRatio ||\n",
       "        this.context.mozBackingStorePixelRatio ||\n",
       "        this.context.msBackingStorePixelRatio ||\n",
       "        this.context.oBackingStorePixelRatio ||\n",
       "        this.context.backingStorePixelRatio ||\n",
       "        1;\n",
       "\n",
       "    this.ratio = (window.devicePixelRatio || 1) / backingStore;\n",
       "\n",
       "    var rubberband_canvas = (this.rubberband_canvas = document.createElement(\n",
       "        'canvas'\n",
       "    ));\n",
       "    rubberband_canvas.setAttribute(\n",
       "        'style',\n",
       "        'box-sizing: content-box; position: absolute; left: 0; top: 0; z-index: 1;'\n",
       "    );\n",
       "\n",
       "    // Apply a ponyfill if ResizeObserver is not implemented by browser.\n",
       "    if (this.ResizeObserver === undefined) {\n",
       "        if (window.ResizeObserver !== undefined) {\n",
       "            this.ResizeObserver = window.ResizeObserver;\n",
       "        } else {\n",
       "            var obs = _JSXTOOLS_RESIZE_OBSERVER({});\n",
       "            this.ResizeObserver = obs.ResizeObserver;\n",
       "        }\n",
       "    }\n",
       "\n",
       "    this.resizeObserverInstance = new this.ResizeObserver(function (entries) {\n",
       "        var nentries = entries.length;\n",
       "        for (var i = 0; i < nentries; i++) {\n",
       "            var entry = entries[i];\n",
       "            var width, height;\n",
       "            if (entry.contentBoxSize) {\n",
       "                if (entry.contentBoxSize instanceof Array) {\n",
       "                    // Chrome 84 implements new version of spec.\n",
       "                    width = entry.contentBoxSize[0].inlineSize;\n",
       "                    height = entry.contentBoxSize[0].blockSize;\n",
       "                } else {\n",
       "                    // Firefox implements old version of spec.\n",
       "                    width = entry.contentBoxSize.inlineSize;\n",
       "                    height = entry.contentBoxSize.blockSize;\n",
       "                }\n",
       "            } else {\n",
       "                // Chrome <84 implements even older version of spec.\n",
       "                width = entry.contentRect.width;\n",
       "                height = entry.contentRect.height;\n",
       "            }\n",
       "\n",
       "            // Keep the size of the canvas and rubber band canvas in sync with\n",
       "            // the canvas container.\n",
       "            if (entry.devicePixelContentBoxSize) {\n",
       "                // Chrome 84 implements new version of spec.\n",
       "                canvas.setAttribute(\n",
       "                    'width',\n",
       "                    entry.devicePixelContentBoxSize[0].inlineSize\n",
       "                );\n",
       "                canvas.setAttribute(\n",
       "                    'height',\n",
       "                    entry.devicePixelContentBoxSize[0].blockSize\n",
       "                );\n",
       "            } else {\n",
       "                canvas.setAttribute('width', width * fig.ratio);\n",
       "                canvas.setAttribute('height', height * fig.ratio);\n",
       "            }\n",
       "            canvas.setAttribute(\n",
       "                'style',\n",
       "                'width: ' + width + 'px; height: ' + height + 'px;'\n",
       "            );\n",
       "\n",
       "            rubberband_canvas.setAttribute('width', width);\n",
       "            rubberband_canvas.setAttribute('height', height);\n",
       "\n",
       "            // And update the size in Python. We ignore the initial 0/0 size\n",
       "            // that occurs as the element is placed into the DOM, which should\n",
       "            // otherwise not happen due to the minimum size styling.\n",
       "            if (fig.ws.readyState == 1 && width != 0 && height != 0) {\n",
       "                fig.request_resize(width, height);\n",
       "            }\n",
       "        }\n",
       "    });\n",
       "    this.resizeObserverInstance.observe(canvas_div);\n",
       "\n",
       "    function on_mouse_event_closure(name) {\n",
       "        return function (event) {\n",
       "            return fig.mouse_event(event, name);\n",
       "        };\n",
       "    }\n",
       "\n",
       "    rubberband_canvas.addEventListener(\n",
       "        'mousedown',\n",
       "        on_mouse_event_closure('button_press')\n",
       "    );\n",
       "    rubberband_canvas.addEventListener(\n",
       "        'mouseup',\n",
       "        on_mouse_event_closure('button_release')\n",
       "    );\n",
       "    rubberband_canvas.addEventListener(\n",
       "        'dblclick',\n",
       "        on_mouse_event_closure('dblclick')\n",
       "    );\n",
       "    // Throttle sequential mouse events to 1 every 20ms.\n",
       "    rubberband_canvas.addEventListener(\n",
       "        'mousemove',\n",
       "        on_mouse_event_closure('motion_notify')\n",
       "    );\n",
       "\n",
       "    rubberband_canvas.addEventListener(\n",
       "        'mouseenter',\n",
       "        on_mouse_event_closure('figure_enter')\n",
       "    );\n",
       "    rubberband_canvas.addEventListener(\n",
       "        'mouseleave',\n",
       "        on_mouse_event_closure('figure_leave')\n",
       "    );\n",
       "\n",
       "    canvas_div.addEventListener('wheel', function (event) {\n",
       "        if (event.deltaY < 0) {\n",
       "            event.step = 1;\n",
       "        } else {\n",
       "            event.step = -1;\n",
       "        }\n",
       "        on_mouse_event_closure('scroll')(event);\n",
       "    });\n",
       "\n",
       "    canvas_div.appendChild(canvas);\n",
       "    canvas_div.appendChild(rubberband_canvas);\n",
       "\n",
       "    this.rubberband_context = rubberband_canvas.getContext('2d');\n",
       "    this.rubberband_context.strokeStyle = '#000000';\n",
       "\n",
       "    this._resize_canvas = function (width, height, forward) {\n",
       "        if (forward) {\n",
       "            canvas_div.style.width = width + 'px';\n",
       "            canvas_div.style.height = height + 'px';\n",
       "        }\n",
       "    };\n",
       "\n",
       "    // Disable right mouse context menu.\n",
       "    this.rubberband_canvas.addEventListener('contextmenu', function (_e) {\n",
       "        event.preventDefault();\n",
       "        return false;\n",
       "    });\n",
       "\n",
       "    function set_focus() {\n",
       "        canvas.focus();\n",
       "        canvas_div.focus();\n",
       "    }\n",
       "\n",
       "    window.setTimeout(set_focus, 100);\n",
       "};\n",
       "\n",
       "mpl.figure.prototype._init_toolbar = function () {\n",
       "    var fig = this;\n",
       "\n",
       "    var toolbar = document.createElement('div');\n",
       "    toolbar.classList = 'mpl-toolbar';\n",
       "    this.root.appendChild(toolbar);\n",
       "\n",
       "    function on_click_closure(name) {\n",
       "        return function (_event) {\n",
       "            return fig.toolbar_button_onclick(name);\n",
       "        };\n",
       "    }\n",
       "\n",
       "    function on_mouseover_closure(tooltip) {\n",
       "        return function (event) {\n",
       "            if (!event.currentTarget.disabled) {\n",
       "                return fig.toolbar_button_onmouseover(tooltip);\n",
       "            }\n",
       "        };\n",
       "    }\n",
       "\n",
       "    fig.buttons = {};\n",
       "    var buttonGroup = document.createElement('div');\n",
       "    buttonGroup.classList = 'mpl-button-group';\n",
       "    for (var toolbar_ind in mpl.toolbar_items) {\n",
       "        var name = mpl.toolbar_items[toolbar_ind][0];\n",
       "        var tooltip = mpl.toolbar_items[toolbar_ind][1];\n",
       "        var image = mpl.toolbar_items[toolbar_ind][2];\n",
       "        var method_name = mpl.toolbar_items[toolbar_ind][3];\n",
       "\n",
       "        if (!name) {\n",
       "            /* Instead of a spacer, we start a new button group. */\n",
       "            if (buttonGroup.hasChildNodes()) {\n",
       "                toolbar.appendChild(buttonGroup);\n",
       "            }\n",
       "            buttonGroup = document.createElement('div');\n",
       "            buttonGroup.classList = 'mpl-button-group';\n",
       "            continue;\n",
       "        }\n",
       "\n",
       "        var button = (fig.buttons[name] = document.createElement('button'));\n",
       "        button.classList = 'mpl-widget';\n",
       "        button.setAttribute('role', 'button');\n",
       "        button.setAttribute('aria-disabled', 'false');\n",
       "        button.addEventListener('click', on_click_closure(method_name));\n",
       "        button.addEventListener('mouseover', on_mouseover_closure(tooltip));\n",
       "\n",
       "        var icon_img = document.createElement('img');\n",
       "        icon_img.src = '_images/' + image + '.png';\n",
       "        icon_img.srcset = '_images/' + image + '_large.png 2x';\n",
       "        icon_img.alt = tooltip;\n",
       "        button.appendChild(icon_img);\n",
       "\n",
       "        buttonGroup.appendChild(button);\n",
       "    }\n",
       "\n",
       "    if (buttonGroup.hasChildNodes()) {\n",
       "        toolbar.appendChild(buttonGroup);\n",
       "    }\n",
       "\n",
       "    var fmt_picker = document.createElement('select');\n",
       "    fmt_picker.classList = 'mpl-widget';\n",
       "    toolbar.appendChild(fmt_picker);\n",
       "    this.format_dropdown = fmt_picker;\n",
       "\n",
       "    for (var ind in mpl.extensions) {\n",
       "        var fmt = mpl.extensions[ind];\n",
       "        var option = document.createElement('option');\n",
       "        option.selected = fmt === mpl.default_extension;\n",
       "        option.innerHTML = fmt;\n",
       "        fmt_picker.appendChild(option);\n",
       "    }\n",
       "\n",
       "    var status_bar = document.createElement('span');\n",
       "    status_bar.classList = 'mpl-message';\n",
       "    toolbar.appendChild(status_bar);\n",
       "    this.message = status_bar;\n",
       "};\n",
       "\n",
       "mpl.figure.prototype.request_resize = function (x_pixels, y_pixels) {\n",
       "    // Request matplotlib to resize the figure. Matplotlib will then trigger a resize in the client,\n",
       "    // which will in turn request a refresh of the image.\n",
       "    this.send_message('resize', { width: x_pixels, height: y_pixels });\n",
       "};\n",
       "\n",
       "mpl.figure.prototype.send_message = function (type, properties) {\n",
       "    properties['type'] = type;\n",
       "    properties['figure_id'] = this.id;\n",
       "    this.ws.send(JSON.stringify(properties));\n",
       "};\n",
       "\n",
       "mpl.figure.prototype.send_draw_message = function () {\n",
       "    if (!this.waiting) {\n",
       "        this.waiting = true;\n",
       "        this.ws.send(JSON.stringify({ type: 'draw', figure_id: this.id }));\n",
       "    }\n",
       "};\n",
       "\n",
       "mpl.figure.prototype.handle_save = function (fig, _msg) {\n",
       "    var format_dropdown = fig.format_dropdown;\n",
       "    var format = format_dropdown.options[format_dropdown.selectedIndex].value;\n",
       "    fig.ondownload(fig, format);\n",
       "};\n",
       "\n",
       "mpl.figure.prototype.handle_resize = function (fig, msg) {\n",
       "    var size = msg['size'];\n",
       "    if (size[0] !== fig.canvas.width || size[1] !== fig.canvas.height) {\n",
       "        fig._resize_canvas(size[0], size[1], msg['forward']);\n",
       "        fig.send_message('refresh', {});\n",
       "    }\n",
       "};\n",
       "\n",
       "mpl.figure.prototype.handle_rubberband = function (fig, msg) {\n",
       "    var x0 = msg['x0'] / fig.ratio;\n",
       "    var y0 = (fig.canvas.height - msg['y0']) / fig.ratio;\n",
       "    var x1 = msg['x1'] / fig.ratio;\n",
       "    var y1 = (fig.canvas.height - msg['y1']) / fig.ratio;\n",
       "    x0 = Math.floor(x0) + 0.5;\n",
       "    y0 = Math.floor(y0) + 0.5;\n",
       "    x1 = Math.floor(x1) + 0.5;\n",
       "    y1 = Math.floor(y1) + 0.5;\n",
       "    var min_x = Math.min(x0, x1);\n",
       "    var min_y = Math.min(y0, y1);\n",
       "    var width = Math.abs(x1 - x0);\n",
       "    var height = Math.abs(y1 - y0);\n",
       "\n",
       "    fig.rubberband_context.clearRect(\n",
       "        0,\n",
       "        0,\n",
       "        fig.canvas.width / fig.ratio,\n",
       "        fig.canvas.height / fig.ratio\n",
       "    );\n",
       "\n",
       "    fig.rubberband_context.strokeRect(min_x, min_y, width, height);\n",
       "};\n",
       "\n",
       "mpl.figure.prototype.handle_figure_label = function (fig, msg) {\n",
       "    // Updates the figure title.\n",
       "    fig.header.textContent = msg['label'];\n",
       "};\n",
       "\n",
       "mpl.figure.prototype.handle_cursor = function (fig, msg) {\n",
       "    fig.rubberband_canvas.style.cursor = msg['cursor'];\n",
       "};\n",
       "\n",
       "mpl.figure.prototype.handle_message = function (fig, msg) {\n",
       "    fig.message.textContent = msg['message'];\n",
       "};\n",
       "\n",
       "mpl.figure.prototype.handle_draw = function (fig, _msg) {\n",
       "    // Request the server to send over a new figure.\n",
       "    fig.send_draw_message();\n",
       "};\n",
       "\n",
       "mpl.figure.prototype.handle_image_mode = function (fig, msg) {\n",
       "    fig.image_mode = msg['mode'];\n",
       "};\n",
       "\n",
       "mpl.figure.prototype.handle_history_buttons = function (fig, msg) {\n",
       "    for (var key in msg) {\n",
       "        if (!(key in fig.buttons)) {\n",
       "            continue;\n",
       "        }\n",
       "        fig.buttons[key].disabled = !msg[key];\n",
       "        fig.buttons[key].setAttribute('aria-disabled', !msg[key]);\n",
       "    }\n",
       "};\n",
       "\n",
       "mpl.figure.prototype.handle_navigate_mode = function (fig, msg) {\n",
       "    if (msg['mode'] === 'PAN') {\n",
       "        fig.buttons['Pan'].classList.add('active');\n",
       "        fig.buttons['Zoom'].classList.remove('active');\n",
       "    } else if (msg['mode'] === 'ZOOM') {\n",
       "        fig.buttons['Pan'].classList.remove('active');\n",
       "        fig.buttons['Zoom'].classList.add('active');\n",
       "    } else {\n",
       "        fig.buttons['Pan'].classList.remove('active');\n",
       "        fig.buttons['Zoom'].classList.remove('active');\n",
       "    }\n",
       "};\n",
       "\n",
       "mpl.figure.prototype.updated_canvas_event = function () {\n",
       "    // Called whenever the canvas gets updated.\n",
       "    this.send_message('ack', {});\n",
       "};\n",
       "\n",
       "// A function to construct a web socket function for onmessage handling.\n",
       "// Called in the figure constructor.\n",
       "mpl.figure.prototype._make_on_message_function = function (fig) {\n",
       "    return function socket_on_message(evt) {\n",
       "        if (evt.data instanceof Blob) {\n",
       "            var img = evt.data;\n",
       "            if (img.type !== 'image/png') {\n",
       "                /* FIXME: We get \"Resource interpreted as Image but\n",
       "                 * transferred with MIME type text/plain:\" errors on\n",
       "                 * Chrome.  But how to set the MIME type?  It doesn't seem\n",
       "                 * to be part of the websocket stream */\n",
       "                img.type = 'image/png';\n",
       "            }\n",
       "\n",
       "            /* Free the memory for the previous frames */\n",
       "            if (fig.imageObj.src) {\n",
       "                (window.URL || window.webkitURL).revokeObjectURL(\n",
       "                    fig.imageObj.src\n",
       "                );\n",
       "            }\n",
       "\n",
       "            fig.imageObj.src = (window.URL || window.webkitURL).createObjectURL(\n",
       "                img\n",
       "            );\n",
       "            fig.updated_canvas_event();\n",
       "            fig.waiting = false;\n",
       "            return;\n",
       "        } else if (\n",
       "            typeof evt.data === 'string' &&\n",
       "            evt.data.slice(0, 21) === 'data:image/png;base64'\n",
       "        ) {\n",
       "            fig.imageObj.src = evt.data;\n",
       "            fig.updated_canvas_event();\n",
       "            fig.waiting = false;\n",
       "            return;\n",
       "        }\n",
       "\n",
       "        var msg = JSON.parse(evt.data);\n",
       "        var msg_type = msg['type'];\n",
       "\n",
       "        // Call the  \"handle_{type}\" callback, which takes\n",
       "        // the figure and JSON message as its only arguments.\n",
       "        try {\n",
       "            var callback = fig['handle_' + msg_type];\n",
       "        } catch (e) {\n",
       "            console.log(\n",
       "                \"No handler for the '\" + msg_type + \"' message type: \",\n",
       "                msg\n",
       "            );\n",
       "            return;\n",
       "        }\n",
       "\n",
       "        if (callback) {\n",
       "            try {\n",
       "                // console.log(\"Handling '\" + msg_type + \"' message: \", msg);\n",
       "                callback(fig, msg);\n",
       "            } catch (e) {\n",
       "                console.log(\n",
       "                    \"Exception inside the 'handler_\" + msg_type + \"' callback:\",\n",
       "                    e,\n",
       "                    e.stack,\n",
       "                    msg\n",
       "                );\n",
       "            }\n",
       "        }\n",
       "    };\n",
       "};\n",
       "\n",
       "// from https://stackoverflow.com/questions/1114465/getting-mouse-location-in-canvas\n",
       "mpl.findpos = function (e) {\n",
       "    //this section is from http://www.quirksmode.org/js/events_properties.html\n",
       "    var targ;\n",
       "    if (!e) {\n",
       "        e = window.event;\n",
       "    }\n",
       "    if (e.target) {\n",
       "        targ = e.target;\n",
       "    } else if (e.srcElement) {\n",
       "        targ = e.srcElement;\n",
       "    }\n",
       "    if (targ.nodeType === 3) {\n",
       "        // defeat Safari bug\n",
       "        targ = targ.parentNode;\n",
       "    }\n",
       "\n",
       "    // pageX,Y are the mouse positions relative to the document\n",
       "    var boundingRect = targ.getBoundingClientRect();\n",
       "    var x = e.pageX - (boundingRect.left + document.body.scrollLeft);\n",
       "    var y = e.pageY - (boundingRect.top + document.body.scrollTop);\n",
       "\n",
       "    return { x: x, y: y };\n",
       "};\n",
       "\n",
       "/*\n",
       " * return a copy of an object with only non-object keys\n",
       " * we need this to avoid circular references\n",
       " * https://stackoverflow.com/a/24161582/3208463\n",
       " */\n",
       "function simpleKeys(original) {\n",
       "    return Object.keys(original).reduce(function (obj, key) {\n",
       "        if (typeof original[key] !== 'object') {\n",
       "            obj[key] = original[key];\n",
       "        }\n",
       "        return obj;\n",
       "    }, {});\n",
       "}\n",
       "\n",
       "mpl.figure.prototype.mouse_event = function (event, name) {\n",
       "    var canvas_pos = mpl.findpos(event);\n",
       "\n",
       "    if (name === 'button_press') {\n",
       "        this.canvas.focus();\n",
       "        this.canvas_div.focus();\n",
       "    }\n",
       "\n",
       "    var x = canvas_pos.x * this.ratio;\n",
       "    var y = canvas_pos.y * this.ratio;\n",
       "\n",
       "    this.send_message(name, {\n",
       "        x: x,\n",
       "        y: y,\n",
       "        button: event.button,\n",
       "        step: event.step,\n",
       "        guiEvent: simpleKeys(event),\n",
       "    });\n",
       "\n",
       "    /* This prevents the web browser from automatically changing to\n",
       "     * the text insertion cursor when the button is pressed.  We want\n",
       "     * to control all of the cursor setting manually through the\n",
       "     * 'cursor' event from matplotlib */\n",
       "    event.preventDefault();\n",
       "    return false;\n",
       "};\n",
       "\n",
       "mpl.figure.prototype._key_event_extra = function (_event, _name) {\n",
       "    // Handle any extra behaviour associated with a key event\n",
       "};\n",
       "\n",
       "mpl.figure.prototype.key_event = function (event, name) {\n",
       "    // Prevent repeat events\n",
       "    if (name === 'key_press') {\n",
       "        if (event.key === this._key) {\n",
       "            return;\n",
       "        } else {\n",
       "            this._key = event.key;\n",
       "        }\n",
       "    }\n",
       "    if (name === 'key_release') {\n",
       "        this._key = null;\n",
       "    }\n",
       "\n",
       "    var value = '';\n",
       "    if (event.ctrlKey && event.key !== 'Control') {\n",
       "        value += 'ctrl+';\n",
       "    }\n",
       "    else if (event.altKey && event.key !== 'Alt') {\n",
       "        value += 'alt+';\n",
       "    }\n",
       "    else if (event.shiftKey && event.key !== 'Shift') {\n",
       "        value += 'shift+';\n",
       "    }\n",
       "\n",
       "    value += 'k' + event.key;\n",
       "\n",
       "    this._key_event_extra(event, name);\n",
       "\n",
       "    this.send_message(name, { key: value, guiEvent: simpleKeys(event) });\n",
       "    return false;\n",
       "};\n",
       "\n",
       "mpl.figure.prototype.toolbar_button_onclick = function (name) {\n",
       "    if (name === 'download') {\n",
       "        this.handle_save(this, null);\n",
       "    } else {\n",
       "        this.send_message('toolbar_button', { name: name });\n",
       "    }\n",
       "};\n",
       "\n",
       "mpl.figure.prototype.toolbar_button_onmouseover = function (tooltip) {\n",
       "    this.message.textContent = tooltip;\n",
       "};\n",
       "\n",
       "///////////////// REMAINING CONTENT GENERATED BY embed_js.py /////////////////\n",
       "// prettier-ignore\n",
       "var _JSXTOOLS_RESIZE_OBSERVER=function(A){var t,i=new WeakMap,n=new WeakMap,a=new WeakMap,r=new WeakMap,o=new Set;function s(e){if(!(this instanceof s))throw new TypeError(\"Constructor requires 'new' operator\");i.set(this,e)}function h(){throw new TypeError(\"Function is not a constructor\")}function c(e,t,i,n){e=0 in arguments?Number(arguments[0]):0,t=1 in arguments?Number(arguments[1]):0,i=2 in arguments?Number(arguments[2]):0,n=3 in arguments?Number(arguments[3]):0,this.right=(this.x=this.left=e)+(this.width=i),this.bottom=(this.y=this.top=t)+(this.height=n),Object.freeze(this)}function d(){t=requestAnimationFrame(d);var s=new WeakMap,p=new Set;o.forEach((function(t){r.get(t).forEach((function(i){var r=t instanceof window.SVGElement,o=a.get(t),d=r?0:parseFloat(o.paddingTop),f=r?0:parseFloat(o.paddingRight),l=r?0:parseFloat(o.paddingBottom),u=r?0:parseFloat(o.paddingLeft),g=r?0:parseFloat(o.borderTopWidth),m=r?0:parseFloat(o.borderRightWidth),w=r?0:parseFloat(o.borderBottomWidth),b=u+f,F=d+l,v=(r?0:parseFloat(o.borderLeftWidth))+m,W=g+w,y=r?0:t.offsetHeight-W-t.clientHeight,E=r?0:t.offsetWidth-v-t.clientWidth,R=b+v,z=F+W,M=r?t.width:parseFloat(o.width)-R-E,O=r?t.height:parseFloat(o.height)-z-y;if(n.has(t)){var k=n.get(t);if(k[0]===M&&k[1]===O)return}n.set(t,[M,O]);var S=Object.create(h.prototype);S.target=t,S.contentRect=new c(u,d,M,O),s.has(i)||(s.set(i,[]),p.add(i)),s.get(i).push(S)}))})),p.forEach((function(e){i.get(e).call(e,s.get(e),e)}))}return s.prototype.observe=function(i){if(i instanceof window.Element){r.has(i)||(r.set(i,new Set),o.add(i),a.set(i,window.getComputedStyle(i)));var n=r.get(i);n.has(this)||n.add(this),cancelAnimationFrame(t),t=requestAnimationFrame(d)}},s.prototype.unobserve=function(i){if(i instanceof window.Element&&r.has(i)){var n=r.get(i);n.has(this)&&(n.delete(this),n.size||(r.delete(i),o.delete(i))),n.size||r.delete(i),o.size||cancelAnimationFrame(t)}},A.DOMRectReadOnly=c,A.ResizeObserver=s,A.ResizeObserverEntry=h,A}; // eslint-disable-line\n",
       "mpl.toolbar_items = [[\"Home\", \"Reset original view\", \"fa fa-home icon-home\", \"home\"], [\"Back\", \"Back to previous view\", \"fa fa-arrow-left icon-arrow-left\", \"back\"], [\"Forward\", \"Forward to next view\", \"fa fa-arrow-right icon-arrow-right\", \"forward\"], [\"\", \"\", \"\", \"\"], [\"Pan\", \"Left button pans, Right button zooms\\nx/y fixes axis, CTRL fixes aspect\", \"fa fa-arrows icon-move\", \"pan\"], [\"Zoom\", \"Zoom to rectangle\\nx/y fixes axis\", \"fa fa-square-o icon-check-empty\", \"zoom\"], [\"\", \"\", \"\", \"\"], [\"Download\", \"Download plot\", \"fa fa-floppy-o icon-save\", \"download\"]];\n",
       "\n",
       "mpl.extensions = [\"eps\", \"jpeg\", \"pgf\", \"pdf\", \"png\", \"ps\", \"raw\", \"svg\", \"tif\"];\n",
       "\n",
       "mpl.default_extension = \"png\";/* global mpl */\n",
       "\n",
       "var comm_websocket_adapter = function (comm) {\n",
       "    // Create a \"websocket\"-like object which calls the given IPython comm\n",
       "    // object with the appropriate methods. Currently this is a non binary\n",
       "    // socket, so there is still some room for performance tuning.\n",
       "    var ws = {};\n",
       "\n",
       "    ws.binaryType = comm.kernel.ws.binaryType;\n",
       "    ws.readyState = comm.kernel.ws.readyState;\n",
       "    function updateReadyState(_event) {\n",
       "        if (comm.kernel.ws) {\n",
       "            ws.readyState = comm.kernel.ws.readyState;\n",
       "        } else {\n",
       "            ws.readyState = 3; // Closed state.\n",
       "        }\n",
       "    }\n",
       "    comm.kernel.ws.addEventListener('open', updateReadyState);\n",
       "    comm.kernel.ws.addEventListener('close', updateReadyState);\n",
       "    comm.kernel.ws.addEventListener('error', updateReadyState);\n",
       "\n",
       "    ws.close = function () {\n",
       "        comm.close();\n",
       "    };\n",
       "    ws.send = function (m) {\n",
       "        //console.log('sending', m);\n",
       "        comm.send(m);\n",
       "    };\n",
       "    // Register the callback with on_msg.\n",
       "    comm.on_msg(function (msg) {\n",
       "        //console.log('receiving', msg['content']['data'], msg);\n",
       "        var data = msg['content']['data'];\n",
       "        if (data['blob'] !== undefined) {\n",
       "            data = {\n",
       "                data: new Blob(msg['buffers'], { type: data['blob'] }),\n",
       "            };\n",
       "        }\n",
       "        // Pass the mpl event to the overridden (by mpl) onmessage function.\n",
       "        ws.onmessage(data);\n",
       "    });\n",
       "    return ws;\n",
       "};\n",
       "\n",
       "mpl.mpl_figure_comm = function (comm, msg) {\n",
       "    // This is the function which gets called when the mpl process\n",
       "    // starts-up an IPython Comm through the \"matplotlib\" channel.\n",
       "\n",
       "    var id = msg.content.data.id;\n",
       "    // Get hold of the div created by the display call when the Comm\n",
       "    // socket was opened in Python.\n",
       "    var element = document.getElementById(id);\n",
       "    var ws_proxy = comm_websocket_adapter(comm);\n",
       "\n",
       "    function ondownload(figure, _format) {\n",
       "        window.open(figure.canvas.toDataURL());\n",
       "    }\n",
       "\n",
       "    var fig = new mpl.figure(id, ws_proxy, ondownload, element);\n",
       "\n",
       "    // Call onopen now - mpl needs it, as it is assuming we've passed it a real\n",
       "    // web socket which is closed, not our websocket->open comm proxy.\n",
       "    ws_proxy.onopen();\n",
       "\n",
       "    fig.parent_element = element;\n",
       "    fig.cell_info = mpl.find_output_cell(\"<div id='\" + id + \"'></div>\");\n",
       "    if (!fig.cell_info) {\n",
       "        console.error('Failed to find cell for figure', id, fig);\n",
       "        return;\n",
       "    }\n",
       "    fig.cell_info[0].output_area.element.on(\n",
       "        'cleared',\n",
       "        { fig: fig },\n",
       "        fig._remove_fig_handler\n",
       "    );\n",
       "};\n",
       "\n",
       "mpl.figure.prototype.handle_close = function (fig, msg) {\n",
       "    var width = fig.canvas.width / fig.ratio;\n",
       "    fig.cell_info[0].output_area.element.off(\n",
       "        'cleared',\n",
       "        fig._remove_fig_handler\n",
       "    );\n",
       "    fig.resizeObserverInstance.unobserve(fig.canvas_div);\n",
       "\n",
       "    // Update the output cell to use the data from the current canvas.\n",
       "    fig.push_to_output();\n",
       "    var dataURL = fig.canvas.toDataURL();\n",
       "    // Re-enable the keyboard manager in IPython - without this line, in FF,\n",
       "    // the notebook keyboard shortcuts fail.\n",
       "    IPython.keyboard_manager.enable();\n",
       "    fig.parent_element.innerHTML =\n",
       "        '<img src=\"' + dataURL + '\" width=\"' + width + '\">';\n",
       "    fig.close_ws(fig, msg);\n",
       "};\n",
       "\n",
       "mpl.figure.prototype.close_ws = function (fig, msg) {\n",
       "    fig.send_message('closing', msg);\n",
       "    // fig.ws.close()\n",
       "};\n",
       "\n",
       "mpl.figure.prototype.push_to_output = function (_remove_interactive) {\n",
       "    // Turn the data on the canvas into data in the output cell.\n",
       "    var width = this.canvas.width / this.ratio;\n",
       "    var dataURL = this.canvas.toDataURL();\n",
       "    this.cell_info[1]['text/html'] =\n",
       "        '<img src=\"' + dataURL + '\" width=\"' + width + '\">';\n",
       "};\n",
       "\n",
       "mpl.figure.prototype.updated_canvas_event = function () {\n",
       "    // Tell IPython that the notebook contents must change.\n",
       "    IPython.notebook.set_dirty(true);\n",
       "    this.send_message('ack', {});\n",
       "    var fig = this;\n",
       "    // Wait a second, then push the new image to the DOM so\n",
       "    // that it is saved nicely (might be nice to debounce this).\n",
       "    setTimeout(function () {\n",
       "        fig.push_to_output();\n",
       "    }, 1000);\n",
       "};\n",
       "\n",
       "mpl.figure.prototype._init_toolbar = function () {\n",
       "    var fig = this;\n",
       "\n",
       "    var toolbar = document.createElement('div');\n",
       "    toolbar.classList = 'btn-toolbar';\n",
       "    this.root.appendChild(toolbar);\n",
       "\n",
       "    function on_click_closure(name) {\n",
       "        return function (_event) {\n",
       "            return fig.toolbar_button_onclick(name);\n",
       "        };\n",
       "    }\n",
       "\n",
       "    function on_mouseover_closure(tooltip) {\n",
       "        return function (event) {\n",
       "            if (!event.currentTarget.disabled) {\n",
       "                return fig.toolbar_button_onmouseover(tooltip);\n",
       "            }\n",
       "        };\n",
       "    }\n",
       "\n",
       "    fig.buttons = {};\n",
       "    var buttonGroup = document.createElement('div');\n",
       "    buttonGroup.classList = 'btn-group';\n",
       "    var button;\n",
       "    for (var toolbar_ind in mpl.toolbar_items) {\n",
       "        var name = mpl.toolbar_items[toolbar_ind][0];\n",
       "        var tooltip = mpl.toolbar_items[toolbar_ind][1];\n",
       "        var image = mpl.toolbar_items[toolbar_ind][2];\n",
       "        var method_name = mpl.toolbar_items[toolbar_ind][3];\n",
       "\n",
       "        if (!name) {\n",
       "            /* Instead of a spacer, we start a new button group. */\n",
       "            if (buttonGroup.hasChildNodes()) {\n",
       "                toolbar.appendChild(buttonGroup);\n",
       "            }\n",
       "            buttonGroup = document.createElement('div');\n",
       "            buttonGroup.classList = 'btn-group';\n",
       "            continue;\n",
       "        }\n",
       "\n",
       "        button = fig.buttons[name] = document.createElement('button');\n",
       "        button.classList = 'btn btn-default';\n",
       "        button.href = '#';\n",
       "        button.title = name;\n",
       "        button.innerHTML = '<i class=\"fa ' + image + ' fa-lg\"></i>';\n",
       "        button.addEventListener('click', on_click_closure(method_name));\n",
       "        button.addEventListener('mouseover', on_mouseover_closure(tooltip));\n",
       "        buttonGroup.appendChild(button);\n",
       "    }\n",
       "\n",
       "    if (buttonGroup.hasChildNodes()) {\n",
       "        toolbar.appendChild(buttonGroup);\n",
       "    }\n",
       "\n",
       "    // Add the status bar.\n",
       "    var status_bar = document.createElement('span');\n",
       "    status_bar.classList = 'mpl-message pull-right';\n",
       "    toolbar.appendChild(status_bar);\n",
       "    this.message = status_bar;\n",
       "\n",
       "    // Add the close button to the window.\n",
       "    var buttongrp = document.createElement('div');\n",
       "    buttongrp.classList = 'btn-group inline pull-right';\n",
       "    button = document.createElement('button');\n",
       "    button.classList = 'btn btn-mini btn-primary';\n",
       "    button.href = '#';\n",
       "    button.title = 'Stop Interaction';\n",
       "    button.innerHTML = '<i class=\"fa fa-power-off icon-remove icon-large\"></i>';\n",
       "    button.addEventListener('click', function (_evt) {\n",
       "        fig.handle_close(fig, {});\n",
       "    });\n",
       "    button.addEventListener(\n",
       "        'mouseover',\n",
       "        on_mouseover_closure('Stop Interaction')\n",
       "    );\n",
       "    buttongrp.appendChild(button);\n",
       "    var titlebar = this.root.querySelector('.ui-dialog-titlebar');\n",
       "    titlebar.insertBefore(buttongrp, titlebar.firstChild);\n",
       "};\n",
       "\n",
       "mpl.figure.prototype._remove_fig_handler = function (event) {\n",
       "    var fig = event.data.fig;\n",
       "    if (event.target !== this) {\n",
       "        // Ignore bubbled events from children.\n",
       "        return;\n",
       "    }\n",
       "    fig.close_ws(fig, {});\n",
       "};\n",
       "\n",
       "mpl.figure.prototype._root_extra_style = function (el) {\n",
       "    el.style.boxSizing = 'content-box'; // override notebook setting of border-box.\n",
       "};\n",
       "\n",
       "mpl.figure.prototype._canvas_extra_style = function (el) {\n",
       "    // this is important to make the div 'focusable\n",
       "    el.setAttribute('tabindex', 0);\n",
       "    // reach out to IPython and tell the keyboard manager to turn it's self\n",
       "    // off when our div gets focus\n",
       "\n",
       "    // location in version 3\n",
       "    if (IPython.notebook.keyboard_manager) {\n",
       "        IPython.notebook.keyboard_manager.register_events(el);\n",
       "    } else {\n",
       "        // location in version 2\n",
       "        IPython.keyboard_manager.register_events(el);\n",
       "    }\n",
       "};\n",
       "\n",
       "mpl.figure.prototype._key_event_extra = function (event, _name) {\n",
       "    // Check for shift+enter\n",
       "    if (event.shiftKey && event.which === 13) {\n",
       "        this.canvas_div.blur();\n",
       "        // select the cell after this one\n",
       "        var index = IPython.notebook.find_cell_index(this.cell_info[0]);\n",
       "        IPython.notebook.select(index + 1);\n",
       "    }\n",
       "};\n",
       "\n",
       "mpl.figure.prototype.handle_save = function (fig, _msg) {\n",
       "    fig.ondownload(fig, null);\n",
       "};\n",
       "\n",
       "mpl.find_output_cell = function (html_output) {\n",
       "    // Return the cell and output element which can be found *uniquely* in the notebook.\n",
       "    // Note - this is a bit hacky, but it is done because the \"notebook_saving.Notebook\"\n",
       "    // IPython event is triggered only after the cells have been serialised, which for\n",
       "    // our purposes (turning an active figure into a static one), is too late.\n",
       "    var cells = IPython.notebook.get_cells();\n",
       "    var ncells = cells.length;\n",
       "    for (var i = 0; i < ncells; i++) {\n",
       "        var cell = cells[i];\n",
       "        if (cell.cell_type === 'code') {\n",
       "            for (var j = 0; j < cell.output_area.outputs.length; j++) {\n",
       "                var data = cell.output_area.outputs[j];\n",
       "                if (data.data) {\n",
       "                    // IPython >= 3 moved mimebundle to data attribute of output\n",
       "                    data = data.data;\n",
       "                }\n",
       "                if (data['text/html'] === html_output) {\n",
       "                    return [cell, data, j];\n",
       "                }\n",
       "            }\n",
       "        }\n",
       "    }\n",
       "};\n",
       "\n",
       "// Register the function which deals with the matplotlib target/channel.\n",
       "// The kernel may be null if the page has been refreshed.\n",
       "if (IPython.notebook.kernel !== null) {\n",
       "    IPython.notebook.kernel.comm_manager.register_target(\n",
       "        'matplotlib',\n",
       "        mpl.mpl_figure_comm\n",
       "    );\n",
       "}\n"
      ],
      "text/plain": [
       "<IPython.core.display.Javascript object>"
      ]
     },
     "metadata": {},
     "output_type": "display_data"
    },
    {
     "data": {
      "text/html": [
       "<img src=\"data:image/png;base64,iVBORw0KGgoAAAANSUhEUgAAAp4AAAH0CAYAAACU8S0yAAAgAElEQVR4nOzdd3Rj1bk28PvX/e663/puIIQSZighDIQOoYQhECB0CJDQEgglhNAhJCG5IRCY3nufYfowvTfbsmW527Ll3nu3ZLmqS0fSkZ/vj2MdS+MmW8dnxvD81torZLCPZM8kfmbv/b7vf4CIiIiISAX/cbbfABERERF9NzB4EhEREZEqGDyJiIiISBUMnkRERESkCgZPIiIiIlIFgycRERERqYLBk4iIiIhUweBJRERERKpg8CQiIiIiVTB4EhEREZEqGDyJiIiISBUMnkRERESkCgZPIiIiIlIFgycRERERqYLBk4iIiIhUweBJRERERKpg8CQiIiIiVTB4EhEREZEqGDyJiIiISBUMnkRERESkCgZPIiIiIlIFgycRERERqYLBk4iIiIhUweBJRERERKpg8CQiIiIiVTB4EhEREZEqGDyJiIiISBUMnkRERESkCgZPIiIiIlIFgycRERERqYLBk4iIiIhUweBJRERERKpg8CQiIiIiVTB4EhEREZEqGDyJiIiISBUMnkRERESkCgZPIiIiIlIFgycRERERqYLBk4iIiIhUweBJRERERKpg8CQiIiIiVTB4EhEREZEqGDyJiIiISBUMnkRERESkCgZPIiIiIlIFgycRERERqYLBk4iIiIhUweBJRERERKpg8CQiIiIiVTB4EhEREZEqGDyJiIiISBUMnkRERESkCgZPIiIiIlIFgycRERERqYLBk4iIiIhUweBJRERERKpg8CQiIiIiVTB4EhEREZEqGDyJiIiISBUMnkRERESkCgZPIiIiIlIFgycRERERqYLBk4iIiIhUweBJRERERKpg8CQiIiIiVTB4EhEREZEqGDyJiIiISBUMnkRERESkCgZPIiIiIlIFgycRERERqYLBk4iIiIhUweBJRERERKpg8CQiIiIiVTB4EhEREZEqGDyJiIiISBUMnkRERESkCgZPIiIiIlIFgycRERERqYLBk4iIiIhUweBJRERERKpg8CQiIiIiVTB4EhEREZEqGDyJiIiISBUMnkRERESkCgZPIiIiIlIFgycRERERqYLBk4iIiIhUweBJRERERKpg8CQiIiIiVTB4EhEREZEqGDyJiIiISBUMnkRERESkCgZPIiIiIlIFgycRERERqYLBk4iIiIhUweBJRERERKpg8CQiIiIiVTB4EhEREZEqGDyJiIiISBUMnkRERESkCgZPIiIiIlIFgycRERERqYLBk4iIiIhUweBJRERERKpg8CQiIiIiVTB4EhEREZEqGDyJiIiISBUMnkRERESkCgZPIiIiIlIFgycRERERqYLBk4iIiIhUweBJRERERKpg8CQiIiIiVTB4EhEREZEqGDyJiIiISBUMnkRERESkCgZPIiIiIlIFgycRERERqYLBk4iIiIhUweBJRERERKpg8CQimmT6+voQCATg9/vR19d3tt8OEVHEGDyJiM5RfX19EEURPp8PgiDA7XbD4XDAarXCYrGgu7sbTqcTgiDA5/NBFEUGUSI6pzF4EhGdRaG7l16vFx6PBw6HAzabDRaLBb29vWH/abFYYLVaYbPZ0N3dDZfLBY/HA7fbLa8zgyjDKBGdKxg8iYhUcObupcvlgt1ul3cv8/Ly0N7eLgfMYLi02Wyw2+1DrmDwFARBXh6PZ1AQ9Xg8DKJEdE5g8CQiUsiZu5ehR+O9vb2Ddi9Dw2Vqaira29uHDZmRBs8z12hBNBAIMIgSkWoYPImIxmi43ctgqBwuYI4UIicqeEYSRFtaWiAIAoMoEU04Bk8ioiFEsns51L3L0QLm2Q6eQwXR+Ph4OJ3OsB1Rr9cLv9/PIEpEimLwJKLvtNDdS4/HA6fTGbZ7mZmZiZ6enjHtXo5npaSknJXgKQgCNBqNXJQ03NE8gygRKYHBk4i+9ULD5Ui7l0PdvYyLi5uQoDlU8DSbzWc9eEZ6RzRYOc8gSkRjweBJRN8KoUfjobuXoW2JhguYI4U7jUZzzgbPrq4uxYJnMEyO544ogygRRYrBk4gmlZGaqo+2ezmeQKjRaGC1Wr/VwTMuLi7i4DlcEO3o6EBGRgaDKBGNiMGTiM45QzVVD929rKysRGNj45DFPUoHwu9K8Iz2GZ2dncjMzJTDaOiO6FBN7Ynou4nBk4jOmtGaqgfXmbuXBQUFqK6unvAwyOAZ+ero6JCD51C7ogyiRAQweBLRBBuuLVFw93KocDna7mVhYeF3MngGx2Q2NzejsrISubm5qK2thcViOSeCZ1ZW1piO5xlEib57GDyJSBHjbao+nuPxoqKib3XwtFqtMJvNaGhoQGlpKXJycpCUlITY2FgkJiYiKysLRUVFKCsrQ0FBAZKSkpCQkIDc3FzU19fDarWqHjzNZnPEwXOkIGq1WlFZWckgSvQtxeBJRBEbqal6RUWFPGtcqcKekYJnVVXVpA+evb29aGtrQ01NDeLi4pCWlgatVou4uDgkJyfDYDCgrKwMDQ0N6OjoGPR9DD1qdzgcaGlpQWFhIXQ6HRISEpCXl4eGhoZRg6hSwVOv10f9nN7eXqSmpnLePNG3FIMnEQ1yZlP1oXYvzwyYGRkZaGtrUyUMqhk84+PjowqeNpsNXV1daG5uRkVFBfLy8pCamgqNRoP4+Hikp6cjPz8f8fHxqK2tRXd3d8TPHumOp91uR3NzMwoLC5GYmAitVou8vDw0NjbCZrMpHjzb29sVCZ49PT1ITU0d9Wie8+aJJicGT6LvqEhHQka6e5mZmala8CwuLkZlZaVqwdNisYz6cVarFe3t7aivr0dJSQmys7PDjsf1ej2Ki4tRV1cHk8k06JkTXVxkt9vR1NSEgoICOYjm5+ejsbERsbGxigTP7OzsqJ/T3d2NtLS0ET9mpOlKDKJE5zYGT6JvseGaqtvtI+9ejudoPDMzE62trd/64Bk8Hq+urkZhYSEyMjKQkJCAuLg4pKSkIDc3F+Xl5WhsbERnZ2fE30u1q9ptNhsaGxuRn5+PEydOIDExEQUFBWhqaoLdbh/z80wmk2LBMz09fUyfM1wQdblcHPNJdI5h8CT6FhhqJGRnZydMJtOENFUfamVlZaGlpeVbETxtNhs6OzvR1NSEmJgYGAwGpKamIi4uDgkJCcjIyJBbOrW2tqKnpyfq1zzb7ZRCg6hWq0ViYiIKCwvR3NwcURA1mUzIycmJ+r10dXWNOXgOF0QzMjJgNps5b57oHMLgSTRJjNZU/cyAWVFRgcLCQlXGPaodPEtKSlBRURH1c6xWK0wmE+rq6lBSUgK9Xg+dTofY2FjodDro9XqcPn0aNTU1aG9vn9Dq9rMdPM/8NavVioaGBuTl5SEhIQE6nQ6FhYVoaWmBw+EY9PFGo1Gx4JmRkRH1cwRBQEZGBjo7O0cc88kgSqQuBk+ic8xQbYmCdy/PDJgj7V4Gj4LVCIJ2ux16vV7eHTvXgmdPTw9aW1tRVVWFgoICZGRkID4+HnFxcUhNTUVubi4qKirQ1NSErq6usO9lQkJCRHc8v23B88xlsVhQX1+P3NxcJCQkICkpCUVFRXIQNRqNMBgMUb+X0AlISgTPrq6uYXdEOW+eSH0MnkRnwVC7l9E2VT9zVVdXo6CgQLXgmZ2dLd8PPBvB02azoaOjA42NjSgvL4fBYEBKSop8PJ6ZmSk3nm9ra0Nvb29Er8XgOXIQNRgMiI+PR0JCArRaLVpbW+F0Osf9XkaagDTWlZ6eju7u7lE/jkGUSD0MnkQTaLSm6sONhFTieLympuZbGTwtFgvy8vKQnZ2N4uJiZGVlITExEbGxsUhKSkJ2djZKS0tRX18Ps9kc9fF4QkJCxCH1uxQ8z1z19fVISUmRg2hycjKKi4vHHETHMgFptJWWlhZR8BwujIYG0ZqamkG9RIlo7Bg8iaIUSVsii8WCrKwsuZn3RDRVP3PV1tYiPz9fteCZk5ODxsZGxZ7X3d2NlpYWVFVVIT8/H+np6YiPj5f7X6akpKCiogLNzc2DjseVXAyeka3W1lbk5ubKoa23txe1tbXIycmBRqNBSkoKSkpK0NbWNuJ7VqoRvSAISE1NRU9PjyLP0mg0cLlcHPNJFCUGT6IIjaepemgYUvMo2m63o66uDnl5eaq93niCZ/B4vKGhAWVlZcjJyUFycjLi4uKg1WqRmZmJoqIi1NTUwGg0ygGwrKwM5eXlqnxdagXP5OTkSR888/Lyht097OnpQW1tLbKzs+UgWlpaCqPRGPY1KNWIXhAEpKSkoLe3V7HgGTx+D35NnDdPNHYMnkQhlG6qHm0wi2YFC0HUej2DwYCGhoYh/53FYoHRaERNTQ2KioqQlZUVNhoyJydHHg1pNptH/X6WlZWhrKxMla9LzeDZ0dExps85l4JnS0vLsMFzqCDa3d2NmpoaOYimpqaitLQU1dXVigXP5ORkWCwWxYLnaF8TgyjR6Bg86TsnGC5Ddy8nqql66MrNzR02mE3EamhogMFgUO31DAYDqqur0dzcjMrKSuTl5SEtLQ0ajQYajUYeDVlZWYmWlhZ0d3eP+3taXl6uWvDUarUMnhEGz/z8/HF9bjCIVldXIzU1FSdPnkRaWhrKyspgMpnkEDee4DnanHqlgmckQZTz5okYPOlbbKim6sHdy/r6etTX1094U/XQlZeXh/r6etWCYENDA3JychR/rtVqhdlsRn19PUpLS5GTk4OkpCScPHkSGo0GWVlZKC4uRm1tLYxG44RUhJeXl6O0tFSV7yOD58QHz9BlNBqRnZ2Nrq4uefczLi4OaWlpKC8vR3t7e8RBNCkpadBcerWC50hBtKysDGazmfPm6TuJwZMmtbE2VQ8GTDWPaoMrPz8fdXV1qr1eY2NjVMEzOBqypqYGhYWFyMzMlI/Hg9XLZWVlaGxsREdHB3Jzc1X7+hg8pXUuBc/m5mYUFBQoEjzP7Afq8XjQ2dmJqqoqZGVlIS4uDunp6aMGUZ1OB7t97OM/JyJ4hq7s7GyYTCbOm6fvJAZPmpSWLVuGtra2MTdVD66KigqUlJSoElyCq6CgADU1Naq9XlNTE7Kzs0f8GJvNhq6uLjQ1NaGiogJ5eXlITU2VK8fT09NRUFCAqqqqUUdD5uXlqRY81fz902q1iozEHG1N9uDZ1NSkSPBsa2uTq+OHW8EgWllZiczMTMTFxSEjIwMVFRXyiExBEJCYmAi7/dwLnnq9HmazedDXxCBK3wUMnjQp3X333SgpKRn33cvKykoUFxerElyCK9i8XK3Xa25uhl6vh90uHY+3t7ejvr4eJSUlyM7ORlJSUthoyOLiYtTV1cFkMo2r92V+fj5qa2tV+dq+68HTYrHAZDKhqqpq3H0qJyJ4FhYWRv2c0LZMkS6Px4OOjo6wIJqZmYnY2FgYjcawavRzIXhmZWWho6Nj1K9puCDKMZ80mTF40qR03333oaioaNw/5KuqqqL6/PGsoqIiVFVVTehr9Pb2orW1Vb4bFxsbi4SEBPl4PDc3F+Xl5WhqakJnZ6ei91nV3NH9rgTP0G4AhYWF8qjPYBW4Xq9HUlISEhISkJeXJ3dNmOzBM9Lq+OGW2+2G2WxGTEwM0tPT5SBaWVmJjo6OcQVRJYNnZmYmOjs7x/Q5nDdP3xYMnjQpPfTQQ1G1ClJ7nKTdbkdxcTEqKyujfo7NZkNnZyeamppQXl6O3NzcsNGQGRkZKCwsRFFRkdzHUI2vT83gqeaOtRrBs7e3F1qtFqWlpSgoKEB6enpYN4DQ6w6hv5/Bo3a73S4fdWu1Wuh0OhQVFUU8NUiJ4NnY2IiioqKon6NUkZIgCEhISJCbvpvNZpSXl8tBNCsrC1VVVejs7Bw1iHo8HkWD53Az5McTRF0uFxITEznmkyYNBk+alB5//HFkZWWN+we92lN97Pah54uPtKxWK0wmE+rq6lBcXAy9Xg+dThc2GrKkpAT19fVob28fdDze2tqKzMxM1b4+Na8SqBk8ExMTFQuePT09aG1tlacxBdtNxcfH4/Tp03JLqra2toi6AXR3dw95xzPYucFgMMi7o2VlZcMW4igRPBsaGs654BkfHz/k1+t2u9He3i4HUY1GA71ej6qqKnR1dQ0KokoHz0hnyEey3G633Nye8+ZpMmDwpEnpmWeeQUpKyrgDgNpTfex2O0pLS4ecthMaRoK7XaHHqXl5eaioqEBTU9OYRkO2tbUhIyNDta+PwXNgdXd3h/UzTU1NlXekz5zGFAyY4ykuGi54nhmagj0ys7KyoNFo5GPnrq4uObgoETyLi4ujfo5S1fGCIB2PR9J6ye12w2QyoaysTP7LgF6vR3V1tbyrHB8fr1jwVHKUp8vlQkJCwrC/96FBlE3t6VzA4EmT0vPPPw+tVjvuMKH2VB+bzYbCwkJ5Qo/BYJCPx4OjIQsLC1FTU4O2tjZFjseNRiPS09NV+xrVuMMaXGre0U1MTER3d/eQv6fBjgChVx5iY2Oh1WrlfqaRFmxNVPAcKmQFj52DIevkyZOora2NarykUsFTqbuigiDt5I7nPqfL5YLJZEJpaanc5eHUqVOoqalBd3d31MVKSo7ydDqd0Gq1EX0sgyidCxg8aVJ6+eWXERsbO+4wEW2Py+FWsBiktrYWxcXFyMrKQmJiImJjY6HRaKDT6VBaWiqPhhxP9Xiky2QyIS0tTZVwZrd/e4OnVquF0WhEY2Nj2Dz52NhYJCYmQq/Xj3jlIdKlVvA8czkcDsTExKC4uDiqQqVgx4RzLXgq8RybzQaNRhMWRLOzs1FTU4Oenp4xB1ElJyrZ7dJfjsbzucON+Qy2cGIQpYnA4EmT0uuvv44TJ06MO0xE0uNytB/4LS0tqKysRH5+flgxSFpamjwasrm5WR4NqXbv0Pb2dqSmpqr2ekoVT0WyJiJ42mw2dHR0oKGhAaWlpXLLqRMnTiAxMRHZ2dnyXxo6OjoUn3B1toLnmUftDodDPu4eS6FSXV2dIsFTqSIlJYOnw+EIC3dOpxNtbW0oKSlBSkoKNBoNcnJyUFtbG1EQVXKiks1mQ1JSkiLPCgbRuLg47ojShGHwpEnpT3/6Ew4dOjTuH/KhPS5HCiJmsxkNDQ1hO11xcXFITExEVlYWioqKIh4NqXbv0Pb29qjuwY51jbV4KppVXV2NwsLCcX1u6MjPkpKSQUVbwesQjY2N6OzshFarHfKo3W6zwdFWBYdRmXutZzN4jnR/cahCpdLS0kGFSnV1dSgtLY06/Ch1ZK9k8LTb7dDpdMP++2AQLS4uRnJyMuLj42EwGFBXVzfkkbqSE5WsViuSk5MVedaZ37fhCpb8fv/Z/hFAkxiDJ01KH3zwAfbt2zfuH/KhFd+hvRKLioqQlZUlj4ZMTk6Wg0i0O11q9w41m83f6eAZbJof7AoQeu0hOTkZBoNB7mk6UtHWUHc8HeYG+Pa/AXHV7RBX3wHvoXdh72yJ6ms6V4Nn6DqzUCk4MaiyshKlpaWK7Hiei8FzrLuKTqcTra2tg4JofX09LBYLEhMT4XA4FHlvvb29SElJmZDgOdTvP4MnRYvBkyalTz75BDt37oz4B3SwECRYaZyVlYWYmJiw0ZD5+fmoqqpCS0vL0DtcKoQlJVdHRweSk5NVe73hqvYnYgUbqtvtA1N8amtrUVRUhMzMzEFN8ysqKsKuPYzltXQ63aA/D96jH0Fc9VP4tzwB/+bHIa66DULM52P7Oiw9cJhqYbdIFfNnK3iOVBU92gotVNJqtTh9+jSys7OjKlRS6q6oksEz2l1Fh8OBlpYWFBUVydc3cnJyUF9fH/Vdz56eHqSlpakSPINLFMWz/SOAJjEGT5qU/vGPf2DLli2DfhCHHqOG3tMLHo8HR0OWlpYiOTk5ol6JSoYlNZvWd3Z2IikpSbXXKysrm9DgGbozHWw5FWw7FXqvtqWlRdGG74OCZ08HxNV3wr/hFxBX3wFxzV3SP6/7OZwNeXDn7IKrIgF26/B/tlylsfBvfwbi+p/Dv/1puEpjlAueHjd8ZacgHv8zxGMfwldyFIJ7+LuZ0QTP0FVTU4OSkhIYjUZ5py+0UCnSO41KHdkrGTwtFouiu4oajUYuotLpdPL3qaGhYcxBtLu7G+np6Yq9t0h6ljJ4UjQYPGlS+vTTT/HFF19g0aJFyM/PH3KXq7y8HI2NjUMej5tMJlULb+x29ZvWd3V1yXfJ1FhlZWUoKyuL+jm9vb1oa2uTp0sNNcXHYDBAr9dH1nbKZoVbvw3+7c/Av/0ZuPVbRwyFZy6dToeurq6BX7P2QlxxCwJzf4i+eZci0L/EpddBXH4TxBU3I7D8Rvj2/B72nsFB0tFWAf/GB+Db8jh837wE35bH4d/4APSx+xUJnr7iIxB3PAvxwB8gHngT4o5n4cv7ZtgQ4XQ6FQue5eXlYb82VKFSYWHhiIVK52Lw7O3tRWpqqqLBM7QAyW6X7p0Hg6hWq404sHd1dSEjI0Ox9xbJ1QsGT4oGgydNiG3btuE//uM/cOzYMQBAR0cHHnvsMVx99dW44YYbkJqaOuZnzpgxAw899BAuv/xyXHDBBfjpT3+KN954Q/5BNpZdLrXvP9rt6jet7+7uRmJiomqvV15ejtLS0og/fqQpPsGxn8NN8RlLiPekroK4/Cb419wF/5q7IC6/CZ6UlRG/z0HBs7cL4srbEJhzMQLzpiIwdwr6Zn4ffbO+D3H5DRA33Adxwy8QWHYD3Dk7Bj3PbdgNcf298O3+rbzE9feibP+s6IOnxwPx0J8gHnwL4sm/SuvwOxD3vTbsrudEBs8zV2ihUnx8PFJSUlBaWgqTySQXKtXW1qKsrOycCp5KH2eP1l/Ubh8YgZqYmAitVov8/Pwhg2hHRweysrIUe2+R9AVl8KRoMHiS4hobGzF9+nTcfffdcvB88803MWPGDACAwWDAlClT4PP5xvTctLQ0+QfbvHnzsHTp0nGHJLXvP9rt6jetP1eCZ3CKT0VFRcRTfEZbEQdPm1U6zl53D/xfPyytdfdAXHcP7LbI+m2eGTwdxmqI6+6Ff/19CCyeJu18zjwPfTP+B32zvo++uZdCXH8vAstvgvf4Xwc9z11wCP4N94UFT//6+1BycD46OzvH9D0PTh4Khk7B1g1x7++lsHnyrxBP/AXi/tchbn0CQnfzuINGJKu6uhoVFRURf/xQE5UyMjKg1+tRUFAQdZN2JYOn0sfZY31fNpstLIgmJiaioKAATU1NaG1thV6vV+y92e2j9wUNBAJK/9ig7xAGT1JUIBDAQw89hLy8PNx///1y8Py///f/or29Xf64O++8E1qtdtyvs2TJEixYsGDcIUnt+492ux0NDQ0wGAyqvV5PT09U053Gsmw2G0pKSpCTkxM2xSc4mWmsU3xGW3V1dZEFz+52iMtvhn/dzweC54ZfQFx1u1zUM9oatONp6YZ/+zPwbXkCvm2/Qt/sH0g7njO+J6/AgisRWHYDPGlrBz7P2gt39nb4dj6PwOJpEFfeCt+2X8G//j74tz2FtPgT4w6e3qZciIffRmDr4xA33g9x4wMQj34IcfOjCCy+GoF190A88Ca8VYMDpsPhUCR4VlVVjSl4DhVEg7t3wbu70RQqBftRKhHGlD7OjvZ92Ww2NDY2Ij8/HxqNBqdPn0ZBQQGam5tht0fXpimSCn4GT4oGgycpasmSJfjqq68AQA6e3d3d+M///M+wj3vxxRexdevWcb/OqlWrMHv27HEHF7V3A+32iZuWNNzq7e1FQkKCos+02Wzo7OwccopPMGQGp/hM5GSmSK4tuLN3ILDyFvTNuRh9sy6AuPI2+Dc+2L8T+Rfp47rb4c7eAeH0v+DO3gF7t2nQc5KSksKDp90OV7kG/k2/hLjiZvTNukBaM74n7XrO+B/0zTgP4uo7YO9olj/HkzAH4srbIK67B+KqnyKw4AqIG34B4dT/wtFSgqSkpPEFz65miDt/La2Df4S441kEVt0mHfcvvhri5kfhj/kn/Cf/BvHAHyD0GgcFz/FOvjkzeFZWVkb9nODOqcvlgtFoRElJybgKlZSaQS8IAjo7O5GZmXnOBM/QZTQaodfr0dDQgLy8vLC7tM3NzWNu22SxWEat4GfwpGgweJJiSktLcffdd8tH6BMZPDds2IAvv/xy3MFFzd3A4Ip2WtJYl8ViQXx8/Lg+d7gpPrGxsdDpdENO8VGzQf5owdNZp0dgybUQl98o3cecewn6Zp6PwLLr4T3wlhQIezvh2/Oy1Itzzc8grrodvt0vw94bHv6GCp52u3Tk7klejr65PzwjdH4P4uJr4Nv9u4GP72qTqt+/fhj+rU/Cv/VJiGunw7fn5bDXGS54OiuT4D38Lny7nocnaRnsXUa5RZhQegLilscgHn5bXoEtj8F/9EOIe38Pv+ZLeYn7X4e3Ifw+4LkWPId7znCFSi0tLUMWKo2lP+loS+l7lEoGz7a2NuTm5ob9mtVqlYNoQkICkpKSUFRUhJaWllGDaCSFVAyeFA0GT1LM+vXrcckll+CKK67AFVdcgf/zf/4PLrzwQqxfvx7//d//rehR+5YtW/DZZ5+NO7hMxG7gaCuSaUlKLqvVCo1GM+rHjGWKz0g9MNVskF9fXz9i8PToFkm7fWvulFdg8TR4kgfuBbuKT0BcfQf8W5+Cf9uv4N/6FMTVd8BVdCzsWSPuRPaYpaN2OXRKy7/+F/Dt/q38cQ5TTX/fz8fl4Onf8Av4tz456us4azMgbrgf/k0Pwbf1SYjr7oH36Efo7u9L6yk9BXHr42cEz0fhS5gFcd+rA8Ez9nOI+16F1xR+HG63j3/Wd+iqrKxEVVXVhAXPM9dohUpKtYkSBAFms1nRe5RKBs+Wlhbk5eWN+DEWi0W+Yx4MosXFxUN2F+ju7h61kIrBk6LB4EkTJvSO5xtvvBFWXHTppZeOubgo1K5du/Dpp5+OO7hYLJZRQ5nSK3RakhrLarUiLi5O/uehpvgEpzNFOsVnpKV28BypUMuTtgaBxdeEB2j0DsAAACAASURBVM+lP4HbsFv+GHfWZoirbpdCZ/8SV90Od+bXA8/q7ULh4eWwp6yDq1I3qA2TO2tLf/A8r3/XU/rPwPzL4M7YCHtPB5x1ejgbcuHb9aIUdLc8Af/mxyCuvA0e3eJRg6fn1GcQ1t0Hx5ZnYdn4K3SteRTWxbch7dgOJCUlQXvqEHrWPgrn+ocg7H4Z4ranIe78DQRjBfxHP5CO2rc/A3H3S/ClLpeKkM7h4Dme54QWKun1ern1VmxsLDo7O6MuVGpvb0d2dvY5GTyDu8Bj+Zze3l7U1dXJoT05OVkOomazedT7rAyeFA0GT5owocHTbDbjkUcewdVXX43rr78eSUlJUT173759+Pjjj8cdXGw2mxzK1FptbW3IyMiY0NcIneJTWFiIkydPyv1NU1NTo57iM9JSczLTaMHTYaxGYMUtCCyZBnHFTdLu54qb4agb2HF21qRJjeA3PyYFz82PQVx9J5zV/f1dezvhPfQ27ItvgW/1XRDX3QMh9gvYQ75nnuQV6Jv1A/TNvhB9M8+Xj9zFZdfDUW+A98Bb8H3zW3j3vg7hyAcQ196NwPzLEFj4I3j3vQ57d7v8LJ1Oh6amJtTV1YVNYGra8BKsy+9G78anYN/yLNzbnoN//X2w1+Wgq6sLTqcTnZVZ6Nr9DrpXPYCmjb9FWfIhmPJi4Nv1IgIbH0Bg7d0Qdz0HwVw9KEQEXzvaAFRRUaFI8FTiOR6PB0ajEbGxsXIf2NBCpbEGUZPJhJycHEWCYiQN2seygo3oo3k/oUE0Li4Op0+fRklJCdra2oa8xsDgSdFg8KRJ6ciRI3j//fejCi9qB0+j0Yj09HTFAmZwik9hYSEyMjKGnOJz+vRpRaf4nCvBs6GhYdTWVM76bPj2vQ5x5a1SlfniqxFYei18+/8Ae48ZdpsNHu08iKvvlO54rr4DnoR5crB0FR6FuPZudK36JYTtv4Z/+68hrpsOZ0h4dTQXS8VLM8+TgudMacfTu+Up+Dc+gMCSayAuvxH+jQ9Kd00XXIHAkmvhX3wNvMtvQXXGSWRlZiL72EYUb/4IlXv+hdKUo2ETmFxFxyCu+zl825+Gb8ez8G+4H75dL8Da0xXeTql/ORwONDXUoXPr72Bc+zRaNr+Krt1vw7P9OXhTVwwKETabTbHgWV09ONierefY7QM7ucMVKjU0NERUqGQ0GmEwGBQJikrePRUEabZ9UVGRYs9rb29Heno6amtrkZOTA41GI19jMBqNcLlc6OvrO9s/AmgSY/CkSenkyZN46623JlXwNJlMSEtLG9PnRDLFp6qqCq2trUNO8YmNjVXt61NzJGjEralsVvg3PYTA0p/0h8s7EVhyDTzaeWHh0VVyEo7m8MIoT/JSiGuno2v1Q1Lw3Pk8xHU/hzv/YNjHCcf/hr45F0mhc/YP4F87Hb71v0Bg/uXwrf4ZhFV3QVhwNQKzLoAwZwosi2+DbentEBZeg57db8OcuQeefX9Ey6aX4Tr0PryH3oWzPqQIzWqB9+jHCMy7FH2zL0Rg0VVw67fBarUOGTwFQYDQ2wbxmxfhP/V3eI79Fb1734P56xfRsu7X0Ov1qKmpkVsURdI+J5JVXl6Ompqac+Y5dvvwO7mhhUrBvpgjFSoNVcAz3qXk3VNBUHa2vSBIu7uh1wqC1xhqamqQnZ0NjUYDl8t1tn8E0CTG4EmTkkajwRtvvDGpgmd7e/uwYzp7enrQ0tIyrik+58rXWFNTo9pI0MbGxoiCp6OlRKpuX/MziGvvltaKmyFu+uWon+sqPi7teK58AP6VP5Wq12dfCCFuRthxu7NCB8/uV2Hb80d07X4HTfs+hWv+1XDPvRL2RTfCuex2eJZcj76Z50FcfA3E9fdJ041W3grf9mfhPf4XCLH/Rt2OD+GImw3vib/Bk7gg7GsQ1/xM6kW66WH4190Lce3dsLVWDB88XQ6IR96F//Db8J/+B/yn/wFxz+/gTVkKk8kUtvMXvOc31rY7ExUYy8rKFHnOWAL1aIVKra2toxbwRLqUatgfXEqOGBWE0Xd3PR4Pj9opKgyeNCnpdDq8/PLLYw4sZzN4ms1mJCUlKT7F51z5GqOaRd9lhLMxDw5jVcTBM5KeqA5zk7TbufqOgeC57Hr4dr0w+uv0dsF75AMIc6fKR+h9M89HYO4lMB/9Qm6Srzu5H82bXkbLrg9gPPIFeo78A74Vt8K38QEp5K68BeKSn6Bv5vnSPPcN90mTjZZdB0/CHHgPvwchfo4cPIWYzyGcHujY4M78WiqC2vqUvMTVd8CVveOMyUVueMtjpUlFu16A//Q/Ie7+LcRvXpTWobchdNSFhQi7XfoLQ0xMjBy4ysrKYDabhw60KgTGsrIy1NbWRv0cq9U6aj/K4YJVcIcvWKiUlJSE5ORkRQqV7HZlirmCq6amRrERo4IgoLW1ddTdXR61UzQYPGlSSk9PxwsvRBAezkIoC/ZXbGpqCpviExsbi5MnT4ZN8Wlvb5+wJutqB8/xzqJ31mRAOPZneA+/B+/h9+DO3DTqVKGxNOMXTnwq3bVcdgMCS69DYOl1cJWcHhxSTTVwFR6BsyEXvb29aG1tRXVpAfyzLkRgxvkIzDgPgZnnQ5x1AbwLrkJTURosqZvgSlkFd9YWCKf/Ce+xjyGc/gyepOX9bZOegn/NXeibe8lAAdLcSyEuvQ6+XS/C3mWEJ3kpvIffR932D+CInQnvwbfhyt07EDyzd0Bcdceg4Ok07AkLnj79ZvQtuQZ986agb96l6Jt3KcQdz8JXfBTeyngIFvOIAS0YuKqqqpCZmQmNRgO9Xh/x5CClAmNpaSnq6uqifk4kjdAjDaKVlZVITk4OK1SqqalBT0/PmIOoUlcbgmuso0pHWy0tLcjPz2fwpAnD4EmTUnZ2Np599tmoQ1k0Vd0jTfFJTEyEXq8Pm+LT0dGh+pjOcz54dpsgHPuztMuXuABCwlx4D/4JzuqUET9vTM34Ld3wpK+XxlzufQ2usjg4zI1w5eyESzMTlviF6Dr4V4hzLoZvzqXwz7oQxjVPIiMtFcWGTARmDOx2ypXrsy+UQubRj+E98Td4D74Nd/ZOOMwNsPd2wW6zwVWugXDy7wgsuRaB+VMRWH4TAguvkqYoLb0O3qMfS7u85gZ4EmbDuOE5uPf/CZ6UldJEpbz98G1/Bv51P0dg4VUILL8J/o2/lFoybXwQNnPTQPC090Dc9AD6FlyOvqXXo2/ZDehbeBX6Fl0Fb9XI9wmH2xl0u91yQU5SUhK0Wi0KCgqGvQepVGAsKSlR5Dm9vb1ISUlRJIyFVo4PVaiUm5sbcaHSeHdih1tKNe4P/VpHa8/E4EnRYPCkSamgoABPPvnk2ELOGUuj0US02zieKT5DPaerqws6ne5bGzwHtTiy2eBoq4KjqUgKY0N8jrOxQDpqTlwgL+/xT+DO2qxc8LRLfUyDbabaDn0O/5xL5EDpm3WxNG1o9kVSQJw3BX3zpsCdsxP2LiN8sy8JqVqXKtcDC66A9+jHEBIXSit+NrxHP4K9qy3sdR1tFQgs/BECK25CYNn10s7nnIsRWHglfHt/D9++16TPsVmRGXcQ3U0VsNvt8CTMld7LnIvRN28KAvOmSMf0a6fDe+R9OBsL5OIiT0sR/Kf/ib75U6QK+6U/kYLnkmvQt+By+Aw7RgwRke4M2u0D3QTi4+ORmpqK8vJydHR0wOPxKBo86+vro35OT0/PqBN4Il2NjY3DVo6PtVDJYrEoFogFQbn+qZF8rQyepAQGT5qUSktL8fDDD0cVlOLj48PuUSo5xWeodTbmw6sZPMNaHPV0wJO0DL4Df4T3wB/hPfFXOFpKBn2Ow1QL75H3ICTMGQieh98bND1ICrJWuahnuOBps9nk38Ngo3ytViv3MS3X7YN/3mXom3lBf4j8/sC4y5nno2/BZdKacxG8B/tHay6+BYF5U+XgGZg/FeLK2+A9+Q8IWmmXVkiYD+/h9+Ew1YR/feYGBBZdhcDyGxFY9OOB4Ll4Grwn/grfzuelxvT2gdGcjvZ6BJZeK/X7XDxNWvOnSs3ts3eE/XntaSyD/8Cb8B98C4EVN0lfz5xL0Lf0OvQtuEIaEVqXrkjwDF0ejwddXV2oqqpCRkYGNBoNtFotDAYDLBZLVMGnuLgYDQ0NUQeoSCbwRLoaGhpQXFwc0ccGx1UOV6gUyUjKsSylirqCK/i/HQZPmigMnjQpVVdX44EHHhhXQApO8YmNjUVhYaEcTmJjYxWb4jPUOhvz4aO9TjBo9XbB0VIKh7lxyOAZrDR3FR6Bd9/rEDQzIMTPkop0Tn82aPKP3W6HO3sbvAffhvfYx/Aeelf6uI7mkNfshCv/AIRT/4QQ8y+4Sk6jqaEeGRkZYbvQiYmJ8u/hmY3yg8/yJC2R7kAGdzDDZqz/j7RjuOAy9M27FIJmJux2O1q/fhm+tT+Hb+tT0sjK9T+HcOof8O7+HfwbHkBg+U0QV94K7/4/Dvn1+Q7+Sdr1XHCFdM9zzkXwb3+mP3g+JzesDwZPZ20GAkt/IvX8DAbPBZcjsORauPXbwv4c23L2wL/39/Br/g3/sQ8RWPgjKXzOvhiB+VPhP/AHCI6Rg6ASO3Aulws5OTnIyMiATqeDVqtFYWHhkCMZR1tFRUWKBc/09JFD91jC2HhaFnk8HvT09IQVKqWkpCA+Pl6RQiVBUO5ubXBFUiVPFA0GT5qUGhoacM8994wYkkKn+IROggnufsXExKC0tHRQOJmodTbmw8fFxSlWvORszIf32Cfw7n8T3gN/hDtrC+zWgd6hoQU/Hs1MeI9/AiF+lrQ0M+Hb/yYcptrBz7Za4KzNgDt7O1zFJ2HvbJH/nc1mgy1rJ+x734L54N/RsvsjtG58EVl7FyEmJkbehY70LwneIx9I4W/GeYPmq0vre+ibcwkCi6+Gw1gFR3sdio8sh3v3a/BvuB/+Tb+UWh2118G/7ucQl1wDcfnNEFfcDP/GB+FsHKKPaU8HhLiv5Aby/vX3wnvwbfh2PQ/v4fdg7+0MC572btNAs/mFV/TvlP4Q4tq74WgaaNBvtVph0++Cf++rUvDU/Bv+mM+kXqWLf4zAylsRWPsziHt+B6HXOGyIUOouZOhOpc1mk/8iEhxqUFFRIR/LjxY8Gxsbo34/XV1do45+VDKMRRpEGxoakJCQIBcqBfuqjqdQSRCUuxMbXDU1NSgvL2fwpAnD4EmTUltbG+6880450EUyxSc4CSb4g1un00k/6FUKgRaLBfHx8aoGz0jvsY66ejvhPfZneI9+KO1ixnwuFepUDFwdCA2e7rS18B56ZyB4xnwO76F3YO82DfsaPT09cqup3NxcJCcnQ3P6BJo3vYLmPX+B6cgX6D41C45Tn6P32D+h1w9MELJ3tcFVqYOrPB6O9vohn+9oq4S3f/dRmq8eEjhnXwRxybXom3sJvHtfhaO1HK7SGHiPfIi2TS/BdeBtuHWLYe9ogt1uh6tSB//mR+Hb+yp8u38H3/434d/8KNzp6wa/bnMx3Hl7+2e250OI+xLe/X+AR7ck7Gg+9M+jO28/AstukO6b9h/xiytvg6vwSFjw7KkvgH/f6/Af+wD+2M/gP/AH9C28UjraX3kLAmunI7D0OviPvAdvRQx8ZacgmMIroJU6+h3uiDx4LF9ZWSmHrZycHNTV1cFqtQ76+MLCQjQ1NUX9fjo7O5GZmalIGKutrVWsZVHo+zqzUCk+Pn5MhUojfd/Hu6qqqkatkieKBoMnKeqRRx7BTTfdhFtuuQX33nsvCgoKAAA1NTWYPn06pk2bhjvuuANlZWVjfrbT6UROTg62b9+ODz/8EFdeeSV++MMf4sMPP4xois+ZKykpCZ2dnaqFQKvVCo1Go2rwPPMe63iXo6kI3gNvSqGzf3kPvytVYPd/TOi9S0dLqdQe6eCf4D38Prz73oArbx/sdrvcqqiysjKsl6lWq5VbTQU7Adh6OiGc+Cs82gXwJC+TVtwMWI9/hqysLOm1jFUQTv5deq2Db8N75IOByT+WbrgqEuCq0MJZkw7vkQ/gif0C/q8fQWC+dG8zsGga/F8/Cv+mhyGuuQuO9no4zE3wHv0InvhZqNv1Z9hjZ8N76B35WNxZmQT/5sfgO/iWvKTguT7s+yZoZkrH5It+jL4Fl8N78O2wXWJ7Twec1alwViUjOSE27C9CjuZSiMtvlO53LrsB4uJrEFg8Dc7KJPnPU1dXFzx1GfCf+AvE/a/Bf/AtaYrS7AulcD3z/P5Z8hehb+GPENjwC4hbn4Avb3dY8NTHH4G3pWDUY/mRVqRH5C6XC21tbSgqKgorxmltbYXL5UJBQYEiwbOjo0Ox4BnJLuBY3ldWVtaQ/87hcKClpSXiQqXg912JHeLgqqysHLFK3uv1Kv1jg75jGDxJURaLRf7no0eP4uabbwYAPPjgg9i+fTsA4NChQ7jjjjvG/Ozjx4/j2WefxWeffYYNGzbgxhtvRFtb27jDVHJyMsxms2oh0Gazqd60PiEhIaIQbrfbYbfZ4KxOhRA3A8Kp/4Wr+IQckhymGvj2/wFC7BcDwfPAH6XK75DgGboLaW0pR0/yBrSfno8q3V6kp6XK05iCzfJra2thMplG3JV15e6RAmPCXHj674t2ZB+Sg6c7ba10h1Q7H4J2Prwn/w4h5l9wNBZAXHOnVNyz6CqIq26Hd+9r8MTPhke3CJ7Yf8uz1MWVt0mz2lNXScGywSC9pm6RFDzj5kI4/gnchm/kwOjb8wr8Wx6Hb++r8O/4Nfxbn4SjuUh+38667IF7mkuvk9oqLbwS7oJD0ve0rRLeA29J89d3/Brt655GT91AA35XuQaBxdMgrrhVen8rb0Ng0Y+l6vmQ4Ol2uyF4pJZKvrQV6Jt1QX/f0B8M3GOdcxECy25EYNVPIe5/DYFtT0LoaoLgcsAV8yVsy+5EYNODEHc8C2+DfvTw6Pag1+4KOxoebwAKTg0KzgWPi4uDwWCI+g7kSAFvrEvJXplmsxl6/ejf4+D3JrSTwJmFSoIgKBbUg6uiogLV1dUMnjRhGDxpwmzfvh233HILOjo68P/+3/+D3+8HAPT19eHiiy9GbW3tuJ/tdDoxbdq0qEJZamoq2tvbVQ2CagdPrVYbdr1gpOWsTIJv1wvw7XsdvgN/hG/ncwPFLDYb3Glr4Nv7KrxHPpAq1Q+/D4exWm5VVFhYCK1WG3bVIbgTXV1dPf5pTHJx0f/KxUWtzU1y8BRO/R1CzBdy8BQS5sF76B34tz4pBb+lP0Fg0dUIzL8M/g33S+//yAdSs/qUFfDoFsG36wV4D70jXR2w2eAw1UjBUztPDp7ew+/CVR4vvyd3xkb4Nz4IcfXt8O39PZxVyWHv25OxXioq6m9aH1h6HQLzpkI49U/pfcd9Bd+O30hFVcc+Rsfqh+E6/qlcue8qOS0F4zOD5+F3BwfP/lDgP/V3qYgpODu+P3gG5l+GwOo7pClOB96EuO1JeOvS4Ss6At+6n6N75S8gbn4M4qZfQtzxzKCdT7vTjexaMw4aGvFNRh1WxFdiYUwZtqfXoblTOi5X4ojc4/FAr9fDYDDIx/IGgwH19fURHz2PJ+CNtpTsldne3h42C30s35szC5XS09ORnJyMqqoqRQqVBGH0CVQMnhQtBk9S3GuvvYapU6di6tSpKCkpQV5eHq655pqwj7nzzjuh0+nG/Ro+nw9XXnllVKEsLS0NJtPwdw6/DcEzMTEx4sIp4dT/wrf/D/Ce/Lu0jn4E357fw97TIQWdnk705B5F14kv0XxyIfKSToQVa2VlZUGn00V81WHMK6SdUmtrKzIzM2G32+FOXy/1Ag3ueJ74FMLpz6TQueAKqcp75vlSQdGci+BoLYezJg2O5mK4KhIgrr8X/rX3QFx3D8S10+HO2SU917AH3sPvSXc8978Fj3Ye7D1m2G02CLH/hn/LE/DtegH+rU/Bt/fVQZX+ruLjCCy8EoElP+nf8ZQq1T1pa2C32eDb9SK8h96Wg2fbhuchbP/1QM/Tng6Iq36KwKIfQ1xxC8Sl1yGw+Gp56tJQwdOX+410N3TVT9E399KBdlEzz0dg/uUIrLgF4v4/QNz6BISOWvhPfgr/0uvhn31J/8SjKQgsvwHexoFZ3S63B2u0lfjN2nQ8sFiH22fH49dr0rA1rQYr4iuwRlsFm8Ol2N3MvLw8tLS0QBCkueatra0oLCxEYmIidDodioqK0NbWBpfLNSEBb6ilZK9Mo9GInJycqJ/j8XjQ0dGB5ORk6HQ6RQqVBGH0QQAMnhQtBk+aMDt27MATTzwxIcGzr68PU6ZMiSrIpKenw2g0Mnj2L++RD6SCoJOfwnX0L7Dufw/WjU/BkJaAxMRExMXFISUlRW5VdGaxVktLi7wLOdErNHg6TLUQTv2vFOIOvS1NBGowILDsBilszvq+dPzcX6TjKjwqP8e373WIG+6Hf+dz0tr0EPzr74O9vR52mxXOxjyUHFmG7uJ4OYA7G/Ph3/Yr6Q5r/+6pf9uv5MAqL0sP/FsekwLw/MsRWHAFxNV3yq2ivMf+DN+el+XgaV77BDy7fguPbjE8SUvhaC2Dsy4b/s2PILDoRwisuAWe9PVy+O7t7R0cwBy9EPe+gr7lN6Jv3tSB/qTBKv75UxHY+CB8GWsgCAL8xz9GYPZF8M6Zir5FP0bfwiulHqblMRBcdgiWdpQ1d+PJlal4amUqnliRgp/NS8Dts+Px2eFC7M6qx4KYMlQZexU78s3Ly0Nra+uQ/85qtaKurg7Z2dnyjl9lZaV01/WMoGUymRQLnqMdP49ltbW1wWAwKPIsQRBgMBjkPwfRFioJwujFSgyeFC0GT5pQ//Vf/wWz2az4UTuAqINnZmYmWltbv9XBc6TK/eBM+eDIz9qj89G56pdoXP8Smr9+BT3rn0DHgb+gqbExolZFoWFwoldbWxsyMjIGfq27XSrSqUwaCHZHPug/bj5PPnYOzLsMwql/yJ/n//ph+Lc8Dv/O5yCuvw+B+Zejb87F8G/6pRQkbbZBVzKcVcnwb3964Mj+yAfw7fg1PCkrBr/X7nZ4UlfDt+91CNr5A7uiVgtc+QelAqVtv4Jvx69hWXI7AvOm9IfUyxFY+CO4yuNhs1rR3VaPpgapsjo7O1sebKDVahEfH4+8vDw0NTVJBSguB7xVCehbMg19i66SJhjNvaS/Z+n30Df3EvgT50nBM3EeAnMuknY8+/uXBhZcAf/hdxFY+zMElt+A02s+wQPz4/DKpkw8viIF0+drccecBLy6OVMOnrUmKXg2NzdHHaRyc3OHDZ6hK7jjV15ejrS0NPlYPhi0lNpZFARlm7S3trYiLy9PseCZk5MDk8k06NeDhUrB3eJICpUEQboyMdJdXQZPihaDJynGYrHAaDTK//3YsWOYMmUK+vr6cP/994cVF91+++1Rv160wTMrKwstLS1RPeNcD57Byv3u7m60VhWg/fgMdG5+EQ3b30XqkS1hIz+baithT1gE3zcvwbfrRQgxn0uzx8cQBs9a8LT373zGfQn/tqchnPgUruwd0h3LeVMRmH8ZxOU3IbDkWniSlsqfI5z+DOLau+Hf/Lh0D7J/NKVv5wvwf/0QnA25g+8CdzTDt/M38O59TQqeB9+Gf+uTcFVo4So8CnH1neibdyn8Wx6Hq/iE1DIpNLT3mOFJWQHvsT9DOPBHKbQmzINr4bUQ518GcfE0+BZeDf/sS+BeMA35u2ciLfYwsrOz5clZXV1dsFgs8l8ImpqakJeXJ4+yrKiokI7ml92AwNJrpeAdDJ4LrkDf/KnwNmbDV3IU/uU3wb3gGuku7Jq7EFg8TaqEn3ke+mZfCMPch3D/5zvxwCItfr4gETfNiMP1X8bhd5syMftECbam1sLpciM/P18+IldiB2+sn+d0OuWgpdVqkZAg7dQbjcaw6wjjWUo2aW9paUF+fr5iwTM7Oxvt7e2jftyZhUrJyckoLS0d9P0Z7S8QDJ4ULQZPUkxTUxPuvPNO3Hjjjbj55pvx0EMPobCwEABQVVWFu+++G9OmTcPtt9+OkpKSqF8v2uCp1+vR3Nwc1TPOteB5ZquiU6dOITY2FonxsTBteQXWjU/C+s0bcO98SepXaawe/JyOZjja68LD0jjD4EQto9EY/lo9HfBveUyqUF9zF8TlN0FcOx3+LU8gsORaiMtulP5z9Z1hX7PDVAvfNy9Jx/JzLkFg0VXw7fgNfPteh3/jg3Bn7xiyCM1VFgffzufh2/4M/Nuehid5BZzVadI9ybmXoG/epdIR/+wfwL/tKQjxc+SjelfxSQhHP4ItfiG6Ts1G+96P0brtTfhmXQzP3MshzP8R/POmIjDzAvTN/D58256Bb8/vB40cHeqOZ7BnZkVFBdq2vAph7mXwz7l0IHTOvhB9i3+MvvlT4U9bAcHeDWH7b+BcfIPU83PVbf1H8wM9Tn1fnYfnPl+JW786jenztfjpLA2u/SIGt8+Ox/2LdHh+fTqWaypwIjlHseBpNA7f8D7SVV9fj5SUFPlYPiMjA1VVVeju7h7z/Uel5tALgiDPdVcqeOr1epjN5jF9znCFShUVFcjKyhoxePp8vqj/v5u+2xg8adKKNnhmZ2ejsXHw6MeJDp5KjLC0WCxoa2tDdXU18vPz5aPGhIQEuVVRXV0ddDodTCYTnLUZUuX2ib/Be/JTeE9+Ct+uF+DO2zvk8x3t9XCVa+Cq0IZNEhotDKanp6sWPENfy1V0DOKKmyFufFCqzN74IAJLroH30NsQYr+A75uXpBZLreWDn2fthSdtDfxr7oJv9ytSVX9/8HQVHhm++0GXEc46vRxkvcf/KoXOBZdLAa//bql3wwNwb3wEbTFLkJOTg+qdf0XNpjdQ883f0HzgM5iPz4B9/3twLLxe2nVdMm1gutKsH8C/4RfwbXsagnb+qMEzbNm64DvwJgJzLkHfjP+BOON8eOdeeP8fXQAAIABJREFUBv986c6pN38PBEFAd1s9qvf9G/5Tf4f/5N8GjREVvjofCz9/B29v0OCpVam4f7EO9y5MxD39R+63zozHg4uT8MzyBKQWRn8cnZOTo0jwDD3S9ng8MJvNKC8vR2pqqnz/Mfi//9GeVVJSgvr6ekWCYlNTEwoLCxULnpmZmejs7IzqGcFrCxUVFYiLi0NMTMywhUoMnhQtBk+atKZMmRJViAveB1MzeI51kpDVah1yKlN8fDzS09NRWFiImpqaYVsVpaSkoL29Hc6qZKmKuj90SsHzRbiztw/6HGeDAd6jH8F76B0puJ34GxxtFYPfX0dz2CSisxk83Tm7pMrvTb+EuPEBBBZeib5ZFyCw+GqIa++WxnuO9MyeDvj2vgpx3T3wb30K/o0Pwrf7d7B3tUXcdks4/AECcy6GGJw2NOM8BGZ8D565V8Kx5Bb0bnkBbXmxsMfNgXDkI3hSlsOTtBTC0Y/h2/YMGja/Id3tnD81fITnrO9LE5UO/HFswTO4TOUILL9RKiyadynEuZfCufgmaGOOw2AwoKKiAmlpaVKoyNkyKHiKX30P2754CVtTq7A7qx6/WpWKX61MwU0zNLh/sQ73LdLhrrla3DcvDi+sScY3mfUob+0ZdwjKzs4e8s7iWNdIR9pOpxPNzc04mJiNL3dosOqgFvmFxcMeyys5HaixsRFFRUWKBc+MjAx0dXUp9jyDwYDW1lYYjUaUlpYOKlSy2+1n+//6aZJj8KRJ64orroi4R+VQKzc3F/X1Q49XnKg13CQhq9WK9vZ21NXVhc2VDx37WVVVhba2tohaFTlay+HRLYJx00uwJq6Ao7Uc3v1/gG/fa9Ku56G34dv1Ytjsb7vdDrvNCiH231IT9mB7oqMfhRfOdDRLdxSPfgzvsU+kIhxLN0wmE9LS0lT5PppMprDg6WirgLjyVqn90PIbpebpcy6Cf+MD8G9+FOLa6dL1gWGe5yo6Dt/2p6VnLLsB3uN/kT/+zOBps9nQ0dGB+vp6FBcXIysrCwkJCcg+uAL+2ZdAnH3xwNH2zPMhrr8XYv9xv2/PK/Dteh7i2unwHngTvp3Pwb92OrwH30LD1rfgPvwhfHte6b+TeV5/Nb7UDsq355XxBU9BgNDdDH/cFwhsfxr+hNkQetvkO5F6vR4nT55ESkoKqnJTQ+6DDoTPsiVPYKmmHKu0lXhseQoeXpqE22fH44HFOtw2Kx7XfRmHn3xxGjd/FYuHlibh7vlavLA+A18dK8Y+fQNy6zvQbR2+oOXM4BnJncXR1mhH2otiyjB9fmL/0uLldclISc+CRqNBZmYmqqur5WP5M5vjW+wuHMltwqwTJdiRUQdTz+i7psEV/HOjVFBMS0tDd3e3Ys8b6vsfen9WiWtS9N3G4EmT1rRp06JqAJ+Xl4e6uuHDyEQFT6PRiPr6epSUlECv14e1KsrLyxtyrvxYlsPcAN/e38O349foWPc0PJuflMZI1unhPfYJ/Dufh/fAW3CVDTG+s8cstQk69gn8W5+Ef8P98O34DYQjH8of40ldDeHYn6W2P9oF8B55H66S02hvbUKO5gAc5iZVgmdoyHWYauHb+mRI4/TzIK66Df5tT8O//RmIa6fDVZEw9PerqQj+rU/Bu+cVeA++Dd83v4V/+zNwtNehp6cHOp0OBQUFMBgMSEpKQmxsLJKTk+XdwtDfK3fWZgQWXy29h1kXSKMuV90utVJafiOE059BiPkXvHtegW/3K/B+8zsIcV/Bk7Eelbv/Ceepf8G7/030zblY2unsbwHVN+M8eEN+D8YcPEdYnZ2dyMjIQHd3t/SXm82/RyDYfmnGeQjMmwJf6QnUmnoRW9SKOSdL8OL6DNyzIBE3z9Dgun/H4uYZUvC89osYXPfvWPz4XzG46rPTuOaLGNzwVRweXZ6MVzdn4XRhC9zuke9X6vV6RYJnU1PToODp8XhgdbhQ3NSF6fMT8eiyZDzZ3yZq+vxEHMhphNvthtlsRllZGVJSUnD4lAbHY7UoKpKmUrncHvz9QAEe6f/cR5Yl49XNeph7HRG9r7q6OpSWlioWFFNTU9Hb26vY80a7M8qjdooWgydNWtdff31UVekFBQWoqamZkGBks9nQ2dkptyoKtsA5ceIEkpKSYDAYUF5ejqampoj7bEa63Bmb4P/6YXiPfAjj5pfh3P8OfNufkeaM26zSnU3LMKHWZoNw/C8QV9wK/7p74N9wPwLLboBv+zPS53a1wXv0Y7nXpCdpKTyxX0I49gmchz9C+8bn4D30jjRK0xrFjHibFc6qZLhzdkgTgWzh1xPCgqfNBu/Rj6SQvOsF+FfeisCsH0BceRv825+Bf8sT0gz21rLBr9PbCU/aOvg2Pwrnnj/AueFhuJfcBPf8q1C55T1oExIQGxuLvLw8NDQ0oKOjY/TrHd3tEA6/D++eV+Hf/Bj8Xz+KwLxLEVhwOXxfPwLv0Y+kZv27XoBw6F3pTun2Z9G68SU4Tv8bntP/ku6KzrlYWrMvQt/cH8Kdf3DCgmfYTHOPB56Cg3Buew7dm1+E4dBKJCcno6ysDGazGU6XG7FFrXj/m1zcNised8yJx00zNLjh36dx01exuPrzGFz9L2ld9a8Y/OSLWEz7PAbT52tx70IdtqbVyHcG680WaErakFFths3hGjL4WB0u6GvNyG/ohGuU0Hpm8Ay9S1ne2oP3duXiwSVJeHBJEn46Ox5PrkyV1/T5Wnx1rBgNZis6LA50WhyYdaIEz6xOxUML4vDh11qciI3HlmOJeGBhPH63PhWvbdHjtc1ZeHR5Mg7mRDYutLZWaoulVFBMSUmBxWJR7Hmj3Rll8KRoMXjSpHXrrbdGdVReWFiI6uohqrrHuLq7u9HU1ITy8nIYDAYkJycjNjZWblUUbIHT2dkJrVareNCUV08HhJgvIK64FYH5UyEuvxkdG56B48C78G1/Fq7yIXY4Q5ajpUQai7n1VxCXXANx9V0Q1/wM/vX3wff/2TvL6Kjvdd+fV/fFveue3d1So927LUVaXIoUKdJCW0rdBSiUXS+7XjweIiQEEiRIggfXyFjc3T3E3TMZl3zui99kkjTB4ZzTdedZ61mkyfxlZij5zCPf76G3hA95WxO6Sz+hlblYwVN36RchPXRuLeWHvkUXZofh1CoBurdy/631qLMuoM6+IuYlPcdYLCMnob/08wCQbWhoIDracv7marGAc+R9DMc/xnD4HTEn6fiQmPv0nYFW6ohS2dcmLy8vpyziCHUBK2jxnofaZQTKbVPRbR2JzmMspq1PYdizAHVu6ACHq+7GCjTJh4Rn+3WWrtR5EvRnvxZtc4cH+rXe78PsOQZ90HL0p1Zh9J2J2Xs8Rt+ZqLY+g2H3C6gKItBd/pUep4fF83B6GOPB11Dny6yb8XcTPJuamgaC55+ydwO6qKiIuLg4JBIJycnJlJeXczmtnPVns/jqcDKTt4QwcUsYT68PEfC5IYQR64MZuSGY0RtDeW1HDLNd5Sz2iuJEYjlXMqr4ZF8C7+2O4yWvSN7yi0WSU0NcfDxNTU3odDpyq1t5f088L3tHscQrii8Pp1DXOritnVPVwrawfPZEFFvb3v1nKcsb21nsFcl893De9otloWcET68P5gX3cGvFc7qTjLf9YvjIP4FP9yewfH8Cy3ZEs+ZQCh/slPOyVzg+skIupJSxyF3Gm95SXnMP4U1vKQvdZHiF5tzUtnxJSQn5+fl3DRQjIiLo7Oy8a+eLjY297syoDTxtcadhA09b/GVj+vTpFBUV3TaoZWVl3dLxbW1tVFdXW6WKoqKiCAsLQ6FQkJiYaN18vV5V7HqC7neamoT9GPfMxxj4Bmb3kZjcRqB2fxZ14PsYjrxvFVYfKlUVGUIeKOANTL4zMG99EqPvTLFNfe5bDMc+RlWeKqAq/bSwqAzZIByDjn8m5kVD7KgI+BJdmB36c9+hidt70/euKo3D5DNZwKbLY32OOw5iVtPkOUZs2A8Bnt3VeZi3jRXP2Wuc0K90eQyz83D028bTcuJbUlOSrR8IIiIiyIy8SNvhFXSc/xV1yCZM3hMxOz4kjvV8BtOOqeiDVqK/+KMVPNWF4eL+3J8W6TUW1dWka4N8ZRbGXXOss559c5P3Ydw1G23oJiFgv3cBJr9ZKN0nYNg5k27L66yqSEcb7oFh7yKMexdg3LsAw5H3rJv5dxM8ExISbvrxarWampoaMjIyuBgqY0OglJ8ORzPXKYQxG0N4ZpOocI5cH8JT64IZuT6ECXYSZjrLGLk+hDEbQ5nmKGOyg5SVBxKYs1XBJHsJz24OY85WBb8GKGhsbESr1bImMJlXtkfx6b4EPtwTxywXOV8fSaG1q29e1EdawJhNoVbYnWAnIa6ogfLycjIys7C7kM2YjaE88UcwT/4RzDQnGe/uimW8nYRxWyTMcJHzvKuCaU4yPvaP59dTGfxwPI3xWyS8sTOar4+k8rGvgk/2RPPe7jhK69t5ZXsUH+yJY/mBRD7YFc38rVJ2nVUgk8msYv7d3UO33ouLiykoKLhroBgeHo5SefMzpjfKmJgY2tquvRzWawRiC1vcbtjA0xZ/2ZgzZw45OTm3DWrZ2dkUFAze1u61IiwqKrJKFYWFhVmlirKzsykrK6OhoeGWNtSVyj5B93sBnoaTn2MIfENIAe1fgtlzNAanR1EHvHXD6qNO5ozh0FvChefI+5idHxVb4e4jMbs9heHQ2yg7LJXaznbUBXLRbo/agTo3BH3QSnT7XkbrOkJIArk9gS7oc7obbqIi3dWF0f9FsYnu/OiApZYe+78LaSHHYWiifQeDZ2cHuos/oveZhtH1CQzOjwnZIMdHaPGaTYfPXLQez9J82Y7msizrBwJ19kX0575Bp3BDf+lnjLvmYbZ/ALPr4xj3LLDYh36F/sxXxMbG0lBeKO7PsmXea4NpDHj9us/N7DGqb0nI4X6LdeXf0AetEFB56C1RGT35OfW730R/8DVUeWGoSuNRNlWhP70Go/+LYinp+CcY9y5Af+mX/1bw/HPWNbUgSczBLyiYFTuCmeMcyrObQnnGkiM3hDDLRcbT60MYuzmM8XYSXnAPZ9SGEF5wVzDJXmp1Q5rrpmDR1jBSi6qoa1Xyklckn+5L4C2/WMZuDmP0hhBGbwxhqU80+TVtlNS3M8lByqgNIYzfImHcljBGrg/hxW2RlJaVsetyAmM2hjJifQhP/BFshc/nXeXMcpXz5eEU/BRF7I0s4f09Ajp/O53JL6cymOwgZc5WhQU85XywS7TWtVotJ5PKedUnmld9onjZOwr30Hwhon+1gf2yLA6FxhMqkRIVFUVubi4NDQ3W96moqIjCwsK7BooKheKakHs7GRUVdd2ZURt42uJOwwaetvjLxoIFC0hPT78j8Oyd88zMzCQ2NhaJRIJUKiUuLs4qVVRfX3/LgHmtjIyMpKmp6a6caxA8XvoF44FXxMzgieUYDr6KynMiNQWpNzxWf/57DMc+FuAZsExUHR2GCTki7/EY9y64bsVUf+Q9TK5PYLR/ELPTQ5gdhmH0noA+aCXKlrrrX7+u2AKc9w2Ezl7wtL+fHof7USccsM7NpqenExISQvzlIzT6LKLG/2OU22dhcnwEs/39mLwnYtz9gmVLfSz6I++ju/Kr1bJSnS+1VG03Ytw1V8yyeowUVVPfmejPfovh8Ntokg8RGxuLzn9Jn7yRJc2uwtbyes/NuG9xnyRSP794TaQ36nwpxoOvoj+9Bv2ZL2n3moXJY4xYkHJ6iB7HBzF5jhFOUofeFh8qDr2Ncd9LKLu67hp4NjY23hF49mZSUhK1tbXkllZyJSqF3WckuJ+Q8alfOPO2yhm9MZTxdhJmb1Ww0DOCEeuCGbUhhAn24nuTHaS86iPmKUPTy2jvUvGqTzRv+cYw2UHKmI0CZCfZS5nrFs6Xh1O4kFbFqA0WoN0iYfwWCaM3iIWmjLxiPvIL5+n1ohL71DoBnU/8EcyIdcFMspew9kQ6aVebqWru5GP/BH4+KcDzt9OZLPaKZIaznI/9E1jmJeUVrwhOJfdJKlW3dBFdWE9RnYC0XeFFLPCIsOa3R1OpbWymuLiY+Ph4JBIJiYmJ1u7I3QJFmUx2XQvMW83IyMjrtu5t4GmLOw0beNriLxtLliwhKenarc7e7JUqKi0tHSBVFBwcjEwmIyMjg+LiYmpra4eUOrqbGRUVRWNj4z05t6o4GuO+xRj3LhStYKeH0bk+hXr/skGuN39OTVKggKCzX2P0e15sYXuNFdBz4jOM/i+KJZ+hjm9rwhiwDMP2KZgskNhb2TM7PWw9truxAmVbswDYfstNmsRAi2D6fw6Roj1tcHwE2aXThIeHk5ycbLVFbC9LFQtFB1/D5DMFk+czmB2HYXb9JybvCRh3zcHkPVGMBJz/DnXWRXHd5mrxvcA3Me2YJvQ7971kqRSPwXjgFTTRO1EVRdC86zWLxNB/Wuc0xZ/3Y9o9xzp32V2dg07mjC5kA6oSIfWkTj1u2bT/u3Xb3rjjOVRlSSg7O9BG+Qh3JbcRGBz6vQZWUL0P09YnLEtGwzA7PYLhwGvWv9d3CzwTExOt/51W3oyXpACnK7lIc2rpVg88v0ajRanSDJpnHEqGp729ncKiYnacjWT8pmCedwpljouUpy0VyF4QHLs5lFkuAvIWbQ1DknGVTeezeHl7FOM2h1o35J/ZFMqL2yKZvVXBM5tCWbYjmpHrQxjdr+I5akMIs1zkFBWX8K99kYywtPfHbAzlqXXiek+tC2aJVwRbLmThFpJHh1KFl6SA9/fE869DKaw4kMgn+xLYFV7Md8dS+dRPzvGY/GsuNxXXtbPAI4I3fWN4b3cc7+yK5QX3cM6nVfZ73TTU19cTHR1tNXtIT0+nqqrqjiqWUqn0jv8O9M+IiAi6urps4GmLexY28LTFXzZee+21AVqOXV1dNDY2WqWKEhISkMvlhIWFER0dbZUqqqmpoa2tjfz8/Dtq1d9O3qwY+W3DZ2k8xn0vYd76T0y75tDhuwjdjhnog1Zc3wKzrRFdyHqMe14Q1U77+zF5T8Bw5AMMxz7G6L+Q7urcoY9tbxEVOa+JmO0sc5l2fxPwaf93zL2WjQ73Y3b9B4bD76ALXoeqLJHOzk7UJ79Et23ckOBptvsbZscH6YzaPWButqmpiaioKJSdHejPfYfJcwxGv9kYd04X3uz9/NkNgW+iVbiju7AWdWqfU1N3fSm6y7+JWdYj7ws5pTNfYjj2Eap8KaqryZh2TEXj+vSfdC37vja7PIZ52zPoz/yLHtfHReXW6WF6XIajSdiPsqUWXcgGYa25/xV0QSvRRnihbO+b89Vd+JEe50cx2g8bWFV1HNb3tV2f17rZZTjqnGC6qnJprb16V8Ez9Woz/zqczNrjafx8Mp3VAUkcT+ir8iWVNmJ/MYcfg9LZKS+iqrmvMnYjGaStIbnMcpbx9HoBnE+vD2ayXShPrw9m5IYQXvWJ4vWdMWw5ouD7o8l8czSVzeezWHEgUbTS7cJY4h3Fi9sixZyok4xfTqYzzUnGU+uCeXp9iKhubgrlROJVSkpKuBgtZjVHrBPX6IXdBR7hvOwt2uS/n86kqrmTrm41Z1Mr+eNMJu6h+WRV9i3Y/Bmqmzq6qWrutMJ3WHYNizwjeW93nDUXekTgeHlwZTMvL8+qplFRUUFaWhpSqZTo6GircsCtWHpKJJJbtgC9Xt6odW8DT1vcadjA0xZ3NbRaLW+++SajRo1i4sSJvPTSS5SWlgLQ1NTEyy+/zMiRIxk3bhzR0dG3dY2enh4qKyuZP38+q1evZsWKFYSHh1v1FVNTUykoKKCqquq6G+SFhYVkZ2f/l4Jn/w3pe5XG/UswHngZ4+G36fBbjHrfq5j8Zl63Va5UKi2gNQ3T9kliTtPxIVE53D4F3el/oWy/9mupifHD5DYCkwU2+xZqBlcwTU6PUH/wM6r3fkj45ZNU719Oh9+LmByG0WPXbwnH/j5MHqNQZ5wZdL2mpiYiI0UFVlUUhdFvtqVyORd90OcYAt7A6DMZfdBKtAo3tBIH9Ge/QVUxcDRDVSDH5DNFVBOdH6HH6RFM255FWVeM7sofmLwn0uU1A7PjQ333ZdlSNzs+iHn7RMxeY/sqlFv/IdL5UczuI1AVRqCT2KM/sRzdue9Qpx4f8D501xZhtixDGRwfHQi3loqn2TLj2uP8CGaXx+lxfFBAtc9kjDuno4/0RKe9ffhsaGiwgqdHaD7/PpGG0+VcnC7nsvl8Nt8cTaWtS0VRXTtrT6Sx8VwWrsG5/BSUjv3FHJQqDWqNlsDgaDyuZOIXXkRy6WB40mi0RBbU8cymUCbaS8ScpbOUafYhPLMhGK8zUUSmFXDkcjgr98djdzGHTeez+f54Gkt9osTMpZuCCXYSntkUysoDSfx+OpOfg9JZ5BnBO7ti+epwCjFFwvWod3s8sqCel72jGL3RMm9qEbd/b3ccCzxEy75Dqb7ua9Qr8aRUadhyIZuZLnKmO8v5dH8ipQ0dZFe1ssAjgrf9YnlvdxzvWiqeJxIGux0N5fuu1WqtOqr92/KlpaU3lEoKCwu7a9Cp0924dW8DT1vcadjA0xZ3NbRaLSEhIfT09ADg6+vL/PnzAVi1ahV2dnYApKSk8Nhjj92SNEdPTw9z585l+PDhzJgxg5EjR/LFF19w7NgxWlpabtk+s6ioyCoK/V+VsbGx1NVZZh4721HnXEEXuglt1PZrVxRvMQ3HPsbkOwPT3vl07lyAZs8ijHsXomy//lKTTuqAyW+mRfvyFUxe40XF0u0pzN4TMB5cSnf9NXRPO1rRBn2O0eFBi9POfZitFbzeFG48Zvv76T70AZpTX6IqUKDOl2IIfENslLtawGrrPzHtnkt3afyQ1+sPnsr2ZvQXfkB//gd0YXboQjdjOLEcdWKgcGE69y26iz+izrkyoOqrKo7GtGuOpUIr2uBml8cwuz+NTmKP4cRyTB4j0bg9g377FKGtafc3y7LTQ5i9J2L2mYzZZ3IfaPeCp+vj9DgOQ3/mS7RSJ7RyV3SXfkKdeX4gsKccxbRtHGaXx9E6PdGvpf+fVscis9PDloWtJzG7/sMCow9h3LsQ/d4FmHdMxZB78Y7AMykpCZ1Oh93FHH49lWEFz43nsljqE82PQel8dyyVLw+l4BmWj2dYPh6hefxwPI3c6lYUeXWs3i3H/lwaW4Nz+f1MJnHFQ1c/P9obz2QHMac51004H722I5ra2lqys7M5cOoKb3qG8omvgnGbQwUwrg9hqU8U3pIClu9P5N3dsfx+OpPfT2fy66kMPvZPoKR+4EJM7/Z4Z7capUpDZEE9n/iLRaWXt0fx8vYoZm9V4KcoGnSPHUo1p1Mq2BZWQHBWNbFxQuJpd0QxM5zlLPKM4CWvSGY4y/jYPwGNRoPDpRzme0Qwzz2c+R4RfLY/kZYh3Jpuxvddo9FQV1dHdnY2ERERyOVyMjIyqK6uHgSFEonkroLnjVr3NvC0xZ2GDTxtcU8jNTWVJ554AoD/83/+Dw0NDdafTZ8+Hblcfkvnq6mpwWw2A/DZZ59x5cqV2wa04uJiMjMzb/v428m4uDhqa2tRKpVoI73FXGHA62IpKPANoZV5J9ewtL17HIfR4zgMk8MwDO6j0cTtueGxuuB1mPxmCfAMeF1AjsMwTDunY9qzQDjvWDaqlcq+0YZem8+k8Cs0b5uFynUURocHMdk/MKB6aZ1zdLgf/cmV6M99g6okBmVXF+oCOfpTazD6zsKw72X0p/+FOvvSNe+1ubmZiIiIPogsTxX+8qdWoz+5Ck2Mn5gj7WwX1pdtg+dq9adWY9o5XYCk86MCLJ0fxuQ9AdPueZh8pwv3IfthmB0fFraXO6fTXRiO2X2EqHb2gqfDMPHcrBXPR+hxfRytxAFtjJ/ICC90IRutbXZN7O5+s61/w+jwIGbn4eI8Tg9j2jUbg/9L4r10eED8zOkheuzvFxv1+5eg37cE046pGE98hk55e/7o/cHzSkY1qwOS2HIhG7sL2czZqmCGs5xP9yWwwCOCGS5yHC/lWMHz++Np5FS14nwll18Dw9kems3eiGI8QvPwCBtaqzKtvNkqXzTNUcYMFzmxRQ2o1Brq25TIIyJZdzKFURtCeHpdMCPXBTNyfTDjNodyIKKQnKpWPt2XwOqAJL49msqHe+NxuDRYQzMtOx+XM4l8fSSFH06kcSS+jK8Op7AqIIk1h5J4f088y/cnUt0ycJ6xXanmvd1xTHWUMdFewlRHGR/tkNLY1MRbfrHMdQtnsXcUc9wUTHGQMn6LhMiCOtQaLZEF9ewKL+J8WtUAyaf+eTu+70qlkvLyclJTU5FIJERHR5Ofn09TUxOhoaF3FTzDwsKu27o3mUx37feDLf7/DBt42uKexmeffcbatWtpbW3lf/2v/zXgZ++//z4HDx687XOvWrWK8+fP3xjGrpElJSV3tBV/OxkfH09NTQ3djeUYD7yKIWglhtNrRB58Fa3c9Y7Or0k6hNl7Aibf6UJOyflxDO6jrdvc10t1Xhgm3xkChvctFq1e50cx7ZmPYc8CdD7TUfvMJDk5edBoQ2FhIRUVFUSGnEUTvxfdhbXoT6ywVuh67PstHDk/iv7Mv9CFbhwMhO0tdNcVoWy9/hzsn8FTqVSibGuiuzLz2lXZP6XxwMsY/RfR4/SgAEWX4aLa6jlatO29xlva6r2t7/vRhmxA2VQtROrdn8LsNRaz52jMW58QVU7Xx0XV1mU4+pOr0Mpd+8Azcju64D9QNlWjlW+lx+5vYPef1uyx+0+MHqNE1dX1H1bZJpPnGGvl0+Q5Rgjj+87CsGc+Jqd+7XnHBzHK7NHd4rxffX09SUlJaLVaFLm1fLgnnrluCktFT86awCS+P57G5weTmGAn4WXvSH47lc73x1NxvpJLu1LFlgs5/B6osIKnt6QA5yvXtoU0oPXVAAAgAElEQVSsb1NyMqmcE4nl1LR0kVXZwsZz2Xx1JIUVvhK8w3IZuyWMZzaFMn6LhGmOUiZsCWGZRygKhYLT4Sn8diKZb46kcCC6hOaOwTOJDqcT+GRXJFsuZLPuTCbLdkSz0FPA8yvbo9h4LnPAHGdvBiWVM9VRylw3BfPcw0V7f3MIkoyrfOyfwOytCma4yBm7OYxxW8IYvTGUFQcSya+5OfDPzMwc4Pt+q6nVamlpabEK+l+8eJGkpCTKysruioPRjVr3NvC0xZ2GDTxtcc/CxcWFWbNmoVar7wl4fvXVV5w6deq2Ia2srIy0tLT/UvBMTEykurqa7spMYacY8IbYqN7zAsb9S9Bd/PcdnV9/7hthFen/Ikb/F+n2mY3eayLqvLAbH9/VhSp2L3q/uei8JmJyfBiV2xiUbmPp8piMxv1ZOve9SXl5Oc3NzYNGG9rb25HLLSLvrfWokw+jO/8dJrenrTJCpm3PoDv3PZqkQLoby2/7eba0tAwGz1tMXch6TL4zMXlPsEodmR0fxOw9HtOO50QV03HguIDJayzGg0tRVuegv/ADZu9xmHbNRpN4AGVjJdp4f7TRO+muyUedFyZcniK80Eb5oL/0C+qUo6hTj2Pym02P/X1/As+/YXYeLrzee60yHYdh8pmMYddcdD7PUR2ynTa/Jahcx/RbRuqXTg9hyAi6LfCMLKhj+f5Evj2ayldHUljiHck893C+P57G10dSmO8ewbObhEbn2M1hLPWJ4kpGFRqNljMpFXyxW8a24Gx85YX8fiaT4Mzqm7p+U0c3Pwal8+upDFyu5LLKT8LHe+OYYCdhlquc2VsVzLaIzK89kUZnZydlZWUkJiYikUhISEigpKRkAHQ1dXTz6e5Ifjoci9PlXD7Zl2D1jx+1QWy5213IHvJ+nC/nMslewjz3cGtO3BLC/ogCLmVUMd1ZzpiNoYzbEsaYjaG84B7OF4HJQ7bsh8qMjAwqKytv6rE3C4q9bfnw8HAUCgWZmZnU1NTclsySDTxtca/DBp62uCfh6enJtGnT6OjosH7vf//v/33Hrfb+8f3333Ps2LHbBo+rV6+Smnpjjcu7ld2NFVQd/xH1gTfQX/i32MB2e1Isl3iOwez6zzuueGrlLkLD0gqes9BvG4+qYiBg91cAyM7OtkpMSSQS4qMU5CYq6Dr4Xr+N6vswuz6OKl9+zWu3t7cjk8lQKpWoU46hDbNDd+kXDAdeweg7E/3h99BGeA7Z9r4d8Ox1bLnt96O+FMOBpQLw7C3P0eUx9KfWWKqM9w2cubT7T0wewsJTE+9/42t0tKHOPI8uZCO64D9QpxxF2VKH7tJPGA4upcfh/gHgabJ/QCwZ7ZiO2fFBTI4PY3QYht7xUVq9nqd72xTys9NpijqA7sCyISWezHZ/o833pUEgdr2sq6sjOTmZjeez+SIwmbUn0thwLosfjqcy2UHK8v2JvOUXyxQHKWM3hzHPPZyl26NYtC2CdWcyyahopl2pxjUogt+DUtl0PpvTKRVW7/WhUqnSEF/cwPHEcvZGFPNFYDKuwXm4Bufxnb+UNQGJLPWJZpK9lKmOUmvLO7msacB51Go10dlX2ROcxIkrCuRyubDCLa/i090R/HQkDsdLOYzbEsZTFuicaCdcksZuDqOubbDjz7nUygEVz9lbRcUzMqcCrVZLQEwpE+0kjNkolqTmuYezwCOcP85k3tTrnZ6eTnX1zUH5jVKr1Q6a8ezq6qK8vJyUlBQkEgkxMTEUFBTQ1NR0U9vvNvC0xb0OG3ja4q6Hl5cXU6dOpb29fcD3V65cOWC5aPjw4Xfk+/vzzz8TEBBw2+BRXl5OcnLyPQNNVXkK+nPfYTz4GrqQjRgOv4dq2xQ0u1/EuGsOZpfHMHmMFK1az9GYfKagu/L74HN1daEqiRXb2eEeqErjrimN1F1biGnXHDGn6DMZrfsztB1ZSZXFSz45OZmIiIhBCgDV1dW0tfXT1gz3GCCW3mP/d3pcH0fTK0fU2UF3Tb6w0bRsaXd0dCCVSoWfu8QeTZQPhoDX0R/7BP2xjzAc+xD9hbXCc/x/Ang2VmLynYnZcRg9To/0uTU5D8e89alB0klCyugxTD6T0YWsv/lrtbf0eax3daK78hvaiz9Z9E772uwm+wfQOP+Tbo8JGJwfF05KFl1Us/NwIR5/4FXM254RVdEB78991j81Rz4mJyfHWv3Kzs6moaHhmtBRV1dHfGISS32imWwBvblu4Xx7NJXXd8bwwd54ZjrLmWgvYYazjLd8Y3hnVxyLPCNZfzaLQ7FiQzsuLo6qukbarjHb2JsajZb9USX8GJTOhnNZrApIZNG2SOwv5eAanMe3eyWsCUjkcnoV28IKeH1nDF8EJhNX3DjgPDWtXaw4kMj4LRKmOEiZYCfBPTiHsrIykpKS+G1fMG9uC+XbgBietth3jt0cxkQ7CeMtep9/BlmdTkdXt5rPDyYxzVHGVEcpUx1lrN4ltdpIqtQa3vGLZZaLnNd8oljqE8V0ZxnfHU29KbBLS0ujpqbmroCnRqO57nJRb1u+sLDQapCRnJxMWVnZNUXibeBpi3sdNvC0xV2Nmpoa/uM//oMRI0YwadIkJk2axIwZMwBobGxk8eLFjBw5krFjxxIREXFH1/rjjz/w97+JytM1srKy8qYE6G8LamryMfk9LxY/ds3G5DkGs8tw2v0WozrwBsbANzG7DMfovwjDic8sSzGfoz/z5aBzqXOCMRx5T7gRnRC+6Oo8yaDHdXZ20pQXTfvRz1F7TaHbYxL5+75EEnyJnNADNB3/mo7Ta2nLkV9XAaC7thCz6z+ti0A9DpYtdaeHMZxeg7K9BXXyEbRSR3QyJ7RyF1SlCX3g2dGKTu6CVuqAIWAZ+qCVQifzxGfogtehSbz9Dwu92draesfgqUk4ILbFtz4hQM7xQSHn5PwIhn0v9QO73qri/Zhd/oFp+0Q0aUE3fZ0/L2HlXdxOza43qfV7A53rU/TY/x299ySSzu1Gc+Yb8SHEa+yf5KgE/Jtd/yGWvXZOt0g8/QmOnR5GXxJhhYSOjg5KSkqsEj3JycmUl4sRh/7guf1cjMU9SMJsVznTnAR0uYXk0dalwu5CNs+7ypniIGWRZwTLdkSzyDOC74+l8vXRVI7GlxGsiKalZfDMpE6no1utobG9G7VGS1FdO7+cysBHVshOeRHekgJe3BbBB3viWH82iw99QvnxRCoN7df2H4/Ir+Mtv1hGrg9hlMWpaKqjgM/euc20zGx8LiTwr32RTN4i3IrGbhRLSmM2hjJ7q4LS+qGtIVVqDbLcWg5GlxJX3EhkZOQAG8kvD6fwklck8z3Cme8Rznu7Y1m+P5GzKRWE59ddF75TU1Opra29K+CpVquRyWS39Pja2lqysrJQKBQD2vJqtRqtVmsDT1vc87CBpy3+srF582b8/PxuGzyqqqpITEy8J+CpjfQWOov7l2DcvwST70x6HB9E6fM8qgNvYDjyHma3EZh2TEN/YS36Cz9gCHwdTfy+gefq6kJ/9mv0p79Ef/k3kafXoD79FeV/EspXXD5Nvf+7NAd8Suvpf6M6+S9aD3xAQ4g7Zq9xoqW/7VnMXuNQZ55D2dWJqiINddZF4eXeu22dfgqz24i+TXQLePY4DkMXuhlVWQK6K3+gid2DJvkwmri9aBVb6WyuQyIRQKzKl6K7/CuGfUswBL6JMeB1dMHr0Z//AXXBtdv1twKeCoXijs6hC9lglXAye4zss7R0fhTDsY8weU8SsGd/v1iOcnoIs9uT6E+vQdneTHdNPtpwT/QXfkAT54+yqYr29nZqamooLCwkNTV1UHW5sLCQ2uoqurOvoAvbgjZ0C5rY3Wijd5J3fBPtJUloI7Zh9F/YN+bg8EDfrKnD/UIqy3cGph3TMDs9LOZBHe6nx3schuzz14WOmpoaMjIykMlkREdHU1BQQFlZGav2yHl3VyyvbI/iOWcZ0xylTHeWk1jaSGFtG4u9oxi7JYyRG0IYsT6ESfYSXt0ezQQ7CZMdJEx1lDLLMYTYvMGzi8mljfx2OoPlBxL4MSiNE4lX+fVUBjvlRdb84Xga685msul8Fn8ESCisbr7m86hvU/L1kVSWeEcxckMIz24SCz6THaRMspdaK7C5ubmUlpZS1dzJ4bgyJttLGLkhhFHrgxm3KZjfAuQUFBZZK5nXyz/bSG4NzuOnk+nWe/50XzwzXeS8vyeOD/bE8+8T6dQP0cbX6XSkpKRQV1d3V8BTpVIhl8tv+/jOzk6uXr1KcnKytS0fHBxMc3PzNau3NvC0xZ2GDTxt8ZcNR0dHtm/fftvgUV1dTUJCwj0BT53UYQB4Gv1fpMfpIdQe41Htex3DwWWYfKdjOPwuxsNvYzj0NrrQDYN8zdtamlAfep+2o6tpOPQF1ftXULHrXRr9lpKclEh+fj5VVVW0tbWhLpChD1qBLmyzNdv3vYVu23jhWb57rsjtkzD6L0KTFIj+5EqxWR+0Ap3UEWVbE6riKMweoy3SPff1tXGdHkZ35ivM7pZlIcdhGPcuRBO/D63MGWVtIWFhliWmzg5UpQnorvwuqp4nV6G/8G+0UT59bef/ZvDUpBzFuHueqHq6PGbZYL9PbIwHLce470WMexfQuvMltHtfwhC0AlVuCMquTpQNV9Ee/RjV/mW0H3iXtp2LqNzzAbKwYOLj48nOzubq1as0NTVdt7qszjgjKt3nvqV299toT62huzKL7qrsPlF6x2EDXIz6wHMqJo/RaBtLbxk4eluwBQUFKBQK1vheYbGHlJX7Yll1MJHl+xN5fWcMlU2dOF3OZb5HBK/vjGGRZwTTnWTW9vZzTjIWeUaw2CuSCZtD+GhvLKp+FpvljZ2sDkjmLd9YPvGP503fGJbtiOaboym4heSzU16El6SAn09mkFPVik6ns76v16wYXm3my8PJfLg3ntEW//bRG0MZtzmMSfZSpDmimpiTk4M8JZ/fTmfwU1A63x5N4R2/WDaczSK2oJ6q2npyc3OJjIy0Wuf2Vv7+fM2IiIgB4JlV2cL3x9L4/lgaXx1O4TknGR/5x/PLqQx+PpnO+3viORJXNuT9JyUlUV9ff1fAU6lUolAo7sq5tFotDQ0NhISEEBMTg0QiISUlhatXrw6w0OyVs7OFLW43bOBpi79suLm54e7uftvgUVtbS1xc3D0BT3VhuNgu3/OC8E/3m4Vp+wRU3s9hdH4Ms8twDEc/QNlQjqoig66qHOrr6igpKSEjI8M6jyWTyag49iOde1+j4+S3qM6txXDkfbQR24a85mDwfAPj1icx+c3qA0/fmZi3PYMhaCW6kA3oJHbowrYI0fV8GcquTgzHPsLsMdI699jj/Cj6gNf7tYD/Ztn6fhDDwaVo5a50Ndf2gWe/7K4vQVUcJRac+nm0K1vqUJUm0F2ZKWDuFl7ftra2OwZPZWs9+gtrMe5dKGZiPcdg8pmKce8ijP4vYjj8Dt2VWSRGySjNTaWoqIi0tDSioqJIO2ZHy46FNAauoO3YFyhPfoU+8E0xf3uz129rQn/2G3TB69FJHSkL+BLt6a/QRnqj7OzAbJFR6nF4wAKgDwgrUM/RmD1GYfYcg+ryuju2zKytreWkJI6l3uEsdpewZGsw813DWHcigc7OTj7cG8/YzaE8uzmMCXYSXvKKZK6bgunOMl5wD2eJdxRLvKOY7hDCAg8FVxv7lpquZFbx2o5o1hxK5usjKXx9JIXXfKLYcC6LP85k8uvpDH49lcG51Eo0Fh/0G1k2lta3869DKfxxJpOJ9hJGbRRWmc9uCuW93XFW8M3KymLjyUQ2n89mu7SQ7dJCNpzNwkdaOCTA9V/IiYuLo6ioiNbWVrRarVVBoffxrV0q9keVsDowiS8CxXzsL6cyrLkqIAm7i0Nvzd/IWvRWsquri4iIiLtyLp1OR3d3t7WCqlKpqKmpITMzE4VCQXh4OFlZWXR3d/93/9Nvi7942MDTFn/Z8Pb2xsXF5bbBo66uboDX+13Nri60sbtEZcpnCsa9C0VL1f0Z9G4j0W8bj95tFG27XkEuk1r95NPT0ykuLqa2tpaOjg4Bbo2V6ILXYTj6AYajH6ALXj+0/WVLHfrzP6A/tRrd5V/Qn1pN66HlKPe8jNlrrFg62jUH87ZnMR5civ7kKgGdltSf/gJNUqAVijTx+8S5pI7oLO4/ogo3zNJ+/7vVylFVGI6yrYnEU9tRp51EVZaIsrPjmq+P6moS+nPfYDi1Gv0poXd53W33zg66q3OEu1NXJ21tbX3STXeSHa2oiiJR51xGWVNAS3019UnnKAs/QlJMBDKZjMuXLxMZGUlmZialpaU0NDSgTjiI4dDb6C/+25qGw++gLugHw+0tqNNOor/0E7qwzUIsvz+QN1aK11fiYAVPzfkfhb6pUom6QEGPq0WM3ukhTDunobqahDZ6B7qQjaiyL9PSPHg55lazpqaG1NRU0subsb+Yw9rjqRxQ5JKakcXFUDnP2QkB9wlbQplg2eZe4BHBAo9wZrnIWeIdxWKvSCZvCeH93bFUNvVVBq9kVvHq9igrdH59JIU3fGPwkhTQ3NFNXnUrNX8ScJfL5deVAdJqteyNLGZ1YDKrA5NZ5BnBC+7h+MoLB8xWpmVk8W1gHB6h+Vbw3Bqcd8Ptc61WS1NTE3l5edZqaEhICMWlV+lUKlGpNbhcyWN1QCKrA5J4fWcM0xylLN+XwGf7E1gVkMT7u2M5Fj+0O1FCQgJNTXf+vul0olUeGRl518BTqVQSHh5+zWuVlZXZwNMWdxw28LTFXzb8/Pyws7O7beior68nJibmto+/Uba3t1N7tZCyFBlpSfFU7/sUtcsIOj2m0O39HJrtMzB4PktH4U3Ab1cn3TX5dNfkW6uDqop0dDJndBd/Etvm7c101xaijdiG/tw3aMPdKUyUUJoQjGnXbEze44VG5e55qArkAjyD11kqnsJmUlUYboVYdfpptAo3NNE7MQQtR3f5136t3wfF104PYfYYhbK1EV3YFup2vow+aAX6E58JyaGh2sztLegv/BvdxR/RSR2El3nQStQZ51A2V6PJOIMm+bDVxam7tgjdmS8xHH7XAt7raK8tuyPw7OzspK6ujuLiYtLT04mOjiYsLAyFQkFSUtKAEYZe0f8B4FyeIsDz9Br0F9ZiCFqO4dhHAz4QaKJ3YjjyHvozX2I4uQrD0Q8GVkS7utCFbRFVT6kjZQfXoDuxHHVaP23atibU2ZcE0P6pKtzZ2XnNZZ7bAc+hfibLrWXJtnCm2IcyekMwo9cLCP3xaALH40p5zknGc04ypjhIGbMhmBnOMjZfyKaqWcBkXWsX7++J422/GD4/mMj7u8XXvvJC3ELy2BVeNEh4vb9XeEFtG/uiStgmKSA8r45uSzWzW60hrriRQ7FlhGbVDBCQ7+xWU1jbRnJaJs7nRGW0Fzx/PZXBvqgSWrtUnE+r5GB0KZkV138Na5raWLEjmOkOocywD+aL3VI+9FPwxo5IpjvLmO4sY9QGoRE6ZmMoYzaFMmfrwMpv/4yPj6e5+dozrLeS7e3tREVF3TXw7OzsvGEF1dZqt8Wdhg08bfGXDX9/fzZu3Hjb8NHQ0EBUVNQdA2ZnZycNDQ2UlpaSmZlJXFwcEokEqVRKfHw8WZmZVKXL0R58HZ3baDQ7ZgpLxl1zMXuPH7xs09EqAOZ6m+eVmRgPvY0h8E0MRz/EeOAVtDKnQcfk5uaSn58vACYnGHXWRZQWFyN12kkMJz/HcPJz9EEr0IZ7iAWjri40SYFo5a5oEg6iid2N4dgnGI5+gMlvlgBP+78L+HQZjk7mgjpPguHEZ5T6fy7a/CHrMQStEKD853uvLbRUUh2sqb+wFu2V34Vk0J4FmPbMx+j/IlqZC+ZtY+lxfhSz+wiMgW9gOPoB6nAvq2bojbK1tZXKykry8vJISkpCoVAQFhZGTEwMGRkZlJSUUF9fT2fn0O3+ocBT2dWFOvMchmMfCwA9tQpVSb8PEM3VGI5/jP7iT+iv/I7+yu9itEHqMOi10F35Hf2p1dTtegOV3P2mdU7vJnimpaUN+n5rp4pvjqaK+cktYcx1U/Dmzmhe9FDgfiYGqVTK/gsRrPKPFKLyG4N53lXOc04y3vSNRakSkJhY2siawGTe2RXH6kBhc7niQCJrLcL0Xx5OIa+6dQB4qtVq8mva+O5YKj8cT+OXUxmsOZTM0YTre5yfSa6wbOdLec4hDPeLqWy5kM1PQen8FJSOw6UcMiqaeX1nDLNc5cxwkTPLRc7+qJJrnvPnk+lM3hLMS9siWLQtkikOEmY5hTFpSzAz7IOZ5RTKiHXBPL0+WNhpekUy1y2cgJihZ2/j4uLuyvum0+loa2sjJibmroFnR0fHDUHWBp62uNOwgact/rIRGBjIb7/9dtvA2NTURGRk5E0/vquri5aWFioqKsjNzR0AMVFRUaSlpVFUVDSgTa5sa0R/6WeM/osw+UzB7DAMnedYTLvmYvKeiMl3Zj+Nxy7U6acwHn4b476XMJxeg6oiY8h70YZ7YAh8A/25b0Se+RJjwDJhN9nvcXl5eeTl5Yn7uLDWMh84Usg2NdfQXZOHOl+K6moyys52AUONFehkzmiSDqNJPoIm+Qha+VZ0F39Ef2q12Hi3aEYaDy5F2daMJukQ+lOrKN23yjpfqj+5clB7WakU1VT9mX+hC1lvBU/D4bcxeU/E7PYkpt0vYDj+CYYDr9Lj/IiYa/QQ9212eRzj3oXoDy5DLgkd9P70/wDQOycrl8tJTEwkNzeXiooKWltbb+nvyZDg2ZttTeI17xh4zu6GMgxHP0R/+dc+8Dy9Rlhm/vkcHW10V+cQG3KStlu4t87OTlpbW+8YNq4FnhvOZTF7q4Jxm8MYvVHIFk2ylzDFUYrjpRwqmzppbm5mw4k4Jm4OZpbDFea5SljoLmemi5zw/L7N7a5uNSX17eRWtbIqIInVAUl8cyQFu4vZfHM0BV9539ylVCpFo9GwJ6KYtcfT2HQ+y3rMV0dSaBrCHlOn05Ff08Y0JxkznGXMdVMwxT6UyfYSkksbSStvJqOimQ6lGs/QfKY6SpnnpmDRtkgWekQw21UxaAtdqdIQnFnNJHspM+yDedUniqU+0cxzD+eZTaFMcZCywCOc6Y4Wcfr1wTzvFMoybwUveobzzZGUIe8zNjb2rrxvOp2O1tZWYmNj7xp4trW1ER0dbQNPW9zTsIGnLf6ycezYMX788cfbBs8h/b4t2V8Wp3ehJDQ01NqKzcvLo6KigpaWlutuLWuifDBtF9vthmMfo3MfI2wZtz2Lac881GknRLs8+A80MX4Y9y0Ws5wnP8d48DUMR98fcgtcF7JBtHF7wfPs1xgDlg0C1fz8fPKyM9Cf+kL4fnuPx7R9Imb3p9Gf/WbwPTdV0V0Si1bqIKqdSYcEeIZ7CheeK7/1yfc43C90Iy/9jKooEsPxTyn1XynA88rv6INW0l1fOvgaXV2oM86iP/I+pp3PYd76T8wODwgNTQvQmrc+iXHXHNHKdx8hoNP1H0LeyPkRzK7/pGn7fK5GHSc5MYHw8PBBHwDq6ur6PgDcQV4XPK+VXV3iPTr2kYDPC//GcOQ91FkXrnmMQqEYIOL/XwWe1dXVg8CzpVPFPPdwlu2I5rUd0Ux3lvHUumCe/COYCXZio32hZwQHokuYbC+1gtcsZwnzXMKYsiWYHeeiBgmVh2XXMHpjqDWnOEj56nDyAF93iUSCRqPBLSSPz/Yn8Mwmsbk+xmLVmVjSOOTz2BdVwhRHqdXmcqZTGJPswtgTUWx9jEaj5WXvKJ7ZJOZVJ9hJeN5VWHImlvadt61LxXfHUnlxWyRPrw/h6XXBzHKRs9QnmgUeETzvKqqqMyyt9tEbhZXo4m0RvOatYKZDCF/tDiUtLY28knJaOvrmWGNiYm5KwulmsqWlhbi4uLsGnjcDsjbwtMWdhg08bfGXjdOnT/Pdd9/dNlC0tLSgUChoaGiwinvHxcUhlUqtm639F0qu1Yq9VqrzwjBvfVK0iS1akZ17X0PlM9OqnWnePsFShRyN2fVxTNsnYji12prG/S+jKh48DqDOuojxwCtixvDs1xiOvIshaMWgyltJagRtBz8S0khOD9Hj+jjm7RMxeU8Qs5ntzeKxne1oIzwx7n8Zw77FmN2esuhWPoX+yPvopE501+TT4/oYPY4P0OP0oEjHB+hxfgRlWyPaSG/qdr6CPmgFhqCVqDPODLgXVXkqmhg/dIqtqOMPYt72LD0uwy0OPr1i7X+3Li6ZHR+mx+EBjNvGYXJ5HLP9/Zjt78Nodz9ax8fROT5G9855tIS60nwD2aI7yYSEhFsHT6WoeupCN2M49hGGE5+hSTgwcKv/TymXy//bwDM9Pf2a4PmWXywveUVafc57wW6CnYSJdhLmbFUIH/Q/RLu51189r7SSmOR0jlyUESILJzsnh0Ue4VbR9zEbQxi5PoSZLnJCs/qcfCQSCVqtltCsGqtGp/BFF8d9f3xwdVan03E8sZxpTrIB4DnFXsKRuL72fF51Ky9ui+DZzaFMcRDV27Gbw5juLKO2tQ8OTyVV8JJXJJ/tT2Cmi5ynLc/9BTcFs1zl7I0o5peTGbzsHcWyndFCYspOwgKPCOZ7RPCqTzRxRbV8GxjPbOcwZjsG8+MBGVm5+YSHh9818GxqaiIhIeGugWdzc/MNQbanp+e/+59+W/zFwwaetvjLxoULF/jyy8FOP9fKoWb9Ll26RFRUlFXcu6amhvb29jsHlvYWjPsWC8ci139gdn8as8tjaLZNROU7l+7GCgxBy4VLzfaJmHZMxew+QsgTnVguwPPkKoz7l6AqHUJrtLMdbZQPxsA3MAYsw3BqNaqK9IGP6eqiJeh7OncvETqVzsNF69rtSQGenmMsM52daOWumLZPxOj7vEXT8n56HB8UwOwyHK3MBWVXpyAJc/MAACAASURBVGWxqD94DqPH4QEBsF2dxJw/gLownO7aIpRtzVbQ6q7Js9hobkcTtwdD4JuYXR7D7DPZah355zTZ3YfOcThGh4cwOD2C2e4+zA4PYHZ7CtPO6WhcnsJwYCmG45/SXZ1zT6DzTsCz9z1QNlWhbG244WP/J4GnTqfjjzOZzHFTsNQnmtmucp5aF8xkh76K4phNQmLp9Z3RzHIVcDZinQBPRV4tp5Mr+OKQ2Dz/V2Ai/mGpjNkg3INGbwhm5IYQnl4fzHg7iXUeVKfrs2wsqGljzMZQRm8MsVY7JzsIO8+hnkd9m5J57uGiEukiZ/zmEJ53kVHX2tdCl+XWsupgEs85yRi3JYxnLS5G684O3HS3u5jDUp9olh9I5L09cTy7IZgnLZabG89loVJr6OxWI82pZX9UCbKcWq5kVGN3MRs/RRFlDR38GJTOAo8I3tsdx9t+scxzU+BxPpErV64gkUhITU2lsrLyutJRN8rGxkYSExPvGnjeDMjawNMWdxo28LTFXzZCQkL4/PPPB/1C7ujooLa2lqKiokEby/1n/RoaGoTF4z2Ale7qXEy+MzD6vyQsGV3/gdl5OEbn4dSf34RSqcTkM0Us6FjS7PoPIcq+ex7G3fMw+UxGf+Iz6+ylAJlOlC211g3n7sZKITHUOQQstzej3PsqLQGfYNz9gqXq+Yilff00usu/We41B0PA65j8nsfov8iiGzmMHqeHhdORxyiM+5egVCoxHPvIcr/DrNvtxsNvW68ZFhaGsrkGQ9ByIQPk8hj6Cz+gTj2BVrEVTVIAmsQAdIFvYXZ8CJ37mAGWj+beP+3vx7htLPr9r2J2GCYcfOzEQpNp61OYdjyHxuVJMQt64rMhq8J3Ezyrq6vv2fn/u8GzqqpqSPBs6VSx5WI2CzxFFe/ZzWHMdJEzzz2cOW4Knt0cxhQHKW/4xvCGbwwvOAcz00VGSFY1GRXNfH4wiXVnMtlyIZufT6azKiCJifYSMSfqIGHCllDGbAhm0dYwior6HIR6wbNdqWa6s5ypjlJmOMuZ5apgop2E5fuvDVoFtW2sPZ4mqpV+cqKzBi4NpVxt4mvLbOnqwCQ+3BvPh3viyawYuGV+NL6Ml7wi+XRfArO3Khi7MZgJdmGsPCjkkvovQ10Lghd6Cuj8cG88H+6N57Ud0Xzkn0BERARtbW1UVVWRlpaGVColOjqa/Pz86zoGDXmd+nqSkpLuGng2NDTcEGRt4GmLOw0beNriLxsSiYSPPvqI3bt3I5PJiI+PRyaTIZFIiI2NJTMz87oby1Zv8XsBEq0NmPa8gHHfS8Iyc8dUzG5P0bXvDXKyM1G21AkHIAfRqu6xCLWbtz6B2eVxAX2u/8C0fbIVqtQFcrGE4/c8hsPvoi68gVd5VyedgR/Rvu9t9Oe+w7hnvmj7uzyGLmyztc2uKonBcOR9TL6z+oGnRSrJa1wfeHa0oazOw3jgFeuMp3HfS3Q3XB0AnoZjH4k5UMcHxTmcHkHpv4yaoF8oPbKWWt/XaPGZj8nhQQyu//yTJ7kFPB0fFMtYvY5CFhH7HqeHRRvefSSd7hPRXViL4cTyoWdJbeB50+CZkZFxzZ93qzWoNVoORJcw1VHKdGcZUx1lrDqYxEKPcOa5KVjiHck0uxDe2BlNZ7eaoMRyVgckseVCtjVXByTxy8kMJthJGLcljHFbhCD9ucRiq2amXC7nypUr1NXVodFoxAypg/Bgn2gvYZqTjKTS62tgdnarcQ/J43mnMF5wk+MZVmCtqCpVGrylBXx5KJmlPlGM3xLG2M1iY39NYBIX0ipRa7Q0tnfzeUCSBbjFxv5bfrFsvpDNF4FJHIi+vltUU0c3L26L5N1dsVbwfNUnipUHEwkPF//f9j6210WqsLDQ6hiUmppKRUXFDauhdXV1pKQMvcR0O1lfX09ycrINPG1xT8MGnra46/HDDz/wxBNP8B//8R9kZmZav19SUsLzzz/PqFGjeO6558jLy7vlc8tkMtasWcOMGTMYNmwYTz75JO+++y4hISFUV1ff8i/uoZx27lZqkgIx+c7EtHO6pfq5iKvJErKzs1EVRWLa8Rxm18f7qp4OwzC7PSW0NvfME7l9gthWrykQILt3EcbAtzDuXYhp73y664r7rtnejKo4WrTmLS3u6uijdO5ajOHw2xgOvYXh0FuoCgdu8ndX56K7uBbjnvmYfGcJ2LO7D7PLcFHxdB8hloXOfoXh+CfoQjagKooacO3ejX/J5bOiHW73d8tM5t8x2/0do/NwlAffFt7iFkH0HscHMTs/Iiw5He4X0O32lIBOt6cwbRuL2Xk4PY7DRMvf9Z9iMcr1cQy751G3Y7FwW8o4d0+B8P938OyfVxs7OJ9WieOlHD7aG89n+xP4yD+epTuiWeUXRlGNqBxeyahmiVcUM13EhvuHe+JYeTCRrMoWLqZX8a9Dyfz7RBpBSeVcyawmoaQRpUpDV1cXwcHBJCYmIpFISExM5HxsDpvOZeAZlk9B7Y1nI12D85jlKmeOcxgL3OXMchXw2fvzLguYTnOU8ZyTVLgybQplurOMd/xiOZ1cgU4n3In2RZWw2CuStz2D2XQ+S4DnoWT2XUd+qTcdLuUwx03BTBdRtZ3pIudcauUNnZlUKpV1/EEmkxEVFUV+fj5NTU2DqqG1tbXX1GC9naytrb0hyNrA0xZ3GjbwtMVdj+joaGpqanjiiScGgOfChQsJDAwE4MyZMzz33HO3fO7ERDEjVVlZSVxcHO+8885t/6Lv6uq6p+Cp7OpCVRqHNtIbTbw/3fUlFBUVCdu5qixMvjMxHlxq0fScjclnqqhy+s3qA89dz2P2Gocm4aBohR9+15omv+fRpBwT8FiZheHIuxj9F2H0X4Th5Od0N1ylpKSEgsgzaKN3oInxHTwHqlSi7OpEnXYS3YXvMRx8DZP7KKtWp9nlMfTHPsZw5AN0538QgvNBn6M69RWlhXmDRhmkZwIt/u4P9AG1/d8FaDoPFy1850fFfzs8gMlztIBNj5HC5clrPGb3kegPv4fZXWyymy0i9b1b+cY98+kuTSTh9A6660vuORD+TwTPrq4umpqaqKiouGPLzMrKypsGT51Ox79PpDPZQcpURxmTHaRMc5QRX9I4oJL32+kMRq4P4ck/gnnCkrNc5aRXNHM6uYI94cXYX8zhg73xfLBH5JYL2XR2q62tdo1GQ11dHZmZmcjlciIjI8nLy7tuO1ql1vCCRzgveUWycKuEl70ieHGbGBXIqmzhamMHWq2W1YHJLPGKZJK9xPJcpIzbEsZn+xP4IjDZev5utYZ1ZzN5wyOYdWcz+feJND4PSCKr8sY6nGlXm5jlIucZy3zqTBc5vvLCGzoz9U+tVktraytFRUVWebCUlBTKy8tRKpVDKhLcSV5LWssGnra4m2EDT1vcs+gPnk1NTfzf//t/MRqNAPT09PDwww9TWlp62+dPTU1l2bJld/TL/p6C5xBZXFxMZmYmyq4u9Jd+EtXQ3XMx+s3CuGeB0PvcPrFfxXMSxv1L0KQcGwI8Z6NJCxLnOr1GSDYFLcdw4jOMexeildhTWlpKevoQsDkEfHbX5KE/vQbztmcw+Uyjx/EhIW3k+CAmp0dp3P8BFQc+p8x/BU27XqMg6uygUYaoC4fEtnpve9zhfnrs78PkMdLSen9E/On8sGibOz+C0WeKWMLa+iQmzzHoTnyGJtoX477F6A8uE9Dp+jhmp4cxb5+IJv3Uvf/Q8D8IPPvrk2ZkZAwA/ejoaCQSCUlJSZSXl9/WokplZSWZmde3kezNsoYOJjtIed5VwRy3cOa4hTPJXsrXR1Kslbz6NiUT7SWM3hDCiPXCR33EumCe3RzGYq9IVhxI5GP/BCbaS3h9Zww/n8zgp6B03tsdhyyn1gqef862tjaKioqIiRHi9Wlpafw/9t4zOKozW9v+8VadH6fqfGdmzpnxzDhiTDJgMMHGEYwzzjZ4xhHbgG2cGNtjEyQkhAKIIAQokIREEjkIOrdyzmrlnHOWOidxfT+2upFAAkU8zOlVtapAvfvZe7dU2pfWs9Z9V1dX94M4jU7PM979wfPpreE87CJlZXAKK0NS8IsoYkVwCi/sjGKmq4zZbjLmuAnb/8uDklgelNQPbKtbulgdIGZFcAo/nswgMr9+SH2Y7pdzeWVXNMuDklkelMwH+xNZ4hvDeZEcnU6HRqcns1LQF7U5Mt0qbdXQzMxMFAoFCoWCqKgompqahtUbOlgOpfrtAE9HjDYc4OmIcYu+4Jmens7kyZP7vT5//nwiIiJGvL5KpeLll1++o8CzpKSEzMxerc2OVvQpRzCdW41BvhlNdTa6AiVW31n07HyYnp3T6Nk1C12eFE1jOZYDLwiQGvQaloCnsRx4EU1TFeqWWiz7nhMGbU5+IuTR97AEv0lZWRnp6ek3vSZtnhTjudVoz3yF2XsyOp95mDzuEabIXX9vnyY3e09CF/Yrxiu/Yj7yLtrSpBvWkosuYTr1Bdbdc+wT7z1e92I68xVXve65pgHq8Rdhe93rXswHX8Li/ySW/c+jj96DLus8+vj9GEXrMQe/KfTI7n0MU+gnaPpUbG/X9y4pKYnq6upxP49SqaS1tZW6ujoKCwtJS0sjMjISiURi1yctLi6mvr6erq4u+1a7Xq+nrq6OzMxM5HI5sbGxFBUV0dHRMebgmVbewpzNcp7ccg0852xW8J5/vB08C+vameEqY+L6axaSkzYIUkiPuslxvpDNypAUHvNQsMBTybfH0/jpVCYf7E/E5UI2q/xE7JDmU3iTbXWNRkN4eiGuodG4BkuQRcZSXFxMR0cH7pdzWeCp5GkPCYu2hTPVWcJLO6NxC8vF5WIOnx9OxlucxwJPJZM3CFXZCetEzHNX8F5A/IDb6FKplG6NDr1+6HC3+lgab/vF2cHz00NJvLIrmuDzUsobO/jqSCpv7onlzT2xfHUklco+HvdDSYPBQFFRETExMXa3tJSUFHs1dCTgOZSfBUc4YrThAE9HjFuMN3gWFBTw3HPP3VHgWVZWdssKpKY2D0OsH4aYPf1kgrQVqZjOfYVl/2JM575GW5EmvNbZjiX4LaGHsxc8LUGvYjr71Y3g2VJDV2U2NVUVFOTnU3P8Oyyb78Li9kcsbn/kquvvMG6b2qdi+b+9g0Z/5urm/8UU8g49W+7nquc9WP0WoE8OueHz1BRGYTr9hVB5PfgKlgMvYIj2xXR6Re9w0O/sUGo+8CLmQ69iCVyEOfhtDFfWoss6jy7zHIaYPahr8tCWxqMpS0aXHYY+PhBd1jk0TRV3PHjaJptt8l5hYWFIpVL7YFxZWRnNN9EnHajH02Aw0NLSQl5eHpGRkYSHh5OTk3PTilhlZeWQwVOtFSqKj/bC5xO99pR+4UX2LWStTs/i7ZFM7NXrnNyr1/mwi5Snt4TjfCGbH0LTecxTyXwPBatChEriQu8IHnaRMnWDSBgk2qwgcRCx+KPx5cxzF4ac5rkrWOQdTnhSFpGRkYjlSn4MieExNzGPeyhYtC2CjReycQvLxS0sl+9PpOMels2z3hE8vFFqh+KHN0rwuJxLh1p3w2c6WBX2ZhkUW8oLO6P45FASy4OSecsvjvcDE7gslrDxgoo39sSyKiSFVSEpvLEnlo0Xs4d9joqKClQqFUajEZ1OR21trb0aGhUVRW5u7rCqoX3Xc4CnI8YrHODpiHGL+8d5q720tJRnnnnmjgLP8vLyW1YgBUCsFQBMdRF1W8Mtj9dnnMay/zksB57Hsv95LAdeRFsUTUFBAbGxsaiyMig9uZ42nydp37mA1oDXKZcfwLJlAlave4Tt7G0P9Zlov+ZO1LPlfnq2TeSq5930eN6D1fshoS/VbwE9u2b1s8WUyWTCtntzNdriaHR5UoyidRgitmGID8R0cQ2WvY8J/a27H8N88GUBpE9+ijn4TYyX/yncd/opDLH+gmtTRwv6pMPo4wLQpYWiT9iPPn4fCtGFOwI8u7u7aWlpoaKiguzsbBISEpDJZCgUChITE+3yXgqFYsyHizo7OykpKbFXxNLT06mpqUGnuwZXwwFPo9FIQkkTz3hH2Hs8vzqaSqda1693MbW8mTmbFTy4Xthun+EiiKu/uSeWDedUOJ1X8ZpvDI+6yXnPP573/OPtNpSzXYR+0JmuMv6+P+GG87d0aljgKYjUL9oeyaLtkczZLMfpvABMXV1dlJaWckUk5sg5Ea9ul/FxYAy/ns7ALSyXVSEprD+n4rXdMawITmFFcAqfBSXzsk80Z1IrB6wsymSyYUNhW7eWH09m8MquaF71FYT4E0uaEIklvO0Xx2dByXx5RPCq/ywombf94tAOccvdluXl5eTk5Az4Wnt7O8XFxfaft+TkZMrLy+nu7h7Reg7wdMRYhQM8HTFucf91w0ULFy7sN1w0d+7cUa1fXV3N448/PmrwHC/Hm4GyoqKCtLS0mx6jLU3EuvdxenY9IrgMBTw1qGe7LTs7OmjKENN8fh3Vp34l5UowistnUcqlKBQKqqOOYghYhPH4h4IjUvCbgnSSx1/o2fpgbxXzr3YZJKv3RGG4yP0uYfjHeyKms19i3TUL6/7F19JnJkaFh/065HL5DTaV2rJEjAp3jKL1GCK80VRmoi0Ix3TkPcyHX8co2oBRuhHLoVcwSF3RJxzAEOVjl5HS1OZhiNktAGnWefQxezCe+Jiy/R+jyxUPaCn6W4GnrR/T1lJh68eMiIggJSWFgoKCQU0KxnuqXavVUlVVRWpqKjKZjMTERMrKyigpKblllev67NboSCptoqj+2na+QqGgrrWT/VElfHc8nS2iPHwVBbhczGZfZDGqqlY2XczhWe8IHvdU8saeWEITy7mUUc3F9Gqmu0h53FNhB8+57kIv6fXnzqxsYZ6Hwg6di7ZH8rinkrf9+ls9yqPi+P5oEk95yZm5UcwjG0W8uEXM5/ujOBSZz2u+18BzRXCK0H+ZVnXD+fR6PXK5fNjgaYNWVVUr8cVNVDR1ElXQgN9JMcuDkvj7vgQ7eP59XwJfHE4edp9mWVkZubm5tzzOVg21DWpFRkaSm5tLY2Njv+G00tLSW67nCEeMNhzg6Ygxjy+//JK7776b//f//h9/+tOfmDhxIgBFRUUsWLCASZMmMXfuXHJyckZ1noaGBubMmTNq8ByuFeZosrKykpSUlMGP6e7GEvIWPbtmYt23EOu+hfT4zMAc+pEdbFqaGqhPvkiFMoiUGLlduzQ+Ph6VSkV1ugK1aCPGSz/ScXE92eFnMMpcBYejMyvsaQ14Guv2yb1STr1T6Jt+R8/WCWhq89HligUJpVOfocu6gE51SRh82vMY1t1zhff7zMQQueOm4KlWqwV5p5Ya1F3XXtM0VWCI9cN4+Z8YJc7oMs+jzVeiy7kitBjYRPJrcjFEC+CpjwvAdPJTTMc/oHj/FxhlbujST6GpUqHLPINOdWnMNT0HA0+bUcFA/ZgZGRkUFxcPqiE7UN5OOSW9Xk9DQwMqlQqJRIJUKqWgoIC2trYRD6mIZXK+PSb0LX58MJF3/OL46EAiyaVN7IsqYdOlHGa6ypjiLOGh9WKmbZTy0ylhkEWr07NoWySz3GR28JzhKuOrozdK+9yq4mk0Cl7rb+2QMdVZwiObZMLA0Y5IXvaJJDIlG5Eympe2iHnBW8Yyv2je2BPDewHx1LTeWA3U6XQoFIoRfSa2TC1v5sMDibwXEM/zXiLeD4xniW8Mb/nF8paf0Ocpz6kb9rolJSXk5eUN+30dHR2UlJT0q4aWlZVRUFBAfn7+oO8zmUxj8YhwxP/xcICnI+7YaGtrY+bMmaOCikFBaZyyqqqK5OTkwY9pbxJ0PAOexhK4EJP/0+h3zcewbRrRUVGEXz5Ny54X0G2fiWHnbIx7FtCd20cEv7ka45VfMcjcMMTspvPiOupDVmCQu2M+9Mo18Dz9OZYDL2A68XH/CXT3u7AceAF9YlA/SFSr1aibKq+J3rv/SdDX3D5FcE7qPUahUAzfcrSt8aYe5ur2ZvSJB9En7Mdw+RdMJz7GdOZLckL+iT4pCOO51RjDfsQodcUoccYodUFTVzCm4FleXm7vx0xKSkKpVNqNClQq1S37Mf/VwLNvlpeXk5aWRkFBAdHR0SiVSlQqFQ0NDcOSavI/LeWtvbGsPprKN8fS+OZYGi/ujOYJr3AW74hipquUB9YKA0d2u0pnib1qGp5Xz5zNCmY4i3i015qzb0W1b9p7PN0VzPNQ8PyOKMoaO+2vb5fmM81JxCObpMzdrGCmi4wlvoJzUHHvmtmVzXwXksBL22R86CsmVBJDSUkJnZ2d/c6l1WpRKpWD3vetQF2r07PqSAofHUjkuxPpLN0hiNE7nVexXZrPdmk+qWU3F8UfLIuLiykoKBjRe/uCdV1dXb8/QnJycgb8/jvA0xFjEQ7wdMQdG93d3UydOnVUUDEiUBpFVldXk5R04zR4a2srlZWV5OZko/Z5DM3WaXRun0v3zvkYtk9HF/iisC0md8e6ew6WQ0uwBL2G1f8pLAdfRN3ZhlqtRlscg+nSjxhidmOI2U27ZAsNhz9Flx6K5fDrWIKWYD7yHpb9z2O8/E+0BeFYAp61T5WbTn2GddcsQVcz4BkMkTvRVGX2Dgd9Iehs7niYq5730OM9EevuOf2ci5RK5bh8npqmCnQZZzCeWYXp9BcYon1RHduAPvEA5qAlGJQeGOL3YYjfh1Hmhj4peETnsfVjlpeXk52dTXx8PFeuXEEqlfbrx2xraxvze/ytwNPWe2r7f3d3N2VlZSQmJtp1I6uqqgbUnqxvU3MgugTnC9l86SfmrT2xduj85lgas90Ep6OlAfFMcZJw/1oRD6wVPM+nu0iZ4SpDnnut0lfd0oVriISLGdW0d99c61JV1cq+qBJOJleQU93G6ZRKwjKraWxXs8Q3hvmbBJvLxzyUzN2s4JFNMj45mEhr143rGgwGGhsbycnJISIigoiICHJycmhsbEStVhMefuOWf1ljJ5su5bAsMIEfQtNJKh14EKq6pYt3/OL49nga351IZ9lOMcuDkvl6gGrucLOoqIjCwsJRr2PLwsJCcnNzKSkpsX//k5KSKCsro6urywGejhiTcICnI+7YMBgMPPjgg7f1YT8W4BkbG3tDD2B4eDjJycnk5eXRHBuM1Wcm1p3ThfSdjS5PGIIyB7+FJfBZQVIp6DUsh5Zg3TMXTWkC2uIY9CnHMF5ccw08pVuoP/wp2tIEtJXpGKUumM59hT7xkFBpbK3HfOxvmE5/genSGqx75nPV/S6su+dh2fdcr77mffR4T+x1Efoj1sBF17REA55GV6Ac+efZ3Y2mvkioUF5fYb0ePuuLMSi3YD78Jsawn8gJ+RmDxBnz0aUY4gLs4GmI2N5v+/9mkDmUfszExESqqqrG/Wfjt6x49gXP66thNpFyWztHSUkJXV1dNLSrWRoQz8JtkTy/I4q5riLmbpbz4f4EVh9N5fOgZB7eKOX5HZHM2iRn4vprYvIT14uZ6ixhqrOU2j7b23q9/qaDPFmVrQTHlaHMq7cP4ihy65jvoRBA1kXKAi8l890VzHEV8Uiv1eZ0FynTN0o5n3bj8NBAaRvKSkhIQCqVIhKJ+llYdml0rAxJ4T3/eFaGpPLB/kSWBcYPKAHVpdHx0YFEvghOtoPn0oB4PK/cujdzKKBYVFQ0ZuCZn59PSck1OSmbiL9KpSI8PJyEhITf+te+I/4NwgGejrhjw2q1cu+9947qYR8REUFra+u4gIRNLic/P5/k5GTCw8MRi8WIxWJ7D6BNk/H692rLkjDKN2NQeqKtvDYFb7r4PdY986+B5/7nse5+FNPZVZjOrMR8ajmWgy9hvPAdBoUH3We/p/rYt6jbmwa9Tl2BEvOxv2E+/AY9Hn8R3IEOvYLl4IvCtrrr7+jxutc+6d6z5T4sIe9iCX4Lq/8TaKqzhbVa64m/cpy25sahfUat9Rgid2A6vxrTua8xKDajaaoYGDobyzBe+RVj2M8Yz67Csm8xDb4voMs4gyFyJ0bZJgE64wIwitahy77c7/2j6cdMTk6+beA5nGrx7QDPvmkwGGhqaiInJ4fw8HBcj8h50kPGu34xLAuM5wUvoTfz5V1RPOIq46ENYma7yZntJmOas4RZm2RMWCeA54R1IiY7STh4nWbmzQZ5PK/kMcNVxqxNMma6yvjbvgRaujQ8tSWcab0T8TNcpExYJ2Kmi1TYancVBpbmeShwC8sZUf9qR0cHcrncrpMaExPD2ehM3toTzbfH0/j2eDrfHk/nHb84DscO7OEellHNu/7xvOsfx2IvER8dSCS/9tb2n8MFxdFmbm4upaWD+9Brtdrf+te+I/4NwgGejrij4+677x7Vwz4yMpKWlpZRrdHXWSYrK8tubWeTy8nJyaGyspLW1lZqa2uJj48f8bm05SlY/Z/Cumcu1t3zsO6ei8VvAdY9jwlOPxe+xxT6sQCeSk/aoveTGikeAgTWoc2X2Z2SLEFLsO6ey1XX/+bqpj8IcktbH+Dqpj8IVpd+C7D6zsZ85F10aScwKL2wBjyN2nsmpoOvoC2KuuU59SlHMZ37GqNyi5Dnv8UQtWtgOM46h/HSPzBE+wgZuZ0q/6VoGkrQNJZhiNyOUbwBo3gDmthAqksLBu3HLC8vH1Y/5r87eJaVld1SQmegdA9T8bSXnFe8pby4RcwLnld4eouChzdKeahXG/Oh9WImrBMxaYOwvT7DRcoLO6J4wkvJkfjyG9YcbJAnt6aN6S5SwaLTXcGczXJmusrwkRcw1VnCHDc589wVTO0Vq5/iLGGeq4iJ60U8tEHM+/sSqG8bXEboZtnV1UVUVJQdvltbWzkTlcmLWyUs85HwiX8EK4PieccvlkMxA0ObwWAgq7KVQzEluARLqBqmWPxgmZeXd1NQHG7m5ORQVlY26OuOrXZHjEU4wNMRexmtlAAAIABJREFUd3SMFjyjoqJobh66HE9HRwc1NTUUFBSQmpp6g7NMUVERdXV1gw4s1dfXExcXN+zr1DRVosuXoysIR1OWJICWdCPGM6sEbc0dUwU43D4Z08nlGMUbUKvV1NXVDQt0TWE/YfV9FMv+xfRsmySAps0rfdsketz/jNV3NqbQTzAHLcF09kvMwW/Qs+V+LPsW0+q7CLPfk1h3zxU0SK+vtLY32/tRjVd+wSjZiDF8q5AKT0znvx1QHkmfHIzxyi/XwDPah8qAZbSVpgkVu6wM0pTnibocikIuJykpidzcXKqqqkbdj+kAz4FTllPHwm2RvOsfz9KAOBZ6iHjERczk9SImbxAxxUnYTp/sJFQ7X9sdw6eHkvhwfyKv74mloulG+BoMPE+lVNqhc/YmGY+4ClXU1UdTmdG7nT7XXSFMzG8QM8VJwqMuIhZ6h/OMdwRv7ollu3RkQzidnZ1ER0f3+1qHWsfnh5N5zz+OT/fH8JaPnBe8RJyRxVFaWkpX18BgORYT8sMBxeFmdnY2FRUVg75uNpt/61/5jvg3CAd4OuKOjtGCZ3R0tH2AoG92d3fT3NxMeXk5KpWK+Ph45HI5crmchIQEsrOzh105U6vVNDQ0EBsbO6xr1FakCoB3cjmmU59huvgDmrpC1C21WAOepmfHNEHmaPccrNunYPV9FH18IGq1msbyPMqO/4z55CcYJc5oqlQ3P19rPUaJM1a/J7D6zMTiO1vQ8fS6hx7Pu+nxvBut6gKms6swip0wyjdjOfgSPV73Yd37GJ07H6NnywNc9fgzVr8FmEM/QVNfjLqlFkOUD+aTn2I6sxJ96nEMSg9Ml/95DTwlzhiv/IK660b40pQloT39NS0Xnag5u56qwysoCviYSKUw/GLrxxwPhYLbBZ7DHXQbS/Acihbk9anV6dl0KYdF2yN51juCaU7CNPrE9QL4TXESM3mDiIfWi3jLN4JXd0Xxxp5Y3tgTy8X06oHXHGSCPLm0mRkuUh5cd61P9P61It4PTOD742lMdZYwbaOUib0V1hmuMha4iXjSS8lbe+NYEZzC0oD4IXui94PMjg5iYmJu+HphXTtrz2bxXkA8Xx5JJTKvjoaGBrKzswkPD7drZfZ1DrrVhPxYg+JwMysri6qqG7VMHeDpiLEMB3g64o6O0YJnbGwstbW1/fr/oqKikEgkREZG9oOasZjWbmxsJCYmZsjHa+oKBeA88ZFQ4ZRtwnRmJYYoHzR1BVj9n8Cy/3l6dkwV0nsiVp8ZaOqLUHe2oz3+CV0+j2EOeRvLgRewHH5deO1W5+7uQtNYgeni98J7A5/FErgQXdoJNDW5mI8uw3hlLUb5ZqE3dMv9WH1nY/S8H+uW++nxuhdLyDtYDr6EQemJIcIb84kPe/s0f8J8/O/oY/2E/s4L32O69A9MZ79Clyejs7OT2tpaCgsLr1WVxSJyzm6j6cgXdJxYRfcVJ6IujGxy3QGeYwOeRqMRtVbHDyfS7L2bD/UZIJriJGHyBglTnCRciM7gjDicfecUxKVmDWrjqNFoBpwgNxgMzHdX9IPO+9eKeHC9mAtpVfx8KoMZLlKmOYuZ4izA55QNIl7aGcmXR1JZfiiJjw4kohuG17ot29vbiY2N7XctBXXtyHLqSC1rpkOtHfBeOjo6KC4utrtGpaamUlZWNqbgqVKpqKwc2sDUUDIzM5Pq6oH/KHCApyPGKhzg6Yg7OoYDnn2tC3NyckhMTLRL5djE18vKymhqaho3N6Ompiaio6OHdKwuT4rpzCqh79LvScxBS4Qq45VfMV38HnVXJ+Zj7/dOuS/BEvAMVp8ZGJReqNVqtMXRmAIW0ez/OuaTn2I++SmW/YvRJx4c+jW3NaIrUKBTXURTm4+2NFHYhvf4Cz0ef8Yc+BzGiz8Itpo7Hsbs9id6Nv+vMKS093HMQUswH12GOfRjjKJ1GCVOGMUbMJ1bjfHKWjrL02kJ30PdZS9UilB7P6bt+3FDVbmtQRCI7+q4bXanKSkpVFZW/tuC51DcagbLn05l8MD1MNhngGjiejHfn0hDrRUqjV1dXTe18BwMPLs1OqZvlPY7j+283x1Px0dWwN8CE3jCS8kUJwkP9F7DdBcpywLieWNPLCcSR1YZbGtrIy4uzg6dIXFlLA2IZ1mAYPXpfjnXfn+DpVarpaamhtTUVMLCwoiNjaWwsHBUgv02ULxZhXK4mZ6eTm1trQM8HTGu4QBPR9zRce+99w64vdrV1UV9fT3FxcVkZGQQHR3dTyonPz/fLm1UV1d3WwBGrVbT3NxMVNStB2/UrfWYLnyHUbJRGPYJXITF/0lMpz63VzzVajXaynQswW8KA0f+T2K68J3d212XJ8UY+BzNAW9cA88Dz2OI3oW6o0WYIO8ehmtTe7Pgz+7xF0Faye1/uLrp91j8nhSqmCHvYN30B6wef8G6Zz7WvY9j3T4F0/lvMJ38FO3Z79AFvoBh2zT0WyfR6PsCCrmgE5iXlzfsfkwHeI4deI7E/Uat1TPVWXJDFdKW0zdKeXKLkgVe4Ww4f6Ml50AWnkVFRQNWBLU6PbPd5HbYfKAPeK47l8XqY2ksDRT83qc4iZm+UcqEXtmm57dHEpZRPaJqp9FopLW1lfj4eIxGIyUNHSwNjGf10TTWhGbw/Yl03vWPJyK/fkhrdXV12Qca8/PziYqKQqFQkJWVRV1d3bAE+41GIxkZGdTU1IwZeKamplJXN7iDkgM8HTEW4QBPR9zR8eCDD5KVlUV4eDi5ubn2KWapVEpsbCyZmZmUlJTQ2Ng4oFROYmIiNTU1tw08W1paiIyMvOVxmupsTOe/wRi+FVPYz0I1c/ccLAHP9vZ4FgnQ2NWJurMNbVmyIGvUt1LbUoPx4Cu07V6IOfQTzEeXYtm/WNDCPLoUS+9wUF+5ppultjiWqx5/FXo+t02iZ9tDQi+nzwz0CQcFuNwyBavnPVg978G0bQrGLZOoPLyKBt8XMXjch8nzfozbpmPxnoTF70lhAGmEn6UDPMcGPEdqu9it0fHgOlE/fc6+1cjnd0SyZHcML++K5skt4QMOE9nSZuGZkZHB5cuXiY6OvsHC01ucZ9/S76sHGl/cyFZxPou3RzJpg7jXFUnKlA1Cz+kH+xNG1Ntpy5aWFhISEjAajUTm17MsMIE1oRmsCc3gh9B0lvjGsDI4hROJ5Te9R6Nx4EEltVpNeXk5ycnJ/QTbu7tvPYV/qwrlcDMlJYWGhgYHeDpiXMMBno4Y9ygpKeGJJ55g0qRJzJs3j7y8vBGvpdVqOX78OL/88gsvvfQS//mf/8mECRP46quvRlQ1G8yHe7yytbWViIiIWx/bUitUPGWbegdvNmIOeVsQRm+uQpd9yd4vqUsLRd0xsCRUe46clj0vYtm/GEvQEgzyzVgOvYop9BNMZ7/CfORdzMc/6D9J3tWBtiQOXXYY2spMO8xqShO46n4XPVsnXpty9/wrFu/JtIV+Td3RL2ndNp+WnU+h3TqNrr2L0PktxOj/LKbgt+jx/Cs97n+mZ9csLCHvYD72PqYL3zrAcwTg2draSllZGXl5eTdYPN4u8DQajTy5JZwHerfV+wLhrE0yluyOYcnuGF71FcAzs7Ll1jDb3U1ERARtbW12C0+FQoFKpaK2rp5tkjxmusp4cL2Iac5SpjlLmLhezJNbwnl5VzQT1wsyTlOdJTyyUcRsNzk/nEhHP8Jqp9FopLm5mcTERIxGI3k1bSwNiOe74+msCc3gHb84ZrhIedU3WhCJP5wyoIi8LQcbVOoL4DbBdqVSSWRkpGAq0dw84Jb8rSqUw82kpCQaGxsd4OmIcQ0HeDpi3OO5554jODgYgLNnzzJv3rwRr9XZ2cmPP/5ISEgIWVlZTJ8+fVRQcLsGR2zZ1tZGeHj4kI7V5YiEbepzX/cKrLujbmsQvn72KwxSVwwyN8GJKOXYgGs0NzcTFa4QpuDbGjFE7cB8+A37mqZzX2MJeg1tSa/EU0crRqkL5iPvYT76HuajS4We0O5u2ltbMe18BOvmP2F2vxuT258xu/2RFv/XaT62ihbRZlp3P4dx3/NY9r+AOfhNQXrp1OeYzq8WJJ92TMPq/xSmc18L4Hn+Gwd43gQ8+1p4qlQqu0aszekqPT2diIgIO6C0trYOu2ewpKSE/Pz8EYFKXFEj03unzW0+7P84mc4CLyWv7IrmVd9onvGO4OVd0bfsgzQa+2tm9oXR6y0814Ym8eB6sb3iOmGdiGkbBa/4qc4SZrpKedhJxKu7oonIGx2YNTU1kZSUhNEo9Hj6ygt51z+et/3imOkq41nvCH46lcGvZ7P45GASu+SDW1heP6h0q+zo6KCoqMj+fU9LS+tnX3qrCuVwMzExkebmwX3jLRbLGD0VHPF/ORzg6YhxjebmZv7rv/7L/gvr6tWr3HXXXZSWlo7J+nPmzKGkpORfHips2dHRgVKpHPLxmroCdPkytKXx9qqmUbIRg8QZQ8Q2IeXuGC+tQd1xowPT9Vv7+jh/zIdfvwaeZ78SwLM8BbVajS5fhjnkHXTnv6fz1GpaQ5bT5vcS0ZeOolQqyZYdxbDjEaye99Kz9UEsQUvQ1ORilLlglLtTcfQHtEc/EHzeL/9T0Pq89A9MYT9iCXyWHu+HsO6ahSn0YyyHXkGXdcEBnr0pl8tpaGigrKyMrKwsYmNj7X3JqampFBYW9tOI7ezstG+1d3R0UFhYSExMjPB9ys6msbFxSBA6GvA0Go00d2o4nlCOU5CYhnY1nWoda0IzeNIrnKe2hvOiTzQJJf19zOvb1MQVNZJd3davGtnZ2XkDePZNnU5HdlE5T3pImNBbabX1ez6wTsR2ST4HokpYGZzCir0ikkuG9hncLBsbG0lOTr52DXoDiSVN+EcU86pvND/2QuevZ7P46mgqv5zJGnStvoNKw02tVkt1dbXdvjQuLo6IiIgxnWpPSEigpWXwyrQDPB0xFuEAT0eMa6SnpzN58uR+X5s/fz4RERFjsv6CBQvIz88f8cM+LU0QIL9d4NnZ2YlCoRjVGkapCwaxE4aIbRivrBW2zU98OKDw+vVb+5qaXMwh72AOeRvTiY8wH3oF7ZmvKS4sICMjg8JQJxp9X6DmwMc0hnxOe+hX6A6/gzq/zzW3N6MtjBSqpL2am5pqFUapCw37lqI99aXQu9nVgeniD5hPfCDA5/nVWH0fFabdT3yAPvX48Iab/o3As7u7m6amJkpLS+0+8WFhYURERJCWlkZRUdGgdqp9f5YG6vHs7u6mtLSUhIQE5HI5GRkZ1NbWDjq4UlxcPCrwtKVUKrX/22AwUFjXTnJpM51qXb/jwjKredU3mkXbInhlVzQul7LtxwzUA2nLDrUOaXYtfuFFzN0svwacfXK6s5gnvBQ84x3B854iogvq6dboRnVfDQ0NpKSk3PB1jU7P9yfSWRGSwq9ns/jlTCZ/35/A8YRy6tvURObXk1Ta1K/S23dQaTRpMBhobm5GqVTaU6VSUV9fP+wBpb4ZFxd3075hB3g6YizCAZ6OGNcYb/B85plnyMrKGjEApKenU1ZWdtvAs6urC7lcPrTju7vQliagTw9FW5Zs77XUJ+zDfOAlLHsfF2SMvO6lZ8dUYdv6uqpn3619mz5meeIV6o98SaP/6+QHryEhXGQfwmpPu4A55B1MYT9huvwzpgvfYzn0Krr0k2gaB/+cNHUFGKWuNOx/H83p1Rji96Fub0ZTrRI85I++h/nIuxjF61E3V48KOPuC53jJXvXN1NRUKioG9pAfKmQ2NjZSUlLST2EhKiqK9PR0u0+8XC4f1nDRYOB5fZWssrLSPriSkpLSb6vWBp4FBSNz9RkMPAfLquYunvWO4BnvcF72EeDz6a3hXMqowmAwUFbbhEgZNWCVUqKqJTCymIvp1Xx5JGXAgaaJ60Q8sVnME24iHlx3hQnrRMzZLCcgsnjElc/6+npSU1MHfE1V1cqqkFQ+OpDIh/sTcbmYjSKnjo8OJvL3fQm8vy+Bn09n0tihxmgU+kVtg0pjkbYKpa0dISkpCZlMRnJyMuXl5UMaUOqbMTExtLcP3qPqAE9HjEU4wNMR4xrjvdX+/PPPk5aWNmIoyMjIoLS09LaBZ3d3NzKZ7NbHdnViDPtZqBDunoPV91GM0o3oVBcxnVyO+cALXN38v4KF5e65WIJexbpnHka5G6aLP6A/9x1NiadQZWVx5coVFAqFXR/T5rpke2D1O29HC0axk9DjGfI21t3zsAQ+gyn0U0ynPkOXIxrwWg0R3hilrpSdXE+nYrsw9JTT6xHf0Yq2IhVNtWpMgPNfGTy7urpoaGiguLiY9PR0oqKikEqlREdHk5GRYVdYGOi6hzvVPhTw7Jt6vZ7a2lr7Vm1CQoJ9QGk8wLOurRtVVSttXdcg93RKJY97Knlzbyxv7o3l9T0xPLpJzis+0Xx/PJ1PDybwsreEn09lUFB7DYA61Do7dF7OrOFiejWLt0fYJZUmO0mY4SJ4xM91V9h7Th9YK2LqBhEPO4s5EZWNWq0e9n3V1dWRlpY26Ott3VpSy5rJqW6jQ61lRXAKK4NT+OlUJj+ezGBZQDzBcYKtZd9+0bHI+Ph4Wltbb/g+19XVkZWVhUKhICoqivz8fFpaWm4J39HR0TcdVnOApyPGIhzg6Yhxj4ULF/YbLpo7d+6Yrf3qq6+SkJAwYqjIysqiuLj4toLnULaIdXlSrL6zsex/XtDx3L8Yq+9szMfex3hlLeaTn9LjPZGe7ZOx7JqNbv8rmLY+hMHzAdp2LqB95xOofeZTJfZFKpXS3t4+9OvsbENbFIVR6YU5+HWM4g2Ca9LlnzGd/lyoWPYeq61IRR/tiznkLYzSTb3guQODwkPQCx3Hz1Imk910K3qscjDwtGnFFhUVkZaWRmRkJFKplJiYGDIzMyktLR2WGcF4g2ffNBgMNDY2olKpEIvFyOVyioqKRjUhbwNPg8FAcGwZywLjWRoYz4cHElHm1tHQrmZveCFz3eUs8Y3hzT2xPOahZNIGMY95KJjtJucRVykvbhXzkk80nxxMpLpFkCfq1ug4GF3C+bQqO3h+FpTEw84SZrhImL5RwoR1Qs/nrE0yO3ROWCdIKk1zlvCxfzhyuZyYmBgKCwvp6OgY0n3ZYH0ox5Y2dPC3fQn8dCrTniuCU/i1t+/z+n7R0WZsbOwtfwba29spLCwkNjYWuVxuF+3vW/W2ZWRk5KA+8w7wdMRYhQM8HTHuUVRUxIIFC5g0aRJz584lJydnzNZ+8803h+wENFCqVCqKioZgITmGORTwNMTswbrrEQE6e9PqMxNjwLO0nv2Z5sMfY/K4F53HBPRbJtG19zms7ndh8p2L6fiHmE98hPnwm5iC30Ix1K3961IfH4jpzEoBOnvTfOozYdtfrUaXr8B07muMF77D4v80ln3PURPyJZ2KHRhF69GlDjxpP1Z5O8GzrKzMbquamppKRESEXSs2KyuLsrKy/g5LI8iRgOfNtkWHmoWFhWRlZZGbm2ufkM/Pzx/2hLwNPJNKm3jXP46vj6byQ2g6XwQn89ruGJzOq/jlTGYvZMp6XYbEzHCR8tz2SOa6K3jUTcZCTwmfHkpiiW8M59OuufLEFTXgF17EicQKNl7I5rltkXwWlMxMF+kNbkZ9K6Fz3RU87CLll9OZGAwGWlpayMvLIzIykvDw8FsOYtXU1JCRkXHD15s7NRyOLeXHUxnskhdS2thJW7eWjw8msfpomh08/7YvAf+IYozGwftFR5oxMTFDBmijUXCGqqqqIi0tzb4DUlxcbF/D1g/uAE9HjGc4wNMRd3QsXbp0WFPi12d2djaFhYXjDi99cyjgqUk/g9nnEbR7n6V799N07FyAZssUmvxfpyX4Y9rO/ROj/zP0eN5Dz46pWPfMp2fLfZiD3xKg88RHmI8sxbz/eRQyyYiuU5cdJlhdSpwF8BSvx3zyUzT1xai7OjCK1vZO13tjOv8NFv+n6PR9iu7zazBKnIXjxvFzHC/wtPXCFhQUkJKSglgsRiwWExcXZ7fxHLBNYZT5W4JnYeE1CaCRTsjbwPNgdClLA+L5ITSdH0LT+eZYGgu8lPx6JouQuDI2ns9ioXcEz26NYI6bjBWHk1niG8OczXLmbJbztIeYjw4k8o5fHCG9W9RGo+BelFHRwqnkSr46ksryoCQ+3J9gn2jvC5zXBOYF28yZrjKSS2+UCbJZeCYkJAxo4Wk0GoVJ8owMiuo7KG3sxGAwoNHp+fFkBm/tjeXjg0m86x/HJ4eSqG3t5mJGNX/bl8DfAhNYFpjAqpAUu7D8zfpFR5K32hq/WRoMBpqamsjNzbVDuFgspqamZtABJavV+lv/ynfEv0E4wNMRd3R88MEHSCQjAyu1Wk1OTg4FBQXjCkjX5/Xg2dbWRmVlJQUZCRRd3E7WSQ8iw07S6v8qxu3TMe2cicXnEUynPkNTmYHp4hpMp7/AdGo5ptNfYJC5oU89hvHyL1gDn8V8/APMxz/AGvgsBtF6Yi6FoE88hD4pCE1t3rVzd3f1dzq6PlvrMYrWYgr9WDhX6Mfokw4J72lvxnThOwxKTwwR3hjCvTFe+J42v5dpTjwl2HGO8+col8sHtEsdTnZ0dFBTU0N+fj7Jycn9vOKzs7OpqKggOTl5VMNFdxp49k3bhHx8fLx9Qn4ga0eDwYBMJsNoNHIurYp3/a+B54rgZB7zUOJ1JY+QuDJC4srwvJLLVlEunx5MYk1oOl8dSWW2m4zpG6Us8pLyjl8cy4OSSC0fWFPyUEwpK4JTmO+hEIaK1otv8Iuf0Aui89wVSLNv7e5zvYVnQkICpaWlJKoKWLE/kr/tS+D9wAQ2XsgmJK6MV3dFs/pYKt8eT+fb4+m87RfHqeQKDAYDqqpWjieUcymjmob2axXE2tram/aLDjdvtTU+nOzq6kIikdghPCUlxf5z7wBPR4xlOMDTEXd0LF++nEuXLo34YZ+Xl0deXt6I3z+c7O7uprm5GZFI1E8MXKlUkiM/jt5nLuadM7HuegSr/5Noi6PRp4VilG9Gn3H6mjtRRwvairRei8xrFT9NUyWmc19j3bcI675FmM59jTbrIq0+T2E5+DKWQy9jOfw62nw5+jg/zCc+wnT6C3TppwYf+mlrRJcnQ596HG1ZUr/jDNG+GC98hyF8K4bwrZjOrab4nOdtsyAdLnh2dHRQXV1NXl4eSUlJKBQK5HI5CQkJ5OTkUFlZOaDrVVpa2m0Dz+Hcz1iCZ1FR0ZDAbLAJ+b7g2dCuZkVwCu/6x/PRwUTe2B3DKz5RrDuTxbfH0vjnqQxe2BnF01sjeMY7gme9I/joYCJv7o1l8bZwXtoqYdWRFC6mVw3qOFTa0MHKkBSm9XrFP9ALmzbwnOosYdZGEXM3K1i4LXJE1cDGxkaysrL4Yq+Yl7aIWHkgis8PJTB3s5wnvZQ84ipj0bZIVoWk8O3xdN7xj+NQTOlN162pqRlyv+hQ8lZb48NNmUyGXq9Hp9NRW1tLZmYmCoWC6Ohou2ydIxwx2nCApyPu6Fi5ciVnz54d8cM+Pz+f3NzcMYeIvtPNNgkdiURCZGQkly9f7i8G3t2N+eh79PjOxrp/sZC7ZmE+/nc7aOryZOjj96HLFaFubxr83N3daGrzhcpmVxfm01/QtGsR5jOrMJ9ZhSXkHSwBzwqSSedWYzqzCnPI2+iyw4Z9j5qmCgwKd0znV2M6txpD5A5S48JvmwXpzUCtvb2dqqoqcnNzSUxMRC6Xo1AoSExMJDc3l6qqqiEPXN0urdd/dfDsmwNNyItEIjsE1bR2ExRTyoZzWbiF5QjT625y5rkrmOIsYYqThGW9g0eLt0ex9mwWDe1q6hubuBweR2vXjYMv/c9v4NczmTziKrvBrvP+3irnoy7CYNGrvoNbVA6UdW3diLOEAabMihbe3h3Jp/5KVh2M4SkPMbNcRMzfLGbeZpmw/q5oVgSn8I5f3KAVWltWV1eTmZk5ZqAYHh6ORqMZs/WkUukNLRUGg4G2tjYKCwtpbm7+rX/lO+LfIBzg6Yg7Or755htCQ0NH/LAvKCggJydnVMDQ0dHRryfQNnhim26+XkLnhh7Pjlasu2ZhDXz2GngGPIPVd5ZgYan0xBz6EaYzKzCFfoRRunFQb/Z+2dmGJeg16vYssYOn+fjf6dk6AdP57wStzrCfMJ/6HNOlf4zs/rs60dQVoKkvQt3dfVstSG1b07ZWhZycHPs2oUKhICkpiby8PKqrq4e1hf1/DTwLCgqGDZ7Xg0l9fb1dtis2NpaioiIKqppYGhDPE17hTN4gZtpGCS/6RDFto5RpGyW8vjuWTw4lsSwwntd3x9pF0W2+6H3XT69o4UB0CQeiS8ioaEFV1cr7gQl8dyKNxz2Vdvi0VT4nbRAzdYOIWW5yjieUD/leSho6+PFUJquPpfHNsTRWH01liU8EH/lH8ENoOgu8wnnCS8nCLQre95Uze6OIGRvFvLU7khOJZbfsg62qqiIra3Bno+GmQqEYcDp9NOB5s9cdW+2OGItwgKcj7uhYs2YNR44cGfHDvqioCJVKNeTjbZBjq6T13a619QTeavCkr/6kpqkCXcYZQa/TZwbW/c8J4Ll7LpagJWjLkzGHfnJtwEfijDn0Y7RFUbe+3u5uTJf+QYvP09fA8+DLWH1mYrrwvR08TUMET01TBbqcK71b7gPcX1sDFac3oA1+D9Plf6KtSB1TMOvu7qa1tZWKigqys7O5cuUKUqkUpVJJcnIy+fn51NTUjAoyf0vwHG7rwL8KeBqNgpWlQqGwT43n5uay0l/K/E1invKUMc1ZwnQXKbM2yXjEVco0Zwkv7ozik0PCYM6ywAT7sMv1OpcxhQ38ciaTzWG5bA7L5dczmRyILhF6LvfFM91FygTbMNE6EY97KpjiJGGGs4hjCbeGwb7pH1HED6HpbBHnsUWcx/rzWbyzO5LDQi6sAAAgAElEQVQlO5V8fDCR+R4K5rkr+PJICq6XcvgqJIVvQxKITUpDLpcTFxdHcXHxoAM/lZWVqFSqMQNFuVw+KqciB3g64rcIB3g64o6OX375hYMHD474YV9cXDyg85GtH9Pmm923HzM5OdleSRuWPmZv2qaxNQ2lgqXkmRWYQ96mx/Ov9Hg/iNVnJtbdc9DlSdHlyzGf/LS/pFHoJ+hUQ+tr1VSpaPR9AcuhV7AcegXz8b9jFK27YavdEBeAPn4/+vh9aCvT+8GruqMVfcYZrHvnY90zD+vuOZjOrOpv0dndjenMKnTbZmLY+xRWvwVYA55BUzUyV6nu7m5aWlooLy+398NKpVLCw8NJSUmhoKAAmUxGS8sQKr8O8Lxp5ufnU1xcPCbg2fdrb/vF8bJPFM97K5iyQcS0DSKmOIl5douSyU4Snt8eyZt7Y3lxZxQnkoSqZGNjYz/wNBgMeIny8BbnExBRTEBEMVvFeWy8kM37gfHMdpMzw0XKxPViJq4XM22jlDmb5SwLiOPlLSIqmoY38b3hvAqnCyo7eHqJcvl0XzSHpCl4Xsnj+xPpvOcfx8oQQSR+VUgKmZUt9mttbm62y1JFRESQm5tLc3OzHX5tfzSNFSjKZLJRe9E7wNMRtzsc4OmIOzo2bNhAYGDgiB/2NhvD+vp6u9tM335Mm2+2vR9zDAFDnxyC6ewqjAp3jAp3TOe/xRL4LMZLP2IUO2GI2YO2KFIAzyu/CuApWov55CdoKzOGfD6F6CK6AgW6AiXqtkbUbY3oY/diPvEhplOfY1B6YQ79GNPJ5YIrUujHaAsj0JYlYxQ7Y9n3HFfd/sDVzX/EunM6lgMvYPWdjT4p2H4ObVkyPdunYPa4B6vXvUIFd898DAr3IUFmX8iPjY1FKpUSERFBamqqvR/2eukkpVI5IvAfbqanpzvA8xap1WpvAM8fT2awaFsk7/nH8+SWcKY4SZi8QcxCTzFvbhOxbLeS5QfiuJBWaR8isgmsVzZ3Ic+pQ5lbxy9nMtklK7CDp4+sANdL2VxMr2Kqs4SHN0qYuF7MZCcJszbJmOIkYe5mOc+4i/C4nEtMYcOQ7+NofBmrj6bhJcpliziPn09n8POxBHLz8uxwqapq5XBsKccSyimuH1xDs6Ojg6KiIuLi4uyKACqVakzBcyg2pWO5Xk9Pz2/9K98R/wbhAE9H3NGxadMmdu/ePeSHtU0+x9aPKZPJuHLlCrGxsXa3mcEsDccqbb2JhohtmC6tsYOnUeGOOWgJPdsn9+YUenxmYgj3xnTqM8ynlmM6tRx9ypEBt7o1TRVoqlSou/pvNQ+qG9rVibqrE9Plf2I6txqjxAmjxAnT+W8wnVmJ6dw3mA+/xlWPP3PV9Xdc3fQHwaZzx1Ssex/DdO5r+1pG+Wauut+F2fM+LFseoMfrHqzeEzGF/XgDZDY1NVFSUkJmZmY/yE9PT6eoqIj6+voh6XOGh4c7wHOMwLOkpGRUa2g0GradkPH54WQ+2J/IoZhSUsuaecknutebPYInt4TjcjGbjIoW1BrNgBPytbW1nJDGseZkBt+dSOP7E+m8H5jAN8dS2assYq+yiF/PZHI2tRKj0cjXR1NZ4KlkvrucyRt6+zvXi1i0LYJvA8TsjyrB40oudW1D8yxvaFfjFpbDN709nj+fzkSZkjtqS1FN7/1GRUVx5coVkpKS7D9To1nXpiQwFmkwGBzg6YjbEg7wdMQdHZ6enuzYsWPAB3PfoZPB+jGLiopITR3bXsRbpa1Sp8u5gunUcoxyN6Hieekf9GydgHXndKx+j2P1e5yeHVOxhLyNpqkCbVkSmoaSG9fsbMco3mD3dLccekU4trEMdVvDzQXru7swn/4c4+Wf7eBpvPILloMvYzr7FT07ptLjdS9XN/2+t+r5J6Hy6TsLg9LLvo75+Af0eN2D2eMeLFsepGfrBK6630VHXJB9sj/tchDlgR/SGPAmVefdKMnLpKGhYcSQHx4ePqD80XiAZ1lZmQM8b5IXUyt4zE3ESz5RvOorwKaXKI+Kpi4ORpewV1lEWnnLgO/V6XR2mSGRWMwXe8SsORLPVlEO26X5fH8ijZUhKaw/p2L9ORUh8WW0dwsDNSUNHSz0jugnpTRhnYiVwUk4HZYSEleG++VcVFWtQ74XtVZPVmUrqeXNtHVrKSoqGlTndLhZUlJCXl4e9fX1di91m4XnSL6XY1nx1Ov1yOVyB3g6YtzDAZ6OuKNj+/bteHh4kJycTElJib0f09YPaBs6Gawfs6KiYvzBs7sbbWEUBqUXhvAtpF4IoK21FXVHC4aoXZhOrxAqjGdWCeC5d74dPK27H6XHZ+ZN19cnh9CzaxaWwIVYd82mx+MvXHW/C4vfAixBr5Eb/JNQ3Rzk/YbInYJDkXgDRvEGTCc/Fa7p3Nf0bJskQKTHX7i66Xdcdfsfrrr9AWvA02jqrjk+mU58hMF/ISaPezFv/jMWtz9i3PwXss7vIjMjg6pUKcYDL2MOeg3z4TcFO9DAZ9EnHUbdMjLdz/+L4Nm3YpyWlkZCQgIVFRWjktTJy8sbNXh+eiiRp9xFLAuMZ1lgPG/7xbJ4RxQtncO7ruKKaj7cI+OfR6L5bp+EfxxS8NPRONaeTqepQ0NTR//1qlu6eG57BA9tEDPFWcK0Xs/2ac4SfjwgJSimlM1hOZQPo9czt6aNnbIC1p4VnJaSs/JGPXxlv7/i4n7VU4PBQGtrK/n5+URFRQ3JwnO8wHOgdgkHeDpiPMIBno4Y9xCJRMyZM4f/+I//YM2aNf1e6+np4bvvvuPBBx9k4sSJ7N2795brFRQUEBwczA8//MDEiRP5/e9/z/Tp01Eqlfat2qFWjiorK0lJSRlXoNDligSYO/8NpvPf0Oj3Gl2ZYXYo1dTmo61IQ93WIMDjzoevVTy3T8F87P2brm86+SnWvY/Rs2MqV93/xFXX33PV9b/p8bwby+HXad/xGNqbDCNpmirsA0fW3fOw7H1caAM4/w2Wfc/R43k3PVvuo8fzHq56/AWL/1M0FKVSJ9tDR+ASWnYvpsrvHbp2zKN11zOYPO6hx+2P9Gx9AOvexzFE7sCg9MJy6FXMJz/BumsWPdun0uM9EXPQaxgv/4y6o3XYn2tERMS/NXjael9LS0v7tSVERUWRkZFBUVGR/TWblqbtOocLnqWlNxc+v1UuDYjjWY9r4PmefxwLt0VS2zq0LW5b1tTWsiYogrVnM3G9mM3KoARe26HghwOyAT3k44oaecxDGFaa4SpjhouMhzaIeWi9mLe2i9kUlsP5tKohD+CUN3Xy48kM1p7Nwj0slx9C0/n1eDwFhWMDnreqnnZ1dVFaWmqXBUtLS6O6unpQyaSx3GrXaDSEh4c7wNMR4x4O8HTEuEdxcTEqlQonJ6cbwPPIkSMsXrwYq9VKe3s79913H3l5eTddz9PTk7Vr13Lq1Ck2bdqEk5PTiB/21dXVJCUljR9QdHdhuvQPjGE/YpS5YpS5UnPgQ3QX1gzYp6nLk9LjM0PY4t4xDevuOWjLkm8Onhd/oGfndKEauen3XHX9/wTw9PgzPVsfpHvrdIwnl6NpqhzUItM2HNSzdQI93hMFKDzyHoYzqzDtmoPF816MWx6kwf8Nwi+fpvDMZnQ+c9AHLMZ04CWsex/HdOJD9NtmYN38J6w7Z2AJfBbLvkVY9y7AeOE7LMFvYDn8mtAjunuuANWnv8B8bBnakrgRgWdr6/CB9V8RPLu7u5FKpZSWlpKVlUVMTAxSqdTe+1pcXHxD73Hfrfa+Tjs2WZ/S0lK6u28Nfrm5uaMGTz9lAfM3iXnHL9YOnauPpQkan21qDkSXsOG8ipNJFXSodYOuU1tby6WIJL48ksoCLyXzPZQ8tSWcjw8mEZ1bRWFhIdHR0SiVSuJSM9kSlslUZzEPrhPx8EYpM1ykTN4gZoaLlH8ckJJX04ZWN3S5oYvpVawJTWeHtADPK7lsDsvhs31RhKfmjQncDUesX6vVUl1dTVpaWj8LT5tFZl+3qLHI7u5uIiNv7vLkAE9HjEU4wNMRty1cXV1vAM8lS5Zw8uRJ+/9/+eUXnJychrzmoUOHWLdu3Ygf+DU1NSQmJo4fVHR1YjqzCqNorR08qw8uR3dqxaA2lZrqbKFncud0rIELhe3om/RBakti6dlyH1dd/7sfeF51/R09nndjcvszPV73YT7yLkal54Bb26ZzqwXY3DUb4/ZpmN3/gsXtj9TufYPaw59THHOeqkIVra2tdHd3Yw55G/OhlzEfWyZk8BtY9i+m+fCHmHbMoMdb6PPs2TqBnm0PYYjwxnLgBSz7FtOzfQrWHdOw+s4WBOyP/Q1dvvz/FHja9Ej7SkWFhYWRkpIy5AGrwXo8bXqY2dnZdkH34uLiQT29xwI8m9s6+DJAxnPbI1m0LZKvjqRS1dxFY4eapQHxPL01nJkuUh5cL0DhkfiB9TVtbkiul3J4PzCe1cfSWHdOxbfH0/jlTJZ9+r2lvZOvg+JY6Cnhoev6Oyc7SXhzTwzy8Ihh38fZ1Ep+OJHOypAU3tgTy+t7YlnsLed87NhMohcUFIxIQcD2h0V2djZKpZKoqCjy8vKQSCRjJqfU1dVFVFSUAzwdMe7hAE9H3LYYCDxnzJhBYmKi/f/+/v588sknQ17z6NGj/PTTTyMGgNraWhISEsYVXPRxAZhPLscoccZ06gu0W6dhCliIPs4fdWvdDccbw36kZ9tDwpDRjmn0bJuEPumQAKUNJRgitmI6/40w3d7RirqjFcv+57nq/meuuv0PPW7/26fq+Vcsbn/E4jsbc8g7mE98hD7a9wbf8jafJ9F7TkC3bTpmr/uxet1Lj+fdGMN+xihahyGq/wCX5dCrmIOWXAPPkLexBj5DzZlfsbr/WegN3TGNHu9JXHX/E6bQTzGdWYEl4Bl6ttwvQOfZVZjOfYU59CM0jeVoGsuF6m7z0Cw3IyMjbwt4ZmRkjAo8bUNu2dnZxMfH99Mj7SsVNR7DRTZB95ycHJRKJdHR0RQVFfUTOM/NzaWsrGxU0FLZ2IpLiJzAyGKSS5vsMHQisZyF2yKY7iLlgbUiJvS6C01xknA88UZHIduQ0ddHhYly5wvZOF/IZv05FZ8fTrZXSxNLmlgWIOh4ztok42FnMRN6XYs+3KsgNafwltW7gbKwrp2/70vghR1R/G1fPG/sjuG5rXK8zqeMCeCNxSCX0Wikra2N/Px8Ll++jEKhICsri/r6+lGJyXd0dBAdHX3TY65evfr/s/feb1Hf6f7/P3D2fPecPduS3ST2HmPapmx6NdXEqFETY2JijDExxURRmiDSFAREmkq1ABaEYRqdmaEz9N6r9DIMTAMf3x/eMIpg1Ii7J+cz93XdF1nmPa95D3gxj71fr+fzOWOfB5b6f7cs4GmpO64nnniCP/zhD9N2c3Oz+bq7AZ5nzpzhm2+++dVQ0NbWhlKpvLvw0t2KLslNMIl3X8jgoRUMn96MMewD9BLbydPM7jbG3OcLEZrejwp9aBEmv+cYaq9h1Pcpxg4vZuzwUsYOL8YY+Rma/j7hDGn4GmGb3vk+rtj/F2MOf2LUZRYDLkvReT+F5tjLtAZ/StvRN5FLRJNyy4cl9oy5zmH0yArzec4x5/vRJTijS3AWzmFeI1DSJbszevRJYfIZ+h6jR59EL9pNlfwkRufZjDnfz5jz/Vxx/Atjjn8RxERBr2EMeY+RFEHMZAxfiyHyM7TlSYxkh2AMX4cxYh3GU+sZLjh/S+D5rzCQvx3wnMiIvza+cyJ0oLy8nJaWlhvC5d1WtU8IWUpLS0lMTCQlJYXy8nLz+/u1wHIht5GlthLmWolYaC3mYQcZ8YUt6PV6DknLeeJggjnKco5VPLP2iJi7N55XPaZCTnNzM/n5+RyWlvPZySwzeG4NzcHmYpEZ/hJL21jpmcaDdlIecZCzzE7KQmsxjzrKsYnKJisri0uXLpGRkXHb5153R6l52zuNN73S+Dgog11haXwbqqLzNoVS0/VMQP5Ea7VaEhIS0Gg01NXVkZmZabamamhouG3BWW9vL+np6RbwtNRdLwt4WupfVndjq/38+fNs27btlj+sr+/29nbS09PvOrxoBgfRSe0whq2h5cQnDJ3fieHSjxjD105Shw911AsA6PXwVfD0WCqYsSe5MXZ4sZDjfuwZRn2fZuzwErQ1GQznR2IMfgdd2DqGA15D77qAbp/X6Dv0OL2uDzF0aDn9QavQnngXffiHU7w+NV3NmE68wZjbfMYOCiIiQ/SX6FI80Mf+hC71Oq/U3k70ElshX/7YPzHE/oimq5lSlYQhfwEwTUGvClvurnMw+b+AMepzTMdfR5fmjabnMkMtZWh6O9HW52IMW4Ph4rcYYn/CcH4HxvB1DLWW3xZ4DnU0oq1IQVuZestT01sFz5qaminfv3ZqnJGRgUwmM2fET8R33g5I/qvtlCamZmKxGKlUSllZGT09Pb/4nPZeDbHqJs5m1VPW0ktdRz9PuyQyf5+YxdYiltlJWWAt5hnXJDTaERJK23j8gNwMnrPHwXOhtZinnKcKWZqamlCr1dR19PPdmXw2n8jikxOZfBWeS1nL1ffa3D3Iu0fTWbBPULE/MD5JnWMVj0NsCX19faSkpNDe3m62LZo4cnCjOMuJPplew/6YInwSKvBPrsL6tIIfIzLo/4WzqbfaxcXF1NXdenb8L7VGo5kiBhoeHqalpYX8/PxbivC8tru7u1EoFBbwtNRdLwt4WupfVtOBZ3Bw8BRxUXFx8S2vGRsby5YtW341VFy+fJm0tLS7D54aDboEJ4ynP6b15OZx8NyFMXwNQy2lk64zhq5mzHWu2ZdzzG0ueokthgs7GDu81AyeRt+nMR5aTL3UD6VCQXakB/VBm2kJ20ZLvDtD4R9j9H2W4YNzMHmu4IrDH7ni8D8CVJ7bNhU+B/oZLk9kROmPPmYn+ovfCh1vxVBr5SSIHmqrEsCxoxFNV4v5sQK1ms5LdhiD38YY9BpjB/7KmNM9496kT2I6vhJ93M+TXnckPxJj2AcCdI63MXwNwyXiX/x5pqSk0NkpxHYONZcIyU5xu4XztBJb4f6ufU5ftwDpBeeFvPn+WzOfz8/Pp6qqiubmZsrKysjMzDR7wmZkZJjjU+80I/5m4NlwuYfs6nYK6i7T1ds/Yz6excXFVFRUUFFRYbb0KSkpmaQe1+v11LT3sSU4m3X+Ktb5q1gfkMEhcRlLbCVCW4tYbi9jkbWYB+2kVLf3MTyiY++5AmZfA4cLrcXM3ydmd5R6yr00NjaiVgvf79MMo6ruQFF5me6BqaruhJJWs3/nA7tFzLYS4HbziUx6e3tJS0szX3tthnxiYqJZId/T0zNlC72spZe95wvZH1OMU1wJW4OSCU+emTOeE/7BM7HWzcRAtxLheW13dXWhUqks4Gmpu14W8LTUXa/ExETuvfdefve73/Ef//Ef3HvvvVy6dAmA0dFRtm/fzqxZs5g9ezZHjhy5rbWlUimbNm361R/2HR0dpKam/kvAU1uZgjHsAy4HrkUTtR1j+Dr0sbumiIyG2ioxhrwrqMvd5mGI3kpXWyMdib4YXOYx4jyfYafZDB+cg85lPk2Jx+lJ8UNTJkcz0M9QawX6eCsMMd+jP/cVnZ7PCdDp+BdhAuk+nzGXBxjJPXXj++1pR1ujRFujQtPTfvX7vZ3oFMcElf6lH9DJDzDUVmV+vLCwkMryUobL5egv7mTs4N+F7PmjTwrHB9wXMJIbgaanneHiOEYygxlJP4ox9H0Ml3YJ4DkO5NqaXzgC0dNO3iV/+griGGqvQZfmhV7mgE55DJ3yGHrZfnTpR69e39979b5Fe9DHfM+IKmBaf9P+/n5aWlooLy8nKysLkUhEfHw8KpWK4uJiGhsb70pi0i+BZ25NO+7iElzjS3AVFeOfVE5DW9eMgGdRUdGkKVx/fz+VlZWkpaWRkJBAcXExnZ2dHJaWsz5AxY+Ran6MVPNlWA6rjip4/ICchdbicfAUIisfOyCfNCH0Sajgof1S5u8Ts8BazPu+CnqmgcnGxkYKCgpu6b7rOwZYZicVlOz7BJhdsE/Miv0yLuXUcCQ66YZ2Tr29vSjzSzh2LhGfSCnp2Wo6Oq6eTa1o7SVcVUdQajVn5FnU1TfMCCwWFhbS0DAza92KGOja7u/vp6qqalKEZ0tLC8PDwu+po6ODzMxMC3ha6q6XBTwt9ZuupKQk1q9f/6s/7Ds7O0lOTr670DkxIWxQM5wXSWfA+wwHr0Yv2y+kC11zrTm3vKaG0gw5GYlx5tzyfGUievelgnjI4Y9CgpDHg8Jk1OsRRr0exnDha3TpvoIgKM0LXZoXHT6vM+b4F0HsM9EH/z4p8vJWe7gwBkPMTsGbM9EZvWi3IDwaP6daWFhIZaUwHdWleWEMfZ8xzwcZPbxUyHn3epShylT0sbswRnyI4fRHGMPWYAx6DWPoaoynP8YYuhp9/N4bTiSHLtehF++jNWAtw1FfYrj4DYaorcL7HQdPXaoneomNGeq19bkYLv2ALs0bXboPujQvDJd+QNOgprW1lYqKCrKzs0lMTEQqlaJUKikqKqKhoYGcnJxpt9pnuqVS6bTg2dM3gLe8jKCUSk6kVvJTZB6rfNLYHpaFvLDhjkUv14Pn9XBTXV1Neno6H3rG86FPIt+EZ/HjWTU/nM1nta+SDYEZzN8XzxwrQTw0a4+I1b6KKWlBTV2DxBe2kFXTwfDI1Xvu6BsiTt3MyfQaLmWUkqeeCp5d/UOoqjuEuE2tIKAZHBrmaedEHnGUs2B8ijrHSriPxTZiHt8v5gX3ZMTj502v7dLmHmwvCudH90TnsytCyQVZmhnIWltbzUIdtVpNU1PTjMBiQUEBjY2NM7LWrYiBbtQTEZ4TscGZmZnmhDcLeFrqbpcFPC31my6FQsEHH3zwqz/su7u7SUpKuntA0deNLtFZOPMYsgpD5BYK5Gdorq0wp9BMmICnpaWZc8tzc3On2OoMF1zA5P8ixpBVmI6vxBT46nh85UOYAl7CFPSqAJ9nN6OP/hJj8DsYoj6n2X8dVxz+KPh0ToCn8/3oZftv+/3oEp3RX9ghQOLJdzCGfoAhcovZoqmoqIiKCuHM6khGEIborehFVhiiv8RwYQfGs58xkhWMMeJDYfIYb4U+7meMYWsYUfiiS3JjuPAimt6OG97DSFYI+os7qQ37Do3sIDqJLcbgd9GL912deEpsGFEFmZ+jrUhGH/MD/XJ3OuIO0BhtTWPgR2RE+6BQKCgsLKS+vn5albxarf6Xged0FkqNl3twiy/hlKqG707nsj5AxebjGWw5mcnuyDzy6jrvGDyv3/7tGdRS2dY3yXPzaEI57x5JYtNRGRuPxLPGK4GX3BJ50E5q3vJesE/Mh/4qPj2ZxWcns2nv/WVRT0ffEFbnCtkamsM3EXls9E/DMVIxCaYLGrr5MixHOO95PIt95wu53CesezarniW2ErOifdZ4VvvCffH884CYZ12TWG4vZUdELhfzGtEOj6DT6Tgir8AlvpSAlGoCUqpxjC0hKK2GoaEh6uvrzRnyOTk5KBSKGZtSziTE3ooY6FZ6ZGSEtrY2MjMziYuL+8UITwt4WmomygKelvpNV1ZWFu++++6v/rDv6ekhMTHxrsHEcH4UppNvYTi/HW3UV2iOr6LVdxWJMok5hWbCILy9vX0qeHS3opfux3Tsn4Kh/KFFGE9txHh2M2OHlwp+nY5/4orTPcLU0+NBRg8tHPfxFNrg8FdMhxableZjzvcxdmjR5HObt9gjyYcwBryIIeJDDGc+wRDyHqbAV9B01KPRaCguLqa8XBAFDTWXYIjeiuH8dvSXfsRw9hN0KYcZyQjEcGaTAJ3jbTy1EW31rYm8dDJHdBLbq+CZfAhD5Gfo4/eNn/Hcgy7BiY6aQqqqqsjLyyMj/gz1fuupjfiR5vO2dMc6CCb+1wi7btRqtZrq6up/G3j29gsTzyPSUjYEqNgens1HgSqsovJwjCnAJ7GCnkEtfZphKtv6aO25uWl8VVsffslVeMjKOZuYPWniGadu5qOgDD7wVfKmVxr2McXk1XfR0j3AztP5rPNXsdZPyauHElm0T8RcKwH2Hhifdr5xJI2fowpYH5BBQmnbL96HqKCZraE5OMWV4hRXys+nMtjgm0TtZUEMMzQ8wg9n89kenov1hSL2nS9k0/FMQpRXleGbT2SZX/uBCT/P3cJ9zd0bz7y98bzikcKrHql4J1QyODSMzcUifJMqzeB5RF7BgbiSSfc2kSEvl8sRi8W/SiF/fefl5dHc3Dwj4NnT03NTMdDtdEtLCzk5OZMiPBMSEiZFeFrA01IzURbwtNRvutRqNStXrvzVH/a9vb1mS5KZ6oGBAdrb2wWYDPuCjqNv0HBsDa2B6+kM3kS394vU5iZNSqGZtvu6MUR+xpjLbEYPLWbUZTZX9v8Po57LMQW/K2Sy2/9esD46+PfxM5xzroHO34/7ef4nhqNPo4/7CVPwu+gv/cBQc8mvA+m8s5j8nxfEQ8GrMJ54A8PZzWjLExlqLqGkINcMnhqNhqHGAnQph9CL9zGsjhJU7BXJGCPWoY/7WQDPmO8wnv6Ioct1V1+rvxdttYKRrBCGS+LRdLddhd+ccAwXvqE2/HsGpQeFbfmY3dSUqilLOUe2KBRp3EXS0tJQq9XU1tbS2dGBNvcMhogPMQa8hPH464wojt3Se/53g6dGo6Gw7jIHY4t4xzuNDQFKvgzNwiWuiI8DlXwenI3txUI+D8nm56gCdkcXEJ3TMGk7e9LUraGLt7zTedUjldc8U3nOWYq/RBD0lLf2stZfxWcns3jqYCJLbSUstBbz0qEU/JKrGBgaRlnVQVJZG3vPF7LQWsxSOwkLrePN4Ld4n4jPjytYH6AiqeyXwTNEUcuOiDwzeO45k8lG32TUDV3o9cL2/CcnhCnnhHs8WlkAACAASURBVLXSt6fz+DmqgKq2Pmra+1luLzNbNE0YyV/bs61EfOivYkNgBm95pdHVP4R/ShWOsSVm8LS7WMSpjOlFP7m5ubS0tPwqhfyN1poJUOzu7kapVM4YeE54qF77vWsjPOVyucVA3lIzUhbwtNRvukpKSnj55Zd/9Yd9f38/Mtntp+ZcC5ltbW1UVlaSm5tLcnIyYrHYDD1dl2zQBb8nWAVd/BbDua/o832VxvL8m66trUpj1Puxq+Kcw0sZ2/8HwSTedS5jDn8WppcHBK/MKw5/ZMxtLlfsfz8en/l7oe3+E5PrXPTxe4XYzDuAI21tJvqY7wS1+/nt6GQOGMLXYYxYjyHqc3pCN1OnuIkHZ38vupTDGE+tx3h6I8bTHzNcdE2W/OAgI6pAwWD+4rcYor8U/E572hkcHKSrqZKe87to8l1Ni/9a6o+tI1sUSn5+PtXV1XR0dEwL9SOZwRjObEZ/7isMF3ZguLCDocaC3wR4ajQaWjp7OSQu4evwHA7Fl/DZ8Qze9U7jsLScj4IyWOOnxPZiEV4JFeyKVJNf3zUtYPwcVcDKI6lsOp7JpuOZvHFYzkqPJPo1w1zIa2L1MSXv+ypYZifl8QNylttLec0zldc9U82TSL1ej6esYhw8pSyzk0yCvVl7RCzcK+IhOzEvuSdyJnP6M6Sq6g4+D8nG4VIJTnGlfBuiZJNfstkzc2BomG1huXx/Jt8Mnuv8Vbx3VMH3Z/LZEpzNvL3xLLQWM9tqevCctVvEm15pbDqeyYvuyYQra7mQ14TjpWL2Xihk7/lCDknLbzgpzsnJoa3tKkDfjkL+ZmvdSXd2dt70TObt9ISV1Y0eHxkZ+Xf/ubfU/5GygKelftNVVVXFc889d0fgKJVKbxlSJ4QoOTk5JCUlIZFISE9Pp6CgQJisdXZOgp6hxgKM4Wsxhr6PMeJDTMFv0xi9j7q6upu+3nCJWABPzwcZPbyEsYN/Z8zxr4wd/DumIw8JBvIh72Hyf4FRLwFQ9ee3jwPnf49DpwCeBq/HMcT+hLYiZeprDQ6grcsWUoNuEOOp6e1kJCdCSF+K/AxdvDUjyYcwnNuGye859CIr9HJHuiK20hu6aZLF0rQ9OMBQYyHaypQpAquh1goM575CJ3diSHqAnkvWdJ9YT+FFb3N+eX62iowLAbRmxQiWTjf7/XU1Y7j4LbpEF0EYlXwIfewudEr/3wx4ajQaOnv7icmtx/ZCARv8lbjGFeKXXMX6ABWfh2TzdUQuvklV2FwsIipbOJfYrxmmrLmHgoYu2no0bAjMYLWvwgye73nKecE1gaauAWTFrXxwTMkrh1NYbi+A5xJbCc+6JvGCezLJ10wwa9r7eMRRzry98SzYdxX6Zl+z5b3CXsoKOzHLrEX4xaQLYQXDV8+NaodHOJ5Ww5dhOWwLy+GzwHTOJOZMAh5JUQubT2Sy+UQWHwdl8rxbMt+ezsNDJuSpz90bzyJrCcvspMyZBj4f2C1iiY2Ep50TWeEgY62fknV+Kr4/m096RTsFDd0MDt3YozM7O5v29vYbPt7b2zspQ76oqGiSQv521rqdvhUV+u10Q0PDTR0FLGWpmSgLeFrqN1319fU89dRTv/rDfnBwEIlEMi1kTljqTKidJRKJWYhSV1dHV1fXzbfLNRqGmgrRpXhgOLcNw5lPuBzyGe2pwVN9NK9/XmsFphNvMOq+QIBO5/uFFCDvx9Gf3y7YEx19EpP/i0KK0BkB+MZcZ0864zlm/19oYn5CH/cT2qrJnqVD7dWYTqwUhEfuCzAFvjLJ0F6j0aDp68IY/K5gwzRu8WTyfRpD5BaMwe9iPPkOeokdepkDHVE/0ndyPdqajNv+XXR3d1NXV0dl2nnaA9dSeWIbNSE7aDnzI33hn9GXHjQJzNLT02lvb7+ltYc66jFc2IEuyf0qeIqs0KV4/KbA81oA9ZKWEpZewUlFLR8GqPjkRCbfn8nHN6mK3dEFyEta6R7QcjqznoCUKgJTqwlMrWZ3dAGvHE7h46AMNh3P5GVXGWuPpqIdHqF7QMu2sBxecEtisY2EuXvjmWMVzyJr4azkC+7JOIlKqW7vQ6/Xk1/fxepjShbsE/PAbhGLbCQ8aC/lgXH4XL5fxnNuyTzsIGNToILc3FyzirqhoQGtVotOp6Ouo5+Chm4KSispLS2dBDs6nY6S5h7OZtVzIr2GbWE5eMjKzf3+UQXz94lZaC02b7fP3iOc8ZzY/p+1R7B6+uREJj9Gqtl5Oo/HD8hZaivhsQNyrC8Umu2fUsrb2RaWw/qADIJSq0lXZXL58uVbgrcJFwClUolMJkOtVk9SyGdlZd3yWjfr9vZ2srKyZgw86+vrKSq6sV+pwWD4d/+5t9T/kbKAp6V+09Xa2sqjjz56Rx/4YrHYbA6elZVFQkLCJEudG6mdb6e1NUpMJ9/CGLKKfr/XGT72IiMpntP6SF7bw0VxmAJeEuyQDvwVk9ejwtnIuN3CVDDdB8PFbxlRBTJUo0SnOIZOtAeT3/OMOd3DmPsCWgPXMxjzM3qp3ZRJpDHyM8bc5gmTVe/HGHOfj/HUZHuqkbzTQna850PjE9jlXHG6B8OFHegvfMOY21xhy99tHhrfl+k78QFDTYU3fl+9nQyUyLisiKBCFY9SoTDnl+fk5FBVlI028ktG4q3RJ7qglzthiN4qeIpes8604NlzefrUosFBdElu6GN2oktyQyd3wnBu2/QT4N8AeGo0GhKKGnETFXEivYavwnN52zudXZFqdkcXcCC2mPqOAdIr2glKq0ZU2IyosJmonHq85BVsPp5p3j5/zU2GJKfcDBjN3YN4J1Ty+AE5c6zizQA6a1w1vtBa8MosarqacuSfUMpiaxGPOMpZbi/jgfFrH3aQ85xbMo84ytl8UoCkkZERWltbyc/PRyqVkpGRQV1dHUNDQ1RXV08Bz2v7cp+GH87m4youNYPnD2fVHBSV4HCpBOf4UrPKfq6ViMU2grn9UlspH/immz1In3FNnGI8//2ZfC7mNbLMTvAbXWwj4WEHGVv9E+jo6DDfQ/eAlur2PrTDv5yLPqGQn4iyzMnJISUlZca22tva2sjJyZmRtfR6PbW1tZSUlNzwcQt4WmqmygKelvpNV2dnJ8uXL7/lD+ve3l5zzOFEAk1MTIzZHLyhoYGenp4Zhwq9aLdgkn5uG72B76E/tIyxg3/DFPw2w/lRk/Pax0FJ25AnTCjbawXLoIgN6KX2QorR2U8Zzjtjvn6opRRDzE5h+1hsLUBpymFGskJpCP2KvmSfSUbvwmsMCEr5IysY9XlcaK+HGXOfj6a30wyJxtAPGHP4kzB1HTegv+J0L4borRjD13LF8c+MOf6ZMZdZjDr+hcFjr07asu/t7aWptoKKTBnZySJqAzbRfvRNuv1X0X9yLV1px9FmnMBwbhs6mQNDTYVoK5IxXPgGw/ntGM5/xUjmySkTYoVCcRU8+3sYyQ4Xzm6e+wpd8qEpADrU0YAu5TCGi9+gv/Q9w+rom4K/RqOhoKCAqqqqm173rwbPnt4+siuaiMlvIr6wBUlRC0Gp1Xx3Jo8nnBJYbCPhH04J2F4sRFTYjFdCBW96pfGwg4wNgRmczqwnpbwdRVbetN6SpzLreM4tmdc9U80gN8cqniW2EhbZSPg6IvcqtDRf5hF74bGldlIzpD55MJEnDybysIOcC3lTbYR0Oh3t7e2o1WpkMhkJCQlkZAjT8hsBUGR2A9+cymN3dAHfn81nz7kCGjsHzI8HpFSx3F7Cg7bxPOYo52EHGV9H5LIhMIMdEbl8fyaPWeP2T3Os4pm/T8zsiRjPg4nM2ydmmZ2UJTYSFuyL5yG7eMrqW9HpdHjJK3jCKYFHHeW87pmKqrrjpkCn119VyEulUrNCfuK4za8FxdbWVnJzc3/186/vm0G/BTwtNVNlAU9L/aarv7+fxYsX3xAyGxsbzcbIE1naGRkZlJSUmBNopttqn+k2nPtSMEyP3oredQGmg/cz5vIAxqDXMPk/j7biGhP77jYM0V8y6vs0o8eexnRiJdpyObrUIxiiPscQ/YWQutN3Nad8JCsEfcz35m1kXaIrhovfMNTRgFKppLW1dep9DQ4yevQJIQt+Ajw9BUP6CSAbzo/CeOINrjjdw5jLLGGy6XQvVw7+Db3EVsiOP7RYUN4fXoLOfSnaQw9RUlxo/pmXROxFe+gh9O6LMR5ehiHoNfQSW/RSO/RxPws2UD7/wBT0Cia/ZzEFvSrEiHa1oK3PZahtetsnhUJBW5ugdh8uFmGI+gK9zAF9wkEM57cLxvbT/T66mq+C9S30/xbwvPbfs1KpRCIRLLkyMzNpbGyk/nIv353JY95esdlGaN7eeObujWdXpJonDyaw2GbCZD2e5fZSSpt7UKvV04KnsqqDd7zTWeOnYo6VsM5sq3gBymwlrDxyNZKyq6uLC3JhoviaRypfhubwvq+CFftlPOWciG9S1U2FNzqdjoKCAtLS0pDL5SgUCqqrqxkcnCz6GR7RkVXTycn0Gs7nNJJc1s76gAyW28t410dBWkU7LpfyedJRwpPOidhcLKJnQEtUdgMfBqh4zyfNPO2cN554NHd86rnEVsIiazFzrzkrOmePiJxKAe4fO5DAM65JvOiezD+chP/uGZyawHSjViqVdHV1zYhCfjoV+p10VVUV5eXlN3zcAp6WmqmygKelftOl1WqZN2+eOd6wqKgIlUqFVCpFLpeTmZl50yztfwV4jmSFYAp6DWPYBxid7sN48AFGPZZhPLUBU8BLQsrO+LW61COMHn1CECSFfYDJ/wWMJ95EW5WOprlkcoTleOtjf8R09ClMQa+ij/kOXZK7oNpuq0SlUtHSMr3YZyTj+Lix/EKh3eejS/O5uq7YWoDDo09yxelerjjdwxWHP2LyfZqhNF9MbvPRu8xl2G0pvYefpM/tYTRuyygtKaKpqYnBijTB4N73aUwBLwvb8gf/jj72R/RSOwwXv2HM+X5MJ97AGLEOY8Q6TH7Pokt2m3yvnU0MXSciuhY8dRIbDKc/xhi5RfDyTDiI4fxXZmP7O+l/B3hOnDG+Nht+4t9zWVkZBZX1HE8ux/lSAVHKMjKzc7E+Gc9LLlLm7xWmeBPnLGftFjF/r5DoMzHZEwBUxOpjyhuammuHR3C4VMIbR9KYPX5ecoG1mIfspSy2kWAXU2y+trOzc9qc7+4BrTlp6Fa6srKS8vJyc854UVERIomMs/EpKPNLp8DZ5T4NDzsIyUVLbCUssBaz1FZKZkktOTk5k2BXp9NR1tLLxfxGHrQXprITcD5rj4gnnBJ46mCCeRp6rThpW3AG/3RJZKG1hGdcknjpUAovHUrhH04JN/UqvbYVCgU9PT2T7mkiT/16hfzN1rqZCv12u6KigoqKCgt4WuqulwU8LXXXy8vLiyVLlrB06VKWLVtGeHj4pMcdHR2ZPXs2s2fPZu/evTddr7+/n9jYWOzs7HjzzTf53e9+x+zZs9m/fz9lZWU0NzffEDL/XeCp6e1EL3PA5Pc8Jse/YnCdjzHkPYynNmIKeAmd1N58rTHiQ4xBrwqQGvYBpqNPjsdjLmPU+1F0imOTtuZHsoIF4c+Bv5pFSMaQ1ejkjmgG+snIyKC5uZmhljK0VamTU4EGBxkuOI/x1AaMER8ykn920tq6JHcMMd8xIjuANnQdOvdlGA7cx4jTLIYPzmXIdSlGpwfQ+TyF8dhz6N2XcPnMd9c8302Yovo+zZjng4y5z+OK418wRqwXwPPMJmHyG7r6KngGvIBetFtYo+ey8HM78SamE2+gF+8zn1NVKpUCeHY2YfJ7jlG3eYy5zWfs0CKMpz/CcPGbX0xA+t8CnoODg7S3tyMSiSa5JSiVSvPxj2uz4evbe9gaks2H/ko+CVKxPkDFYWk5B+KKec87ZQo43b9bxDJbwe5o7l5hO3yJrYR5e+NZsV9GambeDdN0tMMjKKs62Huu0CwcWmYn5VWPVNp6rm4Tz5S1T2Vl5ST4KW7q4eeoAr4MyWSTXzL7gqUkJCVTUVFBX18fERl1LLOT8qD91V5kI8HhfO4vTgMTSlpZbCNhtpUwxV1qK0VVfZlPTmSaFfkT0Dlrj4j5+4Rt+9njW/MTU8/HDyTc8na7Xq8nPT192kSgib4dhfzt5NrfSpeXl1NZWWkBT0vd9bKAp6XueiUmJjIwMABAc3Mzf/jDH6itrQUgLS2NxYsXo9UK21WPPPIIIpHoF9fLy8vj888/x8/Pj6ysLO655547+uCXSCS3pE6fiR5qrWTA/w2GvZ7AGLoa0/E3MPm/gLZaYb7GEPMdpmPPCOB5fCVXHP/MFcc/Ywp4EZPfs4x6rUBbmylcP9DPqO9Twnb1kYcE1fnBvzHqsZShdiHmMUuVjub05wKcHlrI6JEVDJdeB9sD/WbgHBgYMNtGFSdG0uq3mnavVzE63sOY/X8Jann7/2LM5QHG3OZijPjQvFXfHfU9RXlZV8FTcVTwFj3wV64c+IvwXuz/S3h/Zz7BcPpjYZv9+GsCeIa+z6jvU0Js5uAghgs7GHVfgMnnHxhD38d0/HV08gNm8GxtbWUkI4hRrxUCeDvdK3w9cA/D6Udn5Hc2k+A5ODhIV1cXtbW1qNVqUlNTkUgkpKamEhcXR01NzU3dEiKUNaz3V7HrbB4/nsllV6SajUEZ+CVXss5fNa2X5QrbcSHNHhGLrMUs2Cdmwb54nnJORJGVe0sxjo2dA/wcpeYJpwRW7Jfxzak8ypp7yavvIqOskXTl1Innr5m6TcDPwNAwu6ML2HOuAFdxGQdFpWwLy0GqrqO0tJSkpCSsQ2Qsto5nmZ3EDJ4LrcXsjcy+6TZ0U9cAocpaTmfWm6M9lVWXmbc3njnj09CltlJm7Rax1FbCB8eUwnlQK+H1HnGQ88Ex5Q2N+qfrtLQ0+vr6bunaCYW8QqGYViFfX19PYWHhjIFnWVkZ1dXVFvC01F0vC3ha6l9eS5YsISUlBYDt27fj7OxsfszX15eNGzfe1nr33nvvHcHA7Yo67rQrc1PpOvM1pqBXMJ7awHCxaNLj2tpMTH7PYfJ9mlGPpVxx+B/GPJZhCnpVyGP3XI5O4Stc33OZscNLhPOgfs8yeuyfgjrd86rgqjbaHpPrHEa9HmbU+1FGDy8WHu+5zGBTMQMiOwZCNtIasYPMuNBJtlH19fX0VucIkZ3O93Fl/39zxeGPXHH4H2EKe2gRpuOvo+nvRdPfS2VlJUXqXIbLZIyk+TCS5iOIjxz+NP71j4w5/gVj+DqGy2QMtVWirUjGdGIlo37PCtvsckc0A32MKAMEkHS+T4BclwcwBr+NKfgdNH3dZvDUx+xk1H0hox7Lxi2f5jJ28G+MJLn/28Gzt7eXhoYGioqKUIyr95OSksjNzaWqqorLly+bIfNW/x0ekZWx6XiGGTx3RxfwUVAGKeXtbDqeMS14LrKO5xH7eGbvuQqfjzrKsb9UTH5+/i3FOMYXtrB0/HznMnspC8ZFOJ+ezOTr0EyswpLoGbi1844a7QhlLb3UXO5n5BpwuxY8K1p72RGRi6u4zNy7ItX4JVeZry9taGeRdTzzrUQssBIxx0oQQQUnFpGfn3/b8KXT6Vjjp2SprZRHHAS7pVm7RbzsnsTmE1msOqpgqZ2UFftl2F8qpqV7gKaugUnT31/q1NTU2z7LqddPr5BXq9UzCp4lJSXU1tbe8HGj0TiTHwOW+n+4LOBpqX9pJSQkcM8996DVagF46623OH36tPnx+Ph4nnnmmdta807BUy6X39bW/J12WVkZpaWlU5Xs18JnQz46mQPGsA/M/ppm8DyygpGcCOHawUGMYasZ81jK6LFnhD68BEPkFvNaPX5vYnSdz6j3Yxi9HkHvsQK981wKo91pPPYB7f6r6QjfxmDEp4xEfo7m8lRz+9GjTwo2Svbj4On4J67s/29GDy1i1O9Z83VVlZW0nNsrJBlFbsEYupoxB2HKecVOMLYfdX4A0/HrYk57O9HWZTPUXm3+36bAlwQVvds8xg4vZsxVEDAZw9agGegzn13VyQ8I4iafJwSxlPsixhz/jOnICnSpnpPiNid+ZkNtVWhrswTh0g1+Dz19A+TXXkaiyKOy8qrAaXBwkPLmTqSFTSgqWunqFYRY/f39NDc3U1paSrpShXO4mM0+Yr4KTCQ8IY/mlpZfBMtbBc+E4ibW+Sn57nQuOyNy2BKczeYTWXQPaDmWVGXeIr4WPBdai/GQlvFNRA4rPZJ4wVnCTv94lFk5iBLT8ZMW4CYuIzK7wTz9m+jhER3a4RE+DspkkY2YFQ4yltkJk8BZe0S84J7EW0dS2OAtR1rUYn5OrLqZPecK8ZJX0NJ9VSBU3d6H1blCvgrP4avwXDxk5WaBTnl5OVVVAli2dA+y41QeTnElZvD8JiLPbIw/0dLiVh5xkE1KTZpjJcL1tJyurq6bipqu75buQbaF5fKgvZTHnRJ41E7EW0dS+OR4JhsDM3jVIxVJUQst3YN8HZHL827JvOCejNW5wpsKjVJSUhgYGLit+7m+JxTyqampiESiGVHI6/V6ioqKqKubPmHKAp6WmsmygKel7rieeOIJ/vCHP0zbzc3N5uuKi4v529/+hkKhMH/vfwN4JiQkTDpDd7e7vLyckpJbzErv7RBM5D2XM+rzDyGnPeiVSX6c2gY1o37PMeaxTJiMBr6CprmUy5cvU11dTaP/h+ic7kfjsgSt2zJG3JdhcpnLgCJIiJCU2pnbeOYTIRv9OlAzBb4iTC3t/9u81X7F4U+Muc1Fl+RivrYuP5m+wHfRi/agF+9Df+kHYVve4Y/C1NL5fq44/A/G4Hd+8X0PNRUydmgRYy6zuHLgLwKAujzA2MG/C9ZKGo0ZPIeaigVlvvtCwTzf4Y+MOt9Pue96znjuIibMi6bLPeb3Mqw+N+6FKpjqD6vPTYHPksZOvg7PYX2Ainc9E9gVrqS9W/g/J+KCRraHZfP5CRWf+Key80QSsRLB+3XClitIXsiWkxlYRavZHaXmi+AsxAW/nLA0AZ7dfQNIC5s4m1mLuu4yLZ29BKZUsiMih73n1EQoq9l7Ts1KzxSed03klcMpOIz7dqZWtDNv3ET9Wvhc5ZPO6cx66jsGJgFMWXUdX/iK2egp4rvgZL4Jy+SgqISBoWGGR3QklLTiFFfC/kvFvHQohUU2ElbslzF/n5hZu0XMtornHe903vRMYaW71DyN/OGsmsXj50gX20h41FFOXYcw3dx/qZjvTufjLCrFKa6EraHZXMgVVPXXb/eGKevYFpbDD2fV7DiVx09RBTR1TY22fPlwijmvfe5eYbL7oE08KampyOVyioqK6OzsvC0I1Q6PoNPpOH4xkbXHFLzumcobR9LwTqhgeETHD2fzec4tmdW+St73VfKcWxKHpTdWhev1epKTk+8YEM0AX11NSUkJbW1tUxTyvwZuCwsLaWhouOHjFvC01EyVBTwt9S+psrIy7rvvPuRy+aTv/2/Yak9MTLwr3p036oqKCoqLi2/5+qHLdegSDgqCHJnDFD/OwcFBOlqbaFFGUpUQQlpyAmKxmNTUVPLz88kVhWBwWyAYxR9exJjbPIynNgpemWc/mQqe12/912VhPPGmAH9O94xPL/+TMef7MMTsnGTr1JQVS2/gKgE6xfswRG5h7MBfuOLwJ0ER73QPYwfuwRix4cbvua8L45nNQlKT0z1ccRSeP3bwPgxnPjFbPWVkZJjV+sM5EZgCX2XUbR6jLnMQuW7iHYdw3twfwVt2waz3TaGiuYuhljL0cT+hS/NCp/BFl+aFPnaXYN80/voDg4P8eCaPTUEZ/Hgmj88DknjHIwHvuFzSM3PZ6CXlcx8RO4Pk/BSaymeB6URlXP2d9PQN8O2pXGwvFOIUW4xTbDG7o9RYny+Y9DubDjxbOnrYFprNSs9UXvdM4Y0jqaz1U7DmmIKPAlX80zmRpw4msDUki1U+aey/oOZcbgNns+sJUdTSN6jlLa90FoxbAk2cU8yu6ZzW8DyjuoNP/RM5eDGXgxdz2ROazIYj8UQlZBKbXcnP0Wo8ZRV4J1Swzl/FAmthe32ulaAEX7BPzMYAFat90nj6gIRL+U2UtfQKynlbCUtsha35hdZibC4W0daj4auwHA7GleAsKsVZVMqe6AL2XyqeFjy1wyMoKtsJTK3mXE4Dzd3T56nPHVftT4DnnHEf0fZe4Wc9cVZSLpdTUFDA5cuXbxlCk5OT6erpo6yl17yl3jOg5Xn3ZN73VbLGT8UaPxVveaXzlnf6L66VmJjI0NDQjIDn9fZH1yvkU1JSblkhr9frb2irZQFPS810WcDTUne9ysvLuf/++5FKpVMeS0lJmSIuiouLu63177333jsSByUlJd1xMtHtdGVlJUVFRb/quYODg3R2dlJbW2v2PJRIJKSkpJCXlzfl3KBGoyE/S0Fr5kUM57/CFPKusP3c24GmuxXDxW8Eb9F4Kwznv8IQvZWh67baR3JPYwxfhyFmJ8awNZhC3sN4fCXDBeem3F9dmZqeoNXoL+4U4PP8dq4cuEdIPPL5h7Blf+QhdAlON3yPw6USTAEvYgxZdTUVyfEvmE68MckUfkKtr9FohO3zxkKM4WsZOPYKa/YHsdExkK0uQWw94MObHok4xxWjrUrDEPsTI+m+FMYHEhMVTFr4AXrKriYYVTa28753Cl8EJvOpr4wNnnGsPiziU79EUvJK+TI4g4NxxTiP966zeXjJyszP7+4b4OvwHOyuAU+raDV7ovJp6ujFKbaYVT7pbDqewcXc+klnPEPTq3jNI4XNxzP49EQmq3zSWWwjYVtoFu94p7HSM4UX3JJY66dgY4CSH8/kmlOJvOUVFDR009mnwSW+lHd80vkiJJstwdn80yWJT05kUdDQPQkm0ira+cwvEeeYfLwTKvFOqOSHs/mIssr4KSSJr/3i2X8mHY/4RL2dqwAAIABJREFUAnwSynnbO40HxzPRl9lJeeVwCm95pfOscwJvH5bS3qtBUtTCMjtB5DNnXDU+a4+IN73S6NcMs/N0PrYXi8zg+e2pPHyTKtHr9ZSWllJTU0N7r4amrsFbhsOVnmnMHvcanZh4rrCXMDKiY2RER25dF+oGQbRVW1uLSqUyC3ba2tp+8XWmm1IODA3zqkcq7/gozOD5umca6/x/WWCVkJBg/lt3p329A8D13dvbS3l5OSkpKTdVyOv1+pue9bWAp6Vmqizgaam7Xi+//DK///3vWb58ubmvhdD9+/cza9YsZs2axZ49e257/fvvv/+OJpYpKSl0dt66ofiddlVVFQUFBTe9bnBw0JxfXlhYSHp6OhKJhOTkZHJzc6msrKS9vf3G5wJ7OxlRBtAd9AGDoesZUR6bYpw+1FyCTn4AY9Tn6MU2aBvyp4JgiRhj+BoMsbswxP2EIXYXxvC1aGuzplxbU1NDpTwEY+SnGE9/jPH0RxhD3hPSkbwfYdTrYUz+L0zNg78WdPMjMfm/gPHMxxhPb8R48m1GPZZhOPURulQvtPW5U8FzvHUJLtS7PMXb+/zYauPKl7YubHULYd0xBV+EZDHUWIghdhc+waE8u/8CD9vE8E+bs3x+VERSmhLVOV8KTn7PeqdQvvC+yM7wTLYGJrP2aDIOl4po7+5j56lcbM6pcY4r5mBsEdvCsonJrZ90H8dTK9kakoXdhUJszhfwRXAW0Vm17AjP4XXPVD4KVLHmmJI3jqSSWCy8B4lEwt7ofN7xTuPTE5l8eiKTD3wVLLaR8HGQimddk3jMUcZSWwkvuCexKVDFlpMZXMhrxDamiA0BGdjFFBGuqqOrf4jBoWH+4ZTAHKurW+/z94nNOet6vZ6mrkG+CEhkb2QO3gmVOFwqwepcIZf7NHjJKzgYV8yOECWvu0l5yUnEOu8EyuuayKzpYHeUms9DslkfoOLTICXnE5To9YL6ff4+8fhZy3H/UCsRz7sn09E3RJy6mS9Dc/j2VB5fh+fy7ek8ylsFi6HcgiLso7JYH5DBhwEqrC8U0dozdcqp0Y5Q2dZnnoCqqjtYaC1MVhfsEzNvbzyB8VlUt/fxnFsyC8a//8rhFHPK0YRgJyMjA6lUSl5eHq2trQwPD3NJ3cT6gAxWHVVgdVJK38BUCPZKqOBZtyRe90zjVY9UnnNLJjrnxlvVer0euVzO8PDwjIDntUKsm/V0Cvm2tjazQl6v15Obm0tLS4sFPC1118sCnpb6zde8efO4fPnyrwbB1NRUOjru3O9x2h4cZKi5BG11utn4vbq6GrVaPeXanp4e6uvrJymgExMTycnOol51gZ6sswy2TxX+3BDgskIwnv6I9vAv6Y3+FuPpjxjJODHtPWoG+sa/ThMh2XMZfcx3gr3TmY8xhq5GL7GdEmGp0Wiora0lLy8PTXerIBZqq0TT38dwcSx6sTW6NG+zzZO5B/oZaioU8t0H+hlqKsIU+JL59Ux+zwqK9lMbMZz7CmPkp2hrM8nMzERdUUtMbj2SgkY6WhsxXNiBJmITG2y92WDjxdb9h/nc6yJveKZySFxCW0szqmhvlu89xzKrczy8N4pley+yzCae4OhL6C7sRC/bz9kQH9Y7hbLJW8R7RxL4wCeZ3Jp2kkua+ShQxeMH5LzonsQnQRkciC2irWvyz6Kjp5/jqZV8HZ7DzlO5HIgtYntYNg/aS3neLYmNASq2nMziXZ90rKLVZvA8mVbJ6+MTz7V+Sl46lMxCazEvHUpmsc2EDZKYFfulPH5Axtpj6fwcmc86fxX7LhQSpqzFJb6U6JwGLuQ1MX+feJLIaPYeETYXiyYBxRmZij1ns9kVqeZAXIk5g11V1cGGwAyec03iNY9UnnVN4mX3BI6eT0Emk6HIzkeeX0NWTQc1Dc2TcsO/DM2ZdOZyub2MDwNUpFe0cz63kVcOp/Coo5wvQrIpb7nqa+l+IYN3jiTx3Zk8fjibz4f+KhxjSyZBX1lLLz+eVfPZySw+C87GL7kKjXaEpq4B/JOr8EmsRJ5dyumEHF46lMLcvfEs2Cf0/H1iNh3PnAJVWq2WhoYGMjMzsQ+JZ5ltPA/ZS3jEUcbCvSIePyDnny5JbA/PpapNAHft8Ajhqjo+Csrks+BsLuU33XRCK5PJJsHenfTN7I9u1NMp5JuamsjKyvrFHHkLeFpqpsoCnpb6zdfixYtpamq6ZSC7vtPS0u4IXG/Y/T3o4/eabYJGfZ5EL7GlKUdMTnY2DQ0NFBcXo1KpSBBdIC/akxJ5BOVlpbS2ttLf3y9kpZ/ayNjhJYx5LGPU80FG8iNvAXgHMJzbhj52F+2ndtB77kf0sT9hiN46LVxqG9ToY3cJUBnzHdr6nMnXdLUwnHcWXbI7w0WXbhg5OQGe2rosdEmu6OWOQhzoDY5CDHXUC68bvg5j+DrhvGVHPSO5pwUVf8CLjLnOwRiySsipl+3HcOEbdHJHgkXprPRI4nWPFF73TGWDbyINp39El+RK0lkf3jlwljf2h/P6/rOsOizhTIwYhUKB3elUFu0T8ZRDHE8dEPPUwQSW2Er47kgoOvkBdOmCDZQi2htPfz8czqRxMb0A6/NqHnGQ85ijnJWeqbx1JJX1ASqaOm4sTOvuGyCnuo2vI3LYeTqXRx1lPOEk5xmXRPNW+u6oq+DZ3NHD58FZPO+WxHJ7wbbnba9Ulo/bFy2yEaBzuZ2ExTZiPg1S8YZnKj9F5hOiqCEio44QZS1u4jICUqonRT9eKzTS64UzgZVtfZyVqSivbaS9VzPpHOiQdoSNgRms9Ezlbe90tpzM5rsz+fwYqaanb4DotCKswxKxCRaTqlChVCrN4HUpv4n3fBV8cEzJx0GZ/BSp5qOgTA7LyllmJ2WprYRldkIC0pbgbLOl0sfHktkUkMauSDW7ItV8fyafDwNUdPUL5yKHhkfYFalme3gutheL2HehiE3HM81qer1eSDPaGapkjXeiOblp3l4xC63FzB+Hz+kAMbeui+NpNTzjksRDdmIedxCz3FbEA7vjmLVHxEvuyTx5MIG3vNIZGPp1U0upVHrbKvsb9cSxhDtZY0Ihn5ubS2xsLGlpaTdUyJtMpn/3n3pL/R8pC3ha6jdfDz30kPmP5a/pa6MXZ7JH8iMZ9X0aw8lVmJwf4Ird7xmz+//QOd5HZcBnZI3HH3bmXsJ09ElGvVYweuQhjKc2oOkWstV1imOMHVo0ntv+jNkofjj3NIbz2zFEbWEk88RUEBwcxHB+O8aQ9xnyegqt38sYIrdguPA1msHrtuY7mzCeWo8xbA2G6C8xhq3FGL52ylnP69fXdDZNEhZpNBrq6uool4VgDHl3PPJzDaaTbzOcd3badXSJrsL50dhd41v469AluprvS1uegOHURvQSW9rjDtAc64Q+9ke0l37incMy3vRM4pPjGXwUqOQlVxm2ru40BH9JxYmvyAz6kSivn7hw/iyNre3ms5SByRUsthF8LP9xIIEnDyawyEaMvU8QukQXdOk+QicfQi+yolCdh/UZFW8eSeVJpwRePiQAyIYAFRsCVKSWTY4jrWjuIjS9mghlDXVt3UQoq9l5OhcXUbF50vf4Afn4mc1UpIWNZvAcHByko6efr8Oy+ThQyb5z+RyRFPOaRzKPH5DzSZCKlw8l85xLIs+4JOIjL2NrSBZbTmQQnFpJaHo1/slVHJGXU9rcPcVWadYeESuPpGIXU8T6AGG7/53Dcj4OUJBX3zV5MjY8wpdhOVidK8Q+phj7mGJ2RxWwLSyHfecLeNRRLviCWgk+oR6n4pHJZJxLzuHnMzk855rEOz7pbA/LYWNgBrujC3jjSBrL7KQ8tF9mPos5a4+IbyJy6eofYmtgChv9Us3guSMil03HM82gV93ex2cns7C9WIRdTDF2McXsiMjDOb7UfN9R2Q1s9Evlu9A05o7HYc4ej/uctzeehx3kU6Bq/6ViFtlIWGor4YHdIuZaCeb6S22l5vSipxxEPH9QwhMHZCSW3HhL+pdaIpHMCHTq9XqKi4t/0XfzdjsjI8N8DEgmk6FQKCYp5C3gaamZKgt4Wuo3X4899hgVFTc+M3iznjAinwnY7Ovro6mpidLSUtqCP6Xv0ONoXBYxZvd7xuz/wBW7/2LU4c8Yne5jqLEATV83o/7PM+r9uODVGfASo54PoksULIqMpz9i1OPBqx6dx55hzG0uJv8XMER9juHcNoyh7zOS5jXlXgyRWxhzmYXedT5Gl3mMuc5lZJo0n+FiEcbgdzBc+MbcppNvC+lB000pmwoxRH+JKfAlTMHvMpITbp5o1tfX0xG8SfDxnFjv7KcCTPdfdw53oB/j6Y0YLn4rnB2N+wnDxW8xnt6IZqCfgcFB5EVNOBwL5p39oTxic4HHbC7wmZM/6ZeC+adjPO+4i3nbTfj6xiEZq91j0J7dij56G4Zz29AlOk+JzUwtaxHiEsf9HufuFbFiv5T85AvoL32PLsUDXaonhks/MJx7GlVuARuOpfBRoIonDybwmkcKz7sl8fKhZDYEqEgpvQqeicXNvOCexD9dEvmni2B1dFhSyrencnCNL8H2QgFveaXxoJ2Ed7xTOZ1RQ39/PwMDA0gkErq6uujp6cE6Oh/XuEK8ZaV4y0rZFprFww4ytgRnjb9+Mm96pXEmsw5PaSlrjilwiy/hsKQE+4sFpJY20z8wyGpfhQBeVvE8sFvEQ/tlZpASssrFbPCRsylQwbawHAavm+QFpFTzUVAGP55Vs+9cAZtPZmEfU8RzrknM3Rsv5MKPw91Sm3hE6gZedE3gGScxT+wX8ZCdmPd8UjmZLgiGnnVN4kF7KfP2iZk7npM+2yqeVw+n4J9cTZgsi1VeyWw+kcmW4CzW+CkJU171lmzv1bAlWDgW8P3ZfKwvFLElOAur84UcS6rifG4jDpeK+eJ4Oj+GKVh1VMGc8fc+e/z9esgmWx4VNfWwyFqIERUU+wKkL7eXssRGANFFNhJWeqby6qEkHnOQ4HFaTGZmJvX19bclFpJKpTMGikVFRdTX18/YeiqVis7OTvT6qwr54uJis0L+Wms8S1nqTsoCnpb6zdfTTz99W/ZE1/eEH+TtPq+/v5+WlhbKysrIyspCLpebvRxLSkroFe3HeOwZxg7+fdz38o9c2f8HTAcfYNThT4xknkTbkM/okYcwBbwsgGfgK5h8nsAYsgqNRiNs1R9afBU8jz7FFad7MIavNU8JDRe/xRjxIZqeq8cFhtprMJ14A9OJtxg5vAKdx8OYfJ82A+1k8IwTwPP8DgxnP8UQ9cWNwbOvG2PEh5iOr8R49hOM4WsxBb7McEWSGTx7/N/FcPazq+B5bjum4HenNXI3XNghAPQEeEZ9LpzTHBzES1bGsy6JLLWJZ9buWObujuGpvRE8vPccazwlvOIi5k2PBDYFqfjkuLAlbBWtZqi9Gm1FMtq67Kmwq9Fge6GA51wTWWYrYdHeWBZYxfCV+wmG1ecYzolAL/oZfdzPjGSHoOntJCuvgI/9Uvg2IoennRN5zlWYNj7jksiXodlmf8+BQQH0XnRPZpVPOm97pfHkwQTWjpu974rM56fIPF5wS+JhBylvHUklJLWC7u5uent7ycnJQSKRkJuby8mkYn6OzOdoYgW+iRX8HKnm05OZvHdUYYZen4QKorLrOZpYgV9SJedy6jmRVkVUVh1lTZ309/cTk1vL5uMZbD6eyZaTmeat5wf2XJ2APuEo5puwDDYEZlDRevW8ZXuPhs9OZvGgvZQlNmKeck7ETVxKmLKWB+0FZfvEmdM5VvEs3BfP+74K3vRK5aOgDDYGqnjTI5GXnSWIpTKKioqwPZ/PYhshDeiB8V5sI2F9gIovQrNRq9WcSChg5+k8vgrPJTa/adL2v06n46uwHPNW/Yr9Mp52TuCNI2ms8VOy2lfBu/8/e+8Z1daBrm3/e9c6a50f7zpzvjlz2syxU92TuCZOYsdJ7MRxepvY6X3S4xTbVFNsgykugHsvuFfUu4QAgUAI0UXvvQgJcMG5vh8bbYPBNtjYMzmvnrWeZYPERntLwKWn3HeciTfjdCzfbyL0nINnY3Tcs0rK5CA5C2MM/O1ABqUNV92DEtPKmRKsEHNykEKcT50crOCelRLmrtOwaIOBx9ZpeG6DgTaXm7q6Omw2m/gzX1paKvzM3iXwvJnu5mjTbDbT0tIy7G1tbW20tbX9vX/V++J/SfjA0xe/+5g/fz5ZWUO3sUeaqampN50R9fqXFxQUkJ6ejkajQaFQYDabcTgcVFRUDNmsd9fkc3nX84IWZfD/5beQf+FK+L9zed14+kL/iCdXhruxQtj03jpPqGbGTuHKuj9zad+rdHW04a52CFJEMRO4EjOZKzET6YubLQCaFzzP/sClPS9y4ewPXN71PBfO/Ui3Q8rlPUu4eOILWvcuo2PvO1zetoCLR96nq/0a6aimKmFzPOoBrkSM58q6P9O3aTru2qIh18FTksrlnQu5dPRDYXP92Edc3vUcF5ShdHV1UVFRQcWxVVze8yIXT33NxVPfcGnfq1xIWjHsnGd3vpJLB9/i0uGlXDy8lN69r1NtSkRjTmd2qJR54RLu67dBvHeVhGnBMp6K0jEjTEXUcQMLozUsjNGzKFbPq/EmsstuPKvb1NLCaxtVfLZdxRexiXy4bg/vRyWyNDKRi6e/wVNkECqkAyA+JyeHDefS+WBXKh/sSuWJCA0Phyh4Ld7EPlMxja3CzGxdczuPR2h4abORZ6J1TA9VMi1YwZRgORsVDiLOZzMvQs3kfl3L+/2lPOgvY6MiH7fbTXd3N+0dHSjT81h/VMsncVI+36Hjp8R04jWF1LV2UtnYTlpxAzv0xcQq8omR57PTUEx1cwfq3Bo+3mPhw91pfLArjTh1Ia0dnagdVYSdtfO3/Rbu74fEcSuvCsxPCpDyt30pLNuZKroWZZY382CAXGxT3+cnZV6kDr9TdlKdjTwSquQer3zRKqFl/qC/lEdClNznL+U+Pxlz1qp5e6uZZ2P0VDW04nQ6UWoNzA652voXNu2lPBOj57vETF7doGJykLARf7+/jMcjtCQXNYgAZCysZ1Gsgec3GpgXqWX2GmFM4rP96XyXmMl3iZm8HGfi9c1alibo+WRPOrPXqHlneyr+p+z4n7Lz4W4LcZqiqy1mZyMT+9vs3vnTiYFyQs/nkl/TRug+KYs3Gnl0rYb3d6XhqBqsi9nb20tDQ8OgFnVJScmwEDqW4Hkz3c3RpslkuqHmp6/V7ouxCh94+uJ3HwsXLsRiGSrtM9K0WCxUVl51lens7KSuro7CwkIyMjLQarWif7m3vTVS3U93TT4Xj3/a72/+/wne46H/hjtmOl39Mki9qnDBPz3837kS9m9cWfMfXN42X9Db7OrCXVvABVUYF09/TU9mIt2ZR7m8/zVhHnP/61zeNIMrEePoi36Qvo0PCzOh8XO4dOBNLu1/nfbtL3FpneAA1Bczict7X8JdWzC45b3vFfoi7+VK5L30xUymb/MMetIPDgXPcqvgMT8IPBfRq10vgmemWcuFpF+5tPdlLu99iYsn/zYEYl0uF83NzZSWllKgP4Hz4M/k7/0Oq2QvNpsNVUYeT0ZoeDXexIT+2bz7ViUx0e8s80NOMidMhjHFgi6rkF2GIg6ZnZTW3eQ5aa7BLQ/j3TW7+WjNdr5dHcHX0Xt5N+ooX2w4Imzd91/zgZmTk4Mjr4Cz1nL8T9r4IdHK/PVaMV/abCSnopH2jg5eTzDxZKSGR0KUzApXMW21nKejtHx3KANJZhlPRmh4MEDG5CA5U4PlPOAvY2qwgrrWTjweD4dTS/nqYAZfHczg830Wlh9I5qhUi0qlwuFw0NzcTHd3Nx1dbopqWymsaaXD5aaupZOP91j44Ugm/qfsrOz3bzfkC/JA3d3dlNe3itA5fuVV8HtktZTX4wzsNpXg6e5hX3IJEwLlV+dC++83dbWC5zcaaWjr4tvDmUOWlqYECpvj96wSYPJePylTgxV8ecAqLtS0dHp4bK2aacEy7l0p4b6VEu5ZKWFKkJzXtyTzULBMHIEYt1Kw+py9Rk2by0Nvby9fHsxgSrBgZflSnIlX45OZEChn6Y5UETzf3paCf6KZ08ZsTlsreWtrCn4ns0Xw/PawlV+OZw8Cx0/2pjMpSM79/jImBcl5IlIrQrhCoaCnp5f2ru6bLgb19vbS2NhITk6O6CTkdDrFOcmxnPG8me7maNNoNNLe3n7d233g6YuxCh94+uJ3Hy+88AImk+mWoLOzsxOz2Sw4/Fit6HQ65HI5JpMJu91OWVkZLS0ttyVQ3+Vy0WPZR9+Wx+mLnYz74LtYDYoBt3dy8fhn9EVP5PKWJ7iY+D4XT3zJ5X2v4G4sH3q8znZ6UnbSt2GqIK4e8T/8FvKvgl/5lseFymnMJC6owgQJorX/Q1/ov9G38WEu73mRy/FzuHjm26twXJ3L5W3zuXR4qZCJy7i86zkuHv1wmO/dwcWTX3J5+9NcOvgml/cs4fKu50RtzcrKSuFNQL+MVLfthNBO3/sK7WdWkZ+uw2w2I5fL0Wq1WK1WiouLqa+vH3SNm9o6eG6DgYUxOp6I0HDvyiTGrzjHVL9TzPQ/Rtj6teSqDlJRUXHNte7EXWnHU2IWF7S82ZNxkIvHP+X4/gReXnOEpUGb+evqrbyy7jjy49u5IPWjNzlhWPD0zhC7XC4+2SNsnb8Wb+K1eBPzIjV8ud9Ca2sryuxyHlurZmKgjGmrFUwPVeJ30sYvx7LYbXTySKiSBwOE26atVoiVNrm9mpL6Nr4+ZCX8vIMIaR7rJLn87UA62rwaWltbyc/PR6vVotVqyc/Pp62tTYRKi7OBD3eniXDlf8rOJ3stbNMVifeR2Kp4PEIjtrjvWSXhQX8Jn8VJOJdWSEeni3XSXGaGq4YsJHnb8y9uFkTgN6kKmbZa0V+5lTEtWJiZnRGmYmKgYJV5b7+TUEZZkwgvpQ0dzF6j5rl+eaZHQpVMDZIxO1TK7BApkwKuVljv6XdeejhUib6gnl3GEiYFycXP3+cv49kYHRMC5by91cx3iZl8c8jK8xsMrD6WgiU7D3d3D98nZvHhbguvxJlYGCMoIGzXD5Yhcnf3cMpaid8pO9v1xTS2X3UXutUqZW9vL83NzTgcDtRqNUajkaSkJDo6Om7peNdmZmbmDXU3R5t6vf6Gj80Hnr4Yq/CBpy9+9/Hqq6+i1WpvCoAul0v0L8/MzESv1yOTyZDJZOKMVlNT0+1B5gggtLq6mtTU1EGfvyBZMXgh5+TXXN7zoqBtOcxxuh1J/aLss+iLncxvYf8mVDQ3TRfAM/pBoXrXVEVv9BTccfO4vO8VQZ5o/X1cWftf9KTspKujFXdDmeAUdOivXDq8jMsJc/kt/N8FS8xjHwtanAO/f1NV/zb6W0J72nkV+quqqkQrS2e6ms6Nc2mPnkXzhidxx8ygc9er1FSWCVJRA65Jd4Gai2e/5+LxT+lJP0BXRysKeyVPR+uYF6Fiut9xpvqd5vmQw2xJiMF9YCkV+75Easknq7TfqamtSYDtQ+8IW/pHP8BTfPWxXZD6cUGygl7VGtRHN+O/PoaQUD+Mh9bRKw3gwpnvh8pI9YNnfn4+HR0d1De18GSEhhc3GXg1zsircUaWbDIwf72WTpcLt9uNoaCW1xOS+Xx/OmuTHGxSFbD8aCaG/BoWbzRyn59UbOk+4C9ldrgaY0EdGSWNfHPISoQ0T8zvEjNJTC0V4bG7u3sQzBgMBoqKinCU1/PBrjRWnrha2XtvZyqnreW0trZitBWyKErFkvVS5oYK7fVpQTI2SW0EnbIRKXGQXFDNo2vVzI/UiBXRgS3xe1ZJSehvUX+6L50F0XpeiRcWeBbH6rhnpYTpoSrmr9fx2DoNs8LVPBKqFKWQLly4QE9PL6/EJ4uzks9tMDB7jZqA0zk8tV7LlAABdO/pr8re7yfloRAlaSWNzFuvY85aNQ/4C7Ar6HPKeL1ftumNhGRmhauYHKzg0XAFj61RciKjAqm9hqmrFUwIFFroU4IVrDyZPWJZo7Foj3shNCkpSVzWKSwsvGGF8WaZkZFBbW3tmIGnTqfD5RrekvTChQv09fX9vX/V++J/SfjA0xe/+3jrrbdQKBSDYMHlctHY2EhJSQlZWVkYDIZB/uUlJSU0NjbicrnIzMwUFwPuRtbU1JCSkjIYJG3Hubz7BS6e+BuXdz4nVDLX/hcXz3w7tOrpcnFp78v9rfv/4LfwP/Hb6v8rfLxhKn2bZ3IlZhKeklRBkD1hAZ7Nc7m87Sl+C/sjv4X8K7+F/RtXoh/kwtkfBSiTB9G35Qkux8/ht7A/ciX8T/TFzaFv48NcOvD68Dqc7c10Zx2j67wfdfKNZKYIwuLnz58XlALOhNAbN5cLB/8qVFIPvcPlrfPwFOkHn3u+UtDs3Psylw68zuUdT9Ori6arq4uKhlYkqXbStnyB5+S3wgb8me/I3v0d8wIO89BqOQ+FKFm6PYX69FNcOvgWF5J+5YJkJRdO/o2Lxz8VpaZ6jZu5ePprLqjXCHn+Vy7tf52MYxGEbt1P0CENpoIaOjs76ezspL29ndbWVnJyctAbDMKIRWsrr8WbeDZGx+sJybyekNy/3Z4qgqHb42GnvpgfjmTidzKbn45msU6SS3OHC4uznodClNznJ2VioJzpoUre3ZFKZ5ebyqZ2vjlkJeScUPFcK8nlywMZJBfWDQJPb3o8HnG2UKFQsHKvhtc363h3m4k3Nmv5IF7FqSQ5crWWiBMmFkWrmRWuEquJ4/ori/PXa1kQpePpaB0PhSh5JlrHzDDlICmmcSsl/HI8iy6PsOgTKctnboRGBM9nooQlsIdDlDy2TsPcCA2PhKr4LjFzCMDYKprFRZ1H12r4YLeFhvYuQs/lMn21TJRYGrdCwgN+EhZGyEi3OZgequSpKB0pG3VSAAAgAElEQVRPRGqZtlrJg4HCmEJTh5vqFhcblAXMXqPmhU1GFkWpeSpCxZORWtYk5bEgSseSzSZejkvm7W0pPBtroKhuZNA3VnOZPT094rG8FWydTodOpxuVp7o309PTqa+vHzPw1Gg0wu8CH3j64g6HDzx98buPZcuWsXPnTvbt24fNZsNoNCKTyUT/cqfTOcS/fGB6QfRugWdtbS1ms/kaiGuhV72WvoS5AhT2L/j0xU7hUuJ7g8DPU5HFlZiJXAn/D65EjudKxDgBJkP+hStR99O3cRo9KduvViFVW+mJnS5s14f8iwCWG6bRFzebKzETcdc76WpvpidtD30xk7iy7i/0Jczl8q5FXN65kL6ND+OpsIk+8SUlJWRlZlC37U26IibhXj+VnuhpeHa9TFlhjljN7dVFcXnrgBb+4aVc3jaf7vzBbxIunv6Gy/te5tLxT4Q88h6Xdz1/tVXucnHh3I9c2v+6IB5/8iueD9rLVP8zzAlXCDODqxWEJOzm4vFPBejsz0uHl4pVY3dNnlBNPv4ZF09+wcUTnyFTyJm9Rs2MMBUzwoS5zMPJRbS1tdHe3k5TSxtn0ktYlZjK9ztVbDwiZ6c0jXmRGp6M1PJkpJanonRocmsGQWGHy01yYR0HU0pROqppaneJt2WVNfHT0Sze2momQpJLVVOHeNu5rEq+PmTl60NWvjqYQZy6kA6X+7rg2dTUhNPpxGq1IpUriD2UxPJt54k4rMCUkc26pByejNTycIiSiYEy0cXnwQCZWMmctlrBo2vVzFmjYma4ilnhap6N0fPoWjX3+0l5ar0Wlb0Sl8uFx+Ohp6eHiqZOXtps4okILY+uVTMrTIn/YSPrZflitXPFiexB1c6B6XJ3k+JsJLuiRRSP7/L0sOaYkcUbtMzsdwoKP59LRV0T+fn5vBAlY1qghCfWKnhqvYbpYSp+PJIlHjP0nIPHI7S8HJfMoig1z0ULz9GCKB0TA4U3KM/G6lm2M41FGwyklTTeVfDs7u5GpRqqIdre3k5hYSF6vR6NRkNubi4tLS03rchaLBYaGhrG5LFduHBzH3kfePpirMIHnr64KxEfH8/kyZOZNm0akyZNYtOmTeJtV65c4ZtvvmH8+PHcc889xMXF3fR4SUlJ+Pv7s2jRIv75n/+Z+++/n6VLl97cv3yYtNlsOJ3OuwaedXV1JCcnD73N5eLSgTfpi5nMlcjx/Bb+7/wW9ieurPsz7rKrLeDunHNiVfPKmv/kypr/4kroH7m0/RnBP/2a2caCggJKjMfpi50iQOWm6YIgffxjXImZOKi9fPHYJ/TFzeTyrkVc2rGQni3z6Y2ajFV5TPSJz8zMpMp8gkubZggznntf4vKeF+mLm0mLYacInp4SM5e3zePS3peEaufOhVzevXiIrNKlYx8J9phe8Dz6EZd3PjtIwN5dW8TFM99yad8rlO14n2kBZ5kZImVOuJK56zTMCFPxdPgZLh1eehU8zy3n0uFlgtB9/3FcdU7cWSdwpx+ivSSDJRsNzFmj5uloHc9E63hsrQBdrq4uuru7OZ9Vid/JbNaedxB0xs6vR63sUVj5YouCJ8Ol/DVeizGvclgwHC4tznoipXn4n8rmaFoZzR2uITBZUt+GsaAOe0UzXW4Pbo8Hhb2aVSey+OFgKjukaSSpDITtk7Jyr5oDCgsmWxFrztn5fH86sYp8lBmFhCTqeThIwhNr5Dy9/qpnu7dN7QXPqcFy5q0X5i2fitLyxhYzs9eomb1GzZcHMmhsc9Hh6qK0roX65jY6OjpwuVzUNnew+mwOL2428VaCgS936sgsa6K7p3eQBNJo8kZ+4YW1bTy3Qc/0EDkPBUl4NkJGcmauOJe4w+Bkbj94LoxSsShazdTVCmb0z9VODZYzMUjOE5Ealmw2XReK7xR4ejwe1Gr1De/T0dFBUVERRqMRtVqNw+GgqalpWAhNS0ujsXFk8DySvJmdpw88fTFW4QNPX9yV6OzsFP/vcrn47//+b2w2GwD79+9nwYIF9PX10dbWxp///Gfy8vJueLyQkBB27NiBzWbj008/5dixEdhIXiezs7MpKhoqHXSnsr6+/rrLUJcS3+PK2v8WNtzX/YUra//Mb6H/ygWp/wAIK6Bv8wwub19A39Yn6YubTV/spGG30L3gmZOTQ68umitRD9AX/yh98Y8J2+tbHqero5WOjg6qq6up0OyiO3IirshpdERPpydyAp27Xqe2pmYQzPdkHqEvbrYAnf3Zt3kmHbKwq2MELhc9mYmCnujWJ7l06K9C+/+ax9eTtkdYVjryvrAlv3MRF898N7S97+qksyqPfepM7vOT8oC/hBmhCuau0/BwiJK34nVcPPkFlw79Ffeh92nZtwx36h6xZd7W1ib+297eTnt7O7PCVTy6Vs0TkVqejtazIErHzHAVLR1ddHS5CTqTw5JNRib1S+zMDBcqo4+t1TB3nZqZoXKWrJeiMxgpKSnB5XJdFzrtFU18n2gl4FQ2YeccfHvYylZt0bD3dbvd1NfXU1hYSMIZIy9HSXl3k4xPtgrt9Jc2GXh7q5l3d6bySpyJuf0zkwuidKI/+v3+Mh4JUbIoWsOCdXKmBwlt8/v8JEwJVogLQzPDVMyL1PJQiJI3t5hxezzkVbXgrGulu7ubwppWIqV5rDhhI+CUHVl2JZ2dneSUN/DtwQxCz9pZfSKd7/bo+fm4bdBizsCsb+tCaq/hSFo5meXNYqXzWvC80dyiu7sHS0kT1rJmmltaxIUrvV6POSuX5zfombtOw6PhCmaFCQtcS7en8HiEhklBcib0Kwqoc0c2G9nb2ztm4Ol2u9FoNCO+f2dnJ06nE5PJhEqlwm6309jYKEJoSkoKzc3NY/LYvIB9oyqrDzx9MVbhA09f3PWor6/nT3/6kwieixcv5siRI+Ltv/zyC/7+/iM+3jfffMPBg8ND10hy4Nby3ciGhgaMRuOwt/Wk7eG30H8VKplr/8yV8D9xJWIcl3cvGXS/XuNm+jZPp2/zDPo2TefisU+u659eWFhITk4OXW2NXDr6IVeiJ3A5agK9G6aTpzwgapKmpKSQ63DQbNjJpZ2L6It/lAtJv+BurBxyTE+Fjb64WVze9ZwAnrtfoG/zTFrSTwyZX+1qbxaql8N4xHtv79VECO317YvJPriK/IK8YUcj/E8KVo0PBsjE7ezJQXIeCVGSlFlOR20JsvPH+Dn+CF9tk7P2fDYFlQ2iO5Db7aaprZOi2lYKalp4IkLDA/0w8lCIkhlhKpbuSMXj8dDR5eaNhGQmBsp5OEQpaFT22zwu3qBnySYjL2w0MHedhhMpBZzWWtiYKOOkykxpWbmozenNnYZifj1mI0Yu6G9GSfP4ITGTikYBiMvKyrDZbOj1euRyuagR++3+VJYfsRJ6zkHoOQdLt6cwPVTJ8qNZ/Hwsi9cTTEwIlPPSZiP3+csGbZSPXynh6WgdSzYZWRSj4wF/KZMCpEz0F3RR7/OTMj1UOO+nonREy/MHPeZ2Vxdh5x2EnsshQVNIrCKfX47byCpr4HhKEZ/uMPLLPh3fbpMRkGjm20MZpDkbhlTOaltdBJ3JYfmRLFacyOaHI1mcsg7VoMzIyKCurm7U0NTa2kpeXh7HJWp+2qXkvTgl689YeGGjkQ/6XZDe2Z7CC5uMvL3VPOLjjiV4dnV1odVqb/lrS0pKMJvNKJVKsrOz0ev1YwqeN5N68oGnL8YqfODpi7sWJ06cYOLEifyf//N/iI6OFj8/efJkUlNTxY8TEhJ47733Rnzc5cuXs2fPnlsGQYfDQUFBwS1//WizsbERg8Ew/O2tDVyJnSy0z8P/Q9Dd3DJPsJy85r7uSrug61mopauzfdjjuVwuHA6HKBml1+kwnt6DTbKLnKyMUWmSDkqXi159rFBtjZ9DX9wsLiStoLa6cuj86jWPx1pSzw5dEYfMJYO0N615xXy208A721N4Z1sKa87n0NR2FVadtc3MCFPxZISWh1YruGeVAJ4TAmTs0RfQ2tpKSkE1f9tvIehUNuuSHPyQaCXkbA6ufgg8aC5lXqSWWeFqpocqeWNLMjPCVEzur4ZND1NhK28SwWveei0TAmQ8HKLk4X7w/J8VEp6NEcBzySYjc9dp+CExk+AzdkLO5vBrYhobThpFF6La2lo8Hg9bdUWsPG4jSprLqqPpfLhVx+L1chKOydDpdGRlZVFaWkpLSwsej0dsvf+QmMmKEzYRPF+LT2Z6mJIfjwjg+Uq8iYmBcp6I0HKfn5QJAYKc0dTVgs/4Q6sVLIjSMWeNmu8PW1Hn1rBZmUfg0VTe3yxj6UYZn+3Q88uRDDJLGweBZ351CytP2NiszCPyrJWQo8l8vlVJyD4p28/o+GibjtBTViIlOUTL8vj2UAZWZ61YHe/u7qanp4fT1kqWH7WxUVXIRlUhUfJ8fj5mo6F98DJLenr6qMGzo6sbQ2E9Ckctta0uWlpaMBgMyOVyvt6u5OlIFe/uSOG9nak8t8HAbmPJiI/d09ODUqkcE7BzuVzodLoxAdiysjKkUilyuZysrCzq6upu2Cb3gacv/pHCB56+GJOYM2cOf/jDH4bNaz1+KyoqeOihhygqKgJuHzxXrFjBtm3bbhkEc3Nzyc/Pv2vg2dTUhF6vv+7tvbpooY29fQGXty2gL+Exuu1nR3TslpYWysvLsdvtmEwm5HI5SqUSrVaL0+kUN/nH6lzc1Q667WcEe0qX6/rzq/15Ir2MlzebeHGzkZc2C9UnR0UjbR2d/O1AOh/vTuPno1ksP5LJm1uTOWYpFbfMTXlVzAxTMStcJbRMA2Xcv0rCtCApX+1Loa2jkz0mJ8uPZrJelifmt4etFNS0YHE28OhaNfPWa3k2Rs/EQBlTghUEn7HzQ2ImXx3MYPnRTBH6uru7Wbo9hamrFUxbreShECXTQgQ7RW8VcWGsnlnhar47bGW3sZg9Jie7DMWsPpNDUU0zJSUlGAwGpFIpO0+peHuDlHc3SVkYKWfeWiUvb9YTfDobi7Phui36xLQyPtptIeCUncDTdl6NNzEvUsuPRzL5+VgWy3akMDFQmNO8r19iSHD9EdrLXmh+IyEZ7YAlqC63hzRnPQmqPKLPpLH/rBqtVkteXh6VlZUUFRUh0aXwwWYpP+2UEXTYwNpT6fycmI7EVklDWydBZ+x8n5hJwKlsvj1sJVqeR3unICvV2dkpVpq3agrwO5nNBmWBCJ8/HcuipH7wZvloN7XLGjp4e1sKT0frWbLJxOtbzKQ4G0UN3oraBn4+YGL+GinPrJMRdsJCc9vIdTSvtxB0K9nR0YFerx+TY124IAi+Nzc3U15eTlpaGgqFQtT2vBUIvRl4XrlyZWz+WPji//nwgacv/i7xxRdfiFXP2221BwYGEh8ff8vwlJ+fT25u7l0Dz5aWFnQ63fXv09lOT8YBLh15n4snPqc7VzqsnFF7eztVVVXk5uaSkpKCQqFAo9GQnp5OYWEhdXV1dHZ2UlxcjM1muyvndi14tne6yK9qoqapjcbWDt7cksx7O1P5Yn86X+xP5+U4E+HncsivauKd7Sn8dCSTn45m8tMRKx/vSmXV8UxxLrO2sYXH12mYGCi4y0zpd/55IVbDq7EKDp9VsOFMCl8fsIjQGSnN5dtDVpx1bcQo8pkVrmLRBgOLYg1MD1UyMVDOF/sz2KAswO+UAEYDoU+WXcWMMGHbe84aoUq6MFaYI3wiUsvjERpWnbARei6HPSYnO3WFbJba+HGfkYMSoWVuNBrJysoiIyODjceULIqQ8lSkik/3pBGvKSROXUiMIl+syl6b7a4uIqW5LIo1sDBWT9DpbL7p941/KkrLGwnJBJzK5vl+jdB7Vkl5JFQpiLOvVvDrsSy26YrYqCwg6LSd3Krmwcdvb6eiogK73Y5OpyMpKYmkpCQRZLaocvnlWBbh5x34n7ITfCZH3MSvbu7gmKWcDcp8zmVVDtre986qdnV1obJX8vXBdNZLHcTI8wg+YyfglB2Xu3sQ3Azc1O7p6aW0oYOqZtews4fNHW6WbDYxqX8UYma4miWbTHyw24I1yzbIx7zd5aGmfqijUFfXjb3VR7IQNNJsb2/HaDSOGXgaDIZBgu8ej0c0cFAoFGRkZFBdXU13d/eIjucDT1/crfCBpy/uSuTn54v/b25u5r777kOlUgGwd+/eIctFDodjxMcODQ0lNjb2lmGpoKAAh8Nx18CztbV1RIL3A3OgV7zFYkGtVqNUKklNTSUvL4/q6urBouwD0ul03jXwHLg4lVXawHs7U1kYo+f5DQZCzthZssnA5/ssIngu3W7m0z1pVNQ18c62ZL45mM7yxAyWJ1pZut3MBoXwhsA7LymzVzMlWMH9/jIeDJDx2FoNPx3J5JO9FirqmtCm57B0k5wP4hT8uD+ZL/db2KDMx+PxsE1XxOw1agE8Nwhe3xMC5Ly9LYUfj2Sy4riN/OqWIeAny67i3Z2pvBRnYpOqgHZXFwU1LSjsVWQXV6Ky5PD1Tg0rd0sJ2KsgJNHAzwfN5JVWD5nz7O7uJiIpm6AjyQTsVbD6oJrAo6l8ud9CSlE9nV1u3B4PBTUt5FY109nlRptXwytxJrG17904f2yt8O/ijUZK69tobHOhdFTzt4MZLIjS8cGuNL49lMEuQzG7jU52G52sSXKwT59HYWEhaWlpKJVKNBoNVquVkpISmpub8Xg8eDweGhuFymGSTMGWUzrWnk7nsNlJWUPbsIB8o+xwudmhK+KHw1Z+OJzBr8cysTrraO90UVLfJtpTpqWl0dDQQFWzi8DTOXy4O40Pd1uIVhTQ5hos9XPAXMpDqwUJrLkRWmaGq5m9RsWSTUZUZut1fcx7e3tpamoSIfRG3uqjXQi6Uba1tWEymcYMPHU6nWjFeW12d3dTVVVFRkYGCoWC9PR0KisrbwihPvD0xd0KH3j64q7E559/zoQJE5g2bRpTp04lISFBvK2vr4+vvvqKcePGMX78eDZu3DiqY0dERBAZGXnLsCQu39wl8GxraxPFmodLr8NScXExmZmZoo2n1yu+oqKC1tbWEX8/r4j+3Tg37+JUW0cnf91mZvFGA+/uSOHtbWaejtbxXKyOt7Yk89neND7dk8oLG/TEyhy0t7ezQ1vAW1uTeX9XKst2pPLR7jQKaoR5x5rmDlF6SJtbw/z1Wuat1/LejhTe35XGAXOJCDk5lc2sT7Lz3R4DoftlaIxmKioqcNa2MC9Sy+w1Qrt9VriKhbF6zmVVonJUU9nUfl1w8ng8110Asuc42Kd1EHQ6m5BzOYSczUF1ja7nwEyyVRJy1sFuYzHLD1uYt1bB/HAJ78apCDiWRsApwWf91fhklm4381q8iTe3mvlifwYf7ErjgQBBOP2NLYJjz7xI7ZCloO7ubiob2wk4mUXseStrjycTuF/NFwkSoo/pyM3Npbq6+oZb+APPva6ujqysLBQKBampqZSXC6YGo4FPj8eDs64Ne0UzTW2d5Fc2supEFp/vtfDFPgs79UWYzCk0NDSwJimPj/ZY8D9lZ9VJO+/tTONQStkgEPrpmI1563U8EiqA59x1GqatVvJqQjJpGVlUVVXdFN683up2ux2lUonZbBbNJC5cuL2FoGuztbWV5OTkMQNP75vXm92vp6eHmpoarFYrCoWCtLQ0KioqBml2jmSJygeevhir8IGnL373ERsbS3h4+C3DUlFREdnZ2XcNPNvb21Gr1eLHLS0tlJWVkZ2dLYrfGwwGbDbbmNh4lpaWkpmZeVfB01pSz6JYPcu2m8VcvEHP+ztTeD3BxIubDCzZZOCNhGS+O2zl1+M2FDnV6PJqiJHns9voxFnXSnlDO8uPZPH8BgMvbTYRcjZHlDyaulrBlGAFm1UFdLk9w8JObXMH21V2vtutJXivlAOyVD7bk8LijQZWnsgWJYOuTZfLRVllFeq0bOS6ZBQKxXUXgAbqb2aVNVHZeH2A7e7upqndxW6jk1UnbDwTreOtrWZCzuUQeiqDp9bJeTJMwvPrFTwbpWFepIYJgXIWbzDw+f503t6awoRAOZOC5KJV5LMxer4+aMXtdlNXV0dBQQFpaWkcPiNn6SYZL0Qr+WZfMmFnbASfsVNYM/w5jyTdbjfV1dVDKmnDVXZvlC63m4BTdr47bCXwRAbLDyTz5kYl6w9KKK6o5v2dqaw6kU3A6RwCTufww5GsQWLxFy5cIEZRwGsJZmaFq4T52/7Xw8mMCrKysqiurh4VyPX29opOUF4ILSoqGjPwbGlpwWwe+Ub9zVKj0eB2j0yLdCCE1tbWDnoTUVZWRmdn501nWX3g6YuxCh94+uJ3H/Hx8QQHB98yLN3NVnRbWxvl5eVIpVLMZjMKhQKtVktGRoYofj/WXvFlZWVYrdY7el7eRZLa2lpUKhXWwkqejdHxztZk3t2Rwrs7UnguVk/o2RxqWzpQOWqIkuXx1Hotz8ToeTZG0NA8nl4+COa+OWRl8UYDH+xKY9mOVKYEy5karBDb5Y9HaFi0wUBqcT17k0s4Y63AVtbEBmU+3ydm8kZCMn/dliK29b/am4xab0SlUuFwOGhpaaG0vpX8shrRAUij0bDvtIIvt2v4dKeBr/ancjil5LozmLcEcB4PypxqPtsnzKN6JZaeiNCwKFbHs1EaFkcpWLhOwuRAKY+EKnhvZwof7U7jAX9hy/61eBMvbtAyJ0yO/z6lKImVl5eHrbCcNedzWHPewbcHM3g5zsg3h6xklzeO3Tm43VRUVIiLLV7x94FAfm12dnZSWVmJJjWLtzYq+Dxewrc71fx8wMTX+1OJkOTQ3NbBp3vS+P5wBqtO2PA7mc3fDmSw+qxjEAgV1rbx0R4LryUI8P1UlJb4fi9575LNrUKdF0KtVivnzp0jJSWFsrKyUYPewGxubiYlJWXMwFOlUt3QaWgk51hfX4/NZkOpVJKUlDSo2usDT1/cqfCBpy9+97F9+3b8/PxuGZruVCu6o6ODmpoa8vPzSUtLQ6VSoVKpSE1NRSKRUFNTc925zLHM8vJyMjIyxux413qZDxRmb2trIzs7G7lczidbVMyPVPNKnInFG408v9GAtV+ux+Px8HpCsqCruC2Ft7elsGSTkdcSkkVwKalvY/FGIx/uTuPjPRY+3mPhgQAZEwPlIngujNUzOUjOCxuNvBpv4oWNRiYHy3lsrZpH16p5wF/GvPVaVp6wsfKEjWU7UlHnVFJSUsJ5lYElkUlMCUhiaqCEd+M1OIpKaWhuxe9kNgGns4lR5BMpzeXLA+lDbDFvN6uaOvghMZN1SbnEyPOJluXxZISGGWFKJgfLeXStmudi9TwVoWJmiJS5oRKeXCPjsTAp04MlzAmR8li4nGVbDVTUNgwCviRbFRGSXPYnl7A/uYQ9/fOdtS0dY3oOAyvEpaWlos6kzWajrq6OxsZGiouLycjIQK1Wo1KpyMjIwJpTwGd7Ugk5Y2dNUi5rknL55pCVnYZiuru7OW4pZ9mOFD7ba+Hj3am8tzMFU0GNaNnphaHyxk4Op5azw+Ako+yqw8+NHJBGk95NdC+gDRw1GC30NTU1kZaWNmbgeTOnodGky+VCqVRit9vFuVen04nL5fKBpy/GPHzg6Yvffezdu5dffvnllkFqLFrRLpeL+vp6ioqKsFqtaLXaQSLglZWVtLW1ifeVy+V3HDi9WVFRQXp6+m2BZkdHB62trYMAs729fZAw+8B2q8fjoai0gtBEPS9HSflihw6tvVS8vcvt4ZkYPa/GJ4vg+VpCMs9E6+nscotgtnijkfd3XQXPaasVPBggE8Fz7joNDwbI+GSvhW8OWXl+g4H7/WXMXadhQZSOyUFyJgXKeXerns+3a3hhvZSoRKFF/PpmLRMCZTy8Ws6MEBlTAyV8vk1Nsr2YHxKtxCjyiZDm8sleCwtj9Ly9zczRtDLaOkc323ijPJtZwXeHrXx72MrXBzKYvUbdv5ku4Z5Vgsj7XzdI+SRewmdblbyxQcF7myV8EC8n8nQ6WkeVeL0G5vH0cqLleSJ47k8uIfy8g/KGG48B3C58VldXY7fbUavVnDt3jvPnz6PX6ykqKqKjYzD07k8u4dO96fx4JItvDlr55pAge+WtCGvzalgnySVWkU9GidAJ8L4WB/rGDwdSGRkZN3RAGmleu4ne29s7aN51uHnJ62VDQwMWi2XMwPNmTkOjBU+vxui1y1dGo5Hi4mIuXrz49/5V74v/JeEDT1/87uPQoUN8//33d60i6HK5aG5uprS0FJvNJopVG41GcS6zubn5hi3zuw2eFotlVJA5XDXTC5ldXV2jmulzuVw4nU4MBgMajYaCggI6Ojr49biNp6KEGce3tpp5KkrHz8eyBn1t6LkcFsXqeWurmdfik3lqvVbc6p4VrmJmmIqn1mv55pAALvMiNdzvJ+WhYBmPh0t5wE/Cg34S3tis5cu9Qsu/qLYVhb2K+/1lTAgUXIsmBsqZGaZkzholMn0K72yQ8ut+PR/vMvNS/0b5d4et+J3M5nzWyL3Zb5Yej4e8yibOphUSeTqNmSEyHg2RMClAwv1+Ang+E6UhWpbHr8dtJGgK2aItZPWpLH7ab0AiV4ht4NK6Fs5mVnI4pZRTGeUEn7WzQ1/MXpOT9dI8tmiLrjsLeyuPu7lZ0Cn1jicolUosFguFhYU0NDTgdrtpa2ujoKAAnU4naoS2tgozpp1dbjS5NcQq8tllKB7x7Knb7b4phN6KEP1weaNN9J6eHurq6sjMzBQhtLKy8roQWl9fT3p6+piB58220EeT19MY7e3tpbm5mdzcXB94+mLMwgeevvjdx/Hjx/n666/vWEWwra2NiooKcnJySE5ORi6Xo9VqsVqtFBcX09DQMOq5zLsJnl5tv+Eg89qW+bXVzNFC5s2yubmZnJwcYaZMk8zSrUYWROkE+Z/daUOkelo7u9iuL+K9nal8dTADRU415Q1t7EsuYca3C+gAACAASURBVIumAHVmES9v0PDaBiVvxUp5dp1gFzklSMaD/jLuWSVh3EoJz0br+HiPBWl2FR6Ph1+OZTEhUM7kIEEcfkqwgomBcp6J1tPd3c1uQxEfbTfyZLiUeWskLI5RE5lkZ5OygLVJubcFbC0tLZSWlpKVlYVWq0Uqk3NYZuLH/SZmhip5PEJYKBq3UnBmmhQotN2/PpDBVm2RmKtOZlNS10pNTQ1yQxqfxUv5aqcWv6PprDhuI1qWR6Q0j/DzDnbqi2+4tX+z7Orqoqamhry8PMxmM3K5HL1eT3Z2NuXl5bS33/zYLS0t5ObmotFo0Ov1FBYWjujrRgOhXV1CNdpisYxKiP56OdJNdO/SjhdCLRbLEPmiuro6MjIy/iHBcyQao7/99tvf+1e9L/6XhA88ffG7jzNnzvDZZ5+NCZh1dHRQXV1NXl6eqHOoUqmwWCwUFBRQW3vVDvB28m6CZ1VVFWlpabfUMr9T6fF4qK6uJs1iYfdJOae1Furq66+7mOLxeGhqahq0AKRUKklLS2O/ysqrmw28Gm/i1TgTj61Tc88qwcHnwQAZT0QIbff8qqtt3K8OZvDiJiMTAmRMCJCJwusx8jy6u7vp6HKjz69h2Y4UPt2TSkCimRW75XyxVcnPBwWXpJGcp8vlEoHNK/Kv1+ux2Wxk5hWTUVzDFk0hn+5N5/1dqTwQIMDyfX5Sxq0QoHlioIy564SZ1QR1IVu1RWxSFhBw2k5jmyCHdMxSTtDpbKLOWQk6qGP5Dinf7NaTV1ZNXUsH7hss/Ax3rb3SUVlZWeh0OnG2saCggLq6utt+jQyUMPKKuXd2juya3ghAq6uryc3NRaFQUFtbS3d3923NQd7KJvq18kXp6elUVVVRXV2N1Wr9hwTPkQC2Dzx9MVbhA09f/O5DKpXy4YcfjhrIOjs7B81raTQacTM4NzeXyspK2tuH90D/RwfPgS3z8vJyVCqVqP95qy3zO5XDteKbm5uprKwkJydHtP40Go3Y7XYqKipoaxtcGa1obEeRU01KUT0x8nyejNCyZJORt7aaWbYjlYWxemTZVXR3C/Ol3x22MitMxeQgGf+zQqgsPhAg5ZloHY7Kq84+hoJaVp3MJuRsDu9sT2FhtJb3E9T8slOK2phKVVWVeA0Htp8zMzPRarUiHA8ENpfbTfCZHGb2ywBNDpLz9cEMws87WLLJwLiVEjEnB8mZGizn2Rg9D4cqWX4kk6DTdlacsCHNvtry36EvYm1SLtt0xWzTFZOgLuD7/cmcU+pRq9Xk5ubS0jJUHN8LbV4ZptTU1EHSUWVlZbS2tt5wU/1234AM/Bn0jg14K5c3yo6ODiorK7Hb7eK4i9lsFjVKB1p2eo83Wgi93U30np4eUX5KKpWiUqmorq4ek6WgsQTPkQC2Dzx9MVbhA09f/O5DpVKxbNmyG4KYy+WiqalJ3GD3CoAbjUYsFgs6nY6Wlpa7VoUcS/C8tmU+XDWzpKQEk8mEWq0mPz//tlucY5lut5v6+noKCwtJSUlBIpFw7tw55HI5mZmZ1NfXjwqQ9yU7eSZGz7IdghD90u0pPBujJ7mwju7ubvaYnCyM1TM7XCUA3goJk4MVLOq3wlx+9OqcqdvjIb2kge8OC05K6yS57DU5CT/vYLtCmO+VSCQoFApkMtmg9vO1cOzNxNQyZoSpeCJSy5w1Ku73kzJ1tYLVZ3P4+mAGU1creDhEwZRgObPXqJm2WsEz0Tre3mpGZq/ilLUce0XToCqmIb+WFSeySdAUsU1XTPh5B7GKfLrcHtra2sjPzxdb3Hl5eTidTrKzs8WfA68MU21t7Yig705B6ECNUG+72u12i1DvdDrFDXm1Wk1GRgZOp1N0XBrutXWtb/xoILSpqYnU1NQxgbvKykrMZjPp6emDLC1vFUJvJvg+mhzJefrA0xdjFT7w9MXvPgwGA2+99dYgGGttbaW8vBy73S5WzHQ6HZmZmTidThobG8W5zNraWsxm812DztsFz2tb5l7QHEnLvLW1FYfDgVKpJCUl5ZbEv28XLrzPzbUOQA6HQ6xUeTweampqxD/SWVlZNDQ0jKjyVtnUzqvxyTwbo2fJJiNPR+v4Yn86Lrebji43b2xJ5t0dqSzbnsL9/jLuXSXhnlVSJgXJmRas4LkNhsHw4vEQIcklTuFg4/kM1h4zsmqPnK+2ykhJTSMvLw+73Y5er0ej0ZCfn39d6Ozu7uaTvRZmhqt4KkrH4xEaHvAX2vzTQ1W8tNnInDVqFkTrmBqsYEKg4FK0eKMRfX7tdY/Z0eXmcGop/qey8T+VzXpZHs66NtxuNw0NDRQWFmKxWJDL5UilUpKSksTHOhL3orudnZ2d4jzo+fPnOX/+PBqNBrvdTmVl5ZAN+ZGk1zd+NBDa2Ng4ZhJIlZWV2Gw2Lly4amnpfX175Z9GCqG9vb1jWvEcyXn6wNMXYxU+8PTF7z7UajVLlixh+fLlJCYmolAoUKvVpKenU1hYSF1d3Q3nMuvq6khOTv6HBM9rt8wHVjNvp2Uuzlj2i3/b7Xaam5tH/cf8ZtnV1TVkxlGr1YoOQNerVA3M623F3+hrnHWtRMnz+PqQle36YupbhfnB1s4uXtxs4sPdaXyyx8KEABnjVkgYv0rKQyFK7veT8mSkFr2jCnlGIZYsO8nJyfyyU8pPu1WsP2kmTppFjNTBFm3hkMfe0tKCw+FApVJhMpkoKSkZAnbLj2QxPUwAzycitIzvXyKaGCBjQqCceeu1HEopJeiMHb9T2exLLsFZNzJ/9LLaJiy5TjJtgguW12r1WotMj8dDbW3tkDnEv9fohXckxGazDZkprakRxP29rx+bzUb9DeaBbwdCrwW/sZRAqqioIDs7e8jnu7u7xTlzhUJBZmYmtbW1N4TQnp6eMa141tfX3/Q8feGLsQofePrirkZTUxN//OMfefnllwd9PiwsjPHjxzN+/Hj8/Pxuehyz2cxHH33E5MmT+c///E8mTJjATz/9RFpa2qjnMr02j3cbPK/dhL9TkHmz7OzspLCwEK1Wi8FgGBaWRgqz1y4AeWVm8vPzqaurEytMt5otLS3iVnxKSgoVFRWjvh5BZ+ws3mjkkz0WZoQp+Z8VgmzRgwFSJgZImRwg4cX1Et6JU/JOvJ7I8zb2mZysPmNnXVIu65JyCT/vwF7RdMNrMVBqJz09nerqajweD6nF9cwKVzMjTMWUYGF7fUqwnIUxep6L1fN4hAZt3s3F6j0ejyjQnp6ejkqlEtvPxcXFNDU1jQjOrnUgysrKum2wG8njLioqwmKxoFQq0Wg0ZGZmUlpaesOZ0s7OTpxOJyaTCZVKRU5ODk1N138eRgqhAzfjB0LoWEoglZeXk5OTc8P7eDweKisrxeciMzOTurq6IRDa3d19U4vL0eRINu594YuxCh94+uKuxiuvvMLHH388CDyNRiMTJ04U9e+mT5+ORCK54XHsdjsSiYSmpibsdjsLFy68ZQhsbGzEYDDcVfBUKBRia/x6LXOXy3XXtsy92dDQIC56WK1W6urqrgsB3uWOgQtABoPhugtAYw0vt9qKL69v4dv9KTyzXsVDQVKmBkqYv0bKI6uFtvu9flLe25HCy5tNTAmW89BqBQuidXx9MINzWRXI7FWU1I/83Lq6BMmulJQU0R1GkVXKp3stzApXMW21glfiTTy6Vs2EQDn3+8t4Jc40BGw7OzupqqrC4XCI19tkMpGTk0NlZeVtbYV70+VyifPAXlvR262Ee7fNr33c3tGKW231t7e3U1hYKI44DNQIvdUcCKGtra3k5eVhsVjGZBmorKwMh8Mx4vt7PJ4hbwjq6uro7e3F4/GgVqvHDDxramrIzMz0gacv7kr4wNMXdy127drFjz/+yN69eweB51dffcW6devEjxMSEli2bNmIj1tQUMCCBQtuGQKbmprQ6/V3FDSvrWaq1WrsdjsNDQ3/cFvmXlgqLS0VF5Ly8vKoqqqiqKhoSHWtqKiIxsbGv9tjH64V712eGlgVHGjbaLFYSLHlcdZSzJtbkpkequTBABnjV0q431+Y95wYKGdqsIwpwQqejtIyd60GSf9m/EiyorGdbw9bmRWuZmGMnsMppbS3t1NUVIRer0er1XJcn8UTERqmBCsYt1LC+FUS7l0lZclGPe/tMJNfVDxIPio9Pf2uXW+v+LtWq0Wn041Id9M7w+t1AxsoLO993HeikuqFxNvRCG1ra6O8vFzUV/W2+6uqqga9EbxVCC0tLSU3N/eWvtbj8VBeXi6qDlitVpRK5Zg5F1VXV5OVlXXd233i8b4Yy/CBpy/uSpSXlzNjxgx6enqGgOeSJUtITEwUP5ZKpTzxxBMjPnZJSQmPP/74LUNhS0sLWq32jkDmtT7m7e3tdHZ2DhJST01NFduwfw9wGw4evH+EvTN3SUlJnD9/XqyC/SNtxQ9M76yaRCJBKpUilUoxGo1iVXC42dBDKSWibNHkIDmP9EPoPf3Vz3tWSZkQIGNSkJy1SY4RPQ53vxf9I/2C8HPWCK116QBwbW5uxm6380q0hPH98kn3rRJci+aslvDMOhln9RlUVFT83a+39/Xq9fH2jmN4FQmulWKy2Ww33Oy/kznQ7tFkMlFcXDykGuwdC/GOKXjb/d7Z42srpyNxS7pZOp1O8vLybhsS3W43xcXFSCQSlEol2dnZNDQ03BaEVlZWDjt/6gNPX9yJ8IGnL8Yk5syZwx/+8Idhs7q6mvnz52OxWADGHDyrqqqYPXv2LYNia2srGo3mtkHzZi3z60FeZWWl2IbNzc2963+su7qEBaD8/HwRHrwLQCUlJeIC0MCFJG/L+E4sJI003W63OCs4XBXW6XSKCxs3asVbSxuZv17Ha/EmFm80Mj1UyQP+Mv6yQgDCSf22mveskvDdoQzhmrk9WJwNpDkbcA3z3GaVNTEjTMX89VqeitLxVJSOGWEqPtuXPqgqmJWVxZuxMh4PlTA5QMKMYAmzQmRMD5Hz0mbTiG0k71a2t7eTn5+PVqsVvdh1Oh25ubnU1NTQ1fX3kWIaLj0eD/X19dhsNtFpKS0tTXQf874hqaqqGtWYwq1CaHFxMfn5+WNSoezs7ESv1+N2uyktLcVsNosQ2tjYOGoI9SqA+MDTF3cjfODpizsenZ2d/Mu//At/+ctf+Mtf/sIf/vAH/umf/okFCxYAt99qr6+v5+GHH75lcGxra0OtVt9Sy3wsF4Da29vJy8tDpVLdMamj4Ty2vS3F0SwADbeQdKeho6Ojg4qKCux2+6CNbYfDcUN4uFErvrtb8Ax/e1sK89dreSXOxMIYPQ+HKLl3lZT7/KRMCJTzYICMiYFyPtydRkl9G4s3GpgSrGBqsIKFsfohgJhR0iiC5/z1Wp6MUPPwajmvb1AOqgqWlZXx6zErH+xK5ZEQJRMDZTzoL2WCv4RP4qR/V7i/mXZmY2MjFRUVg7axbzQTfDfT+1rxapUqFAoMBgN6vR6ZTEZqauotLaZdm8NBaHf38PJMRUVFFBYWjgl4tre3YzAYBn3OOx6TnJwsvjEcKYTebP7UB56+GMvwgacv7npcW/HU6/VDlouSkpJGfLzW1lYmT558y+DZ3t6OSqW6pZb5nZjLvLaymJOTc8tLE94FIIfDIVZ6DAbDTUXOR5OjWUgazR/0hoYGcfN5YDXT6XSOeGP72vTKHSmVSsxmM+Xl5bjdbgprWvlifzrzIrU8v8FAnKqABVFa5q7TMD1UyaNrBW3NFSdsvLsjlXtXCZ7w9/bbW761zSx+j7a2NkpKy3g2UsmUQAkzV0uYvlrKw6vlHDTkDQH05MI6Xooz8YC/jPGrpIxbKeF+f5kgGh+vIzJRiVarpbCw8Jb0K0eaXV2Cpu1AP3bvstjNtDNdLpcIPWO1bT6an5fhANlqtVJSUkJLS8ug14rb7R4kX+QVch+L16zL5bquRmhhYSFFRUVjAp5tbW039Fbv6uqipKRkyPNxPQi92fypDzx9MZbhA09f3PW4FjwBQkJCGDduHOPGjWPlypWjOp7L5eKBBx64rVa5QqG4rZb5ncqOjg7y8/NRq9UkJyeLoHQzWBvYevYupDQ0NNzRx3/tQlJ+fv6IQam9vV2sZnrtD73VTK+o/FjDyrVb8fX19TS0dtLZJTjlfHfYyuxwFc/G6Fm80cDzGwwYCmpF0fkHAwQv+HtWCgC6cp+WDzbLCN6vxJCagclWwLs7zEwPVfJEhJZtuqIhcNPhcmMtbeCZaB0PhSiYs1bNQ/3V1klBcl6JM7IwRs/xlCLR29wLzLdbYb6RduZo3aKuPW5hYSE6nQ6tVntTQf3RpneudOBoyEgBebjXbFlZmagR6t0cv12N0OEgNC8vb8zAcyTe6t70VvwHSlA1NzcPglCn03nDMQAfePpiLMMHnr743Udvby/jxo275QWglpYWJBKJ6BH+j7hl7hX89lZpsrOzqa2tpby8nOzs7CGwNtq5tbHOgQ5Jqampg8YGBlpkequ6Go0Gq9V6Q/vDO5XXtuJz8/L4+YiVaauVTAyUc6+flPnrtRgKaqltbOE+P6Haeb+fsAzkFYB/K8HA5/ssvLMthZUnsunsEs63paNr2DnQ/OoWvtifwZtbkrnfX8ZDIYJt5wMBMiYGynggQMZ7O1J5Oc7EF/vTxddBTU2NaCtptVqpra296fW6mXbmtVXBscrm5uZBgvpOp3PUr0uvjFROTo44YmE2m8nLyxsTbdiB38cLaANb1bd6vIHXPC0tDZlMRmlp6ZBK6K3kSLzVbwShRqMRtVqNw+GgpaWFwsJCCgoKfODpi7sSPvD0xe8++vr6+K//+q9bmsv0tszr6upEFxebzfZ3XZoZLr1t0Pz8fMxmMxKJhPPnz4t+5rfaer7T6fF4KC0tRa/XI5FIkMvlyGQyzGbzEDedf4RsaWnhkCqDyQESHgmWMCtMwYxQOVMCpWw8okCuVPH4GmHR6J5VUu71kzJ+pYSJgTJWnLCx4oSNX49nsez/b+/Oo5su8/2Bzzn3HM+9d6733KtznbkUW6AgTFmKAoIgsuOGogyMDupFcUR+MrgNehhhBAQEBRQGQdxARpQZHUZL9yRtmiZp031PF5pudKVb2qSICn3//nCe73yTpm3SJN90eb/Oec4ZwcFv09K8+zzP5/P5MAXpF3oPLTa7HS+dzcTaD4144YsMzN6rxoTXonH7HhUmbo/BxG3RuHVXPNZ9nIpV7+nx5CepLr8m5MfbIkR0dfXfO1PpH0pEoY+4ktHbHUtX7ZhUKhXS0tI8aorv7XLuEVpQUCC9tr1+Tl1U+Mt3YsVgi4HOjZcvX8yQt1qtKC0thU6nQ0xMDPR6PZqbm13+u99//32gv83TMMLgScPCqFGjpG/qVqvVIWR6cmTe0dGBkpISaDQaJCcn93m07c83aVEAlJmZ6dBTsKioCLW1tejs7JSm44jdr8EQmG02G+rq6mA2m6XdzISEBGRmZqK4uBh5eXnQaDSKFSR5ssTO2s6/6DF5exRue/3H8Hnb65EI2x6FN7/JhN1ux1dpFix8OwHTd8YhfGccZuyOx33vaqXgKe6B6sx1vf63ai61Y/VxA174IgMvns3EUydTMfn1fxYxTdgWjYeOJuPRE0YsO6TFnw0X+vx6EW2koqOjcf78eURHRyMlJSXgPVZ7+xoRc8pjY2NhNBqRnZ0tNUqXt2MKdBuprq5/9ggV/UzNZjNaW1vR2dnZI9yLnVjxd7Sv18BVCL18+bJbIdSXM+SvXLmC3NxcpKamSrv+ohk/gyf5A4MnDQv//d//jZqaGp/OMq+rq5PuAHpT4NPfam9vlybSDLQAyGq1oqSkRNEq866uHwtpLBYLsrOzodVqHd58L1686HI30263o6GhQRonmZGR4dcRjb19fsV4T3lj+bS0NHwcn4npO+Nwx5tqzN2nwZy9KoTviMVbZzXSm7IqtxK7I/Kw8+tc/Fl/AWs/TMHzn2fg1S+z8Oyf0/DUSRPqmnvfVWy1duKJj1Kw4XQaXjybic2fZ2D5oUQsO6TF/ugCvPh5Bu5+JwkrjuhwON6M9s5/fv321zuzpqYGOTk5fe4sBmq52okVu5oxMTHIzs726njbn6u9vV26u3r+/HmplVRhYaFXjfH7GtnZW1B0Z7a6J6uwsBAXLlzAlStXpI9T7PYWFRWhra0t0N/iaRhh8KQh7+rVq5g1axZGjx6NTZs2ITs726dvOFarFWazGWq1GgaDAVVVVV69yTgXAInA46sCoIaGBunaQFZWls/eyDs7O1FXV+ey3+dA7wnKC5JEqyN/VG6LwFNQUOAQ7sUxaK6lHucyKmEqa0CrtQO/OmbA9F3xmLYzDtN3xePh9/RotXZKVfGffR2HR47EY+Fbatx3OAkvfJGJJz9JxWMfpuD//TkdKaX1//z66bQhy9KE3MpLsMlen7+mVWD1cT3WvG/AtJ1xuGVbDGbuVmHuPg3eiStCQ6sVdc1WvKcqwoOHE/HwYTX2f6GWriqIcN/bDxiiO4L44SkzM1PxgC8vYEpISEB8fDxSU1NdTjFqb2+XpjqJwBOIBvTitWtpaZHajrmqlBc9QkXBV3l5udfXRlyFUFfTktyZre7Jys/PR3l5eY9fF1cOCgsLA/1tnoYRBk8aNjo7O3Hs2DFMnToVixcvxhdffOHT+4OisEMcIbvT7F1MAApEAZAoJNBqtUhMTERZWZnbr4d447VYLMjKypKqno1Go8Nxvy+ft6WlxWGa00D7mNrtdjQ3N/cY25iamori4uIeFduHVWbM3K3C7Xt+nC70uzMZqG+x4rT+Ap77LB0r/6TDorcT8OQnqdAX16HDZsO6j1Ox5G0NHjwUj2VvRmH+3jh8qi1EaW2zw+5k8cUWPHXShPuP6HD/ER2e/zwTtc3t0nPqi+vw5CepP47lPJiI+4/osOxgAm7fHYfziSl47v1YzNoZhUX74rD4LRXm71fjrybLgL4WxAx2tVqNgoICn+/g9zYNSBQwefLfa2lpQUFBAdRqNXQ6ncvpQ75+dnkhkHwXubKyss8fhkThn9jBT01N9VuPUBFCa2trkZGR4bPgmZeXh4qKil5/n0ft5EsMnjTsdHd3Q6/X49FHH8WYMWOwfft2lJeX+/SNSjR7l4+87OjokAqA5DuCmZmZDhOA/PXm2ddqbGx06LXZ0NDg8Pvy4iXRWiYxMdFhhKBSz26321FdXe0wIamvwg5Xz67Vat0a21hQfQkzd6swf78Giw4kYsHbCZi5W4W/Z1TiUnsHVhzRYd4+DZa/k4S73krAgrcTEJNbjeXvaPHYh0Y8/lEKHvvQiOUH1HjiaJzD0aTdbscLX2TigT/p8PRJE54+acK97+pwIKbQ4dmf/3MKZu+OxaJ9sbhrTxQWvhmDObtj8akmF4v+0dR+zXED1hw34J53kvCbD4xevb6tra3SXPOkpKQBhzpXfT8HOg2or6+FhoYGZGdnSz/4+KKVlPzZxQ64KL7yZgKT/P6qvEeor0Joe3s7WltbUVRUhIyMDK8q4+UrJycHlZWVDJ6kCAZPGtYaGxuxd+9ehIaGYtWqVYiJifFJgJI3rRZV5hEREdBoNMjPz/fLjqAvVmdnJ8rKyqSCJVFMMJDpRUoscd9MXpB06dIl6V6pvP/kQJ79LyYLbt+jksZaLjqQiNveiMfrX+ciJrcGd+7X4IE/JUtr7j4Ndn2Th+WHtFj7j+D5+EcpuOfdJLz2txypjZRKpUK8NhnLD2rw1Cep+O2pNPz2VBoefV+Ph/+kle7ExsXFYefniZj1RizuPpSA+4/ocM87Wszdp4HpQgMWvJ2AVe/ppeB5/2EdVh3T++S1dQ51qampfe4yu5oG5Iu+n548b01NjVRMl56ejosXL7r199lqtf54peIffWKVePbOzk5UVFRIP4QOtEeouCaSl5cnnZqIKz8DnRvvvLKzs1FdXc3gSYpg8KQR4erVqzh//jzuvvtuhIWF4eDBg6ivr3f7m7+oeO6rAEgcFcfFxcFkMrnVX1GJJWaxFxYWOuwIpqWlSR9LWlraoBl3KF/yQprk5GRERkYiIiJCOi72tv+kzlyHWXtUWPCPmeoL/7Hj+VFSKc5nV2H+/gSH4DlvnwYHYgrx8tksLDmoxcPH9FhxRIfl72ihL/5nFbvdbkd5ZRXufTsO9+yLwsMHo/HQgSgs3ReNx49pHCbq1LdY8cj7Bszbp8GcvWrM26fBvqgCdHV14YUvMrHgrR/D50NHk3HXWwl4T1Psl9e5qqpKOmbOyspCZWWl29OAAvE1XVFRAaPR6DCjXDyTKHrLysqSrlqIlkyBOHmwWq3SJCF5j1BXz2G1WqWAn5iYiPj4eJhMJpftpAY6N955ZWZmoqamptff/+GHHwL9LZyGEQZPGnHKy8uxZcsWBAcHY/369UhJSenxJuxNAZDNZkNFRYVUMFNcXKxY30RXrZjE/Uaz2Yy6uroez26z2WCxWALyvM5LTDCS34l1LqTxZUFSp82O9SdNmLFbJa17301CXbMVdS1WLDmoxV1v/bgTufhgIubv1yD9QiMaWq14N74Iv37fgGdPp0FTcNGhYlsE+r1faLDkrXgsfzsei9+MwcK90TibkNmjTVBzeye+zqzEB9pS6Iv/+QNAdVM7nv8iEwve/nE3dndEPlqtvt+Nlgd8g8GA6OhoREZGIjo6GmlpaYO20ryr68edWDGsICoqCtHR0VCr1cjKyoLFYglYgVJfz1tSUoKkpCSo1Wrk5OTAbDY79C0VAd+TKy7OIdSTHqFiEAGDJymBwZNGrMuXL+PTTz/FrbfeigkTJuD+++/H1KlTcfjwYZ8VADU3N0utbVzdrfR2yau15fO1BzqLvbm5Gbm5udKurbtHmQNZzvPY5ROM3L0T29zc7HVBUltHJ75IseDVL7PxfkKJVPzT1dWFlNJ6rDluwNw3Nbjn3SScS69AV1fPRuci4JtMJocfTux2OxILsfRTiQAAIABJREFUa7HrmzzsiyqAvrBKOoqXz4rv7xlrm9vR2Oq7Qrm+pgHJr4nIi3ySk5Nx4cKFgDf8l4/MNBqN0td8Xl4eysrKHHrFlpSU+HW+vadLFL6JneS4uDjExMQgOjoa8fHxyMvL8zoo9zays6ur9xAqTjwYPEkJDJ40Yr3//vsYM2YMbrvtNqxevRr3338/pkyZgpdffhlFRUU+fcMRu3RJSUlShbmn9yjlu5kZGRn9Vmt7++ZVWVkJvV7v8dz13lZ7ezuqqqocwo6v5rE7FyTl5eX1O2nG7dfCbkdNUxtqLtb12jvT07DgPPrS362OvJ0G5Dx5yGQyobq6WpH+oK56f8pHZvb2DI2NjQ7z7S0Wi+J3l0Wlv7xaXqvVSm285F/zYryoWq32WWh2N4SaTCY0NDQweJIiGDxpxGpqakJXV5fDr7W3t+Pdd99FWFgY7rnnHpw7d87nb1ZNTU3SG3hWVpb0HM7LarX2OLoVvScrKysVm+oin7uempqKmpoat4KKaK0jvyOYnp7u99GH8oIknU43oGb68mIU5x1Bb6qeXS3R6kin0zlUxQ/0zxOtgYqLi/0yDUj8UCICuLhf6cvPX2VlpUPxWG+9P919PS5evCj1tk1LS/NJpXlvr43zbqxOp/OoWl4UfeXk5CA+Ph56vd4nO80ihLoa2ZmSkoLGxkYGT1IEgyeRC93d3UhISMCqVasQGhqKN954A1VVVT59k5JXmGu1WhQWFjoENVdHt75+o/T0DbyqqgpGoxEqlcqhj6mr+42itY6ovg3E89bX1/c7IUneoUA+xUiJkOy85FXx4ii+v7Aiisfkr73YSe5tepSvlpj3PdCm7+LoubdG7b5u4+UcmrOzs73aaRavfUFBgUe7sZ68PvIeoSkpKT5pJyVGdorepfHx8VKxpavjeAZP8iUGT6J+1NbW4vXXX8fYsWPx6KOPIiEhwes3Q+cq+ejoaMTExCAyMhJGoxF1db3P+Q70Em+GRqMRUVFRiIyMRExMzKAKya4CQnl5OXQ6nVR4kpeX53AvVuwkD4Y7geI1dnUUL58GJN8RLC4u9mp0o7dLTHVSqVTQ6/UoLy/vEZBc7cZqtVqpj6SSr73VakVZWZn0NZGfn9/v9YyOjg5UV1f3aMukxGvv3CM0LS3No+sO8vulosG/mDxWUVGB9vb2Xkd2MniSLzF4Ernp+++/x9/+9jcsWrQI4eHhOHr0aK/H5K7ebOW7mfIq+cbGRunNw2q1SsfEycnJbhef+HPJ2zGJoCbCQkVFBSwWC1JSUhAfH4/8/Hy/zbQf6JIHNTFPXqVSISoqCjqdDhUVFYOujZT8a6e+vh5paWmIiYlBREQEYmJikJaWpnhjf0+eua6uDhkZGdLua3p6uk8btft6iabs4vShuLhYCmLi2F8UkAWyLZNYzj1CMzMze7RvEzv5paWlMJlMDiHf+X6pWL3Njbfb7YH+9kvDCIMn0QCYzWZs3rwZwcHB2LhxIzIzM6Vv3k1NTVIRjTh+S05O9ujYWex4iWpvX1S7uhsaRCFKVlaW1GheNNvu6/iwvb0dRUVFUKvV0Ov1PhkbOJDnF8eH8rGNrvpPioIkEZp9WZDkTaDoaxpQY2Ojw65iIApm+lrOjdpjY2ORmJgItVqN2NhY5OTkuPXDWqCWfKpTREQEIiMjodPpUFZWNuh+oBJLPg5VfK9JTk6WBkTk5eVJk9Xc+fPE956//vWv+N3vfodbb70Vs2fPDvS3XBpGGDyJvGC1WvHHP/4Ro0ePxrhx4xAUFIQlS5ZI9wN9cfwmAp1KpYLRaER1dbXPdlpsNhvq6uocxnyKUZkWi2VAO2qimEPssvQ38tLbN13nu6Ui5HvSCqu9vR1ms9mrgqSBfm4rKyuRm5vr0TSgvo7i/f3M8tXa2tqjWj49PR1lZWU9dgRF/8rExEQkJCRIu4pKPq/zayju9sqPnuVFWPL7lUpW8rv7/A0NDSguLkZKSop0EmEwGKTPRX5+Pi5dutTvn1NTU4OzZ8/iueeeQ3h4OEJDQ/H444/j448/Rnl5Obq7uwP9rZaGEQZPogFqbW3FqFGjsGzZMmzfvh0HDx7E2rVrERISgq1bt6KsrMznbzQ1NTXSDl1hYaHHFcri2Fk+9tBoNPbo3+irJa8wT05OhsViGfAbt6vdWFGAVVxc7JO7pe4WJA30z3ZVSJOenu5231JXS14VL1pf+WN3XN6pwNUdQU/+m5cuXZL6ryrV6sjV/VJxt7e/H1JEUZJ8spPSk77kFfNiNzw5ORkFBQWora3t8bXf2toKs9ksBf3ExETk5+dLRYJnzpzBs88+iylTpmD8+PFYt24dTp06hcrKSgZN8isGTyIvXLt2rcevNTc346233sKECRPw4IMPIjIy0ue7JK2trSgoKJBaHLlq9C4atBcXFzs0aM/MzFR87KG49yd26HJycvrdiRFvtK7aAikxkUZekDSQCUnyaUBiN9nfhTSi4bsvjuL7atTu7WAF+deFvJ9penq6z0bNynfznYOaN/dL5Ufb7u4qevP8hYWFDt0KPK2Yt9vtMJvNeO211xAUFISf/exnuOmmm/Cb3/wGp0+fRnV1NYMmKYrBk8hPrl27hpiYGKxYsQITJ07E/v37UVtb6/M3p6qqKhgMBumYMzs726FBe0FBgUd3vPy9rFYrSkpKkJCQgKSkJKn6WdwPdJ6m421Q8MVynpDk6rqDu9OAlFgDOYqXX1twfn5ftAbqb3V2dsJiscBgMEh3bj0JdPK2UvLWRkVFRT4driBfbW1tMJvN0o6i2WwecJ9UV62ZjEYjzGazR7v5drsd5eXlOHnyJJ5++mlMnDgRv/zlL7FhwwZ89tlniIuLw6uvvorQ0FAcP3480N8maQRi8CRSQGVlJbZu3YqQkBD83//9HwwGg9fBQlTKi3nyYkczKioKBoPBZztH/lji2DYvLw8qlQoRERGIioqC0WhUvHemp88tCpJEMDCZTNIUKU+mASm1Ojs7pR06+VF8e3u7VO0vishES6xAtmXq6uoZ6FxN8ZEXMolrI940mvd2iesDKpXKrfGinZ2dqKmpQV5enletmex2O0pLS/HRRx/hySefxIQJEzB58mRs3LgRZ8+eRUNDg8sdzWvXrrFanQKCwZNIQVeuXMGZM2cwb948zJw5EydOnHCrWlbe99O5Ut752NNms8FisUCn0yEhIQElJSUB3+2UV2vLj21F78zm5maUlpYiMTERWq12QCNF/bnk1fJiLKeYBy6O0JUqSBro8zc3N0stg0TFdnJy8qCu2O7q+rFLRG5urnTVQq/XS0FfFDIpeW3Ende6rq5Omk6WmpoqdbMQPUCdg7InP6jY7XYUFRXhxIkTeOKJJxAaGopp06Zh06ZN+PLLL9HU1MSjcxrUGDyJAiQvLw/PPvssgoOD8cILLyA/Px9dXT8Gx4qKCpSVlUlFKL31/exvXbp0CdnZ2VKhjC9HG/a1XBUxpaSkoKioqN9j28bGRulNOyMjAw0NDYqHB/mxp3P/SedrC6IgSYxk9GVBkjfhR9zvddWoXVRsB7oqvq/V0tLSoxDLYDBIbZoyMjIUL/DxZFmtVlRUVMBoNCI6OhoRERFQqVTS/WZ3n9tms6GgoADHjx/H2rVrMXbsWEyfPh3PP/88zp07h5aWFgZNGlIYPIkCrK6uDps3b8ZNN92EMWPG4MYbb8TTTz/t05ns4rhVq9X6fHfOk96ZA3nmpKQkv+/c9jUNyJP7deKZB1qQ5M3nt7a2tkdQdud+rCiiEkfxhYWFivSMdf4aEhXzohBOFJK5KsQSz6zX66UCn0D3YHVuNi/uXIvRn1arVXpmcYfVVU9Tm82G3NxcvPfee3jkkUcwZswYzJgxAy+//DIiIiLQ1tbGoElDGoMnDXnLli3D1KlTER4ejjvvvBPZ2dkAgLKyMtxxxx2YMGECZs6cicLCwgA/aU9GoxFjx47FI488gnfffRfvv/8+1qxZg3HjxmHHjh2wWCw+f4NsbGyU2gVlZ2d7XJHrq96ZnqympiZp5zY9Pd2rnS7ntkAqlUqq9vflNCB3CpIGulzdbxT9P71pK+XLqvj+PgcNDQ0OFf8DaXbe1fXPqUPi6kNpaalfvgadV1tbGywWi0MP04yMDJSXl/cb3EWbMa1Wi/vvvx8bN27Erl27sHr1agQHB+P222/Hli1bEBUVBavVyqBJwwqDJw157e3t0v/++9//jmnTpgEAFi1ahFOnTgEAvvrqK8ycOTMQj9en3t5QGhoasHv3bowbNw6rV69GfHy8z48UOzo6UFpaioSEBOh0Opc9NnvrnTmQ3UBfLPn9VY1Gg+Li4n5DhrwtjatpQP4OKaJvojcTkjxp1O6rZ/blUXxvrYFED0pfhdvGxkbpB5SUlBSfTs8SnwNx9C9+WLFYLB6dSthsNmRkZOCdd97BqlWrEBYWhtmzZ+OGG27AtGnTcPToUXR1dSn8nYhIOQyeNKycOnUK4eHhaGpqwvXXX48ffvgBwI8B7+c//zkuXLgQ4Cf0zA8//IBvvvkGy5Ytw5QpU/Duu+/6/M6juKOYnp6O2NhYpKWlIS8vz6F3pphkpPQRbF+rublZKjpJS0uTqvjb29sdxjbK75f6q62Ou8t5QpJoJeX8+XA+dpY3avfF1QtP1kCO4uUV26I1k2gNpMTnwGazobq6WpqelZWV5XFwFndM09PTe0w18uT6RGdnJ0wmEw4cOICHHnoIo0ePxrx58/CHP/wB8fHxsNls6O7uRnd3NzIyMvDyyy/DZrMF+lsPkd8weNKw8MQTT2D06NEYPXo08vPzkZmZiVtuucXh35k1axYSEhIC9ITeKysrw8svv4zg4GD89re/hclk8voN2rl3ZkxMDNRqNaKjo5GYmIjy8vJBMyLQ1RIhLTMzE7GxsYiIiEB0dDRMJpPfdgN99dyiIEmEsqysLJc7soHuSCBfvR3Fi6+jnJwc6Y6saM0U6NZSzpOdCgoKelTxi/GZ8qlMiYmJyMnJQVVVlUe74p2dnTAajdi/fz8eeOABBAUF4a677sL27duh0WjYwohGPAZPGlY+/fRT3HvvvcMyeAqXL1/GyZMnMXPmTMydOxenTp1yaxdMvLnKK4VFtbxz70kxUUa0DsrPzx8Uu539TQNqaGiQ7lWmpqaipqZm0AVPcUdWvhsorjDEx8ejqKgooDPM3Vmtra3Iz8936MFqMBik1kyD7TUXq6WlBYWFhVCpVEhMTITJZHL4OhLjMz0J+x0dHUhOTsabb76J++67D0FBQVi0aBF27NgBrVaLy5cvB/pbBtGgwuBJw86//uu/orGxcVgctfcnIyMDTz31FEJCQrBlyxYUFxdLb4hWq1UaGSjvnenpyMa2tjbpzTolJUXRMNfR0TGgaUDOE50GMtfeV0teMS+fL+9qN1BekJSamurTgqSBLvmM+fT0dKkYS1y/aG5uDnhVvDsfg5jTLpr/i+b00dHRSElJQVVVlVu7+1arFVqtFrt378bdd9+NUaNGYcmSJXjjjTeg0+lw5cqVQH9bIBrUGDxpSGtvb0ddXZ30z19//TWCgoLQ3d2NBQsWOBQXzZgxI0BP6X+tra3YuXMngoKCMHnyZEycOBEzZ850u3emu2/e1dXVMBqNUKlUftmZa21thcViQVZWls+mAcnn2huNRlRVVfktzImQVlZW5hDS5BXz7vw5Ijh7U5DkzcfQ1NQkNcuX7yr3d+ysVFW8Ox+DqJoXP3SJPqzO7aXEay0+1uzsbJjNZunvS3t7OxISErBz504sXboUo0aNwvLly7F3714YDAZ89913gf7rTzSkMHjSkFZVVYVZs2ZhypQpmDZtGpYsWYKcnBwAQElJCebMmYMJEyZgxowZyM/Pd/lnfPvtt1i5ciUmTJiAadOmYenSpdLOaFNTE+6++26MHz8ekydPhk6nU+xjc1dHR4c0Ju+ZZ57BK6+8gpUrV2L8+PHYs2cPqqurff7GLo5axe7dQMZzyvt/uiqi8fWumXzcpa+uD8gbtTsf/YtpNd4+tzsFSd4s+fUFEdJ0Op3ULH8g/y0xvUfeVN+fzd5F1XxRUZF0T1av13s8Z95qtaKoqAjLly/HzTffjFtuuQU///nPce+992Lfvn1ITU3F999/H+i/8kRDGoMnjXjffvstoqOjpdZGR48exYIFCwAATz31FHbs2AEASE9PR1BQ0KB845G3lBJqamqwfft2jBkzBo899hi0Wq3P3/htNhsqKyulMYZ9tTfyZBqQv5f8+oDBYHC77Y6rj0G0BeqvUbu3y3lC0kBbHLlqNj+QkObJf8/XR/E2m036GMQIWYPBMKDOBa2trYiNjcW2bduwYMECBAUFYcWKFdi2bRueffZZTJo0CUuXLkVtbW0A/mYTDT8MnkROMjIyEBISAgD46U9/ioaGBun3Zs2aBbVaHaAnG5jvv/8eX375JRYsWIBbb70Vx44d87hpvDtL3t4oPT0d1dXVPpkG5M8liqhE2528vDyH43B5tba8UXugPwb5VCcR+HvbXZXfk5W3lxIfg5J3SJ2P4t3dvRWBPz8/v0d7Jk8/hubmZkRHR2Pr1q2YP38+goKCsHLlShw6dAhZWVm4evWqw9+f7u5u7nQS+RCDJ5GTxx9/HM8//zxaWlpw3XXXOfzemjVr8MknnwToybxXVFSETZs2ITg4GJs2bUJ2drbPApx8GlBMTAzOnz+P6OhopKenB7yljjurvb0deXl5iI2NlZa8UftAR3/6e126dEkK/KmpqbBYLD2KmcQ92cHSXqq/o3h55b8Iy6mpqSgpKUFjY6PbH4P4ujx//jxeeeUVzJ07F6NHj8aqVatw+PBh5Obm9giaI9VQngBHQwuDJ5HM3r17MWfOHHR1dQ3L4CnYbDacOHEC06ZNw8KFC/H555971KtQfqdOXjGfl5fnUIDS1NSErKwsqYm3q9nUgQw/oojG+Y5pQUGBdGczJyfHLzvEvlryiTpxcXGIjIxEZGQkjEYjamtrA/58/a3Ozk6UlpZCo9EgOjpaCv0mk8njsCzuDX/99df4/e9/j9mzZ+Pmm2/GmjVrcPToURQUFODatWuB/us3KA3lCXA0tDB4Ev3DgQMHMGPGDIdvwP/+7/8+5I/a+9Ld3Q2j0Yi1a9dizJgxeO2113DhwoUeb+jy2eBiB8poNLpdMd/Z2YmysjIkJiYiKSnJ5wUy7ixXBSiiUXtvd0ytVitKSkr8Vtjj6RK9WMvKyqRG566mGrW3t6OoqAhqtRrJyckBf25Xr2tlZWWPXdmioiLk5OS4fRQv7r3+7W9/w4svvoiZM2ciJCQEjzzyCI4fPw6z2cygOQDDbQIcDS4MnkQADh06hNtuuw1tbW0Ov75u3TqH4qJRo0YN27tely5dwr59+xAaGoply5bhpZdewkMPPYQ9e/ZArVb7bDZ4Q0ODtDvnz93E3nqADqS9lHNhj1K7t/L+k/LWRrm5uW5N1HE+0s7MzFT8XmdX149BuKKiQmqTJa4wXLhwwWWLKefn1ul0iIiIkAqjvvzyS2zevBm33norxowZg7Vr1+KDDz5AaWkpg6YXRsIEOAo8Bk8a8S5evIif/OQnGDduHMLDwxEeHo7bb78dANDY2Ihly5Zh/PjxCAsLQ2Jioss/Y/PmzQgJCcFPfvITqZ0TMLTuR2k0GvzqV79CcHAwJk6ciOnTp2POnDnYvXs36urqfB5G5LuJycnJqKio8KpYRzRqz8rKcmjU7k0P0N4CbWlpKRITE6HValFWVuaz3UTR2ki+K9tb/0lPlycFSd6utrY2WCwWZGZmQq1WQ61WIyMjA+Xl5R5VtNvtdlRVVeHo0aOYPHkybrjhBtxwww14+OGH8fHHH6O8vFzqRkG+MxImwFHgMHgS+YBOp8PFixcREhLiEDyH0v2o/Px8JCUloaurS/q1iooKvPrqqwgJCcGTTz4Jg8Hg85AidrfE0bFzZXlv/x9x5OxNo3ZvV2NjIzIzMx12Ez0Ng6Ja27ktkD9aG4nlXJDk7TSqlpYWl5ONKioqPAq3ImieOXMGGzduxJQpUzB+/HisW7cOJ0+ehF6vx969ezFp0iRs3bo1gH9bhr+RNAGOlMXgSeRD8uA5nO5HXblyBZ999hnuuOMOzJ49Gx9++KFfxiLK7yYaDAZpypDNZpMm0TjP1nbnyNnfS+wmarVaJCQkoLS0tNc7o+KurGjPJFpMeVKt7aslpvYYjUapqb47oV9MZ5LfM83OzvZoFKv4syoqKnD69Gk888wzCAsLwy233IL169fj9OnTqK6udrmj2d3d3eNaDA0cJ8CRkhg8iXxIHjyH6zFVTk4OnnnmGYSEhOCll15CQUGBzwNRR0eHFEDPnz+PyMhI6HQ6RRq1e7uampqQnZ0thcrCwkKH4/+0tDSf3JX19Wpra3NZkCR2l0tLS6V+p+6O0HQVNMvLy3Hy5Ek8/fTTmDhxIiZNmoQNGzbgzJkzuHjxIo/O/0HJiWq+mABH5C4GTyIfGgnBU7BarfjTn/6EyZMnY/ny5fjqq68GHAjb29tRWVnp0Khd7ATW1NRI4zlTU1Nx8eLFQRXY5KulpUVqbaRSqRAbG4uYmBjExsYiPz8/4Duz7iybzSbt3orQr9FokJub6/GEKbvdjtLSUnz00Ud48sknMWHCBISFhWHjxo04e/YsGhoaGDR7MRwmqhG5wuBJ5EPD9ai9L93d3dBqtVi9ejVCQ0Oxc+dOVFZWuh3Q1Gq1Q5Vzb43axf0/g8EAtVoNs9nst+IYd0OV2Ans78hZfqcyLS1tQLPt/flxyK8xyGe1V1dXo7S0FElJSUhISOi3IMlut8NsNuPEiRN44oknEBoaiqlTp+K5557Dl19+iaamJgbNARpuE9Vo5GLwJPIh5+KikXY/qr6+Hrt27cK4cePw61//Gmq1Gh0dHdBqtUhKSpKOakVAk/ee9GS1tLQgLy9PCnLyqTf+DmjFxcXSPVPRNL+6utqtnUCbzYaKigro9fqAhefeKucLCgpQW1vba0GTPDxHRUXhzJkzsFqtKCgowPvvv4+1a9di7NixmD59OjZv3oxz586hubmZQdNHhvNENRpZGDyJfGDDhg0ICgrCv/zLv+Cmm25CaGgoAO/uRw2lVkxyV65cgU6nw+OPP46f/exn+M///E9MnjwZJ06c8Pio1t0gl5ycDI1Gg5KSEp/9+aLhfGFhoRTQ9Hq9FNC8vWcqwrO4QuBtZbk7H4der5c+jsLCQo8r5202G3JycrBnzx5MmzYN119/Pf73f/8X69evR0REBNra2hg0/WCkTFSjkYHBk2iQGkqtmOQOHz6MBx98EAcOHIDJZEJ+fj5efPFFBAcHY8OGDUhPT/fLTt6lS5eQk5Mjzf4eSGsjcZ9UNJwX05nq6+v91trIZrOhsrISBoMBKpUKhYWFA9oFln8czi2ajEYjzGYzGhoaPA6aWVlZOHLkCNasWYPg4GDcfvvt2LJlCyIjI1FaWoq3334bYWFh2L9/f6C/9IalkThRjYY3Bk+iQWg43g/t6urCxx9/jBkzZuDOO+/E6dOn/XLMLG9tpNVqceHCBZe7k6K1kXNBU0lJiU8bznuyWltbpUKqlJQUVFdX9/scIjDn5eVJ40xTUlIG1KLJZrMhIyMD77zzDlatWoWbb74Zd9xxB1599VXExMSgo6Oj1/ZGdrs9AF9VylNyWAQnqtFwxOBJNAgN94r49PR0rFu3DiEhIXj11VdRUlLilyAnb/CekZEBs9nscmxjbwVNgVp2ux3V1dVISUmR+muKvqliFKhzL9CBBObOzk6YTCYcOHAADz30EEaPHo25c+fiD3/4A+Lj42Gz2Xh07kSpYRG+mKhGNBgxeBINQsM9eAotLS04cOAAJk6ciBUrViAiIsInR9p2u91hmk58fDxiY2MRHR0NtVqNkpISvx2d+3pdunQJaWlpiIqKQlRUFGJiYqRRoJ72Au3s7ITRaMT+/fvxwAMPICgoCHfddRe2b98OjUYzYnYtfWEkdrAg8gUGT6JBaKS9kV27dg3x8fF48MEHccstt+DNN9/ExYsXPQqaTU1NKCkpkSrnExMTkZOTg8rKSql/pt1uR319PdLT0xEXF4fc3Fw0NzcHPFzKl+hpmp2djYSEBGlntqysDOXl5dIuqDujRTs6OqDX6/Hmm2/ivvvuw6hRo7Bw4ULs2LEDWq0Wly9fDvSnfsgaST17iXyJwZNokBpprZiE6upqvPbaaxgzZgwef/xxJCcn9whUoiWQ2WyG0WiUek/m5eW5XTlvtVpRXFwMtVoNvV6PysrKgOyCtrW1wWKxIDMzU+ppmpGRgfLy8l7Hkra3t8NsNkvP/pe//AWtra2wWq1ISkrC7t27cffdd2PUqFFYsmQJdu3aBZ1OhytXrgT60ztsMHgSDQyDJ9EgNdJH1X333Xc4e/Ys5s+fj+nTp2PLli3YtGkTHn30Ua9aArnaLa2trYXJZOpxn9Ifq7W11aF5vkajQWZmJiwWi8fV7G1tbYiNjcWdd96JG264AT/96U8xb9487NmzBwaDAd99912gP43DFo/aiQaGwZNoGIuKisJtt92G6667Di+88ILD7127dg2/+93vMG7cOISGhuLo0aMBekrX2trasG3bNtx11134xS9+IVULP/3008jJyfHbMXdRURFUKhWMRqNbVeX9hVrnu6YajQZZWVmoqKjwuKq/ra0NKpUKr7/+OhYvXoxRo0bh3nvvxb59+xAbG4vDhw8jPDwcDzzwAIuC/GykD4sgGigGT6JhrLS0FLm5udi2bVuP4Hn69GksXrwYV69eRWtrK4KDgwdVk/quri588MEHMJvNUojq7OzE8ePHMXXqVCxevBhnz571aUN6eWCsqamB0WiUemu6ExJdjdEUd02rqqo8ntXe2tqK2NhYbNu2DQsXLsSoUaOwYsUKvP3220hPT5d22OS6u7tRXV11mWPwAAAJc0lEQVSt9Kdr0PD34AV/DIsgGkkYPIlGgB07dvQInvfddx/Onj0r/fMrr7yCbdu2Kf1oA9Ld3Q29Xo9HH30UY8eOxR//+EeUl5f77Whc9NY0mUwOc9blRU2pqamIi4uDVqtFbm6u22M05au5uRnR0dHYunUr5s+fj6CgIKxcuRKHDh1CVlYWrl69GuiXftAbqoMXiEYKBk+iEcBV8JwyZQpSUlKkfz527BieeOIJpR/Na42Njdi7dy9CQ0OxatUqxMbG+m30ZEVFBbRaLWJiYqDRaBAbGyvNa6+pqfFojKbYHT1//jxeeeUVzJ07F6NHj8bDDz+Mw4cPIzc3l0HTQ7xrSTT4MXgSDWFz5szBjTfe6HLV1NRI/95wDp7C1atXERkZiXvuuQdhYWE4dOgQ6uvrvT5yb2hocKieT05ORlZWFkwmE2JjY5Geno76+vp+w67dbkdjYyO++eYb/P73v8fs2bNx8803Y/Xq1Th69CgKCgpw7dq1QL+MQxqry4kGPwZPohFguB2196e8vBxbtmxBSEgI1q9fj9TUVLd3Nevq6lBYWAi9Xt9v9bzNZoPFYoFOp0NCQgLMZjPq6uqkoFlfX49z587hxRdfxMyZMxESEoJHHnkEx48fh9lsZtD0MQZPosGPwZNoBHAVPE+dOtWjuGi4FUR8++23OH36NGbPno05c+bgk08+cWhZZLPZUFtbi4KCAiQnJyM2NhYGgwFFRUWor6/3qE1TU1MTPv/8c/zP//wP5syZg0mTJmHMmDFYu3YtTpw4gdLSUgZNP+NRO9Hgx+BJNIxpNBoEBQXh+uuvx3/8x38gKCgIERERAH48mn7uuecwduxYjBs3DocPHw7w0/pXVlYW1q1bh5tuugmLFi3CtGnT8MADD8BoNMJsNqOhocGju6Gi8v3s2bPYtGkTwsPDMW7cODz22GNYv349wsPDMXfuXMTExAT6Qx9R2NaIaHBj8CSiPh05cgSTJ0/GlClTMHXqVHz22WcOv797926MGzcO48aNw2uvvRagp+xbeno65s2bh+DgYDz88MNYs2YNZs2ahXvuuQfnzp1zqyjIbrejqqoKZ86cwcaNGzF16lSEhoZi3bp1OHnyJCoqKnr0zszOzkZycnKAPurAC0QfWbY1IhrcGDyJqE8ajQZWqxUAUFNTgxtvvBHl5eUAAJ1Oh7CwMNjtdly5cgUzZsxAVFRUIB/XpZaWFpSUlDgEw+7ubiQkJGDVqlUYP3483njjDVRVVTkEzYqKCpw+fRrPPPMMwsLCMGHCBKxfvx6nT59GdXU1m7T3Yyj3kSUi/2DwJCKPTJ48GVqtFgDw3HPPYd++fdLvHTt2DI899liAnmzgamtrsWPHDowdOxZLly7Fr371K0yaNAmTJk3CM888gzNnzuDixYsMmgM00orbiKh3DJ5E5Da1Wo1Ro0bBbrcDAFasWIEvvvhC+v3o6GjMnz8/UI/nte+//x47d+7EgQMH0NDQwKDpIyOhnRcRuYfBk2iEc7cXaH5+PkaPHg29Xi/92nALnuQZ9pElIk8xeBJRv4qKihAcHAyVSuXw68PlqJ38i0ftRCQweBJRn8xmM0JCQhAXF9fj97RabY/iosjIyAA8JQ1mI7WPLBH1xOBJRH1aunQp/uu//gvh4eHSkofQXbt2YezYsRg7diy2bt3a55/13nvvYcqUKQgPD8fkyZNx5MgR6ff81V6HAod9ZInIGYMnESlGtGUCgI6ODtx8883Izs4GwPY6ShgOPVmJaGhj8CSigKivr8cvfvELKXjyzp//DYeerEQ0tDF4EpGivvrqK4SFheG6667DwYMHpV9nlbPyhmNPViIa3Bg8ichn3G2vAwCVlZWYPn06SkpKADB4Km2492QlosGJwZOIAubZZ5+Vdj151O499mQlosGOwZOIFFNUVCT970uXLmHChAlSb1C211EGe7ISUSAxeBKRYjZs2IBf/vKXCA8Px7Rp03Ds2DHp99hex//Yk5WIAo3Bk4iGrKamJtx0001YuXKlw68P9rZAgepn6suerEREA8HgSURD1kMPPYT169c7BM+h0BaI/UyJaKRi8CSiIenjjz/GSy+9hFOnTjkEz6F2V5H9TIloJGHwJKIhp6KiAjNnzsTly5d7BM+hUp3NfqZENBIxeBLRoNNfW6CFCxfCZDIBwKAMnuxnSkTkGoMnEQ0pVqsVN9xwA0JCQhASEoIbb7wR//Zv/4bFixcDGHpH7QD7mRLRyMHgSURDmvOO51BoC8R+pkQ0UjF4EtGQ5hw8gcHfFoj9TIlopGLwJCIiIiJFMHgSERERkSIYPImIiIhIEQyeRERERKQIBk8iIiIiUgSDJxEREREpgsGTiIiIiBTB4ElEREREimDwJCIiIiJFMHgSERERkSIYPImIiIhIEQyeRERERKQIBk8iIiIiUgSDJxEREREpgsGTiIiIiBTB4ElEREREimDwJCIiIiJFMHgSERERkSIYPImIiIhIEQyeRERERKQIBk8iIiIiUgSDJxEREREpgsGTiIiIiBTB4ElEREREimDwJCIiIiJFMHgSERERkSIYPImIiIhIEQyeRERERKQIBk8iIiIiUgSDJxEREREpgsGTiIiIiBTB4ElEREREimDwJCIiIiJFMHgSERERkSIYPImIiIhIEQyeRERERKQIBk8iIiIiUgSDJxEREREpgsGTiIiIiBTB4ElEREREimDwJCIiIiJFMHgSERERkSIYPImIiIhIEQyeRERERKQIBk8iIiIiUgSDJxEREREpgsGTiIiIiBTB4ElEREREimDwJCIiIiJFMHgSERERkSIYPImIiIhIEQyeRERERKQIBk8iIiIiUgSDJxEREREpgsGTiIiIiBTB4ElEREREimDwJCIiIiJFMHgSERERkSIYPImIiIhIEQyeRERERKQIBk8iIiIiUgSDJxEREREpgsGTiIiIiBTB4ElEREREimDwJCIiIiJFMHgSERERkSIYPImIiIhIEQyeRERERKQIBk8iIiIiUgSDJxEREREpgsGTiIiIiBTB4ElEREREimDwJCIiIiJFMHgSERERkSIYPImIiIhIEQyeRERERKQIBk8iIiIiUgSDJxEREREpgsGTiIiIiBTB4ElEREREimDwJCIiIiJFMHgSERERkSIYPImIiIhIEQyeRERERKQIBk8iIiIiUgSDJxEREREpgsGTiIiIiBTB4ElEREREimDwJCIiIiJF/H/BCCnJwQmWwAAAAABJRU5ErkJggg==\" width=\"837.5\">"
      ],
      "text/plain": [
       "<IPython.core.display.HTML object>"
      ]
     },
     "metadata": {},
     "output_type": "display_data"
    }
   ],
   "source": [
    "struct.plot_frame(0)"
   ]
  },
  {
   "cell_type": "code",
   "execution_count": 7,
   "id": "a2d3c4a5",
   "metadata": {},
   "outputs": [],
   "source": [
    "%matplotlib inline"
   ]
  },
  {
   "cell_type": "markdown",
   "id": "845c6723",
   "metadata": {},
   "source": [
    "In this specific case it is possible to skip the `compose_database` command, since we only have 1 frame, that has already been read. I will put it here anyway, to have a complete workflow.\n"
   ]
  },
  {
   "cell_type": "code",
   "execution_count": 8,
   "id": "32d7269d",
   "metadata": {},
   "outputs": [
    {
     "name": "stdout",
     "output_type": "stream",
     "text": [
      "sampling_interval CAN NOT be more than 1 .\n",
      " sampling_interval is:  1\n"
     ]
    }
   ],
   "source": [
    "struct.compose_database()"
   ]
  },
  {
   "cell_type": "markdown",
   "id": "81703e1f",
   "metadata": {},
   "source": [
    "We can nowperform the analysis, and collect the data."
   ]
  },
  {
   "cell_type": "code",
   "execution_count": 9,
   "id": "35fe388b",
   "metadata": {},
   "outputs": [
    {
     "name": "stdout",
     "output_type": "stream",
     "text": [
      "processing started...\n",
      "\n",
      "Analyzing frame n°  0\n",
      "Time to compute distance is:  0.014137150999886217 seconds.\n"
     ]
    },
    {
     "name": "stderr",
     "output_type": "stream",
     "text": [
      "100%|███████████████████████████████████████████████████████████████████████████████████| 1/1 [00:00<00:00, 7928.74it/s]"
     ]
    },
    {
     "name": "stdout",
     "output_type": "stream",
     "text": [
      "Time to denoise:  0.8069944219996614 seconds.\n",
      "Finished analysis of frame n° 0\n",
      "Time needed to analyze frame 0 was 0.842527 seconds.\n",
      "\n",
      "Total time to analyze dataset was 0.842577 seconds\n",
      ".\n"
     ]
    },
    {
     "name": "stderr",
     "output_type": "stream",
     "text": [
      "\n"
     ]
    }
   ],
   "source": [
    "struct.analyze_inLoop()"
   ]
  },
  {
   "cell_type": "code",
   "execution_count": 10,
   "id": "4f83591b",
   "metadata": {},
   "outputs": [],
   "source": [
    "struct.get_data()"
   ]
  },
  {
   "cell_type": "code",
   "execution_count": 11,
   "id": "0bb46888",
   "metadata": {},
   "outputs": [
    {
     "data": {
      "text/html": [
       "<div>\n",
       "<style scoped>\n",
       "    .dataframe tbody tr th:only-of-type {\n",
       "        vertical-align: middle;\n",
       "    }\n",
       "\n",
       "    .dataframe tbody tr th {\n",
       "        vertical-align: top;\n",
       "    }\n",
       "\n",
       "    .dataframe thead th {\n",
       "        text-align: right;\n",
       "    }\n",
       "</style>\n",
       "<table border=\"1\" class=\"dataframe\">\n",
       "  <thead>\n",
       "    <tr style=\"text-align: right;\">\n",
       "      <th></th>\n",
       "      <th>n° of peptides in macroaggregates</th>\n",
       "      <th>parallel</th>\n",
       "      <th>antiparallel</th>\n",
       "      <th>n° of macroaggreates</th>\n",
       "      <th>0</th>\n",
       "    </tr>\n",
       "  </thead>\n",
       "  <tbody>\n",
       "    <tr>\n",
       "      <th>0</th>\n",
       "      <td>[2]</td>\n",
       "      <td>0</td>\n",
       "      <td>1</td>\n",
       "      <td>1</td>\n",
       "      <td>{'parallel': 0, 'antiparallel': 1}</td>\n",
       "    </tr>\n",
       "  </tbody>\n",
       "</table>\n",
       "</div>"
      ],
      "text/plain": [
       "  n° of peptides in macroaggregates  parallel  antiparallel  \\\n",
       "0                               [2]         0             1   \n",
       "\n",
       "   n° of macroaggreates                                   0  \n",
       "0                     1  {'parallel': 0, 'antiparallel': 1}  "
      ]
     },
     "execution_count": 11,
     "metadata": {},
     "output_type": "execute_result"
    }
   ],
   "source": [
    "struct.database"
   ]
  },
  {
   "cell_type": "markdown",
   "id": "e70f340d",
   "metadata": {},
   "source": [
    "At this point we have ran our standard workflow. We can now perform additional analysis, to study the alpha-helix structures."
   ]
  },
  {
   "cell_type": "markdown",
   "id": "ad7cf44e",
   "metadata": {},
   "source": [
    " "
   ]
  },
  {
   "cell_type": "markdown",
   "id": "a045c84a",
   "metadata": {},
   "source": [
    "## Alpha helix\n",
    "\n",
    "To perform the analysis we need one additional command."
   ]
  },
  {
   "cell_type": "code",
   "execution_count": 12,
   "id": "e30f449e",
   "metadata": {},
   "outputs": [],
   "source": [
    "struct.helix_score()"
   ]
  },
  {
   "cell_type": "markdown",
   "id": "8191bea6",
   "metadata": {},
   "source": [
    "When the analysis ends, we will have a pandas.DataFrame for each frame (only one in this case), with the output of the analysis."
   ]
  },
  {
   "cell_type": "code",
   "execution_count": 13,
   "id": "906164cd",
   "metadata": {},
   "outputs": [
    {
     "data": {
      "text/html": [
       "<div>\n",
       "<style scoped>\n",
       "    .dataframe tbody tr th:only-of-type {\n",
       "        vertical-align: middle;\n",
       "    }\n",
       "\n",
       "    .dataframe tbody tr th {\n",
       "        vertical-align: top;\n",
       "    }\n",
       "\n",
       "    .dataframe thead th {\n",
       "        text-align: right;\n",
       "    }\n",
       "</style>\n",
       "<table border=\"1\" class=\"dataframe\">\n",
       "  <thead>\n",
       "    <tr style=\"text-align: right;\">\n",
       "      <th></th>\n",
       "      <th>pace_helix</th>\n",
       "      <th>n_carbonalpha</th>\n",
       "      <th>perc_alpha</th>\n",
       "      <th>length_beta</th>\n",
       "      <th>n_carbonbeta</th>\n",
       "      <th>perc_beta</th>\n",
       "      <th>explored_alpha</th>\n",
       "      <th>explored_beta</th>\n",
       "    </tr>\n",
       "  </thead>\n",
       "  <tbody>\n",
       "    <tr>\n",
       "      <th>0</th>\n",
       "      <td>4.010985</td>\n",
       "      <td>90</td>\n",
       "      <td>24.590164</td>\n",
       "      <td>9.022447</td>\n",
       "      <td>92</td>\n",
       "      <td>25.136612</td>\n",
       "      <td>[8, 9, 10, 11, 12, 13, 14, 15, 16, 17, 18, 19,...</td>\n",
       "      <td>[42, 52, 55, 56, 57, 58, 63, 64, 65, 66, 67, 6...</td>\n",
       "    </tr>\n",
       "    <tr>\n",
       "      <th>1</th>\n",
       "      <td>3.989136</td>\n",
       "      <td>90</td>\n",
       "      <td>24.590164</td>\n",
       "      <td>9.0235</td>\n",
       "      <td>88</td>\n",
       "      <td>24.043716</td>\n",
       "      <td>[8, 9, 10, 11, 12, 13, 14, 15, 16, 17, 18, 20,...</td>\n",
       "      <td>[42, 52, 56, 57, 58, 63, 65, 66, 67, 68, 70, 7...</td>\n",
       "    </tr>\n",
       "  </tbody>\n",
       "</table>\n",
       "</div>"
      ],
      "text/plain": [
       "  pace_helix n_carbonalpha perc_alpha length_beta n_carbonbeta  perc_beta  \\\n",
       "0   4.010985            90  24.590164    9.022447           92  25.136612   \n",
       "1   3.989136            90  24.590164      9.0235           88  24.043716   \n",
       "\n",
       "                                      explored_alpha  \\\n",
       "0  [8, 9, 10, 11, 12, 13, 14, 15, 16, 17, 18, 19,...   \n",
       "1  [8, 9, 10, 11, 12, 13, 14, 15, 16, 17, 18, 20,...   \n",
       "\n",
       "                                       explored_beta  \n",
       "0  [42, 52, 55, 56, 57, 58, 63, 64, 65, 66, 67, 6...  \n",
       "1  [42, 52, 56, 57, 58, 63, 65, 66, 67, 68, 70, 7...  "
      ]
     },
     "execution_count": 13,
     "metadata": {},
     "output_type": "execute_result"
    }
   ],
   "source": [
    "struct.frames[0].results.helix_score"
   ]
  },
  {
   "cell_type": "markdown",
   "id": "71594585",
   "metadata": {},
   "source": [
    "Each row of the above database refer, in this case, to a subunit of the the beta-clamp dimer.\n",
    "\n",
    "Here we focus on one of the output that we just obtained: ***explored_alpha***.\n",
    "\n",
    "*explored_alpha* contains the index of the residues that partecipate in an alpha-helical secondary structure, as found from `morphoscanner` searching algorithm."
   ]
  },
  {
   "cell_type": "markdown",
   "id": "5f2efa90",
   "metadata": {},
   "source": [
    "We use the following code to get the indices, and to transform it in a suitable format to be retrived from `MDAnalysis.Universe`, and then be visualized with `nglview`."
   ]
  },
  {
   "cell_type": "markdown",
   "id": "76582499",
   "metadata": {},
   "source": [
    "### Visualization methods with `nglview`"
   ]
  },
  {
   "cell_type": "markdown",
   "id": "515f7915",
   "metadata": {},
   "source": [
    "We have the residues index, and we want to represent them visually. The complex we are studying has two subunit, each called *segment* in `MDAnalysis.Universe`.\n",
    "\n",
    "We show here some methods to get the representation we need. Others methods are possible, using the rules found in the [official documentation](https://docs.mdanalysis.org/1.1.1/documentation_pages/selections.html#selection-commands).\n",
    "\n",
    "We focus on the subunit with *index 0*, that correspond to the *segment A* in `MDAnalysis.Universe`."
   ]
  },
  {
   "cell_type": "code",
   "execution_count": 110,
   "id": "d684245b",
   "metadata": {},
   "outputs": [
    {
     "name": "stdout",
     "output_type": "stream",
     "text": [
      "Pretty printing has been turned OFF\n"
     ]
    }
   ],
   "source": [
    "%pprint"
   ]
  },
  {
   "cell_type": "markdown",
   "id": "c58e7cc6",
   "metadata": {},
   "source": [
    "#### Get the indices\n",
    "\n",
    "We need the index of the residues that are involved in the alpha-helix."
   ]
  },
  {
   "cell_type": "code",
   "execution_count": 113,
   "id": "b5338cb5",
   "metadata": {},
   "outputs": [],
   "source": [
    "alpha_idx0 = [i for i in struct.frames[0].results.helix_score.explored_alpha[0]]"
   ]
  },
  {
   "cell_type": "code",
   "execution_count": 121,
   "id": "b8547c12",
   "metadata": {},
   "outputs": [
    {
     "data": {
      "text/plain": [
       "[8, 9, 10, 11, 12, 13, 14, 15, 16, 17, 18, 19, 20, 29, 30, 31, 41, 51, 73, 74, 75, 76, 77, 78, 79, 80, 81, 96, 104, 114, 115, 133, 134, 135, 136, 137, 138, 139, 140, 141, 142, 144, 145, 152, 154, 166, 176, 199, 200, 201, 202, 203, 204, 205, 206, 222, 245, 246, 247, 251, 261, 262, 263, 264, 265, 266, 267, 268, 269, 270, 271, 272, 273, 277, 289, 299, 300, 322, 323, 324, 325, 326, 327, 328, 329, 330, 331, 344, 345, 354]"
      ]
     },
     "execution_count": 121,
     "metadata": {},
     "output_type": "execute_result"
    }
   ],
   "source": [
    "alpha_idx0"
   ]
  },
  {
   "cell_type": "markdown",
   "id": "6a5d2820",
   "metadata": {},
   "source": [
    " "
   ]
  },
  {
   "cell_type": "markdown",
   "id": "7fcb613d",
   "metadata": {},
   "source": [
    "### Show the alpha carbon of the helix\n",
    "\n",
    "To retrive and show only the C-alpha of the residues we will need the corresponding *atom_id*."
   ]
  },
  {
   "cell_type": "code",
   "execution_count": 116,
   "id": "224cf383",
   "metadata": {},
   "outputs": [],
   "source": [
    "atom_id0 = [struct.frames[0].peptides[0].atom_numbers[i] for i in struct.frames[0].peptides[0].atom_numbers if i in set(alpha_idx0)]"
   ]
  },
  {
   "cell_type": "code",
   "execution_count": 120,
   "id": "24d7270c",
   "metadata": {},
   "outputs": [
    {
     "data": {
      "text/plain": [
       "[560, 570, 578, 586, 595, 602, 610, 619, 628, 635, 641, 645, 652, 716, 724, 728, 800, 873, 1035, 1044, 1055, 1066, 1074, 1082, 1088, 1099, 1103, 1215, 1276, 1350, 1358, 1509, 1516, 1524, 1533, 1544, 1552, 1560, 1569, 1574, 1581, 1601, 1607, 1665, 1689, 1783, 1861, 2025, 2032, 2040, 2049, 2057, 2065, 2076, 2084, 2200, 2392, 2403, 2410, 2442, 2516, 2524, 2532, 2541, 2550, 2555, 2566, 2571, 2582, 2587, 2592, 2600, 2608, 2640, 2743, 2821, 2830, 2997, 3009, 3016, 3024, 3032, 3039, 3047, 3055, 3060, 3068, 3170, 3176, 3239]"
      ]
     },
     "execution_count": 120,
     "metadata": {},
     "output_type": "execute_result"
    }
   ],
   "source": [
    "atom_id0"
   ]
  },
  {
   "cell_type": "markdown",
   "id": "317736b8",
   "metadata": {},
   "source": [
    "`MDAnalysis.Universe` needs a `str` type for the request. We do not need to specify segment A, since *atom_id* are unique."
   ]
  },
  {
   "cell_type": "code",
   "execution_count": 123,
   "id": "7a30b07c",
   "metadata": {},
   "outputs": [],
   "source": [
    "atom_id0str = ' '.join([str(i) for i in atom_id0])"
   ]
  },
  {
   "cell_type": "code",
   "execution_count": 124,
   "id": "1242731d",
   "metadata": {},
   "outputs": [
    {
     "data": {
      "text/plain": [
       "'560 570 578 586 595 602 610 619 628 635 641 645 652 716 724 728 800 873 1035 1044 1055 1066 1074 1082 1088 1099 1103 1215 1276 1350 1358 1509 1516 1524 1533 1544 1552 1560 1569 1574 1581 1601 1607 1665 1689 1783 1861 2025 2032 2040 2049 2057 2065 2076 2084 2200 2392 2403 2410 2442 2516 2524 2532 2541 2550 2555 2566 2571 2582 2587 2592 2600 2608 2640 2743 2821 2830 2997 3009 3016 3024 3032 3039 3047 3055 3060 3068 3170 3176 3239'"
      ]
     },
     "execution_count": 124,
     "metadata": {},
     "output_type": "execute_result"
    }
   ],
   "source": [
    "atom_id0str"
   ]
  },
  {
   "cell_type": "markdown",
   "id": "4684cc3e",
   "metadata": {},
   "source": [
    "Now we need to add the proper request command to the atom list."
   ]
  },
  {
   "cell_type": "code",
   "execution_count": 129,
   "id": "c4de82bf",
   "metadata": {},
   "outputs": [],
   "source": [
    "atom_id0_call = 'index ' + atom_id0str"
   ]
  },
  {
   "cell_type": "code",
   "execution_count": 130,
   "id": "bd5ff4b1",
   "metadata": {},
   "outputs": [
    {
     "data": {
      "text/plain": [
       "'index 560 570 578 586 595 602 610 619 628 635 641 645 652 716 724 728 800 873 1035 1044 1055 1066 1074 1082 1088 1099 1103 1215 1276 1350 1358 1509 1516 1524 1533 1544 1552 1560 1569 1574 1581 1601 1607 1665 1689 1783 1861 2025 2032 2040 2049 2057 2065 2076 2084 2200 2392 2403 2410 2442 2516 2524 2532 2541 2550 2555 2566 2571 2582 2587 2592 2600 2608 2640 2743 2821 2830 2997 3009 3016 3024 3032 3039 3047 3055 3060 3068 3170 3176 3239'"
      ]
     },
     "execution_count": 130,
     "metadata": {},
     "output_type": "execute_result"
    }
   ],
   "source": [
    "atom_id0_call"
   ]
  },
  {
   "cell_type": "markdown",
   "id": "0a851af2",
   "metadata": {},
   "source": [
    "We could have done the above with a single line:"
   ]
  },
  {
   "cell_type": "code",
   "execution_count": 135,
   "id": "bab149d3",
   "metadata": {},
   "outputs": [],
   "source": [
    "atom_id0_call = 'index '+' '.join([str(struct.frames[0].peptides[0].atom_numbers[i]) for i in struct.frames[0].peptides[0].atom_numbers if i in set(alpha_idx0)])"
   ]
  },
  {
   "cell_type": "code",
   "execution_count": 136,
   "id": "9f950b0f",
   "metadata": {},
   "outputs": [
    {
     "data": {
      "text/plain": [
       "'index 560 570 578 586 595 602 610 619 628 635 641 645 652 716 724 728 800 873 1035 1044 1055 1066 1074 1082 1088 1099 1103 1215 1276 1350 1358 1509 1516 1524 1533 1544 1552 1560 1569 1574 1581 1601 1607 1665 1689 1783 1861 2025 2032 2040 2049 2057 2065 2076 2084 2200 2392 2403 2410 2442 2516 2524 2532 2541 2550 2555 2566 2571 2582 2587 2592 2600 2608 2640 2743 2821 2830 2997 3009 3016 3024 3032 3039 3047 3055 3060 3068 3170 3176 3239'"
      ]
     },
     "execution_count": 136,
     "metadata": {},
     "output_type": "execute_result"
    }
   ],
   "source": [
    "atom_id0_call"
   ]
  },
  {
   "cell_type": "markdown",
   "id": "c5069be2",
   "metadata": {},
   "source": [
    "Now we can ask the `Universe` to give us the atoms we need."
   ]
  },
  {
   "cell_type": "code",
   "execution_count": 131,
   "id": "6cd5a1c3",
   "metadata": {},
   "outputs": [],
   "source": [
    "c_alpha_seg0 = struct.universe.select_atoms(atom_id0_call)"
   ]
  },
  {
   "cell_type": "markdown",
   "id": "34cceb85",
   "metadata": {},
   "source": [
    "Is now possible to visualize the atoms with `nglview`."
   ]
  },
  {
   "cell_type": "code",
   "execution_count": 132,
   "id": "29577db3",
   "metadata": {},
   "outputs": [
    {
     "data": {
      "application/vnd.jupyter.widget-view+json": {
       "model_id": "630fce6a1210493ca32583e039812cb9",
       "version_major": 2,
       "version_minor": 0
      },
      "text/plain": [
       "NGLWidget()"
      ]
     },
     "metadata": {},
     "output_type": "display_data"
    }
   ],
   "source": [
    "nv.show_mdanalysis(c_alpha_seg0)"
   ]
  },
  {
   "cell_type": "markdown",
   "id": "9bdc102a",
   "metadata": {},
   "source": [
    " "
   ]
  },
  {
   "cell_type": "markdown",
   "id": "b72df2e8",
   "metadata": {},
   "source": [
    " "
   ]
  },
  {
   "cell_type": "markdown",
   "id": "ec9f9470",
   "metadata": {},
   "source": [
    "### Show the residues"
   ]
  },
  {
   "cell_type": "markdown",
   "id": "b136f55c",
   "metadata": {},
   "source": [
    "Some times can be more informative to show the entire residues instead of visualizing only the C-alpha.\n",
    "\n",
    "Here we need to know to which segment our atoms belong. In our case we know that is *segment A*.\n",
    "\n",
    "We can check wich segments are in our universe:"
   ]
  },
  {
   "cell_type": "code",
   "execution_count": 139,
   "id": "97d4704d",
   "metadata": {
    "scrolled": true
   },
   "outputs": [],
   "source": [
    "segs = [i for i in struct.universe.segments]"
   ]
  },
  {
   "cell_type": "code",
   "execution_count": 140,
   "id": "20470f78",
   "metadata": {},
   "outputs": [
    {
     "name": "stdout",
     "output_type": "stream",
     "text": [
      "[<Segment C>, <Segment D>, <Segment A>, <Segment B>, <Segment C>, <Segment D>, <Segment A>, <Segment B>]\n"
     ]
    }
   ],
   "source": [
    "print(segs)"
   ]
  },
  {
   "cell_type": "markdown",
   "id": "426b42c8",
   "metadata": {},
   "source": [
    "In this case we see that we have, in order, Segment C, D, A, B, and the again the same letters as ids. Looking at the `.pdb` file of our complex, we see that only the first four segment are of our interest, and between these four only C and D are our subunits, while C and D are DNA filaments."
   ]
  },
  {
   "cell_type": "markdown",
   "id": "a681feed",
   "metadata": {},
   "source": [
    "We can have a look at these with `nglview`."
   ]
  },
  {
   "cell_type": "code",
   "execution_count": 151,
   "id": "024b2f5c",
   "metadata": {},
   "outputs": [
    {
     "data": {
      "application/vnd.jupyter.widget-view+json": {
       "model_id": "531fe44396cc4dec91e89ae238add983",
       "version_major": 2,
       "version_minor": 0
      },
      "text/plain": [
       "NGLWidget()"
      ]
     },
     "metadata": {},
     "output_type": "display_data"
    }
   ],
   "source": [
    "nv.show_mdanalysis(struct.universe.segments[:2])"
   ]
  },
  {
   "cell_type": "code",
   "execution_count": 153,
   "id": "8fdef4d1",
   "metadata": {},
   "outputs": [
    {
     "data": {
      "application/vnd.jupyter.widget-view+json": {
       "model_id": "51c8a9a54d0d4dec9054d1608e725208",
       "version_major": 2,
       "version_minor": 0
      },
      "text/plain": [
       "NGLWidget()"
      ]
     },
     "metadata": {},
     "output_type": "display_data"
    }
   ],
   "source": [
    "nv.show_mdanalysis(struct.universe.segments[2:4])"
   ]
  },
  {
   "cell_type": "markdown",
   "id": "dc476e79",
   "metadata": {},
   "source": [
    " "
   ]
  },
  {
   "cell_type": "markdown",
   "id": "49bb479d",
   "metadata": {},
   "source": [
    "From the above renders it is clear that the entry with index 0 and 1, that are segment C and D, represents the DNA helix. Segment A and B are our two subunit, and since the parsing follows the order of the `.pdb` file, segment A correspond to our peptide with index 0, as read by `morphoscanner`.\n",
    "\n",
    "So we can get the residues of interest from segment A.\n",
    "\n",
    "We use the indices we have collected after the analysis:"
   ]
  },
  {
   "cell_type": "code",
   "execution_count": 156,
   "id": "43895dff",
   "metadata": {},
   "outputs": [
    {
     "data": {
      "text/plain": [
       "[8, 9, 10, 11, 12, 13, 14, 15, 16, 17, 18, 19, 20, 29, 30, 31, 41, 51, 73, 74, 75, 76, 77, 78, 79, 80, 81, 96, 104, 114, 115, 133, 134, 135, 136, 137, 138, 139, 140, 141, 142, 144, 145, 152, 154, 166, 176, 199, 200, 201, 202, 203, 204, 205, 206, 222, 245, 246, 247, 251, 261, 262, 263, 264, 265, 266, 267, 268, 269, 270, 271, 272, 273, 277, 289, 299, 300, 322, 323, 324, 325, 326, 327, 328, 329, 330, 331, 344, 345, 354]"
      ]
     },
     "execution_count": 156,
     "metadata": {},
     "output_type": "execute_result"
    }
   ],
   "source": [
    "alpha_idx0"
   ]
  },
  {
   "cell_type": "code",
   "execution_count": 160,
   "id": "f1688e4f",
   "metadata": {},
   "outputs": [],
   "source": [
    "res_segA_alpha_call = 'segid A ' + 'and ' + 'resid '+' '.join([str(i) for i in alpha_idx0])"
   ]
  },
  {
   "cell_type": "code",
   "execution_count": 161,
   "id": "63643446",
   "metadata": {},
   "outputs": [
    {
     "data": {
      "text/plain": [
       "'segid A and resid 8 9 10 11 12 13 14 15 16 17 18 19 20 29 30 31 41 51 73 74 75 76 77 78 79 80 81 96 104 114 115 133 134 135 136 137 138 139 140 141 142 144 145 152 154 166 176 199 200 201 202 203 204 205 206 222 245 246 247 251 261 262 263 264 265 266 267 268 269 270 271 272 273 277 289 299 300 322 323 324 325 326 327 328 329 330 331 344 345 354'"
      ]
     },
     "execution_count": 161,
     "metadata": {},
     "output_type": "execute_result"
    }
   ],
   "source": [
    "res_segA_alpha_call"
   ]
  },
  {
   "cell_type": "code",
   "execution_count": 162,
   "id": "850dc2ec",
   "metadata": {},
   "outputs": [],
   "source": [
    "segA_alpha = struct.universe.select_atoms(res_segA_alpha_call)"
   ]
  },
  {
   "cell_type": "code",
   "execution_count": 168,
   "id": "481baddf",
   "metadata": {},
   "outputs": [],
   "source": [
    "view_segA = nv.show_mdanalysis(segA_alpha)"
   ]
  },
  {
   "cell_type": "code",
   "execution_count": 169,
   "id": "75ddf80e",
   "metadata": {},
   "outputs": [
    {
     "data": {
      "application/vnd.jupyter.widget-view+json": {
       "model_id": "b8866206627c4bbc9ee1edb061a84a3e",
       "version_major": 2,
       "version_minor": 0
      },
      "text/plain": [
       "NGLWidget()"
      ]
     },
     "metadata": {},
     "output_type": "display_data"
    }
   ],
   "source": [
    "view_segA"
   ]
  },
  {
   "cell_type": "code",
   "execution_count": 166,
   "id": "2d6c707f",
   "metadata": {},
   "outputs": [],
   "source": [
    "view_segA.remove_ball_and_stick()\n",
    "view_segA.add_cartoon()"
   ]
  },
  {
   "cell_type": "code",
   "execution_count": 167,
   "id": "924a8023",
   "metadata": {},
   "outputs": [
    {
     "data": {
      "application/vnd.jupyter.widget-view+json": {
       "model_id": "a06d7c1bd7c0441d827952fa3048dd09",
       "version_major": 2,
       "version_minor": 0
      },
      "text/plain": [
       "NGLWidget(n_components=1)"
      ]
     },
     "metadata": {},
     "output_type": "display_data"
    }
   ],
   "source": [
    "view_segA"
   ]
  },
  {
   "cell_type": "markdown",
   "id": "4d4c727b",
   "metadata": {},
   "source": [
    " "
   ]
  },
  {
   "cell_type": "markdown",
   "id": "6e19aa27",
   "metadata": {},
   "source": [
    " "
   ]
  },
  {
   "cell_type": "code",
   "execution_count": null,
   "id": "55d4ae91",
   "metadata": {},
   "outputs": [],
   "source": []
  },
  {
   "cell_type": "markdown",
   "id": "7cc2ce8a",
   "metadata": {},
   "source": [
    "## Start example of a wrong behaviour \n",
    "\n",
    "### Pitfall of using `MDAnalysis.Universe` and `nglsview` in visualization (at least the one we know)\n",
    "\n",
    "Pay attention when you have homologous dimers like the one we use as a sample here! It is tempting to just ask `MDAnalysis.Universe` to give us the residues that `morphoscanner` reports as part of alpha helical structures.\n",
    "\n",
    "This is what happens if we do that!"
   ]
  },
  {
   "cell_type": "markdown",
   "id": "127e47fe",
   "metadata": {},
   "source": [
    "#### convert to string\n",
    "\n",
    "Convert to string the explored alpha carbon of segment A."
   ]
  },
  {
   "cell_type": "code",
   "execution_count": 170,
   "id": "9f2c4d66",
   "metadata": {},
   "outputs": [],
   "source": [
    "alpha_str = ' '.join(str(i) for i in struct.frames[0].results.helix_score.explored_alpha[0])"
   ]
  },
  {
   "cell_type": "code",
   "execution_count": 171,
   "id": "264737d4",
   "metadata": {},
   "outputs": [
    {
     "data": {
      "text/plain": [
       "'8 9 10 11 12 13 14 15 16 17 18 19 20 29 30 31 41 51 73 74 75 76 77 78 79 80 81 96 104 114 115 133 134 135 136 137 138 139 140 141 142 144 145 152 154 166 176 199 200 201 202 203 204 205 206 222 245 246 247 251 261 262 263 264 265 266 267 268 269 270 271 272 273 277 289 299 300 322 323 324 325 326 327 328 329 330 331 344 345 354'"
      ]
     },
     "execution_count": 171,
     "metadata": {},
     "output_type": "execute_result"
    }
   ],
   "source": [
    "alpha_str"
   ]
  },
  {
   "cell_type": "markdown",
   "id": "0d98508d",
   "metadata": {},
   "source": [
    "#### make it suitable to make a request to `MDAnalysis.Universe`"
   ]
  },
  {
   "cell_type": "code",
   "execution_count": 172,
   "id": "c437afd0",
   "metadata": {},
   "outputs": [],
   "source": [
    "alpha_call = 'resid ' + alpha_str"
   ]
  },
  {
   "cell_type": "code",
   "execution_count": 173,
   "id": "b420070f",
   "metadata": {},
   "outputs": [
    {
     "data": {
      "text/plain": [
       "'resid 8 9 10 11 12 13 14 15 16 17 18 19 20 29 30 31 41 51 73 74 75 76 77 78 79 80 81 96 104 114 115 133 134 135 136 137 138 139 140 141 142 144 145 152 154 166 176 199 200 201 202 203 204 205 206 222 245 246 247 251 261 262 263 264 265 266 267 268 269 270 271 272 273 277 289 299 300 322 323 324 325 326 327 328 329 330 331 344 345 354'"
      ]
     },
     "execution_count": 173,
     "metadata": {},
     "output_type": "execute_result"
    }
   ],
   "source": [
    "alpha_call"
   ]
  },
  {
   "cell_type": "code",
   "execution_count": 174,
   "id": "71b200d6",
   "metadata": {},
   "outputs": [],
   "source": [
    "alpha_atom = struct.universe.select_atoms(alpha_call)"
   ]
  },
  {
   "cell_type": "markdown",
   "id": "dbf48c2a",
   "metadata": {},
   "source": [
    "#### Use `nglview` for the visualization"
   ]
  },
  {
   "cell_type": "code",
   "execution_count": 181,
   "id": "873bda5f",
   "metadata": {},
   "outputs": [],
   "source": [
    "view = nv.show_mdanalysis(alpha_atom)"
   ]
  },
  {
   "cell_type": "code",
   "execution_count": 182,
   "id": "4fa66c14",
   "metadata": {},
   "outputs": [
    {
     "data": {
      "application/vnd.jupyter.widget-view+json": {
       "model_id": "41639628251d4f8ca7c364863803f21b",
       "version_major": 2,
       "version_minor": 0
      },
      "text/plain": [
       "NGLWidget()"
      ]
     },
     "metadata": {},
     "output_type": "display_data"
    }
   ],
   "source": [
    "view"
   ]
  },
  {
   "cell_type": "markdown",
   "id": "8c135a27",
   "metadata": {},
   "source": [
    "#### clean a bit and view again"
   ]
  },
  {
   "cell_type": "code",
   "execution_count": 178,
   "id": "e9f4aa02",
   "metadata": {},
   "outputs": [],
   "source": [
    "view.remove_ball_and_stick()\n",
    "view.add_cartoon()"
   ]
  },
  {
   "cell_type": "code",
   "execution_count": 179,
   "id": "169c6d43",
   "metadata": {},
   "outputs": [
    {
     "data": {
      "application/vnd.jupyter.widget-view+json": {
       "model_id": "0eef90b823cf465b94610ae8df3e89e0",
       "version_major": 2,
       "version_minor": 0
      },
      "text/plain": [
       "NGLWidget(n_components=1)"
      ]
     },
     "metadata": {},
     "output_type": "display_data"
    }
   ],
   "source": [
    "view"
   ]
  },
  {
   "cell_type": "markdown",
   "id": "c9de3735",
   "metadata": {},
   "source": [
    " "
   ]
  },
  {
   "cell_type": "markdown",
   "id": "e6a351be",
   "metadata": {},
   "source": [
    "We can compare it with the whole protein:"
   ]
  },
  {
   "cell_type": "code",
   "execution_count": 183,
   "id": "6be45ceb",
   "metadata": {},
   "outputs": [
    {
     "data": {
      "application/vnd.jupyter.widget-view+json": {
       "model_id": "f2c06fff288841bd94ad69486808393f",
       "version_major": 2,
       "version_minor": 0
      },
      "text/plain": [
       "NGLWidget()"
      ]
     },
     "metadata": {},
     "output_type": "display_data"
    }
   ],
   "source": [
    "nv.show_pdbid('3bep')"
   ]
  },
  {
   "cell_type": "markdown",
   "id": "4fabe181",
   "metadata": {},
   "source": [
    " "
   ]
  },
  {
   "cell_type": "markdown",
   "id": "03dc57c2",
   "metadata": {},
   "source": [
    "### What just happened?\n",
    "\n",
    "Why we asked for the residues that `morphoscanner` found as involved in the alpha-helica structures of segment A, and we got both segments?\n",
    "\n",
    "In a `.pdb` file, each chain (or segment, or peptide, or any other name used to describe a molecule in which the atoms are involved in some covalent bonding) start its residues indexing from 0. So *segment A* starts with index 1, and when it ends there will be *segment B* starting, again with index 1.\n",
    "\n",
    "What just happened is that calling the above indices on `MDAnalysis.Universe`, we got back all the residues with those indices in the `.pdb` file. We got nothing from all the other segments, because they have no residues with those indices (actually they have no residues at all since are not proteins).\n",
    "\n",
    "## End example of a wrong behaviour "
   ]
  },
  {
   "cell_type": "markdown",
   "id": "5c8ab68e",
   "metadata": {},
   "source": [
    " "
   ]
  },
  {
   "cell_type": "markdown",
   "id": "16f65aeb",
   "metadata": {},
   "source": [
    "  "
   ]
  },
  {
   "cell_type": "markdown",
   "id": "73564463",
   "metadata": {},
   "source": [
    "## Some utilities that can be useful\n",
    "\n",
    "`morphoscanner` simplifies the analysis, making it possible with a single command.\n",
    "\n",
    "What happens under the hood in this case is:\n",
    "- calculation of the distance map, already done with the first part of the workflow\n",
    "- calculation of the contact map, with distance based thresholds\n",
    "- analysis of the contact map"
   ]
  },
  {
   "cell_type": "markdown",
   "id": "be04d902",
   "metadata": {},
   "source": [
    "So we get the map:"
   ]
  },
  {
   "cell_type": "code",
   "execution_count": 45,
   "id": "a7b90444",
   "metadata": {},
   "outputs": [],
   "source": [
    "dmap_sub0 = struct.frames[0].results.distance_maps[0][0]"
   ]
  },
  {
   "cell_type": "code",
   "execution_count": 46,
   "id": "1a2addb2",
   "metadata": {},
   "outputs": [
    {
     "data": {
      "text/plain": [
       "<matplotlib.image.AxesImage at 0x7fb5926a1190>"
      ]
     },
     "execution_count": 46,
     "metadata": {},
     "output_type": "execute_result"
    },
    {
     "data": {
      "image/png": "[encoded data removed]",
      "text/plain": [
       "<Figure size 432x288 with 1 Axes>"
      ]
     },
     "metadata": {
      "needs_background": "light"
     },
     "output_type": "display_data"
    }
   ],
   "source": [
    "plt.imshow(dmap_sub0)"
   ]
  },
  {
   "cell_type": "markdown",
   "id": "8adf4b3d",
   "metadata": {},
   "source": [
    "Calculate the contact map:"
   ]
  },
  {
   "cell_type": "code",
   "execution_count": 47,
   "id": "787e05ef",
   "metadata": {},
   "outputs": [],
   "source": [
    "h_cont = morphoscanner.backend.helix_recognition.contact_map_helix_torch(dmap_sub0)"
   ]
  },
  {
   "cell_type": "code",
   "execution_count": 48,
   "id": "a7dd1303",
   "metadata": {},
   "outputs": [
    {
     "data": {
      "text/plain": [
       "<matplotlib.image.AxesImage at 0x7fb5901fb550>"
      ]
     },
     "execution_count": 48,
     "metadata": {},
     "output_type": "execute_result"
    },
    {
     "data": {
      "image/png": "[encoded data removed]",
      "text/plain": [
       "<Figure size 432x288 with 1 Axes>"
      ]
     },
     "metadata": {
      "needs_background": "light"
     },
     "output_type": "display_data"
    }
   ],
   "source": [
    "plt.imshow(h_cont)"
   ]
  },
  {
   "cell_type": "markdown",
   "id": "670b910f",
   "metadata": {},
   "source": [
    "Perform the pattern recognition:"
   ]
  },
  {
   "cell_type": "code",
   "execution_count": 49,
   "id": "6f92f83f",
   "metadata": {},
   "outputs": [],
   "source": [
    "trace = morphoscanner.backend.helix_recognition.contact_tracer(h_cont)"
   ]
  },
  {
   "cell_type": "code",
   "execution_count": 50,
   "id": "d3ad99f0",
   "metadata": {},
   "outputs": [
    {
     "data": {
      "text/plain": [
       "{'pace_helix': 4.010984864791529,\n",
       " 'n_carbonalpha': 90,\n",
       " 'perc_alpha': 24.59016393442623,\n",
       " 'length_beta': 9.022446574380128,\n",
       " 'n_carbonbeta': 92,\n",
       " 'perc_beta': 25.136612021857925,\n",
       " 'explored_alpha': array([  8,   9,  10,  11,  12,  13,  14,  15,  16,  17,  18,  19,  20,\n",
       "         29,  30,  31,  41,  51,  73,  74,  75,  76,  77,  78,  79,  80,\n",
       "         81,  96, 104, 114, 115, 133, 134, 135, 136, 137, 138, 139, 140,\n",
       "        141, 142, 144, 145, 152, 154, 166, 176, 199, 200, 201, 202, 203,\n",
       "        204, 205, 206, 222, 245, 246, 247, 251, 261, 262, 263, 264, 265,\n",
       "        266, 267, 268, 269, 270, 271, 272, 273, 277, 289, 299, 300, 322,\n",
       "        323, 324, 325, 326, 327, 328, 329, 330, 331, 344, 345, 354],\n",
       "       dtype=int32),\n",
       " 'explored_beta': array([ 42,  52,  55,  56,  57,  58,  63,  64,  65,  66,  67,  68,  70,\n",
       "         71,  85,  87,  88,  89,  91,  97,  99, 106, 107, 108, 109, 110,\n",
       "        112, 155, 167, 168, 169, 171, 172, 177, 178, 179, 181, 182, 183,\n",
       "        187, 191, 192, 193, 194, 213, 215, 217, 218, 223, 224, 225, 230,\n",
       "        231, 232, 233, 234, 235, 236, 278, 279, 290, 291, 292, 293, 294,\n",
       "        295, 302, 303, 305, 307, 308, 310, 314, 316, 317, 319, 320, 335,\n",
       "        337, 338, 339, 348, 349, 350, 356, 357, 358, 359, 360, 361, 362,\n",
       "        363], dtype=int32)}"
      ]
     },
     "execution_count": 50,
     "metadata": {},
     "output_type": "execute_result"
    }
   ],
   "source": [
    "trace"
   ]
  },
  {
   "cell_type": "markdown",
   "id": "417f2827",
   "metadata": {},
   "source": [
    "And then this becomes the good looking `pandas.DataFrame`:"
   ]
  },
  {
   "cell_type": "code",
   "execution_count": 61,
   "id": "7dded136",
   "metadata": {
    "scrolled": true
   },
   "outputs": [],
   "source": [
    "helix_score_data = pd.DataFrame.from_dict(trace, orient='index').transpose()"
   ]
  },
  {
   "cell_type": "code",
   "execution_count": 62,
   "id": "6a03c949",
   "metadata": {},
   "outputs": [
    {
     "data": {
      "text/html": [
       "<div>\n",
       "<style scoped>\n",
       "    .dataframe tbody tr th:only-of-type {\n",
       "        vertical-align: middle;\n",
       "    }\n",
       "\n",
       "    .dataframe tbody tr th {\n",
       "        vertical-align: top;\n",
       "    }\n",
       "\n",
       "    .dataframe thead th {\n",
       "        text-align: right;\n",
       "    }\n",
       "</style>\n",
       "<table border=\"1\" class=\"dataframe\">\n",
       "  <thead>\n",
       "    <tr style=\"text-align: right;\">\n",
       "      <th></th>\n",
       "      <th>pace_helix</th>\n",
       "      <th>n_carbonalpha</th>\n",
       "      <th>perc_alpha</th>\n",
       "      <th>length_beta</th>\n",
       "      <th>n_carbonbeta</th>\n",
       "      <th>perc_beta</th>\n",
       "      <th>explored_alpha</th>\n",
       "      <th>explored_beta</th>\n",
       "    </tr>\n",
       "  </thead>\n",
       "  <tbody>\n",
       "    <tr>\n",
       "      <th>0</th>\n",
       "      <td>4.010985</td>\n",
       "      <td>90</td>\n",
       "      <td>24.590164</td>\n",
       "      <td>9.022447</td>\n",
       "      <td>92</td>\n",
       "      <td>25.136612</td>\n",
       "      <td>[8, 9, 10, 11, 12, 13, 14, 15, 16, 17, 18, 19,...</td>\n",
       "      <td>[42, 52, 55, 56, 57, 58, 63, 64, 65, 66, 67, 6...</td>\n",
       "    </tr>\n",
       "  </tbody>\n",
       "</table>\n",
       "</div>"
      ],
      "text/plain": [
       "  pace_helix n_carbonalpha perc_alpha length_beta n_carbonbeta  perc_beta  \\\n",
       "0   4.010985            90  24.590164    9.022447           92  25.136612   \n",
       "\n",
       "                                      explored_alpha  \\\n",
       "0  [8, 9, 10, 11, 12, 13, 14, 15, 16, 17, 18, 19,...   \n",
       "\n",
       "                                       explored_beta  \n",
       "0  [42, 52, 55, 56, 57, 58, 63, 64, 65, 66, 67, 6...  "
      ]
     },
     "execution_count": 62,
     "metadata": {},
     "output_type": "execute_result"
    }
   ],
   "source": [
    "helix_score_data"
   ]
  },
  {
   "cell_type": "markdown",
   "id": "b59b982f",
   "metadata": {},
   "source": [
    " "
   ]
  },
  {
   "cell_type": "code",
   "execution_count": null,
   "id": "0efed63f",
   "metadata": {},
   "outputs": [],
   "source": []
  }
 ],
 "metadata": {
  "kernelspec": {
   "display_name": "Python 3 (ipykernel)",
   "language": "python",
   "name": "python3"
  },
  "language_info": {
   "codemirror_mode": {
    "name": "ipython",
    "version": 3
   },
   "file_extension": ".py",
   "mimetype": "text/x-python",
   "name": "python",
   "nbconvert_exporter": "python",
   "pygments_lexer": "ipython3",
   "version": "3.8.13"
  }
 },
 "nbformat": 4,
 "nbformat_minor": 5
}
