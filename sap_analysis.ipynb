{
 "cells": [
  {
   "cell_type": "code",
   "execution_count": 1,
   "metadata": {},
   "outputs": [],
   "source": [
    "import math\n",
    "import itertools\n",
    "import numpy as np\n",
    "import matplotlib.pyplot as plt\n",
    "\n",
    "#import plotly\n",
    "#import plotly.express as px\n",
    "\n",
    "from mpl_toolkits import mplot3d\n",
    "from mpl_toolkits.mplot3d import Axes3D\n",
    "import pandas as pd\n",
    "import tqdm\n",
    "#from functools import lru_cache\n",
    "#import re\n",
    "import networkx as nx\n",
    "from networkx.algorithms import approximation\n",
    "\n",
    "import MDAnalysis as mda\n",
    "\n",
    "#import scipy\n",
    "#import sklearn\n",
    "#import skimage\n",
    "\n",
    "#import xml.etree.ElementTree as et\n",
    "#from Bio.PDB import *\n",
    "#import nglview as nv\n",
    "\n",
    "from timeit import default_timer as timer\n",
    "\n",
    "\n",
    "\n",
    "# http://nglviewer.org/nglview/latest/api.html\n",
    "# https://biopython.org/wiki/The_Biopython_Structural_Bioinformatics_FAQ\n",
    "# https://ambermd.org/tutorials/analysis/tutorial_notebooks/nglview_notebook/index.html\n",
    "# https://amber-md.github.io/pytraj/latest/_api/pytraj.html"
   ]
  },
  {
   "cell_type": "code",
   "execution_count": 2,
   "metadata": {},
   "outputs": [],
   "source": [
    "#contact_matrix = np.loadtxt('/home/lillo/TesiCNTE/CNTE/dataset/contact_matrix.txt')   #laptop\n",
    "#contact_matrix = np.loadtxt('/home/lillo/Code/Tesi/dataset/contact_matrix.txt')        #fisso\n",
    "#contact_matrix_single = contact_matrix.reshape(100,100,12,12)\n",
    "\n",
    "#gromacs_output = open('/home/lillo/Code/Tesi/dataset/dm4500Compl_mix1_K2_1%4500ns.gro') #fisso\n",
    "#gromacs_output = open('/home/lillo/TesiCNTE/CNTE/dataset/dm4500Compl_mix1_K2_1%4500ns.gro') #laptop\n",
    "\n",
    "#path = '/home/lillo/Code/Tesi/dataset/dm4500Compl_mix1_K2_1%4500ns.gro' #fisso\n",
    "#path = '/home/lillo/TesiCNTE/CNTE/dataset/dm4500Compl_mix1_K2_1%4500ns.gro' #laptop\n",
    "\n",
    "# import 2mxu file (beta sheet)\n",
    "\n",
    "#path_to_mmCIF = open('/home/lillo/TesiCNTE/pdb/2mxu/2mxu.cif')  ## laptop\n",
    "#path_to_pdb = '/home/lillo/TesiCNTE/pdb/2mxu/2mxu.pdb'  ## laptop\n",
    "#pa_to_pdb = '/home/lillo/TesiCNTE/pdb/2mxu/2mxu.pdb'  ## laptop\n",
    "\n",
    "#path_to_mmCIF = open('/home/lillo/Code/Tesi/pdb/2mxu/2mxu.cif')  ## fisso\n",
    "path_to_pdb = '/home/lillo/Code/Tesi/pdb/2mxu/2mxu.pdb'  ## fisso\n",
    "#pa_to_pdb = '/home/lillo/Code/Tesi/pdb/2mxu/2mxu.pdb'  ## fisso\n",
    "\n",
    "#seed_1_path = '/home/lillo/TesiCNTE/from_cluster/aggregate1.gro' # laptop\n",
    "seed_1_path = '/home/lillo/Code/Tesi/dataset/aggregate1.gro' # Fisso\n",
    "\n",
    "#trj_xtc = '/home/lillo/TesiCNTE/CNTE/trajectory/prd-LDLK12-100mer-out-mol.xtc'  #laptop\n",
    "#trj_gro = '/home/lillo/TesiCNTE/CNTE/trajectory/min-LDLK12-100mer-out-c.gro'  #laptop\n",
    "\n",
    "trj_xtc = '/home/lillo/Code/Tesi/dataset/trajectory_6_12_19/prd-LDLK12-100mer-out-mol.xtc'  #fisso\n",
    "trj_gro = '/home/lillo/Code/Tesi/dataset/trajectory_6_12_19/min-LDLK12-100mer-out-c.gro'  #fisso\n"
   ]
  },
  {
   "cell_type": "code",
   "execution_count": null,
   "metadata": {},
   "outputs": [],
   "source": [
    "trj.number_of_BB_atoms"
   ]
  },
  {
   "cell_type": "code",
   "execution_count": null,
   "metadata": {},
   "outputs": [],
   "source": [
    "import torch"
   ]
  },
  {
   "cell_type": "code",
   "execution_count": null,
   "metadata": {},
   "outputs": [],
   "source": [
    "torch.cuda.is_available()"
   ]
  },
  {
   "cell_type": "code",
   "execution_count": 3,
   "metadata": {},
   "outputs": [],
   "source": [
    "import morphoscanner"
   ]
  },
  {
   "cell_type": "code",
   "execution_count": null,
   "metadata": {},
   "outputs": [],
   "source": [
    "trj = morphoscanner.trajectory.trajectory(trj_gro, trj_xtc)"
   ]
  },
  {
   "cell_type": "code",
   "execution_count": null,
   "metadata": {},
   "outputs": [],
   "source": [
    "trj.compose_database(peptide_length=12, interval=50)"
   ]
  },
  {
   "cell_type": "code",
   "execution_count": null,
   "metadata": {},
   "outputs": [],
   "source": [
    "trj.analyze_inLoop()"
   ]
  },
  {
   "cell_type": "code",
   "execution_count": null,
   "metadata": {},
   "outputs": [],
   "source": [
    "trj.get_data()"
   ]
  },
  {
   "cell_type": "code",
   "execution_count": null,
   "metadata": {},
   "outputs": [],
   "source": [
    "trj.get_database()"
   ]
  },
  {
   "cell_type": "code",
   "execution_count": null,
   "metadata": {},
   "outputs": [],
   "source": [
    "trj.database"
   ]
  },
  {
   "cell_type": "code",
   "execution_count": null,
   "metadata": {},
   "outputs": [],
   "source": [
    "trj.frames.get(150).keys()"
   ]
  },
  {
   "cell_type": "code",
   "execution_count": null,
   "metadata": {},
   "outputs": [],
   "source": [
    "morphoscanner.plot.plot.plot_peptide_list(trj.frames.get(150).get('frame_dict'), trj.frames.get(150).get('subgraphs_full')[0])"
   ]
  },
  {
   "cell_type": "code",
   "execution_count": null,
   "metadata": {},
   "outputs": [],
   "source": [
    "%matplotlib notebook"
   ]
  },
  {
   "cell_type": "code",
   "execution_count": null,
   "metadata": {},
   "outputs": [],
   "source": [
    "uni = morphoscanner.backend.topology.make_universe(trj_gro,trj_xtc)"
   ]
  },
  {
   "cell_type": "code",
   "execution_count": null,
   "metadata": {},
   "outputs": [],
   "source": [
    "uni."
   ]
  },
  {
   "cell_type": "code",
   "execution_count": null,
   "metadata": {},
   "outputs": [],
   "source": [
    "# fareclasse frame, in cui ogni frame è un oggetto"
   ]
  },
  {
   "cell_type": "code",
   "execution_count": null,
   "metadata": {},
   "outputs": [],
   "source": []
  },
  {
   "cell_type": "code",
   "execution_count": null,
   "metadata": {},
   "outputs": [],
   "source": []
  },
  {
   "cell_type": "code",
   "execution_count": null,
   "metadata": {},
   "outputs": [],
   "source": [
    "\n",
    "        "
   ]
  },
  {
   "cell_type": "code",
   "execution_count": null,
   "metadata": {},
   "outputs": [],
   "source": []
  },
  {
   "cell_type": "code",
   "execution_count": null,
   "metadata": {},
   "outputs": [],
   "source": [
    "#def get_coordinate_dict_from_trajectory(trj_gro, trj_xtc, peptide_length=None, start_from=0, interval=1):\n",
    "#    '''Parse coordinate from a .gro topology and a .xtc trajectory.\n",
    "    \n",
    "#    Arguments:  .gro topology file path,\n",
    "            \n",
    "#                .xtc trajectory file path,\n",
    "                \n",
    "                \n",
    "#                optional:\n",
    "                    \n",
    "#                    peptide_length, default=None.   You can set the length of the peptide\n",
    "#                                                    Useful if you have to analyze simulation in which\n",
    "#                                                    there are premade aggregate\n",
    "                                    \n",
    "#                    start_from, default=0.    You can chose from which frame start the counter.\n",
    "#                                                Useful if you are working with a simulation\n",
    "#                                                made of different part. Eg. If part 1 end at\n",
    "#                                                frame 500, you can set start_from=500 and analyze\n",
    "#                                                part 2 of the simulation. Use it expecially\n",
    "#                                                if you are sampling (interval != 1)\n",
    "#                                                \n",
    "#                    interval, default=1     Interval between sample. If you want all the frame,\n",
    "#                                            interval=1 (default).\n",
    "#                                            If you want to skip sample, this parameter let you\n",
    "#                                            choose the interval between 2 sample frame.\n",
    "    \n",
    "    \n",
    "#    '''\n",
    "from morphoscanner.backend.topology import get_peptide_length_list\n",
    "from morphoscanner.backend.topology import make_universe\n",
    "import tqdm\n",
    "\n",
    "\n",
    "\n",
    "peptide_length=12\n",
    "start_from=0\n",
    "interval=50\n",
    "\n",
    "peptides_list = get_peptide_length_list(trj_gro)\n",
    "\n",
    "universe = make_universe(trj_gro, trj_xtc)\n",
    "\n",
    "\n",
    "if peptide_length == None:\n",
    "\n",
    "\n",
    "    n_pep = len(peptides_list)\n",
    "\n",
    "\n",
    "else:\n",
    "\n",
    "    n_pep = sum([(e // peptide_length) for e in peptides_list])\n",
    "\n",
    "\n",
    "\n",
    "trj_dict = {}\n",
    "\n",
    "for index_ts, ts in tqdm.tqdm(enumerate(universe.trajectory)):\n",
    "\n",
    "    updated_index = (index_ts + start_from)\n",
    "\n",
    "    if (updated_index % interval) == 0:\n",
    "\n",
    "        frm = frame(peptide_length, universe, peptides_list, n_pep)\n",
    "        trj_dict[updated_index] = frm"
   ]
  },
  {
   "cell_type": "code",
   "execution_count": null,
   "metadata": {},
   "outputs": [],
   "source": [
    "morphoscanner.plot.plot.plot_peptide_list(trj_dict.get(150), [i for i in trj_dict.get(0)])"
   ]
  },
  {
   "cell_type": "code",
   "execution_count": null,
   "metadata": {},
   "outputs": [],
   "source": [
    "trj_dict[0].peptides[0]."
   ]
  },
  {
   "cell_type": "code",
   "execution_count": null,
   "metadata": {},
   "outputs": [],
   "source": [
    "for index, atom in enumerate(universe.atoms):\n",
    "    \n",
    "    \n",
    "    atom_type = str(atom).split()[2]\n",
    "\n",
    "    if atom_type == 'BB':\n",
    "\n",
    "        atom_number = (int(str(atom).split()[1].split(':')[0]) - 1)\n",
    "        \n",
    "        residue_name = (str(atom).split()[8].split(',')[0])\n",
    "\n",
    "        coordinate = universe.atoms[atom_number].position\n",
    "\n",
    "        #position = len(trj_dict[updated_index][peptide])\n",
    "        \n",
    "        \n",
    "        \n",
    "        \n",
    "        \n",
    "        print(residue_name)\n",
    "        #print((str(atom).split()[8].split(',')[0]))\n",
    "\n",
    "\n",
    "\n",
    "       # trj_dict[updated_index][peptide][position] = coordinate"
   ]
  },
  {
   "cell_type": "code",
   "execution_count": null,
   "metadata": {},
   "outputs": [],
   "source": []
  },
  {
   "cell_type": "code",
   "execution_count": null,
   "metadata": {},
   "outputs": [],
   "source": [
    "_gro = get_gro()\n",
    "_xtc = get_xtc()\n",
    "\n",
    "trj = trajectory(_gro, _xtc)\n",
    "\n",
    "print('Your trajectory has %d frames' % trj.number_of_frames)\n",
    "print('Your trajectory has %d BB atoms' % trj.number_of_BB_atoms)\n",
    "\n",
    "\n",
    "peptide_length = peptide_length(sentence='Set the number of aminoacids in one peptide (int): ')\n",
    "interval = get_interval(sentence='Set the interval between sampled frames (int): ')\n",
    "start_from = start_from(sentence='Set the index from which you want to start.\\n\\n0 if you have a single simulation.\\n0 if you are analyzing split1.\\nlen(split1) if you are analyzing split2.\\ninteger: ')\n",
    "\n",
    "output_path, file_name = get_destination_dir_and_name()\n",
    "\n",
    "\n",
    "trj.compose_database(peptide_length=peptide_length, interval=interval)\n",
    "trj.analyze_inLoop()\n",
    "trj.get_data()\n",
    "trj.get_database()\n",
    "    "
   ]
  },
  {
   "cell_type": "code",
   "execution_count": null,
   "metadata": {},
   "outputs": [],
   "source": [
    "import torch"
   ]
  },
  {
   "cell_type": "code",
   "execution_count": null,
   "metadata": {},
   "outputs": [],
   "source": [
    "zero = trj_dict.get(0).get(0)"
   ]
  },
  {
   "cell_type": "code",
   "execution_count": null,
   "metadata": {},
   "outputs": [],
   "source": [
    "t = torch.stack([torch.from_numpy(zero[e]) for e in zero])"
   ]
  },
  {
   "cell_type": "code",
   "execution_count": null,
   "metadata": {},
   "outputs": [],
   "source": [
    "import matplotlib.pyplot as plt"
   ]
  },
  {
   "cell_type": "code",
   "execution_count": null,
   "metadata": {},
   "outputs": [],
   "source": [
    "plt.imshow(t)"
   ]
  },
  {
   "cell_type": "code",
   "execution_count": null,
   "metadata": {},
   "outputs": [],
   "source": [
    "plt.close()"
   ]
  },
  {
   "cell_type": "code",
   "execution_count": null,
   "metadata": {},
   "outputs": [],
   "source": [
    "morphoscanner.backend.distance_tensor.compute_euclidean_norm_torch()"
   ]
  },
  {
   "cell_type": "code",
   "execution_count": null,
   "metadata": {},
   "outputs": [],
   "source": [
    "def compute_euclidean_norm(peptide1, peptide2):\n",
    "\n",
    "    x_norm = torch.pow(peptide1, 2).sum(1).view(-1,1)\n",
    "    y_t = torch.transpose(peptide2, 0, 1)\n",
    "    y_norm = torch.pow(peptide2, 2).sum(1).view(1,-1)\n",
    "\n",
    "    dist = torch.sqrt(x_norm + y_norm - 2.0 * torch.mm(peptide1, y_t))\n",
    "    dist[torch.isnan(dist)] = 0\n",
    "\n",
    "    return dist"
   ]
  },
  {
   "cell_type": "code",
   "execution_count": null,
   "metadata": {},
   "outputs": [],
   "source": [
    "t_dist = compute_euclidean_norm(t, t)"
   ]
  },
  {
   "cell_type": "code",
   "execution_count": null,
   "metadata": {},
   "outputs": [],
   "source": [
    "plt.imshow(t_dist)"
   ]
  },
  {
   "cell_type": "code",
   "execution_count": null,
   "metadata": {},
   "outputs": [],
   "source": [
    "frame"
   ]
  },
  {
   "cell_type": "code",
   "execution_count": null,
   "metadata": {},
   "outputs": [],
   "source": [
    "# working\n",
    "\n",
    "class frame:\n",
    "    \n",
    "    '''Class that parse the trajectory and gives back frames with data.\n",
    "    \n",
    "    This class is used to represent data in an intuitive way to the user\n",
    "    \n",
    "    \n",
    "    '''\n",
    "\n",
    "    def __init__(self, peptide_length, universe, peptides_list, n_pep):\n",
    "        \n",
    "        # cosa vuoi aggiungere?\n",
    "        \n",
    "        # forse è meglio se si fa una classe frames dentro la classe trajectory\n",
    "        # e poi si istanzia la classe frame ad ogni frame campionato\n",
    "        # e dentro si mettono anche i risultati dell'analisi\n",
    "        # \n",
    "        # prendo a riferimento i frames, quindi la traiettoria\n",
    "        # oppure prendo a riferimento il tipo di peptide?\n",
    "        # forse meglio il frame, e poi posso tracciare le famiglie di peptidi tra\n",
    "        # i frames.\n",
    "        # \n",
    "        # devo anche individuare quali sono le sequenze\n",
    "        # e raggruppare i peptidi con sequenza uguale\n",
    "        # \n",
    "        #\n",
    "\n",
    "    \n",
    "        self.peptides = {}\n",
    "\n",
    "        for peptide in range(n_pep):\n",
    "\n",
    "            self.peptides[peptide] = {}\n",
    "\n",
    "\n",
    "            if peptide == 0:\n",
    "\n",
    "                counter = 0\n",
    "\n",
    "            else:\n",
    "                \n",
    "                # if to check peptide_length\n",
    "                if peptide_length == None:\n",
    "\n",
    "                    counter += peptides_list[peptide - 1]\n",
    "\n",
    "                else:\n",
    "                    counter += peptide_length\n",
    "                \n",
    "\n",
    "        \n",
    "\n",
    "            pep = single_peptide(universe, counter, peptide, peptide_length, peptides_list)\n",
    "            \n",
    "            self.peptides[peptide] = pep\n",
    "        \n",
    "        return\n",
    "    \n",
    "    "
   ]
  },
  {
   "cell_type": "code",
   "execution_count": null,
   "metadata": {},
   "outputs": [],
   "source": [
    "test = morphoscanner.trajectory.trajectory(trj_gro, trj_xtc)"
   ]
  },
  {
   "cell_type": "code",
   "execution_count": null,
   "metadata": {},
   "outputs": [],
   "source": [
    "frame"
   ]
  },
  {
   "cell_type": "code",
   "execution_count": null,
   "metadata": {},
   "outputs": [],
   "source": [
    "from morphoscanner import backend\n",
    "from timeit import default_timer as timer\n",
    "import pandas as pd\n",
    "\n",
    "class trajectory:\n",
    "\n",
    "    '''Class to operate on trajectory files.\n",
    "\n",
    "    It makes an object that contain the trajectory of the simulation'''\n",
    "\n",
    "\n",
    "\n",
    "    def __init__(self, trj_gro, trj_xtc):\n",
    "        \n",
    "        \n",
    "\n",
    "        self.trj_gro = trj_gro\n",
    "        self.trj_xtc = trj_xtc\n",
    "        self.universe = backend.topology.make_universe(self.trj_gro, self.trj_xtc)\n",
    "        self.number_of_frames = len(self.universe.trajectory)\n",
    "        self.number_of_BB_atoms = len(self.universe.select_atoms('name BB'))\n",
    "        self.frames = {}\n",
    "        \n",
    "        peptide_length_list = backend.topology.get_peptide_length_list(self.trj_gro)\n",
    "        self.len_dict = backend.topology.get_peptide_length_dict(peptide_length_list)\n",
    "\n",
    "\n",
    "\n",
    "    def compose_database(self, peptide_length=None, start_from=0, interval=1):\n",
    "\n",
    "        self.peptide_length = peptide_length\n",
    "        self.start_from = start_from\n",
    "        self.interval = interval\n",
    "\n",
    "        self.data = backend.topology.get_coordinate_dict_from_trajectory(self.trj_gro, self.trj_xtc, peptide_length=self.peptide_length, start_from=self.start_from, interval=self.interval)\n",
    "        self.sampled_frames = [key for key in self.data.keys()]"
   ]
  },
  {
   "cell_type": "code",
   "execution_count": null,
   "metadata": {},
   "outputs": [],
   "source": []
  },
  {
   "cell_type": "code",
   "execution_count": null,
   "metadata": {},
   "outputs": [],
   "source": [
    "atom_list = morphoscanner.backend.readGro.clean_gro(trj_gro)"
   ]
  },
  {
   "cell_type": "code",
   "execution_count": null,
   "metadata": {},
   "outputs": [],
   "source": [
    "atom_list"
   ]
  },
  {
   "cell_type": "code",
   "execution_count": null,
   "metadata": {},
   "outputs": [],
   "source": [
    "atoms_list = morphoscanner.backend.readGro.clean_gro(trj_gro)\n",
    "unique_peptide = {}\n",
    "\n",
    "peptide_length_list = []\n",
    "peptide_residue_list = []\n",
    "temporary_list = []\n",
    "temporary_residue_list = []\n",
    "\n",
    "# iterate trough topology\n",
    "for atom in atoms_list:\n",
    "\n",
    "    # if temporary list just started, add aminoacid position in chain\n",
    "    if len(temporary_list) == 0:\n",
    "        temporary_list.append(int(atom[1]))\n",
    "        temporary_residue_list.append(atom[2])\n",
    "\n",
    "    else:\n",
    "        # if position of actual residue is less than last residue\n",
    "        if temporary_list[-1] > int(atom[1]):\n",
    "\n",
    "            # append length of last peptide to peptide length list\n",
    "            peptide_length_list.append(len(temporary_list))\n",
    "            peptide_residue_list.append(temporary_residue_list)\n",
    "\n",
    "            # empty temporary list\n",
    "            temporary_list = []\n",
    "            temporary_residue_list = []\n",
    "\n",
    "            # append actual residue position\n",
    "            temporary_list.append(int(atom[1]))\n",
    "\n",
    "        # if position of actual residue is higher than last residue, ad current residue position\n",
    "        else:\n",
    "            temporary_list.append(int(atom[1]))\n",
    "            temporary_residue_list.append(atom[2])\n",
    "\n",
    "\n",
    "# append last peptide lenght to lenght stack\n",
    "peptide_length_list.append(len(temporary_list))\n",
    "peptide_residue_list.append(temporary_residue_list)\n"
   ]
  },
  {
   "cell_type": "code",
   "execution_count": null,
   "metadata": {},
   "outputs": [],
   "source": [
    "peptide_residue_list"
   ]
  },
  {
   "cell_type": "code",
   "execution_count": null,
   "metadata": {},
   "outputs": [],
   "source": []
  },
  {
   "cell_type": "code",
   "execution_count": null,
   "metadata": {},
   "outputs": [],
   "source": []
  },
  {
   "cell_type": "code",
   "execution_count": 4,
   "metadata": {},
   "outputs": [],
   "source": [
    "\n",
    "class single_peptide():\n",
    "    \n",
    "    ''' Class that define peptides\n",
    "    \n",
    "    '''\n",
    "    \n",
    "    def __init__(self, universe, counter, peptide, peptide_length, peptides_list):\n",
    "        \n",
    "        self.peptide_sequence = {}\n",
    "        \n",
    "        self.peptide_coordinates = {}\n",
    "        \n",
    "        \n",
    "        if peptide_length == None:\n",
    "\n",
    "            for res in range(peptides_list[peptide]):\n",
    "\n",
    "                for index, atom in enumerate(universe.residues[res + (counter)].atoms):\n",
    "\n",
    "                    atom_type = str(atom).split()[2]\n",
    "\n",
    "                    if atom_type == 'BB':\n",
    "\n",
    "                        atom_number = (int(str(atom).split()[1].split(':')[0]) - 1)\n",
    "\n",
    "                        residue_name = (str(atom).split()[8].split(',')[0])\n",
    "\n",
    "                        coordinate = universe.atoms[atom_number].position\n",
    "\n",
    "                        position = len(self.peptide_coordinates)\n",
    "\n",
    "\n",
    "                        self.peptide_coordinates[position] = coordinate\n",
    "                        \n",
    "                        self.peptide_sequence[position] = residue_name\n",
    "                    \n",
    "                    else:\n",
    "                        pass\n",
    "\n",
    "\n",
    "        else:\n",
    "\n",
    "            for res in range(peptide_length):\n",
    "\n",
    "                for index, atom in enumerate(universe.residues[res + (counter)].atoms):\n",
    "\n",
    "                    atom_type = str(atom).split()[2]\n",
    "\n",
    "                    if atom_type == 'BB':\n",
    "\n",
    "                        atom_number = (int(str(atom).split()[1].split(':')[0]) - 1)\n",
    "\n",
    "                        residue_name = (str(atom).split()[8].split(',')[0])\n",
    "\n",
    "                        coordinate = universe.atoms[atom_number].position\n",
    "\n",
    "                        position = len(self.peptide_coordinates)\n",
    "\n",
    "\n",
    "                        self.peptide_coordinates[position] = coordinate\n",
    "                        \n",
    "                        self.peptide_sequence[position] = residue_name\n",
    "\n",
    "                    else:\n",
    "                        pass\n",
    "\n",
    "        return"
   ]
  },
  {
   "cell_type": "code",
   "execution_count": 5,
   "metadata": {},
   "outputs": [],
   "source": [
    "class database:\n",
    "\n",
    "    '''Class that parse the trajectory and gives back frames with data.\n",
    "\n",
    "    This class is used to represent data in an intuitive way to the user\n",
    "\n",
    "\n",
    "    '''\n",
    "\n",
    "\n",
    "    def __init__(self, peptide_length=None, start_from = 0, interval = 1):\n",
    "\n",
    "        # cosa vuoi aggiungere?\n",
    "\n",
    "        # forse è meglio se si fa una classe frames dentro la classe trajectory\n",
    "        # e poi si istanzia la classe frame ad ogni frame campionato\n",
    "        # e dentro si mettono anche i risultati dell'analisi\n",
    "        # \n",
    "        # prendo a riferimento i frames, quindi la traiettoria\n",
    "        # oppure prendo a riferimento il tipo di peptide?\n",
    "        # forse meglio il frame, e poi posso tracciare le famiglie di peptidi tra\n",
    "        # i frames.\n",
    "        # \n",
    "        # devo anche individuare quali sono le sequenze\n",
    "        # e raggruppare i peptidi con sequenza uguale\n",
    "        # \n",
    "        #\n",
    "\n",
    "        self.frames = {}\n",
    "        self.peptide_length = peptide_length\n",
    "        self.start_from = start_from\n",
    "        self.interval = interval\n",
    "\n",
    "        peptides_list = backend.topology.get_peptide_length_list(trj_gro)\n",
    "\n",
    "        universe = backend.topology.make_universe(trj_gro, trj_xtc)\n",
    "\n",
    "\n",
    "        if peptide_length == None:\n",
    "\n",
    "\n",
    "            n_pep = len(peptides_list)\n",
    "\n",
    "\n",
    "        else:\n",
    "\n",
    "            n_pep = sum([(e // peptide_length) for e in peptides_list])\n",
    "\n",
    "\n",
    "\n",
    "        self.frames = {}\n",
    "\n",
    "        for index_ts, ts in tqdm.tqdm(enumerate(universe.trajectory)):\n",
    "\n",
    "            updated_index = (index_ts + start_from)\n",
    "\n",
    "            if (updated_index % interval) == 0:\n",
    "\n",
    "                peptides = {}\n",
    "\n",
    "                for peptide in range(n_pep):\n",
    "\n",
    "                    peptides[peptide] = {}\n",
    "\n",
    "\n",
    "                    if peptide == 0:\n",
    "\n",
    "                        counter = 0\n",
    "\n",
    "                    else:\n",
    "\n",
    "                        # if to check peptide_length\n",
    "                        if peptide_length == None:\n",
    "\n",
    "                            counter += peptides_list[peptide - 1]\n",
    "\n",
    "                        else:\n",
    "                            counter += peptide_length\n",
    "\n",
    "\n",
    "\n",
    "\n",
    "                    pep = single_peptide(universe, counter, peptide, peptide_length, peptides_list)\n",
    "\n",
    "                    peptides[peptide] = pep\n",
    "\n",
    "                self.frames[updated_index] = peptides\n",
    "\n",
    "        return"
   ]
  },
  {
   "cell_type": "code",
   "execution_count": null,
   "metadata": {},
   "outputs": [],
   "source": []
  },
  {
   "cell_type": "code",
   "execution_count": 9,
   "metadata": {},
   "outputs": [],
   "source": [
    "from morphoscanner import backend\n",
    "\n",
    "class trajectory:\n",
    "\n",
    "    '''Class to operate on trajectory files.\n",
    "\n",
    "    It makes an object that contain the trajectory of the simulation'''\n",
    "\n",
    "\n",
    "\n",
    "    def __init__(self, trj_gro, trj_xtc):\n",
    "        \n",
    "        \n",
    "\n",
    "        self.trj_gro = trj_gro\n",
    "        self.trj_xtc = trj_xtc\n",
    "        self.universe = backend.topology.make_universe(self.trj_gro, self.trj_xtc)\n",
    "        self.number_of_frames = len(self.universe.trajectory)\n",
    "        self.number_of_BB_atoms = len(self.universe.select_atoms('name BB'))\n",
    "        #self.frames = {}\n",
    "        \n",
    "        peptide_length_list = backend.topology.get_peptide_length_list(self.trj_gro)\n",
    "        self.len_dict = backend.topology.get_peptide_length_dict(peptide_length_list)\n",
    "        \n",
    "        return\n",
    "\n",
    "    \n",
    "    def compose_database(self, peptide_length=None, start_from=0, interval=1):\n",
    "\n",
    "        self.peptide_length = peptide_length\n",
    "        self.start_from = start_from\n",
    "        self.interval = interval\n",
    "\n",
    "        self.database = database(peptide_length, start_from, interval)\n",
    "\n",
    "        \n",
    "        \n",
    "\n"
   ]
  },
  {
   "cell_type": "code",
   "execution_count": null,
   "metadata": {},
   "outputs": [],
   "source": []
  },
  {
   "cell_type": "code",
   "execution_count": 10,
   "metadata": {},
   "outputs": [],
   "source": [
    "trj_new = trajectory(trj_gro, trj_xtc)"
   ]
  },
  {
   "cell_type": "code",
   "execution_count": 11,
   "metadata": {},
   "outputs": [
    {
     "name": "stderr",
     "output_type": "stream",
     "text": [
      "151it [00:04, 35.29it/s]\n"
     ]
    }
   ],
   "source": [
    "trj_new.compose_database(peptide_length=12, start_from=0, interval=50)"
   ]
  },
  {
   "cell_type": "code",
   "execution_count": 17,
   "metadata": {},
   "outputs": [
    {
     "data": {
      "text/plain": [
       "{0: array([169.99199 , 135.85    ,  36.580997], dtype=float32),\n",
       " 1: array([167.69101 , 136.23999 ,  33.588997], dtype=float32),\n",
       " 2: array([164.18 , 136.989,  33.14 ], dtype=float32),\n",
       " 3: array([161.42    , 136.41    ,  30.720001], dtype=float32),\n",
       " 4: array([158.16899 , 137.647   ,  29.519999], dtype=float32),\n",
       " 5: array([154.871, 137.371,  27.91 ], dtype=float32),\n",
       " 6: array([152.87, 140.3 ,  26.52], dtype=float32),\n",
       " 7: array([149.51    , 139.78    ,  25.109999], dtype=float32),\n",
       " 8: array([146.629   , 141.872   ,  23.839998], dtype=float32),\n",
       " 9: array([143.11    , 140.521   ,  23.409998], dtype=float32),\n",
       " 10: array([140.53 , 142.66 ,  25.289], dtype=float32),\n",
       " 11: array([136.79   , 143.37999,  24.58   ], dtype=float32)}"
      ]
     },
     "execution_count": 17,
     "metadata": {},
     "output_type": "execute_result"
    }
   ],
   "source": [
    "trj_new.database.frames[0][55].peptide_coordinates"
   ]
  },
  {
   "cell_type": "code",
   "execution_count": null,
   "metadata": {},
   "outputs": [],
   "source": []
  },
  {
   "cell_type": "code",
   "execution_count": null,
   "metadata": {},
   "outputs": [],
   "source": []
  },
  {
   "cell_type": "code",
   "execution_count": null,
   "metadata": {},
   "outputs": [],
   "source": []
  },
  {
   "cell_type": "code",
   "execution_count": null,
   "metadata": {},
   "outputs": [],
   "source": []
  },
  {
   "cell_type": "code",
   "execution_count": null,
   "metadata": {},
   "outputs": [],
   "source": []
  },
  {
   "cell_type": "code",
   "execution_count": null,
   "metadata": {},
   "outputs": [],
   "source": []
  },
  {
   "cell_type": "code",
   "execution_count": null,
   "metadata": {},
   "outputs": [],
   "source": []
  }
 ],
 "metadata": {
  "kernelspec": {
   "display_name": "Python 3",
   "language": "python",
   "name": "python3"
  },
  "language_info": {
   "codemirror_mode": {
    "name": "ipython",
    "version": 3
   },
   "file_extension": ".py",
   "mimetype": "text/x-python",
   "name": "python",
   "nbconvert_exporter": "python",
   "pygments_lexer": "ipython3",
   "version": "3.8.2"
  }
 },
 "nbformat": 4,
 "nbformat_minor": 2
}
