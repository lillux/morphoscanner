{
 "cells": [
  {
   "cell_type": "code",
   "execution_count": 1,
   "metadata": {},
   "outputs": [],
   "source": [
    "import math\n",
    "import itertools\n",
    "import numpy as np\n",
    "import matplotlib.pyplot as plt\n",
    "\n",
    "#import plotly\n",
    "#import plotly.express as px\n",
    "\n",
    "from mpl_toolkits import mplot3d\n",
    "from mpl_toolkits.mplot3d import Axes3D\n",
    "import pandas as pd\n",
    "import tqdm\n",
    "#from functools import lru_cache\n",
    "#import re\n",
    "import networkx as nx\n",
    "from networkx.algorithms import approximation\n",
    "\n",
    "import MDAnalysis as mda\n",
    "\n",
    "#import scipy\n",
    "#import sklearn\n",
    "#import skimage\n",
    "\n",
    "#import xml.etree.ElementTree as et\n",
    "#from Bio.PDB import *\n",
    "#import nglview as nv\n",
    "\n",
    "from timeit import default_timer as timer\n",
    "\n",
    "\n",
    "\n",
    "# http://nglviewer.org/nglview/latest/api.html\n",
    "# https://biopython.org/wiki/The_Biopython_Structural_Bioinformatics_FAQ\n",
    "# https://ambermd.org/tutorials/analysis/tutorial_notebooks/nglview_notebook/index.html\n",
    "# https://amber-md.github.io/pytraj/latest/_api/pytraj.html"
   ]
  },
  {
   "cell_type": "code",
   "execution_count": 2,
   "metadata": {},
   "outputs": [],
   "source": [
    "#contact_matrix = np.loadtxt('/home/lillo/TesiCNTE/CNTE/dataset/contact_matrix.txt')   #laptop\n",
    "#contact_matrix = np.loadtxt('/home/lillo/Code/Tesi/dataset/contact_matrix.txt')        #fisso\n",
    "#contact_matrix_single = contact_matrix.reshape(100,100,12,12)\n",
    "\n",
    "#gromacs_output = open('/home/lillo/Code/Tesi/dataset/dm4500Compl_mix1_K2_1%4500ns.gro') #fisso\n",
    "#gromacs_output = open('/home/lillo/TesiCNTE/CNTE/dataset/dm4500Compl_mix1_K2_1%4500ns.gro') #laptop\n",
    "\n",
    "#path = '/home/lillo/Code/Tesi/dataset/dm4500Compl_mix1_K2_1%4500ns.gro' #fisso\n",
    "#path = '/home/lillo/TesiCNTE/CNTE/dataset/dm4500Compl_mix1_K2_1%4500ns.gro' #laptop\n",
    "\n",
    "# import 2mxu file (beta sheet)\n",
    "\n",
    "#path_to_mmCIF = open('/home/lillo/TesiCNTE/pdb/2mxu/2mxu.cif')  ## laptop\n",
    "#path_to_pdb = '/home/lillo/TesiCNTE/pdb/2mxu/2mxu.pdb'  ## laptop\n",
    "#pa_to_pdb = '/home/lillo/TesiCNTE/pdb/2mxu/2mxu.pdb'  ## laptop\n",
    "\n",
    "#path_to_mmCIF = open('/home/lillo/Code/Tesi/pdb/2mxu/2mxu.cif')  ## fisso\n",
    "#path_to_pdb = '/home/lillo/Code/Tesi/pdb/2mxu/2mxu.pdb'  ## fisso\n",
    "#pa_to_pdb = '/home/lillo/Code/Tesi/pdb/2mxu/2mxu.pdb'  ## fisso\n",
    "\n",
    "seed_1_path = '/home/lillo/TesiCNTE/from_cluster/aggregate1.gro' # laptop\n",
    "#seed_1_path = '/home/lillo/Code/Tesi/dataset/aggregate1.gro' # Fisso\n",
    "\n",
    "prod_gro = '/home/lillo/TesiCNTE/from_cluster/prod/prod_part1/min.gro'            # laptop\n",
    "prod_xtc = '/home/lillo/TesiCNTE/from_cluster/prod/prod_part1/prod.xtc'           # laptop\n",
    "prod1_xtc = '/home/lillo/TesiCNTE/from_cluster/prod/prod_part2/prod-compl.xtc'    # laptop\n",
    "\n",
    "trj_xtc = '/home/lillo/TesiCNTE/CNTE/trajectory/prd-LDLK12-100mer-out-mol.xtc'  #laptop\n",
    "trj_gro = '/home/lillo/TesiCNTE/CNTE/trajectory/min-LDLK12-100mer-out-c.gro'  #laptop\n",
    "\n",
    "#trj_xtc = '/home/lillo/Code/Tesi/dataset/trajectory_6_12_19/prd-LDLK12-100mer-out-mol.xtc'  #fisso\n",
    "#trj_gro = '/home/lillo/Code/Tesi/dataset/trajectory_6_12_19/min-LDLK12-100mer-out-c.gro'  #fisso\n",
    "p73_2per_wat_seed_1_gro = '/home/lillo/TesiCNTE/from_cluster/peptide_73/MARTINI/2%/WATER/2%/seed_1/prod/73prod.gro'     # laptop\n",
    "p73_2per_wat_seed_1_xtc = '/home/lillo/TesiCNTE/from_cluster/peptide_73/MARTINI/2%/WATER/2%/seed_1/prod/73prod.xtc'     # laptop\n",
    "p73_2per_wat_seed_1_trr = '/home/lillo/TesiCNTE/from_cluster/peptide_73/MARTINI/2%/WATER/2%/seed_1/prod/73prod.trr'     # laptop"
   ]
  },
  {
   "cell_type": "code",
   "execution_count": null,
   "metadata": {},
   "outputs": [],
   "source": [
    "trj.number_of_BB_atoms"
   ]
  },
  {
   "cell_type": "code",
   "execution_count": 3,
   "metadata": {},
   "outputs": [],
   "source": [
    "import torch"
   ]
  },
  {
   "cell_type": "code",
   "execution_count": 4,
   "metadata": {},
   "outputs": [
    {
     "data": {
      "text/plain": [
       "True"
      ]
     },
     "execution_count": 4,
     "metadata": {},
     "output_type": "execute_result"
    }
   ],
   "source": [
    "torch.cuda.is_available()"
   ]
  },
  {
   "cell_type": "code",
   "execution_count": 5,
   "metadata": {},
   "outputs": [],
   "source": [
    "import morphoscanner"
   ]
  },
  {
   "cell_type": "code",
   "execution_count": null,
   "metadata": {},
   "outputs": [],
   "source": [
    "trj = morphoscanner.trajectory.trajectory(trj_gro, trj_xtc)"
   ]
  },
  {
   "cell_type": "code",
   "execution_count": null,
   "metadata": {},
   "outputs": [],
   "source": [
    "trj.compose_database(peptide_length=12, interval=50)"
   ]
  },
  {
   "cell_type": "code",
   "execution_count": null,
   "metadata": {},
   "outputs": [],
   "source": [
    "trj.analyze_inLoop()"
   ]
  },
  {
   "cell_type": "code",
   "execution_count": null,
   "metadata": {},
   "outputs": [],
   "source": [
    "trj.get_data()"
   ]
  },
  {
   "cell_type": "code",
   "execution_count": null,
   "metadata": {},
   "outputs": [],
   "source": [
    "trj.get_database()"
   ]
  },
  {
   "cell_type": "code",
   "execution_count": null,
   "metadata": {},
   "outputs": [],
   "source": [
    "trj.database"
   ]
  },
  {
   "cell_type": "code",
   "execution_count": null,
   "metadata": {},
   "outputs": [],
   "source": [
    "trj.frames.get(150).keys()"
   ]
  },
  {
   "cell_type": "code",
   "execution_count": null,
   "metadata": {},
   "outputs": [],
   "source": [
    "morphoscanner.plot.plot.plot_peptide_list(trj.frames.get(150).get('frame_dict'), trj.frames.get(150).get('subgraphs_full')[0])"
   ]
  },
  {
   "cell_type": "code",
   "execution_count": null,
   "metadata": {},
   "outputs": [],
   "source": [
    "%matplotlib notebook"
   ]
  },
  {
   "cell_type": "code",
   "execution_count": null,
   "metadata": {},
   "outputs": [],
   "source": [
    "uni = morphoscanner.backend.topology.make_universe(trj_gro,trj_xtc)"
   ]
  },
  {
   "cell_type": "code",
   "execution_count": null,
   "metadata": {},
   "outputs": [],
   "source": [
    "uni."
   ]
  },
  {
   "cell_type": "code",
   "execution_count": null,
   "metadata": {},
   "outputs": [],
   "source": [
    "# fareclasse frame, in cui ogni frame è un oggetto"
   ]
  },
  {
   "cell_type": "code",
   "execution_count": null,
   "metadata": {},
   "outputs": [],
   "source": []
  },
  {
   "cell_type": "code",
   "execution_count": null,
   "metadata": {},
   "outputs": [],
   "source": []
  },
  {
   "cell_type": "code",
   "execution_count": null,
   "metadata": {},
   "outputs": [],
   "source": [
    "\n",
    "        "
   ]
  },
  {
   "cell_type": "code",
   "execution_count": null,
   "metadata": {},
   "outputs": [],
   "source": []
  },
  {
   "cell_type": "code",
   "execution_count": null,
   "metadata": {},
   "outputs": [],
   "source": [
    "#def get_coordinate_dict_from_trajectory(trj_gro, trj_xtc, peptide_length=None, start_from=0, interval=1):\n",
    "#    '''Parse coordinate from a .gro topology and a .xtc trajectory.\n",
    "    \n",
    "#    Arguments:  .gro topology file path,\n",
    "            \n",
    "#                .xtc trajectory file path,\n",
    "                \n",
    "                \n",
    "#                optional:\n",
    "                    \n",
    "#                    peptide_length, default=None.   You can set the length of the peptide\n",
    "#                                                    Useful if you have to analyze simulation in which\n",
    "#                                                    there are premade aggregate\n",
    "                                    \n",
    "#                    start_from, default=0.    You can chose from which frame start the counter.\n",
    "#                                                Useful if you are working with a simulation\n",
    "#                                                made of different part. Eg. If part 1 end at\n",
    "#                                                frame 500, you can set start_from=500 and analyze\n",
    "#                                                part 2 of the simulation. Use it expecially\n",
    "#                                                if you are sampling (interval != 1)\n",
    "#                                                \n",
    "#                    interval, default=1     Interval between sample. If you want all the frame,\n",
    "#                                            interval=1 (default).\n",
    "#                                            If you want to skip sample, this parameter let you\n",
    "#                                            choose the interval between 2 sample frame.\n",
    "    \n",
    "    \n",
    "#    '''\n",
    "from morphoscanner.backend.topology import get_peptide_length_list\n",
    "from morphoscanner.backend.topology import make_universe\n",
    "import tqdm\n",
    "\n",
    "\n",
    "\n",
    "peptide_length=12\n",
    "start_from=0\n",
    "interval=50\n",
    "\n",
    "peptides_list = get_peptide_length_list(trj_gro)\n",
    "\n",
    "universe = make_universe(trj_gro, trj_xtc)\n",
    "\n",
    "\n",
    "if peptide_length == None:\n",
    "\n",
    "\n",
    "    n_pep = len(peptides_list)\n",
    "\n",
    "\n",
    "else:\n",
    "\n",
    "    n_pep = sum([(e // peptide_length) for e in peptides_list])\n",
    "\n",
    "\n",
    "\n",
    "trj_dict = {}\n",
    "\n",
    "for index_ts, ts in tqdm.tqdm(enumerate(universe.trajectory)):\n",
    "\n",
    "    updated_index = (index_ts + start_from)\n",
    "\n",
    "    if (updated_index % interval) == 0:\n",
    "\n",
    "        frm = frame(peptide_length, universe, peptides_list, n_pep)\n",
    "        trj_dict[updated_index] = frm"
   ]
  },
  {
   "cell_type": "code",
   "execution_count": null,
   "metadata": {},
   "outputs": [],
   "source": [
    "morphoscanner.plot.plot.plot_peptide_list(trj_dict.get(150), [i for i in trj_dict.get(0)])"
   ]
  },
  {
   "cell_type": "code",
   "execution_count": null,
   "metadata": {},
   "outputs": [],
   "source": [
    "trj_dict[0].peptides[0]."
   ]
  },
  {
   "cell_type": "code",
   "execution_count": null,
   "metadata": {},
   "outputs": [],
   "source": [
    "for index, atom in enumerate(universe.atoms):\n",
    "    \n",
    "    \n",
    "    atom_type = str(atom).split()[2]\n",
    "\n",
    "    if atom_type == 'BB':\n",
    "\n",
    "        atom_number = (int(str(atom).split()[1].split(':')[0]) - 1)\n",
    "        \n",
    "        residue_name = (str(atom).split()[8].split(',')[0])\n",
    "\n",
    "        coordinate = universe.atoms[atom_number].position\n",
    "\n",
    "        #position = len(trj_dict[updated_index][peptide])\n",
    "        \n",
    "        \n",
    "        \n",
    "        \n",
    "        \n",
    "        print(residue_name)\n",
    "        #print((str(atom).split()[8].split(',')[0]))\n",
    "\n",
    "\n",
    "\n",
    "       # trj_dict[updated_index][peptide][position] = coordinate"
   ]
  },
  {
   "cell_type": "code",
   "execution_count": null,
   "metadata": {},
   "outputs": [],
   "source": []
  },
  {
   "cell_type": "code",
   "execution_count": null,
   "metadata": {},
   "outputs": [],
   "source": [
    "_gro = get_gro()\n",
    "_xtc = get_xtc()\n",
    "\n",
    "trj = trajectory(_gro, _xtc)\n",
    "\n",
    "print('Your trajectory has %d frames' % trj.number_of_frames)\n",
    "print('Your trajectory has %d BB atoms' % trj.number_of_BB_atoms)\n",
    "\n",
    "\n",
    "peptide_length = peptide_length(sentence='Set the number of aminoacids in one peptide (int): ')\n",
    "interval = get_interval(sentence='Set the interval between sampled frames (int): ')\n",
    "start_from = start_from(sentence='Set the index from which you want to start.\\n\\n0 if you have a single simulation.\\n0 if you are analyzing split1.\\nlen(split1) if you are analyzing split2.\\ninteger: ')\n",
    "\n",
    "output_path, file_name = get_destination_dir_and_name()\n",
    "\n",
    "\n",
    "trj.compose_database(peptide_length=peptide_length, interval=interval)\n",
    "trj.analyze_inLoop()\n",
    "trj.get_data()\n",
    "trj.get_database()\n",
    "    "
   ]
  },
  {
   "cell_type": "code",
   "execution_count": null,
   "metadata": {},
   "outputs": [],
   "source": [
    "import torch"
   ]
  },
  {
   "cell_type": "code",
   "execution_count": null,
   "metadata": {},
   "outputs": [],
   "source": [
    "zero = trj_dict.get(0).get(0)"
   ]
  },
  {
   "cell_type": "code",
   "execution_count": null,
   "metadata": {},
   "outputs": [],
   "source": [
    "t = torch.stack([torch.from_numpy(zero[e]) for e in zero])"
   ]
  },
  {
   "cell_type": "code",
   "execution_count": null,
   "metadata": {},
   "outputs": [],
   "source": [
    "import matplotlib.pyplot as plt"
   ]
  },
  {
   "cell_type": "code",
   "execution_count": null,
   "metadata": {},
   "outputs": [],
   "source": [
    "plt.imshow(t)"
   ]
  },
  {
   "cell_type": "code",
   "execution_count": null,
   "metadata": {},
   "outputs": [],
   "source": [
    "plt.close()"
   ]
  },
  {
   "cell_type": "code",
   "execution_count": null,
   "metadata": {},
   "outputs": [],
   "source": [
    "morphoscanner.backend.distance_tensor.compute_euclidean_norm_torch()"
   ]
  },
  {
   "cell_type": "code",
   "execution_count": null,
   "metadata": {},
   "outputs": [],
   "source": [
    "def compute_euclidean_norm(peptide1, peptide2):\n",
    "\n",
    "    x_norm = torch.pow(peptide1, 2).sum(1).view(-1,1)\n",
    "    y_t = torch.transpose(peptide2, 0, 1)\n",
    "    y_norm = torch.pow(peptide2, 2).sum(1).view(1,-1)\n",
    "\n",
    "    dist = torch.sqrt(x_norm + y_norm - 2.0 * torch.mm(peptide1, y_t))\n",
    "    dist[torch.isnan(dist)] = 0\n",
    "\n",
    "    return dist"
   ]
  },
  {
   "cell_type": "code",
   "execution_count": null,
   "metadata": {},
   "outputs": [],
   "source": [
    "t_dist = compute_euclidean_norm(t, t)"
   ]
  },
  {
   "cell_type": "code",
   "execution_count": null,
   "metadata": {},
   "outputs": [],
   "source": [
    "plt.imshow(t_dist)"
   ]
  },
  {
   "cell_type": "code",
   "execution_count": null,
   "metadata": {},
   "outputs": [],
   "source": [
    "frame"
   ]
  },
  {
   "cell_type": "code",
   "execution_count": null,
   "metadata": {},
   "outputs": [],
   "source": [
    "# working\n",
    "\n",
    "class frame:\n",
    "    \n",
    "    '''Class that parse the trajectory and gives back frames with data.\n",
    "    \n",
    "    This class is used to represent data in an intuitive way to the user\n",
    "    \n",
    "    \n",
    "    '''\n",
    "\n",
    "    def __init__(self, peptide_length, universe, peptides_list, n_pep):\n",
    "        \n",
    "        # cosa vuoi aggiungere?\n",
    "        \n",
    "        # forse è meglio se si fa una classe frames dentro la classe trajectory\n",
    "        # e poi si istanzia la classe frame ad ogni frame campionato\n",
    "        # e dentro si mettono anche i risultati dell'analisi\n",
    "        # \n",
    "        # prendo a riferimento i frames, quindi la traiettoria\n",
    "        # oppure prendo a riferimento il tipo di peptide?\n",
    "        # forse meglio il frame, e poi posso tracciare le famiglie di peptidi tra\n",
    "        # i frames.\n",
    "        # \n",
    "        # devo anche individuare quali sono le sequenze\n",
    "        # e raggruppare i peptidi con sequenza uguale\n",
    "        # \n",
    "        #\n",
    "\n",
    "    \n",
    "        self.peptides = {}\n",
    "\n",
    "        for peptide in range(n_pep):\n",
    "\n",
    "            self.peptides[peptide] = {}\n",
    "\n",
    "\n",
    "            if peptide == 0:\n",
    "\n",
    "                counter = 0\n",
    "\n",
    "            else:\n",
    "                \n",
    "                # if to check peptide_length\n",
    "                if peptide_length == None:\n",
    "\n",
    "                    counter += peptides_list[peptide - 1]\n",
    "\n",
    "                else:\n",
    "                    counter += peptide_length\n",
    "                \n",
    "\n",
    "        \n",
    "\n",
    "            pep = single_peptide(universe, counter, peptide, peptide_length, peptides_list)\n",
    "            \n",
    "            self.peptides[peptide] = pep\n",
    "        \n",
    "        return\n",
    "    \n",
    "    "
   ]
  },
  {
   "cell_type": "code",
   "execution_count": null,
   "metadata": {},
   "outputs": [],
   "source": [
    "test = morphoscanner.trajectory.trajectory(trj_gro, trj_xtc)"
   ]
  },
  {
   "cell_type": "code",
   "execution_count": null,
   "metadata": {},
   "outputs": [],
   "source": [
    "frame"
   ]
  },
  {
   "cell_type": "code",
   "execution_count": null,
   "metadata": {},
   "outputs": [],
   "source": [
    "from morphoscanner import backend\n",
    "from timeit import default_timer as timer\n",
    "import pandas as pd\n",
    "\n",
    "class trajectory:\n",
    "\n",
    "    '''Class to operate on trajectory files.\n",
    "\n",
    "    It makes an object that contain the trajectory of the simulation'''\n",
    "\n",
    "\n",
    "\n",
    "    def __init__(self, trj_gro, trj_xtc):\n",
    "        \n",
    "        \n",
    "\n",
    "        self.trj_gro = trj_gro\n",
    "        self.trj_xtc = trj_xtc\n",
    "        self.universe = backend.topology.make_universe(self.trj_gro, self.trj_xtc)\n",
    "        self.number_of_frames = len(self.universe.trajectory)\n",
    "        self.number_of_BB_atoms = len(self.universe.select_atoms('name BB'))\n",
    "        self.frames = {}\n",
    "        \n",
    "        peptide_length_list = backend.topology.get_peptide_length_list(self.trj_gro)\n",
    "        self.len_dict = backend.topology.get_peptide_length_dict(peptide_length_list)\n",
    "\n",
    "\n",
    "\n",
    "    def compose_database(self, peptide_length=None, start_from=0, interval=1):\n",
    "\n",
    "        self.peptide_length = peptide_length\n",
    "        self.start_from = start_from\n",
    "        self.interval = interval\n",
    "\n",
    "        self.data = backend.topology.get_coordinate_dict_from_trajectory(self.trj_gro, self.trj_xtc, peptide_length=self.peptide_length, start_from=self.start_from, interval=self.interval)\n",
    "        self.sampled_frames = [key for key in self.data.keys()]"
   ]
  },
  {
   "cell_type": "code",
   "execution_count": null,
   "metadata": {},
   "outputs": [],
   "source": []
  },
  {
   "cell_type": "code",
   "execution_count": null,
   "metadata": {},
   "outputs": [],
   "source": [
    "atom_list = morphoscanner.backend.readGro.clean_gro(trj_gro)"
   ]
  },
  {
   "cell_type": "code",
   "execution_count": null,
   "metadata": {},
   "outputs": [],
   "source": [
    "atom_list"
   ]
  },
  {
   "cell_type": "code",
   "execution_count": null,
   "metadata": {},
   "outputs": [],
   "source": [
    "atoms_list = morphoscanner.backend.readGro.clean_gro(trj_gro)\n",
    "unique_peptide = {}\n",
    "\n",
    "peptide_length_list = []\n",
    "peptide_residue_list = []\n",
    "temporary_list = []\n",
    "temporary_residue_list = []\n",
    "\n",
    "# iterate trough topology\n",
    "for atom in atoms_list:\n",
    "\n",
    "    # if temporary list just started, add aminoacid position in chain\n",
    "    if len(temporary_list) == 0:\n",
    "        temporary_list.append(int(atom[1]))\n",
    "        temporary_residue_list.append(atom[2])\n",
    "\n",
    "    else:\n",
    "        # if position of actual residue is less than last residue\n",
    "        if temporary_list[-1] > int(atom[1]):\n",
    "\n",
    "            # append length of last peptide to peptide length list\n",
    "            peptide_length_list.append(len(temporary_list))\n",
    "            peptide_residue_list.append(temporary_residue_list)\n",
    "\n",
    "            # empty temporary list\n",
    "            temporary_list = []\n",
    "            temporary_residue_list = []\n",
    "\n",
    "            # append actual residue position\n",
    "            temporary_list.append(int(atom[1]))\n",
    "\n",
    "        # if position of actual residue is higher than last residue, ad current residue position\n",
    "        else:\n",
    "            temporary_list.append(int(atom[1]))\n",
    "            temporary_residue_list.append(atom[2])\n",
    "\n",
    "\n",
    "# append last peptide lenght to lenght stack\n",
    "peptide_length_list.append(len(temporary_list))\n",
    "peptide_residue_list.append(temporary_residue_list)\n"
   ]
  },
  {
   "cell_type": "code",
   "execution_count": null,
   "metadata": {},
   "outputs": [],
   "source": [
    "peptide_residue_list"
   ]
  },
  {
   "cell_type": "code",
   "execution_count": null,
   "metadata": {},
   "outputs": [],
   "source": []
  },
  {
   "cell_type": "code",
   "execution_count": null,
   "metadata": {},
   "outputs": [],
   "source": []
  },
  {
   "cell_type": "code",
   "execution_count": null,
   "metadata": {},
   "outputs": [],
   "source": [
    "# Work in new trajectory management\n",
    "class single_peptide():\n",
    "    \n",
    "    ''' Class that define peptides\n",
    "    \n",
    "    '''\n",
    "    \n",
    "    def __init__(self, universe, counter, peptide, peptide_length, peptides_list):\n",
    "        \n",
    "        self.peptide_sequence = {}\n",
    "        \n",
    "        self.peptide_coordinates = {}\n",
    "        \n",
    "        \n",
    "        if peptide_length == None:\n",
    "\n",
    "            for res in range(peptides_list[peptide]):\n",
    "\n",
    "                for index, atom in enumerate(universe.residues[res + (counter)].atoms):\n",
    "\n",
    "                    atom_type = str(atom).split()[2]\n",
    "\n",
    "                    if atom_type == 'BB':\n",
    "\n",
    "                        atom_number = (int(str(atom).split()[1].split(':')[0]) - 1)\n",
    "\n",
    "                        residue_name = (str(atom).split()[8].split(',')[0])\n",
    "\n",
    "                        coordinate = universe.atoms[atom_number].position\n",
    "\n",
    "                        position = len(self.peptide_coordinates)\n",
    "\n",
    "\n",
    "                        self.peptide_coordinates[position] = coordinate\n",
    "                        \n",
    "                        self.peptide_sequence[position] = residue_name\n",
    "                    \n",
    "                    else:\n",
    "                        pass\n",
    "\n",
    "\n",
    "        else:\n",
    "\n",
    "            for res in range(peptide_length):\n",
    "\n",
    "                for index, atom in enumerate(universe.residues[res + (counter)].atoms):\n",
    "\n",
    "                    atom_type = str(atom).split()[2]\n",
    "\n",
    "                    if atom_type == 'BB':\n",
    "\n",
    "                        atom_number = (int(str(atom).split()[1].split(':')[0]) - 1)\n",
    "\n",
    "                        residue_name = (str(atom).split()[8].split(',')[0])\n",
    "\n",
    "                        coordinate = universe.atoms[atom_number].position\n",
    "\n",
    "                        position = len(self.peptide_coordinates)\n",
    "\n",
    "\n",
    "                        self.peptide_coordinates[position] = coordinate\n",
    "                        \n",
    "                        self.peptide_sequence[position] = residue_name\n",
    "\n",
    "                    else:\n",
    "                        pass\n",
    "\n",
    "        return"
   ]
  },
  {
   "cell_type": "code",
   "execution_count": null,
   "metadata": {},
   "outputs": [],
   "source": [
    "class database:\n",
    "\n",
    "    '''Class that parse the trajectory and gives back frames with data.\n",
    "\n",
    "    This class is used to represent data in an intuitive way to the user\n",
    "\n",
    "\n",
    "    '''\n",
    "\n",
    "\n",
    "    def __init__(self, peptide_length=None, start_from = 0, interval = 1):\n",
    "\n",
    "        # cosa vuoi aggiungere?\n",
    "\n",
    "        # forse è meglio se si fa una classe frames dentro la classe trajectory\n",
    "        # e poi si istanzia la classe frame ad ogni frame campionato\n",
    "        # e dentro si mettono anche i risultati dell'analisi\n",
    "        # \n",
    "        # prendo a riferimento i frames, quindi la traiettoria\n",
    "        # oppure prendo a riferimento il tipo di peptide?\n",
    "        # forse meglio il frame, e poi posso tracciare le famiglie di peptidi tra\n",
    "        # i frames.\n",
    "        # \n",
    "        # devo anche individuare quali sono le sequenze\n",
    "        # e raggruppare i peptidi con sequenza uguale\n",
    "        # \n",
    "        #\n",
    "\n",
    "        self.frames = {}\n",
    "        self.peptide_length = peptide_length\n",
    "        self.start_from = start_from\n",
    "        self.interval = interval\n",
    "\n",
    "        peptides_list = backend.topology.get_peptide_length_list(trj_gro)\n",
    "\n",
    "        universe = backend.topology.make_universe(trj_gro, trj_xtc)\n",
    "\n",
    "\n",
    "        if peptide_length == None:\n",
    "\n",
    "\n",
    "            n_pep = len(peptides_list)\n",
    "\n",
    "\n",
    "        else:\n",
    "\n",
    "            n_pep = sum([(e // peptide_length) for e in peptides_list])\n",
    "\n",
    "\n",
    "\n",
    "        self.frames = {}\n",
    "\n",
    "        for index_ts, ts in tqdm.tqdm(enumerate(universe.trajectory)):\n",
    "\n",
    "            updated_index = (index_ts + start_from)\n",
    "\n",
    "            if (updated_index % interval) == 0:\n",
    "\n",
    "                peptides = {}\n",
    "\n",
    "                for peptide in range(n_pep):\n",
    "\n",
    "                    peptides[peptide] = {}\n",
    "\n",
    "\n",
    "                    if peptide == 0:\n",
    "\n",
    "                        counter = 0\n",
    "\n",
    "                    else:\n",
    "\n",
    "                        # if to check peptide_length\n",
    "                        if peptide_length == None:\n",
    "\n",
    "                            counter += peptides_list[peptide - 1]\n",
    "\n",
    "                        else:\n",
    "                            counter += peptide_length\n",
    "\n",
    "\n",
    "\n",
    "\n",
    "                    pep = single_peptide(universe, counter, peptide, peptide_length, peptides_list)\n",
    "\n",
    "                    peptides[peptide] = pep\n",
    "\n",
    "                self.frames[updated_index] = peptides\n",
    "\n",
    "        return"
   ]
  },
  {
   "cell_type": "code",
   "execution_count": null,
   "metadata": {},
   "outputs": [],
   "source": []
  },
  {
   "cell_type": "code",
   "execution_count": null,
   "metadata": {},
   "outputs": [],
   "source": [
    "from morphoscanner import backend\n",
    "\n",
    "class trajectory:\n",
    "\n",
    "    '''Class to operate on trajectory files.\n",
    "\n",
    "    It makes an object that contain the trajectory of the simulation'''\n",
    "\n",
    "\n",
    "\n",
    "    def __init__(self, trj_gro, trj_xtc):\n",
    "        \n",
    "        \n",
    "\n",
    "        self.trj_gro = trj_gro\n",
    "        self.trj_xtc = trj_xtc\n",
    "        self.universe = backend.topology.make_universe(self.trj_gro, self.trj_xtc)\n",
    "        self.number_of_frames = len(self.universe.trajectory)\n",
    "        self.number_of_BB_atoms = len(self.universe.select_atoms('name BB'))\n",
    "        #self.frames = {}\n",
    "        \n",
    "        peptide_length_list = backend.topology.get_peptide_length_list(self.trj_gro)\n",
    "        self.len_dict = backend.topology.get_peptide_length_dict(peptide_length_list)\n",
    "        \n",
    "        return\n",
    "\n",
    "    \n",
    "    def compose_database(self, peptide_length=None, start_from=0, interval=1):\n",
    "\n",
    "        self.peptide_length = peptide_length\n",
    "        self.start_from = start_from\n",
    "        self.interval = interval\n",
    "\n",
    "        self.database = database(peptide_length, start_from, interval)\n",
    "\n",
    "        \n",
    "        \n",
    "\n"
   ]
  },
  {
   "cell_type": "code",
   "execution_count": null,
   "metadata": {},
   "outputs": [],
   "source": []
  },
  {
   "cell_type": "code",
   "execution_count": null,
   "metadata": {},
   "outputs": [],
   "source": [
    "trj_new = trajectory(trj_gro, trj_xtc)"
   ]
  },
  {
   "cell_type": "code",
   "execution_count": null,
   "metadata": {},
   "outputs": [],
   "source": [
    "trj_new.compose_database(peptide_length=12, start_from=0, interval=50)"
   ]
  },
  {
   "cell_type": "code",
   "execution_count": null,
   "metadata": {},
   "outputs": [],
   "source": [
    "trj_new.database.frames[0][55].peptide_coordinates"
   ]
  },
  {
   "cell_type": "code",
   "execution_count": null,
   "metadata": {},
   "outputs": [],
   "source": [
    "cleaned"
   ]
  },
  {
   "cell_type": "code",
   "execution_count": null,
   "metadata": {},
   "outputs": [],
   "source": [
    "#def get_peptide_length_list(topology):\n",
    "topology = trj_gro\n",
    "topology = clean_gro(topology)\n",
    "\n",
    "peptide_length_list = []\n",
    "\n",
    "temporary_list = []\n",
    "\n",
    "# iterate trough topology\n",
    "for residue in topology:\n",
    "\n",
    "    # if temporary list just started, add aminoacid position in chain\n",
    "    if len(temporary_list) == 0:\n",
    "        temporary_list.append(int(residue[1]))\n",
    "\n",
    "    else:\n",
    "        # if position of actual residue is less than last residue\n",
    "        if temporary_list[-1] > int(residue[1]):\n",
    "\n",
    "            # append lenght of last peptide to peptide length list\n",
    "            peptide_length_list.append(len(temporary_list))\n",
    "\n",
    "            # empty temporary list\n",
    "            temporary_list = []\n",
    "\n",
    "            # append actual residue position\n",
    "            temporary_list.append(int(residue[1]))\n",
    "\n",
    "        # if position of actual residue is higher than last residue, ad current residue position\n",
    "        else:\n",
    "            temporary_list.append(int(residue[1]))\n",
    "\n",
    "# append last peptide lenght to lenght stack\n",
    "peptide_length_list.append(len(temporary_list))\n",
    "\n",
    "#    return peptide_length_list"
   ]
  },
  {
   "cell_type": "code",
   "execution_count": null,
   "metadata": {},
   "outputs": [],
   "source": []
  },
  {
   "cell_type": "code",
   "execution_count": null,
   "metadata": {},
   "outputs": [],
   "source": [
    "morphoscanner.backend.topology.get_peptide_length_list((trj_gro))"
   ]
  },
  {
   "cell_type": "code",
   "execution_count": null,
   "metadata": {},
   "outputs": [],
   "source": [
    "cleaned = morphoscanner.backend.readGro.clean_gro(trj_gro)"
   ]
  },
  {
   "cell_type": "code",
   "execution_count": null,
   "metadata": {},
   "outputs": [],
   "source": []
  },
  {
   "cell_type": "code",
   "execution_count": null,
   "metadata": {},
   "outputs": [],
   "source": [
    "class single_peptide():\n",
    "    \n",
    "    ''' Class that define peptides\n",
    "    \n",
    "    '''\n",
    "    \n",
    "    def __init__(self):\n",
    "        \n",
    "        self.sequence\n",
    "        self.coordinates\n",
    "        \n",
    "\n",
    "        return"
   ]
  },
  {
   "cell_type": "code",
   "execution_count": null,
   "metadata": {},
   "outputs": [],
   "source": []
  },
  {
   "cell_type": "code",
   "execution_count": null,
   "metadata": {},
   "outputs": [],
   "source": [
    "def dispatch_data(atom):\n",
    "    \n",
    "    if type(atom) != list:\n",
    "        \n",
    "        raise ValueError(\"%s is not a list, it is of type %s...\\n \" % (str(atom), type(atom)))\n",
    "    \n",
    "    else:\n",
    "        \n",
    "        atom_number = check_int_and_return(atom[0])\n",
    "        \n",
    "        residue_number = check_int_and_return(atom[1])\n",
    "        \n",
    "        residue_name = atom[2]\n",
    "        \n",
    "        x = float(atom[3])\n",
    "        \n",
    "        y = float(atom[4])\n",
    "        \n",
    "        z = float(atom[5])\n",
    "        \n",
    "    \n",
    "    \n",
    "        return atom_number, residue_number, residue_name, x, y, z\n",
    "        \n",
    "        \n",
    "        "
   ]
  },
  {
   "cell_type": "code",
   "execution_count": null,
   "metadata": {},
   "outputs": [],
   "source": [
    "dispatch_data(cleaned[0])"
   ]
  },
  {
   "cell_type": "code",
   "execution_count": null,
   "metadata": {},
   "outputs": [],
   "source": [
    "type(cleaned[0]) == list"
   ]
  },
  {
   "cell_type": "code",
   "execution_count": null,
   "metadata": {},
   "outputs": [],
   "source": [
    "import sys\n",
    "\n",
    "\n",
    "def isInt(s):\n",
    "    '''Check if s is type int and return bool.\n",
    "    \n",
    "    Input: object\n",
    "    \n",
    "    Output: bool'''\n",
    "    \n",
    "    try:\n",
    "        return float(str(s)).is_integer()\n",
    "    except:\n",
    "        return False\n",
    "\n",
    "    \n",
    "    \n",
    "def check_int_and_return(value):\n",
    "    \n",
    "    '''Check int and return value, else raise ValueError and print object type\n",
    "    \n",
    "    Input = object\n",
    "    \n",
    "    Output = int'''\n",
    "\n",
    "    if isInt(value):\n",
    "\n",
    "        return int(value)\n",
    "\n",
    "    else:\n",
    "        raise ValueError(\"%s is not an integer, it is of type %s...\\n \" % (str(value), type(value))) \n"
   ]
  },
  {
   "cell_type": "code",
   "execution_count": null,
   "metadata": {},
   "outputs": [],
   "source": [
    "a = 1.25"
   ]
  },
  {
   "cell_type": "code",
   "execution_count": null,
   "metadata": {},
   "outputs": [],
   "source": [
    "print(a)"
   ]
  },
  {
   "cell_type": "code",
   "execution_count": null,
   "metadata": {},
   "outputs": [],
   "source": [
    "a.isdigit()"
   ]
  },
  {
   "cell_type": "code",
   "execution_count": null,
   "metadata": {},
   "outputs": [],
   "source": [
    "def isInt_float(s):\n",
    "    try:\n",
    "        return float(str(s)).is_integer()\n",
    "    except:\n",
    "        return False"
   ]
  },
  {
   "cell_type": "code",
   "execution_count": null,
   "metadata": {},
   "outputs": [],
   "source": [
    "isInt_float(a)"
   ]
  },
  {
   "cell_type": "code",
   "execution_count": null,
   "metadata": {},
   "outputs": [],
   "source": [
    "isInt_float('21')"
   ]
  },
  {
   "cell_type": "code",
   "execution_count": null,
   "metadata": {},
   "outputs": [],
   "source": [
    "isInt_float('2564.887')"
   ]
  },
  {
   "cell_type": "code",
   "execution_count": null,
   "metadata": {},
   "outputs": [],
   "source": [
    "check_int_and_return(25)"
   ]
  },
  {
   "cell_type": "code",
   "execution_count": null,
   "metadata": {},
   "outputs": [],
   "source": [
    "a = {'a':32, 'b':28}"
   ]
  },
  {
   "cell_type": "code",
   "execution_count": null,
   "metadata": {},
   "outputs": [],
   "source": [
    "type(a)"
   ]
  },
  {
   "cell_type": "code",
   "execution_count": null,
   "metadata": {},
   "outputs": [],
   "source": []
  },
  {
   "cell_type": "code",
   "execution_count": null,
   "metadata": {},
   "outputs": [],
   "source": [
    "  "
   ]
  },
  {
   "cell_type": "code",
   "execution_count": null,
   "metadata": {},
   "outputs": [],
   "source": [
    "# map on input file to get data\n",
    "\n",
    "start = timer()\n",
    "%timeit a = map(check_int_and_return, (i[0] for i in cleaned))\n",
    "end = timer()\n",
    "print(end - start)"
   ]
  },
  {
   "cell_type": "code",
   "execution_count": null,
   "metadata": {},
   "outputs": [],
   "source": [
    "for i in a:\n",
    "    print(i)"
   ]
  },
  {
   "cell_type": "code",
   "execution_count": null,
   "metadata": {},
   "outputs": [],
   "source": [
    "from timeit import default_timer as timer"
   ]
  },
  {
   "cell_type": "code",
   "execution_count": null,
   "metadata": {},
   "outputs": [],
   "source": [
    "a"
   ]
  },
  {
   "cell_type": "code",
   "execution_count": null,
   "metadata": {},
   "outputs": [],
   "source": []
  },
  {
   "cell_type": "code",
   "execution_count": null,
   "metadata": {},
   "outputs": [],
   "source": [
    "universe = morphoscanner.backend.topology.make_universe(trj_gro, trj_xtc)"
   ]
  },
  {
   "cell_type": "code",
   "execution_count": null,
   "metadata": {},
   "outputs": [],
   "source": [
    "zero = universe.trajectory[0]"
   ]
  },
  {
   "cell_type": "code",
   "execution_count": null,
   "metadata": {},
   "outputs": [],
   "source": [
    "type(zero)"
   ]
  },
  {
   "cell_type": "code",
   "execution_count": null,
   "metadata": {},
   "outputs": [],
   "source": [
    "zero[0]"
   ]
  },
  {
   "cell_type": "code",
   "execution_count": null,
   "metadata": {},
   "outputs": [],
   "source": [
    "pep_73 = morphoscanner.trajectory.trajectory(p73_2per_wat_seed_1_gro, p73_2per_wat_seed_1_trr)"
   ]
  },
  {
   "cell_type": "code",
   "execution_count": null,
   "metadata": {},
   "outputs": [],
   "source": [
    "pep_73.number_of_frames"
   ]
  },
  {
   "cell_type": "code",
   "execution_count": null,
   "metadata": {},
   "outputs": [],
   "source": [
    "pep_73.number_of_BB_atoms"
   ]
  },
  {
   "cell_type": "code",
   "execution_count": null,
   "metadata": {},
   "outputs": [],
   "source": [
    "pep_73.universe"
   ]
  },
  {
   "cell_type": "code",
   "execution_count": null,
   "metadata": {},
   "outputs": [],
   "source": [
    "uni73 = pep_73.universe"
   ]
  },
  {
   "cell_type": "code",
   "execution_count": null,
   "metadata": {},
   "outputs": [],
   "source": [
    "len(uni73.trajectory[0])"
   ]
  },
  {
   "cell_type": "code",
   "execution_count": null,
   "metadata": {},
   "outputs": [],
   "source": [
    "#def get_coordinate_dict_from_mda_traj_frame():\n",
    "\n",
    "\n",
    "pep_73.len_d\n",
    "\n",
    "\n",
    "\n",
    "\n",
    "\n",
    "\n",
    "\n"
   ]
  },
  {
   "cell_type": "code",
   "execution_count": null,
   "metadata": {},
   "outputs": [],
   "source": [
    "length_list = morphoscanner.backend.topology.get_peptide_length_list (p73_2per_wat_seed_1_gro)"
   ]
  },
  {
   "cell_type": "code",
   "execution_count": null,
   "metadata": {},
   "outputs": [],
   "source": [
    "length_list = morphoscanner.backend.topology.get_peptide_length_list (p73_2per_wat_seed_1_gro)\n",
    "total_residues = sum(length_list)\n",
    "universe = morphoscanner.backend.topology.make_universe(p73_2per_wat_seed_1_gro, p73_2per_wat_seed_1_trr)\n",
    "grain_to_select = 'BB'\n",
    "\n",
    "coordinate_dict = {}\n",
    "\n",
    "res_counter = 0\n",
    "\n",
    "\n",
    "for peptide in length_list:\n",
    "    \n",
    "    coordinate_dict[peptide] = {}\n",
    "    \n",
    "    \n",
    "    for idx, actual_atom in enumerate(range(peptide)):\n",
    "        \n",
    "    #for res in range(total_residues):\n",
    "\n",
    "        actual_res = universe.residues[res_counter]\n",
    "\n",
    "        for index, atom in enumerate(actual_res.atoms):\n",
    "\n",
    "            atom_type = str(atom).split()[2]\n",
    "\n",
    "            if atom_type == 'BB':\n",
    "\n",
    "                atom_number = (int(str(atom).split()[1].split(':')[0]) - 1)\n",
    "\n",
    "                residue_name = (str(atom).split()[8].split(',')[0])\n",
    "\n",
    "                coordinate = universe.atoms[atom_number].position\n",
    "\n",
    "                coo\n",
    "                \n",
    "                coordinate_dict[peptide][index] = coordinate\n",
    "                \n",
    "                \n",
    "                res_counter += 1\n",
    "\n",
    "    \n",
    "            #position = len(trj_dict[updated_index][peptide])\n",
    "\n",
    "    "
   ]
  },
  {
   "cell_type": "code",
   "execution_count": null,
   "metadata": {},
   "outputs": [],
   "source": [
    "class atom:\n",
    "    \n",
    "    def __init__(coordinates, atom_number=None, residue_name=None, atom_type=None):\n",
    "        \n",
    "        self.coordinates = coordinates\n",
    "        self.atom_number = atom_number\n",
    "        self.atom_type = atom_type\n",
    "        self.residue_name = residue_name\n",
    "        \n",
    "        "
   ]
  },
  {
   "cell_type": "code",
   "execution_count": null,
   "metadata": {},
   "outputs": [],
   "source": [
    "def get_coordinate_from_first_trajectory_frame(gro, trj_data, grain_to_select='BB'):\n",
    "    \n",
    "    length_list = morphoscanner.backend.topology.get_peptide_length_list(gro)\n",
    "    total_residues = sum(length_list)\n",
    "    universe = morphoscanner.backend.topology.make_universe(gro, trj_data)\n",
    "    \n",
    "    coordinate_dict = {}\n",
    "    res_counter = 0\n",
    "    \n",
    "    for pep_index, peptide in enumerate(length_list):\n",
    "\n",
    "        coordinate_dict[pep_index] = {}\n",
    "\n",
    "        for res in range(peptide):\n",
    "\n",
    "            actual_res = universe.residues[res_counter]\n",
    "\n",
    "            for index, atom in enumerate(actual_res.atoms):\n",
    "\n",
    "                atom_type = str(atom).split()[2]\n",
    "\n",
    "                if atom_type == grain_to_select:\n",
    "\n",
    "                    atom_number = (int(str(atom).split()[1].split(':')[0]) - 1)\n",
    "\n",
    "                    #residue_name = (str(atom).split()[8].split(',')[0])\n",
    "\n",
    "                    coordinate = universe.atoms[atom_number].position\n",
    "\n",
    "                    coordinate_dict[pep_index][res] = coordinate\n",
    "\n",
    "                    res_counter += 1\n",
    "                    \n",
    "    return coordinate_dict\n"
   ]
  },
  {
   "cell_type": "code",
   "execution_count": null,
   "metadata": {},
   "outputs": [],
   "source": []
  },
  {
   "cell_type": "code",
   "execution_count": null,
   "metadata": {},
   "outputs": [],
   "source": []
  },
  {
   "cell_type": "code",
   "execution_count": null,
   "metadata": {},
   "outputs": [],
   "source": []
  },
  {
   "cell_type": "code",
   "execution_count": null,
   "metadata": {},
   "outputs": [],
   "source": [
    "%matplotlib notebook"
   ]
  },
  {
   "cell_type": "code",
   "execution_count": null,
   "metadata": {},
   "outputs": [],
   "source": [
    "# Classes in dev\n",
    "\n",
    "class single_peptide():\n",
    "    \n",
    "    ''' Class that define peptides\n",
    "    \n",
    "    '''\n",
    "    \n",
    "    def __init__(self, seq, atom_n, coord):\n",
    "        \n",
    "        self.sequence = seq\n",
    "        self.atom_numbers = atom_n\n",
    "        self.frame_coordinates = coord\n",
    "        \n",
    "\n",
    "        return"
   ]
  },
  {
   "cell_type": "code",
   "execution_count": null,
   "metadata": {},
   "outputs": [],
   "source": []
  },
  {
   "cell_type": "code",
   "execution_count": null,
   "metadata": {},
   "outputs": [],
   "source": []
  },
  {
   "cell_type": "code",
   "execution_count": null,
   "metadata": {},
   "outputs": [],
   "source": []
  },
  {
   "cell_type": "code",
   "execution_count": null,
   "metadata": {},
   "outputs": [],
   "source": []
  },
  {
   "cell_type": "code",
   "execution_count": 15,
   "metadata": {},
   "outputs": [
    {
     "name": "stdout",
     "output_type": "stream",
     "text": [
      "0.16944218999924487\n"
     ]
    }
   ],
   "source": [
    "# Instantiate universe and peptide list\n",
    "universe = morphoscanner.backend.topology.make_universe(trj_gro,trj_xtc)\n",
    "peptide_length_list = morphoscanner.backend.topology.get_peptide_length_list(trj_gro)\n",
    "\n",
    "\n",
    "# Get first frame exploratory data\n",
    "\n",
    "## WORKING NICELY FAST\n",
    "def get_data_from_trajectory_frame(universe, frame, peptide_length_list, atom_to_select='BB'):\n",
    "#def get_data_from_trajectory_frame(universe, peptide_length_list, atom_to_select='BB'):\n",
    "\n",
    "    # move universe frame to memory\n",
    "    universe.trajectory[frame]\n",
    "\n",
    "    # count number of residues from a .gro topology file\n",
    "    total_residues = sum(peptide_length_list)\n",
    " \n",
    "    coordinate_dict = {}\n",
    "    residues_dict = {}\n",
    "    atom_number_dict = {}\n",
    "    \n",
    "    res_counter = 0\n",
    "\n",
    "    #print(length_list)\n",
    "    for pep_index, peptide in enumerate(peptide_length_list):\n",
    "\n",
    "        coordinate_dict[pep_index] = {}\n",
    "        residues_dict[pep_index] = {}\n",
    "        atom_number_dict[pep_index] = {}\n",
    "\n",
    "        \n",
    "        ### SEPARA QUA\n",
    "        # PARTE SOPRA INIZIALIZZA\n",
    "        # PARTE SOTTO DISTRIBUISCE\n",
    "        \n",
    "        \n",
    "        #print(pep_index)\n",
    "        for res in range(peptide):\n",
    "\n",
    "            actual_res = universe.residues[res_counter]\n",
    "            \n",
    "            for index, atom in enumerate(actual_res.atoms):\n",
    "\n",
    "                atom_type = str(atom).split()[2]\n",
    "\n",
    "                if atom_type == atom_to_select:\n",
    "                    \n",
    "                    atom_number = (int(str(atom).split()[1].split(':')[0]) - 1)\n",
    "\n",
    "                    residue_name = (str(atom).split()[8].split(',')[0])\n",
    "\n",
    "                    coordi = universe.atoms[atom_number].position\n",
    "\n",
    "                    #coordi = universe.trajectory[frame][atom_number]\n",
    "                    \n",
    "\n",
    "                    coordinate_dict[pep_index][res] = coordi\n",
    "                    residues_dict[pep_index][res] = residue_name\n",
    "                    atom_number_dict[pep_index][res] = atom_number\n",
    "                    \n",
    "                    res_counter += 1\n",
    "                    \n",
    "    return coordinate_dict, residues_dict, atom_number_dict\n",
    "    #return residues_dict, atom_number_dict\n",
    "\n",
    "\n",
    "# get data from frame 0\n",
    "start = timer()\n",
    "c_0, r_0, an_0 = get_data_from_trajectory_frame(universe, 0, peptide_length_list)\n",
    "end = timer()\n",
    "print(end-start)\n",
    "\n",
    "\n",
    "peptides_dict = {}\n",
    "for seq, coord, atm_n in zip(r_0, an_0, c_0):\n",
    "    \n",
    "    peptides_dict[seq] = single_peptide(r_0.get(seq), an_0.get(atm_n), c_0.get(coord))\n",
    "    \n",
    "\n"
   ]
  },
  {
   "cell_type": "code",
   "execution_count": 17,
   "metadata": {},
   "outputs": [
    {
     "data": {
      "image/png": "[encoded data removed]",
      "text/plain": [
       "<Figure size 432x288 with 1 Axes>"
      ]
     },
     "metadata": {
      "needs_background": "light"
     },
     "output_type": "display_data"
    }
   ],
   "source": [
    "morphoscanner.plot.plot.plot_peptide_list(c_0)"
   ]
  },
  {
   "cell_type": "code",
   "execution_count": null,
   "metadata": {},
   "outputs": [],
   "source": [
    "peptide_length_list"
   ]
  },
  {
   "cell_type": "code",
   "execution_count": null,
   "metadata": {},
   "outputs": [],
   "source": [
    "start = timer()\n",
    "c_2, r_2 = get_data_from_first_trajectory_frame(universe, 48, peptide_length_list)\n",
    "end = timer()\n",
    "print(end-start)"
   ]
  },
  {
   "cell_type": "code",
   "execution_count": null,
   "metadata": {},
   "outputs": [],
   "source": [
    "r_1"
   ]
  },
  {
   "cell_type": "code",
   "execution_count": null,
   "metadata": {},
   "outputs": [],
   "source": [
    "an_1[21]"
   ]
  },
  {
   "cell_type": "code",
   "execution_count": null,
   "metadata": {},
   "outputs": [],
   "source": [
    "morphoscanner.plot.plot.plot_peptide_list(c_1, [p for p in c_1])"
   ]
  },
  {
   "cell_type": "code",
   "execution_count": null,
   "metadata": {},
   "outputs": [],
   "source": [
    "from morphoscanner import backend"
   ]
  },
  {
   "cell_type": "code",
   "execution_count": null,
   "metadata": {},
   "outputs": [],
   "source": []
  },
  {
   "cell_type": "code",
   "execution_count": null,
   "metadata": {},
   "outputs": [],
   "source": [
    "### Mi serve un oggetto peptide con sequenza ed atom_number.\n",
    "### La sequenza la prendo una volta sola e sarà sempre la stessa\n",
    "### L'atom_number mi serve perché così posso prendermi le coordinate\n",
    "### dai timestep quando voglio, anche per singolo peptide."
   ]
  },
  {
   "cell_type": "code",
   "execution_count": null,
   "metadata": {},
   "outputs": [],
   "source": []
  },
  {
   "cell_type": "code",
   "execution_count": null,
   "metadata": {},
   "outputs": [],
   "source": [
    "class single_peptide():\n",
    "    \n",
    "    ''' Class that define peptides\n",
    "    \n",
    "    '''\n",
    "    \n",
    "    def __init__(self, seq, atom_n, coord):\n",
    "        \n",
    "        self.sequence = seq\n",
    "        self.atom_numbers = atom_n\n",
    "        self.frame_coordinates = coord\n",
    "        \n",
    "\n",
    "        return"
   ]
  },
  {
   "cell_type": "code",
   "execution_count": null,
   "metadata": {},
   "outputs": [],
   "source": []
  },
  {
   "cell_type": "code",
   "execution_count": null,
   "metadata": {},
   "outputs": [],
   "source": [
    "class frame_coordinate():\n",
    "    ''' Class that contains coordinates\n",
    "    \n",
    "    '''"
   ]
  },
  {
   "cell_type": "code",
   "execution_count": null,
   "metadata": {},
   "outputs": [],
   "source": [
    "c_1, r_1, an_1 = get_data_from_first_trajectory_frame(universe, 0, peptide_length_list)\n"
   ]
  },
  {
   "cell_type": "code",
   "execution_count": null,
   "metadata": {
    "scrolled": true
   },
   "outputs": [],
   "source": [
    "peptides_dict = {}\n",
    "for seq, coord, atm_n in zip(r_1, c_1, an_1):\n",
    "    \n",
    "    peptides_dict[seq] = single_peptide(r_1.get(seq), an_1.get(atm_n), c_1.get(coord))\n",
    "    "
   ]
  },
  {
   "cell_type": "code",
   "execution_count": null,
   "metadata": {},
   "outputs": [],
   "source": [
    "peptides_dict[21].atom_numbers.values()"
   ]
  },
  {
   "cell_type": "code",
   "execution_count": null,
   "metadata": {},
   "outputs": [],
   "source": [
    "c_list = {}\n",
    "for idx, i in enumerate(peptides_dict[21].atom_numbers.values()):\n",
    "    p = universe.atoms[i].position\n",
    "    c_list[idx] = p"
   ]
  },
  {
   "cell_type": "code",
   "execution_count": null,
   "metadata": {},
   "outputs": [],
   "source": [
    "c_list"
   ]
  },
  {
   "cell_type": "code",
   "execution_count": null,
   "metadata": {},
   "outputs": [],
   "source": [
    "%matplotlib notebook"
   ]
  },
  {
   "cell_type": "code",
   "execution_count": null,
   "metadata": {
    "scrolled": true
   },
   "outputs": [],
   "source": [
    "plot_peptide_from_trajectory_frame(c_list)"
   ]
  },
  {
   "cell_type": "code",
   "execution_count": null,
   "metadata": {},
   "outputs": [],
   "source": [
    "morphoscanner.plot.plot.plot_single_peptide(c_list)"
   ]
  },
  {
   "cell_type": "code",
   "execution_count": null,
   "metadata": {},
   "outputs": [],
   "source": []
  },
  {
   "cell_type": "code",
   "execution_count": null,
   "metadata": {},
   "outputs": [],
   "source": []
  },
  {
   "cell_type": "code",
   "execution_count": null,
   "metadata": {},
   "outputs": [],
   "source": []
  },
  {
   "cell_type": "code",
   "execution_count": null,
   "metadata": {},
   "outputs": [],
   "source": [
    "#plot from trajectory positions  ### WORKING BUT YOU NEED TO:\n",
    "# make_universe\n",
    "# positions = universe.select_atoms('name BB').positions\n",
    "def plot_peptide_from_trajectory_frame(positions, peptide_list=None, centroid=False):\n",
    "    \n",
    "    '''\n",
    "    Plot atoms from universe.trajectory[frame]\n",
    "    '''\n",
    "    \n",
    "    \n",
    "    if peptide_list == None:\n",
    "        \n",
    "        peptide_list = [e for e in range(len(positions))]\n",
    "\n",
    "    x = []\n",
    "    y = []\n",
    "    z = []\n",
    "    x_median = float\n",
    "    y_median = float\n",
    "    z_median = float\n",
    "\n",
    "\n",
    "    for peptide in range(len(peptide_list)):\n",
    "        x.append([peptide])\n",
    "        y.append([peptide])\n",
    "        z.append([peptide])\n",
    "\n",
    "        point = positions[peptide_list[peptide]]\n",
    "        #print(peptide, point)\n",
    "        x[peptide].append(point[0])\n",
    "        y[peptide].append(point[1])\n",
    "        z[peptide].append(point[2])\n",
    "\n",
    "        del x[peptide][0]\n",
    "        del y[peptide][0]\n",
    "        del z[peptide][0]\n",
    "\n",
    "\n",
    "    fig = plt.figure()\n",
    "\n",
    "    ax = plt.axes(projection='3d')\n",
    "\n",
    "\n",
    "    for pep in range(len(x)):\n",
    "\n",
    "        # scatter points, making list from torch tensor item\n",
    "        ax.scatter3D([e.item() for e in x[pep]],[e.item() for e in y[pep]],[e.item() for e in z[pep]])\n",
    "\n",
    "    #return  plt.show(), [x,y,z], [x_median, y_median, z_median]         \n",
    "    return plt.show()"
   ]
  },
  {
   "cell_type": "code",
   "execution_count": null,
   "metadata": {},
   "outputs": [],
   "source": []
  },
  {
   "cell_type": "code",
   "execution_count": null,
   "metadata": {},
   "outputs": [],
   "source": []
  },
  {
   "cell_type": "code",
   "execution_count": null,
   "metadata": {},
   "outputs": [],
   "source": []
  },
  {
   "cell_type": "code",
   "execution_count": null,
   "metadata": {},
   "outputs": [],
   "source": [
    "from morphoscanner import backend"
   ]
  },
  {
   "cell_type": "code",
   "execution_count": null,
   "metadata": {},
   "outputs": [],
   "source": [
    "class trajectory:\n",
    "\n",
    "    '''Class to operate on trajectory files.\n",
    "\n",
    "    It makes an object that contain the trajectory of the simulation'''\n",
    "\n",
    "\n",
    "\n",
    "    def __init__(self, trj_gro, trj_xtc):\n",
    "        \n",
    "        \n",
    "\n",
    "        self.trj_gro = trj_gro\n",
    "        self.trj_xtc = trj_xtc\n",
    "        self.universe = backend.topology.make_universe(self.trj_gro, self.trj_xtc)\n",
    "        self.number_of_frames = len(self.universe.trajectory)\n",
    "        self.number_of_BB_atoms = len(self.universe.select_atoms('name BB'))\n",
    "       \n",
    "        self.peptide_length_list = backend.topology.get_peptide_length_list(self.trj_gro)\n",
    "        self.len_dict = backend.topology.get_peptide_length_dict(self.peptide_length_list)\n",
    "        \n",
    "        self.coordinate, self.sequences = get_data_from_first_trajectory_frame(self.universe, 0, self.peptide_length_list)\n",
    "\n",
    "\n",
    "\n",
    "    def compose_database(self, peptide_length=None, start_from=0, interval=1):\n",
    "\n",
    "        self.peptide_length = peptide_length\n",
    "        self.start_from = start_from\n",
    "        self.interval = interval\n",
    "\n",
    "        self.data = backend.topology.get_coordinate_dict_from_trajectory(self.trj_gro, self.trj_xtc, peptide_length=self.peptide_length, start_from=self.start_from, interval=self.interval)\n",
    "        self.sampled_frames = [key for key in self.data.keys()]"
   ]
  },
  {
   "cell_type": "code",
   "execution_count": null,
   "metadata": {},
   "outputs": [],
   "source": [
    "start = timer()\n",
    "trj = trajectory(trj_gro,trj_xtc)\n",
    "end = timer()\n",
    "print(end-start)"
   ]
  },
  {
   "cell_type": "code",
   "execution_count": null,
   "metadata": {},
   "outputs": [],
   "source": []
  },
  {
   "cell_type": "code",
   "execution_count": null,
   "metadata": {},
   "outputs": [],
   "source": [
    "trj.sequences"
   ]
  },
  {
   "cell_type": "code",
   "execution_count": null,
   "metadata": {},
   "outputs": [],
   "source": []
  },
  {
   "cell_type": "code",
   "execution_count": null,
   "metadata": {},
   "outputs": [],
   "source": []
  },
  {
   "cell_type": "code",
   "execution_count": null,
   "metadata": {},
   "outputs": [],
   "source": []
  },
  {
   "cell_type": "code",
   "execution_count": null,
   "metadata": {},
   "outputs": [],
   "source": []
  },
  {
   "cell_type": "code",
   "execution_count": null,
   "metadata": {},
   "outputs": [],
   "source": []
  },
  {
   "cell_type": "code",
   "execution_count": null,
   "metadata": {},
   "outputs": [],
   "source": []
  },
  {
   "cell_type": "code",
   "execution_count": 8,
   "metadata": {},
   "outputs": [],
   "source": [
    "universe = morphoscanner.backend.topology.make_universe(trj_gro,trj_xtc)\n",
    "peptide_length_list = morphoscanner.backend.topology.get_peptide_length_list(trj_gro)"
   ]
  },
  {
   "cell_type": "code",
   "execution_count": null,
   "metadata": {},
   "outputs": [],
   "source": [
    "universe = mda.Universe(trj_gro, trj_xtc, in_memory=False)"
   ]
  },
  {
   "cell_type": "code",
   "execution_count": null,
   "metadata": {},
   "outputs": [],
   "source": [
    "a = universe.trajectory[150].positions"
   ]
  },
  {
   "cell_type": "code",
   "execution_count": null,
   "metadata": {},
   "outputs": [],
   "source": [
    "b = universe.trajectory[150].positions"
   ]
  },
  {
   "cell_type": "code",
   "execution_count": null,
   "metadata": {},
   "outputs": [],
   "source": [
    "a == b"
   ]
  },
  {
   "cell_type": "code",
   "execution_count": null,
   "metadata": {},
   "outputs": [],
   "source": [
    "universe.trajectory.dt"
   ]
  },
  {
   "cell_type": "code",
   "execution_count": null,
   "metadata": {},
   "outputs": [],
   "source": [
    "universe.trajectory.close()"
   ]
  },
  {
   "cell_type": "code",
   "execution_count": null,
   "metadata": {},
   "outputs": [],
   "source": []
  },
  {
   "cell_type": "code",
   "execution_count": null,
   "metadata": {},
   "outputs": [],
   "source": []
  },
  {
   "cell_type": "code",
   "execution_count": null,
   "metadata": {},
   "outputs": [],
   "source": [
    "def plot_peptide_list(coordinate_dict, peptide_list=None, centroid=False):\n",
    "    '''Plot peptides from a trajectory frame.\n",
    "        Using jupyter-notebook, use '%matplotlib notebook' to\n",
    "        plot the points cloud in 3D.\n",
    "    \n",
    "    Inputs:     coordinate_dict, dict   Is the dict that contains all the coordinate\n",
    "                                        of the atoms of a single frame.\n",
    "                                        A single frame of the output of \n",
    "                                        backend.topology.get_coordinate_dict_from_trajectory \n",
    "                                        is a coordinate_dict.\n",
    "    \n",
    "                peptide_list, list.     is a list of int. Put here the index of the peptide\n",
    "                                        or peptides that you want to plot\n",
    "                                \n",
    "                centroid,   bool.       default=False \n",
    "                                        The centroid of a peptide can be plotted\n",
    "                                        in red together with the selected peptide.\n",
    "                                           \n",
    "                                        \n",
    "    Return:     show a 3D plot\n",
    "    '''\n",
    "    \n",
    "    # if there is only a single peptide to show\n",
    "    # use the single peptide function to normalize axis    \n",
    "    \n",
    "    if peptide_list == None:\n",
    "        peptide_list = [p for p in coordinate_dict]\n",
    "    \n",
    "    \n",
    "    if len(peptide_list) == 1:\n",
    "        \n",
    "        return plot_single_peptide(coordinate_dict[peptide_list[0]])\n",
    "    \n",
    "    else:\n",
    "        \n",
    "        x = []\n",
    "        y = []\n",
    "        z = []\n",
    "        x_median = float\n",
    "        y_median = float\n",
    "        z_median = float\n",
    "\n",
    "\n",
    "        for peptide in range(len(peptide_list)):\n",
    "            x.append([peptide])\n",
    "            y.append([peptide])\n",
    "            z.append([peptide])\n",
    "            for aminoacid in coordinate_dict[peptide_list[peptide]]:\n",
    "\n",
    "                point = coordinate_dict[peptide_list[peptide]][aminoacid]\n",
    "                x[peptide].append(point[0])\n",
    "                y[peptide].append(point[1])\n",
    "                z[peptide].append(point[2])\n",
    "\n",
    "            del x[peptide][0]\n",
    "            del y[peptide][0]\n",
    "            del z[peptide][0]\n",
    "\n",
    "        if centroid == True:\n",
    "\n",
    "            def assemble_coordinate(axis_coordinate_list):\n",
    "                median_list = []\n",
    "                for coordinate_set in axis_coordinate_list:\n",
    "                    median = np.median(coordinate_set)\n",
    "                    median_list.append(median)\n",
    "                return median_list\n",
    "\n",
    "            x_median = assemble_coordinate(x)\n",
    "            y_median = assemble_coordinate(y)\n",
    "            z_median = assemble_coordinate(z)\n",
    "\n",
    "\n",
    "        #%matplotlib notebook\n",
    "\n",
    "        fig = plt.figure()\n",
    "\n",
    "        ax = plt.axes(projection='3d')\n",
    "\n",
    "\n",
    "        for pep in range(len(x)):\n",
    "\n",
    "            ax.scatter3D(x[pep],y[pep],z[pep])\n",
    "\n",
    "            if centroid == True:\n",
    "\n",
    "                ax.scatter3D(x_median[pep], y_median[pep], z_median[pep], c='red')\n",
    "\n",
    "\n",
    "        #return  plt.show(), [x,y,z], [x_median, y_median, z_median]         \n",
    "    return plt.show()"
   ]
  },
  {
   "cell_type": "code",
   "execution_count": null,
   "metadata": {},
   "outputs": [],
   "source": [
    "from morphoscanner.plot.plot import plot_single_peptide"
   ]
  },
  {
   "cell_type": "code",
   "execution_count": null,
   "metadata": {},
   "outputs": [],
   "source": [
    "plot_peptide_list(c_1)"
   ]
  },
  {
   "cell_type": "code",
   "execution_count": null,
   "metadata": {},
   "outputs": [],
   "source": [
    "%matplotlib notebook"
   ]
  },
  {
   "cell_type": "code",
   "execution_count": null,
   "metadata": {},
   "outputs": [],
   "source": []
  },
  {
   "cell_type": "code",
   "execution_count": null,
   "metadata": {},
   "outputs": [],
   "source": []
  },
  {
   "cell_type": "code",
   "execution_count": null,
   "metadata": {},
   "outputs": [],
   "source": []
  },
  {
   "cell_type": "code",
   "execution_count": null,
   "metadata": {},
   "outputs": [],
   "source": [
    "\n",
    "\n"
   ]
  }
 ],
 "metadata": {
  "kernelspec": {
   "display_name": "Python 3",
   "language": "python",
   "name": "python3"
  },
  "language_info": {
   "codemirror_mode": {
    "name": "ipython",
    "version": 3
   },
   "file_extension": ".py",
   "mimetype": "text/x-python",
   "name": "python",
   "nbconvert_exporter": "python",
   "pygments_lexer": "ipython3",
   "version": "3.7.6"
  }
 },
 "nbformat": 4,
 "nbformat_minor": 2
}
