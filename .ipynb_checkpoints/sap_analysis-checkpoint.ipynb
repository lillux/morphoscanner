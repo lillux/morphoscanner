{
 "cells": [
  {
   "cell_type": "code",
   "execution_count": 1,
   "metadata": {},
   "outputs": [],
   "source": [
    "import math\n",
    "import itertools\n",
    "import numpy as np\n",
    "import matplotlib.pyplot as plt\n",
    "\n",
    "#import plotly\n",
    "#import plotly.express as px\n",
    "\n",
    "from mpl_toolkits import mplot3d\n",
    "from mpl_toolkits.mplot3d import Axes3D\n",
    "import pandas as pd\n",
    "import tqdm\n",
    "#from functools import lru_cache\n",
    "#import re\n",
    "import networkx as nx\n",
    "from networkx.algorithms import approximation\n",
    "\n",
    "import MDAnalysis as mda\n",
    "\n",
    "#import scipy\n",
    "#import sklearn\n",
    "#import skimage\n",
    "\n",
    "#import xml.etree.ElementTree as et\n",
    "#from Bio.PDB import *\n",
    "#import nglview as nv\n",
    "\n",
    "from timeit import default_timer as timer\n",
    "\n",
    "import sys\n",
    "import os\n",
    "\n",
    "# http://nglviewer.org/nglview/latest/api.html\n",
    "# https://biopython.org/wiki/The_Biopython_Structural_Bioinformatics_FAQ\n",
    "# https://ambermd.org/tutorials/analysis/tutorial_notebooks/nglview_notebook/index.html\n",
    "# https://amber-md.github.io/pytraj/latest/_api/pytraj.html"
   ]
  },
  {
   "cell_type": "code",
   "execution_count": 2,
   "metadata": {},
   "outputs": [],
   "source": [
    "#contact_matrix = np.loadtxt('/home/lillo/TesiCNTE/CNTE/dataset/contact_matrix.txt')   #laptop\n",
    "#contact_matrix = np.loadtxt('/home/lillo/Code/Tesi/dataset/contact_matrix.txt')        #fisso\n",
    "#contact_matrix_single = contact_matrix.reshape(100,100,12,12)\n",
    "\n",
    "#gromacs_output = open('/home/lillo/Code/Tesi/dataset/dm4500Compl_mix1_K2_1%4500ns.gro') #fisso\n",
    "#gromacs_output = open('/home/lillo/TesiCNTE/CNTE/dataset/dm4500Compl_mix1_K2_1%4500ns.gro') #laptop\n",
    "\n",
    "#path = '/home/lillo/Code/Tesi/dataset/dm4500Compl_mix1_K2_1%4500ns.gro' #fisso\n",
    "#path = '/home/lillo/TesiCNTE/CNTE/dataset/dm4500Compl_mix1_K2_1%4500ns.gro' #laptop\n",
    "\n",
    "# import 2mxu file (beta sheet)\n",
    "\n",
    "#path_to_mmCIF = open('/home/lillo/TesiCNTE/pdb/2mxu/2mxu.cif')  ## laptop\n",
    "#path_to_pdb = '/home/lillo/TesiCNTE/pdb/2mxu/2mxu.pdb'  ## laptop\n",
    "#pa_to_pdb = '/home/lillo/TesiCNTE/pdb/2mxu/2mxu.pdb'  ## laptop\n",
    "\n",
    "#path_to_mmCIF = open('/home/lillo/Code/Tesi/pdb/2mxu/2mxu.cif')  ## fisso\n",
    "#path_to_pdb = '/home/lillo/Code/Tesi/pdb/2mxu/2mxu.pdb'  ## fisso\n",
    "#pa_to_pdb = '/home/lillo/Code/Tesi/pdb/2mxu/2mxu.pdb'  ## fisso\n",
    "\n",
    "#seed_1_path = '/home/lillo/TesiCNTE/from_cluster/aggregate1.gro' # laptop\n",
    "#seed_1_path = '/home/lillo/Code/Tesi/dataset/aggregate1.gro'    # Fisso\n",
    "\n",
    "#prod_gro = '/home/lillo/TesiCNTE/from_cluster/prod/prod_part1/min.gro'            # laptop\n",
    "#prod_xtc = '/home/lillo/TesiCNTE/from_cluster/prod/prod_part1/prod.xtc'           # laptop\n",
    "#prod1_xtc = '/home/lillo/TesiCNTE/from_cluster/prod/prod_part2/prod-compl.xtc'    # laptop\n",
    "\n",
    "#prod_gro = '/home/lillo/Code/Tesi/dataset/prod/prod_part1/min.gro'           #fisso\n",
    "#prod_xtc = '/home/lillo/Code/Tesi/dataset/prod/prod_part1/prod.xtc'          #fisso\n",
    "#prod1_xtc = '/home/lillo/Code/Tesi/dataset/prod/prod_part2/prod-compl.xtc'   #fisso\n",
    "\n",
    "\n",
    "trj_xtc = '/home/lillo/TesiCNTE/CNTE/trajectory/prd-LDLK12-100mer-out-mol.xtc'  #laptop\n",
    "trj_gro = '/home/lillo/TesiCNTE/CNTE/trajectory/min-LDLK12-100mer-out-c.gro'    #laptop\n",
    "\n",
    "#trj_gro = '/home/lillo/Code/Tesi/dataset/trajectory_6_12_19/min-LDLK12-100mer-out-c.gro'     #fisso\n",
    "#trj_xtc = '/home/lillo/Code/Tesi/dataset/trajectory_6_12_19/prd-LDLK12-100mer-out-mol.xtc'   #fisso\n",
    "\n",
    "#lipase = '/home/lillo/Documenti/PDB/lipase/3d2c.pdb'\n",
    "#lipase1 = '/home/lillo/Documenti/PDB/lipase/1gpl.pdb'\n",
    "\n",
    "glico_6bis_gro = '/home/lillo/TesiCNTE/from_cluster/glicosilati_6bis/6bis-gluc/eq-2-out.gro'\n",
    "glico_6bis_trr = '/home/lillo/TesiCNTE/from_cluster/glicosilati_6bis/6bis-gluc/production/prd-6bis-GLUC-40mer-3per-out.trr'\n",
    "glico_6bis_tpr = '/home/lillo/TesiCNTE/from_cluster/glicosilati_6bis/6bis-gluc/production/prd-6bis-GLUC-40mer-3per.tpr'\n",
    "\n",
    "#glico_6bis_gro = '/home/lillo/Documenti/Tesi_CNTE/data/glicosilati_6bis/6bis-gluc/eq-2-out.gro'\n",
    "#glico_6bis_trr = '/home/lillo/Documenti/Tesi_CNTE/data/glicosilati_6bis/6bis-gluc/production/prd-6bis-GLUC-40mer-3per-out.trr'\n",
    "#glico_6bis_tpr = '/home/lillo/Documenti/Tesi_CNTE/data/glicosilati_6bis/6bis-gluc/production/prd-6bis-GLUC-40mer-3per.tpr'\n",
    "\n",
    "#p73_2per_wat_seed_1_gro = '/home/lillo/TesiCNTE/from_cluster/peptide_73/MARTINI/2%/WATER/2%/seed_1/prod/73prod.gro'     # laptop\n",
    "#p73_2per_wat_seed_1_xtc = '/home/lillo/TesiCNTE/from_cluster/peptide_73/MARTINI/2%/WATER/2%/seed_1/prod/73prod.xtc'     # laptop\n",
    "#p73_2per_wat_seed_1_trr = '/home/lillo/TesiCNTE/from_cluster/peptide_73/MARTINI/2%/WATER/2%/seed_1/prod/73prod.trr'     # laptop\n",
    "\n",
    "### LAPTOP GLICOSILATI\n",
    "glac_1perc_1_gro = '/home/lillo/TesiCNTE/from_cluster/glicosilati_6bis/6bis-GlAC/1perc/6bis-GLAC-1p/equilibration-2/eq-2-out.gro'\n",
    "glac_1perc_1_trr = '/home/lillo/TesiCNTE/from_cluster/glicosilati_6bis/6bis-GlAC/1perc/6bis-GLAC-1p/production/prd-6bis-GLAC-13mer-1per-out.trr'\n",
    "\n",
    "glac_1perc_2_gro = '/home/lillo/TesiCNTE/from_cluster/glicosilati_6bis/6bis-GlAC/1perc/6bis-GLAC-1p-2/equilibration-2/eq-2-out.gro'\n",
    "glac_1perc_2_trr = '/home/lillo/TesiCNTE/from_cluster/glicosilati_6bis/6bis-GlAC/1perc/6bis-GLAC-1p-2/production/prd-6bis-GLAC-13mer-1per-2-out.trr'\n",
    "\n",
    "glac_1perc_3_gro = '/home/lillo/TesiCNTE/from_cluster/glicosilati_6bis/6bis-GlAC/1perc/6bis-GLAC-1p-3/equilibration-2/eq-2-out.gro'\n",
    "glac_1perc_3_trr = '/home/lillo/TesiCNTE/from_cluster/glicosilati_6bis/6bis-GlAC/1perc/6bis-GLAC-1p-3/production/prd-6bis-GLAC-13mer-1per-3-out.trr'\n",
    "\n",
    "glac_3perc_1_gro = '/home/lillo/TesiCNTE/from_cluster/glicosilati_6bis/6bis-GlAC/3perc/6bis-GLAC/equilibration-2/eq-2-out.gro'\n",
    "glac_3perc_1_trr = '/home/lillo/TesiCNTE/from_cluster/glicosilati_6bis/6bis-GlAC/3perc/6bis-GLAC/production/prd-6bis-GLAC-40mer-3per-out.trr'\n",
    "\n",
    "glac_3perc_2_gro = '/home/lillo/TesiCNTE/from_cluster/glicosilati_6bis/6bis-GlAC/3perc/6bis-GLAC-2/equilibration-2/eq-2-out.gro'\n",
    "glac_3perc_2_trr = '/home/lillo/TesiCNTE/from_cluster/glicosilati_6bis/6bis-GlAC/3perc/6bis-GLAC-2/production/prd-6bis-40mer-3per-out.trr'\n",
    "\n",
    "glac_3perc_3_gro = '/home/lillo/TesiCNTE/from_cluster/glicosilati_6bis/6bis-GlAC/3perc/6bis-GLAC-3/equilibration-2/eq-2-out.gro'\n",
    "glac_3perc_3_trr = '/home/lillo/TesiCNTE/from_cluster/glicosilati_6bis/6bis-GlAC/3perc/6bis-GLAC-3/production/prd-6bis-GLAC-40mer-3per-out.trr'"
   ]
  },
  {
   "cell_type": "code",
   "execution_count": 3,
   "metadata": {},
   "outputs": [],
   "source": [
    "#trj.number_of_BB_atoms"
   ]
  },
  {
   "cell_type": "code",
   "execution_count": 4,
   "metadata": {},
   "outputs": [],
   "source": [
    "import torch"
   ]
  },
  {
   "cell_type": "code",
   "execution_count": 5,
   "metadata": {},
   "outputs": [
    {
     "data": {
      "text/plain": [
       "True"
      ]
     },
     "execution_count": 5,
     "metadata": {},
     "output_type": "execute_result"
    }
   ],
   "source": [
    "torch.cuda.is_available()"
   ]
  },
  {
   "cell_type": "code",
   "execution_count": 6,
   "metadata": {},
   "outputs": [],
   "source": [
    "import morphoscanner"
   ]
  },
  {
   "cell_type": "code",
   "execution_count": null,
   "metadata": {},
   "outputs": [],
   "source": []
  },
  {
   "cell_type": "code",
   "execution_count": null,
   "metadata": {},
   "outputs": [],
   "source": []
  },
  {
   "cell_type": "code",
   "execution_count": null,
   "metadata": {},
   "outputs": [],
   "source": []
  },
  {
   "cell_type": "code",
   "execution_count": null,
   "metadata": {},
   "outputs": [],
   "source": []
  },
  {
   "cell_type": "code",
   "execution_count": null,
   "metadata": {},
   "outputs": [],
   "source": []
  },
  {
   "cell_type": "code",
   "execution_count": null,
   "metadata": {},
   "outputs": [],
   "source": []
  },
  {
   "cell_type": "code",
   "execution_count": null,
   "metadata": {},
   "outputs": [],
   "source": []
  },
  {
   "cell_type": "code",
   "execution_count": null,
   "metadata": {},
   "outputs": [],
   "source": []
  },
  {
   "cell_type": "code",
   "execution_count": null,
   "metadata": {},
   "outputs": [],
   "source": [
    "%matplotlib notebook"
   ]
  },
  {
   "cell_type": "code",
   "execution_count": null,
   "metadata": {},
   "outputs": [],
   "source": []
  },
  {
   "cell_type": "code",
   "execution_count": null,
   "metadata": {},
   "outputs": [],
   "source": []
  },
  {
   "cell_type": "code",
   "execution_count": null,
   "metadata": {},
   "outputs": [],
   "source": []
  },
  {
   "cell_type": "code",
   "execution_count": null,
   "metadata": {},
   "outputs": [],
   "source": []
  },
  {
   "cell_type": "code",
   "execution_count": null,
   "metadata": {},
   "outputs": [],
   "source": []
  },
  {
   "cell_type": "code",
   "execution_count": null,
   "metadata": {},
   "outputs": [],
   "source": [
    "\n",
    "        "
   ]
  },
  {
   "cell_type": "code",
   "execution_count": null,
   "metadata": {},
   "outputs": [],
   "source": []
  },
  {
   "cell_type": "code",
   "execution_count": null,
   "metadata": {},
   "outputs": [],
   "source": []
  },
  {
   "cell_type": "code",
   "execution_count": null,
   "metadata": {},
   "outputs": [],
   "source": []
  },
  {
   "cell_type": "code",
   "execution_count": null,
   "metadata": {},
   "outputs": [],
   "source": []
  },
  {
   "cell_type": "code",
   "execution_count": null,
   "metadata": {},
   "outputs": [],
   "source": []
  },
  {
   "cell_type": "code",
   "execution_count": null,
   "metadata": {},
   "outputs": [],
   "source": []
  },
  {
   "cell_type": "code",
   "execution_count": null,
   "metadata": {},
   "outputs": [],
   "source": [
    "_gro = get_gro()\n",
    "_xtc = get_xtc()\n",
    "\n",
    "trj = trajectory(_gro, _xtc)\n",
    "\n",
    "print('Your trajectory has %d frames' % trj.number_of_frames)\n",
    "print('Your trajectory has %d BB atoms' % trj.number_of_BB_atoms)\n",
    "\n",
    "\n",
    "peptide_length = peptide_length(sentence='Set the number of aminoacids in one peptide (int): ')\n",
    "interval = get_interval(sentence='Set the interval between sampled frames (int): ')\n",
    "start_from = start_from(sentence='Set the index from which you want to start.\\n\\n0 if you have a single simulation.\\n0 if you are analyzing split1.\\nlen(split1) if you are analyzing split2.\\ninteger: ')\n",
    "\n",
    "output_path, file_name = get_destination_dir_and_name()\n",
    "\n",
    "\n",
    "trj.compose_database(peptide_length=peptide_length, interval=interval)\n",
    "trj.analyze_inLoop()\n",
    "trj.get_data()\n",
    "trj.get_database()\n",
    "    "
   ]
  },
  {
   "cell_type": "code",
   "execution_count": null,
   "metadata": {},
   "outputs": [],
   "source": []
  },
  {
   "cell_type": "code",
   "execution_count": null,
   "metadata": {},
   "outputs": [],
   "source": []
  },
  {
   "cell_type": "code",
   "execution_count": null,
   "metadata": {},
   "outputs": [],
   "source": [
    "t = torch.stack([torch.from_numpy(zero[e]) for e in zero])"
   ]
  },
  {
   "cell_type": "code",
   "execution_count": null,
   "metadata": {},
   "outputs": [],
   "source": []
  },
  {
   "cell_type": "code",
   "execution_count": null,
   "metadata": {},
   "outputs": [],
   "source": []
  },
  {
   "cell_type": "code",
   "execution_count": null,
   "metadata": {},
   "outputs": [],
   "source": []
  },
  {
   "cell_type": "code",
   "execution_count": null,
   "metadata": {},
   "outputs": [],
   "source": []
  },
  {
   "cell_type": "code",
   "execution_count": null,
   "metadata": {},
   "outputs": [],
   "source": []
  },
  {
   "cell_type": "code",
   "execution_count": null,
   "metadata": {},
   "outputs": [],
   "source": []
  },
  {
   "cell_type": "code",
   "execution_count": null,
   "metadata": {},
   "outputs": [],
   "source": []
  },
  {
   "cell_type": "code",
   "execution_count": null,
   "metadata": {},
   "outputs": [],
   "source": []
  },
  {
   "cell_type": "code",
   "execution_count": null,
   "metadata": {},
   "outputs": [],
   "source": []
  },
  {
   "cell_type": "code",
   "execution_count": null,
   "metadata": {},
   "outputs": [],
   "source": []
  },
  {
   "cell_type": "code",
   "execution_count": null,
   "metadata": {},
   "outputs": [],
   "source": []
  },
  {
   "cell_type": "code",
   "execution_count": null,
   "metadata": {},
   "outputs": [],
   "source": []
  },
  {
   "cell_type": "code",
   "execution_count": null,
   "metadata": {},
   "outputs": [],
   "source": []
  },
  {
   "cell_type": "code",
   "execution_count": null,
   "metadata": {},
   "outputs": [],
   "source": []
  },
  {
   "cell_type": "code",
   "execution_count": null,
   "metadata": {},
   "outputs": [],
   "source": []
  },
  {
   "cell_type": "code",
   "execution_count": null,
   "metadata": {},
   "outputs": [],
   "source": []
  },
  {
   "cell_type": "code",
   "execution_count": null,
   "metadata": {},
   "outputs": [],
   "source": []
  },
  {
   "cell_type": "code",
   "execution_count": null,
   "metadata": {},
   "outputs": [],
   "source": []
  },
  {
   "cell_type": "code",
   "execution_count": null,
   "metadata": {},
   "outputs": [],
   "source": []
  },
  {
   "cell_type": "code",
   "execution_count": null,
   "metadata": {},
   "outputs": [],
   "source": []
  },
  {
   "cell_type": "code",
   "execution_count": null,
   "metadata": {},
   "outputs": [],
   "source": []
  },
  {
   "cell_type": "code",
   "execution_count": null,
   "metadata": {},
   "outputs": [],
   "source": []
  },
  {
   "cell_type": "code",
   "execution_count": null,
   "metadata": {},
   "outputs": [],
   "source": []
  },
  {
   "cell_type": "code",
   "execution_count": null,
   "metadata": {},
   "outputs": [],
   "source": []
  },
  {
   "cell_type": "code",
   "execution_count": null,
   "metadata": {},
   "outputs": [],
   "source": []
  },
  {
   "cell_type": "code",
   "execution_count": null,
   "metadata": {},
   "outputs": [],
   "source": []
  },
  {
   "cell_type": "code",
   "execution_count": null,
   "metadata": {},
   "outputs": [],
   "source": []
  },
  {
   "cell_type": "code",
   "execution_count": null,
   "metadata": {},
   "outputs": [],
   "source": []
  },
  {
   "cell_type": "code",
   "execution_count": null,
   "metadata": {},
   "outputs": [],
   "source": []
  },
  {
   "cell_type": "code",
   "execution_count": null,
   "metadata": {},
   "outputs": [],
   "source": []
  },
  {
   "cell_type": "code",
   "execution_count": null,
   "metadata": {},
   "outputs": [],
   "source": [
    "morphoscanner.backend.topology.get_peptide_length_list((trj_gro))"
   ]
  },
  {
   "cell_type": "code",
   "execution_count": null,
   "metadata": {},
   "outputs": [],
   "source": [
    "cleaned = morphoscanner.backend.readGro.clean_gro(trj_gro)"
   ]
  },
  {
   "cell_type": "code",
   "execution_count": null,
   "metadata": {},
   "outputs": [],
   "source": []
  },
  {
   "cell_type": "code",
   "execution_count": null,
   "metadata": {},
   "outputs": [],
   "source": []
  },
  {
   "cell_type": "code",
   "execution_count": null,
   "metadata": {},
   "outputs": [],
   "source": []
  },
  {
   "cell_type": "code",
   "execution_count": null,
   "metadata": {},
   "outputs": [],
   "source": [
    "def dispatch_data(atom):\n",
    "    \n",
    "    if type(atom) != list:\n",
    "        \n",
    "        raise ValueError(\"%s is not a list, it is of type %s...\\n \" % (str(atom), type(atom)))\n",
    "    \n",
    "    else:\n",
    "        \n",
    "        atom_number = check_int_and_return(atom[0])\n",
    "        \n",
    "        residue_number = check_int_and_return(atom[1])\n",
    "        \n",
    "        residue_name = atom[2]\n",
    "        \n",
    "        x = float(atom[3])\n",
    "        \n",
    "        y = float(atom[4])\n",
    "        \n",
    "        z = float(atom[5])\n",
    "        \n",
    "    \n",
    "    \n",
    "        return atom_number, residue_number, residue_name, x, y, z\n",
    "        \n",
    "        \n",
    "        "
   ]
  },
  {
   "cell_type": "code",
   "execution_count": null,
   "metadata": {},
   "outputs": [],
   "source": [
    "dispatch_data(cleaned[0])"
   ]
  },
  {
   "cell_type": "code",
   "execution_count": null,
   "metadata": {},
   "outputs": [],
   "source": [
    "type(cleaned[0]) == list"
   ]
  },
  {
   "cell_type": "code",
   "execution_count": null,
   "metadata": {},
   "outputs": [],
   "source": [
    "import sys\n",
    "\n",
    "\n",
    "def isInt(s):\n",
    "    '''Check if s is type int and return bool.\n",
    "    \n",
    "    Input: object\n",
    "    \n",
    "    Output: bool'''\n",
    "    \n",
    "    try:\n",
    "        return float(str(s)).is_integer()\n",
    "    except:\n",
    "        return False\n",
    "\n",
    "    \n",
    "    \n",
    "def check_int_and_return(value):\n",
    "    \n",
    "    '''Check int and return value, else raise ValueError and print object type\n",
    "    \n",
    "    Input = object\n",
    "    \n",
    "    Output = int'''\n",
    "\n",
    "    if isInt(value):\n",
    "\n",
    "        return int(value)\n",
    "\n",
    "    else:\n",
    "        raise ValueError(\"%s is not an integer, it is of type %s...\\n \" % (str(value), type(value))) \n"
   ]
  },
  {
   "cell_type": "code",
   "execution_count": null,
   "metadata": {},
   "outputs": [],
   "source": []
  },
  {
   "cell_type": "code",
   "execution_count": null,
   "metadata": {},
   "outputs": [],
   "source": []
  },
  {
   "cell_type": "code",
   "execution_count": null,
   "metadata": {},
   "outputs": [],
   "source": []
  },
  {
   "cell_type": "code",
   "execution_count": null,
   "metadata": {},
   "outputs": [],
   "source": []
  },
  {
   "cell_type": "code",
   "execution_count": null,
   "metadata": {},
   "outputs": [],
   "source": []
  },
  {
   "cell_type": "code",
   "execution_count": null,
   "metadata": {},
   "outputs": [],
   "source": []
  },
  {
   "cell_type": "code",
   "execution_count": null,
   "metadata": {},
   "outputs": [],
   "source": []
  },
  {
   "cell_type": "code",
   "execution_count": null,
   "metadata": {},
   "outputs": [],
   "source": []
  },
  {
   "cell_type": "code",
   "execution_count": null,
   "metadata": {},
   "outputs": [],
   "source": []
  },
  {
   "cell_type": "code",
   "execution_count": null,
   "metadata": {},
   "outputs": [],
   "source": []
  },
  {
   "cell_type": "code",
   "execution_count": null,
   "metadata": {},
   "outputs": [],
   "source": []
  },
  {
   "cell_type": "code",
   "execution_count": null,
   "metadata": {},
   "outputs": [],
   "source": [
    "  "
   ]
  },
  {
   "cell_type": "code",
   "execution_count": null,
   "metadata": {},
   "outputs": [],
   "source": []
  },
  {
   "cell_type": "code",
   "execution_count": null,
   "metadata": {},
   "outputs": [],
   "source": []
  },
  {
   "cell_type": "code",
   "execution_count": null,
   "metadata": {},
   "outputs": [],
   "source": []
  },
  {
   "cell_type": "code",
   "execution_count": null,
   "metadata": {},
   "outputs": [],
   "source": []
  },
  {
   "cell_type": "code",
   "execution_count": null,
   "metadata": {},
   "outputs": [],
   "source": []
  },
  {
   "cell_type": "code",
   "execution_count": null,
   "metadata": {},
   "outputs": [],
   "source": []
  },
  {
   "cell_type": "code",
   "execution_count": null,
   "metadata": {},
   "outputs": [],
   "source": []
  },
  {
   "cell_type": "code",
   "execution_count": null,
   "metadata": {},
   "outputs": [],
   "source": []
  },
  {
   "cell_type": "code",
   "execution_count": null,
   "metadata": {},
   "outputs": [],
   "source": []
  },
  {
   "cell_type": "code",
   "execution_count": null,
   "metadata": {},
   "outputs": [],
   "source": []
  },
  {
   "cell_type": "code",
   "execution_count": null,
   "metadata": {},
   "outputs": [],
   "source": []
  },
  {
   "cell_type": "code",
   "execution_count": null,
   "metadata": {},
   "outputs": [],
   "source": []
  },
  {
   "cell_type": "code",
   "execution_count": null,
   "metadata": {},
   "outputs": [],
   "source": []
  },
  {
   "cell_type": "code",
   "execution_count": null,
   "metadata": {},
   "outputs": [],
   "source": []
  },
  {
   "cell_type": "code",
   "execution_count": null,
   "metadata": {},
   "outputs": [],
   "source": []
  },
  {
   "cell_type": "code",
   "execution_count": null,
   "metadata": {},
   "outputs": [],
   "source": []
  },
  {
   "cell_type": "code",
   "execution_count": null,
   "metadata": {},
   "outputs": [],
   "source": [
    "length_list = morphoscanner.backend.topology.get_peptide_length_list (p73_2per_wat_seed_1_gro)"
   ]
  },
  {
   "cell_type": "code",
   "execution_count": null,
   "metadata": {},
   "outputs": [],
   "source": []
  },
  {
   "cell_type": "code",
   "execution_count": null,
   "metadata": {},
   "outputs": [],
   "source": []
  },
  {
   "cell_type": "code",
   "execution_count": null,
   "metadata": {},
   "outputs": [],
   "source": [
    "\n"
   ]
  },
  {
   "cell_type": "code",
   "execution_count": null,
   "metadata": {},
   "outputs": [],
   "source": []
  },
  {
   "cell_type": "code",
   "execution_count": null,
   "metadata": {},
   "outputs": [],
   "source": []
  },
  {
   "cell_type": "code",
   "execution_count": null,
   "metadata": {},
   "outputs": [],
   "source": []
  },
  {
   "cell_type": "code",
   "execution_count": null,
   "metadata": {},
   "outputs": [],
   "source": []
  },
  {
   "cell_type": "code",
   "execution_count": null,
   "metadata": {},
   "outputs": [],
   "source": []
  },
  {
   "cell_type": "code",
   "execution_count": null,
   "metadata": {},
   "outputs": [],
   "source": []
  },
  {
   "cell_type": "code",
   "execution_count": null,
   "metadata": {},
   "outputs": [],
   "source": []
  },
  {
   "cell_type": "code",
   "execution_count": null,
   "metadata": {},
   "outputs": [],
   "source": []
  },
  {
   "cell_type": "code",
   "execution_count": null,
   "metadata": {},
   "outputs": [],
   "source": [
    "\n"
   ]
  },
  {
   "cell_type": "code",
   "execution_count": null,
   "metadata": {},
   "outputs": [],
   "source": []
  },
  {
   "cell_type": "code",
   "execution_count": null,
   "metadata": {},
   "outputs": [],
   "source": []
  },
  {
   "cell_type": "code",
   "execution_count": null,
   "metadata": {},
   "outputs": [],
   "source": [
    "\n",
    "c_list = {}\n",
    "for idx, i in enumerate(peptides_dict[21].atom_numbers.values()):\n",
    "    p = universe.atoms[i].position\n",
    "    c_list[idx] = p"
   ]
  },
  {
   "cell_type": "code",
   "execution_count": null,
   "metadata": {},
   "outputs": [],
   "source": [
    "c_list"
   ]
  },
  {
   "cell_type": "code",
   "execution_count": null,
   "metadata": {},
   "outputs": [],
   "source": []
  },
  {
   "cell_type": "code",
   "execution_count": null,
   "metadata": {},
   "outputs": [],
   "source": []
  },
  {
   "cell_type": "code",
   "execution_count": null,
   "metadata": {},
   "outputs": [],
   "source": []
  },
  {
   "cell_type": "code",
   "execution_count": null,
   "metadata": {
    "scrolled": true
   },
   "outputs": [],
   "source": [
    "type(peptides_dict[0].frame_coordinates)"
   ]
  },
  {
   "cell_type": "code",
   "execution_count": null,
   "metadata": {},
   "outputs": [],
   "source": []
  },
  {
   "cell_type": "code",
   "execution_count": null,
   "metadata": {},
   "outputs": [],
   "source": [
    "### Mi serve un oggetto peptide con sequenza ed atom_number.\n",
    "### La sequenza la prendo una volta sola e sarà sempre la stessa\n",
    "### L'atom_number mi serve perché così posso prendermi le coordinate\n",
    "### dai timestep quando voglio, anche per singolo peptide."
   ]
  },
  {
   "cell_type": "code",
   "execution_count": null,
   "metadata": {},
   "outputs": [],
   "source": [
    "c_list\n",
    "first_key = [k for k in peptides_dict][0]\n",
    "if type(peptides_dict[first_key].frame_coordinates) is dict:\n",
    "    print('ok')"
   ]
  },
  {
   "cell_type": "code",
   "execution_count": null,
   "metadata": {},
   "outputs": [],
   "source": []
  },
  {
   "cell_type": "code",
   "execution_count": null,
   "metadata": {},
   "outputs": [],
   "source": []
  },
  {
   "cell_type": "code",
   "execution_count": null,
   "metadata": {},
   "outputs": [],
   "source": [
    "def plot_peptide_list(coordinate_dict, peptide_list=None, centroid=False):\n",
    "    '''\n",
    "    Plot peptides from a trajectory frame.\n",
    "    Using jupyter-notebook, use '%matplotlib notebook' to\n",
    "    plot the points cloud in 3D.\n",
    "\n",
    "    Parameters\n",
    "    ----------\n",
    "    coordinate_dict : dict\n",
    "        Is the dict that contains all the coordinate\n",
    "        of the atoms of a single frame.\n",
    "        A single frame of the output of \n",
    "        backend.topology.get_coordinate_dict_from_trajectory \n",
    "        is a coordinate_dict.\n",
    "        \n",
    "    peptide_list : list, optional\n",
    "        The default is None. By default all the peptides\n",
    "        will be plotted.\n",
    "            Is a list of int. Put here the index of the peptide\n",
    "            or peptides that you want to plot.\n",
    "            For example [0,2,5,24,1,6] to plot\n",
    "            only these peptides.\n",
    "        \n",
    "    centroid : bool, optional\n",
    "        The default is False.\n",
    "            The centroid of a peptide can be plotted\n",
    "            in red together with the selected peptide.\n",
    "    \n",
    "    Returns\n",
    "    -------\n",
    "    3D plot\n",
    "        Return a scattered 3D plot.\n",
    "\n",
    "    '''\n",
    "    \n",
    "      \n",
    "    # if no peptide specified, plot all\n",
    "    if peptide_list == None:\n",
    "        peptide_list = [p for p in coordinate_dict]\n",
    "\n",
    "\n",
    "    # if there is only a single peptide to show\n",
    "    # use the single peptide function to normalize axis        \n",
    "    if len(peptide_list) == 1:\n",
    "        \n",
    "        return plot_single_peptide(coordinate_dict[peptide_list[0]])\n",
    "    \n",
    "    else:\n",
    "        \n",
    "        x = []\n",
    "        y = []\n",
    "        z = []\n",
    "        x_median = float\n",
    "        y_median = float\n",
    "        z_median = float\n",
    "\n",
    "\n",
    "        for peptide in range(len(peptide_list)):\n",
    "            x.append([peptide])\n",
    "            y.append([peptide])\n",
    "            z.append([peptide])\n",
    "            for aminoacid in coordinate_dict[peptide_list[peptide]]:\n",
    "\n",
    "                point = coordinate_dict[peptide_list[peptide]][aminoacid]\n",
    "                x[peptide].append(point[0])\n",
    "                y[peptide].append(point[1])\n",
    "                z[peptide].append(point[2])\n",
    "\n",
    "            del x[peptide][0]\n",
    "            del y[peptide][0]\n",
    "            del z[peptide][0]\n",
    "\n",
    "        if centroid == True:\n",
    "\n",
    "            def assemble_coordinate(axis_coordinate_list):\n",
    "                median_list = []\n",
    "                for coordinate_set in axis_coordinate_list:\n",
    "                    median = np.median(coordinate_set)\n",
    "                    median_list.append(median)\n",
    "                return median_list\n",
    "\n",
    "            x_median = assemble_coordinate(x)\n",
    "            y_median = assemble_coordinate(y)\n",
    "            z_median = assemble_coordinate(z)\n",
    "\n",
    "\n",
    "        #%matplotlib notebook\n",
    "\n",
    "        fig = plt.figure()\n",
    "\n",
    "        ax = plt.axes(projection='3d')\n",
    "\n",
    "\n",
    "        for pep in range(len(x)):\n",
    "\n",
    "            ax.scatter3D(x[pep],y[pep],z[pep])\n",
    "\n",
    "            if centroid == True:\n",
    "\n",
    "                ax.scatter3D(x_median[pep], y_median[pep], z_median[pep], c='red')\n",
    "\n",
    "\n",
    "        #return  plt.show(), [x,y,z], [x_median, y_median, z_median]         \n",
    "    return plt.show()\n"
   ]
  },
  {
   "cell_type": "code",
   "execution_count": null,
   "metadata": {},
   "outputs": [],
   "source": []
  },
  {
   "cell_type": "code",
   "execution_count": null,
   "metadata": {
    "scrolled": true
   },
   "outputs": [],
   "source": []
  },
  {
   "cell_type": "code",
   "execution_count": null,
   "metadata": {},
   "outputs": [],
   "source": []
  },
  {
   "cell_type": "code",
   "execution_count": null,
   "metadata": {},
   "outputs": [],
   "source": []
  },
  {
   "cell_type": "code",
   "execution_count": null,
   "metadata": {},
   "outputs": [],
   "source": []
  },
  {
   "cell_type": "code",
   "execution_count": null,
   "metadata": {},
   "outputs": [],
   "source": [
    "%matplotlib notebook"
   ]
  },
  {
   "cell_type": "code",
   "execution_count": null,
   "metadata": {
    "scrolled": true
   },
   "outputs": [],
   "source": [
    "morphoscanner.plot.plot.plot_single_peptide(c_list)"
   ]
  },
  {
   "cell_type": "code",
   "execution_count": null,
   "metadata": {},
   "outputs": [],
   "source": [
    "plot_protein(c_list)"
   ]
  },
  {
   "cell_type": "code",
   "execution_count": null,
   "metadata": {},
   "outputs": [],
   "source": []
  },
  {
   "cell_type": "code",
   "execution_count": null,
   "metadata": {},
   "outputs": [],
   "source": []
  },
  {
   "cell_type": "code",
   "execution_count": null,
   "metadata": {},
   "outputs": [],
   "source": []
  },
  {
   "cell_type": "code",
   "execution_count": null,
   "metadata": {},
   "outputs": [],
   "source": [
    "#plot from trajectory positions  ### WORKING BUT YOU NEED TO:\n",
    "# make_universe\n",
    "# positions = universe.select_atoms('name BB').positions\n",
    "def plot_peptide_from_trajectory_frame(positions, peptide_list=None, centroid=False):\n",
    "    \n",
    "    '''\n",
    "    Plot atoms from universe.trajectory[frame]\n",
    "    '''\n",
    "       \n",
    "    if peptide_list == None:\n",
    "        \n",
    "        peptide_list = [e for e in range(len(positions))]\n",
    "\n",
    "    x = []\n",
    "    y = []\n",
    "    z = []\n",
    "\n",
    "    for peptide in range(len(peptide_list)):\n",
    "        x.append([peptide])\n",
    "        y.append([peptide])\n",
    "        z.append([peptide])\n",
    "\n",
    "        point = positions[peptide_list[peptide]]\n",
    "        #print(peptide, point)\n",
    "        x[peptide].append(point[0])\n",
    "        y[peptide].append(point[1])\n",
    "        z[peptide].append(point[2])\n",
    "\n",
    "        del x[peptide][0]\n",
    "        del y[peptide][0]\n",
    "        del z[peptide][0]\n",
    "\n",
    "    fig = plt.figure()\n",
    "\n",
    "    ax = plt.axes(projection='3d')\n",
    "\n",
    "    for pep in range(len(x)):\n",
    "\n",
    "        # scatter points, making list from torch tensor item\n",
    "        ax.scatter3D([e.item() for e in x[pep]],[e.item() for e in y[pep]],[e.item() for e in z[pep]])\n",
    "\n",
    "    return plt.show()"
   ]
  },
  {
   "cell_type": "code",
   "execution_count": null,
   "metadata": {},
   "outputs": [],
   "source": []
  },
  {
   "cell_type": "code",
   "execution_count": null,
   "metadata": {},
   "outputs": [],
   "source": []
  },
  {
   "cell_type": "code",
   "execution_count": null,
   "metadata": {},
   "outputs": [],
   "source": []
  },
  {
   "cell_type": "code",
   "execution_count": null,
   "metadata": {},
   "outputs": [],
   "source": [
    "from morphoscanner import backend"
   ]
  },
  {
   "cell_type": "code",
   "execution_count": null,
   "metadata": {},
   "outputs": [],
   "source": []
  },
  {
   "cell_type": "code",
   "execution_count": null,
   "metadata": {},
   "outputs": [],
   "source": []
  },
  {
   "cell_type": "code",
   "execution_count": null,
   "metadata": {},
   "outputs": [],
   "source": []
  },
  {
   "cell_type": "code",
   "execution_count": null,
   "metadata": {},
   "outputs": [],
   "source": []
  },
  {
   "cell_type": "code",
   "execution_count": null,
   "metadata": {},
   "outputs": [],
   "source": []
  },
  {
   "cell_type": "code",
   "execution_count": null,
   "metadata": {},
   "outputs": [],
   "source": []
  },
  {
   "cell_type": "code",
   "execution_count": null,
   "metadata": {},
   "outputs": [],
   "source": []
  },
  {
   "cell_type": "code",
   "execution_count": null,
   "metadata": {},
   "outputs": [],
   "source": []
  },
  {
   "cell_type": "code",
   "execution_count": null,
   "metadata": {},
   "outputs": [],
   "source": []
  },
  {
   "cell_type": "code",
   "execution_count": null,
   "metadata": {},
   "outputs": [],
   "source": []
  },
  {
   "cell_type": "code",
   "execution_count": null,
   "metadata": {},
   "outputs": [],
   "source": []
  },
  {
   "cell_type": "code",
   "execution_count": null,
   "metadata": {},
   "outputs": [],
   "source": [
    "universe = mda.Universe(trj_gro, trj_xtc, in_memory=False)"
   ]
  },
  {
   "cell_type": "code",
   "execution_count": null,
   "metadata": {},
   "outputs": [],
   "source": [
    "a = universe.trajectory[150].positions"
   ]
  },
  {
   "cell_type": "code",
   "execution_count": null,
   "metadata": {},
   "outputs": [],
   "source": [
    "b = universe.trajectory[150].positions"
   ]
  },
  {
   "cell_type": "code",
   "execution_count": null,
   "metadata": {},
   "outputs": [],
   "source": [
    "a == b"
   ]
  },
  {
   "cell_type": "code",
   "execution_count": null,
   "metadata": {},
   "outputs": [],
   "source": []
  },
  {
   "cell_type": "code",
   "execution_count": null,
   "metadata": {},
   "outputs": [],
   "source": []
  },
  {
   "cell_type": "code",
   "execution_count": null,
   "metadata": {},
   "outputs": [],
   "source": []
  },
  {
   "cell_type": "code",
   "execution_count": null,
   "metadata": {},
   "outputs": [],
   "source": []
  },
  {
   "cell_type": "code",
   "execution_count": null,
   "metadata": {},
   "outputs": [],
   "source": [
    "def plot_peptide_list(coordinate_dict, peptide_list=None, centroid=False):\n",
    "    '''Plot peptides from a trajectory frame.\n",
    "        Using jupyter-notebook, use '%matplotlib notebook' to\n",
    "        plot the points cloud in 3D.\n",
    "    \n",
    "    Inputs:     coordinate_dict, dict   Is the dict that contains all the coordinate\n",
    "                                        of the atoms of a single frame.\n",
    "                                        A single frame of the output of \n",
    "                                        backend.topology.get_coordinate_dict_from_trajectory \n",
    "                                        is a coordinate_dict.\n",
    "    \n",
    "                peptide_list, list.     is a list of int. Put here the index of the peptide\n",
    "                                        or peptides that you want to plot\n",
    "                                \n",
    "                centroid,   bool.       default=False \n",
    "                                        The centroid of a peptide can be plotted\n",
    "                                        in red together with the selected peptide.\n",
    "                                           \n",
    "    Return:     show a 3D plot\n",
    "    '''\n",
    "    \n",
    "    # if there is only a single peptide to show\n",
    "    # use the single peptide function to normalize axis    \n",
    "    \n",
    "    if peptide_list == None:\n",
    "        peptide_list = [p for p in coordinate_dict]\n",
    "    \n",
    "    \n",
    "    if len(peptide_list) == 1:\n",
    "        \n",
    "        return plot_single_peptide(coordinate_dict[peptide_list[0]])\n",
    "    \n",
    "    else:\n",
    "        \n",
    "        x = []\n",
    "        y = []\n",
    "        z = []\n",
    "        x_median = float\n",
    "        y_median = float\n",
    "        z_median = float\n",
    "\n",
    "\n",
    "        for peptide in range(len(peptide_list)):\n",
    "            x.append([peptide])\n",
    "            y.append([peptide])\n",
    "            z.append([peptide])\n",
    "            for aminoacid in coordinate_dict[peptide_list[peptide]]:\n",
    "\n",
    "                point = coordinate_dict[peptide_list[peptide]][aminoacid]\n",
    "                x[peptide].append(point[0])\n",
    "                y[peptide].append(point[1])\n",
    "                z[peptide].append(point[2])\n",
    "\n",
    "            del x[peptide][0]\n",
    "            del y[peptide][0]\n",
    "            del z[peptide][0]\n",
    "\n",
    "        if centroid == True:\n",
    "\n",
    "            def assemble_coordinate(axis_coordinate_list):\n",
    "                median_list = []\n",
    "                for coordinate_set in axis_coordinate_list:\n",
    "                    median = np.median(coordinate_set)\n",
    "                    median_list.append(median)\n",
    "                return median_list\n",
    "\n",
    "            x_median = assemble_coordinate(x)\n",
    "            y_median = assemble_coordinate(y)\n",
    "            z_median = assemble_coordinate(z)\n",
    "\n",
    "\n",
    "        #%matplotlib notebook\n",
    "\n",
    "        fig = plt.figure()\n",
    "\n",
    "        ax = plt.axes(projection='3d')\n",
    "\n",
    "\n",
    "        for pep in range(len(x)):\n",
    "\n",
    "            ax.scatter3D(x[pep],y[pep],z[pep])\n",
    "\n",
    "            if centroid == True:\n",
    "\n",
    "                ax.scatter3D(x_median[pep], y_median[pep], z_median[pep], c='red')\n",
    "\n",
    "\n",
    "        #return  plt.show(), [x,y,z], [x_median, y_median, z_median]         \n",
    "    return plt.show()"
   ]
  },
  {
   "cell_type": "code",
   "execution_count": null,
   "metadata": {},
   "outputs": [],
   "source": [
    "l1 = [i for i in range(100,1001,100)]"
   ]
  },
  {
   "cell_type": "code",
   "execution_count": null,
   "metadata": {},
   "outputs": [],
   "source": [
    "l2 = [i for i in range(10,101,10)]"
   ]
  },
  {
   "cell_type": "code",
   "execution_count": null,
   "metadata": {},
   "outputs": [],
   "source": [
    "check_for_compatibility(to_split,split_size)"
   ]
  },
  {
   "cell_type": "code",
   "execution_count": null,
   "metadata": {},
   "outputs": [],
   "source": [
    "from morphoscanner.backend.check_val import check_int_and_return, isInt"
   ]
  },
  {
   "cell_type": "code",
   "execution_count": null,
   "metadata": {
    "scrolled": true
   },
   "outputs": [],
   "source": [
    "import sys"
   ]
  },
  {
   "cell_type": "code",
   "execution_count": null,
   "metadata": {},
   "outputs": [],
   "source": [
    "len_dict = morphoscanner.backend.topology.get_peptide_length_dict(peptide_length_list)"
   ]
  },
  {
   "cell_type": "code",
   "execution_count": null,
   "metadata": {},
   "outputs": [],
   "source": []
  },
  {
   "cell_type": "code",
   "execution_count": null,
   "metadata": {},
   "outputs": [],
   "source": []
  },
  {
   "cell_type": "code",
   "execution_count": null,
   "metadata": {},
   "outputs": [],
   "source": [
    "len_dict.get(96)"
   ]
  },
  {
   "cell_type": "code",
   "execution_count": null,
   "metadata": {},
   "outputs": [],
   "source": [
    "ask_for_splitting()"
   ]
  },
  {
   "cell_type": "code",
   "execution_count": null,
   "metadata": {},
   "outputs": [],
   "source": [
    "import numpy as np\n",
    "import matplotlib.pyplot as plt\n",
    "import plotly as px \n",
    "import plotly.graph_objects as go\n",
    "\n",
    "def plot_protein(coordinate_dict):\n",
    "    x = []\n",
    "    y = []\n",
    "    z = []\n",
    "\n",
    "    for residue in coordinate_dict:\n",
    "        point = coordinate_dict[residue]\n",
    "        x.append(point[0])\n",
    "        y.append(point[1])\n",
    "        z.append(point[2])\n",
    "\n",
    "\n",
    "    x = np.asarray(x)\n",
    "    y = np.asarray(y)\n",
    "    z = np.asarray(z)\n",
    "\n",
    "    fig = go.Figure(data = [go.Scatter3d (x = x, y = y, z= z)])\n",
    "    return fig.show()\n",
    "\n",
    "def heatmap2d(arr: np.ndarray):\n",
    "    plt.imshow(arr, cmap = 'viridis', interpolation = 'nearest')\n",
    "    plt.colorbar()\n",
    "    return plt.show()\n",
    "\n",
    "def get_euclidean_distance(point_1, point_2):\n",
    "\n",
    "    euclidean_distance = np.sqrt(np.sum([((point_1[0] - point_2[0])**2), ((point_1[1] - point_2[1])**2), ((point_1[2] - point_2[2])**2)]))\n",
    "\n",
    "    return euclidean_distance\n",
    "\n",
    "def compute_distance_map(coordinate_dict):\n",
    "    i = 0\n",
    "    distance_map = np.zeros((len(coordinate_dict),len(coordinate_dict)))\n",
    "    for  i  in range(i, len(coordinate_dict)-1):\n",
    "        coordinate_1 = coordinate_dict[i] \n",
    "        for j in range(0, len(coordinate_dict)-1):\n",
    "            coordinate_2 = coordinate_dict[j]\n",
    "            euclidean_distance = get_euclidean_distance(coordinate_1, coordinate_2)\n",
    "            distance_map[i][j] = euclidean_distance\n",
    "            distance_map[j][i] = euclidean_distance\n",
    "    return distance_map\n",
    "\n",
    "def contact_map_helix(distance_map):\n",
    "    contact_map = np.zeros((len(distance_map),len(distance_map)))\n",
    "    for i in range(1, len(distance_map)-1):\n",
    "        for j in range(1, len(distance_map)-1):\n",
    "            if 0.45 < distance_map[i][j] < 0.46:\n",
    "                contact_map[i][j] = 1\n",
    "            elif 0.52 < distance_map[i][j] < 0.56:\n",
    "                contact_map[i][j] = 2\n",
    "    return contact_map\n",
    "\n",
    "            \n",
    "    \n",
    "    \n",
    "    \n",
    "    \n",
    "    "
   ]
  },
  {
   "cell_type": "code",
   "execution_count": null,
   "metadata": {},
   "outputs": [],
   "source": [
    "\n",
    "    \n",
    "        "
   ]
  },
  {
   "cell_type": "code",
   "execution_count": null,
   "metadata": {},
   "outputs": [],
   "source": [
    "to_split = check_input_multiple_int_recursive_with_sentence('Write the length of the peptides that you want to split (as an integer): ')"
   ]
  },
  {
   "cell_type": "code",
   "execution_count": null,
   "metadata": {},
   "outputs": [],
   "source": [
    "to_split"
   ]
  },
  {
   "cell_type": "code",
   "execution_count": null,
   "metadata": {},
   "outputs": [],
   "source": []
  },
  {
   "cell_type": "code",
   "execution_count": null,
   "metadata": {},
   "outputs": [],
   "source": [
    "import sys\n",
    "\n",
    "\n",
    "def isInt(s):\n",
    "    '''Check if s is type int and return bool.\n",
    "    \n",
    "    Input: object\n",
    "    \n",
    "    Output: bool'''\n",
    "    \n",
    "    try:\n",
    "        return float(str(s)).is_integer()\n",
    "    except:\n",
    "        return False\n",
    "\n",
    "    \n",
    "    \n",
    "def check_int_and_return(value):\n",
    "    \n",
    "    '''Check int and return value, else raise ValueError and print object type\n",
    "    \n",
    "    Input = object\n",
    "    \n",
    "    Output = int'''\n",
    "\n",
    "    if isInt(value):\n",
    "\n",
    "        return int(value)\n",
    "\n",
    "    else:\n",
    "        raise ValueError(\"%s is not an integer, it is of type %s...\\n \" % (str(value), type(value))) \n",
    "\n",
    "\n",
    "        \n",
    "##############################\n",
    "#############################\n",
    "##############################\n",
    "\n",
    "\n",
    "def ask_for_splitting(limit=5):\n",
    "\n",
    "    answer = input(\"Do you want to split peptides? Write 'yes' or 'no': \")\n",
    "    \n",
    "    if answer not in {'n','no','y','yes'}:\n",
    "        print('This is not a valid answer, please write yes or no.\\n'\n",
    "            '%d trial left.' % limit)\n",
    "        limit -= 1\n",
    "        if limit == 0:\n",
    "            raise sys.exit('Too many wrong inputs. Closing...')\n",
    "        else:\n",
    "            return ask_for_splitting(limit=limit)\n",
    "\n",
    "    elif answer in {'n', 'no'}:\n",
    "        print('The .gro topology file is set as reference for the analysis')\n",
    "        return False\n",
    "\n",
    "    elif answer in {'y', 'yes'}:\n",
    "        return True\n",
    "\n",
    "\n",
    "\n",
    "def check_input_multiple_int_recursive_with_sentence(sentence, limit=5):\n",
    "    \n",
    "    value = input(sentence)\n",
    "    input_list = value.split()\n",
    "    \n",
    "    if len(input_list) == 0:\n",
    "        limit -= 1\n",
    "        \n",
    "        if limit == 0:\n",
    "            raise sys.exit(\"Too many empty inputs. Closing...\")\n",
    "        else:\n",
    "            print('%d trial left.\\n'\n",
    "                  'You forgot to insert a value...please retry.' % limit)\n",
    "            return check_input_multiple_int_recursive_with_sentence(sentence=sentence, limit=limit)\n",
    "    \n",
    "    else:\n",
    "        va_list = []\n",
    "        for val in input_list:\n",
    "            \n",
    "            if isInt(val):\n",
    "                va_list.append(int(val))\n",
    "        \n",
    "                \n",
    "            else:\n",
    "                limit -= 1\n",
    "                print('%d trial left.' % (limit))\n",
    "                if limit == 0:\n",
    "                    raise sys.exit(\"%s is not an integer, it is of type %s...\\nClosing... \" % (str(val), type(val))) \n",
    "                else:\n",
    "                    print(\"%s is not an integer, it is of type %s...\\n \" % (str(val), type(val)))\n",
    "                    return check_input_multiple_int_recursive_with_sentence(sentence=sentence, limit=limit)\n",
    "        \n",
    "        return va_list\n",
    "    \n",
    "    \n",
    "def check_for_compatibility(list1, list2):\n",
    "    if len(list1) == len(list2):\n",
    "        \n",
    "        for e1, e2 in zip(list1, list2):\n",
    "            if e1%e2 != 0:\n",
    "                print('%d is not multiple of %d' % (e1,e2))\n",
    "                return False\n",
    "            \n",
    "        \n",
    "        else:\n",
    "            return True\n",
    "    \n",
    "    else:\n",
    "        raise ValueError('Your lists are of different len! list1 len = %d, list2 len = %d.' % (len(list1), len(list2)))\n",
    "\n",
    "\n",
    "def get_splitting_dict(to_split, split_size):\n",
    "    \n",
    "    splitting_dict = {}\n",
    "    \n",
    "    for length, split_dim in zip(to_split, split_size):\n",
    "        #check for divisibility\n",
    "        if (length%split_dim) == 0:\n",
    "            splitting_dict[length] = split_dim\n",
    "    \n",
    "    return splitting_dict\n",
    "\n",
    "def get_new_peptides_length(peptide_length_list, splitting_dict):\n",
    "    new_peptide_list = []\n",
    "    for pep_length in peptide_length_list:\n",
    "        if pep_length in splitting_dict.keys():\n",
    "            new_size = splitting_dict[pep_length]\n",
    "            new_peptide_list.extend([splitting_dict[pep_length] for p in range((pep_length//new_size))])\n",
    "        else:\n",
    "            new_peptide_list.append(pep_length)\n",
    "    \n",
    "    return new_peptide_list\n",
    "\n",
    "\n",
    "#####################################\n",
    "####################################+\n",
    "#####################################\n",
    "\n",
    "#to complete\n",
    "# i want to get frame and the tensor inside frame object\n",
    "# then continue analysis\n",
    "\n",
    "class frames():\n",
    "    \n",
    "    def __init__(self, frame):\n",
    "        \n",
    "        self.frame = frame\n",
    "        \n",
    "        pass\n",
    "        \n",
    "        \n",
    "#        frame_dict = self.get_frame(frame)\n",
    "#        frame_tensor = distance_tensor.get_coordinate_tensor_from_dict_multi(frame_dict)\n",
    "#        frame_tensor = distance_tensor.cat_tensor_for_size(frame_tensor)\n",
    "     \n",
    "    def get_frame(self):\n",
    "\n",
    "        a_frame = {}\n",
    "        for pep in super().frames[self.frame].peptides:\n",
    "            a_frame[pep] = super().frames[self.frame].peptides[pep].coordinates\n",
    "        \n",
    "        \n",
    "  #  def get_tensor(self):\n",
    "   #     frame_dict = \n",
    "    #    frame_tensor = distance_tensor.get_coordinate_tensor_from_dict_multi(frame_dict)\n",
    "    #    frame_tensor = distance_tensor.cat_tensor_for_size(frame_tensor)\n",
    "\n",
    "#    return a_frame\n",
    "\n",
    "\n",
    "    #def frame_tensor()\n",
    "    \n",
    "    \n",
    "        pass\n",
    "    \n",
    "        \n",
    "\n",
    "# Classes in dev\n",
    "\n",
    "class single_peptide():\n",
    "    \n",
    "    ''' Class that define peptides\n",
    "    \n",
    "    '''\n",
    "    \n",
    "    def __init__(self, sequence, atom_n, coordinates):\n",
    "        \n",
    "        self.sequence = sequence\n",
    "        self.atom_numbers = atom_n\n",
    "        self.coordinates = coordinates\n",
    "        \n",
    "        return\n",
    "\n",
    "    def get_coordinate_from_frame(self, coordinates):\n",
    "        \n",
    "        self\n",
    "        \n",
    "    #do this for each peptide to gather distances\n",
    "    # this is not optimized but still faster than before\n",
    "    def distance(self):\n",
    "        \n",
    "\n",
    "        self.distances = {}\n",
    "        for tens in frame_tensor:\n",
    "\n",
    "            dists[tens] = fast_cdist(frame_tensor[tens], tt.unsqueeze(0))\n",
    "\n",
    "        return dists"
   ]
  },
  {
   "cell_type": "code",
   "execution_count": null,
   "metadata": {},
   "outputs": [],
   "source": [
    "# old one\n",
    "def get_data_from_trajectory_frame_v1(universe, frame, peptide_length_list, atom_to_select='BB'):\n",
    "\n",
    "    # move universe frame to memory\n",
    "    universe.trajectory[frame]\n",
    "\n",
    "    coordinate_dict = {}\n",
    "    residues_dict = {}\n",
    "    atom_number_dict = {}\n",
    "    \n",
    "    res_counter = 0\n",
    "    object_dict = {} # new\n",
    "    #print(length_list)\n",
    "    for pep_index, peptide in enumerate(peptide_length_list):\n",
    "\n",
    "        coordinate_dict[pep_index] = {}\n",
    "        residues_dict[pep_index] = {}\n",
    "        atom_number_dict[pep_index] = {}\n",
    "        \n",
    "        for res in range(peptide):\n",
    "\n",
    "            actual_res = universe.residues[res_counter]\n",
    "            \n",
    "            for index, atom in enumerate(actual_res.atoms):\n",
    "\n",
    "                atom_type = str(atom).split()[2]\n",
    "\n",
    "                if atom_type == atom_to_select:\n",
    "                    \n",
    "                    atom_number = (int(str(atom).split()[1].split(':')[0]) - 1)\n",
    "\n",
    "                    residue_name = (str(atom).split()[8].split(',')[0])\n",
    "\n",
    "                    coordi = universe.atoms[atom_number].position\n",
    "\n",
    "                    coordinate_dict[pep_index][res] = coordi\n",
    "                    residues_dict[pep_index][res] = residue_name\n",
    "                    atom_number_dict[pep_index][res] = atom_number\n",
    "                    \n",
    "                    res_counter += 1\n",
    "        \n",
    "        object_dict[pep_index] = single_peptide(residues_dict[pep_index], atom_number_dict[pep_index], coordinate_dict[pep_index])\n",
    "        \n",
    "                    \n",
    "    return object_dict\n",
    "    #return residues_dict, atom_number_dict"
   ]
  },
  {
   "cell_type": "code",
   "execution_count": null,
   "metadata": {},
   "outputs": [],
   "source": [
    "\n",
    "        "
   ]
  },
  {
   "cell_type": "code",
   "execution_count": null,
   "metadata": {},
   "outputs": [],
   "source": [
    "sum(new_peptide_list)"
   ]
  },
  {
   "cell_type": "code",
   "execution_count": null,
   "metadata": {},
   "outputs": [],
   "source": [
    "sum(peptide_length_list)"
   ]
  },
  {
   "cell_type": "code",
   "execution_count": null,
   "metadata": {},
   "outputs": [],
   "source": [
    "universe = morphoscanner.backend.topology.make_universe(trj_gro,trj_xtc)\n",
    "peptide_length_list = morphoscanner.backend.topology.get_peptide_length_list(trj_gro)\n",
    "len_dict = morphoscanner.backend.topology.get_peptide_length_dict(peptide_length_list)\n",
    "morphoscanner.backend.topology.print_peptides_length(len_dict)\n",
    "have_to_split = ask_for_splitting()\n",
    "if have_to_split:\n",
    "    to_split = check_input_multiple_int_recursive_with_sentence('Write the length of the peptides that you want to split (as integer or list of integer separated by a space): ')\n",
    "    split_size = check_input_multiple_int_recursive_with_sentence('\\nWrite the length in which you want to split your peptides (as integer or list of integer separated by a space).\\n'\n",
    "                                                                 'The list should be of the same length of the list above, \\nthe numbers have to be divisors of the numbers inserted above. ')\n",
    "    compatible = check_for_compatibility(to_split, split_size)\n",
    "    if compatible:\n",
    "        splitting_dict = get_splitting_dict(to_split, split_size)\n",
    "        new_peptides_length = get_new_peptides_length(peptide_length_list, splitting_dict)\n",
    "        print('Splitting done!')"
   ]
  },
  {
   "cell_type": "code",
   "execution_count": null,
   "metadata": {},
   "outputs": [],
   "source": []
  },
  {
   "cell_type": "code",
   "execution_count": null,
   "metadata": {},
   "outputs": [],
   "source": [
    "have_to_split = ask_for_splitting()"
   ]
  },
  {
   "cell_type": "code",
   "execution_count": null,
   "metadata": {},
   "outputs": [],
   "source": [
    "class results():\n",
    "    \n",
    "    def __init__(self, frame):\n",
    "        self.frame = frame\n",
    "        pass\n",
    "\n",
    "    #def get_data(self, data_name, data):\n",
    "        \n",
    "    #    setattr(self, data_name, data)"
   ]
  },
  {
   "cell_type": "code",
   "execution_count": null,
   "metadata": {},
   "outputs": [],
   "source": [
    "class results():\n",
    "    def __init__(self, frame):\n",
    "    \n",
    "        frame = frame\n",
    "        print('Analyzing frame n° ', frame)\n",
    "    \n",
    "        frame_dict = self.get_frame(frame)\n",
    "    \n",
    "        frame_tensor = distance_tensor.get_coordinate_tensor_from_dict(frame_dict)\n",
    "    \n",
    "        start_dist = timer()\n",
    "        frame_distance_maps = distance_tensor.compute_euclidean_norm_torch(frame_tensor)\n",
    "        end_dist = timer()\n",
    "        print('Time to compute distance is: ', (end_dist - start_dist))\n",
    "    \n",
    "        start_contc = timer()\n",
    "        frame_contact = pattern_recognition.compute_contact_maps_as_array(frame_distance_maps)\n",
    "        end_contc = timer()\n",
    "        print('Time to compute contact is: ', (end_contc - start_contc))\n",
    "    \n",
    "        start_den = timer()\n",
    "        frame_denoised, df = pattern_recognition.denoise_contact_maps(frame_contact)\n",
    "        end_den = timer()\n",
    "        print('Time to denoise: ', (end_den-start_den))\n",
    "    \n",
    "        frame_graph_full = graph.graph_v1(frame_denoised, df)\n",
    "        setattr(self, 'graph', frame_graph_full)\n",
    "        \n",
    "        subgraphs = find_subgraph(frame_graph_full)        \n",
    "        setattr(self, 'subgraph', subgraph)"
   ]
  },
  {
   "cell_type": "code",
   "execution_count": null,
   "metadata": {},
   "outputs": [],
   "source": [
    "from morphoscanner import backend, data_acquisition, trj_object\n",
    "from morphoscanner.backend import distance_tensor, pattern_recognition, graph\n",
    "\n",
    "from morphoscanner.backend.check_val import isInt\n",
    "import sys\n",
    "\n",
    "\n",
    "class trajectory:\n",
    "    '''Class to operate on trajectory files.\n",
    "\n",
    "    It makes an object that contain the trajectory of the simulation'''\n",
    "\n",
    "    def __init__(self, trj_gro, trj_xtc, select = None):\n",
    "        \n",
    "        self.trj_gro = trj_gro\n",
    "        self.trj_xtc = trj_xtc\n",
    "        self.universe = backend.topology.make_universe(self.trj_gro, self.trj_xtc)\n",
    "        self.number_of_frames = len(self.universe.trajectory)\n",
    "        #self.number_of_BB_atoms = len(self.universe.select_atoms('name BB'))\n",
    "        \n",
    "        if select == None:\n",
    "            select = ['peptide']\n",
    "            \n",
    "        self.select = select\n",
    "       \n",
    "        self.peptide_length_list = backend.topology.get_peptide_length_list(self.trj_gro, self.select)\n",
    "        \n",
    "        self.len_dict = backend.topology.get_peptide_length_dict(self.peptide_length_list)\n",
    "        \n",
    "        print('In your trajectory there are %d frames.\\n' % self.number_of_frames)\n",
    "        #print('In each frame there are %d BB atoms.\\n' % self.number_of_BB_atoms)\n",
    "        morphoscanner.backend.topology.print_peptides_length(self.len_dict)\n",
    "        \n",
    "        return\n",
    "        \n",
    "        \n",
    "    def split(self, to_split: list, split_size: list):\n",
    "        '''Manually split peptide_length_list in case of seeds.\n",
    "        \n",
    "        Input:\n",
    "            to_split: list\n",
    "                list of int or ints.\n",
    "                Each int refers to the length of a peptides seed\n",
    "                from self.len_dict.keys() that you want to split in single peptide.\n",
    "                For example if in len dict there are seeds of length 96 that you want to split,\n",
    "                to_split = [96]\n",
    "                \n",
    "            split_size: list\n",
    "                list of int or ints.\n",
    "                This is the size in which you want to split your to_split seeds.\n",
    "                For example if you want to split your seeds of length 96 in peptides of length 12,\n",
    "                split_size = [12]\n",
    "                \n",
    "        Output:\n",
    "            Change the original self.peptide_length_list with a new list of splitted peptides.\n",
    "        \n",
    "        '''\n",
    "        \n",
    "        splitting_dict = data_acquisition.script_inputs.get_splitting_dict(to_split, split_size)\n",
    "        self.peptide_length_list = data_acquisition.script_inputs.get_new_peptides_length(self.peptide_length_list, splitting_dict)\n",
    "        print('Splitting done.\\n')\n",
    "        print('\"peptide_length_list\" attribute has been updated with the new length.')\n",
    "        \n",
    "        return    \n",
    "    \n",
    "    def explore(self):\n",
    "        # v1 with frame priority\n",
    "\n",
    "        frame = 0\n",
    "        self.frames = {}\n",
    "        self.frames[frame] = frames(frame)\n",
    "        self.frames[frame].peptides = morphoscanner.backend.topology.get_data_from_trajectory_frame_v2(universe=self.universe, frame=frame, peptide_length_list=self.peptide_length_list, select=self.select)\n",
    "        print('Exploration of frame %d done.\\n' % frame)\n",
    "\n",
    "        return    \n",
    "    \n",
    "    def compose_database(self, sampling_interval=1):\n",
    "        \n",
    "        steps = [s for s in range(self.number_of_frames) if s%sampling_interval==0 and s != 0]\n",
    "        for step in tqdm.tqdm(steps):\n",
    "            self.universe.trajectory[step]\n",
    "            self.frames[step] = frames(step)\n",
    "            self.frames[step].peptides = {}\n",
    "            for pep in self.frames[0].peptides:\n",
    "                c_list = {}\n",
    "\n",
    "                for idx, i in enumerate(self.frames[0].peptides[pep].atom_numbers.values()):\n",
    "                    p = self.universe.atoms[i].position\n",
    "                    c_list[idx] = p\n",
    "\n",
    "                self.frames[step].peptides[pep] = single_peptide(self.frames[0].peptides[pep].sequence,self.frames[0].peptides[pep].atom_numbers,c_list)\n",
    "\n",
    "        return\n",
    "        \n",
    "    def get_frame(self, frame):\n",
    "        \n",
    "        a_frame = {}\n",
    "\n",
    "        for pep in self.frames[frame].peptides:\n",
    "            a_frame[pep] = self.frames[frame].peptides[pep].coordinates\n",
    "\n",
    "        return a_frame\n",
    "    \n",
    "    def get_peptide(self, peptide):\n",
    "    \n",
    "        a_peptide = {}\n",
    "        for frame in self.frames:\n",
    "            \n",
    "            a_peptide[frame] = self.frames[frame].peptides[peptide].coordinates\n",
    "            \n",
    "        return a_peptide\n",
    "    \n",
    "    def analysis(self, frame):\n",
    "    \n",
    "        frame = frame\n",
    "        print('Analyzing frame n° ', frame)\n",
    "    \n",
    "        frame_dict = self.get_frame(frame)\n",
    "    \n",
    "        frame_tensor = distance_tensor.get_coordinate_tensor_from_dict(frame_dict)\n",
    "    \n",
    "        start_dist = timer()\n",
    "        frame_distance_maps = distance_tensor.compute_euclidean_norm_torch(frame_tensor)\n",
    "        end_dist = timer()\n",
    "        print('Time to compute distance is: ', (end_dist - start_dist))\n",
    "    \n",
    "        start_contc = timer()\n",
    "        frame_contact = pattern_recognition.compute_contact_maps_as_array(frame_distance_maps)\n",
    "        end_contc = timer()\n",
    "        print('Time to compute contact is: ', (end_contc - start_contc))\n",
    "    \n",
    "        start_den = timer()\n",
    "        frame_denoised, df = pattern_recognition.denoise_contact_maps(frame_contact)\n",
    "        end_den = timer()\n",
    "        print('Time to denoise: ', (end_den-start_den))\n",
    "    \n",
    "        frame_graph_full = graph.graph_v1(frame_denoised, df)\n",
    "        \n",
    "        subgraphs = graph.find_subgraph(frame_graph_full)        \n",
    "\n",
    "        \n",
    "        try:\n",
    "            self.results[frame] = results(frame)       \n",
    "\n",
    "        except:\n",
    "            self.results = {}\n",
    "            self.results[frame] = results(frame)       \n",
    "\n",
    "        self.results[frame].graph = frame_graph_full\n",
    "        self.results[frame].subgraphs = subgraphs\n",
    "        self.results[frame].cross_correlation = df\n",
    "        \n",
    "        print('Finished analysis of frame n° %d' % frame)\n",
    "        "
   ]
  },
  {
   "cell_type": "code",
   "execution_count": null,
   "metadata": {},
   "outputs": [],
   "source": [
    "t_test = trajectory(trj_gro, trj_xtc)"
   ]
  },
  {
   "cell_type": "code",
   "execution_count": null,
   "metadata": {},
   "outputs": [],
   "source": [
    "#t_test.split([96],[12])"
   ]
  },
  {
   "cell_type": "code",
   "execution_count": null,
   "metadata": {},
   "outputs": [],
   "source": [
    "t_test.explore()"
   ]
  },
  {
   "cell_type": "code",
   "execution_count": null,
   "metadata": {},
   "outputs": [],
   "source": [
    "t_test.compose_database(1)"
   ]
  },
  {
   "cell_type": "code",
   "execution_count": null,
   "metadata": {},
   "outputs": [],
   "source": [
    "t_test.analysis(150)"
   ]
  },
  {
   "cell_type": "code",
   "execution_count": null,
   "metadata": {},
   "outputs": [],
   "source": [
    "import networkx as nx"
   ]
  },
  {
   "cell_type": "code",
   "execution_count": null,
   "metadata": {},
   "outputs": [],
   "source": [
    "nx.draw_networkx(t_test.results[150].graph)"
   ]
  },
  {
   "cell_type": "code",
   "execution_count": null,
   "metadata": {},
   "outputs": [],
   "source": [
    "morphoscanner.plot.plot.plot_peptide_list(t_test.get_frame(150))"
   ]
  },
  {
   "cell_type": "code",
   "execution_count": null,
   "metadata": {},
   "outputs": [],
   "source": [
    "# assemble a coordinate dict for each frame for a peptide\n",
    "# assemble a coordinate dict for each peptide in a single frame"
   ]
  },
  {
   "cell_type": "code",
   "execution_count": null,
   "metadata": {},
   "outputs": [],
   "source": [
    "%matplotlib notebook"
   ]
  },
  {
   "cell_type": "code",
   "execution_count": null,
   "metadata": {},
   "outputs": [],
   "source": [
    "a_frame = {}\n",
    "\n",
    "for pep in t_test.frames[150].peptides:\n",
    "    a_frame[pep] = t_test.frames[150].peptides[pep].coordinates"
   ]
  },
  {
   "cell_type": "code",
   "execution_count": null,
   "metadata": {
    "scrolled": true
   },
   "outputs": [],
   "source": [
    "t_test.frames[0].peptides[15].coordinates"
   ]
  },
  {
   "cell_type": "code",
   "execution_count": null,
   "metadata": {},
   "outputs": [],
   "source": [
    "morphoscanner.plot.plot.plot_single_peptide(t_test.frames[0].peptides[16].coordinates)"
   ]
  },
  {
   "cell_type": "code",
   "execution_count": null,
   "metadata": {
    "scrolled": true
   },
   "outputs": [],
   "source": [
    "# Instantiate universe and peptide list\n",
    "universe = morphoscanner.backend.topology.make_universe(trj_gro,trj_xtc)\n",
    "peptide_length_list = morphoscanner.backend.topology.get_peptide_length_list(trj_gro)\n",
    "\n",
    "\n",
    "coordinate, sequence, atom_number = get_data_from_trajectory_frame(universe, 0, peptide_length_list)\n",
    "\n",
    "peptides_dict = {}\n",
    "for seq, coord, atm_n in zip(sequence, coordinate, atom_number):\n",
    "\n",
    "    peptides_dict[seq] = single_peptide(sequence.get(seq), atom_number.get(atm_n))\n",
    "    \n",
    "    actual_frame = universe.trajectory.trajectory.frame\n",
    "    \n",
    "    peptides_dict[seq].get_coordinate_from_frame(frame=actual_frame, coordinates=coordinate.get(coord))\n",
    "\n",
    "    \n",
    "start = timer()\n",
    "for step in steps:\n",
    "    universe.trajectory[step]\n",
    "    \n",
    "    for pep in peptides_dict:\n",
    "        c_list = {}\n",
    "        \n",
    "        for idx, i in enumerate(peptides_dict[pep].atom_numbers.values()):\n",
    "            p = universe.atoms[i].position\n",
    "            c_list[idx] = p\n",
    "            \n",
    "        peptides_dict[pep].get_coordinate_from_frame(step, c_list)\n",
    "        \n",
    "end = timer()\n",
    "print(end-start)\n"
   ]
  },
  {
   "cell_type": "code",
   "execution_count": null,
   "metadata": {},
   "outputs": [],
   "source": [
    "morphoscanner.plot.plot.plot_peptide_list(t_test.get_peptide(0))"
   ]
  },
  {
   "cell_type": "code",
   "execution_count": null,
   "metadata": {},
   "outputs": [],
   "source": []
  },
  {
   "cell_type": "code",
   "execution_count": null,
   "metadata": {
    "scrolled": false
   },
   "outputs": [],
   "source": []
  },
  {
   "cell_type": "code",
   "execution_count": null,
   "metadata": {},
   "outputs": [],
   "source": [
    "peptides_dict[0].frames.keys()"
   ]
  },
  {
   "cell_type": "code",
   "execution_count": null,
   "metadata": {},
   "outputs": [],
   "source": []
  },
  {
   "cell_type": "code",
   "execution_count": null,
   "metadata": {},
   "outputs": [],
   "source": [
    "#steps = [i for i in range(universe.trajectory.n_frames) if i%10 == 0]\n",
    "steps = [i for i in range(universe.trajectory.n_frames)]\n"
   ]
  },
  {
   "cell_type": "code",
   "execution_count": null,
   "metadata": {},
   "outputs": [],
   "source": []
  },
  {
   "cell_type": "code",
   "execution_count": null,
   "metadata": {},
   "outputs": [],
   "source": []
  },
  {
   "cell_type": "code",
   "execution_count": null,
   "metadata": {},
   "outputs": [],
   "source": [
    "single_process_dict = peptides_dict"
   ]
  },
  {
   "cell_type": "code",
   "execution_count": null,
   "metadata": {},
   "outputs": [],
   "source": [
    "import os\n",
    "import multiprocessing\n",
    "from multiprocessing import Pool\n",
    "\n",
    "#multiprocessing.cpu_count()\n",
    "available_cpu = len(os.sched_getaffinity(0))"
   ]
  },
  {
   "cell_type": "code",
   "execution_count": null,
   "metadata": {},
   "outputs": [],
   "source": []
  },
  {
   "cell_type": "code",
   "execution_count": null,
   "metadata": {},
   "outputs": [],
   "source": [
    "t_test.peptide[0].frames[0]"
   ]
  },
  {
   "cell_type": "code",
   "execution_count": null,
   "metadata": {},
   "outputs": [],
   "source": [
    "def analysis(frame):\n",
    "\n",
    "    # WHY len(frame_denoised) is len(frame_dict)-1 ???????\n",
    "    \n",
    "    frame = frame\n",
    "    print('Analyzing frame n° ', frame)\n",
    "\n",
    "    frame_dict = t_test.get_frame(frame)\n",
    "\n",
    "    frame_tensor = backend.distance_tensor.get_coordinate_tensor_from_dict(frame_dict)\n",
    "\n",
    "    start_dist = timer()\n",
    "    frame_distance_maps = backend.distance_tensor.compute_euclidean_norm_torch(frame_tensor)\n",
    "    end_dist = timer()\n",
    "    print('Time to compute distance is: ', (end_dist - start_dist))\n",
    "\n",
    "    start_contc = timer()\n",
    "    frame_contact = backend.pattern_recognition.compute_contact_maps_as_array(frame_distance_maps)\n",
    "    end_contc = timer()\n",
    "    print('Time to compute contact is: ', (end_contc - start_contc))\n",
    "\n",
    "    start_den = timer()\n",
    "    frame_denoised, df = backend.pattern_recognition.denoise_contact_maps(frame_contact)\n",
    "    end_den = timer()\n",
    "    print('Time to denoise: ', (end_den-start_den))\n",
    "\n",
    "    #frame_graph = backend.graph.nx_graph_search(self.frame_denoised)\n",
    "    \n",
    "    frame_graph_full = backend.graph.graph_v1(frame_denoised, df)\n",
    "\n",
    "    subgraphs = backend.graph.find_subgraph(frame_graph_full)\n",
    "\n",
    "    self.[frame] = results.get_data(self, 'graph', frame_graph_full)\n",
    "    self.results[frame].get_data(self, 'subgraph', subgraphs)\n",
    "             "
   ]
  },
  {
   "cell_type": "code",
   "execution_count": null,
   "metadata": {},
   "outputs": [],
   "source": [
    "t_test.explore()"
   ]
  },
  {
   "cell_type": "code",
   "execution_count": null,
   "metadata": {},
   "outputs": [],
   "source": []
  },
  {
   "cell_type": "code",
   "execution_count": null,
   "metadata": {},
   "outputs": [],
   "source": []
  },
  {
   "cell_type": "code",
   "execution_count": null,
   "metadata": {
    "scrolled": true
   },
   "outputs": [],
   "source": [
    "a_dict = {}"
   ]
  },
  {
   "cell_type": "code",
   "execution_count": null,
   "metadata": {
    "scrolled": true
   },
   "outputs": [],
   "source": [
    "a_dict.update({'a':1, 'b':2})"
   ]
  },
  {
   "cell_type": "code",
   "execution_count": null,
   "metadata": {},
   "outputs": [],
   "source": [
    "a_dict"
   ]
  },
  {
   "cell_type": "code",
   "execution_count": null,
   "metadata": {},
   "outputs": [],
   "source": [
    "a_dict.update({'c':3, 'd':4, 'e': {'a':1, 'b':2, 'c':3}})"
   ]
  },
  {
   "cell_type": "code",
   "execution_count": null,
   "metadata": {},
   "outputs": [],
   "source": [
    "a_dict"
   ]
  },
  {
   "cell_type": "code",
   "execution_count": null,
   "metadata": {},
   "outputs": [],
   "source": [
    "class frames(object):\n",
    "    \n",
    "    pass\n",
    "    \n",
    "    \n",
    "    #def __init__(self, coordinates):\n",
    "        \n",
    "        #self.coordinates = coordinates\n",
    "        \n",
    "        \n",
    "        \n",
    "\n",
    "# Classes in dev\n",
    "\n",
    "class single_peptide():\n",
    "    \n",
    "    ''' Class that define peptides\n",
    "    \n",
    "    '''\n",
    "    \n",
    "    def __init__(self, seq, atom_n):\n",
    "        \n",
    "        self.sequence = seq\n",
    "        self.atom_numbers = atom_n\n",
    "        #self.frames_coordinates = frames()\n",
    "        \n",
    "        return\n",
    "    \n",
    "    \n",
    "#    def get_coordinate_from_frame(self, frame, coordinates):\n",
    "#        \n",
    "#        name = 'frame_' + str(frame)\n",
    "#\n",
    "#        setattr(self.frames_coordinates, name, coordinates)\n",
    "#        \n",
    "#        return\n",
    "    \n",
    "    def get_coordinate_from_frame(self, frame, coordinates):\n",
    "        \n",
    "        \n",
    "        try:\n",
    "            self.frames[frame] = coordinates\n",
    "        except:\n",
    "            self.frames = {}\n",
    "            self.frames[frame] = coordinates\n",
    "        return"
   ]
  },
  {
   "cell_type": "code",
   "execution_count": null,
   "metadata": {},
   "outputs": [],
   "source": []
  },
  {
   "cell_type": "code",
   "execution_count": null,
   "metadata": {},
   "outputs": [],
   "source": []
  },
  {
   "cell_type": "code",
   "execution_count": null,
   "metadata": {},
   "outputs": [],
   "source": []
  },
  {
   "cell_type": "code",
   "execution_count": null,
   "metadata": {},
   "outputs": [],
   "source": []
  },
  {
   "cell_type": "code",
   "execution_count": null,
   "metadata": {},
   "outputs": [],
   "source": []
  },
  {
   "cell_type": "code",
   "execution_count": null,
   "metadata": {},
   "outputs": [],
   "source": []
  },
  {
   "cell_type": "code",
   "execution_count": null,
   "metadata": {},
   "outputs": [],
   "source": []
  },
  {
   "cell_type": "code",
   "execution_count": null,
   "metadata": {},
   "outputs": [],
   "source": [
    "\"\"\"\n",
    "@author: lillo\n",
    "\"\"\"\n",
    "import numpy as np\n",
    "import torch\n",
    "\n",
    "def get_coordinate_from_pdb(file):\n",
    "    '''\n",
    "    Parse a pdb file. Support single chain and multiple chain\n",
    "\n",
    "    Parameters\n",
    "    ----------\n",
    "    file : str\n",
    "        The path of the .pdb file in your system.\n",
    "\n",
    "    Returns\n",
    "    -------\n",
    "    coordinate_dict : dict\n",
    "        A dict of dict with the coordinate of each atom of the pdb file.\n",
    "        \n",
    "        Depending on the input file it has different levels of nesting:\n",
    "            \n",
    "            for single chain:\n",
    "                atom_index : [x,y,z]\n",
    "                \n",
    "            for multiple chain:\n",
    "                \n",
    "                chain_index : {atom index : [x,y,z]}\n",
    "    '''\n",
    "    \n",
    "    with open(file) as pdbfile:\n",
    "\n",
    "        coordinate_dict = {}\n",
    "        atom_count_dict = {}\n",
    "        start = 0\n",
    "\n",
    "        for line in pdbfile:\n",
    "            \n",
    "            # split line\n",
    "            splitted_line = [line[:6], line[6:11], line[12:16], line[17:20], line[21], line[22:26], line[30:38], line[38:46], line[46:54]]\n",
    "            # get line header\n",
    "            line_id = splitted_line[0].split()[0]\n",
    "            \n",
    "            #check for atom and heteroatom\n",
    "            if line_id in {'ATOM', 'HETATM'}:\n",
    "                \n",
    "                # get CA atom only\n",
    "                if splitted_line[2].split()[0] in {'CA'}:\n",
    "                    \n",
    "                    # get atom num for indexing\n",
    "                    atom_num = int(splitted_line[5])\n",
    "                    # get protein chain for indexing\n",
    "                    chain = splitted_line[4]\n",
    "                    # get coordinates\n",
    "                    x, y, z = float(splitted_line[6]), float(splitted_line[7]), float(splitted_line[8])\n",
    "                    \n",
    "                    # check if actual chain already has an entry in coordinate_dict\n",
    "                    if chain not in coordinate_dict.keys():\n",
    "                        \n",
    "                        # index from 'start'\n",
    "                        atom_count_dict[chain] = start\n",
    "                        # create key for new chain\n",
    "                        coordinate_dict[chain] = {}\n",
    "                        # put actual atom coordinates in coordinate_dict\n",
    "                        coordinate_dict[chain][atom_count_dict[chain]] = np.array([x,y,z])\n",
    "                    # if actual chain already in coordinate_dict\n",
    "                    else:\n",
    "                        # move index forward\n",
    "                        atom_count_dict[chain] += 1\n",
    "                        # add the atom coordinates\n",
    "                        coordinate_dict[chain][atom_count_dict[chain]] = np.array([x,y,z])\n",
    "\n",
    "    # if there is only one chain, flat the dict\n",
    "    if len(coordinate_dict) == 1:\n",
    "        coordinate_dict = coordinate_dict.get([k for k in coordinate_dict][0])\n",
    "\n",
    "    return coordinate_dict\n",
    "\n",
    "\n",
    "def get_coordinate_tensor_from_dict(coordinate_dict, device='cuda'):\n",
    "    '''\n",
    "        Convert a coordinate_dict to a torch.tensor, for parallel euclidean distance calculation.\n",
    "        Works on dict in the form {atom_key : [x, y, z]}\n",
    "\n",
    "    Parameters\n",
    "    ----------\n",
    "    coordinate_dict : dict\n",
    "        Is the coordinate_dict in the form {key : [x, y, z]}.\n",
    "        It also works for N-dimensional points.\n",
    "\n",
    "    Returns\n",
    "    -------\n",
    "    zero : torch.tensor\n",
    "        Returns a torch.tensor of shape n x m\n",
    "        'n'  are the keys in coordinate_dict al len(coordinate_dict)\n",
    "        'm' is the number of dimensions of your data points\n",
    "        \n",
    "        It save on gpu if torch.cuda.is_available(), else on cpu\n",
    "        If you want to move your data on cpu, e.g. for visualization,\n",
    "        you need to output_tensor.cpu()\n",
    "    '''\n",
    "    \n",
    "\n",
    "    #variables with dict dimension\n",
    "    dim0 = len(coordinate_dict)\n",
    "    first_key = [k for k in coordinate_dict.keys()][0]\n",
    "    dim1 = len(coordinate_dict[first_key])\n",
    "\n",
    "    #initialize a 0s tensor\n",
    "    #device = torch.device('cuda' if torch.cuda.is_available() else 'cpu')\n",
    "    zero = torch.zeros([dim0,dim1], dtype=torch.float32, device=device)\n",
    "\n",
    "    for index, peptide in enumerate(coordinate_dict):\n",
    "            \n",
    "        zero[index] = torch.tensor(coordinate_dict[peptide], device=device)\n",
    "                \n",
    "    return zero\n",
    "\n",
    "\n",
    "def get_tensors_from_multichain_dict(coordinate_dict):\n",
    "    '''\n",
    "    Generate tensor from multichain coordinate dict.\n",
    "    Your coordinate_dict is in the form:\n",
    "        \n",
    "        {chain : {atom : [x, y, z] }}\n",
    "\n",
    "    Parameters\n",
    "    ----------\n",
    "    coordinate_dict : dict\n",
    "        Your coordinate_dict.\n",
    "        It is in the form:\n",
    "        {chain : {atom : [x, y, z] }}.\n",
    "\n",
    "    Returns\n",
    "    -------\n",
    "    tensor_dict : dict\n",
    "        It is a dict of tensor, one tensor per chain.\n",
    "\n",
    "    '''\n",
    "    tensor_dict = {}\n",
    "    for chain in coordinate_dict:\n",
    "        tensor_dict[chain] = get_coordinate_tensor_from_dict(coordinate_dict[chain])\n",
    "    return tensor_dict\n",
    "\n",
    "\n",
    "def distance_matrix_from_2d_tensor(peptide1_tensor, peptide2_tensor=None, device='cpu'):\n",
    "    '''\n",
    "    Minimal function to calculate euclidean distance between two set of points\n",
    "    using quadratic expansion. Thanks to:\n",
    "            https://discuss.pytorch.org/t/efficient-distance-matrix-computation/9065\n",
    "            https://github.com/pytorch/pytorch/pull/25799\n",
    "            https://github.com/pytorch/pytorch/issues/15253\n",
    "    \n",
    "\n",
    "    Parameters\n",
    "    ----------\n",
    "    peptide1_tensor : torch.tensor\n",
    "        torch.tensor of shape n x d.\n",
    "        \n",
    "    peptide2_tensor : torch.tensor, optional\n",
    "        The default is None.\n",
    "        torch.tensor for which you want to calculate te distance from peptide1_tensor\n",
    "        shape m x p\n",
    "        \n",
    "    device : str, optional\n",
    "        Options: 'cpu', 'cuda'\n",
    "        The default is 'cpu'.\n",
    "        \n",
    "        Is the device on which to compute the calculation.\n",
    "        You can set it to 'cuda' if you have an Nvidia GPU and CUDA driver installed.\n",
    "        \n",
    "        'cuda' will move the data in the GPU memory, so you have to use data.cpu() to move\n",
    "        data back to system memory. data in system memory are needed to plot data\n",
    "\n",
    "    Returns\n",
    "    -------\n",
    "    distance_map : torch.tensor\n",
    "        shape n x p\n",
    "        tensor with the distances data\n",
    "\n",
    "    '''\n",
    "    \n",
    "\n",
    "    if peptide2_tensor == None:\n",
    "        peptide2_tensor = peptide1_tensor\n",
    "\n",
    "    # calculate distance\n",
    "    x_norm = torch.pow(peptide1_tensor, 2).sum(1).view(-1,1)\n",
    "    y_t = torch.transpose(peptide2_tensor, 0, 1)\n",
    "    y_norm = torch.pow(peptide2_tensor, 2).sum(1).view(1,-1)\n",
    "    \n",
    "    distance_map = torch.sqrt(x_norm + y_norm - 2.0 * torch.mm(peptide1_tensor, y_t))\n",
    "    \n",
    "    # convert nan to 0  (using this instead of torch.clamp())       \n",
    "    distance_map[torch.isnan(distance_map)] = 0\n",
    "    \n",
    "    # if you are calculating pointwise distance a single tensor\n",
    "    # main diagonal is 0, to fix stability errors\n",
    "    if peptide1_tensor is peptide2_tensor:\n",
    "        distance_map = distance_map.fill_diagonal_(0)\n",
    "    \n",
    "    return distance_map\n"
   ]
  },
  {
   "cell_type": "code",
   "execution_count": null,
   "metadata": {},
   "outputs": [],
   "source": []
  },
  {
   "cell_type": "code",
   "execution_count": null,
   "metadata": {},
   "outputs": [],
   "source": []
  },
  {
   "cell_type": "code",
   "execution_count": null,
   "metadata": {},
   "outputs": [],
   "source": []
  },
  {
   "cell_type": "code",
   "execution_count": null,
   "metadata": {},
   "outputs": [],
   "source": []
  },
  {
   "cell_type": "code",
   "execution_count": null,
   "metadata": {},
   "outputs": [],
   "source": []
  },
  {
   "cell_type": "code",
   "execution_count": null,
   "metadata": {},
   "outputs": [],
   "source": []
  },
  {
   "cell_type": "code",
   "execution_count": null,
   "metadata": {},
   "outputs": [],
   "source": []
  },
  {
   "cell_type": "code",
   "execution_count": null,
   "metadata": {},
   "outputs": [],
   "source": []
  },
  {
   "cell_type": "code",
   "execution_count": null,
   "metadata": {},
   "outputs": [],
   "source": []
  },
  {
   "cell_type": "code",
   "execution_count": null,
   "metadata": {},
   "outputs": [],
   "source": []
  },
  {
   "cell_type": "code",
   "execution_count": null,
   "metadata": {},
   "outputs": [],
   "source": []
  },
  {
   "cell_type": "code",
   "execution_count": null,
   "metadata": {},
   "outputs": [],
   "source": []
  },
  {
   "cell_type": "code",
   "execution_count": null,
   "metadata": {},
   "outputs": [],
   "source": []
  },
  {
   "cell_type": "code",
   "execution_count": null,
   "metadata": {},
   "outputs": [],
   "source": []
  },
  {
   "cell_type": "code",
   "execution_count": null,
   "metadata": {},
   "outputs": [],
   "source": []
  },
  {
   "cell_type": "code",
   "execution_count": null,
   "metadata": {},
   "outputs": [],
   "source": []
  },
  {
   "cell_type": "code",
   "execution_count": null,
   "metadata": {},
   "outputs": [],
   "source": []
  },
  {
   "cell_type": "code",
   "execution_count": null,
   "metadata": {},
   "outputs": [],
   "source": []
  },
  {
   "cell_type": "code",
   "execution_count": null,
   "metadata": {},
   "outputs": [],
   "source": []
  },
  {
   "cell_type": "code",
   "execution_count": null,
   "metadata": {},
   "outputs": [],
   "source": []
  },
  {
   "cell_type": "code",
   "execution_count": null,
   "metadata": {},
   "outputs": [],
   "source": []
  },
  {
   "cell_type": "code",
   "execution_count": null,
   "metadata": {},
   "outputs": [],
   "source": [
    "## This works if i multiply a tensor with a matrix\n",
    "def fast_cdist(x1, x2):\n",
    "    adjustment = x1.mean(-2, keepdim=True)\n",
    "    x1 = x1 - adjustment\n",
    "    x2 = x2 - adjustment  # x1 and x2 should be identical in all dims except -2 at this point\n",
    "\n",
    "    # Compute squared distance matrix using quadratic expansion\n",
    "    # But be clever and do it with a single matmul call\n",
    "    x1_norm = x1.pow(2).sum(dim=-1, keepdim=True)\n",
    "    x1_pad = torch.ones_like(x1_norm)\n",
    "    x2_norm = x2.pow(2).sum(dim=-1, keepdim=True)\n",
    "    x2_pad = torch.ones_like(x2_norm)\n",
    "    x1_ = torch.cat([-2. * x1, x1_norm, x1_pad], dim=-1)\n",
    "    x2_ = torch.cat([x2, x2_pad, x2_norm], dim=-1)\n",
    "    res = x1_.matmul(x2_.transpose(-2, -1))\n",
    "\n",
    "    # Zero out negative values\n",
    "    #res.clamp_min_(1e-30).sqrt_()\n",
    "    res = res.sqrt()\n",
    "    res[torch.isnan(res)]=0\n",
    "    return res"
   ]
  },
  {
   "cell_type": "code",
   "execution_count": null,
   "metadata": {},
   "outputs": [],
   "source": []
  },
  {
   "cell_type": "code",
   "execution_count": null,
   "metadata": {},
   "outputs": [],
   "source": [
    "#working\n",
    "def compute_distance_between_each_peptide(coordinate_dict):\n",
    "    # instantiate tensor\n",
    "    coordinate_tensor = morphoscanner.backend.distance_tensor.get_coordinate_tensor_from_dict_multi(coordinate_dict)\n",
    "    # group tensor for size\n",
    "    group_tensor, order_tensor = morphoscanner.backend.distance_tensor.cat_tensor_for_size(coordinate_tensor)\n",
    "    \n",
    "    #start = timer()\n",
    "    distance_maps_dict = {}\n",
    "    for tensor in coordinate_tensor:\n",
    "        distance_maps_dict[tensor] = {}\n",
    "        for tensor_group in group_tensor:\n",
    "            index_dict = order_tensor[tensor_group]\n",
    "            distance = fast_cdist(coordinate_tensor[tensor],group_tensor[tensor_group])\n",
    "                      \n",
    "            for map_index, m in enumerate(distance):\n",
    "                real_index = index_dict[map_index]\n",
    "                distance_maps_dict[tensor][real_index] = m\n",
    "\n",
    "    #end = timer()\n",
    "    #print(end-start)\n",
    "    return distance_maps_dict\n",
    "\n"
   ]
  },
  {
   "cell_type": "code",
   "execution_count": null,
   "metadata": {},
   "outputs": [],
   "source": [
    "d_multi = compute_distance_between_each_peptide(multidim.get_frame(0))"
   ]
  },
  {
   "cell_type": "code",
   "execution_count": null,
   "metadata": {
    "scrolled": true
   },
   "outputs": [],
   "source": [
    "d_multi[0][0][0]"
   ]
  },
  {
   "cell_type": "code",
   "execution_count": null,
   "metadata": {
    "scrolled": true
   },
   "outputs": [],
   "source": [
    "plt.imshow(d_multi[20][20])"
   ]
  },
  {
   "cell_type": "code",
   "execution_count": null,
   "metadata": {},
   "outputs": [],
   "source": []
  },
  {
   "cell_type": "code",
   "execution_count": null,
   "metadata": {},
   "outputs": [],
   "source": []
  },
  {
   "cell_type": "code",
   "execution_count": null,
   "metadata": {},
   "outputs": [],
   "source": []
  },
  {
   "cell_type": "code",
   "execution_count": null,
   "metadata": {},
   "outputs": [],
   "source": []
  },
  {
   "cell_type": "code",
   "execution_count": null,
   "metadata": {},
   "outputs": [],
   "source": []
  },
  {
   "cell_type": "code",
   "execution_count": null,
   "metadata": {},
   "outputs": [],
   "source": []
  },
  {
   "cell_type": "code",
   "execution_count": null,
   "metadata": {},
   "outputs": [],
   "source": []
  },
  {
   "cell_type": "code",
   "execution_count": null,
   "metadata": {},
   "outputs": [],
   "source": []
  },
  {
   "cell_type": "code",
   "execution_count": null,
   "metadata": {},
   "outputs": [],
   "source": []
  },
  {
   "cell_type": "code",
   "execution_count": null,
   "metadata": {},
   "outputs": [],
   "source": []
  },
  {
   "cell_type": "code",
   "execution_count": null,
   "metadata": {},
   "outputs": [],
   "source": []
  },
  {
   "cell_type": "code",
   "execution_count": null,
   "metadata": {},
   "outputs": [],
   "source": []
  },
  {
   "cell_type": "code",
   "execution_count": null,
   "metadata": {},
   "outputs": [],
   "source": []
  },
  {
   "cell_type": "code",
   "execution_count": null,
   "metadata": {},
   "outputs": [],
   "source": []
  },
  {
   "cell_type": "code",
   "execution_count": null,
   "metadata": {},
   "outputs": [],
   "source": []
  },
  {
   "cell_type": "code",
   "execution_count": null,
   "metadata": {},
   "outputs": [],
   "source": []
  },
  {
   "cell_type": "code",
   "execution_count": null,
   "metadata": {},
   "outputs": [],
   "source": []
  },
  {
   "cell_type": "code",
   "execution_count": null,
   "metadata": {},
   "outputs": [],
   "source": []
  },
  {
   "cell_type": "code",
   "execution_count": null,
   "metadata": {},
   "outputs": [],
   "source": []
  },
  {
   "cell_type": "code",
   "execution_count": null,
   "metadata": {},
   "outputs": [],
   "source": []
  },
  {
   "cell_type": "code",
   "execution_count": null,
   "metadata": {},
   "outputs": [],
   "source": []
  },
  {
   "cell_type": "code",
   "execution_count": null,
   "metadata": {},
   "outputs": [],
   "source": []
  },
  {
   "cell_type": "code",
   "execution_count": null,
   "metadata": {},
   "outputs": [],
   "source": []
  },
  {
   "cell_type": "code",
   "execution_count": null,
   "metadata": {},
   "outputs": [],
   "source": []
  },
  {
   "cell_type": "code",
   "execution_count": null,
   "metadata": {},
   "outputs": [],
   "source": []
  },
  {
   "cell_type": "code",
   "execution_count": null,
   "metadata": {},
   "outputs": [],
   "source": []
  },
  {
   "cell_type": "code",
   "execution_count": null,
   "metadata": {},
   "outputs": [],
   "source": []
  },
  {
   "cell_type": "code",
   "execution_count": null,
   "metadata": {},
   "outputs": [],
   "source": []
  },
  {
   "cell_type": "code",
   "execution_count": null,
   "metadata": {},
   "outputs": [],
   "source": [
    "# cosa voglio?\n",
    "# voglio fare in modo di accellerare la computazione delle distanze anche tra peptidi di dimensione diversa\n",
    "# utilizzando operazioni tra tensori per parallelizzare i calcoli\n",
    "#\n",
    "# se ho un set di proteine di dimensione diversa,\n",
    "# come faccio il calcolo delle distanze utilizzando i tensori?\n",
    "# \n",
    "# opzione 1\n",
    "# faccio tensori che contengono peptidi della stessa dimensione\n",
    "# poi come metto i risultati in ordine?"
   ]
  },
  {
   "cell_type": "code",
   "execution_count": null,
   "metadata": {},
   "outputs": [],
   "source": []
  },
  {
   "cell_type": "code",
   "execution_count": null,
   "metadata": {},
   "outputs": [],
   "source": [
    "# group tensors of same size in a single tensor, and put them in a dict\n",
    "def cat_tensor_for_size(tensor_dict):\n",
    "    \n",
    "    container_tensor = {}\n",
    "    for i in tensor_dict:\n",
    "        actual_tensor_len = len(tensor_dict[i])\n",
    "\n",
    "        if actual_tensor_len in container_tensor.keys():\n",
    "            container_tensor[actual_tensor_len] = torch.cat((container_tensor[actual_tensor_len],tensor_dict[i].unsqueeze(0)))\n",
    "\n",
    "        else:\n",
    "            container_tensor[actual_tensor_len] = tensor_dict[i].unsqueeze(0)\n",
    "\n",
    "    return container_tensor"
   ]
  },
  {
   "cell_type": "code",
   "execution_count": null,
   "metadata": {},
   "outputs": [],
   "source": []
  },
  {
   "cell_type": "code",
   "execution_count": null,
   "metadata": {
    "scrolled": true
   },
   "outputs": [],
   "source": [
    "test_dict = t_test.get_frame(0)\n",
    "tensor = morphoscanner.backend.distance_tensor.get_coordinate_tensor_from_dict_multi(test_dict)\n",
    "tens_group = cat_tensor_for_size(tensor)\n",
    "tens_group"
   ]
  },
  {
   "cell_type": "code",
   "execution_count": null,
   "metadata": {
    "scrolled": true
   },
   "outputs": [],
   "source": []
  },
  {
   "cell_type": "code",
   "execution_count": null,
   "metadata": {},
   "outputs": [],
   "source": []
  },
  {
   "cell_type": "code",
   "execution_count": null,
   "metadata": {},
   "outputs": [],
   "source": []
  },
  {
   "cell_type": "code",
   "execution_count": null,
   "metadata": {},
   "outputs": [],
   "source": []
  },
  {
   "cell_type": "code",
   "execution_count": null,
   "metadata": {},
   "outputs": [],
   "source": []
  },
  {
   "cell_type": "code",
   "execution_count": null,
   "metadata": {},
   "outputs": [],
   "source": []
  },
  {
   "cell_type": "code",
   "execution_count": null,
   "metadata": {},
   "outputs": [],
   "source": [
    "start = timer()\n",
    "distance = {}\n",
    "for group1 in tens_group:\n",
    "    distance[group1] = {}\n",
    "    for index, tens in enumerate(tens_group[group1]):\n",
    "        distance[group1][index] = {}\n",
    "        for group2 in tens_group:\n",
    "\n",
    "            dist = fast_cdist(tens_group[group2], tens)\n",
    "            distance[group1][index][group2] = dist\n",
    "end = timer()\n",
    "print(end -start)"
   ]
  },
  {
   "cell_type": "code",
   "execution_count": null,
   "metadata": {},
   "outputs": [],
   "source": []
  },
  {
   "cell_type": "code",
   "execution_count": null,
   "metadata": {},
   "outputs": [],
   "source": []
  },
  {
   "cell_type": "code",
   "execution_count": null,
   "metadata": {},
   "outputs": [],
   "source": []
  },
  {
   "cell_type": "code",
   "execution_count": null,
   "metadata": {},
   "outputs": [],
   "source": []
  },
  {
   "cell_type": "code",
   "execution_count": null,
   "metadata": {},
   "outputs": [],
   "source": []
  },
  {
   "cell_type": "code",
   "execution_count": null,
   "metadata": {
    "scrolled": true
   },
   "outputs": [],
   "source": []
  },
  {
   "cell_type": "code",
   "execution_count": null,
   "metadata": {},
   "outputs": [],
   "source": [
    "#frame_dict"
   ]
  },
  {
   "cell_type": "code",
   "execution_count": null,
   "metadata": {},
   "outputs": [],
   "source": [
    "frame_tensor = distance_tensor.get_coordinate_tensor_from_dict_multi(frame_dict)\n",
    "frame_tensor = distance_tensor.cat_tensor_for_size(frame_tensor)"
   ]
  },
  {
   "cell_type": "code",
   "execution_count": null,
   "metadata": {},
   "outputs": [],
   "source": []
  },
  {
   "cell_type": "code",
   "execution_count": null,
   "metadata": {},
   "outputs": [],
   "source": [
    "start = timer()\n",
    "distance = {}\n",
    "for group1 in frame_tensor:\n",
    "    distance[group1] = {}\n",
    "    for index, tens in enumerate(frame_tensor[group1]):\n",
    "        distance[group1][index] = {}\n",
    "        for group2 in frame_tensor:\n",
    "\n",
    "            dist = fast_cdist(frame_tensor[group2], tens)\n",
    "            distance[group1][index][group2] = dist\n",
    "end = timer()\n",
    "print(end -start)"
   ]
  },
  {
   "cell_type": "code",
   "execution_count": null,
   "metadata": {},
   "outputs": [],
   "source": [
    "tt = distance_tensor.get_coordinate_tensor_from_dict_single(t_test.frames[0].peptides[0].coordinates)"
   ]
  },
  {
   "cell_type": "code",
   "execution_count": null,
   "metadata": {},
   "outputs": [],
   "source": [
    "#do this for each peptide to gather distances\n",
    "# this is not optimized but still faster than before\n",
    "def distance():\n",
    "    \n",
    "    dists = {}\n",
    "    for tens in frame_tensor:\n",
    "    \n",
    "        dists[tens] = fast_cdist(frame_tensor[tens], tt.unsqueeze(0))\n",
    "    \n",
    "    return dists"
   ]
  },
  {
   "cell_type": "code",
   "execution_count": null,
   "metadata": {},
   "outputs": [],
   "source": []
  },
  {
   "cell_type": "code",
   "execution_count": null,
   "metadata": {},
   "outputs": [],
   "source": [
    "right = morphoscanner.backend.distance.compute_distance_map(frame_dict, 0, 25)\n",
    "at = distance_tensor.get_coordinate_tensor_from_dict_single(t_test.frames[0].peptides[25].coordinates)\n",
    "bt = distance_tensor.get_coordinate_tensor_from_dict_single(t_test.frames[0].peptides[0].coordinates)\n",
    "abs_dist = abs(right.T - approx.numpy())\n",
    "approx = distance_tensor.fast_cdist(at, bt)\n",
    "np.mean(abs_dist)"
   ]
  },
  {
   "cell_type": "code",
   "execution_count": null,
   "metadata": {},
   "outputs": [],
   "source": []
  },
  {
   "cell_type": "code",
   "execution_count": null,
   "metadata": {},
   "outputs": [],
   "source": []
  },
  {
   "cell_type": "code",
   "execution_count": null,
   "metadata": {},
   "outputs": [],
   "source": []
  },
  {
   "cell_type": "code",
   "execution_count": null,
   "metadata": {},
   "outputs": [],
   "source": []
  },
  {
   "cell_type": "code",
   "execution_count": null,
   "metadata": {},
   "outputs": [],
   "source": []
  },
  {
   "cell_type": "code",
   "execution_count": null,
   "metadata": {},
   "outputs": [],
   "source": []
  },
  {
   "cell_type": "code",
   "execution_count": null,
   "metadata": {},
   "outputs": [],
   "source": []
  },
  {
   "cell_type": "code",
   "execution_count": null,
   "metadata": {},
   "outputs": [],
   "source": []
  },
  {
   "cell_type": "code",
   "execution_count": null,
   "metadata": {},
   "outputs": [],
   "source": []
  },
  {
   "cell_type": "code",
   "execution_count": null,
   "metadata": {},
   "outputs": [],
   "source": []
  },
  {
   "cell_type": "code",
   "execution_count": null,
   "metadata": {},
   "outputs": [],
   "source": []
  },
  {
   "cell_type": "code",
   "execution_count": null,
   "metadata": {},
   "outputs": [],
   "source": []
  },
  {
   "cell_type": "code",
   "execution_count": null,
   "metadata": {},
   "outputs": [],
   "source": []
  },
  {
   "cell_type": "code",
   "execution_count": null,
   "metadata": {},
   "outputs": [],
   "source": []
  },
  {
   "cell_type": "code",
   "execution_count": null,
   "metadata": {},
   "outputs": [],
   "source": []
  },
  {
   "cell_type": "code",
   "execution_count": null,
   "metadata": {},
   "outputs": [],
   "source": []
  },
  {
   "cell_type": "code",
   "execution_count": null,
   "metadata": {
    "scrolled": true
   },
   "outputs": [],
   "source": []
  },
  {
   "cell_type": "code",
   "execution_count": null,
   "metadata": {},
   "outputs": [],
   "source": [
    "def get_data_from_trajectory_frame_v2(universe, frame, select=['aminoacids']):\n",
    "    # move to frame\n",
    "    universe.trajectory[frame]\n",
    "    \n",
    "    temporary_list = []\n",
    "    pep_index = 0\n",
    "\n",
    "    coordinate_dict = {}\n",
    "    residues_dict = {}\n",
    "    atom_number_dict = {}\n",
    "\n",
    "    object_dict = {} # new\n",
    "\n",
    "    #select = ['peptide']\n",
    "\n",
    "    accepted_costituents = []\n",
    "\n",
    "    for element in select:\n",
    "        if element in morphoscanner.molnames.costituents.keys():\n",
    "            try:\n",
    "                accepted_costituents.extend(morphoscanner.molnames.costituents.get(element))\n",
    "\n",
    "            except:\n",
    "                accepted_costituents.append(morphoscanner.molnames.costituents.get(element))\n",
    "        else:\n",
    "            raise ValueError('%s is not a valid key for morphoscanner.molnames.costituents.\\n' % str(select))\n",
    "\n",
    "\n",
    "    for res in universe.residues:\n",
    "        if res.resname in accepted_costituents:\n",
    "\n",
    "            res_num = res.resnum - 1 # -1 becaus id start from 1, but indexing start from 0\n",
    "\n",
    "            atom = res.atoms[0] # always take the first atom of the residues (backbone)\n",
    "\n",
    "            atom_index = atom.id - 1 # -1 becaus id start from 1, but indexing start from 0\n",
    "\n",
    "            atom_coordinate = atom.position\n",
    "\n",
    "            resname = atom.resname\n",
    "\n",
    "\n",
    "            if len(temporary_list) == 0:\n",
    "\n",
    "                temporary_list.append(res_num)\n",
    "\n",
    "                object_dict[pep_index] = {}\n",
    "\n",
    "                coordinate_dict[pep_index] = {}\n",
    "                residues_dict[pep_index] = {}\n",
    "                atom_number_dict[pep_index] = {}\n",
    "\n",
    "\n",
    "            else:\n",
    "                if temporary_list[-1] > res_num:\n",
    "\n",
    "                    object_dict[pep_index] = morphoscanner.trj_object.trj_objects.single_peptide(residues_dict[pep_index], atom_number_dict[pep_index], coordinate_dict[pep_index])\n",
    "\n",
    "                    pep_index += 1\n",
    "\n",
    "                    temporary_list = []\n",
    "                    temporary_list.append(res_num)\n",
    "\n",
    "                    object_dict[pep_index] = {}\n",
    "\n",
    "                    coordinate_dict[pep_index] = {}\n",
    "                    residues_dict[pep_index] = {}\n",
    "                    atom_number_dict[pep_index] = {}\n",
    "\n",
    "\n",
    "                else:\n",
    "                    temporary_list.append(res_num)\n",
    "\n",
    "            coordinate_dict[pep_index][res_num] = atom_coordinate\n",
    "            residues_dict[pep_index][res_num] = resname\n",
    "            atom_number_dict[pep_index][res_num] = atom_index\n",
    "\n",
    "    object_dict[pep_index] = morphoscanner.trj_object.trj_objects.single_peptide(residues_dict[pep_index], atom_number_dict[pep_index], coordinate_dict[pep_index])\n",
    "    \n",
    "    return object_dict"
   ]
  },
  {
   "cell_type": "code",
   "execution_count": null,
   "metadata": {},
   "outputs": [],
   "source": []
  },
  {
   "cell_type": "code",
   "execution_count": null,
   "metadata": {},
   "outputs": [],
   "source": []
  },
  {
   "cell_type": "code",
   "execution_count": null,
   "metadata": {},
   "outputs": [],
   "source": []
  },
  {
   "cell_type": "code",
   "execution_count": null,
   "metadata": {},
   "outputs": [],
   "source": [
    "### USING THIS ONE\n",
    "# to complete\n",
    "# i want to get frame and the tensor inside frame object\n",
    "# then continue analysis\n",
    "\n",
    "class frames():\n",
    "    \n",
    "    def __init__(self, frame):\n",
    "        \n",
    "        self.frame = frame\n",
    "        \n",
    "        pass\n",
    "        \n",
    "\n",
    "    def get_frame(self):\n",
    "\n",
    "        a_frame = {}\n",
    "        for pep in super().frames[self.frame].peptides:\n",
    "            a_frame[pep] = super().frames[self.frame].peptides[pep].coordinates    \n",
    "    \n",
    "        pass\n",
    "    \n",
    "# save results in this\n",
    "\n",
    "class results():\n",
    "    \n",
    "    pass\n",
    "    \n",
    "        \n",
    "\n",
    "# Classes in dev\n",
    "\n",
    "class single_peptide():\n",
    "    \n",
    "    ''' Class that define peptides\n",
    "    \n",
    "    '''\n",
    "    \n",
    "    def __init__(self, sequence, atom_n, coordinates):\n",
    "        \n",
    "        self.sequence = sequence\n",
    "        self.atom_numbers = atom_n\n",
    "        self.coordinates = coordinates\n",
    "        \n",
    "        return\n"
   ]
  },
  {
   "cell_type": "code",
   "execution_count": null,
   "metadata": {},
   "outputs": [],
   "source": [
    "c_dict = {}\n",
    "for index, i in enumerate(a):\n",
    "    #print(object_dict[i].coordinates)\n",
    "    c_dict[index] = a[i].coordinates"
   ]
  },
  {
   "cell_type": "code",
   "execution_count": null,
   "metadata": {},
   "outputs": [],
   "source": [
    "morphoscanner.plot.plot.plot_peptide_list(c_dict)"
   ]
  },
  {
   "cell_type": "code",
   "execution_count": null,
   "metadata": {},
   "outputs": [],
   "source": [
    "# return string in a string with numbers\n",
    "def return_if_string(string):\n",
    "    digits = []\n",
    "    for i in string:\n",
    "        if not i.isdigit():\n",
    "            digits.append(i)\n",
    "\n",
    "    string = ''.join(digits)\n",
    "\n",
    "    return string\n",
    "\n",
    "# return numbers in a string with numbers\n",
    "def return_if_digit(string):\n",
    "    digits = []\n",
    "    for i in string:\n",
    "        if i.isdigit():\n",
    "            digits.append(i)\n",
    "\n",
    "    string = ''.join(digits)\n",
    "\n",
    "    return string\n"
   ]
  },
  {
   "cell_type": "code",
   "execution_count": null,
   "metadata": {},
   "outputs": [],
   "source": [
    "def dispatch_data(atom):\n",
    "    \n",
    "    if type(atom) != list:\n",
    "        \n",
    "        raise ValueError(\"%s is not a list, it is of type %s...\\n \" % (str(atom), type(atom)))\n",
    "    \n",
    "    else:\n",
    "        \n",
    "        atom_number = check_int_and_return(atom[0])\n",
    "        \n",
    "        residue_number = check_int_and_return(atom[1])\n",
    "        \n",
    "        residue_name = atom[2]\n",
    "        \n",
    "        x = float(atom[3])\n",
    "        \n",
    "        y = float(atom[4])\n",
    "        \n",
    "        z = float(atom[5])\n",
    "        \n",
    "    \n",
    "    \n",
    "        return atom_number, residue_number, residue_name, x, y, z"
   ]
  },
  {
   "cell_type": "code",
   "execution_count": 138,
   "metadata": {},
   "outputs": [],
   "source": [
    "from morphoscanner import backend, data_acquisition, trj_object\n",
    "from morphoscanner.backend import distance_tensor, pattern_recognition, graph\n",
    "\n",
    "from morphoscanner.backend.check_val import isInt\n",
    "import sys\n",
    "\n",
    "\n",
    "class trajectory:\n",
    "    '''Class to operate on trajectory files.\n",
    "    It makes an object that contain the trajectory of the simulation.\n",
    "    From this object is possible to conduct analysis'''\n",
    "\n",
    "    def __init__(self, trj_gro, trj_xtc, select = None):\n",
    "        \n",
    "        self.trj_gro = trj_gro\n",
    "        self.trj_xtc = trj_xtc\n",
    "        self.universe = backend.topology.make_universe(self.trj_gro, self.trj_xtc)\n",
    "        self.number_of_frames = len(self.universe.trajectory)\n",
    "        \n",
    "        if select == None:\n",
    "            select = ['aminoacids']\n",
    "            \n",
    "        self.select = select\n",
    "       \n",
    "        self.peptide_length_list = backend.topology.get_peptide_length_list(self.trj_gro, self.select)\n",
    "        \n",
    "        self.len_dict = backend.topology.get_peptide_length_dict(self.peptide_length_list)\n",
    "        \n",
    "        print('In your trajectory there are %d frames.\\n' % self.number_of_frames)\n",
    "\n",
    "        morphoscanner.backend.topology.print_peptides_length(self.len_dict)\n",
    "        \n",
    "        return            \n",
    "        \n",
    "    def split(self, to_split: list, split_size: list):\n",
    "        '''Manually split peptide_length_list in case of seeds.\n",
    "        \n",
    "        Input:\n",
    "            to_split: list\n",
    "                list of int or ints.\n",
    "                Each int refers to the length of a peptides seed\n",
    "                from self.len_dict.keys() that you want to split in single peptide.\n",
    "                For example if in len dict there are seeds of length 96 that you want to split,\n",
    "                to_split = [96]\n",
    "                \n",
    "            split_size: list\n",
    "                list of int or ints.\n",
    "                This is the size in which you want to split your to_split seeds.\n",
    "                For example if you want to split your seeds of length 96 in peptides of length 12,\n",
    "                split_size = [12]\n",
    "                \n",
    "        Output:\n",
    "            Change the original self.peptide_length_list with a new list of splitted peptides.\n",
    "        \n",
    "        '''\n",
    "        \n",
    "        splitting_dict = data_acquisition.script_inputs.get_splitting_dict(to_split, split_size)\n",
    "        self.peptide_length_list = data_acquisition.script_inputs.get_new_peptides_length(self.peptide_length_list, splitting_dict)\n",
    "        print('Splitting done.\\n')\n",
    "        print('\"peptide_length_list\" attribute has been updated with the new length.')\n",
    "        \n",
    "        return    \n",
    "    \n",
    "    def explore(self, frame=0): # you can change the frame number if you want to manually explore other frames\n",
    "    \n",
    "        self.frames = {}\n",
    "        self.frames[frame] = frames(frame)\n",
    "        self.frames[frame].peptides = morphoscanner.backend.topology.get_data_from_trajectory_frame_v2(universe=self.universe, frame=frame, select=self.select)\n",
    "        print('Exploration of frame %d done.\\n' % frame)\n",
    "\n",
    "        return    \n",
    "    \n",
    "    def compose_database(self, sampling_interval=1):\n",
    "        \n",
    "        steps = [s for s in range(self.number_of_frames) if (s % sampling_interval)==0 and (s != 0)]\n",
    "        for step in tqdm.tqdm(steps):\n",
    "            self.universe.trajectory[step]\n",
    "            self.frames[step] = frames(step)\n",
    "            self.frames[step].peptides = {}\n",
    "            for pep in self.frames[0].peptides:\n",
    "                c_list = {}\n",
    "\n",
    "                for idx, i in enumerate(self.frames[0].peptides[pep].atom_numbers.values()):\n",
    "                    p = self.universe.atoms[i].position\n",
    "                    c_list[idx] = p\n",
    "\n",
    "                #self.frames[step].peptides[pep] = single_peptide(self.frames[0].peptides[pep].sequence,self.frames[0].peptides[pep].atom_numbers,c_list)\n",
    "                self.frames[step].peptides[pep] = single_peptide(self.frames[0].peptides[pep].sequence, self.frames[0].peptides[pep].atom_numbers,c_list)\n",
    "        return\n",
    "        \n",
    "    def get_frame(self, frame):\n",
    "        \n",
    "        a_frame = {}\n",
    "\n",
    "        for pep in self.frames[frame].peptides:\n",
    "            a_frame[pep] = self.frames[frame].peptides[pep].coordinates\n",
    "\n",
    "        return a_frame\n",
    "    \n",
    "    def get_peptide(self, peptide):\n",
    "    \n",
    "        a_peptide = {}\n",
    "        for frame in self.frames:\n",
    "            \n",
    "            a_peptide[frame] = self.frames[frame].peptides[peptide].coordinates\n",
    "            \n",
    "        return a_peptide\n",
    "    \n",
    "    \n",
    "    # add something to ask for threshold in main.py\n",
    "    def analysis(self, frame, threshold_multiplier=1.45):\n",
    "        # check if threshold is given\n",
    "        try:\n",
    "            threshold = self.contact_threshold\n",
    "        except:\n",
    "            dic_0 = self.get_frame(0)\n",
    "            frame_distance_0 = compute_distance_and_contact_maps(dic_0, threshold=0, contacts_calculation=False)\n",
    "            threshold = get_threshold_distance(frame_distance_0) * threshold_multiplier\n",
    "            self.contact_threshold = threshold\n",
    "            print(\"Two nearby atoms of different peptides are contacting if the distance is lower than: %s Angstrom\" % str(self.contact_threshold))\n",
    "    \n",
    "        #frame = frame\n",
    "        print('Analyzing frame n° ', frame)\n",
    "    \n",
    "        frame_dict = self.get_frame(frame)\n",
    "    \n",
    "        #frame_tensor = distance_tensor.get_coordinate_tensor_from_dict(frame_dict)\n",
    "    \n",
    "        start_dist = timer()\n",
    "        #frame_distance_maps = distance_tensor.compute_euclidean_norm_torch(frame_tensor)\n",
    "        frame_distance, frame_contact = compute_distance_and_contact_maps(frame_dict, threshold=threshold)\n",
    "        end_dist = timer()\n",
    "        print('Time to compute distance is: ', (end_dist - start_dist))\n",
    "    \n",
    "        #start_contc = timer()\n",
    "        #frame_contact = pattern_recognition.compute_contact_maps_as_array(frame_distance_maps)\n",
    "        #end_contc = timer()\n",
    "        #print('Time to compute contact is: ', (end_contc - start_contc))\n",
    "    \n",
    "        start_den = timer()\n",
    "        #frame_denoised, df = pattern_recognition.denoise_contact_maps(frame_contact)\n",
    "        frame_denoised, df = denoise_contact_maps_torch(frame_contact)\n",
    "\n",
    "        end_den = timer()\n",
    "        print('Time to denoise: ', (end_den-start_den))\n",
    "    \n",
    "        frame_graph_full = graph.graph_v1(frame_denoised, df)\n",
    "        \n",
    "        subgraphs = graph.find_subgraph(frame_graph_full)  \n",
    "        \n",
    "        self.frames[frame].results = results()\n",
    "        self.frames[frame].results.distance_maps = frame_distance\n",
    "        self.frames[frame].results.contact_maps = frame_contact\n",
    "        self.frames[frame].results.cross_correlation = df\n",
    "        self.frames[frame].results.graph = frame_graph_full\n",
    "        self.frames[frame].results.subgraphs = subgraphs\n",
    "        print('Finished analysis of frame n° %d' % frame)\n",
    "        \n",
    "        return\n",
    "    \n",
    "        \n",
    "    def analyze_inLoop(self, threshold=None, threshold_multiplier=1.45):\n",
    "        \n",
    "        if threshold != None:\n",
    "            self.contact_threshold=threshold\n",
    "        else:\n",
    "            pass\n",
    "        \n",
    "        print('processing started...')\n",
    "        start = timer()\n",
    "        for frame in self.frames:\n",
    "            start_an = timer()\n",
    "            self.analysis(frame, threshold_multiplier=threshold_multiplier)\n",
    "            end_an = timer()\n",
    "            text = 'Time needed to analyze frame %d was %f seconds' % (frame, (end_an-start_an))\n",
    "            print(text)\n",
    "\n",
    "        end = timer()\n",
    "\n",
    "\n",
    "        print('Total time to analyze dataset was %f seconds' % (end -start))\n",
    "        return\n",
    "    \n",
    "    \n",
    "    ### THESE HAVE BEEN PORTED FROM OLD TRAJECTORY TO STREAMLINE ANALYSIS OF GLICOSILATED PEPTIDES!\n",
    "    ###\n",
    "    \n",
    "    \n",
    "    def get_sense(self):\n",
    "\n",
    "        ''' Analyze self.frames to retrieve the number of contact \n",
    "            per sense (\"parallel\" and \"antiparallel\")\n",
    "        '''\n",
    "\n",
    "        # instantiate main dict\n",
    "        sense_dict = {}\n",
    "\n",
    "        # loop trough frames\n",
    "        for frame in self.frames:\n",
    "\n",
    "            group = self.frames[frame].results.cross_correlation.groupby('sense').groups\n",
    "\n",
    "            # check for antiparallel key in the frame_data\n",
    "            if 'antiparallel' in group:\n",
    "\n",
    "                # get number of antiparallel contacts\n",
    "                antiparallel = len(group['antiparallel'])\n",
    "\n",
    "            else:\n",
    "                antiparallel = 0\n",
    "\n",
    "            # check for parallel key in the frame_data\n",
    "            if 'parallel' in group:\n",
    "\n",
    "                # get number of parallel contacts\n",
    "                parallel = len(group['parallel'])\n",
    "\n",
    "            else:\n",
    "                parallel = 0\n",
    "\n",
    "            # add frame data to main dict\n",
    "            sense_dict[frame] = {  'parallel' : parallel,\n",
    "                               'antiparallel' : antiparallel}\n",
    "\n",
    "        # at the end convert dict to pandas.DataFrame\n",
    "        self.sense_df = pd.DataFrame.from_dict(sense_dict, orient='index')\n",
    "\n",
    "        return\n",
    "    \n",
    "    \n",
    "    def subgraph_length_peptide(self):\n",
    "        '''Get information about the size of the aggregates in the trajectory\n",
    "        Argument: aggregate\n",
    "        return: dict, keys = frame number,\n",
    "                      value = a sorted list (big to small) of the aggregate size in that frame\n",
    "        '''\n",
    "\n",
    "        if len(self.frames) > 0:\n",
    "\n",
    "            self.subgraph_size_peptide = {}\n",
    "\n",
    "            for key in self.frames.keys():\n",
    "\n",
    "                subgraph_dict = {}\n",
    "\n",
    "                subgraph_dict[key] = morphoscanner.backend.graph.find_subgraph(self.frames[key].results.graph)\n",
    "\n",
    "                len_list = []\n",
    "\n",
    "                for i in subgraph_dict[key]:\n",
    "\n",
    "                    len_list.append(len(i))\n",
    "\n",
    "                len_list.sort(reverse=True)\n",
    "\n",
    "                self.subgraph_size_peptide[key] = [len_list]\n",
    "\n",
    "        self.subgraph_len_pep_df = pd.DataFrame.from_dict(self.subgraph_size_peptide, orient='index', columns=['n° of peptides in macroaggregates'])\n",
    "\n",
    "        #else:\n",
    "         #   print('You have to analyze one or more frame before analyze the results.')\n",
    "         #   print('Use \"Analyze\" or \"AnalyzeInLoop\" on the dataset first!')\n",
    "\n",
    "        return\n",
    "    \n",
    "    \n",
    "    def macroaggregate_sense_data(self):\n",
    "\n",
    "        macroaggregate_sense_dict = {}\n",
    "\n",
    "        for frame in self.frames:\n",
    "            graph = self.frames[frame].results.graph\n",
    "            subs = self.frames[frame].results.subgraphs\n",
    "            #senses = contact_sense_in_subgraph(graph, subs)\n",
    "            #sense_counter = count_sense_in_subgraph(senses)\n",
    "            sense_counter = morphoscanner.backend.graph.sense_in_subgraph(graph, subs)\n",
    "            macroaggregate_sense_dict[frame] = sense_counter\n",
    "\n",
    "        self.macroaggregate_df = pd.DataFrame.from_dict(macroaggregate_sense_dict, orient='index')\n",
    "\n",
    "        return\n",
    "    \n",
    "    \n",
    "    \n",
    "    def number_of_macroaggregate_per_frame(self):\n",
    "        number_of_peptide = {}\n",
    "        for i in self.subgraph_size_peptide:\n",
    "            number_of_peptide[i] = len(self.subgraph_size_peptide[i][0])\n",
    "\n",
    "        self.number_of_peptide_df = pd.DataFrame.from_dict(number_of_peptide, orient='index', columns=['n° of macroaggreates'])\n",
    "\n",
    "        return\n",
    "    \n",
    "    \n",
    "    def shift_profile(self):\n",
    "    \n",
    "        shift_profile = {}\n",
    "        for frame in self.frames:\n",
    "            shift_profile[frame] = {} \n",
    "            for shift_value in self.frames[frame].results.cross_correlation['shift']:\n",
    "                try:\n",
    "                    shift_profile[frame][shift_value] += 1\n",
    "                except:\n",
    "                    shift_profile[frame][shift_value] = 1\n",
    "\n",
    "            f = {k[0]:k[1] for k in sorted(shift_profile[frame].items())}\n",
    "            self.frames[frame].results.shift_profile = f\n",
    "        return\n",
    "\n",
    "\n",
    "    def get_data(self):\n",
    "        self.get_sense()\n",
    "        self.subgraph_length_peptide()\n",
    "        self.macroaggregate_sense_data()\n",
    "        self.number_of_macroaggregate_per_frame()\n",
    "        self.shift_profile()\n",
    "        return\n",
    "    \n",
    "        \n",
    "    def get_database(self):\n",
    "        \n",
    "        self.database = pd.concat((self.subgraph_len_pep_df, self.sense_df, self.number_of_peptide_df, self.macroaggregate_df), axis=1)\n",
    "\n",
    "        return\n",
    "    \n",
    "    \n",
    "    ######################\n",
    "    #############################\n",
    "    #####################\n",
    "    \n",
    "    \n",
    "    def plot_contacts(self):\n",
    "        index = self.database.index\n",
    "        contact = [i+e for i, e in zip(self.database['parallel'], self.database['antiparallel'])]\n",
    "        antiparallel = self.database['antiparallel']\n",
    "    \n",
    "        antip_total_ratio = [anti/cont if cont != 0 else 0 for anti, cont in zip(antiparallel, contact)]\n",
    "        tss = [self.universe.trajectory[i].time for ts in self.universe.trajectory for i in index]\n",
    "        \n",
    "        plt.plot(tss, antip_total_ratio, 'bo')\n",
    "        #plt.xticks([0,250000,500000,750000,1000000],[0,250,500,750,1000])\n",
    "        #plt.xlabel('Time (ps)')\n",
    "        #plt.ylabel('Antiparallel / Total contacts')\n",
    "        plt.xlabel('Time (ns)')\n",
    "        plt.ylabel('β-Sheet Organizational Index')\n",
    "    \n",
    "        return\n",
    "    \n",
    "    \n",
    "    def plot_peptides_in_beta(self):\n",
    "        index = self.database.index\n",
    "        tss = [self.universe.trajectory[i].time for ts in self.universe.trajectory for i in index]\n",
    "        beta = [sum(i) for i in self.database['n° of peptides in macroaggregates']]\n",
    "        plt.plot(tss,beta,'bo')\n",
    "        #plt.xticks([0,250000,500000,750000,1000000],[0,250,500,750,1000])\n",
    "        plt.xlabel('Time (ns)')\n",
    "        plt.ylabel('Peptides in β-sheet')\n",
    "    \n",
    "        return \n",
    "\n",
    "    \n",
    "    def plot_aggregates(self):\n",
    "        index = self.database.index\n",
    "        tss = [self.universe.trajectory[i].time for ts in self.universe.trajectory for i in index]\n",
    "        aggregates = self.database['n° of macroaggreates']\n",
    "        plt.plot(tss, aggregates,'bo')\n",
    "        #plt.xlabel('Time (ps')\n",
    "        #plt.xticks([0,250000,500000,750000,1000000],[0,250,500,750,1000])\n",
    "        plt.xlabel('Time (ns)')\n",
    "        plt.ylabel('N° of macroaggregates')\n",
    "\n",
    "        return\n",
    "    \n",
    "    def plot_shift(self, frame=None):\n",
    "        f = self.frames[frame].results.shift_profile\n",
    "        x = [val for val in f.keys()]\n",
    "        y = [k for k in f.values()]\n",
    "        plt.plot(x, y)\n",
    "        plt.xlabel('Shift value')\n",
    "        plt.ylabel('Number of contacts')\n",
    "        plt.show() \n",
    "        return\n",
    "\n",
    "\n",
    "    def get_subgraphs_sense(self, frame):\n",
    "        '''Retrive information about contact sense of each aggregate\n",
    "        found in self.frames[frame]['subgraphs_full']\n",
    "        Parameters\n",
    "        ----------\n",
    "        frame : int\n",
    "            The frame of which you want to get contact sense informations.\n",
    "        Returns\n",
    "        -------\n",
    "        sense_dict : dict\n",
    "            A dict containing the informations about contacts, in the form:\n",
    "                {'parallel' : int,\n",
    "                 'antiparallel' : int,\n",
    "                 'value' : str}\n",
    "            The key 'value' contains the sense of the predominant contact sense,\n",
    "            'parallel' or 'antiparallale',\n",
    "            or the str 'equal' if both sense have the same number of contacts.\n",
    "        '''\n",
    "        \n",
    "        # check if requested frame have been parsed\n",
    "        if frame not in self.frames:\n",
    "            print('Frame %d is not in the sampled frames\\n' % frame)\n",
    "        else:\n",
    "            # check if in the frame there are aggregate\n",
    "            if len(self.frames[frame].results.subgraphs) < 1:\n",
    "                print('There are no aggregate in frame %d.\\n' % frame)\n",
    "            else:\n",
    "                # if checks are passed\n",
    "                # create empty dict\n",
    "                sense_dict = {}\n",
    "                \n",
    "                # iterate subgraphs\n",
    "                for index_sub, subgraph in enumerate(self.frames[frame].results.subgraphs):\n",
    "                    \n",
    "                    # create a new dict for each aggregate, to store contact sense information\n",
    "                    sense_dict[index_sub] = {'parallel' : 0,\n",
    "                                             'antiparallel' : 0,\n",
    "                                             'value' : 0   }\n",
    "                    # get information about contacts from database\n",
    "                    #  use only peptide1 column to gather contacts one time only \n",
    "                    for index_contact, contact in enumerate(self.frames[frame].results.cross_correlation.peptide1):\n",
    "                        if contact in subgraph:\n",
    "                            sense = (self.frames[frame].results.cross_correlation.iloc[index_contact].sense)\n",
    "                            # add 1 to the right sense counter in the sense_dict\n",
    "                            sense_dict[index_sub][sense] += 1\n",
    "                    # check if contacts number is equal in both senses\n",
    "                    if sense_dict[index_sub]['parallel'] == sense_dict[index_sub]['antiparallel']:\n",
    "                        sense_dict[index_sub]['value'] = 'equal'\n",
    "                    else:\n",
    "                        # if contacts are not equal, get the predominant contact sense\n",
    "                        sense_dict[index_sub]['value'] = max(sense_dict[index_sub], key=sense_dict[index_sub].get)\n",
    "    \n",
    "                return sense_dict\n",
    "    \n",
    "\n",
    "    \n",
    "    \n",
    "    def plot_frame_aggregate(self, frame: int):\n",
    "        '''Plot the frame with color code that identify the\n",
    "        sense of the majority of contacts in an aggregate.\n",
    "        Grey: no contact,\n",
    "        Green: majority of parallel contacts,\n",
    "        Blue: majority of antparallel contacts,\n",
    "        Yellow: equal number of parallel and antiparallel contacts\n",
    "        \n",
    "        The plot can be made interactive using jupyter-notebook,\n",
    "        with:\n",
    "            %matplotlib notebook\n",
    "        Parameters\n",
    "        ----------\n",
    "        frame : int\n",
    "            The frame that you want to plot\n",
    "        Returns\n",
    "        -------\n",
    "        plot\n",
    "            Return a matplotlib.pyplot 3d scatter plot.\n",
    "        '''\n",
    "        \n",
    "        # get predominant contact sense for each aggregate\n",
    "        sense_dict = self.get_subgraphs_sense(frame)\n",
    "        # get subgraphs\n",
    "        subgraphs = self.frames[frame].results.subgraphs\n",
    "        # get coordinate dict\n",
    "        coordinate_dict = self.get_frame(frame)\n",
    "        # make a flat (1D) list of peptide in the aggregates\n",
    "        flat_subgraphs = [pep for group in subgraphs for pep in group]\n",
    "        # create a color dictionary with each sense corresponding to a color\n",
    "        colors = {'parallel' : 'limegreen',\n",
    "                  'antiparallel' : 'b',\n",
    "                  'equal' : 'y',\n",
    "                  'no' : 'gray'}    \n",
    "        \n",
    "        # instantiate empty dict to plot aggregates\n",
    "        x = {}\n",
    "        y = {}\n",
    "        z = {}\n",
    "        # iterate through aggregates\n",
    "        for index_sub, subgraph in enumerate(subgraphs):\n",
    "            # create a list to gather coordinate of each aggregate's atom\n",
    "            x[index_sub] = []\n",
    "            y[index_sub] = []\n",
    "            z[index_sub] = []\n",
    "            # for each peptide in the aggregate\n",
    "            for peptide in subgraph:\n",
    "                # for each atom of the peptide\n",
    "                for atom in coordinate_dict[peptide]:\n",
    "                    # get x, y and z coordinates and save it in the correct list\n",
    "                    x[index_sub].append(coordinate_dict[peptide][atom][0])\n",
    "                    y[index_sub].append(coordinate_dict[peptide][atom][1])\n",
    "                    z[index_sub].append(coordinate_dict[peptide][atom][2])\n",
    "        \n",
    "        # instantiate lists for non contacting peptides\n",
    "        x_not = []\n",
    "        y_not = []\n",
    "        z_not = []\n",
    "        # get coordinate of non contacting peptides\n",
    "        for pep in coordinate_dict:\n",
    "            if pep not in flat_subgraphs:\n",
    "                for atom in coordinate_dict[pep]:\n",
    "                    x_not.append(coordinate_dict[pep][atom][0])\n",
    "                    y_not.append(coordinate_dict[pep][atom][1])\n",
    "                    z_not.append(coordinate_dict[pep][atom][2])\n",
    "        \n",
    "        fig = plt.figure()\n",
    "    \n",
    "        ax = plt.axes(projection='3d')\n",
    "    \n",
    "        # scatter aggregates atoms\n",
    "        for group in x:\n",
    "    \n",
    "            ax.scatter3D(x[group],y[group],z[group], color=colors[sense_dict[group]['value']])\n",
    "        \n",
    "        # scatter non contacting peptides atoms\n",
    "        ax.scatter3D(x_not, y_not, z_not, color=colors['no'])\n",
    "        \n",
    "        return plt.show()\n",
    "    \n",
    "    \n",
    "    def plot_graph(self, frame: int):\n",
    "        '''Plot the frame graph, with visual information about\n",
    "            number of contacts between peptides and sense of the contacts.\n",
    "            \n",
    "            Edge thickness scale with the number of contacts between two\n",
    "            contacting peptides.\n",
    "            \n",
    "            Green edges are parallel contacts.\n",
    "            Blue edges are antiparallel contacts.\n",
    "        Parameters\n",
    "        ----------\n",
    "        frame : int\n",
    "            The frame of which you want to plot the graph.\n",
    "        Returns\n",
    "        -------\n",
    "        plot\n",
    "            matplotlib.pyplot 3d scatter5 plot.\n",
    "        '''\n",
    "    \n",
    "        graph = self.frames[frame].results.graph\n",
    "        \n",
    "        # Used to plot\n",
    "        edges = graph.edges()\n",
    "        colors = [graph[u][v][0]['color'] for u,v in edges]\n",
    "        weights = [graph[u][v][0]['weight'] for u,v in edges]\n",
    "        \n",
    "        # output a plot\n",
    "        return nx.draw_networkx(graph, edges=edges, edge_color=colors, width=weights)\n",
    "\n",
    "    \n",
    "# Use the .gro file but do not select by using the BB nomenclature\n",
    "# Use instead the aminoacids names and numbers on the first element\n",
    "# and compare it with the data inside molnames"
   ]
  },
  {
   "cell_type": "code",
   "execution_count": null,
   "metadata": {},
   "outputs": [],
   "source": [
    "from morphoscanner import backend\n",
    "universe_glico = trajectory(glico_6bis_gro, glico_6bis_trr, select=['aminoacids'])"
   ]
  },
  {
   "cell_type": "code",
   "execution_count": null,
   "metadata": {},
   "outputs": [],
   "source": [
    "universe_glico.explore()"
   ]
  },
  {
   "cell_type": "code",
   "execution_count": null,
   "metadata": {},
   "outputs": [],
   "source": [
    "universe_glico.compose_database(50)"
   ]
  },
  {
   "cell_type": "code",
   "execution_count": null,
   "metadata": {},
   "outputs": [],
   "source": [
    "universe_glico.analyze_inLoop(threshold_multiplier=1.45)"
   ]
  },
  {
   "cell_type": "code",
   "execution_count": null,
   "metadata": {},
   "outputs": [],
   "source": []
  },
  {
   "cell_type": "code",
   "execution_count": null,
   "metadata": {},
   "outputs": [],
   "source": [
    "universe_glico.get_sense()"
   ]
  },
  {
   "cell_type": "code",
   "execution_count": null,
   "metadata": {},
   "outputs": [],
   "source": [
    "universe_glico.get_data()"
   ]
  },
  {
   "cell_type": "code",
   "execution_count": null,
   "metadata": {},
   "outputs": [],
   "source": [
    "universe_glico.get_database()"
   ]
  },
  {
   "cell_type": "code",
   "execution_count": null,
   "metadata": {},
   "outputs": [],
   "source": [
    "universe_glico.database"
   ]
  },
  {
   "cell_type": "code",
   "execution_count": null,
   "metadata": {},
   "outputs": [],
   "source": [
    "universe_glico.plot_peptides_in_beta()"
   ]
  },
  {
   "cell_type": "code",
   "execution_count": null,
   "metadata": {
    "scrolled": true
   },
   "outputs": [],
   "source": [
    "universe_glico.plot_aggregates()"
   ]
  },
  {
   "cell_type": "code",
   "execution_count": null,
   "metadata": {},
   "outputs": [],
   "source": [
    "universe_glico.plot_contacts()"
   ]
  },
  {
   "cell_type": "code",
   "execution_count": null,
   "metadata": {},
   "outputs": [],
   "source": [
    "universe_glico.plot_frame_aggregate(250)"
   ]
  },
  {
   "cell_type": "code",
   "execution_count": null,
   "metadata": {},
   "outputs": [],
   "source": [
    "universe_glico.plot_graph(250)"
   ]
  },
  {
   "cell_type": "code",
   "execution_count": null,
   "metadata": {},
   "outputs": [],
   "source": [
    "self = universe_glico "
   ]
  },
  {
   "cell_type": "code",
   "execution_count": null,
   "metadata": {},
   "outputs": [],
   "source": [
    "universe_glico.frames[250].results.cross_correlation"
   ]
  },
  {
   "cell_type": "code",
   "execution_count": null,
   "metadata": {},
   "outputs": [],
   "source": [
    "universe_glico.plot_shift(200)"
   ]
  },
  {
   "cell_type": "code",
   "execution_count": null,
   "metadata": {},
   "outputs": [],
   "source": [
    "universe_glico.frames[250].results.shift_profile"
   ]
  },
  {
   "cell_type": "code",
   "execution_count": null,
   "metadata": {},
   "outputs": [],
   "source": []
  },
  {
   "cell_type": "code",
   "execution_count": null,
   "metadata": {},
   "outputs": [],
   "source": [
    "aminoacids_name = '/home/lillo/Documenti/Tesi_CNTE/Martini_ff/Martini_itp/from_fede_cluster/martini_v2.2_aminoacids.itp'\n",
    "solvents_name = '/home/lillo/Documenti/Tesi_CNTE/Martini_ff/Martini_itp/from_fede_cluster/martini_v2.0_solvents.itp'\n",
    "ions_name = '/home/lillo/Documenti/Tesi_CNTE/Martini_ff/Martini_itp/from_fede_cluster/martini_v2.0_ions.itp'\n",
    "water_name = '/home/lillo/Documenti/Tesi_CNTE/Martini_ff/Martini_itp/from_fede_cluster/martini_v2.2.itp'\n",
    "sugars_name = '/home/lillo/Documenti/Tesi_CNTE/Martini_ff/Martini_itp/05-2020/martini_v2.0_sugars.itp'"
   ]
  },
  {
   "cell_type": "code",
   "execution_count": null,
   "metadata": {},
   "outputs": [],
   "source": [
    "def get_molnames(path):\n",
    "    name_list = []\n",
    "    flag = False\n",
    "    with open(path) as martini_amino:\n",
    "        for line in martini_amino:\n",
    "            if flag:\n",
    "                name_list.append(line.split()[0])\n",
    "                flag = False\n",
    "\n",
    "            if len(line.split()) > 1:\n",
    "                actual_line = line.split()\n",
    "\n",
    "                actual_line = [i.split(';') for i in actual_line]\n",
    "                if 'molname' in actual_line[1] or 'molname' in actual_line[0]:\n",
    "                    flag = True\n",
    "    return name_list"
   ]
  },
  {
   "cell_type": "code",
   "execution_count": null,
   "metadata": {},
   "outputs": [],
   "source": []
  },
  {
   "cell_type": "code",
   "execution_count": null,
   "metadata": {},
   "outputs": [],
   "source": []
  },
  {
   "cell_type": "code",
   "execution_count": null,
   "metadata": {},
   "outputs": [],
   "source": []
  },
  {
   "cell_type": "code",
   "execution_count": null,
   "metadata": {},
   "outputs": [],
   "source": []
  },
  {
   "cell_type": "code",
   "execution_count": null,
   "metadata": {},
   "outputs": [],
   "source": []
  },
  {
   "cell_type": "code",
   "execution_count": null,
   "metadata": {},
   "outputs": [],
   "source": []
  },
  {
   "cell_type": "code",
   "execution_count": null,
   "metadata": {},
   "outputs": [],
   "source": []
  },
  {
   "cell_type": "code",
   "execution_count": null,
   "metadata": {},
   "outputs": [],
   "source": []
  },
  {
   "cell_type": "code",
   "execution_count": null,
   "metadata": {},
   "outputs": [],
   "source": []
  },
  {
   "cell_type": "code",
   "execution_count": null,
   "metadata": {},
   "outputs": [],
   "source": []
  },
  {
   "cell_type": "code",
   "execution_count": null,
   "metadata": {},
   "outputs": [],
   "source": []
  },
  {
   "cell_type": "code",
   "execution_count": null,
   "metadata": {},
   "outputs": [],
   "source": []
  },
  {
   "cell_type": "code",
   "execution_count": null,
   "metadata": {},
   "outputs": [],
   "source": []
  },
  {
   "cell_type": "code",
   "execution_count": null,
   "metadata": {
    "scrolled": true
   },
   "outputs": [],
   "source": []
  },
  {
   "cell_type": "code",
   "execution_count": null,
   "metadata": {},
   "outputs": [],
   "source": []
  },
  {
   "cell_type": "code",
   "execution_count": null,
   "metadata": {},
   "outputs": [],
   "source": []
  },
  {
   "cell_type": "code",
   "execution_count": null,
   "metadata": {},
   "outputs": [],
   "source": []
  },
  {
   "cell_type": "code",
   "execution_count": null,
   "metadata": {},
   "outputs": [],
   "source": [
    "uni = universe.select_atoms('not name W WF CL- NA+')"
   ]
  },
  {
   "cell_type": "code",
   "execution_count": null,
   "metadata": {},
   "outputs": [],
   "source": []
  },
  {
   "cell_type": "code",
   "execution_count": null,
   "metadata": {},
   "outputs": [],
   "source": []
  },
  {
   "cell_type": "code",
   "execution_count": null,
   "metadata": {},
   "outputs": [],
   "source": []
  },
  {
   "cell_type": "code",
   "execution_count": null,
   "metadata": {},
   "outputs": [],
   "source": []
  },
  {
   "cell_type": "code",
   "execution_count": null,
   "metadata": {},
   "outputs": [],
   "source": []
  },
  {
   "cell_type": "code",
   "execution_count": null,
   "metadata": {},
   "outputs": [],
   "source": []
  },
  {
   "cell_type": "code",
   "execution_count": null,
   "metadata": {},
   "outputs": [],
   "source": []
  },
  {
   "cell_type": "code",
   "execution_count": null,
   "metadata": {},
   "outputs": [],
   "source": []
  },
  {
   "cell_type": "code",
   "execution_count": null,
   "metadata": {},
   "outputs": [],
   "source": []
  },
  {
   "cell_type": "code",
   "execution_count": null,
   "metadata": {},
   "outputs": [],
   "source": []
  },
  {
   "cell_type": "code",
   "execution_count": null,
   "metadata": {},
   "outputs": [],
   "source": []
  },
  {
   "cell_type": "code",
   "execution_count": null,
   "metadata": {},
   "outputs": [],
   "source": []
  },
  {
   "cell_type": "code",
   "execution_count": null,
   "metadata": {},
   "outputs": [],
   "source": []
  },
  {
   "cell_type": "code",
   "execution_count": null,
   "metadata": {},
   "outputs": [],
   "source": []
  },
  {
   "cell_type": "code",
   "execution_count": null,
   "metadata": {},
   "outputs": [],
   "source": []
  },
  {
   "cell_type": "code",
   "execution_count": null,
   "metadata": {},
   "outputs": [],
   "source": []
  },
  {
   "cell_type": "code",
   "execution_count": null,
   "metadata": {},
   "outputs": [],
   "source": []
  },
  {
   "cell_type": "code",
   "execution_count": null,
   "metadata": {},
   "outputs": [],
   "source": []
  },
  {
   "cell_type": "code",
   "execution_count": null,
   "metadata": {},
   "outputs": [],
   "source": [
    "frame = 250\n",
    "\n",
    "frame_dict = universe_glico.get_frame(frame)\n",
    "\n",
    "frame_tensor = distance_tensor.get_coordinate_tensor_from_dict(frame_dict)\n",
    "\n",
    "start_dist = timer()\n",
    "frame_distance_maps = distance_tensor.compute_euclidean_norm_torch(frame_tensor)\n",
    "end_dist = timer()\n",
    "print('Time to compute distance is: ', (end_dist - start_dist))\n",
    "\n",
    "start_contc = timer()\n",
    "frame_contact = pattern_recognition.compute_contact_maps_as_array(frame_distance_maps)\n",
    "end_contc = timer()\n",
    "print('Time to compute contact is: ', (end_contc - start_contc))\n",
    "\n",
    "start_den = timer()\n",
    "frame_denoised, df = pattern_recognition.denoise_contact_maps(frame_contact)\n",
    "end_den = timer()\n",
    "print('Time to denoise: ', (end_den-start_den))\n",
    "\n",
    "frame_graph_full = graph.graph_v1(frame_denoised, df)\n",
    "\n",
    "subgraphs = graph.find_subgraph(frame_graph_full)  "
   ]
  },
  {
   "cell_type": "code",
   "execution_count": null,
   "metadata": {},
   "outputs": [],
   "source": [
    "plt.imshow(frame_distance_maps[0][0])"
   ]
  },
  {
   "cell_type": "code",
   "execution_count": null,
   "metadata": {},
   "outputs": [],
   "source": [
    "morphoscanner.plot.plot.plot_peptide_list(universe_glico.get_frame(250), [0])"
   ]
  },
  {
   "cell_type": "code",
   "execution_count": null,
   "metadata": {},
   "outputs": [],
   "source": [
    "plt.imshow(frame_contact[0][25])"
   ]
  },
  {
   "cell_type": "code",
   "execution_count": null,
   "metadata": {},
   "outputs": [],
   "source": [
    "plt.imshow(frame_denoised[0][25])"
   ]
  },
  {
   "cell_type": "code",
   "execution_count": null,
   "metadata": {
    "scrolled": true
   },
   "outputs": [],
   "source": [
    "universe_glico.frames[250].results.cross_correlation"
   ]
  },
  {
   "cell_type": "code",
   "execution_count": null,
   "metadata": {},
   "outputs": [],
   "source": []
  },
  {
   "cell_type": "code",
   "execution_count": null,
   "metadata": {},
   "outputs": [],
   "source": []
  },
  {
   "cell_type": "code",
   "execution_count": null,
   "metadata": {},
   "outputs": [],
   "source": []
  },
  {
   "cell_type": "code",
   "execution_count": null,
   "metadata": {},
   "outputs": [],
   "source": []
  },
  {
   "cell_type": "code",
   "execution_count": null,
   "metadata": {},
   "outputs": [],
   "source": []
  },
  {
   "cell_type": "code",
   "execution_count": null,
   "metadata": {},
   "outputs": [],
   "source": [
    "multidim = trajectory(trj_gro, trj_xtc)"
   ]
  },
  {
   "cell_type": "code",
   "execution_count": null,
   "metadata": {},
   "outputs": [],
   "source": [
    "multidim.explore()"
   ]
  },
  {
   "cell_type": "code",
   "execution_count": null,
   "metadata": {},
   "outputs": [],
   "source": [
    "m_dict = multidim.get_frame(0)"
   ]
  },
  {
   "cell_type": "code",
   "execution_count": null,
   "metadata": {},
   "outputs": [],
   "source": [
    "m_tens = morphoscanner.backend.distance_tensor.get_coordinate_tensor_from_dict_multi(m_dict)"
   ]
  },
  {
   "cell_type": "code",
   "execution_count": null,
   "metadata": {},
   "outputs": [],
   "source": [
    "group_tensor, peptide_order = morphoscanner.backend.distance_tensor.cat_tensor_for_size(m_tens)"
   ]
  },
  {
   "cell_type": "code",
   "execution_count": null,
   "metadata": {},
   "outputs": [],
   "source": [
    "group_tens = morphoscanner.backend.distance_tensor.cat_tensor_for_size(m_tens)\n",
    "for tensor in m_tens:\n",
    "    for tensor_group in group_tens:\n",
    "        distance = morphoscanner.backend.distance_tensor.fast_cdist(group_tens[tensor_group], m_tens[tensor])\n",
    "    "
   ]
  },
  {
   "cell_type": "code",
   "execution_count": null,
   "metadata": {},
   "outputs": [],
   "source": []
  },
  {
   "cell_type": "code",
   "execution_count": null,
   "metadata": {},
   "outputs": [],
   "source": [
    "group_tensor"
   ]
  },
  {
   "cell_type": "code",
   "execution_count": null,
   "metadata": {},
   "outputs": [],
   "source": [
    "morphoscanner.plot.plot.plot_peptide_list(m_dict)"
   ]
  },
  {
   "cell_type": "code",
   "execution_count": null,
   "metadata": {},
   "outputs": [],
   "source": [
    "plt.imshow(distance_0_all[0].cpu())"
   ]
  },
  {
   "cell_type": "code",
   "execution_count": null,
   "metadata": {},
   "outputs": [],
   "source": [
    "plt.close()"
   ]
  },
  {
   "cell_type": "code",
   "execution_count": null,
   "metadata": {},
   "outputs": [],
   "source": [
    "# ho un dict con dentro un dict per ogni peptide in cui key:val is res_number:[x,y,z].\n",
    "# faccio un dict dove {key:value} è {peptide_index:tensor of shape n x 3}, dove n è il numero di residui del peptide.\n",
    "# raggruppo in un dict per dimensione, dove {key:val} is {numero di residui : tensore of shape m x n x 3\n",
    "# dove 'm' è il numero di peptidi, 'n' è il numero di residui nei peptidi, 3 è [x,y,z].\n",
    "\n",
    "#"
   ]
  },
  {
   "cell_type": "code",
   "execution_count": null,
   "metadata": {},
   "outputs": [],
   "source": [
    "# group tensors of same size in a single tensor, and put them in a dict\n",
    "def cat_tensor_for_size(tensor_dict):\n",
    "    '''Group 2D tensors of same shape in a 3D tensor,\n",
    "        and then put in a dict.\n",
    "\n",
    "    Parameters\n",
    "    ----------\n",
    "    tensor_dict : dict\n",
    "        output of get_coordinate_tensor_from_dict_multi\n",
    "\n",
    "    Returns\n",
    "    -------\n",
    "    container_tensor : dict\n",
    "        a dict for a key for each tensor size, of which value is a 3D tensor\n",
    "        that contains all the 2D tensor of same shape.\n",
    "\n",
    "    '''\n",
    "    \n",
    "    container_tensor = {}\n",
    "    peptide_index_in_tensor = {}\n",
    "    \n",
    "    for i in tensor_dict:\n",
    "        actual_tensor_len = len(tensor_dict[i])\n",
    "\n",
    "\n",
    "        if actual_tensor_len in container_tensor.keys():\n",
    "            container_tensor[actual_tensor_len] = torch.cat((container_tensor[actual_tensor_len],tensor_dict[i].unsqueeze(0)))\n",
    "            peptide_index_in_tensor[actual_tensor_len][len(peptide_index_in_tensor[actual_tensor_len])] = i\n",
    "        else:\n",
    "            container_tensor[actual_tensor_len] = tensor_dict[i].unsqueeze(0)\n",
    "            peptide_index_in_tensor[actual_tensor_len] = {}\n",
    "            peptide_index_in_tensor[actual_tensor_len][len(peptide_index_in_tensor[actual_tensor_len])] = i\n",
    "\n",
    "\n",
    "    return container_tensor, peptide_index_in_tensor"
   ]
  },
  {
   "cell_type": "code",
   "execution_count": null,
   "metadata": {},
   "outputs": [],
   "source": [
    "g_tens, tens_ord = cat_tensor_for_size(m_tens)"
   ]
  },
  {
   "cell_type": "code",
   "execution_count": null,
   "metadata": {},
   "outputs": [],
   "source": [
    "#working\n",
    "def compute_distance_between_each_peptide(coordinate_dict):\n",
    "    # instantiate tensor\n",
    "    coordinate_tensor = morphoscanner.backend.distance_tensor.get_coordinate_tensor_from_dict_multi(coordinate_dict)\n",
    "    # group tensor for size\n",
    "    group_tensor, order_tensor = morphoscanner.backend.distance_tensor.cat_tensor_for_size(coordinate_tensor)\n",
    "    \n",
    "    #start = timer()\n",
    "    distance_maps_dict = {}\n",
    "    for tensor in coordinate_tensor:\n",
    "        distance_maps_dict[tensor] = {}\n",
    "        for tensor_group in group_tensor:\n",
    "            index_dict = order_tensor[tensor_group]\n",
    "            distance = morphoscanner.backend.distance_tensor.fast_cdist(coordinate_tensor[tensor],group_tensor[tensor_group])\n",
    "                      \n",
    "            for map_index, m in enumerate(distance):\n",
    "                real_index = index_dict[map_index]\n",
    "                distance_maps_dict[tensor][real_index] = m\n",
    "\n",
    "    #end = timer()\n",
    "    #print(end-start)\n",
    "    return distance_maps_dict\n",
    "\n",
    "d_multi = compute_distance_between_each_peptide(multidim.get_frame(0))"
   ]
  },
  {
   "cell_type": "code",
   "execution_count": null,
   "metadata": {},
   "outputs": [],
   "source": [
    "d_multi = compute_distance_between_each_peptide(multidim.get_frame(0))"
   ]
  },
  {
   "cell_type": "code",
   "execution_count": null,
   "metadata": {},
   "outputs": [],
   "source": [
    "d_multi[0][0]"
   ]
  },
  {
   "cell_type": "code",
   "execution_count": null,
   "metadata": {},
   "outputs": [],
   "source": []
  },
  {
   "cell_type": "code",
   "execution_count": null,
   "metadata": {},
   "outputs": [],
   "source": [
    "exact = morphoscanner.backend.distance.compute_distance_maps_from_coordinate_dict(multidim.get_frame(0))"
   ]
  },
  {
   "cell_type": "code",
   "execution_count": null,
   "metadata": {},
   "outputs": [],
   "source": [
    "t = compute_distance_between_each_peptide(multidim.get_frame(0))"
   ]
  },
  {
   "cell_type": "code",
   "execution_count": null,
   "metadata": {},
   "outputs": [],
   "source": [
    "# calculate error between exact and approximation\n",
    "mean_d = []\n",
    "for idx_first, exact_first in enumerate(exact):\n",
    "    for idx_second, exact_second in enumerate(exact_first):\n",
    "        difference = np.mean(abs(exact_second - t[idx_first][idx_second].numpy()))\n",
    "        mean_d.append(difference)\n",
    "        "
   ]
  },
  {
   "cell_type": "code",
   "execution_count": null,
   "metadata": {},
   "outputs": [],
   "source": [
    "np.max(mean_d)"
   ]
  },
  {
   "cell_type": "code",
   "execution_count": null,
   "metadata": {},
   "outputs": [],
   "source": [
    "# COMPUTE CONTACT MAPS\n",
    "# TO DO: parametrize the threshold distance in a better way (e.g. )\n",
    "# DISTANCE MAP ARRAY WILL NOT EXIST IN DISTINCT PEPTIDE SIZE SIMULATION\n",
    "def compute_contact_maps_as_array(distance_maps_array, radius_multiplier=1.5):      ## TAKE INPUT FOR RADIUS MULTIPLIER\n",
    "\n",
    "    # median consecutive residues distance from first peptide\n",
    "    distances_pep_1 = []\n",
    "    for i in range(distance_maps_array[0][0].shape[0] - 1): # there was a -1, and len(denoised_dict) was len(coordinate_dict)-1\n",
    "        distances_pep_1.append(distance_maps_array[0][0][i][i+1])\n",
    "\n",
    "    intrapeptide_minimum_distance = np.median(distances_pep_1)\n",
    "\n",
    "    #temporary list\n",
    "    contact_map_list = []\n",
    "\n",
    "    # contact is in a distance up to 150% of the intrapeptide_minimum_distance [TO IMPROVE!!!]\n",
    "    threshold_distance = (intrapeptide_minimum_distance * radius_multiplier)\n",
    "\n",
    "    for model_1 in range(distance_maps_array.shape[0]):\n",
    "        contact_map_list.append([])\n",
    "        for model_2 in range(distance_maps_array[model_1].shape[0]):\n",
    "\n",
    "            contact_map_list[model_1].append([])\n",
    "\n",
    "            if model_1 == model_2:\n",
    "\n",
    "                contact_map_list[model_1][model_2].extend(np.zeros((distance_maps_array.shape[2], distance_maps_array.shape[3])))\n",
    "\n",
    "            else:\n",
    "\n",
    "                contact_map = np.zeros((distance_maps_array.shape[2], distance_maps_array.shape[3]))\n",
    "\n",
    "                for chain_1 in range(distance_maps_array[model_1][model_2].shape[0]):\n",
    "\n",
    "                    for chain_2 in range(distance_maps_array[model_1][model_2][chain_1].shape[0]):\n",
    "\n",
    "                        distance = distance_maps_array[model_1][model_2][chain_1][chain_2]\n",
    "\n",
    "                        if distance < threshold_distance:\n",
    "                            contact_map[chain_1][chain_2] = 1 #True\n",
    "                        else:\n",
    "                            pass\n",
    "\n",
    "                contact_map_list[model_1][model_2].extend(contact_map)\n",
    "\n",
    "    contact_array = np.asarray(contact_map_list)\n",
    "\n",
    "    return contact_array"
   ]
  },
  {
   "cell_type": "code",
   "execution_count": null,
   "metadata": {},
   "outputs": [],
   "source": [
    "# Usa matrix multiplication to compute contact maps"
   ]
  },
  {
   "cell_type": "code",
   "execution_count": null,
   "metadata": {},
   "outputs": [],
   "source": [
    "for i in t:\n",
    "    for e in t[i]:\n",
    "        print(t[i][e].shape)"
   ]
  },
  {
   "cell_type": "code",
   "execution_count": null,
   "metadata": {},
   "outputs": [],
   "source": []
  },
  {
   "cell_type": "code",
   "execution_count": null,
   "metadata": {},
   "outputs": [],
   "source": [
    "t_test = morphoscanner.trajectory_new.trajectory(trj_gro, trj_xtc)"
   ]
  },
  {
   "cell_type": "code",
   "execution_count": null,
   "metadata": {},
   "outputs": [],
   "source": [
    "t_test.explore()"
   ]
  },
  {
   "cell_type": "code",
   "execution_count": null,
   "metadata": {},
   "outputs": [],
   "source": [
    "t_test.compose_database()"
   ]
  },
  {
   "cell_type": "code",
   "execution_count": null,
   "metadata": {},
   "outputs": [],
   "source": [
    "d_test = compute_distance_between_each_peptide(t_test.get_frame(0))"
   ]
  },
  {
   "cell_type": "code",
   "execution_count": null,
   "metadata": {},
   "outputs": [],
   "source": []
  },
  {
   "cell_type": "code",
   "execution_count": null,
   "metadata": {},
   "outputs": [],
   "source": []
  },
  {
   "cell_type": "code",
   "execution_count": null,
   "metadata": {},
   "outputs": [],
   "source": [
    "distance_maps_array = d_test\n",
    "radius_multiplier = 1.5\n",
    "\n",
    "# median consecutive residues distance from first peptide\n",
    "distances_pep_1 = []\n",
    "for i in range(distance_maps_array[0][0].shape[0] - 1): # there was a -1, and len(denoised_dict) was len(coordinate_dict)-1\n",
    "    distances_pep_1.append(distance_maps_array[0][0][i][i+1])\n",
    "\n",
    "intrapeptide_minimum_distance = np.median(distances_pep_1)\n",
    "\n",
    "#temporary list\n",
    "contact_map_list = []\n",
    "\n",
    "# contact is in a distance up to 150% of the intrapeptide_minimum_distance [TO IMPROVE!!!]\n",
    "threshold_distance = (intrapeptide_minimum_distance * radius_multiplier)\n",
    "\n",
    "for model_1 in range(distance_maps_array.shape[0]):\n",
    "    contact_map_list.append([])\n",
    "    for model_2 in range(distance_maps_array[model_1].shape[0]):\n",
    "\n",
    "        contact_map_list[model_1].append([])\n",
    "\n",
    "        if model_1 == model_2:\n",
    "\n",
    "            contact_map_list[model_1][model_2].extend(np.zeros((distance_maps_array.shape[2], distance_maps_array.shape[3])))\n",
    "\n",
    "        else:\n",
    "\n",
    "            contact_map = np.zeros((distance_maps_array.shape[2], distance_maps_array.shape[3]))\n",
    "\n",
    "            for chain_1 in range(distance_maps_array[model_1][model_2].shape[0]):\n",
    "\n",
    "                for chain_2 in range(distance_maps_array[model_1][model_2][chain_1].shape[0]):\n",
    "\n",
    "                    distance = distance_maps_array[model_1][model_2][chain_1][chain_2]\n",
    "\n",
    "                    if distance < threshold_distance:\n",
    "                        contact_map[chain_1][chain_2] = 1 #True\n",
    "                    else:\n",
    "                        pass\n",
    "\n",
    "            contact_map_list[model_1][model_2].extend(contact_map)\n",
    "\n",
    "contact_array = np.asarray(contact_map_list)"
   ]
  },
  {
   "cell_type": "code",
   "execution_count": null,
   "metadata": {},
   "outputs": [],
   "source": [
    "distances_pep_1 = []\n",
    "for i in range(distance_maps_array[0][0].shape[0] - 1): # there was a -1, and len(denoised_dict) was len(coordinate_dict)-1\n",
    "    distances_pep_1.append(distance_maps_array[0][0][i][i+1])\n",
    "\n",
    "intrapeptide_minimum_distance = np.median(distances_pep_1)"
   ]
  },
  {
   "cell_type": "code",
   "execution_count": null,
   "metadata": {},
   "outputs": [],
   "source": [
    "intrapeptide_minimum_distance "
   ]
  },
  {
   "cell_type": "code",
   "execution_count": null,
   "metadata": {},
   "outputs": [],
   "source": [
    "coordinate_dict = t_test.get_frame(0)\n",
    "coordinate_tensor = morphoscanner.backend.distance_tensor.get_coordinate_tensor_from_dict_multi(coordinate_dict)\n",
    "    # group tensor for size\n",
    "group_tensor, order_tensor = morphoscanner.backend.distance_tensor.cat_tensor_for_size(coordinate_tensor)\n",
    "    "
   ]
  },
  {
   "cell_type": "code",
   "execution_count": null,
   "metadata": {},
   "outputs": [],
   "source": [
    "distance = morphoscanner.backend.distance_tensor.fast_cdist(coordinate_tensor[0],group_tensor[96])"
   ]
  },
  {
   "cell_type": "code",
   "execution_count": null,
   "metadata": {},
   "outputs": [],
   "source": []
  },
  {
   "cell_type": "code",
   "execution_count": null,
   "metadata": {},
   "outputs": [],
   "source": []
  },
  {
   "cell_type": "code",
   "execution_count": null,
   "metadata": {
    "scrolled": true
   },
   "outputs": [],
   "source": [
    "distances_pep_1 = []\n",
    "for i in range(distance[0].shape[0] - 1):\n",
    "    distances_pep_1.append(distance[0][i][i+1])"
   ]
  },
  {
   "cell_type": "code",
   "execution_count": null,
   "metadata": {},
   "outputs": [],
   "source": [
    "threshold = np.median(distances_pep_1)*radius_multiplier"
   ]
  },
  {
   "cell_type": "code",
   "execution_count": null,
   "metadata": {},
   "outputs": [],
   "source": [
    "contact_mask = distance.new_full(distance.shape,fill_value=threshold)"
   ]
  },
  {
   "cell_type": "code",
   "execution_count": null,
   "metadata": {},
   "outputs": [],
   "source": []
  },
  {
   "cell_type": "code",
   "execution_count": null,
   "metadata": {},
   "outputs": [],
   "source": [
    "contact = distance - contact_mask"
   ]
  },
  {
   "cell_type": "code",
   "execution_count": null,
   "metadata": {},
   "outputs": [],
   "source": [
    "contact[contact > 0] = 0\n",
    "contact[contact < 0] = 1"
   ]
  },
  {
   "cell_type": "code",
   "execution_count": null,
   "metadata": {},
   "outputs": [],
   "source": [
    "coordinate_tensor = morphoscanner.backend.distance_tensor.get_coordinate_tensor_from_dict_multi(multidim.get_frame(0))"
   ]
  },
  {
   "cell_type": "code",
   "execution_count": null,
   "metadata": {},
   "outputs": [],
   "source": [
    "group_tensor, order_tensor = morphoscanner.backend.distance_tensor.cat_tensor_for_size(coordinate_tensor)"
   ]
  },
  {
   "cell_type": "code",
   "execution_count": null,
   "metadata": {},
   "outputs": [],
   "source": [
    "for i in group_tensor:\n",
    "    print(i)"
   ]
  },
  {
   "cell_type": "code",
   "execution_count": null,
   "metadata": {},
   "outputs": [],
   "source": [
    "order_tensor"
   ]
  },
  {
   "cell_type": "code",
   "execution_count": null,
   "metadata": {},
   "outputs": [],
   "source": [
    "# experimental distance and contact together\n",
    "def compute_distance_and_contacts_between_each_peptide(coordinate_dict, radius_multiplier=1.5):\n",
    "    # instantiate tensor\n",
    "    coordinate_tensor = morphoscanner.backend.distance_tensor.get_coordinate_tensor_from_dict_multi(coordinate_dict)\n",
    "    # group tensor for size\n",
    "    group_tensor, order_tensor = morphoscanner.backend.distance_tensor.cat_tensor_for_size(coordinate_tensor)\n",
    "    \n",
    "    #start = timer()\n",
    "    distance_maps_dict = {}\n",
    "    contact_maps_dict = {}\n",
    "    for tensor in coordinate_tensor:\n",
    "        distance_maps_dict[tensor] = {}\n",
    "        contact_maps_dict[tensor] = {}\n",
    "        for tensor_group in group_tensor:\n",
    "            index_dict = order_tensor[tensor_group]\n",
    "            #calculate distance\n",
    "            distance = morphoscanner.backend.distance_tensor.fast_cdist(coordinate_tensor[tensor],group_tensor[tensor_group])\n",
    "            \n",
    "            #calculate mean intrapeptide distance\n",
    "            # THIS IS IN THE WRONG PLACE\n",
    "            distances_pep_1 = []\n",
    "            for i in range(distance[0].shape[0] - 1):\n",
    "                #print(distance)\n",
    "                #print(distance[tensor_group].shape[0] - 1)\n",
    "                distances_pep_1.append(distance[0][i][i+1])\n",
    "                threshold = np.median(distances_pep_1)*radius_multiplier\n",
    "                \n",
    "            contact_mask = distance.new_full(distance.shape,fill_value=threshold)\n",
    "            contact = distance - contact_mask\n",
    "            contact[contact > 0] = 0\n",
    "            contact[contact < 0] = 1\n",
    "                \n",
    "                \n",
    "            for map_index, m in enumerate(distance):\n",
    "                real_index = index_dict[map_index]\n",
    "                distance_maps_dict[tensor][real_index] = m\n",
    "                contact_maps_dict[tensor][real_index] = contact\n",
    "\n",
    "    #end = timer()\n",
    "    #print(end-start)\n",
    "    return distance_maps_dict, contact_maps_dict, distance"
   ]
  },
  {
   "cell_type": "code",
   "execution_count": null,
   "metadata": {
    "scrolled": true
   },
   "outputs": [],
   "source": [
    "dist, cont, d = compute_distance_and_contacts_between_each_peptide(t_test.get_frame(25))"
   ]
  },
  {
   "cell_type": "code",
   "execution_count": null,
   "metadata": {},
   "outputs": [],
   "source": [
    "morphoscanner.backend.topology."
   ]
  },
  {
   "cell_type": "code",
   "execution_count": null,
   "metadata": {
    "scrolled": true
   },
   "outputs": [],
   "source": [
    "t_test.frames[0].peptides[0].coordinates"
   ]
  },
  {
   "cell_type": "code",
   "execution_count": null,
   "metadata": {
    "scrolled": true
   },
   "outputs": [],
   "source": [
    "### WORKING 25/08/2020\n",
    "def compute_distance_and_contact_maps(coordinate_dict, threshold = 5, contacts_calculation=True):\n",
    "\n",
    "    # instantiate tensor\n",
    "    coordinate_tensor = morphoscanner.backend.distance_tensor.get_coordinate_tensor_from_dict_multi(coordinate_dict)\n",
    "    # group tensor for size\n",
    "    group_tensor, order_tensor = morphoscanner.backend.distance_tensor.cat_tensor_for_size(coordinate_tensor)\n",
    "\n",
    "    distance_maps_dict = {}\n",
    "    contact_maps_dict = {}\n",
    "\n",
    "    # move through tensor\n",
    "    for tensor in coordinate_tensor:\n",
    "        distance_maps_dict[tensor] = {}\n",
    "        contact_maps_dict[tensor] = {}\n",
    "        # move through tensor size\n",
    "        for tensor_group in group_tensor:\n",
    "            index_dict = order_tensor[tensor_group]\n",
    "\n",
    "            #calculate distance\n",
    "            distance = morphoscanner.backend.distance_tensor.fast_cdist(coordinate_tensor[tensor],group_tensor[tensor_group])\n",
    "\n",
    "            #save data maps in dictionary\n",
    "            for map_index, m in enumerate(distance):\n",
    "                real_index = index_dict[map_index]\n",
    "                distance_maps_dict[tensor][real_index] = m\n",
    "            \n",
    "            if contacts_calculation == True:\n",
    "                \n",
    "                #crate mask for contact threshold\n",
    "                contact_mask = distance.new_full(distance.shape, fill_value=threshold)\n",
    "                #calculate contacts\n",
    "                contact = distance - contact_mask\n",
    "                #clean masks\n",
    "                contact[contact > 0] = 0\n",
    "                contact[contact < 0] = 1\n",
    "                \n",
    "                #save contact maps in dict \n",
    "                for cont_index, c in enumerate(contact):\n",
    "                    real_index = index_dict[cont_index]\n",
    "                    contact_maps_dict[tensor][real_index] = c\n",
    "    \n",
    "    if contacts_calculation == True:\n",
    "        return distance_maps_dict, contact_maps_dict\n",
    "    else:\n",
    "        return distance_maps_dict"
   ]
  },
  {
   "cell_type": "code",
   "execution_count": null,
   "metadata": {},
   "outputs": [],
   "source": [
    "plt.imshow(contact_maps_dict[0][0])"
   ]
  },
  {
   "cell_type": "code",
   "execution_count": null,
   "metadata": {},
   "outputs": [],
   "source": [
    "#continua qua\n",
    "threshold_list = []\n",
    "for idx, i in enumerate(distance):\n",
    "    for e in range(distance[idx].shape[1] - 1):\n",
    "        #print(distance[idx][e][e+1])\n",
    "        threshold_list.append(distance[idx][e][e+1])\n",
    "threshold = np.median(threshold_list)       "
   ]
  },
  {
   "cell_type": "code",
   "execution_count": null,
   "metadata": {},
   "outputs": [],
   "source": [
    "contact_maps_dict[0]"
   ]
  },
  {
   "cell_type": "code",
   "execution_count": null,
   "metadata": {},
   "outputs": [],
   "source": [
    "distances_pep_1 = []\n",
    "for i in range(distance[0].shape[0] - 1):\n",
    "    print(distance)\n",
    "    print(distance[tensor_group].shape[0] - 1)\n",
    "    distances_pep_1.append(distance[0][i][i+1])\n",
    "    threshold = np.median(distances_pep_1)*radius_multiplier"
   ]
  },
  {
   "cell_type": "code",
   "execution_count": null,
   "metadata": {},
   "outputs": [],
   "source": [
    "len(contact_maps_dict[0][10])"
   ]
  },
  {
   "cell_type": "code",
   "execution_count": null,
   "metadata": {},
   "outputs": [],
   "source": [
    "#glico_1p_1.peptide_length_list"
   ]
  },
  {
   "cell_type": "code",
   "execution_count": null,
   "metadata": {},
   "outputs": [],
   "source": [
    "# make it work, partially copied new data retrieval in topology.py\n",
    "# fix also new trajectory in new_trajectory.py"
   ]
  },
  {
   "cell_type": "code",
   "execution_count": null,
   "metadata": {},
   "outputs": [],
   "source": [
    "glico_1p_1 = trajectory(trj_gro,trj_xtc,select=['aminoacids'])"
   ]
  },
  {
   "cell_type": "code",
   "execution_count": null,
   "metadata": {},
   "outputs": [],
   "source": [
    "glico_1p_1.split(to_split=[96], split_size=[12])"
   ]
  },
  {
   "cell_type": "code",
   "execution_count": null,
   "metadata": {},
   "outputs": [],
   "source": [
    "glico_1p_1.explore()"
   ]
  },
  {
   "cell_type": "code",
   "execution_count": null,
   "metadata": {},
   "outputs": [],
   "source": [
    "glico_1p_1.compose_database(10)"
   ]
  },
  {
   "cell_type": "code",
   "execution_count": null,
   "metadata": {},
   "outputs": [],
   "source": [
    "glico_1p_1.analyze_inLoop()"
   ]
  },
  {
   "cell_type": "code",
   "execution_count": null,
   "metadata": {},
   "outputs": [],
   "source": [
    "glico_1p_1.get_data()"
   ]
  },
  {
   "cell_type": "code",
   "execution_count": null,
   "metadata": {},
   "outputs": [],
   "source": [
    "glico_1p_1.get_database()"
   ]
  },
  {
   "cell_type": "code",
   "execution_count": null,
   "metadata": {
    "scrolled": true
   },
   "outputs": [],
   "source": [
    "glico_1p_1.database"
   ]
  },
  {
   "cell_type": "code",
   "execution_count": null,
   "metadata": {},
   "outputs": [],
   "source": [
    "glico_1p_1.plot_aggregates()"
   ]
  },
  {
   "cell_type": "code",
   "execution_count": null,
   "metadata": {},
   "outputs": [],
   "source": [
    "glico_1p_1.plot_contacts()"
   ]
  },
  {
   "cell_type": "code",
   "execution_count": null,
   "metadata": {},
   "outputs": [],
   "source": [
    "glico_1p_1.plot_frame_aggregate(150)"
   ]
  },
  {
   "cell_type": "code",
   "execution_count": null,
   "metadata": {},
   "outputs": [],
   "source": [
    "glico_1p_1.plot_graph(150)"
   ]
  },
  {
   "cell_type": "code",
   "execution_count": null,
   "metadata": {},
   "outputs": [],
   "source": [
    "self = glico_1p_1\n",
    "\n",
    "frame = 1000\n",
    "frame_dict = self.get_frame(frame)\n",
    "\n",
    "self.frames[frame].results = results()\n",
    "\n",
    "\n",
    "\n",
    "#frame_tensor = distance_tensor.get_coordinate_tensor_from_dict(frame_dict)\n",
    "\n",
    "start_dist = timer()\n",
    "#frame_distance_maps = distance_tensor.compute_euclidean_norm_torch(frame_tensor)\n",
    "frame_distance, frame_contact = compute_distance_and_contact_maps(frame_dict)\n",
    "end_dist = timer()\n",
    "print('Time to compute distance is: ', (end_dist - start_dist))\n",
    "self.frames[frame].results.distance_maps = frame_distance\n",
    "self.frames[frame].results.contact_maps = frame_contact\n",
    "\n",
    "#start_contc = timer()\n",
    "#frame_contact = pattern_recognition.compute_contact_maps_as_array(frame_distance_maps)\n",
    "#end_contc = timer()\n",
    "#print('Time to compute contact is: ', (end_contc - start_contc))\n",
    "\n",
    "start_den = timer()\n",
    "frame_denoised, df = denoise_contact_maps(frame_contact)\n",
    "end_den = timer()\n",
    "print('Time to denoise: ', (end_den-start_den))\n",
    "\n",
    "frame_graph_full = graph.graph_v1(frame_denoised, df)\n",
    "\n",
    "subgraphs = graph.find_subgraph(frame_graph_full)  \n",
    "\n",
    "#self.frames[frame].results = results()\n",
    "self.frames[frame].results.cross_correlation = df\n",
    "self.frames[frame].results.graph = frame_graph_full\n",
    "self.frames[frame].results.subgraphs = subgraphs\n",
    "print('Finished analysis of frame n° %d' % frame)"
   ]
  },
  {
   "cell_type": "code",
   "execution_count": 183,
   "metadata": {},
   "outputs": [],
   "source": [
    "#contact_array = frame_contact\n",
    "def cross_correlation_function_for_dataset_with_dataframe_torch(contact_array):\n",
    "    '''Perform Normalized Cross Correlation function on the dataset\n",
    "        to check for contact. Get a dict for processing and a pandas.DataFrame\n",
    "        for data analysis\n",
    "\n",
    "        Input: contact maps\n",
    "\n",
    "        Output: contact_dict,         for further processing\n",
    "                pandas.DataFrame,     for data analysis\n",
    "\n",
    "\n",
    "    '''\n",
    "    contact_dict = {}\n",
    "\n",
    "    for row in range(len(contact_array)):\n",
    "\n",
    "        for col in range((row+1), len(contact_array[row])):\n",
    "            best_match = []\n",
    "            #print('row is %d and col is %d' % (row, col))\n",
    "            #print(type(contact_array[row][col]))\n",
    "            #print(contact_array[row][col])\n",
    "            best_match = normalized_cross_correlation_function_torch(contact_array[row][col])\n",
    "\n",
    "            #if len(best_match) == 0:\n",
    "            if best_match == None:\n",
    "                pass\n",
    "\n",
    "            else:\n",
    "                if row in contact_dict:\n",
    "                    contact_dict[row].append([row, col, best_match])\n",
    "\n",
    "                else:\n",
    "                    contact_dict[row] = [[row, col, best_match]]\n",
    "\n",
    "    contact_list = morphoscanner.backend.utilities.contact_list_from_dict(contact_dict)\n",
    "    #contact_list = contact_list_from_dict(contact_dict)\n",
    "\n",
    "\n",
    "    columns_names = ['peptide1', 'peptide2', 'NCC Value', 'shift index', 'contacts', 'sense', 'shift']\n",
    "\n",
    "    df = pd.DataFrame(contact_list, columns=columns_names)\n",
    "\n",
    "    return contact_dict, df\n"
   ]
  },
  {
   "cell_type": "code",
   "execution_count": 184,
   "metadata": {},
   "outputs": [],
   "source": [
    "def denoise_contact_maps_torch(contact_maps):\n",
    "    \n",
    "    '''Denoise the contact_maps dataset using the shift_matrix\n",
    "    \n",
    "    Arguments : contact_maps, normalized_cross_correlation_result\n",
    "    \n",
    "    return : a dict with key:value = row : row, col, denoised_map\n",
    "    \n",
    "    '''\n",
    "\n",
    "    normalized_cross_correlation_results, df = cross_correlation_function_for_dataset_with_dataframe_torch(contact_maps)\n",
    "    \n",
    "    denoised_dict = {}\n",
    "\n",
    "    for peptide_1 in normalized_cross_correlation_results:\n",
    "        denoised_dict[peptide_1] = {}\n",
    "        for index, peptide_2 in enumerate(normalized_cross_correlation_results[peptide_1]):\n",
    "\n",
    "            row = peptide_2[0]\n",
    "            col = peptide_2[1]\n",
    "\n",
    "            contact_map = contact_maps[row][col]\n",
    "            sense = peptide_2[2][3]\n",
    "            shift_matrix_index = normalized_cross_correlation_results[peptide_1][index][2][1]\n",
    "\n",
    "            shift_matrix = shift_library_maker_torch(contact_map)\n",
    "            shift_matrix = shift_matrix[sense][shift_matrix_index]\n",
    "            denoised_map = contact_map.double() * shift_matrix\n",
    "\n",
    "            denoised_dict[row][col] = denoised_map\n",
    "            \n",
    "    full_denoised_dict = {}\n",
    "    for peptide_1 in tqdm.tqdm(denoised_dict):\n",
    "        for peptide_2 in denoised_dict[peptide_1]:\n",
    "            contact_map = denoised_dict[peptide_1][peptide_2]\n",
    "\n",
    "            if peptide_1 in full_denoised_dict:\n",
    "                full_denoised_dict[peptide_1][peptide_2] = contact_map\n",
    "\n",
    "            if peptide_1 not in full_denoised_dict:\n",
    "                full_denoised_dict[peptide_1] = {peptide_2:contact_map}\n",
    "\n",
    "            if peptide_2 in full_denoised_dict:\n",
    "                #full_denoised_dict[peptide_2][peptide_1] = contact_map.T #this is for numpy\n",
    "                full_denoised_dict[peptide_2][peptide_1] = contact_map.transpose(1,0) # this is for pytorch\n",
    "\n",
    "\n",
    "            if peptide_2 not in full_denoised_dict:\n",
    "                #full_denoised_dict[peptide_2] = {peptide_1:contact_map.T} #this is for numpy\n",
    "                full_denoised_dict[peptide_2] = {peptide_1:contact_map.transpose(1,0)} # this is for pytorch\n",
    "    \n",
    "    return full_denoised_dict, df"
   ]
  },
  {
   "cell_type": "code",
   "execution_count": null,
   "metadata": {},
   "outputs": [],
   "source": []
  },
  {
   "cell_type": "code",
   "execution_count": 185,
   "metadata": {},
   "outputs": [],
   "source": [
    "def normalized_cross_correlation_function_torch(contact_map, minimum_contact=2):\n",
    "    '''\n",
    "    Calculate normalized cross correlation function between a contact map and an ideal map.\n",
    "\n",
    "    Arguments : contact map, as output from get_contact_maps function\n",
    "                shift_matrix_stack, as output from shift_matrix_maker function\n",
    "\n",
    "    Return : a list [ncc_value, index (in the shift_matrix_stack) of the shift matrix\n",
    "                that is matching the contact map\n",
    "\n",
    "            '''\n",
    "    contact_map = contact_map.double()\n",
    "    shift_matrix_library = shift_library_maker_torch(contact_map)\n",
    "\n",
    "    cross_correlation_values = []\n",
    "    max_val = []\n",
    "    sum_contact_map = torch.sum(contact_map)\n",
    "    #print(\"sum_contact_map dtype is: %s \" % str(type(sum_contact_map)))\n",
    "\n",
    "    if sum_contact_map < minimum_contact:\n",
    "        pass\n",
    "\n",
    "    else:\n",
    "        for sense in shift_matrix_library:\n",
    "            for index, z in enumerate(shift_matrix_library[sense]):\n",
    "\n",
    "                shift_matrix = shift_matrix_library[sense][index]\n",
    "                sum_shift_matrix = torch.sum(shift_matrix)\n",
    "                #print(\"contact_map type is: %s\" % str(contact_map.dtype))\n",
    "                ncc_value = (torch.sum((contact_map * shift_matrix))/((torch.sqrt(sum_contact_map))*(torch.sqrt(sum_shift_matrix))))  # normalized cross correlation function of contact matrix and shift matrix\n",
    "                cross_correlation_values.append([ncc_value, index, sum_contact_map, sense])\n",
    "\n",
    "        max_val = max(cross_correlation_values) # get only the best match (highest value of ncc)\n",
    "\n",
    "    return max_val"
   ]
  },
  {
   "cell_type": "code",
   "execution_count": null,
   "metadata": {},
   "outputs": [],
   "source": []
  },
  {
   "cell_type": "code",
   "execution_count": null,
   "metadata": {},
   "outputs": [],
   "source": [
    "len(self.frames[150].results.contact_maps[0])"
   ]
  },
  {
   "cell_type": "code",
   "execution_count": 187,
   "metadata": {},
   "outputs": [],
   "source": [
    "def shift_library_maker_torch(contact_map_to_analyze):\n",
    "\n",
    "    ''' Create shift matrix library to perform pattern recognition on a contact map.\n",
    "    \n",
    "    Inputs: numpy.array, a single contact map\n",
    "    \n",
    "    returns: dict of shift matrix to analyze the given contact map\n",
    "\n",
    "            shift matrix are diagonal matrix spanning all the given contact map\n",
    "            \n",
    "    '''\n",
    "    \n",
    "    row = contact_map_to_analyze.shape[0]\n",
    "    col = contact_map_to_analyze.shape[1]\n",
    "\n",
    "    kron_dict = {}\n",
    "    kron_list_parallel = []\n",
    "    kron_list_antiparallel = []\n",
    "\n",
    "    for e in range(-row+1, col):\n",
    "        array = np.eye(row, col, e)\n",
    "        kron_list_parallel.append(array)\n",
    "        kron_list_antiparallel.append(np.fliplr(array))\n",
    "\n",
    "    kron_array_parallel = torch.from_numpy(np.asarray(kron_list_parallel))\n",
    "    kron_array_antiparallel = torch.from_numpy(np.asarray(kron_list_antiparallel))\n",
    "    kron_dict['parallel'] = kron_array_parallel\n",
    "    kron_dict['antiparallel'] = kron_array_antiparallel\n",
    "    \n",
    "    return kron_dict"
   ]
  },
  {
   "cell_type": "code",
   "execution_count": null,
   "metadata": {},
   "outputs": [],
   "source": [
    "mp = glico_1p_1.frames[150].results.contact_maps[0][1]"
   ]
  },
  {
   "cell_type": "code",
   "execution_count": null,
   "metadata": {},
   "outputs": [],
   "source": [
    "shift_library_maker(mp)"
   ]
  },
  {
   "cell_type": "code",
   "execution_count": null,
   "metadata": {},
   "outputs": [],
   "source": []
  },
  {
   "cell_type": "code",
   "execution_count": null,
   "metadata": {},
   "outputs": [],
   "source": [
    "self.plot_graph(1000)"
   ]
  },
  {
   "cell_type": "code",
   "execution_count": null,
   "metadata": {},
   "outputs": [],
   "source": [
    "self.plot_frame_aggregate(1000)"
   ]
  },
  {
   "cell_type": "code",
   "execution_count": null,
   "metadata": {},
   "outputs": [],
   "source": []
  },
  {
   "cell_type": "code",
   "execution_count": null,
   "metadata": {},
   "outputs": [],
   "source": [
    "# calcola la distanza mediana tra c alfa per ogni peptide\n",
    "# poi prendi la mediana della mediana\n",
    "# che sarà il threshold di distanza che definisce il contatto"
   ]
  },
  {
   "cell_type": "code",
   "execution_count": null,
   "metadata": {},
   "outputs": [],
   "source": [
    "universe_glico.frames[0].results.distance_maps"
   ]
  },
  {
   "cell_type": "code",
   "execution_count": null,
   "metadata": {},
   "outputs": [],
   "source": [
    "def get_threshold_distance(distance_maps):\n",
    "    median_list = []\n",
    "    for row in distance_maps:\n",
    "        self_distance_map = distance_maps[row][row]\n",
    "        intrapep_distance_median = torch.median(torch.diag(self_distance_map,1))\n",
    "        median_list.append(intrapep_distance_median)\n",
    "\n",
    "    threshold = torch.median(torch.tensor(median_list))\n",
    "    return threshold\n"
   ]
  },
  {
   "cell_type": "code",
   "execution_count": null,
   "metadata": {},
   "outputs": [],
   "source": [
    "threshold*1.5"
   ]
  },
  {
   "cell_type": "code",
   "execution_count": null,
   "metadata": {},
   "outputs": [],
   "source": [
    "threshold.dtype"
   ]
  },
  {
   "cell_type": "code",
   "execution_count": null,
   "metadata": {},
   "outputs": [],
   "source": []
  },
  {
   "cell_type": "code",
   "execution_count": null,
   "metadata": {},
   "outputs": [],
   "source": [
    "%matplotlib notebook"
   ]
  },
  {
   "cell_type": "code",
   "execution_count": null,
   "metadata": {},
   "outputs": [],
   "source": []
  },
  {
   "cell_type": "code",
   "execution_count": null,
   "metadata": {},
   "outputs": [],
   "source": []
  },
  {
   "cell_type": "code",
   "execution_count": null,
   "metadata": {},
   "outputs": [],
   "source": [
    "distance_m = universe_glico.frames[0].results.distance_maps"
   ]
  },
  {
   "cell_type": "code",
   "execution_count": null,
   "metadata": {},
   "outputs": [],
   "source": [
    "get_threshold_distance(distance_m)"
   ]
  },
  {
   "cell_type": "code",
   "execution_count": null,
   "metadata": {},
   "outputs": [],
   "source": []
  },
  {
   "cell_type": "code",
   "execution_count": null,
   "metadata": {},
   "outputs": [],
   "source": [
    "struct_dict = {}\n",
    "for frame in self.frames:\n",
    "    len_count = 0\n",
    "    for subgraph in self.frames[frame].results.subgraphs:\n",
    "        len_count += len(subgraph)\n",
    "    struct_dict[frame] = len_count\n",
    "        \n",
    "        "
   ]
  },
  {
   "cell_type": "code",
   "execution_count": null,
   "metadata": {},
   "outputs": [],
   "source": [
    "struct_dict"
   ]
  },
  {
   "cell_type": "code",
   "execution_count": null,
   "metadata": {},
   "outputs": [],
   "source": [
    "def plot_structuration(self):\n",
    "    index = self.database.index\n",
    "    tss = [self.universe.trajectory[i].time for ts in self.universe.trajectory for i in index]\n",
    "\n",
    "    structuration = [sum(i) for i in self.database['n° of peptides in macroaggregates']]\n",
    "    plt.plot(tss, structuration,'bo')\n",
    "    plt.xlabel('Time (ps')\n",
    "    plt.ylabel('N° of structured peptides')\n",
    "\n",
    "    return"
   ]
  },
  {
   "cell_type": "code",
   "execution_count": null,
   "metadata": {},
   "outputs": [],
   "source": []
  },
  {
   "cell_type": "code",
   "execution_count": null,
   "metadata": {},
   "outputs": [],
   "source": []
  },
  {
   "cell_type": "code",
   "execution_count": null,
   "metadata": {},
   "outputs": [],
   "source": []
  },
  {
   "cell_type": "code",
   "execution_count": null,
   "metadata": {},
   "outputs": [],
   "source": []
  },
  {
   "cell_type": "code",
   "execution_count": null,
   "metadata": {},
   "outputs": [],
   "source": []
  },
  {
   "cell_type": "code",
   "execution_count": null,
   "metadata": {},
   "outputs": [],
   "source": []
  },
  {
   "cell_type": "code",
   "execution_count": 188,
   "metadata": {},
   "outputs": [],
   "source": [
    "import morphoscanner\n",
    "from morphoscanner import backend, data_acquisition, trj_object\n",
    "from morphoscanner.backend import distance_tensor, pattern_recognition, graph, topology\n",
    "from morphoscanner.backend.check_val import isInt\n",
    "\n",
    "import tqdm\n",
    "from timeit import default_timer as timer\n",
    "import sys\n",
    "import pandas as pd\n",
    "import matplotlib.pyplot as plt\n",
    "import networkx as nx\n",
    "\n",
    "\n",
    "\n",
    "class trajectory:\n",
    "    '''Class to operate on trajectory files.\n",
    "    It makes an object that contain the trajectory of the simulation.\n",
    "    From this object is possible to conduct analysis'''\n",
    "\n",
    "    def __init__(self, trj_gro, trj_xtc, select = None):\n",
    "        \n",
    "        self.trj_gro = trj_gro\n",
    "        self.trj_xtc = trj_xtc\n",
    "        self.universe = backend.topology.make_universe(self.trj_gro, self.trj_xtc)\n",
    "        self.number_of_frames = len(self.universe.trajectory)\n",
    "        \n",
    "        if select == None:\n",
    "            select = ['aminoacids']\n",
    "            \n",
    "        self.select = select\n",
    "       \n",
    "        self.peptide_length_list = backend.topology.get_peptide_length_list(self.trj_gro, self.select)\n",
    "        \n",
    "        self.len_dict = backend.topology.get_peptide_length_dict(self.peptide_length_list)\n",
    "        \n",
    "        print('In your trajectory there are %d frames.\\n' % self.number_of_frames)\n",
    "\n",
    "        morphoscanner.backend.topology.print_peptides_length(self.len_dict)\n",
    "        \n",
    "        return            \n",
    "        \n",
    "    def split(self, to_split: list, split_size: list):\n",
    "        '''Manually split peptide_length_list in case of seeds.\n",
    "        \n",
    "        Input:\n",
    "            to_split: list\n",
    "                list of int or ints.\n",
    "                Each int refers to the length of a peptides seed\n",
    "                from self.len_dict.keys() that you want to split in single peptide.\n",
    "                For example if in len dict there are seeds of length 96 that you want to split,\n",
    "                to_split = [96]\n",
    "                \n",
    "            split_size: list\n",
    "                list of int or ints.\n",
    "                This is the size in which you want to split your to_split seeds.\n",
    "                For example if you want to split your seeds of length 96 in peptides of length 12,\n",
    "                split_size = [12]\n",
    "                \n",
    "        Output:\n",
    "            Change the original self.peptide_length_list with a new list of splitted peptides.\n",
    "        \n",
    "        '''\n",
    "        \n",
    "        splitting_dict = data_acquisition.script_inputs.get_splitting_dict(to_split, split_size)\n",
    "        self.peptide_length_list = data_acquisition.script_inputs.get_new_peptides_length(self.peptide_length_list, splitting_dict)\n",
    "        print('Splitting done.\\n')\n",
    "        print('\"peptide_length_list\" attribute has been updated with the new length.')\n",
    "        \n",
    "        return    \n",
    "    \n",
    "    def explore(self, frame=0): # you can change the frame number if you want to manually explore other frames\n",
    "    \n",
    "        self.frames = {}\n",
    "        self.frames[frame] = trj_object.trj_objects.frames(frame)\n",
    "        self.frames[frame].peptides = backend.topology.get_data_from_trajectory_frame_v2(universe=self.universe, frame=frame, select=self.select)\n",
    "        print('Exploration of frame %d done.\\n' % frame)\n",
    "\n",
    "        return    \n",
    "    \n",
    "    def compose_database(self, sampling_interval=1):\n",
    "        \n",
    "        steps = [s for s in range(self.number_of_frames) if (s % sampling_interval)==0 and (s != 0)]\n",
    "        for step in tqdm.tqdm(steps):\n",
    "            self.universe.trajectory[step]\n",
    "            self.frames[step] = trj_object.trj_objects.frames(step)\n",
    "            self.frames[step].peptides = {}\n",
    "            for pep in self.frames[0].peptides:\n",
    "                c_list = {}\n",
    "\n",
    "                for idx, i in enumerate(self.frames[0].peptides[pep].atom_numbers.values()):\n",
    "                    p = self.universe.atoms[i].position\n",
    "                    c_list[idx] = p\n",
    "\n",
    "                self.frames[step].peptides[pep] = trj_object.trj_objects.single_peptide(self.frames[0].peptides[pep].sequence,self.frames[0].peptides[pep].atom_numbers,c_list)\n",
    "\n",
    "        return\n",
    "        \n",
    "    def get_frame(self, frame):\n",
    "        \n",
    "        a_frame = {}\n",
    "\n",
    "        for pep in self.frames[frame].peptides:\n",
    "            a_frame[pep] = self.frames[frame].peptides[pep].coordinates\n",
    "\n",
    "        return a_frame\n",
    "    \n",
    "    def get_peptide(self, peptide):\n",
    "    \n",
    "        a_peptide = {}\n",
    "        for frame in self.frames:\n",
    "            \n",
    "            a_peptide[frame] = self.frames[frame].peptides[peptide].coordinates\n",
    "            \n",
    "        return a_peptide\n",
    "    \n",
    "    # add something to ask for threshold in main.py\n",
    "    def analysis(self, frame, threshold_multiplier=1.45):\n",
    "        # check if threshold is given\n",
    "        try:\n",
    "            threshold = self.contact_threshold\n",
    "        except:\n",
    "            dic_0 = self.get_frame(0)\n",
    "            frame_distance_0 = distance_tensor.compute_distance_and_contact_maps(dic_0, threshold=0, contacts_calculation=False)\n",
    "            threshold = distance_tensor.get_median_c_alpha_distance(frame_distance_0) * threshold_multiplier\n",
    "            self.contact_threshold = threshold\n",
    "            print(\"Two nearby atoms of different peptides are contacting if the distance is lower than: %s Angstrom\" % str(self.contact_threshold))\n",
    "    \n",
    "        #frame = frame\n",
    "        print('Analyzing frame n° ', frame)\n",
    "        \n",
    "        self.frames[frame].results = trj_object.trj_objects.results()\n",
    "\n",
    "        frame_dict = self.get_frame(frame)\n",
    "        \n",
    "        start_dist = timer()\n",
    "        frame_distance, frame_contact = distance_tensor.compute_distance_and_contact_maps(frame_dict, threshold=threshold)\n",
    "        end_dist = timer()\n",
    "        print('Time to compute distance is: ', (end_dist - start_dist))\n",
    "        \n",
    "        self.frames[frame].results.distance_maps = frame_distance\n",
    "        self.frames[frame].results.contact_maps = frame_contact\n",
    "        \n",
    "        start_den = timer()\n",
    "        frame_denoised, df = denoise_contact_maps_torch(frame_contact)\n",
    "        end_den = timer()\n",
    "        print('Time to denoise: ', (end_den-start_den))\n",
    "        \n",
    "        self.frames[frame].results.denoised = frame_denoised\n",
    "        self.frames[frame].results.cross_correlation = df\n",
    "        \n",
    "        frame_graph_full = graph.graph_v1(frame_denoised, df)\n",
    "        \n",
    "        subgraphs = graph.find_subgraph(frame_graph_full)  \n",
    "        \n",
    "        #self.frames[frame].results = trj_object.trj_objects.results()\n",
    "        #self.frames[frame].results.distance_maps = frame_distance\n",
    "        #self.frames[frame].results.contact_maps = frame_contact\n",
    "        #self.frames[frame].results.cross_correlation = df\n",
    "        self.frames[frame].results.graph = frame_graph_full\n",
    "        self.frames[frame].results.subgraphs = subgraphs\n",
    "        print('Finished analysis of frame n° %d' % frame)\n",
    "        \n",
    "        return\n",
    "    \n",
    "    \n",
    "        \n",
    "    def analyze_inLoop(self, threshold=None, threshold_multiplier=1.45):\n",
    "        \n",
    "        if threshold != None:\n",
    "            self.contact_threshold=threshold\n",
    "        else:\n",
    "            pass\n",
    "        \n",
    "        print('processing started...')\n",
    "        start = timer()\n",
    "        for frame in self.frames:\n",
    "            start_an = timer()\n",
    "            self.analysis(frame, threshold_multiplier=threshold_multiplier)\n",
    "            end_an = timer()\n",
    "            text = 'Time needed to analyze frame %d was %f seconds' % (frame, (end_an-start_an))\n",
    "            print(text)\n",
    "\n",
    "        end = timer()\n",
    "\n",
    "        print('Total time to analyze dataset was %f seconds' % (end -start))\n",
    "        return\n",
    "    \n",
    "    ###\n",
    "    \n",
    "    ### THESE HAVE BEEN PORTED FROM OLD TRAJECTORY TO STREAMLINE ANALYSIS OF GLICOSILATED PEPTIDES!\n",
    "    ###\n",
    "    \n",
    "    \n",
    "    def get_sense(self):\n",
    "\n",
    "        ''' Analyze self.frames to retrieve the number of contact \n",
    "            per sense (\"parallel\" and \"antiparallel\")\n",
    "        '''\n",
    "\n",
    "        # instantiate main dict\n",
    "        sense_dict = {}\n",
    "\n",
    "        # loop trough frames\n",
    "        for frame in self.frames:\n",
    "\n",
    "            group = self.frames[frame].results.cross_correlation.groupby('sense').groups\n",
    "\n",
    "            # check for antiparallel key in the frame_data\n",
    "            if 'antiparallel' in group:\n",
    "\n",
    "                # get number of antiparallel contacts\n",
    "                antiparallel = len(group['antiparallel'])\n",
    "\n",
    "            else:\n",
    "                antiparallel = 0\n",
    "\n",
    "            # check for parallel key in the frame_data\n",
    "            if 'parallel' in group:\n",
    "\n",
    "                # get number of parallel contacts\n",
    "                parallel = len(group['parallel'])\n",
    "\n",
    "            else:\n",
    "                parallel = 0\n",
    "\n",
    "            # add frame data to main dict\n",
    "            sense_dict[frame] = {  'parallel' : parallel,\n",
    "                               'antiparallel' : antiparallel}\n",
    "\n",
    "        # at the end convert dict to pandas.DataFrame\n",
    "        self.sense_df = pd.DataFrame.from_dict(sense_dict, orient='index')\n",
    "\n",
    "        return\n",
    "    \n",
    "    \n",
    "    def subgraph_length_peptide(self):\n",
    "        '''Get information about the size of the aggregates in the trajectory\n",
    "        Argument: aggregate\n",
    "        return: dict, keys = frame number,\n",
    "                      value = a sorted list (big to small) of the aggregate size in that frame\n",
    "        '''\n",
    "\n",
    "        if len(self.frames) > 0:\n",
    "\n",
    "            self.subgraph_size_peptide = {}\n",
    "\n",
    "            for key in self.frames.keys():\n",
    "\n",
    "                subgraph_dict = {}\n",
    "\n",
    "                subgraph_dict[key] = morphoscanner.backend.graph.find_subgraph(self.frames[key].results.graph)\n",
    "\n",
    "                len_list = []\n",
    "\n",
    "                for i in subgraph_dict[key]:\n",
    "\n",
    "                    len_list.append(len(i))\n",
    "\n",
    "                len_list.sort(reverse=True)\n",
    "\n",
    "                self.subgraph_size_peptide[key] = [len_list]\n",
    "\n",
    "        self.subgraph_len_pep_df = pd.DataFrame.from_dict(self.subgraph_size_peptide, orient='index', columns=['n° of peptides in macroaggregates'])\n",
    "\n",
    "        #else:\n",
    "         #   print('You have to analyze one or more frame before analyze the results.')\n",
    "         #   print('Use \"Analyze\" or \"AnalyzeInLoop\" on the dataset first!')\n",
    "\n",
    "        return\n",
    "    \n",
    "    \n",
    "    def macroaggregate_sense_data(self):\n",
    "\n",
    "        macroaggregate_sense_dict = {}\n",
    "\n",
    "        for frame in self.frames:\n",
    "            graph = self.frames[frame].results.graph\n",
    "            subs = self.frames[frame].results.subgraphs\n",
    "            #senses = contact_sense_in_subgraph(graph, subs)\n",
    "            #sense_counter = count_sense_in_subgraph(senses)\n",
    "            sense_counter = morphoscanner.backend.graph.sense_in_subgraph(graph, subs)\n",
    "            macroaggregate_sense_dict[frame] = sense_counter\n",
    "\n",
    "        self.macroaggregate_df = pd.DataFrame.from_dict(macroaggregate_sense_dict, orient='index')\n",
    "\n",
    "        return\n",
    "    \n",
    "    \n",
    "    \n",
    "    def number_of_macroaggregate_per_frame(self):\n",
    "        number_of_peptide = {}\n",
    "        for i in self.subgraph_size_peptide:\n",
    "            number_of_peptide[i] = len(self.subgraph_size_peptide[i][0])\n",
    "\n",
    "        self.number_of_peptide_df = pd.DataFrame.from_dict(number_of_peptide, orient='index', columns=['n° of macroaggreates'])\n",
    "\n",
    "        return\n",
    "    \n",
    "    \n",
    "    def shift_profile(self):\n",
    "        shift_profile = {}\n",
    "        for frame in self.frames:\n",
    "            shift_profile[frame] = {} \n",
    "            for shift_value in self.frames[frame].results.cross_correlation['shift']:\n",
    "                try:\n",
    "                    shift_profile[frame][shift_value] += 1\n",
    "                except:\n",
    "                    shift_profile[frame][shift_value] = 1\n",
    "\n",
    "            f = {k[0]:k[1] for k in sorted(shift_profile[frame].items())}\n",
    "            self.frames[frame].results.shift_profile = f\n",
    "        return\n",
    "\n",
    "\n",
    "    def get_data(self):\n",
    "        self.get_sense()\n",
    "        self.subgraph_length_peptide()\n",
    "        self.macroaggregate_sense_data()\n",
    "        self.number_of_macroaggregate_per_frame()\n",
    "        self.shift_profile()\n",
    "        return\n",
    "    \n",
    "        \n",
    "    def get_database(self):\n",
    "        \n",
    "        self.database = pd.concat((self.subgraph_len_pep_df, self.sense_df, self.number_of_peptide_df, self.macroaggregate_df), axis=1)\n",
    "\n",
    "        return\n",
    "    \n",
    "    \n",
    "    ######################\n",
    "    #############################\n",
    "    #####################\n",
    "    \n",
    "    \n",
    "    def plot_contacts(self):\n",
    "        index = self.database.index\n",
    "        contact = [i+e for i, e in zip(self.database['parallel'], self.database['antiparallel'])]\n",
    "        antiparallel = self.database['antiparallel']\n",
    "    \n",
    "        antip_total_ratio = [anti/cont if cont != 0 else 0 for anti, cont in zip(antiparallel, contact)]\n",
    "        tss = [self.universe.trajectory[i].time for ts in self.universe.trajectory for i in index]\n",
    "        \n",
    "        plt.plot(tss, antip_total_ratio, 'bo')\n",
    "        #plt.xticks([0,250000,500000,750000,1000000],[0,250,500,750,1000])\n",
    "        #plt.xlabel('Time (ps)')\n",
    "        #plt.ylabel('Antiparallel / Total contacts')\n",
    "        plt.xlabel('Time (ns)')\n",
    "        plt.ylabel('β-Sheet Organizational Index')\n",
    "    \n",
    "        return\n",
    "    \n",
    "    \n",
    "    def plot_peptides_in_beta(self):\n",
    "        index = self.database.index\n",
    "        tss = [self.universe.trajectory[i].time for ts in self.universe.trajectory for i in index]\n",
    "        beta = [sum(i) for i in self.database['n° of peptides in macroaggregates']]\n",
    "        plt.plot(tss,beta,'bo')\n",
    "        #plt.xticks([0,250000,500000,750000,1000000],[0,250,500,750,1000])\n",
    "        plt.xlabel('Time (ns)')\n",
    "        plt.ylabel('Peptides in β-sheet')\n",
    "    \n",
    "        return \n",
    "\n",
    "    \n",
    "    def plot_aggregates(self):\n",
    "        index = self.database.index\n",
    "        tss = [self.universe.trajectory[i].time for ts in self.universe.trajectory for i in index]\n",
    "        aggregates = self.database['n° of macroaggreates']\n",
    "        plt.plot(tss, aggregates,'bo')\n",
    "        #plt.xlabel('Time (ps')\n",
    "        #plt.xticks([0,250000,500000,750000,1000000],[0,250,500,750,1000])\n",
    "        plt.xlabel('Time (ns)')\n",
    "        plt.ylabel('N° of macroaggregates')\n",
    "\n",
    "        return\n",
    "    \n",
    "    def plot_shift(self, frame=None):\n",
    "        f = self.frames[frame].results.shift_profile\n",
    "        x = [val for val in f.keys()]\n",
    "        y = [k for k in f.values()]\n",
    "        plt.plot(x, y)\n",
    "        plt.xlabel('Shift value')\n",
    "        plt.ylabel('Number of contacts')\n",
    "        plt.show() \n",
    "        return\n",
    "\n",
    "\n",
    "    def get_subgraphs_sense(self, frame):\n",
    "        '''Retrive information about contact sense of each aggregate\n",
    "        found in self.frames[frame]['subgraphs_full']\n",
    "        Parameters\n",
    "        ----------\n",
    "        frame : int\n",
    "            The frame of which you want to get contact sense informations.\n",
    "        Returns\n",
    "        -------\n",
    "        sense_dict : dict\n",
    "            A dict containing the informations about contacts, in the form:\n",
    "                {'parallel' : int,\n",
    "                 'antiparallel' : int,\n",
    "                 'value' : str}\n",
    "            The key 'value' contains the sense of the predominant contact sense,\n",
    "            'parallel' or 'antiparallale',\n",
    "            or the str 'equal' if both sense have the same number of contacts.\n",
    "        '''\n",
    "        \n",
    "        # check if requested frame have been parsed\n",
    "        if frame not in self.frames:\n",
    "            print('Frame %d is not in the sampled frames\\n' % frame)\n",
    "        else:\n",
    "            # check if in the frame there are aggregate\n",
    "            if len(self.frames[frame].results.subgraphs) < 1:\n",
    "                print('There are no aggregate in frame %d.\\n' % frame)\n",
    "            else:\n",
    "                # if checks are passed\n",
    "                # create empty dict\n",
    "                sense_dict = {}\n",
    "                \n",
    "                # iterate subgraphs\n",
    "                for index_sub, subgraph in enumerate(self.frames[frame].results.subgraphs):\n",
    "                    \n",
    "                    # create a new dict for each aggregate, to store contact sense information\n",
    "                    sense_dict[index_sub] = {'parallel' : 0,\n",
    "                                             'antiparallel' : 0,\n",
    "                                             'value' : 0   }\n",
    "                    # get information about contacts from database\n",
    "                    #  use only peptide1 column to gather contacts one time only \n",
    "                    for index_contact, contact in enumerate(self.frames[frame].results.cross_correlation.peptide1):\n",
    "                        if contact in subgraph:\n",
    "                            sense = (self.frames[frame].results.cross_correlation.iloc[index_contact].sense)\n",
    "                            # add 1 to the right sense counter in the sense_dict\n",
    "                            sense_dict[index_sub][sense] += 1\n",
    "                    # check if contacts number is equal in both senses\n",
    "                    if sense_dict[index_sub]['parallel'] == sense_dict[index_sub]['antiparallel']:\n",
    "                        sense_dict[index_sub]['value'] = 'equal'\n",
    "                    else:\n",
    "                        # if contacts are not equal, get the predominant contact sense\n",
    "                        sense_dict[index_sub]['value'] = max(sense_dict[index_sub], key=sense_dict[index_sub].get)\n",
    "    \n",
    "                return sense_dict\n",
    "    \n",
    "\n",
    "    \n",
    "    \n",
    "    def plot_frame_aggregate(self, frame: int):\n",
    "        '''Plot the frame with color code that identify the\n",
    "        sense of the majority of contacts in an aggregate.\n",
    "        Grey: no contact,\n",
    "        Green: majority of parallel contacts,\n",
    "        Blue: majority of antparallel contacts,\n",
    "        Yellow: equal number of parallel and antiparallel contacts\n",
    "        \n",
    "        The plot can be made interactive using jupyter-notebook,\n",
    "        with:\n",
    "            %matplotlib notebook\n",
    "        Parameters\n",
    "        ----------\n",
    "        frame : int\n",
    "            The frame that you want to plot\n",
    "        Returns\n",
    "        -------\n",
    "        plot\n",
    "            Return a matplotlib.pyplot 3d scatter plot.\n",
    "        '''\n",
    "        \n",
    "        # get predominant contact sense for each aggregate\n",
    "        sense_dict = self.get_subgraphs_sense(frame)\n",
    "        # get subgraphs\n",
    "        subgraphs = self.frames[frame].results.subgraphs\n",
    "        # get coordinate dict\n",
    "        coordinate_dict = self.get_frame(frame)\n",
    "        # make a flat (1D) list of peptide in the aggregates\n",
    "        flat_subgraphs = [pep for group in subgraphs for pep in group]\n",
    "        # create a color dictionary with each sense corresponding to a color\n",
    "        colors = {'parallel' : 'limegreen',\n",
    "                  'antiparallel' : 'b',\n",
    "                  'equal' : 'y',\n",
    "                  'no' : 'gray'}    \n",
    "        \n",
    "        # instantiate empty dict to plot aggregates\n",
    "        x = {}\n",
    "        y = {}\n",
    "        z = {}\n",
    "        # iterate through aggregates\n",
    "        for index_sub, subgraph in enumerate(subgraphs):\n",
    "            # create a list to gather coordinate of each aggregate's atom\n",
    "            x[index_sub] = []\n",
    "            y[index_sub] = []\n",
    "            z[index_sub] = []\n",
    "            # for each peptide in the aggregate\n",
    "            for peptide in subgraph:\n",
    "                # for each atom of the peptide\n",
    "                for atom in coordinate_dict[peptide]:\n",
    "                    # get x, y and z coordinates and save it in the correct list\n",
    "                    x[index_sub].append(coordinate_dict[peptide][atom][0])\n",
    "                    y[index_sub].append(coordinate_dict[peptide][atom][1])\n",
    "                    z[index_sub].append(coordinate_dict[peptide][atom][2])\n",
    "        \n",
    "        # instantiate lists for non contacting peptides\n",
    "        x_not = []\n",
    "        y_not = []\n",
    "        z_not = []\n",
    "        # get coordinate of non contacting peptides\n",
    "        for pep in coordinate_dict:\n",
    "            if pep not in flat_subgraphs:\n",
    "                for atom in coordinate_dict[pep]:\n",
    "                    x_not.append(coordinate_dict[pep][atom][0])\n",
    "                    y_not.append(coordinate_dict[pep][atom][1])\n",
    "                    z_not.append(coordinate_dict[pep][atom][2])\n",
    "        \n",
    "        fig = plt.figure()\n",
    "    \n",
    "        ax = plt.axes(projection='3d')\n",
    "    \n",
    "        # scatter aggregates atoms\n",
    "        for group in x:\n",
    "    \n",
    "            ax.scatter3D(x[group],y[group],z[group], color=colors[sense_dict[group]['value']])\n",
    "        \n",
    "        # scatter non contacting peptides atoms\n",
    "        ax.scatter3D(x_not, y_not, z_not, color=colors['no'])\n",
    "        \n",
    "        return plt.show()\n",
    "    \n",
    "    \n",
    "    def plot_graph(self, frame: int):\n",
    "        '''Plot the frame graph, with visual information about\n",
    "            number of contacts between peptides and sense of the contacts.\n",
    "            \n",
    "            Edge thickness scale with the number of contacts between two\n",
    "            contacting peptides.\n",
    "            \n",
    "            Green edges are parallel contacts.\n",
    "            Blue edges are antiparallel contacts.\n",
    "        Parameters\n",
    "        ----------\n",
    "        frame : int\n",
    "            The frame of which you want to plot the graph.\n",
    "        Returns\n",
    "        -------\n",
    "        plot\n",
    "            matplotlib.pyplot 3d scatter5 plot.\n",
    "        '''\n",
    "    \n",
    "        graph = self.frames[frame].results.graph\n",
    "        \n",
    "        # Used to plot\n",
    "        edges = graph.edges()\n",
    "        colors = [graph[u][v][0]['color'] for u,v in edges]\n",
    "        weights = [graph[u][v][0]['weight'] for u,v in edges]\n",
    "        \n",
    "        # output a plot\n",
    "        return nx.draw_networkx(graph, edges=edges, edge_color=colors, width=weights)\n",
    "\n",
    "    \n",
    "# Use the .gro file but do not select by using the BB nomenclature\n",
    "# Use instead the aminoacids names and numbers on the first element\n",
    "# and compare it with the data inside molnames"
   ]
  },
  {
   "cell_type": "code",
   "execution_count": 189,
   "metadata": {},
   "outputs": [],
   "source": [
    "def normalized_cross_correlation_function_torch(contact_map, minimum_contact=2):\n",
    "    '''\n",
    "    Calculate normalized cross correlation function between a contact map and an ideal map.\n",
    "\n",
    "    Arguments : contact map, as output from get_contact_maps function\n",
    "                shift_matrix_stack, as output from shift_matrix_maker function\n",
    "\n",
    "    Return : a list [ncc_value, index (in the shift_matrix_stack) of the shift matrix\n",
    "                that is matching the contact map\n",
    "\n",
    "            '''\n",
    "    minimum_contact=2\n",
    "    contact_map = contact_map.double()\n",
    "    shift_matrix_library = shift_library_maker_torch(contact_map)\n",
    "\n",
    "    cross_correlation_values = []\n",
    "    max_val = []\n",
    "    sum_contact_map = torch.sum(contact_map)\n",
    "    shift_matrix_center_index = ((contact_map.shape[0] + contact_map.shape[1]) -1)//2\n",
    "    #print(\"sum_contact_map dtype is: %s \" % str(type(sum_contact_map)))\n",
    "\n",
    "    if sum_contact_map < minimum_contact:\n",
    "        pass\n",
    "\n",
    "    else:\n",
    "        for sense in shift_matrix_library:\n",
    "            for index, z in enumerate(shift_matrix_library[sense]):\n",
    "\n",
    "                shift_matrix = shift_matrix_library[sense][index]\n",
    "                sum_shift_matrix = torch.sum(shift_matrix)\n",
    "                #print(\"contact_map type is: %s\" % str(contact_map.dtype))\n",
    "                ncc_value = (torch.sum((contact_map * shift_matrix))/((torch.sqrt(sum_contact_map))*(torch.sqrt(sum_shift_matrix))))  # normalized cross correlation function of contact matrix and shift matrix\n",
    "                \n",
    "                cross_correlation_values.append([ncc_value, index, sum_contact_map, sense])\n",
    "\n",
    "        max_val = max(cross_correlation_values) # get only the best match (highest value of ncc)\n",
    "\n",
    "        #shift = abs(shift_matrix_center_index - max_val[1])\n",
    "        denoised_map = contact_map * shift_matrix_library[max_val[3]][max_val[1]]\n",
    "        sum_denoised = torch.sum(denoised_map)\n",
    "        #print('sum_denoised is: %d' % sum_denoised)\n",
    "        \n",
    "        if sum_denoised >= minimum_contact:\n",
    "            \n",
    "            shift = shift_matrix_center_index - max_val[1]\n",
    "            max_val[2] = sum_denoised\n",
    "            max_val.append(shift)\n",
    "            \n",
    "            return max_val\n",
    "        \n",
    "        else:\n",
    "            pass"
   ]
  },
  {
   "cell_type": "code",
   "execution_count": null,
   "metadata": {},
   "outputs": [],
   "source": [
    "max_val"
   ]
  },
  {
   "cell_type": "code",
   "execution_count": null,
   "metadata": {},
   "outputs": [],
   "source": [
    "def contact_list_from_dict(contact_dict):\n",
    "    \n",
    "    contact_list = []\n",
    "    for peptide in contact_dict:\n",
    "\n",
    "        for contact in contact_dict[peptide]:\n",
    "\n",
    "            new_data = [contact[0], contact[1], contact[2][0], contact[2][1], contact[2][2], contact[2][3], contact[2][4]]\n",
    "            contact_list.append(new_data)\n",
    "    return contact_list"
   ]
  },
  {
   "cell_type": "code",
   "execution_count": null,
   "metadata": {},
   "outputs": [],
   "source": [
    "len(shift_matrix_library['antiparallel'])"
   ]
  },
  {
   "cell_type": "code",
   "execution_count": null,
   "metadata": {},
   "outputs": [],
   "source": [
    "plt.imshow(shift_matrix_library['antiparallel'][20])"
   ]
  },
  {
   "cell_type": "code",
   "execution_count": null,
   "metadata": {},
   "outputs": [],
   "source": [
    "plt.imshow(self.frames[150].results.contact_maps[2][18])"
   ]
  },
  {
   "cell_type": "code",
   "execution_count": null,
   "metadata": {
    "scrolled": true
   },
   "outputs": [],
   "source": [
    "self.frames[150].results.cross_correlation"
   ]
  },
  {
   "cell_type": "code",
   "execution_count": null,
   "metadata": {
    "scrolled": true
   },
   "outputs": [],
   "source": [
    "self.frames[150].results.cross_correlation.iloc[0]"
   ]
  },
  {
   "cell_type": "code",
   "execution_count": null,
   "metadata": {},
   "outputs": [],
   "source": [
    "for contacting in self.frames[150].results.cross_correlation.iloc:\n",
    "    if contacting['sense'] == 'antiparallel':\n",
    "        \n",
    "        "
   ]
  },
  {
   "cell_type": "code",
   "execution_count": null,
   "metadata": {},
   "outputs": [],
   "source": [
    "%matplotlib inline"
   ]
  },
  {
   "cell_type": "code",
   "execution_count": 94,
   "metadata": {},
   "outputs": [
    {
     "name": "stdout",
     "output_type": "stream",
     "text": [
      "In your trajectory there are 1001 frames.\n",
      "\n",
      "Length: 21, Peptides: 40\n"
     ]
    }
   ],
   "source": [
    "trj = morphoscanner.trajectory_new.trajectory(glac_3perc_1_gro, glac_3perc_1_trr)"
   ]
  },
  {
   "cell_type": "code",
   "execution_count": 95,
   "metadata": {},
   "outputs": [
    {
     "name": "stdout",
     "output_type": "stream",
     "text": [
      "Exploration of frame 0 done.\n",
      "\n"
     ]
    }
   ],
   "source": [
    "trj.explore()"
   ]
  },
  {
   "cell_type": "code",
   "execution_count": 96,
   "metadata": {},
   "outputs": [
    {
     "name": "stderr",
     "output_type": "stream",
     "text": [
      "100%|██████████| 10/10 [00:00<00:00, 74.22it/s]\n"
     ]
    }
   ],
   "source": [
    "trj.compose_database(100)"
   ]
  },
  {
   "cell_type": "code",
   "execution_count": 97,
   "metadata": {
    "scrolled": true
   },
   "outputs": [
    {
     "name": "stdout",
     "output_type": "stream",
     "text": [
      "processing started...\n",
      "Two nearby atoms of different peptides are contacting if the distance is lower than: tensor(4.9959) Angstrom\n",
      "Analyzing frame n°  0\n",
      "Time to compute distance is:  0.06474200399998153\n"
     ]
    },
    {
     "name": "stderr",
     "output_type": "stream",
     "text": [
      "0it [00:00, ?it/s]\n"
     ]
    },
    {
     "name": "stdout",
     "output_type": "stream",
     "text": [
      "Time to denoise:  0.2355093329997544\n",
      "Finished analysis of frame n° 0\n",
      "Time needed to analyze frame 0 was 0.351505 seconds\n",
      "Analyzing frame n°  100\n",
      "Time to compute distance is:  0.07998650399986218\n"
     ]
    },
    {
     "name": "stderr",
     "output_type": "stream",
     "text": [
      "100%|██████████| 17/17 [00:00<00:00, 46330.84it/s]\n"
     ]
    },
    {
     "name": "stdout",
     "output_type": "stream",
     "text": [
      "Time to denoise:  0.30701932499960094\n",
      "Finished analysis of frame n° 100\n",
      "Time needed to analyze frame 100 was 0.398313 seconds\n",
      "Analyzing frame n°  200\n",
      "Time to compute distance is:  0.07415364300004512\n"
     ]
    },
    {
     "name": "stderr",
     "output_type": "stream",
     "text": [
      "100%|██████████| 13/13 [00:00<00:00, 37423.44it/s]\n"
     ]
    },
    {
     "name": "stdout",
     "output_type": "stream",
     "text": [
      "Time to denoise:  0.3005642110001645\n",
      "Finished analysis of frame n° 200\n",
      "Time needed to analyze frame 200 was 0.386862 seconds\n",
      "Analyzing frame n°  300\n",
      "Time to compute distance is:  0.3616284610002367\n"
     ]
    },
    {
     "name": "stderr",
     "output_type": "stream",
     "text": [
      "100%|██████████| 17/17 [00:00<00:00, 43005.53it/s]\n"
     ]
    },
    {
     "name": "stdout",
     "output_type": "stream",
     "text": [
      "Time to denoise:  0.3661765890001334\n",
      "Finished analysis of frame n° 300\n",
      "Time needed to analyze frame 300 was 0.740713 seconds\n",
      "Analyzing frame n°  400\n",
      "Time to compute distance is:  0.0668221219998486\n"
     ]
    },
    {
     "name": "stderr",
     "output_type": "stream",
     "text": [
      "100%|██████████| 20/20 [00:00<00:00, 44596.53it/s]\n"
     ]
    },
    {
     "name": "stdout",
     "output_type": "stream",
     "text": [
      "Time to denoise:  0.4081255040000542\n",
      "Finished analysis of frame n° 400\n",
      "Time needed to analyze frame 400 was 0.495941 seconds\n",
      "Analyzing frame n°  500\n",
      "Time to compute distance is:  0.06488980699987223\n"
     ]
    },
    {
     "name": "stderr",
     "output_type": "stream",
     "text": [
      "100%|██████████| 18/18 [00:00<00:00, 30138.71it/s]\n"
     ]
    },
    {
     "name": "stdout",
     "output_type": "stream",
     "text": [
      "Time to denoise:  0.36402752700041674\n",
      "Finished analysis of frame n° 500\n",
      "Time needed to analyze frame 500 was 0.445370 seconds\n",
      "Analyzing frame n°  600\n",
      "Time to compute distance is:  0.06472586400013824\n"
     ]
    },
    {
     "name": "stderr",
     "output_type": "stream",
     "text": [
      "100%|██████████| 20/20 [00:00<00:00, 42132.64it/s]\n"
     ]
    },
    {
     "name": "stdout",
     "output_type": "stream",
     "text": [
      "Time to denoise:  0.35613261499975124\n",
      "Finished analysis of frame n° 600\n",
      "Time needed to analyze frame 600 was 0.435682 seconds\n",
      "Analyzing frame n°  700\n",
      "Time to compute distance is:  0.06682164700032445\n"
     ]
    },
    {
     "name": "stderr",
     "output_type": "stream",
     "text": [
      "100%|██████████| 18/18 [00:00<00:00, 33011.57it/s]\n"
     ]
    },
    {
     "name": "stdout",
     "output_type": "stream",
     "text": [
      "Time to denoise:  0.3625459630002297\n",
      "Finished analysis of frame n° 700\n",
      "Time needed to analyze frame 700 was 0.444119 seconds\n",
      "Analyzing frame n°  800\n",
      "Time to compute distance is:  0.06223845900012748\n"
     ]
    },
    {
     "name": "stderr",
     "output_type": "stream",
     "text": [
      "100%|██████████| 21/21 [00:00<00:00, 48717.03it/s]\n"
     ]
    },
    {
     "name": "stdout",
     "output_type": "stream",
     "text": [
      "Time to denoise:  0.34879586799979734\n",
      "Finished analysis of frame n° 800\n",
      "Time needed to analyze frame 800 was 0.425119 seconds\n",
      "Analyzing frame n°  900\n",
      "Time to compute distance is:  0.06363868200014622\n"
     ]
    },
    {
     "name": "stderr",
     "output_type": "stream",
     "text": [
      "100%|██████████| 23/23 [00:00<00:00, 52089.09it/s]\n"
     ]
    },
    {
     "name": "stdout",
     "output_type": "stream",
     "text": [
      "Time to denoise:  0.35183420900011697\n",
      "Finished analysis of frame n° 900\n",
      "Time needed to analyze frame 900 was 0.431755 seconds\n",
      "Analyzing frame n°  1000\n",
      "Time to compute distance is:  0.06249093600035849\n"
     ]
    },
    {
     "name": "stderr",
     "output_type": "stream",
     "text": [
      "100%|██████████| 20/20 [00:00<00:00, 46785.32it/s]"
     ]
    },
    {
     "name": "stdout",
     "output_type": "stream",
     "text": [
      "Time to denoise:  0.32803509600034886\n",
      "Finished analysis of frame n° 1000\n",
      "Time needed to analyze frame 1000 was 0.404443 seconds\n",
      "Total time to analyze dataset was 4.960108 seconds\n"
     ]
    },
    {
     "name": "stderr",
     "output_type": "stream",
     "text": [
      "\n"
     ]
    }
   ],
   "source": [
    "trj.analyze_inLoop(threshold_multiplier=1.45)"
   ]
  },
  {
   "cell_type": "code",
   "execution_count": 98,
   "metadata": {},
   "outputs": [],
   "source": [
    "trj.get_data()"
   ]
  },
  {
   "cell_type": "code",
   "execution_count": 99,
   "metadata": {},
   "outputs": [],
   "source": [
    "trj.get_database()"
   ]
  },
  {
   "cell_type": "code",
   "execution_count": 100,
   "metadata": {},
   "outputs": [
    {
     "data": {
      "text/html": [
       "<div>\n",
       "<style scoped>\n",
       "    .dataframe tbody tr th:only-of-type {\n",
       "        vertical-align: middle;\n",
       "    }\n",
       "\n",
       "    .dataframe tbody tr th {\n",
       "        vertical-align: top;\n",
       "    }\n",
       "\n",
       "    .dataframe thead th {\n",
       "        text-align: right;\n",
       "    }\n",
       "</style>\n",
       "<table border=\"1\" class=\"dataframe\">\n",
       "  <thead>\n",
       "    <tr style=\"text-align: right;\">\n",
       "      <th></th>\n",
       "      <th>n° of peptides in macroaggregates</th>\n",
       "      <th>parallel</th>\n",
       "      <th>antiparallel</th>\n",
       "      <th>n° of macroaggreates</th>\n",
       "      <th>0</th>\n",
       "      <th>1</th>\n",
       "      <th>2</th>\n",
       "      <th>3</th>\n",
       "      <th>4</th>\n",
       "      <th>5</th>\n",
       "      <th>6</th>\n",
       "      <th>7</th>\n",
       "      <th>8</th>\n",
       "      <th>9</th>\n",
       "      <th>10</th>\n",
       "    </tr>\n",
       "  </thead>\n",
       "  <tbody>\n",
       "    <tr>\n",
       "      <th>0</th>\n",
       "      <td>[]</td>\n",
       "      <td>0</td>\n",
       "      <td>0</td>\n",
       "      <td>0</td>\n",
       "      <td>NaN</td>\n",
       "      <td>NaN</td>\n",
       "      <td>NaN</td>\n",
       "      <td>NaN</td>\n",
       "      <td>NaN</td>\n",
       "      <td>NaN</td>\n",
       "      <td>NaN</td>\n",
       "      <td>NaN</td>\n",
       "      <td>NaN</td>\n",
       "      <td>NaN</td>\n",
       "      <td>NaN</td>\n",
       "    </tr>\n",
       "    <tr>\n",
       "      <th>100</th>\n",
       "      <td>[5, 4, 4, 3, 3, 3, 2, 2, 2, 2]</td>\n",
       "      <td>6</td>\n",
       "      <td>14</td>\n",
       "      <td>10</td>\n",
       "      <td>{'parallel': 0, 'antiparallel': 4}</td>\n",
       "      <td>{'parallel': 1, 'antiparallel': 2}</td>\n",
       "      <td>{'parallel': 1, 'antiparallel': 2}</td>\n",
       "      <td>{'parallel': 0, 'antiparallel': 2}</td>\n",
       "      <td>{'parallel': 1, 'antiparallel': 1}</td>\n",
       "      <td>{'parallel': 0, 'antiparallel': 2}</td>\n",
       "      <td>{'parallel': 0, 'antiparallel': 1}</td>\n",
       "      <td>{'parallel': 1, 'antiparallel': 0}</td>\n",
       "      <td>{'parallel': 1, 'antiparallel': 0}</td>\n",
       "      <td>{'parallel': 1, 'antiparallel': 0}</td>\n",
       "      <td>NaN</td>\n",
       "    </tr>\n",
       "    <tr>\n",
       "      <th>200</th>\n",
       "      <td>[6, 4, 4, 3, 2, 2, 2]</td>\n",
       "      <td>11</td>\n",
       "      <td>6</td>\n",
       "      <td>7</td>\n",
       "      <td>{'parallel': 5, 'antiparallel': 1}</td>\n",
       "      <td>{'parallel': 2, 'antiparallel': 1}</td>\n",
       "      <td>{'parallel': 3, 'antiparallel': 0}</td>\n",
       "      <td>{'parallel': 0, 'antiparallel': 2}</td>\n",
       "      <td>{'parallel': 0, 'antiparallel': 1}</td>\n",
       "      <td>{'parallel': 1, 'antiparallel': 0}</td>\n",
       "      <td>{'parallel': 0, 'antiparallel': 1}</td>\n",
       "      <td>NaN</td>\n",
       "      <td>NaN</td>\n",
       "      <td>NaN</td>\n",
       "      <td>NaN</td>\n",
       "    </tr>\n",
       "    <tr>\n",
       "      <th>300</th>\n",
       "      <td>[9, 6, 5, 4, 3, 2]</td>\n",
       "      <td>8</td>\n",
       "      <td>15</td>\n",
       "      <td>6</td>\n",
       "      <td>{'parallel': 3, 'antiparallel': 5}</td>\n",
       "      <td>{'parallel': 3, 'antiparallel': 2}</td>\n",
       "      <td>{'parallel': 1, 'antiparallel': 3}</td>\n",
       "      <td>{'parallel': 0, 'antiparallel': 3}</td>\n",
       "      <td>{'parallel': 0, 'antiparallel': 2}</td>\n",
       "      <td>{'parallel': 1, 'antiparallel': 0}</td>\n",
       "      <td>NaN</td>\n",
       "      <td>NaN</td>\n",
       "      <td>NaN</td>\n",
       "      <td>NaN</td>\n",
       "      <td>NaN</td>\n",
       "    </tr>\n",
       "    <tr>\n",
       "      <th>400</th>\n",
       "      <td>[24, 7, 2]</td>\n",
       "      <td>14</td>\n",
       "      <td>18</td>\n",
       "      <td>3</td>\n",
       "      <td>{'parallel': 11, 'antiparallel': 14}</td>\n",
       "      <td>{'parallel': 3, 'antiparallel': 3}</td>\n",
       "      <td>{'parallel': 0, 'antiparallel': 1}</td>\n",
       "      <td>NaN</td>\n",
       "      <td>NaN</td>\n",
       "      <td>NaN</td>\n",
       "      <td>NaN</td>\n",
       "      <td>NaN</td>\n",
       "      <td>NaN</td>\n",
       "      <td>NaN</td>\n",
       "      <td>NaN</td>\n",
       "    </tr>\n",
       "    <tr>\n",
       "      <th>500</th>\n",
       "      <td>[9, 6, 5, 4, 2, 2, 2]</td>\n",
       "      <td>11</td>\n",
       "      <td>13</td>\n",
       "      <td>7</td>\n",
       "      <td>{'parallel': 4, 'antiparallel': 5}</td>\n",
       "      <td>{'parallel': 4, 'antiparallel': 1}</td>\n",
       "      <td>{'parallel': 2, 'antiparallel': 2}</td>\n",
       "      <td>{'parallel': 1, 'antiparallel': 2}</td>\n",
       "      <td>{'parallel': 0, 'antiparallel': 1}</td>\n",
       "      <td>{'parallel': 0, 'antiparallel': 1}</td>\n",
       "      <td>{'parallel': 0, 'antiparallel': 1}</td>\n",
       "      <td>NaN</td>\n",
       "      <td>NaN</td>\n",
       "      <td>NaN</td>\n",
       "      <td>NaN</td>\n",
       "    </tr>\n",
       "    <tr>\n",
       "      <th>600</th>\n",
       "      <td>[7, 6, 6, 5, 4, 3, 2]</td>\n",
       "      <td>9</td>\n",
       "      <td>17</td>\n",
       "      <td>7</td>\n",
       "      <td>{'parallel': 0, 'antiparallel': 6}</td>\n",
       "      <td>{'parallel': 2, 'antiparallel': 3}</td>\n",
       "      <td>{'parallel': 2, 'antiparallel': 3}</td>\n",
       "      <td>{'parallel': 2, 'antiparallel': 2}</td>\n",
       "      <td>{'parallel': 1, 'antiparallel': 2}</td>\n",
       "      <td>{'parallel': 1, 'antiparallel': 1}</td>\n",
       "      <td>{'parallel': 1, 'antiparallel': 0}</td>\n",
       "      <td>NaN</td>\n",
       "      <td>NaN</td>\n",
       "      <td>NaN</td>\n",
       "      <td>NaN</td>\n",
       "    </tr>\n",
       "    <tr>\n",
       "      <th>700</th>\n",
       "      <td>[6, 6, 4, 3, 3, 3, 2, 2, 2, 2, 2]</td>\n",
       "      <td>7</td>\n",
       "      <td>18</td>\n",
       "      <td>11</td>\n",
       "      <td>{'parallel': 1, 'antiparallel': 5}</td>\n",
       "      <td>{'parallel': 1, 'antiparallel': 4}</td>\n",
       "      <td>{'parallel': 1, 'antiparallel': 2}</td>\n",
       "      <td>{'parallel': 0, 'antiparallel': 2}</td>\n",
       "      <td>{'parallel': 1, 'antiparallel': 1}</td>\n",
       "      <td>{'parallel': 0, 'antiparallel': 2}</td>\n",
       "      <td>{'parallel': 0, 'antiparallel': 1}</td>\n",
       "      <td>{'parallel': 1, 'antiparallel': 0}</td>\n",
       "      <td>{'parallel': 1, 'antiparallel': 0}</td>\n",
       "      <td>{'parallel': 1, 'antiparallel': 0}</td>\n",
       "      <td>{'parallel': 0, 'antiparallel': 1}</td>\n",
       "    </tr>\n",
       "    <tr>\n",
       "      <th>800</th>\n",
       "      <td>[8, 6, 6, 3, 2, 2, 2, 2]</td>\n",
       "      <td>11</td>\n",
       "      <td>12</td>\n",
       "      <td>8</td>\n",
       "      <td>{'parallel': 3, 'antiparallel': 4}</td>\n",
       "      <td>{'parallel': 2, 'antiparallel': 3}</td>\n",
       "      <td>{'parallel': 3, 'antiparallel': 2}</td>\n",
       "      <td>{'parallel': 2, 'antiparallel': 0}</td>\n",
       "      <td>{'parallel': 0, 'antiparallel': 1}</td>\n",
       "      <td>{'parallel': 0, 'antiparallel': 1}</td>\n",
       "      <td>{'parallel': 0, 'antiparallel': 1}</td>\n",
       "      <td>{'parallel': 1, 'antiparallel': 0}</td>\n",
       "      <td>NaN</td>\n",
       "      <td>NaN</td>\n",
       "      <td>NaN</td>\n",
       "    </tr>\n",
       "    <tr>\n",
       "      <th>900</th>\n",
       "      <td>[16, 5, 4, 3, 3, 2, 2]</td>\n",
       "      <td>11</td>\n",
       "      <td>19</td>\n",
       "      <td>7</td>\n",
       "      <td>{'parallel': 8, 'antiparallel': 8}</td>\n",
       "      <td>{'parallel': 1, 'antiparallel': 3}</td>\n",
       "      <td>{'parallel': 0, 'antiparallel': 3}</td>\n",
       "      <td>{'parallel': 0, 'antiparallel': 2}</td>\n",
       "      <td>{'parallel': 2, 'antiparallel': 1}</td>\n",
       "      <td>{'parallel': 0, 'antiparallel': 1}</td>\n",
       "      <td>{'parallel': 0, 'antiparallel': 1}</td>\n",
       "      <td>NaN</td>\n",
       "      <td>NaN</td>\n",
       "      <td>NaN</td>\n",
       "      <td>NaN</td>\n",
       "    </tr>\n",
       "    <tr>\n",
       "      <th>1000</th>\n",
       "      <td>[8, 5, 3, 3, 3, 3, 2, 2, 2, 2]</td>\n",
       "      <td>10</td>\n",
       "      <td>14</td>\n",
       "      <td>10</td>\n",
       "      <td>{'parallel': 4, 'antiparallel': 4}</td>\n",
       "      <td>{'parallel': 1, 'antiparallel': 3}</td>\n",
       "      <td>{'parallel': 1, 'antiparallel': 1}</td>\n",
       "      <td>{'parallel': 0, 'antiparallel': 2}</td>\n",
       "      <td>{'parallel': 1, 'antiparallel': 1}</td>\n",
       "      <td>{'parallel': 1, 'antiparallel': 1}</td>\n",
       "      <td>{'parallel': 1, 'antiparallel': 0}</td>\n",
       "      <td>{'parallel': 1, 'antiparallel': 0}</td>\n",
       "      <td>{'parallel': 0, 'antiparallel': 1}</td>\n",
       "      <td>{'parallel': 0, 'antiparallel': 1}</td>\n",
       "      <td>NaN</td>\n",
       "    </tr>\n",
       "  </tbody>\n",
       "</table>\n",
       "</div>"
      ],
      "text/plain": [
       "      n° of peptides in macroaggregates  parallel  antiparallel  \\\n",
       "0                                    []         0             0   \n",
       "100      [5, 4, 4, 3, 3, 3, 2, 2, 2, 2]         6            14   \n",
       "200               [6, 4, 4, 3, 2, 2, 2]        11             6   \n",
       "300                  [9, 6, 5, 4, 3, 2]         8            15   \n",
       "400                          [24, 7, 2]        14            18   \n",
       "500               [9, 6, 5, 4, 2, 2, 2]        11            13   \n",
       "600               [7, 6, 6, 5, 4, 3, 2]         9            17   \n",
       "700   [6, 6, 4, 3, 3, 3, 2, 2, 2, 2, 2]         7            18   \n",
       "800            [8, 6, 6, 3, 2, 2, 2, 2]        11            12   \n",
       "900              [16, 5, 4, 3, 3, 2, 2]        11            19   \n",
       "1000     [8, 5, 3, 3, 3, 3, 2, 2, 2, 2]        10            14   \n",
       "\n",
       "      n° of macroaggreates                                     0  \\\n",
       "0                        0                                   NaN   \n",
       "100                     10    {'parallel': 0, 'antiparallel': 4}   \n",
       "200                      7    {'parallel': 5, 'antiparallel': 1}   \n",
       "300                      6    {'parallel': 3, 'antiparallel': 5}   \n",
       "400                      3  {'parallel': 11, 'antiparallel': 14}   \n",
       "500                      7    {'parallel': 4, 'antiparallel': 5}   \n",
       "600                      7    {'parallel': 0, 'antiparallel': 6}   \n",
       "700                     11    {'parallel': 1, 'antiparallel': 5}   \n",
       "800                      8    {'parallel': 3, 'antiparallel': 4}   \n",
       "900                      7    {'parallel': 8, 'antiparallel': 8}   \n",
       "1000                    10    {'parallel': 4, 'antiparallel': 4}   \n",
       "\n",
       "                                       1                                   2  \\\n",
       "0                                    NaN                                 NaN   \n",
       "100   {'parallel': 1, 'antiparallel': 2}  {'parallel': 1, 'antiparallel': 2}   \n",
       "200   {'parallel': 2, 'antiparallel': 1}  {'parallel': 3, 'antiparallel': 0}   \n",
       "300   {'parallel': 3, 'antiparallel': 2}  {'parallel': 1, 'antiparallel': 3}   \n",
       "400   {'parallel': 3, 'antiparallel': 3}  {'parallel': 0, 'antiparallel': 1}   \n",
       "500   {'parallel': 4, 'antiparallel': 1}  {'parallel': 2, 'antiparallel': 2}   \n",
       "600   {'parallel': 2, 'antiparallel': 3}  {'parallel': 2, 'antiparallel': 3}   \n",
       "700   {'parallel': 1, 'antiparallel': 4}  {'parallel': 1, 'antiparallel': 2}   \n",
       "800   {'parallel': 2, 'antiparallel': 3}  {'parallel': 3, 'antiparallel': 2}   \n",
       "900   {'parallel': 1, 'antiparallel': 3}  {'parallel': 0, 'antiparallel': 3}   \n",
       "1000  {'parallel': 1, 'antiparallel': 3}  {'parallel': 1, 'antiparallel': 1}   \n",
       "\n",
       "                                       3                                   4  \\\n",
       "0                                    NaN                                 NaN   \n",
       "100   {'parallel': 0, 'antiparallel': 2}  {'parallel': 1, 'antiparallel': 1}   \n",
       "200   {'parallel': 0, 'antiparallel': 2}  {'parallel': 0, 'antiparallel': 1}   \n",
       "300   {'parallel': 0, 'antiparallel': 3}  {'parallel': 0, 'antiparallel': 2}   \n",
       "400                                  NaN                                 NaN   \n",
       "500   {'parallel': 1, 'antiparallel': 2}  {'parallel': 0, 'antiparallel': 1}   \n",
       "600   {'parallel': 2, 'antiparallel': 2}  {'parallel': 1, 'antiparallel': 2}   \n",
       "700   {'parallel': 0, 'antiparallel': 2}  {'parallel': 1, 'antiparallel': 1}   \n",
       "800   {'parallel': 2, 'antiparallel': 0}  {'parallel': 0, 'antiparallel': 1}   \n",
       "900   {'parallel': 0, 'antiparallel': 2}  {'parallel': 2, 'antiparallel': 1}   \n",
       "1000  {'parallel': 0, 'antiparallel': 2}  {'parallel': 1, 'antiparallel': 1}   \n",
       "\n",
       "                                       5                                   6  \\\n",
       "0                                    NaN                                 NaN   \n",
       "100   {'parallel': 0, 'antiparallel': 2}  {'parallel': 0, 'antiparallel': 1}   \n",
       "200   {'parallel': 1, 'antiparallel': 0}  {'parallel': 0, 'antiparallel': 1}   \n",
       "300   {'parallel': 1, 'antiparallel': 0}                                 NaN   \n",
       "400                                  NaN                                 NaN   \n",
       "500   {'parallel': 0, 'antiparallel': 1}  {'parallel': 0, 'antiparallel': 1}   \n",
       "600   {'parallel': 1, 'antiparallel': 1}  {'parallel': 1, 'antiparallel': 0}   \n",
       "700   {'parallel': 0, 'antiparallel': 2}  {'parallel': 0, 'antiparallel': 1}   \n",
       "800   {'parallel': 0, 'antiparallel': 1}  {'parallel': 0, 'antiparallel': 1}   \n",
       "900   {'parallel': 0, 'antiparallel': 1}  {'parallel': 0, 'antiparallel': 1}   \n",
       "1000  {'parallel': 1, 'antiparallel': 1}  {'parallel': 1, 'antiparallel': 0}   \n",
       "\n",
       "                                       7                                   8  \\\n",
       "0                                    NaN                                 NaN   \n",
       "100   {'parallel': 1, 'antiparallel': 0}  {'parallel': 1, 'antiparallel': 0}   \n",
       "200                                  NaN                                 NaN   \n",
       "300                                  NaN                                 NaN   \n",
       "400                                  NaN                                 NaN   \n",
       "500                                  NaN                                 NaN   \n",
       "600                                  NaN                                 NaN   \n",
       "700   {'parallel': 1, 'antiparallel': 0}  {'parallel': 1, 'antiparallel': 0}   \n",
       "800   {'parallel': 1, 'antiparallel': 0}                                 NaN   \n",
       "900                                  NaN                                 NaN   \n",
       "1000  {'parallel': 1, 'antiparallel': 0}  {'parallel': 0, 'antiparallel': 1}   \n",
       "\n",
       "                                       9                                  10  \n",
       "0                                    NaN                                 NaN  \n",
       "100   {'parallel': 1, 'antiparallel': 0}                                 NaN  \n",
       "200                                  NaN                                 NaN  \n",
       "300                                  NaN                                 NaN  \n",
       "400                                  NaN                                 NaN  \n",
       "500                                  NaN                                 NaN  \n",
       "600                                  NaN                                 NaN  \n",
       "700   {'parallel': 1, 'antiparallel': 0}  {'parallel': 0, 'antiparallel': 1}  \n",
       "800                                  NaN                                 NaN  \n",
       "900                                  NaN                                 NaN  \n",
       "1000  {'parallel': 0, 'antiparallel': 1}                                 NaN  "
      ]
     },
     "execution_count": 100,
     "metadata": {},
     "output_type": "execute_result"
    }
   ],
   "source": [
    "trj.database"
   ]
  },
  {
   "cell_type": "code",
   "execution_count": 101,
   "metadata": {},
   "outputs": [
    {
     "data": {
      "image/png": "[encoded data removed]",
      "text/plain": [
       "<Figure size 432x288 with 1 Axes>"
      ]
     },
     "metadata": {
      "needs_background": "light"
     },
     "output_type": "display_data"
    }
   ],
   "source": [
    "trj.plot_aggregates()"
   ]
  },
  {
   "cell_type": "code",
   "execution_count": 102,
   "metadata": {},
   "outputs": [
    {
     "data": {
      "image/png": "[encoded data removed]",
      "text/plain": [
       "<Figure size 432x288 with 1 Axes>"
      ]
     },
     "metadata": {
      "needs_background": "light"
     },
     "output_type": "display_data"
    }
   ],
   "source": [
    "trj.plot_contacts()"
   ]
  },
  {
   "cell_type": "code",
   "execution_count": 103,
   "metadata": {},
   "outputs": [
    {
     "data": {
      "image/png": "[encoded data removed]",
      "text/plain": [
       "<Figure size 432x288 with 1 Axes>"
      ]
     },
     "metadata": {
      "needs_background": "light"
     },
     "output_type": "display_data"
    }
   ],
   "source": [
    "trj.plot_peptides_in_beta()"
   ]
  },
  {
   "cell_type": "code",
   "execution_count": 104,
   "metadata": {},
   "outputs": [
    {
     "data": {
      "image/png": "[encoded data removed]",
      "text/plain": [
       "<Figure size 432x288 with 1 Axes>"
      ]
     },
     "metadata": {},
     "output_type": "display_data"
    }
   ],
   "source": [
    "trj.plot_graph(1000)"
   ]
  },
  {
   "cell_type": "code",
   "execution_count": 105,
   "metadata": {},
   "outputs": [
    {
     "data": {
      "image/png": "[encoded data removed]",
      "text/plain": [
       "<Figure size 432x288 with 1 Axes>"
      ]
     },
     "metadata": {
      "needs_background": "light"
     },
     "output_type": "display_data"
    }
   ],
   "source": [
    "trj.plot_frame_aggregate(1000)"
   ]
  },
  {
   "cell_type": "code",
   "execution_count": null,
   "metadata": {
    "scrolled": true
   },
   "outputs": [],
   "source": [
    "self.frames.keys()"
   ]
  },
  {
   "cell_type": "code",
   "execution_count": null,
   "metadata": {},
   "outputs": [],
   "source": [
    "def shift_profile(self):\n",
    "    \n",
    "    shift_profile = {}\n",
    "    for frame in self.frames:\n",
    "        shift_profile[frame] = {} \n",
    "        for shift_value in self.frames[frame].results.cross_correlation['shift']:\n",
    "            try:\n",
    "                shift_profile[frame][shift_value] += 1\n",
    "            except:\n",
    "                shift_profile[frame][shift_value] = 1\n",
    "        \n",
    "        f = {k[0]:k[1] for k in sorted(shift_profile[frame].items())}\n",
    "        self.frames[frame].results.shift_profile = f\n",
    "    return\n",
    "\n",
    "    \n",
    "    "
   ]
  },
  {
   "cell_type": "code",
   "execution_count": null,
   "metadata": {},
   "outputs": [],
   "source": [
    "a = shift_profile[50]"
   ]
  },
  {
   "cell_type": "code",
   "execution_count": null,
   "metadata": {},
   "outputs": [],
   "source": [
    "self.frames[50].results.cross_correlation['shift']"
   ]
  },
  {
   "cell_type": "code",
   "execution_count": null,
   "metadata": {},
   "outputs": [],
   "source": [
    "def plot_shift(self, frame=None):\n",
    "    f = self.frames[frame].results.shift_profile\n",
    "    x = [val for val in f.keys()]\n",
    "    y = [k for k in f.values()]\n",
    "    plt.plot(x, y)\n",
    "    plt.xlabel('Shift value')\n",
    "    plt.ylabel('Number of contacts')\n",
    "    plt.show() \n",
    "    return\n"
   ]
  },
  {
   "cell_type": "code",
   "execution_count": 48,
   "metadata": {},
   "outputs": [],
   "source": [
    "s = trj"
   ]
  },
  {
   "cell_type": "code",
   "execution_count": 49,
   "metadata": {},
   "outputs": [
    {
     "data": {
      "image/png": "[encoded data removed]",
      "text/plain": [
       "<Figure size 432x288 with 1 Axes>"
      ]
     },
     "metadata": {
      "needs_background": "light"
     },
     "output_type": "display_data"
    }
   ],
   "source": [
    "s.plot_aggregates()"
   ]
  },
  {
   "cell_type": "code",
   "execution_count": null,
   "metadata": {},
   "outputs": [],
   "source": []
  },
  {
   "cell_type": "code",
   "execution_count": null,
   "metadata": {},
   "outputs": [],
   "source": []
  },
  {
   "cell_type": "code",
   "execution_count": 190,
   "metadata": {},
   "outputs": [
    {
     "name": "stdout",
     "output_type": "stream",
     "text": [
      "In your trajectory there are 1001 frames.\n",
      "\n",
      "Length: 21, Peptides: 40\n"
     ]
    }
   ],
   "source": [
    "trj = trajectory(glac_3perc_1_gro, glac_3perc_1_trr, select=['aminoacids'])"
   ]
  },
  {
   "cell_type": "code",
   "execution_count": 191,
   "metadata": {},
   "outputs": [
    {
     "name": "stdout",
     "output_type": "stream",
     "text": [
      "Exploration of frame 0 done.\n",
      "\n"
     ]
    }
   ],
   "source": [
    "trj.explore()"
   ]
  },
  {
   "cell_type": "code",
   "execution_count": 192,
   "metadata": {},
   "outputs": [
    {
     "name": "stderr",
     "output_type": "stream",
     "text": [
      "100%|██████████| 10/10 [00:00<00:00, 70.95it/s]\n"
     ]
    }
   ],
   "source": [
    "trj.compose_database(100)"
   ]
  },
  {
   "cell_type": "code",
   "execution_count": 193,
   "metadata": {
    "scrolled": false
   },
   "outputs": [
    {
     "name": "stdout",
     "output_type": "stream",
     "text": [
      "processing started...\n",
      "Two nearby atoms of different peptides are contacting if the distance is lower than: tensor(4.9959) Angstrom\n",
      "Analyzing frame n°  0\n",
      "Time to compute distance is:  0.06325030399966636\n"
     ]
    },
    {
     "name": "stderr",
     "output_type": "stream",
     "text": [
      "0it [00:00, ?it/s]\n"
     ]
    },
    {
     "name": "stdout",
     "output_type": "stream",
     "text": [
      "Time to denoise:  0.2193475150006634\n",
      "Finished analysis of frame n° 0\n",
      "Time needed to analyze frame 0 was 0.325814 seconds\n",
      "Analyzing frame n°  100\n",
      "Time to compute distance is:  0.062154596999789646\n"
     ]
    },
    {
     "name": "stderr",
     "output_type": "stream",
     "text": [
      "100%|██████████| 7/7 [00:00<00:00, 18134.73it/s]\n"
     ]
    },
    {
     "name": "stdout",
     "output_type": "stream",
     "text": [
      "Time to denoise:  0.30200415999934194\n",
      "Finished analysis of frame n° 100\n",
      "Time needed to analyze frame 100 was 0.369902 seconds\n",
      "Analyzing frame n°  200\n",
      "Time to compute distance is:  0.06286804600040341\n"
     ]
    },
    {
     "name": "stderr",
     "output_type": "stream",
     "text": [
      "100%|██████████| 7/7 [00:00<00:00, 18629.52it/s]\n"
     ]
    },
    {
     "name": "stdout",
     "output_type": "stream",
     "text": [
      "Time to denoise:  0.289322607000031\n",
      "Finished analysis of frame n° 200\n",
      "Time needed to analyze frame 200 was 0.357835 seconds\n",
      "Analyzing frame n°  300\n",
      "Time to compute distance is:  0.06912904100045125\n"
     ]
    },
    {
     "name": "stderr",
     "output_type": "stream",
     "text": [
      "100%|██████████| 5/5 [00:00<00:00, 13953.11it/s]\n"
     ]
    },
    {
     "name": "stdout",
     "output_type": "stream",
     "text": [
      "Time to denoise:  0.3172296869997808\n",
      "Finished analysis of frame n° 300\n",
      "Time needed to analyze frame 300 was 0.390381 seconds\n",
      "Analyzing frame n°  400\n",
      "Time to compute distance is:  0.06575467699985893\n"
     ]
    },
    {
     "name": "stderr",
     "output_type": "stream",
     "text": [
      "100%|██████████| 11/11 [00:00<00:00, 18178.62it/s]\n"
     ]
    },
    {
     "name": "stdout",
     "output_type": "stream",
     "text": [
      "Time to denoise:  0.39000360099998943\n",
      "Finished analysis of frame n° 400\n",
      "Time needed to analyze frame 400 was 0.465708 seconds\n",
      "Analyzing frame n°  500\n",
      "Time to compute distance is:  0.06890115599981073\n"
     ]
    },
    {
     "name": "stderr",
     "output_type": "stream",
     "text": [
      "100%|██████████| 11/11 [00:00<00:00, 21660.72it/s]\n"
     ]
    },
    {
     "name": "stdout",
     "output_type": "stream",
     "text": [
      "Time to denoise:  0.35218768100003217\n",
      "Finished analysis of frame n° 500\n",
      "Time needed to analyze frame 500 was 0.430433 seconds\n",
      "Analyzing frame n°  600\n",
      "Time to compute distance is:  0.06620498200027214\n"
     ]
    },
    {
     "name": "stderr",
     "output_type": "stream",
     "text": [
      "100%|██████████| 10/10 [00:00<00:00, 28149.69it/s]\n"
     ]
    },
    {
     "name": "stdout",
     "output_type": "stream",
     "text": [
      "Time to denoise:  0.3708188880000307\n",
      "Finished analysis of frame n° 600\n",
      "Time needed to analyze frame 600 was 0.445630 seconds\n",
      "Analyzing frame n°  700\n",
      "Time to compute distance is:  0.06944429199938895\n"
     ]
    },
    {
     "name": "stderr",
     "output_type": "stream",
     "text": [
      "100%|██████████| 8/8 [00:00<00:00, 20763.88it/s]\n"
     ]
    },
    {
     "name": "stdout",
     "output_type": "stream",
     "text": [
      "Time to denoise:  0.3581412440007625\n",
      "Finished analysis of frame n° 700\n",
      "Time needed to analyze frame 700 was 0.433062 seconds\n",
      "Analyzing frame n°  800\n",
      "Time to compute distance is:  0.06919981899955019\n"
     ]
    },
    {
     "name": "stderr",
     "output_type": "stream",
     "text": [
      "100%|██████████| 4/4 [00:00<00:00, 10578.32it/s]\n"
     ]
    },
    {
     "name": "stdout",
     "output_type": "stream",
     "text": [
      "Time to denoise:  0.3188832750001893\n",
      "Finished analysis of frame n° 800\n",
      "Time needed to analyze frame 800 was 0.391508 seconds\n",
      "Analyzing frame n°  900\n",
      "Time to compute distance is:  0.07072532000074716\n"
     ]
    },
    {
     "name": "stderr",
     "output_type": "stream",
     "text": [
      "100%|██████████| 10/10 [00:00<00:00, 25987.01it/s]\n"
     ]
    },
    {
     "name": "stdout",
     "output_type": "stream",
     "text": [
      "Time to denoise:  0.3585979480003516\n",
      "Finished analysis of frame n° 900\n",
      "Time needed to analyze frame 900 was 0.436373 seconds\n",
      "Analyzing frame n°  1000\n",
      "Time to compute distance is:  0.06685679400015943\n"
     ]
    },
    {
     "name": "stderr",
     "output_type": "stream",
     "text": [
      "100%|██████████| 12/12 [00:00<00:00, 19284.16it/s]"
     ]
    },
    {
     "name": "stdout",
     "output_type": "stream",
     "text": [
      "Time to denoise:  0.35543654800039803\n",
      "Finished analysis of frame n° 1000\n",
      "Time needed to analyze frame 1000 was 0.431242 seconds\n",
      "Total time to analyze dataset was 4.478344 seconds\n"
     ]
    },
    {
     "name": "stderr",
     "output_type": "stream",
     "text": [
      "\n"
     ]
    }
   ],
   "source": [
    "trj.analyze_inLoop()"
   ]
  },
  {
   "cell_type": "code",
   "execution_count": 194,
   "metadata": {},
   "outputs": [],
   "source": [
    "trj.get_data()"
   ]
  },
  {
   "cell_type": "code",
   "execution_count": 195,
   "metadata": {},
   "outputs": [],
   "source": [
    "trj.get_database()"
   ]
  },
  {
   "cell_type": "code",
   "execution_count": 196,
   "metadata": {},
   "outputs": [
    {
     "data": {
      "text/html": [
       "<div>\n",
       "<style scoped>\n",
       "    .dataframe tbody tr th:only-of-type {\n",
       "        vertical-align: middle;\n",
       "    }\n",
       "\n",
       "    .dataframe tbody tr th {\n",
       "        vertical-align: top;\n",
       "    }\n",
       "\n",
       "    .dataframe thead th {\n",
       "        text-align: right;\n",
       "    }\n",
       "</style>\n",
       "<table border=\"1\" class=\"dataframe\">\n",
       "  <thead>\n",
       "    <tr style=\"text-align: right;\">\n",
       "      <th></th>\n",
       "      <th>n° of peptides in macroaggregates</th>\n",
       "      <th>parallel</th>\n",
       "      <th>antiparallel</th>\n",
       "      <th>n° of macroaggreates</th>\n",
       "      <th>0</th>\n",
       "      <th>1</th>\n",
       "      <th>2</th>\n",
       "      <th>3</th>\n",
       "      <th>4</th>\n",
       "      <th>5</th>\n",
       "      <th>6</th>\n",
       "      <th>7</th>\n",
       "      <th>8</th>\n",
       "    </tr>\n",
       "  </thead>\n",
       "  <tbody>\n",
       "    <tr>\n",
       "      <th>0</th>\n",
       "      <td>[]</td>\n",
       "      <td>0</td>\n",
       "      <td>0</td>\n",
       "      <td>0</td>\n",
       "      <td>NaN</td>\n",
       "      <td>NaN</td>\n",
       "      <td>NaN</td>\n",
       "      <td>NaN</td>\n",
       "      <td>NaN</td>\n",
       "      <td>NaN</td>\n",
       "      <td>NaN</td>\n",
       "      <td>NaN</td>\n",
       "      <td>NaN</td>\n",
       "    </tr>\n",
       "    <tr>\n",
       "      <th>100</th>\n",
       "      <td>[3, 2, 2, 2, 2, 2, 2]</td>\n",
       "      <td>3</td>\n",
       "      <td>5</td>\n",
       "      <td>7</td>\n",
       "      <td>{'parallel': 1, 'antiparallel': 1}</td>\n",
       "      <td>{'parallel': 1, 'antiparallel': 0}</td>\n",
       "      <td>{'parallel': 0, 'antiparallel': 1}</td>\n",
       "      <td>{'parallel': 0, 'antiparallel': 1}</td>\n",
       "      <td>{'parallel': 0, 'antiparallel': 1}</td>\n",
       "      <td>{'parallel': 0, 'antiparallel': 1}</td>\n",
       "      <td>{'parallel': 1, 'antiparallel': 0}</td>\n",
       "      <td>NaN</td>\n",
       "      <td>NaN</td>\n",
       "    </tr>\n",
       "    <tr>\n",
       "      <th>200</th>\n",
       "      <td>[3, 2, 2, 2, 2, 2]</td>\n",
       "      <td>5</td>\n",
       "      <td>2</td>\n",
       "      <td>6</td>\n",
       "      <td>{'parallel': 2, 'antiparallel': 0}</td>\n",
       "      <td>{'parallel': 1, 'antiparallel': 0}</td>\n",
       "      <td>{'parallel': 1, 'antiparallel': 0}</td>\n",
       "      <td>{'parallel': 0, 'antiparallel': 1}</td>\n",
       "      <td>{'parallel': 0, 'antiparallel': 1}</td>\n",
       "      <td>{'parallel': 1, 'antiparallel': 0}</td>\n",
       "      <td>NaN</td>\n",
       "      <td>NaN</td>\n",
       "      <td>NaN</td>\n",
       "    </tr>\n",
       "    <tr>\n",
       "      <th>300</th>\n",
       "      <td>[3, 2, 2, 2]</td>\n",
       "      <td>2</td>\n",
       "      <td>3</td>\n",
       "      <td>4</td>\n",
       "      <td>{'parallel': 0, 'antiparallel': 2}</td>\n",
       "      <td>{'parallel': 1, 'antiparallel': 0}</td>\n",
       "      <td>{'parallel': 0, 'antiparallel': 1}</td>\n",
       "      <td>{'parallel': 1, 'antiparallel': 0}</td>\n",
       "      <td>NaN</td>\n",
       "      <td>NaN</td>\n",
       "      <td>NaN</td>\n",
       "      <td>NaN</td>\n",
       "      <td>NaN</td>\n",
       "    </tr>\n",
       "    <tr>\n",
       "      <th>400</th>\n",
       "      <td>[4, 3, 3, 3, 2, 2, 2, 2, 2]</td>\n",
       "      <td>9</td>\n",
       "      <td>5</td>\n",
       "      <td>9</td>\n",
       "      <td>{'parallel': 2, 'antiparallel': 1}</td>\n",
       "      <td>{'parallel': 1, 'antiparallel': 1}</td>\n",
       "      <td>{'parallel': 2, 'antiparallel': 0}</td>\n",
       "      <td>{'parallel': 1, 'antiparallel': 1}</td>\n",
       "      <td>{'parallel': 1, 'antiparallel': 0}</td>\n",
       "      <td>{'parallel': 0, 'antiparallel': 1}</td>\n",
       "      <td>{'parallel': 0, 'antiparallel': 1}</td>\n",
       "      <td>{'parallel': 1, 'antiparallel': 0}</td>\n",
       "      <td>{'parallel': 1, 'antiparallel': 0}</td>\n",
       "    </tr>\n",
       "    <tr>\n",
       "      <th>500</th>\n",
       "      <td>[3, 3, 3, 3, 2, 2, 2, 2]</td>\n",
       "      <td>6</td>\n",
       "      <td>6</td>\n",
       "      <td>8</td>\n",
       "      <td>{'parallel': 1, 'antiparallel': 1}</td>\n",
       "      <td>{'parallel': 0, 'antiparallel': 2}</td>\n",
       "      <td>{'parallel': 2, 'antiparallel': 0}</td>\n",
       "      <td>{'parallel': 2, 'antiparallel': 0}</td>\n",
       "      <td>{'parallel': 0, 'antiparallel': 1}</td>\n",
       "      <td>{'parallel': 0, 'antiparallel': 1}</td>\n",
       "      <td>{'parallel': 0, 'antiparallel': 1}</td>\n",
       "      <td>{'parallel': 1, 'antiparallel': 0}</td>\n",
       "      <td>NaN</td>\n",
       "    </tr>\n",
       "    <tr>\n",
       "      <th>600</th>\n",
       "      <td>[3, 3, 2, 2, 2, 2, 2, 2, 2]</td>\n",
       "      <td>7</td>\n",
       "      <td>4</td>\n",
       "      <td>9</td>\n",
       "      <td>{'parallel': 1, 'antiparallel': 1}</td>\n",
       "      <td>{'parallel': 1, 'antiparallel': 1}</td>\n",
       "      <td>{'parallel': 1, 'antiparallel': 0}</td>\n",
       "      <td>{'parallel': 1, 'antiparallel': 0}</td>\n",
       "      <td>{'parallel': 1, 'antiparallel': 0}</td>\n",
       "      <td>{'parallel': 0, 'antiparallel': 1}</td>\n",
       "      <td>{'parallel': 1, 'antiparallel': 0}</td>\n",
       "      <td>{'parallel': 1, 'antiparallel': 0}</td>\n",
       "      <td>{'parallel': 0, 'antiparallel': 1}</td>\n",
       "    </tr>\n",
       "    <tr>\n",
       "      <th>700</th>\n",
       "      <td>[2, 2, 2, 2, 2, 2, 2, 2]</td>\n",
       "      <td>4</td>\n",
       "      <td>4</td>\n",
       "      <td>8</td>\n",
       "      <td>{'parallel': 0, 'antiparallel': 1}</td>\n",
       "      <td>{'parallel': 1, 'antiparallel': 0}</td>\n",
       "      <td>{'parallel': 1, 'antiparallel': 0}</td>\n",
       "      <td>{'parallel': 0, 'antiparallel': 1}</td>\n",
       "      <td>{'parallel': 1, 'antiparallel': 0}</td>\n",
       "      <td>{'parallel': 0, 'antiparallel': 1}</td>\n",
       "      <td>{'parallel': 0, 'antiparallel': 1}</td>\n",
       "      <td>{'parallel': 1, 'antiparallel': 0}</td>\n",
       "      <td>NaN</td>\n",
       "    </tr>\n",
       "    <tr>\n",
       "      <th>800</th>\n",
       "      <td>[4, 2]</td>\n",
       "      <td>2</td>\n",
       "      <td>2</td>\n",
       "      <td>2</td>\n",
       "      <td>{'parallel': 2, 'antiparallel': 1}</td>\n",
       "      <td>{'parallel': 0, 'antiparallel': 1}</td>\n",
       "      <td>NaN</td>\n",
       "      <td>NaN</td>\n",
       "      <td>NaN</td>\n",
       "      <td>NaN</td>\n",
       "      <td>NaN</td>\n",
       "      <td>NaN</td>\n",
       "      <td>NaN</td>\n",
       "    </tr>\n",
       "    <tr>\n",
       "      <th>900</th>\n",
       "      <td>[4, 3, 3, 2, 2, 2, 2]</td>\n",
       "      <td>6</td>\n",
       "      <td>5</td>\n",
       "      <td>7</td>\n",
       "      <td>{'parallel': 1, 'antiparallel': 2}</td>\n",
       "      <td>{'parallel': 1, 'antiparallel': 1}</td>\n",
       "      <td>{'parallel': 2, 'antiparallel': 0}</td>\n",
       "      <td>{'parallel': 1, 'antiparallel': 0}</td>\n",
       "      <td>{'parallel': 0, 'antiparallel': 1}</td>\n",
       "      <td>{'parallel': 0, 'antiparallel': 1}</td>\n",
       "      <td>{'parallel': 1, 'antiparallel': 0}</td>\n",
       "      <td>NaN</td>\n",
       "      <td>NaN</td>\n",
       "    </tr>\n",
       "    <tr>\n",
       "      <th>1000</th>\n",
       "      <td>[5, 3, 3, 2, 2, 2, 2, 2]</td>\n",
       "      <td>6</td>\n",
       "      <td>7</td>\n",
       "      <td>8</td>\n",
       "      <td>{'parallel': 1, 'antiparallel': 3}</td>\n",
       "      <td>{'parallel': 1, 'antiparallel': 1}</td>\n",
       "      <td>{'parallel': 0, 'antiparallel': 2}</td>\n",
       "      <td>{'parallel': 1, 'antiparallel': 0}</td>\n",
       "      <td>{'parallel': 1, 'antiparallel': 0}</td>\n",
       "      <td>{'parallel': 1, 'antiparallel': 0}</td>\n",
       "      <td>{'parallel': 0, 'antiparallel': 1}</td>\n",
       "      <td>{'parallel': 1, 'antiparallel': 0}</td>\n",
       "      <td>NaN</td>\n",
       "    </tr>\n",
       "  </tbody>\n",
       "</table>\n",
       "</div>"
      ],
      "text/plain": [
       "     n° of peptides in macroaggregates  parallel  antiparallel  \\\n",
       "0                                   []         0             0   \n",
       "100              [3, 2, 2, 2, 2, 2, 2]         3             5   \n",
       "200                 [3, 2, 2, 2, 2, 2]         5             2   \n",
       "300                       [3, 2, 2, 2]         2             3   \n",
       "400        [4, 3, 3, 3, 2, 2, 2, 2, 2]         9             5   \n",
       "500           [3, 3, 3, 3, 2, 2, 2, 2]         6             6   \n",
       "600        [3, 3, 2, 2, 2, 2, 2, 2, 2]         7             4   \n",
       "700           [2, 2, 2, 2, 2, 2, 2, 2]         4             4   \n",
       "800                             [4, 2]         2             2   \n",
       "900              [4, 3, 3, 2, 2, 2, 2]         6             5   \n",
       "1000          [5, 3, 3, 2, 2, 2, 2, 2]         6             7   \n",
       "\n",
       "      n° of macroaggreates                                   0  \\\n",
       "0                        0                                 NaN   \n",
       "100                      7  {'parallel': 1, 'antiparallel': 1}   \n",
       "200                      6  {'parallel': 2, 'antiparallel': 0}   \n",
       "300                      4  {'parallel': 0, 'antiparallel': 2}   \n",
       "400                      9  {'parallel': 2, 'antiparallel': 1}   \n",
       "500                      8  {'parallel': 1, 'antiparallel': 1}   \n",
       "600                      9  {'parallel': 1, 'antiparallel': 1}   \n",
       "700                      8  {'parallel': 0, 'antiparallel': 1}   \n",
       "800                      2  {'parallel': 2, 'antiparallel': 1}   \n",
       "900                      7  {'parallel': 1, 'antiparallel': 2}   \n",
       "1000                     8  {'parallel': 1, 'antiparallel': 3}   \n",
       "\n",
       "                                       1                                   2  \\\n",
       "0                                    NaN                                 NaN   \n",
       "100   {'parallel': 1, 'antiparallel': 0}  {'parallel': 0, 'antiparallel': 1}   \n",
       "200   {'parallel': 1, 'antiparallel': 0}  {'parallel': 1, 'antiparallel': 0}   \n",
       "300   {'parallel': 1, 'antiparallel': 0}  {'parallel': 0, 'antiparallel': 1}   \n",
       "400   {'parallel': 1, 'antiparallel': 1}  {'parallel': 2, 'antiparallel': 0}   \n",
       "500   {'parallel': 0, 'antiparallel': 2}  {'parallel': 2, 'antiparallel': 0}   \n",
       "600   {'parallel': 1, 'antiparallel': 1}  {'parallel': 1, 'antiparallel': 0}   \n",
       "700   {'parallel': 1, 'antiparallel': 0}  {'parallel': 1, 'antiparallel': 0}   \n",
       "800   {'parallel': 0, 'antiparallel': 1}                                 NaN   \n",
       "900   {'parallel': 1, 'antiparallel': 1}  {'parallel': 2, 'antiparallel': 0}   \n",
       "1000  {'parallel': 1, 'antiparallel': 1}  {'parallel': 0, 'antiparallel': 2}   \n",
       "\n",
       "                                       3                                   4  \\\n",
       "0                                    NaN                                 NaN   \n",
       "100   {'parallel': 0, 'antiparallel': 1}  {'parallel': 0, 'antiparallel': 1}   \n",
       "200   {'parallel': 0, 'antiparallel': 1}  {'parallel': 0, 'antiparallel': 1}   \n",
       "300   {'parallel': 1, 'antiparallel': 0}                                 NaN   \n",
       "400   {'parallel': 1, 'antiparallel': 1}  {'parallel': 1, 'antiparallel': 0}   \n",
       "500   {'parallel': 2, 'antiparallel': 0}  {'parallel': 0, 'antiparallel': 1}   \n",
       "600   {'parallel': 1, 'antiparallel': 0}  {'parallel': 1, 'antiparallel': 0}   \n",
       "700   {'parallel': 0, 'antiparallel': 1}  {'parallel': 1, 'antiparallel': 0}   \n",
       "800                                  NaN                                 NaN   \n",
       "900   {'parallel': 1, 'antiparallel': 0}  {'parallel': 0, 'antiparallel': 1}   \n",
       "1000  {'parallel': 1, 'antiparallel': 0}  {'parallel': 1, 'antiparallel': 0}   \n",
       "\n",
       "                                       5                                   6  \\\n",
       "0                                    NaN                                 NaN   \n",
       "100   {'parallel': 0, 'antiparallel': 1}  {'parallel': 1, 'antiparallel': 0}   \n",
       "200   {'parallel': 1, 'antiparallel': 0}                                 NaN   \n",
       "300                                  NaN                                 NaN   \n",
       "400   {'parallel': 0, 'antiparallel': 1}  {'parallel': 0, 'antiparallel': 1}   \n",
       "500   {'parallel': 0, 'antiparallel': 1}  {'parallel': 0, 'antiparallel': 1}   \n",
       "600   {'parallel': 0, 'antiparallel': 1}  {'parallel': 1, 'antiparallel': 0}   \n",
       "700   {'parallel': 0, 'antiparallel': 1}  {'parallel': 0, 'antiparallel': 1}   \n",
       "800                                  NaN                                 NaN   \n",
       "900   {'parallel': 0, 'antiparallel': 1}  {'parallel': 1, 'antiparallel': 0}   \n",
       "1000  {'parallel': 1, 'antiparallel': 0}  {'parallel': 0, 'antiparallel': 1}   \n",
       "\n",
       "                                       7                                   8  \n",
       "0                                    NaN                                 NaN  \n",
       "100                                  NaN                                 NaN  \n",
       "200                                  NaN                                 NaN  \n",
       "300                                  NaN                                 NaN  \n",
       "400   {'parallel': 1, 'antiparallel': 0}  {'parallel': 1, 'antiparallel': 0}  \n",
       "500   {'parallel': 1, 'antiparallel': 0}                                 NaN  \n",
       "600   {'parallel': 1, 'antiparallel': 0}  {'parallel': 0, 'antiparallel': 1}  \n",
       "700   {'parallel': 1, 'antiparallel': 0}                                 NaN  \n",
       "800                                  NaN                                 NaN  \n",
       "900                                  NaN                                 NaN  \n",
       "1000  {'parallel': 1, 'antiparallel': 0}                                 NaN  "
      ]
     },
     "execution_count": 196,
     "metadata": {},
     "output_type": "execute_result"
    }
   ],
   "source": [
    "trj.database"
   ]
  },
  {
   "cell_type": "code",
   "execution_count": 197,
   "metadata": {},
   "outputs": [
    {
     "data": {
      "image/png": "[encoded data removed]",
      "text/plain": [
       "<Figure size 432x288 with 1 Axes>"
      ]
     },
     "metadata": {
      "needs_background": "light"
     },
     "output_type": "display_data"
    }
   ],
   "source": [
    "trj.plot_aggregates()"
   ]
  },
  {
   "cell_type": "code",
   "execution_count": 198,
   "metadata": {},
   "outputs": [
    {
     "data": {
      "image/png": "[encoded data removed]",
      "text/plain": [
       "<Figure size 432x288 with 1 Axes>"
      ]
     },
     "metadata": {
      "needs_background": "light"
     },
     "output_type": "display_data"
    }
   ],
   "source": [
    "trj.plot_contacts()"
   ]
  },
  {
   "cell_type": "code",
   "execution_count": 199,
   "metadata": {},
   "outputs": [
    {
     "data": {
      "image/png": "[encoded data removed]",
      "text/plain": [
       "<Figure size 432x288 with 1 Axes>"
      ]
     },
     "metadata": {
      "needs_background": "light"
     },
     "output_type": "display_data"
    }
   ],
   "source": [
    "trj.plot_peptides_in_beta()"
   ]
  },
  {
   "cell_type": "code",
   "execution_count": 200,
   "metadata": {},
   "outputs": [
    {
     "data": {
      "image/png": "[encoded data removed]",
      "text/plain": [
       "<Figure size 432x288 with 1 Axes>"
      ]
     },
     "metadata": {
      "needs_background": "light"
     },
     "output_type": "display_data"
    }
   ],
   "source": [
    "trj.plot_shift(1000)"
   ]
  },
  {
   "cell_type": "code",
   "execution_count": 201,
   "metadata": {},
   "outputs": [
    {
     "data": {
      "image/png": "[encoded data removed]",
      "text/plain": [
       "<Figure size 432x288 with 1 Axes>"
      ]
     },
     "metadata": {},
     "output_type": "display_data"
    }
   ],
   "source": [
    "trj.plot_graph(1000)"
   ]
  },
  {
   "cell_type": "code",
   "execution_count": 202,
   "metadata": {},
   "outputs": [
    {
     "data": {
      "image/png": "[encoded data removed]",
      "text/plain": [
       "<Figure size 432x288 with 1 Axes>"
      ]
     },
     "metadata": {
      "needs_background": "light"
     },
     "output_type": "display_data"
    }
   ],
   "source": [
    "trj.plot_frame_aggregate(1000)"
   ]
  },
  {
   "cell_type": "code",
   "execution_count": 203,
   "metadata": {},
   "outputs": [
    {
     "data": {
      "text/html": [
       "<div>\n",
       "<style scoped>\n",
       "    .dataframe tbody tr th:only-of-type {\n",
       "        vertical-align: middle;\n",
       "    }\n",
       "\n",
       "    .dataframe tbody tr th {\n",
       "        vertical-align: top;\n",
       "    }\n",
       "\n",
       "    .dataframe thead th {\n",
       "        text-align: right;\n",
       "    }\n",
       "</style>\n",
       "<table border=\"1\" class=\"dataframe\">\n",
       "  <thead>\n",
       "    <tr style=\"text-align: right;\">\n",
       "      <th></th>\n",
       "      <th>peptide1</th>\n",
       "      <th>peptide2</th>\n",
       "      <th>NCC Value</th>\n",
       "      <th>shift index</th>\n",
       "      <th>contacts</th>\n",
       "      <th>sense</th>\n",
       "      <th>shift</th>\n",
       "    </tr>\n",
       "  </thead>\n",
       "  <tbody>\n",
       "    <tr>\n",
       "      <th>0</th>\n",
       "      <td>1</td>\n",
       "      <td>38</td>\n",
       "      <td>tensor(0.4000, dtype=torch.float64)</td>\n",
       "      <td>21</td>\n",
       "      <td>tensor(4., dtype=torch.float64)</td>\n",
       "      <td>parallel</td>\n",
       "      <td>-1</td>\n",
       "    </tr>\n",
       "    <tr>\n",
       "      <th>1</th>\n",
       "      <td>2</td>\n",
       "      <td>8</td>\n",
       "      <td>tensor(0.3381, dtype=torch.float64)</td>\n",
       "      <td>6</td>\n",
       "      <td>tensor(2., dtype=torch.float64)</td>\n",
       "      <td>parallel</td>\n",
       "      <td>14</td>\n",
       "    </tr>\n",
       "    <tr>\n",
       "      <th>2</th>\n",
       "      <td>7</td>\n",
       "      <td>37</td>\n",
       "      <td>tensor(0.4264, dtype=torch.float64)</td>\n",
       "      <td>30</td>\n",
       "      <td>tensor(2., dtype=torch.float64)</td>\n",
       "      <td>antiparallel</td>\n",
       "      <td>-10</td>\n",
       "    </tr>\n",
       "    <tr>\n",
       "      <th>3</th>\n",
       "      <td>9</td>\n",
       "      <td>30</td>\n",
       "      <td>tensor(0.2357, dtype=torch.float64)</td>\n",
       "      <td>23</td>\n",
       "      <td>tensor(2., dtype=torch.float64)</td>\n",
       "      <td>antiparallel</td>\n",
       "      <td>-3</td>\n",
       "    </tr>\n",
       "    <tr>\n",
       "      <th>4</th>\n",
       "      <td>10</td>\n",
       "      <td>11</td>\n",
       "      <td>tensor(0.3333, dtype=torch.float64)</td>\n",
       "      <td>17</td>\n",
       "      <td>tensor(2., dtype=torch.float64)</td>\n",
       "      <td>parallel</td>\n",
       "      <td>3</td>\n",
       "    </tr>\n",
       "    <tr>\n",
       "      <th>5</th>\n",
       "      <td>13</td>\n",
       "      <td>27</td>\n",
       "      <td>tensor(0.3162, dtype=torch.float64)</td>\n",
       "      <td>33</td>\n",
       "      <td>tensor(2., dtype=torch.float64)</td>\n",
       "      <td>antiparallel</td>\n",
       "      <td>-13</td>\n",
       "    </tr>\n",
       "    <tr>\n",
       "      <th>6</th>\n",
       "      <td>16</td>\n",
       "      <td>30</td>\n",
       "      <td>tensor(0.6124, dtype=torch.float64)</td>\n",
       "      <td>35</td>\n",
       "      <td>tensor(3., dtype=torch.float64)</td>\n",
       "      <td>antiparallel</td>\n",
       "      <td>-15</td>\n",
       "    </tr>\n",
       "    <tr>\n",
       "      <th>7</th>\n",
       "      <td>16</td>\n",
       "      <td>36</td>\n",
       "      <td>tensor(0.2801, dtype=torch.float64)</td>\n",
       "      <td>24</td>\n",
       "      <td>tensor(2., dtype=torch.float64)</td>\n",
       "      <td>parallel</td>\n",
       "      <td>-4</td>\n",
       "    </tr>\n",
       "    <tr>\n",
       "      <th>8</th>\n",
       "      <td>18</td>\n",
       "      <td>27</td>\n",
       "      <td>tensor(0.4472, dtype=torch.float64)</td>\n",
       "      <td>31</td>\n",
       "      <td>tensor(2., dtype=torch.float64)</td>\n",
       "      <td>antiparallel</td>\n",
       "      <td>-11</td>\n",
       "    </tr>\n",
       "    <tr>\n",
       "      <th>9</th>\n",
       "      <td>19</td>\n",
       "      <td>35</td>\n",
       "      <td>tensor(0.3849, dtype=torch.float64)</td>\n",
       "      <td>23</td>\n",
       "      <td>tensor(4., dtype=torch.float64)</td>\n",
       "      <td>antiparallel</td>\n",
       "      <td>-3</td>\n",
       "    </tr>\n",
       "    <tr>\n",
       "      <th>10</th>\n",
       "      <td>20</td>\n",
       "      <td>30</td>\n",
       "      <td>tensor(0.3086, dtype=torch.float64)</td>\n",
       "      <td>13</td>\n",
       "      <td>tensor(2., dtype=torch.float64)</td>\n",
       "      <td>antiparallel</td>\n",
       "      <td>7</td>\n",
       "    </tr>\n",
       "    <tr>\n",
       "      <th>11</th>\n",
       "      <td>25</td>\n",
       "      <td>37</td>\n",
       "      <td>tensor(0.3430, dtype=torch.float64)</td>\n",
       "      <td>24</td>\n",
       "      <td>tensor(2., dtype=torch.float64)</td>\n",
       "      <td>parallel</td>\n",
       "      <td>-4</td>\n",
       "    </tr>\n",
       "    <tr>\n",
       "      <th>12</th>\n",
       "      <td>34</td>\n",
       "      <td>39</td>\n",
       "      <td>tensor(0.3333, dtype=torch.float64)</td>\n",
       "      <td>23</td>\n",
       "      <td>tensor(2., dtype=torch.float64)</td>\n",
       "      <td>parallel</td>\n",
       "      <td>-3</td>\n",
       "    </tr>\n",
       "  </tbody>\n",
       "</table>\n",
       "</div>"
      ],
      "text/plain": [
       "    peptide1  peptide2                            NCC Value  shift index  \\\n",
       "0          1        38  tensor(0.4000, dtype=torch.float64)           21   \n",
       "1          2         8  tensor(0.3381, dtype=torch.float64)            6   \n",
       "2          7        37  tensor(0.4264, dtype=torch.float64)           30   \n",
       "3          9        30  tensor(0.2357, dtype=torch.float64)           23   \n",
       "4         10        11  tensor(0.3333, dtype=torch.float64)           17   \n",
       "5         13        27  tensor(0.3162, dtype=torch.float64)           33   \n",
       "6         16        30  tensor(0.6124, dtype=torch.float64)           35   \n",
       "7         16        36  tensor(0.2801, dtype=torch.float64)           24   \n",
       "8         18        27  tensor(0.4472, dtype=torch.float64)           31   \n",
       "9         19        35  tensor(0.3849, dtype=torch.float64)           23   \n",
       "10        20        30  tensor(0.3086, dtype=torch.float64)           13   \n",
       "11        25        37  tensor(0.3430, dtype=torch.float64)           24   \n",
       "12        34        39  tensor(0.3333, dtype=torch.float64)           23   \n",
       "\n",
       "                           contacts         sense  shift  \n",
       "0   tensor(4., dtype=torch.float64)      parallel     -1  \n",
       "1   tensor(2., dtype=torch.float64)      parallel     14  \n",
       "2   tensor(2., dtype=torch.float64)  antiparallel    -10  \n",
       "3   tensor(2., dtype=torch.float64)  antiparallel     -3  \n",
       "4   tensor(2., dtype=torch.float64)      parallel      3  \n",
       "5   tensor(2., dtype=torch.float64)  antiparallel    -13  \n",
       "6   tensor(3., dtype=torch.float64)  antiparallel    -15  \n",
       "7   tensor(2., dtype=torch.float64)      parallel     -4  \n",
       "8   tensor(2., dtype=torch.float64)  antiparallel    -11  \n",
       "9   tensor(4., dtype=torch.float64)  antiparallel     -3  \n",
       "10  tensor(2., dtype=torch.float64)  antiparallel      7  \n",
       "11  tensor(2., dtype=torch.float64)      parallel     -4  \n",
       "12  tensor(2., dtype=torch.float64)      parallel     -3  "
      ]
     },
     "execution_count": 203,
     "metadata": {},
     "output_type": "execute_result"
    }
   ],
   "source": [
    "trj.frames[1000].results.cross_correlation"
   ]
  },
  {
   "cell_type": "code",
   "execution_count": null,
   "metadata": {},
   "outputs": [],
   "source": [
    "shift_profile = {}\n",
    "for frame in self.frames:\n",
    "    shift_profile[frame] = {} \n",
    "    for shift_value in self.frames[frame].results.cross_correlation['shift']:\n",
    "        try:\n",
    "            shift_profile[frame][shift_value] += 1\n",
    "        except:\n",
    "            shift_profile[frame][shift_value] = 1\n",
    "\n",
    "    f = {k[0]:k[1] for k in sorted(shift_profile[frame].items())}\n",
    "    self.frames[frame].results.shift_profile = f"
   ]
  },
  {
   "cell_type": "code",
   "execution_count": 216,
   "metadata": {},
   "outputs": [],
   "source": [
    "a = self.frames[1000].results.cross_correlation.groupby('sense')"
   ]
  },
  {
   "cell_type": "code",
   "execution_count": 236,
   "metadata": {},
   "outputs": [],
   "source": [
    "shift_profile = {}\n",
    "for frame in self.frames:\n",
    "    shift_profile[frame] = {} \n",
    "\n",
    "    a = self.frames[frame].results.cross_correlation.groupby('sense')\n",
    "\n",
    "    for group in a.groups:\n",
    "        shift_profile[frame][group] = {}\n",
    "        if group == 'parallel':\n",
    "            for index in a.groups[group]:\n",
    "                shift = abs(self.frames[frame].results.cross_correlation.iloc[index]['shift'])\n",
    "                try:\n",
    "                    shift_profile[frame][group][shift] += 1\n",
    "                except:\n",
    "                    shift_profile[frame][group][shift] = 1\n",
    "                    \n",
    "                shift_profile[frame][group] = {k[0]:k[1] for k in sorted(shift_profile[frame][group].items())}\n",
    "                self.frames[frame].results.shift_profile_parallel = shift_profile[frame][group]\n",
    "                \n",
    "        if group == 'antiparallel':\n",
    "            for index in a.groups[group]:\n",
    "                shift = self.frames[1000].results.cross_correlation.iloc[index]['shift']\n",
    "                if shift > 0:\n",
    "                    shift_profile[frame][group]['negative'] = {}\n",
    "                    try:\n",
    "                        shift_profile[frame][group]['negative'][shift] += 1\n",
    "                    except:\n",
    "                        shift_profile[frame][group]['negative'][shift] = 1\n",
    "\n",
    "                    shift_profile[frame][group]['negative'] = {k[0]:k[1] for k in sorted(shift_profile[frame][group]['negative'].items())}\n",
    "                    self.frames[frame].results.shift_profile_antiparallel_negative = shift_profile[frame][group]['negative']\n",
    "                    \n",
    "                if shift <= 0:\n",
    "                    shift_profile[frame][group]['positive'] = {}\n",
    "                    try:\n",
    "                        shift_profile[frame][group]['positive'][shift] += 1\n",
    "                    except:\n",
    "                        shift_profile[frame][group]['positive'][shift] = 1\n",
    "\n",
    "                    shift_profile[frame][group]['positive'] = {k[0]:k[1] for k in sorted(shift_profile[frame][group]['positive'].items())}\n",
    "                    self.frames[frame].results.shift_profile_antiparallel_positive = shift_profile[frame][group]['positive']"
   ]
  },
  {
   "cell_type": "code",
   "execution_count": 237,
   "metadata": {},
   "outputs": [
    {
     "data": {
      "text/plain": [
       "{0: {},\n",
       " 100: {'antiparallel': {'negative': {3: 1}, 'positive': {-15: 1}},\n",
       "  'parallel': {1: 2, 3: 1}},\n",
       " 200: {'antiparallel': {'positive': {-3: 1}}, 'parallel': {1: 2, 3: 2, 10: 1}},\n",
       " 300: {'antiparallel': {'negative': {3: 1}, 'positive': {-3: 1}},\n",
       "  'parallel': {2: 1, 9: 1}},\n",
       " 400: {'antiparallel': {'positive': {-3: 1}},\n",
       "  'parallel': {1: 2, 2: 2, 3: 1, 5: 2, 8: 1, 11: 1}},\n",
       " 500: {'antiparallel': {'positive': {-4: 1}, 'negative': {3: 1}},\n",
       "  'parallel': {1: 3, 3: 2, 5: 1}},\n",
       " 600: {'antiparallel': {'positive': {-11: 1}, 'negative': {3: 1}},\n",
       "  'parallel': {0: 1, 1: 2, 5: 1, 7: 1, 15: 1, 17: 1}},\n",
       " 700: {'antiparallel': {'positive': {-15: 1}},\n",
       "  'parallel': {3: 1, 5: 1, 12: 1, 14: 1}},\n",
       " 800: {'antiparallel': {'positive': {-1: 1}, 'negative': {14: 1}},\n",
       "  'parallel': {2: 1, 7: 1}},\n",
       " 900: {'antiparallel': {'negative': {14: 1}, 'positive': {-15: 1}},\n",
       "  'parallel': {0: 1, 1: 1, 3: 1, 4: 1, 6: 1, 9: 1}},\n",
       " 1000: {'antiparallel': {'positive': {-3: 1}, 'negative': {7: 1}},\n",
       "  'parallel': {1: 1, 3: 2, 4: 2, 14: 1}}}"
      ]
     },
     "execution_count": 237,
     "metadata": {},
     "output_type": "execute_result"
    }
   ],
   "source": [
    "shift_profile"
   ]
  },
  {
   "cell_type": "code",
   "execution_count": 233,
   "metadata": {},
   "outputs": [],
   "source": [
    "self = trj"
   ]
  },
  {
   "cell_type": "code",
   "execution_count": null,
   "metadata": {},
   "outputs": [],
   "source": []
  },
  {
   "cell_type": "code",
   "execution_count": null,
   "metadata": {},
   "outputs": [],
   "source": []
  },
  {
   "cell_type": "code",
   "execution_count": 204,
   "metadata": {},
   "outputs": [],
   "source": [
    "sm = shift_library_maker_torch(trj.frames[1000].results.contact_maps[4][29])"
   ]
  },
  {
   "cell_type": "code",
   "execution_count": 215,
   "metadata": {},
   "outputs": [
    {
     "data": {
      "text/plain": [
       "<matplotlib.image.AxesImage at 0x7f61219dcc50>"
      ]
     },
     "execution_count": 215,
     "metadata": {},
     "output_type": "execute_result"
    },
    {
     "data": {
      "image/png": "[encoded data removed]",
      "text/plain": [
       "<Figure size 432x288 with 1 Axes>"
      ]
     },
     "metadata": {
      "needs_background": "light"
     },
     "output_type": "display_data"
    }
   ],
   "source": [
    "plt.imshow(sm['antiparallel'][19])"
   ]
  },
  {
   "cell_type": "code",
   "execution_count": 70,
   "metadata": {},
   "outputs": [
    {
     "name": "stdout",
     "output_type": "stream",
     "text": [
      "3\n"
     ]
    }
   ],
   "source": [
    "for i in df.groupby('peptide1').groups[4]:\n",
    "    if df.iloc[i]['peptide2'] == 29:\n",
    "        print(i)\n",
    "        df.drop(i, inplace=True)"
   ]
  },
  {
   "cell_type": "code",
   "execution_count": null,
   "metadata": {},
   "outputs": [],
   "source": []
  },
  {
   "cell_type": "code",
   "execution_count": 206,
   "metadata": {},
   "outputs": [
    {
     "data": {
      "text/html": [
       "<div>\n",
       "<style scoped>\n",
       "    .dataframe tbody tr th:only-of-type {\n",
       "        vertical-align: middle;\n",
       "    }\n",
       "\n",
       "    .dataframe tbody tr th {\n",
       "        vertical-align: top;\n",
       "    }\n",
       "\n",
       "    .dataframe thead th {\n",
       "        text-align: right;\n",
       "    }\n",
       "</style>\n",
       "<table border=\"1\" class=\"dataframe\">\n",
       "  <thead>\n",
       "    <tr style=\"text-align: right;\">\n",
       "      <th></th>\n",
       "      <th>peptide1</th>\n",
       "      <th>peptide2</th>\n",
       "      <th>NCC Value</th>\n",
       "      <th>shift index</th>\n",
       "      <th>contacts</th>\n",
       "      <th>sense</th>\n",
       "      <th>shift</th>\n",
       "    </tr>\n",
       "  </thead>\n",
       "  <tbody>\n",
       "    <tr>\n",
       "      <th>0</th>\n",
       "      <td>1</td>\n",
       "      <td>38</td>\n",
       "      <td>tensor(0.4000, dtype=torch.float64)</td>\n",
       "      <td>21</td>\n",
       "      <td>tensor(4., dtype=torch.float64)</td>\n",
       "      <td>parallel</td>\n",
       "      <td>-1</td>\n",
       "    </tr>\n",
       "    <tr>\n",
       "      <th>1</th>\n",
       "      <td>4</td>\n",
       "      <td>10</td>\n",
       "      <td>tensor(0.2722, dtype=torch.float64)</td>\n",
       "      <td>23</td>\n",
       "      <td>tensor(2., dtype=torch.float64)</td>\n",
       "      <td>antiparallel</td>\n",
       "      <td>-3</td>\n",
       "    </tr>\n",
       "    <tr>\n",
       "      <th>2</th>\n",
       "      <td>14</td>\n",
       "      <td>15</td>\n",
       "      <td>tensor(0.4880, dtype=torch.float64)</td>\n",
       "      <td>26</td>\n",
       "      <td>tensor(5., dtype=torch.float64)</td>\n",
       "      <td>antiparallel</td>\n",
       "      <td>-6</td>\n",
       "    </tr>\n",
       "    <tr>\n",
       "      <th>3</th>\n",
       "      <td>14</td>\n",
       "      <td>36</td>\n",
       "      <td>tensor(0.3333, dtype=torch.float64)</td>\n",
       "      <td>23</td>\n",
       "      <td>tensor(2., dtype=torch.float64)</td>\n",
       "      <td>parallel</td>\n",
       "      <td>-3</td>\n",
       "    </tr>\n",
       "    <tr>\n",
       "      <th>4</th>\n",
       "      <td>17</td>\n",
       "      <td>39</td>\n",
       "      <td>tensor(0.3482, dtype=torch.float64)</td>\n",
       "      <td>30</td>\n",
       "      <td>tensor(2., dtype=torch.float64)</td>\n",
       "      <td>antiparallel</td>\n",
       "      <td>-10</td>\n",
       "    </tr>\n",
       "    <tr>\n",
       "      <th>5</th>\n",
       "      <td>19</td>\n",
       "      <td>35</td>\n",
       "      <td>tensor(0.2108, dtype=torch.float64)</td>\n",
       "      <td>23</td>\n",
       "      <td>tensor(2., dtype=torch.float64)</td>\n",
       "      <td>antiparallel</td>\n",
       "      <td>-3</td>\n",
       "    </tr>\n",
       "    <tr>\n",
       "      <th>6</th>\n",
       "      <td>23</td>\n",
       "      <td>30</td>\n",
       "      <td>tensor(0.3536, dtype=torch.float64)</td>\n",
       "      <td>7</td>\n",
       "      <td>tensor(2., dtype=torch.float64)</td>\n",
       "      <td>antiparallel</td>\n",
       "      <td>13</td>\n",
       "    </tr>\n",
       "    <tr>\n",
       "      <th>7</th>\n",
       "      <td>31</td>\n",
       "      <td>33</td>\n",
       "      <td>tensor(0.3162, dtype=torch.float64)</td>\n",
       "      <td>19</td>\n",
       "      <td>tensor(2., dtype=torch.float64)</td>\n",
       "      <td>parallel</td>\n",
       "      <td>1</td>\n",
       "    </tr>\n",
       "  </tbody>\n",
       "</table>\n",
       "</div>"
      ],
      "text/plain": [
       "   peptide1  peptide2                            NCC Value  shift index  \\\n",
       "0         1        38  tensor(0.4000, dtype=torch.float64)           21   \n",
       "1         4        10  tensor(0.2722, dtype=torch.float64)           23   \n",
       "2        14        15  tensor(0.4880, dtype=torch.float64)           26   \n",
       "3        14        36  tensor(0.3333, dtype=torch.float64)           23   \n",
       "4        17        39  tensor(0.3482, dtype=torch.float64)           30   \n",
       "5        19        35  tensor(0.2108, dtype=torch.float64)           23   \n",
       "6        23        30  tensor(0.3536, dtype=torch.float64)            7   \n",
       "7        31        33  tensor(0.3162, dtype=torch.float64)           19   \n",
       "\n",
       "                          contacts         sense  shift  \n",
       "0  tensor(4., dtype=torch.float64)      parallel     -1  \n",
       "1  tensor(2., dtype=torch.float64)  antiparallel     -3  \n",
       "2  tensor(5., dtype=torch.float64)  antiparallel     -6  \n",
       "3  tensor(2., dtype=torch.float64)      parallel     -3  \n",
       "4  tensor(2., dtype=torch.float64)  antiparallel    -10  \n",
       "5  tensor(2., dtype=torch.float64)  antiparallel     -3  \n",
       "6  tensor(2., dtype=torch.float64)  antiparallel     13  \n",
       "7  tensor(2., dtype=torch.float64)      parallel      1  "
      ]
     },
     "execution_count": 206,
     "metadata": {},
     "output_type": "execute_result"
    }
   ],
   "source": [
    "trj.frames[100].results.cross_correlation"
   ]
  },
  {
   "cell_type": "code",
   "execution_count": 214,
   "metadata": {},
   "outputs": [
    {
     "data": {
      "text/plain": [
       "<matplotlib.image.AxesImage at 0x7f6122631150>"
      ]
     },
     "execution_count": 214,
     "metadata": {},
     "output_type": "execute_result"
    },
    {
     "data": {
      "image/png": "[encoded data removed]",
      "text/plain": [
       "<Figure size 432x288 with 1 Axes>"
      ]
     },
     "metadata": {
      "needs_background": "light"
     },
     "output_type": "display_data"
    }
   ],
   "source": [
    "plt.imshow(trj.frames[100].results.contact_maps[31][33])"
   ]
  },
  {
   "cell_type": "code",
   "execution_count": 154,
   "metadata": {},
   "outputs": [
    {
     "data": {
      "text/plain": [
       "<matplotlib.image.AxesImage at 0x7f6122ad6690>"
      ]
     },
     "execution_count": 154,
     "metadata": {},
     "output_type": "execute_result"
    },
    {
     "data": {
      "image/png": "[encoded data removed]",
      "text/plain": [
       "<Figure size 432x288 with 1 Axes>"
      ]
     },
     "metadata": {
      "needs_background": "light"
     },
     "output_type": "display_data"
    }
   ],
   "source": [
    "plt.imshow(trj.frames[100].results.distance_maps[1][38])"
   ]
  },
  {
   "cell_type": "code",
   "execution_count": 159,
   "metadata": {},
   "outputs": [
    {
     "data": {
      "application/javascript": [
       "/* Put everything inside the global mpl namespace */\n",
       "window.mpl = {};\n",
       "\n",
       "\n",
       "mpl.get_websocket_type = function() {\n",
       "    if (typeof(WebSocket) !== 'undefined') {\n",
       "        return WebSocket;\n",
       "    } else if (typeof(MozWebSocket) !== 'undefined') {\n",
       "        return MozWebSocket;\n",
       "    } else {\n",
       "        alert('Your browser does not have WebSocket support. ' +\n",
       "              'Please try Chrome, Safari or Firefox ≥ 6. ' +\n",
       "              'Firefox 4 and 5 are also supported but you ' +\n",
       "              'have to enable WebSockets in about:config.');\n",
       "    };\n",
       "}\n",
       "\n",
       "mpl.figure = function(figure_id, websocket, ondownload, parent_element) {\n",
       "    this.id = figure_id;\n",
       "\n",
       "    this.ws = websocket;\n",
       "\n",
       "    this.supports_binary = (this.ws.binaryType != undefined);\n",
       "\n",
       "    if (!this.supports_binary) {\n",
       "        var warnings = document.getElementById(\"mpl-warnings\");\n",
       "        if (warnings) {\n",
       "            warnings.style.display = 'block';\n",
       "            warnings.textContent = (\n",
       "                \"This browser does not support binary websocket messages. \" +\n",
       "                    \"Performance may be slow.\");\n",
       "        }\n",
       "    }\n",
       "\n",
       "    this.imageObj = new Image();\n",
       "\n",
       "    this.context = undefined;\n",
       "    this.message = undefined;\n",
       "    this.canvas = undefined;\n",
       "    this.rubberband_canvas = undefined;\n",
       "    this.rubberband_context = undefined;\n",
       "    this.format_dropdown = undefined;\n",
       "\n",
       "    this.image_mode = 'full';\n",
       "\n",
       "    this.root = $('<div/>');\n",
       "    this._root_extra_style(this.root)\n",
       "    this.root.attr('style', 'display: inline-block');\n",
       "\n",
       "    $(parent_element).append(this.root);\n",
       "\n",
       "    this._init_header(this);\n",
       "    this._init_canvas(this);\n",
       "    this._init_toolbar(this);\n",
       "\n",
       "    var fig = this;\n",
       "\n",
       "    this.waiting = false;\n",
       "\n",
       "    this.ws.onopen =  function () {\n",
       "            fig.send_message(\"supports_binary\", {value: fig.supports_binary});\n",
       "            fig.send_message(\"send_image_mode\", {});\n",
       "            if (mpl.ratio != 1) {\n",
       "                fig.send_message(\"set_dpi_ratio\", {'dpi_ratio': mpl.ratio});\n",
       "            }\n",
       "            fig.send_message(\"refresh\", {});\n",
       "        }\n",
       "\n",
       "    this.imageObj.onload = function() {\n",
       "            if (fig.image_mode == 'full') {\n",
       "                // Full images could contain transparency (where diff images\n",
       "                // almost always do), so we need to clear the canvas so that\n",
       "                // there is no ghosting.\n",
       "                fig.context.clearRect(0, 0, fig.canvas.width, fig.canvas.height);\n",
       "            }\n",
       "            fig.context.drawImage(fig.imageObj, 0, 0);\n",
       "        };\n",
       "\n",
       "    this.imageObj.onunload = function() {\n",
       "        fig.ws.close();\n",
       "    }\n",
       "\n",
       "    this.ws.onmessage = this._make_on_message_function(this);\n",
       "\n",
       "    this.ondownload = ondownload;\n",
       "}\n",
       "\n",
       "mpl.figure.prototype._init_header = function() {\n",
       "    var titlebar = $(\n",
       "        '<div class=\"ui-dialog-titlebar ui-widget-header ui-corner-all ' +\n",
       "        'ui-helper-clearfix\"/>');\n",
       "    var titletext = $(\n",
       "        '<div class=\"ui-dialog-title\" style=\"width: 100%; ' +\n",
       "        'text-align: center; padding: 3px;\"/>');\n",
       "    titlebar.append(titletext)\n",
       "    this.root.append(titlebar);\n",
       "    this.header = titletext[0];\n",
       "}\n",
       "\n",
       "\n",
       "\n",
       "mpl.figure.prototype._canvas_extra_style = function(canvas_div) {\n",
       "\n",
       "}\n",
       "\n",
       "\n",
       "mpl.figure.prototype._root_extra_style = function(canvas_div) {\n",
       "\n",
       "}\n",
       "\n",
       "mpl.figure.prototype._init_canvas = function() {\n",
       "    var fig = this;\n",
       "\n",
       "    var canvas_div = $('<div/>');\n",
       "\n",
       "    canvas_div.attr('style', 'position: relative; clear: both; outline: 0');\n",
       "\n",
       "    function canvas_keyboard_event(event) {\n",
       "        return fig.key_event(event, event['data']);\n",
       "    }\n",
       "\n",
       "    canvas_div.keydown('key_press', canvas_keyboard_event);\n",
       "    canvas_div.keyup('key_release', canvas_keyboard_event);\n",
       "    this.canvas_div = canvas_div\n",
       "    this._canvas_extra_style(canvas_div)\n",
       "    this.root.append(canvas_div);\n",
       "\n",
       "    var canvas = $('<canvas/>');\n",
       "    canvas.addClass('mpl-canvas');\n",
       "    canvas.attr('style', \"left: 0; top: 0; z-index: 0; outline: 0\")\n",
       "\n",
       "    this.canvas = canvas[0];\n",
       "    this.context = canvas[0].getContext(\"2d\");\n",
       "\n",
       "    var backingStore = this.context.backingStorePixelRatio ||\n",
       "\tthis.context.webkitBackingStorePixelRatio ||\n",
       "\tthis.context.mozBackingStorePixelRatio ||\n",
       "\tthis.context.msBackingStorePixelRatio ||\n",
       "\tthis.context.oBackingStorePixelRatio ||\n",
       "\tthis.context.backingStorePixelRatio || 1;\n",
       "\n",
       "    mpl.ratio = (window.devicePixelRatio || 1) / backingStore;\n",
       "\n",
       "    var rubberband = $('<canvas/>');\n",
       "    rubberband.attr('style', \"position: absolute; left: 0; top: 0; z-index: 1;\")\n",
       "\n",
       "    var pass_mouse_events = true;\n",
       "\n",
       "    canvas_div.resizable({\n",
       "        start: function(event, ui) {\n",
       "            pass_mouse_events = false;\n",
       "        },\n",
       "        resize: function(event, ui) {\n",
       "            fig.request_resize(ui.size.width, ui.size.height);\n",
       "        },\n",
       "        stop: function(event, ui) {\n",
       "            pass_mouse_events = true;\n",
       "            fig.request_resize(ui.size.width, ui.size.height);\n",
       "        },\n",
       "    });\n",
       "\n",
       "    function mouse_event_fn(event) {\n",
       "        if (pass_mouse_events)\n",
       "            return fig.mouse_event(event, event['data']);\n",
       "    }\n",
       "\n",
       "    rubberband.mousedown('button_press', mouse_event_fn);\n",
       "    rubberband.mouseup('button_release', mouse_event_fn);\n",
       "    // Throttle sequential mouse events to 1 every 20ms.\n",
       "    rubberband.mousemove('motion_notify', mouse_event_fn);\n",
       "\n",
       "    rubberband.mouseenter('figure_enter', mouse_event_fn);\n",
       "    rubberband.mouseleave('figure_leave', mouse_event_fn);\n",
       "\n",
       "    canvas_div.on(\"wheel\", function (event) {\n",
       "        event = event.originalEvent;\n",
       "        event['data'] = 'scroll'\n",
       "        if (event.deltaY < 0) {\n",
       "            event.step = 1;\n",
       "        } else {\n",
       "            event.step = -1;\n",
       "        }\n",
       "        mouse_event_fn(event);\n",
       "    });\n",
       "\n",
       "    canvas_div.append(canvas);\n",
       "    canvas_div.append(rubberband);\n",
       "\n",
       "    this.rubberband = rubberband;\n",
       "    this.rubberband_canvas = rubberband[0];\n",
       "    this.rubberband_context = rubberband[0].getContext(\"2d\");\n",
       "    this.rubberband_context.strokeStyle = \"#000000\";\n",
       "\n",
       "    this._resize_canvas = function(width, height) {\n",
       "        // Keep the size of the canvas, canvas container, and rubber band\n",
       "        // canvas in synch.\n",
       "        canvas_div.css('width', width)\n",
       "        canvas_div.css('height', height)\n",
       "\n",
       "        canvas.attr('width', width * mpl.ratio);\n",
       "        canvas.attr('height', height * mpl.ratio);\n",
       "        canvas.attr('style', 'width: ' + width + 'px; height: ' + height + 'px;');\n",
       "\n",
       "        rubberband.attr('width', width);\n",
       "        rubberband.attr('height', height);\n",
       "    }\n",
       "\n",
       "    // Set the figure to an initial 600x600px, this will subsequently be updated\n",
       "    // upon first draw.\n",
       "    this._resize_canvas(600, 600);\n",
       "\n",
       "    // Disable right mouse context menu.\n",
       "    $(this.rubberband_canvas).bind(\"contextmenu\",function(e){\n",
       "        return false;\n",
       "    });\n",
       "\n",
       "    function set_focus () {\n",
       "        canvas.focus();\n",
       "        canvas_div.focus();\n",
       "    }\n",
       "\n",
       "    window.setTimeout(set_focus, 100);\n",
       "}\n",
       "\n",
       "mpl.figure.prototype._init_toolbar = function() {\n",
       "    var fig = this;\n",
       "\n",
       "    var nav_element = $('<div/>');\n",
       "    nav_element.attr('style', 'width: 100%');\n",
       "    this.root.append(nav_element);\n",
       "\n",
       "    // Define a callback function for later on.\n",
       "    function toolbar_event(event) {\n",
       "        return fig.toolbar_button_onclick(event['data']);\n",
       "    }\n",
       "    function toolbar_mouse_event(event) {\n",
       "        return fig.toolbar_button_onmouseover(event['data']);\n",
       "    }\n",
       "\n",
       "    for(var toolbar_ind in mpl.toolbar_items) {\n",
       "        var name = mpl.toolbar_items[toolbar_ind][0];\n",
       "        var tooltip = mpl.toolbar_items[toolbar_ind][1];\n",
       "        var image = mpl.toolbar_items[toolbar_ind][2];\n",
       "        var method_name = mpl.toolbar_items[toolbar_ind][3];\n",
       "\n",
       "        if (!name) {\n",
       "            // put a spacer in here.\n",
       "            continue;\n",
       "        }\n",
       "        var button = $('<button/>');\n",
       "        button.addClass('ui-button ui-widget ui-state-default ui-corner-all ' +\n",
       "                        'ui-button-icon-only');\n",
       "        button.attr('role', 'button');\n",
       "        button.attr('aria-disabled', 'false');\n",
       "        button.click(method_name, toolbar_event);\n",
       "        button.mouseover(tooltip, toolbar_mouse_event);\n",
       "\n",
       "        var icon_img = $('<span/>');\n",
       "        icon_img.addClass('ui-button-icon-primary ui-icon');\n",
       "        icon_img.addClass(image);\n",
       "        icon_img.addClass('ui-corner-all');\n",
       "\n",
       "        var tooltip_span = $('<span/>');\n",
       "        tooltip_span.addClass('ui-button-text');\n",
       "        tooltip_span.html(tooltip);\n",
       "\n",
       "        button.append(icon_img);\n",
       "        button.append(tooltip_span);\n",
       "\n",
       "        nav_element.append(button);\n",
       "    }\n",
       "\n",
       "    var fmt_picker_span = $('<span/>');\n",
       "\n",
       "    var fmt_picker = $('<select/>');\n",
       "    fmt_picker.addClass('mpl-toolbar-option ui-widget ui-widget-content');\n",
       "    fmt_picker_span.append(fmt_picker);\n",
       "    nav_element.append(fmt_picker_span);\n",
       "    this.format_dropdown = fmt_picker[0];\n",
       "\n",
       "    for (var ind in mpl.extensions) {\n",
       "        var fmt = mpl.extensions[ind];\n",
       "        var option = $(\n",
       "            '<option/>', {selected: fmt === mpl.default_extension}).html(fmt);\n",
       "        fmt_picker.append(option);\n",
       "    }\n",
       "\n",
       "    // Add hover states to the ui-buttons\n",
       "    $( \".ui-button\" ).hover(\n",
       "        function() { $(this).addClass(\"ui-state-hover\");},\n",
       "        function() { $(this).removeClass(\"ui-state-hover\");}\n",
       "    );\n",
       "\n",
       "    var status_bar = $('<span class=\"mpl-message\"/>');\n",
       "    nav_element.append(status_bar);\n",
       "    this.message = status_bar[0];\n",
       "}\n",
       "\n",
       "mpl.figure.prototype.request_resize = function(x_pixels, y_pixels) {\n",
       "    // Request matplotlib to resize the figure. Matplotlib will then trigger a resize in the client,\n",
       "    // which will in turn request a refresh of the image.\n",
       "    this.send_message('resize', {'width': x_pixels, 'height': y_pixels});\n",
       "}\n",
       "\n",
       "mpl.figure.prototype.send_message = function(type, properties) {\n",
       "    properties['type'] = type;\n",
       "    properties['figure_id'] = this.id;\n",
       "    this.ws.send(JSON.stringify(properties));\n",
       "}\n",
       "\n",
       "mpl.figure.prototype.send_draw_message = function() {\n",
       "    if (!this.waiting) {\n",
       "        this.waiting = true;\n",
       "        this.ws.send(JSON.stringify({type: \"draw\", figure_id: this.id}));\n",
       "    }\n",
       "}\n",
       "\n",
       "\n",
       "mpl.figure.prototype.handle_save = function(fig, msg) {\n",
       "    var format_dropdown = fig.format_dropdown;\n",
       "    var format = format_dropdown.options[format_dropdown.selectedIndex].value;\n",
       "    fig.ondownload(fig, format);\n",
       "}\n",
       "\n",
       "\n",
       "mpl.figure.prototype.handle_resize = function(fig, msg) {\n",
       "    var size = msg['size'];\n",
       "    if (size[0] != fig.canvas.width || size[1] != fig.canvas.height) {\n",
       "        fig._resize_canvas(size[0], size[1]);\n",
       "        fig.send_message(\"refresh\", {});\n",
       "    };\n",
       "}\n",
       "\n",
       "mpl.figure.prototype.handle_rubberband = function(fig, msg) {\n",
       "    var x0 = msg['x0'] / mpl.ratio;\n",
       "    var y0 = (fig.canvas.height - msg['y0']) / mpl.ratio;\n",
       "    var x1 = msg['x1'] / mpl.ratio;\n",
       "    var y1 = (fig.canvas.height - msg['y1']) / mpl.ratio;\n",
       "    x0 = Math.floor(x0) + 0.5;\n",
       "    y0 = Math.floor(y0) + 0.5;\n",
       "    x1 = Math.floor(x1) + 0.5;\n",
       "    y1 = Math.floor(y1) + 0.5;\n",
       "    var min_x = Math.min(x0, x1);\n",
       "    var min_y = Math.min(y0, y1);\n",
       "    var width = Math.abs(x1 - x0);\n",
       "    var height = Math.abs(y1 - y0);\n",
       "\n",
       "    fig.rubberband_context.clearRect(\n",
       "        0, 0, fig.canvas.width / mpl.ratio, fig.canvas.height / mpl.ratio);\n",
       "\n",
       "    fig.rubberband_context.strokeRect(min_x, min_y, width, height);\n",
       "}\n",
       "\n",
       "mpl.figure.prototype.handle_figure_label = function(fig, msg) {\n",
       "    // Updates the figure title.\n",
       "    fig.header.textContent = msg['label'];\n",
       "}\n",
       "\n",
       "mpl.figure.prototype.handle_cursor = function(fig, msg) {\n",
       "    var cursor = msg['cursor'];\n",
       "    switch(cursor)\n",
       "    {\n",
       "    case 0:\n",
       "        cursor = 'pointer';\n",
       "        break;\n",
       "    case 1:\n",
       "        cursor = 'default';\n",
       "        break;\n",
       "    case 2:\n",
       "        cursor = 'crosshair';\n",
       "        break;\n",
       "    case 3:\n",
       "        cursor = 'move';\n",
       "        break;\n",
       "    }\n",
       "    fig.rubberband_canvas.style.cursor = cursor;\n",
       "}\n",
       "\n",
       "mpl.figure.prototype.handle_message = function(fig, msg) {\n",
       "    fig.message.textContent = msg['message'];\n",
       "}\n",
       "\n",
       "mpl.figure.prototype.handle_draw = function(fig, msg) {\n",
       "    // Request the server to send over a new figure.\n",
       "    fig.send_draw_message();\n",
       "}\n",
       "\n",
       "mpl.figure.prototype.handle_image_mode = function(fig, msg) {\n",
       "    fig.image_mode = msg['mode'];\n",
       "}\n",
       "\n",
       "mpl.figure.prototype.updated_canvas_event = function() {\n",
       "    // Called whenever the canvas gets updated.\n",
       "    this.send_message(\"ack\", {});\n",
       "}\n",
       "\n",
       "// A function to construct a web socket function for onmessage handling.\n",
       "// Called in the figure constructor.\n",
       "mpl.figure.prototype._make_on_message_function = function(fig) {\n",
       "    return function socket_on_message(evt) {\n",
       "        if (evt.data instanceof Blob) {\n",
       "            /* FIXME: We get \"Resource interpreted as Image but\n",
       "             * transferred with MIME type text/plain:\" errors on\n",
       "             * Chrome.  But how to set the MIME type?  It doesn't seem\n",
       "             * to be part of the websocket stream */\n",
       "            evt.data.type = \"image/png\";\n",
       "\n",
       "            /* Free the memory for the previous frames */\n",
       "            if (fig.imageObj.src) {\n",
       "                (window.URL || window.webkitURL).revokeObjectURL(\n",
       "                    fig.imageObj.src);\n",
       "            }\n",
       "\n",
       "            fig.imageObj.src = (window.URL || window.webkitURL).createObjectURL(\n",
       "                evt.data);\n",
       "            fig.updated_canvas_event();\n",
       "            fig.waiting = false;\n",
       "            return;\n",
       "        }\n",
       "        else if (typeof evt.data === 'string' && evt.data.slice(0, 21) == \"data:image/png;base64\") {\n",
       "            fig.imageObj.src = evt.data;\n",
       "            fig.updated_canvas_event();\n",
       "            fig.waiting = false;\n",
       "            return;\n",
       "        }\n",
       "\n",
       "        var msg = JSON.parse(evt.data);\n",
       "        var msg_type = msg['type'];\n",
       "\n",
       "        // Call the  \"handle_{type}\" callback, which takes\n",
       "        // the figure and JSON message as its only arguments.\n",
       "        try {\n",
       "            var callback = fig[\"handle_\" + msg_type];\n",
       "        } catch (e) {\n",
       "            console.log(\"No handler for the '\" + msg_type + \"' message type: \", msg);\n",
       "            return;\n",
       "        }\n",
       "\n",
       "        if (callback) {\n",
       "            try {\n",
       "                // console.log(\"Handling '\" + msg_type + \"' message: \", msg);\n",
       "                callback(fig, msg);\n",
       "            } catch (e) {\n",
       "                console.log(\"Exception inside the 'handler_\" + msg_type + \"' callback:\", e, e.stack, msg);\n",
       "            }\n",
       "        }\n",
       "    };\n",
       "}\n",
       "\n",
       "// from http://stackoverflow.com/questions/1114465/getting-mouse-location-in-canvas\n",
       "mpl.findpos = function(e) {\n",
       "    //this section is from http://www.quirksmode.org/js/events_properties.html\n",
       "    var targ;\n",
       "    if (!e)\n",
       "        e = window.event;\n",
       "    if (e.target)\n",
       "        targ = e.target;\n",
       "    else if (e.srcElement)\n",
       "        targ = e.srcElement;\n",
       "    if (targ.nodeType == 3) // defeat Safari bug\n",
       "        targ = targ.parentNode;\n",
       "\n",
       "    // jQuery normalizes the pageX and pageY\n",
       "    // pageX,Y are the mouse positions relative to the document\n",
       "    // offset() returns the position of the element relative to the document\n",
       "    var x = e.pageX - $(targ).offset().left;\n",
       "    var y = e.pageY - $(targ).offset().top;\n",
       "\n",
       "    return {\"x\": x, \"y\": y};\n",
       "};\n",
       "\n",
       "/*\n",
       " * return a copy of an object with only non-object keys\n",
       " * we need this to avoid circular references\n",
       " * http://stackoverflow.com/a/24161582/3208463\n",
       " */\n",
       "function simpleKeys (original) {\n",
       "  return Object.keys(original).reduce(function (obj, key) {\n",
       "    if (typeof original[key] !== 'object')\n",
       "        obj[key] = original[key]\n",
       "    return obj;\n",
       "  }, {});\n",
       "}\n",
       "\n",
       "mpl.figure.prototype.mouse_event = function(event, name) {\n",
       "    var canvas_pos = mpl.findpos(event)\n",
       "\n",
       "    if (name === 'button_press')\n",
       "    {\n",
       "        this.canvas.focus();\n",
       "        this.canvas_div.focus();\n",
       "    }\n",
       "\n",
       "    var x = canvas_pos.x * mpl.ratio;\n",
       "    var y = canvas_pos.y * mpl.ratio;\n",
       "\n",
       "    this.send_message(name, {x: x, y: y, button: event.button,\n",
       "                             step: event.step,\n",
       "                             guiEvent: simpleKeys(event)});\n",
       "\n",
       "    /* This prevents the web browser from automatically changing to\n",
       "     * the text insertion cursor when the button is pressed.  We want\n",
       "     * to control all of the cursor setting manually through the\n",
       "     * 'cursor' event from matplotlib */\n",
       "    event.preventDefault();\n",
       "    return false;\n",
       "}\n",
       "\n",
       "mpl.figure.prototype._key_event_extra = function(event, name) {\n",
       "    // Handle any extra behaviour associated with a key event\n",
       "}\n",
       "\n",
       "mpl.figure.prototype.key_event = function(event, name) {\n",
       "\n",
       "    // Prevent repeat events\n",
       "    if (name == 'key_press')\n",
       "    {\n",
       "        if (event.which === this._key)\n",
       "            return;\n",
       "        else\n",
       "            this._key = event.which;\n",
       "    }\n",
       "    if (name == 'key_release')\n",
       "        this._key = null;\n",
       "\n",
       "    var value = '';\n",
       "    if (event.ctrlKey && event.which != 17)\n",
       "        value += \"ctrl+\";\n",
       "    if (event.altKey && event.which != 18)\n",
       "        value += \"alt+\";\n",
       "    if (event.shiftKey && event.which != 16)\n",
       "        value += \"shift+\";\n",
       "\n",
       "    value += 'k';\n",
       "    value += event.which.toString();\n",
       "\n",
       "    this._key_event_extra(event, name);\n",
       "\n",
       "    this.send_message(name, {key: value,\n",
       "                             guiEvent: simpleKeys(event)});\n",
       "    return false;\n",
       "}\n",
       "\n",
       "mpl.figure.prototype.toolbar_button_onclick = function(name) {\n",
       "    if (name == 'download') {\n",
       "        this.handle_save(this, null);\n",
       "    } else {\n",
       "        this.send_message(\"toolbar_button\", {name: name});\n",
       "    }\n",
       "};\n",
       "\n",
       "mpl.figure.prototype.toolbar_button_onmouseover = function(tooltip) {\n",
       "    this.message.textContent = tooltip;\n",
       "};\n",
       "mpl.toolbar_items = [[\"Home\", \"Reset original view\", \"fa fa-home icon-home\", \"home\"], [\"Back\", \"Back to previous view\", \"fa fa-arrow-left icon-arrow-left\", \"back\"], [\"Forward\", \"Forward to next view\", \"fa fa-arrow-right icon-arrow-right\", \"forward\"], [\"\", \"\", \"\", \"\"], [\"Pan\", \"Pan axes with left mouse, zoom with right\", \"fa fa-arrows icon-move\", \"pan\"], [\"Zoom\", \"Zoom to rectangle\", \"fa fa-square-o icon-check-empty\", \"zoom\"], [\"\", \"\", \"\", \"\"], [\"Download\", \"Download plot\", \"fa fa-floppy-o icon-save\", \"download\"]];\n",
       "\n",
       "mpl.extensions = [\"eps\", \"pdf\", \"png\", \"ps\", \"raw\", \"svg\"];\n",
       "\n",
       "mpl.default_extension = \"png\";var comm_websocket_adapter = function(comm) {\n",
       "    // Create a \"websocket\"-like object which calls the given IPython comm\n",
       "    // object with the appropriate methods. Currently this is a non binary\n",
       "    // socket, so there is still some room for performance tuning.\n",
       "    var ws = {};\n",
       "\n",
       "    ws.close = function() {\n",
       "        comm.close()\n",
       "    };\n",
       "    ws.send = function(m) {\n",
       "        //console.log('sending', m);\n",
       "        comm.send(m);\n",
       "    };\n",
       "    // Register the callback with on_msg.\n",
       "    comm.on_msg(function(msg) {\n",
       "        //console.log('receiving', msg['content']['data'], msg);\n",
       "        // Pass the mpl event to the overridden (by mpl) onmessage function.\n",
       "        ws.onmessage(msg['content']['data'])\n",
       "    });\n",
       "    return ws;\n",
       "}\n",
       "\n",
       "mpl.mpl_figure_comm = function(comm, msg) {\n",
       "    // This is the function which gets called when the mpl process\n",
       "    // starts-up an IPython Comm through the \"matplotlib\" channel.\n",
       "\n",
       "    var id = msg.content.data.id;\n",
       "    // Get hold of the div created by the display call when the Comm\n",
       "    // socket was opened in Python.\n",
       "    var element = $(\"#\" + id);\n",
       "    var ws_proxy = comm_websocket_adapter(comm)\n",
       "\n",
       "    function ondownload(figure, format) {\n",
       "        window.open(figure.imageObj.src);\n",
       "    }\n",
       "\n",
       "    var fig = new mpl.figure(id, ws_proxy,\n",
       "                           ondownload,\n",
       "                           element.get(0));\n",
       "\n",
       "    // Call onopen now - mpl needs it, as it is assuming we've passed it a real\n",
       "    // web socket which is closed, not our websocket->open comm proxy.\n",
       "    ws_proxy.onopen();\n",
       "\n",
       "    fig.parent_element = element.get(0);\n",
       "    fig.cell_info = mpl.find_output_cell(\"<div id='\" + id + \"'></div>\");\n",
       "    if (!fig.cell_info) {\n",
       "        console.error(\"Failed to find cell for figure\", id, fig);\n",
       "        return;\n",
       "    }\n",
       "\n",
       "    var output_index = fig.cell_info[2]\n",
       "    var cell = fig.cell_info[0];\n",
       "\n",
       "};\n",
       "\n",
       "mpl.figure.prototype.handle_close = function(fig, msg) {\n",
       "    var width = fig.canvas.width/mpl.ratio\n",
       "    fig.root.unbind('remove')\n",
       "\n",
       "    // Update the output cell to use the data from the current canvas.\n",
       "    fig.push_to_output();\n",
       "    var dataURL = fig.canvas.toDataURL();\n",
       "    // Re-enable the keyboard manager in IPython - without this line, in FF,\n",
       "    // the notebook keyboard shortcuts fail.\n",
       "    IPython.keyboard_manager.enable()\n",
       "    $(fig.parent_element).html('<img src=\"' + dataURL + '\" width=\"' + width + '\">');\n",
       "    fig.close_ws(fig, msg);\n",
       "}\n",
       "\n",
       "mpl.figure.prototype.close_ws = function(fig, msg){\n",
       "    fig.send_message('closing', msg);\n",
       "    // fig.ws.close()\n",
       "}\n",
       "\n",
       "mpl.figure.prototype.push_to_output = function(remove_interactive) {\n",
       "    // Turn the data on the canvas into data in the output cell.\n",
       "    var width = this.canvas.width/mpl.ratio\n",
       "    var dataURL = this.canvas.toDataURL();\n",
       "    this.cell_info[1]['text/html'] = '<img src=\"' + dataURL + '\" width=\"' + width + '\">';\n",
       "}\n",
       "\n",
       "mpl.figure.prototype.updated_canvas_event = function() {\n",
       "    // Tell IPython that the notebook contents must change.\n",
       "    IPython.notebook.set_dirty(true);\n",
       "    this.send_message(\"ack\", {});\n",
       "    var fig = this;\n",
       "    // Wait a second, then push the new image to the DOM so\n",
       "    // that it is saved nicely (might be nice to debounce this).\n",
       "    setTimeout(function () { fig.push_to_output() }, 1000);\n",
       "}\n",
       "\n",
       "mpl.figure.prototype._init_toolbar = function() {\n",
       "    var fig = this;\n",
       "\n",
       "    var nav_element = $('<div/>');\n",
       "    nav_element.attr('style', 'width: 100%');\n",
       "    this.root.append(nav_element);\n",
       "\n",
       "    // Define a callback function for later on.\n",
       "    function toolbar_event(event) {\n",
       "        return fig.toolbar_button_onclick(event['data']);\n",
       "    }\n",
       "    function toolbar_mouse_event(event) {\n",
       "        return fig.toolbar_button_onmouseover(event['data']);\n",
       "    }\n",
       "\n",
       "    for(var toolbar_ind in mpl.toolbar_items){\n",
       "        var name = mpl.toolbar_items[toolbar_ind][0];\n",
       "        var tooltip = mpl.toolbar_items[toolbar_ind][1];\n",
       "        var image = mpl.toolbar_items[toolbar_ind][2];\n",
       "        var method_name = mpl.toolbar_items[toolbar_ind][3];\n",
       "\n",
       "        if (!name) { continue; };\n",
       "\n",
       "        var button = $('<button class=\"btn btn-default\" href=\"#\" title=\"' + name + '\"><i class=\"fa ' + image + ' fa-lg\"></i></button>');\n",
       "        button.click(method_name, toolbar_event);\n",
       "        button.mouseover(tooltip, toolbar_mouse_event);\n",
       "        nav_element.append(button);\n",
       "    }\n",
       "\n",
       "    // Add the status bar.\n",
       "    var status_bar = $('<span class=\"mpl-message\" style=\"text-align:right; float: right;\"/>');\n",
       "    nav_element.append(status_bar);\n",
       "    this.message = status_bar[0];\n",
       "\n",
       "    // Add the close button to the window.\n",
       "    var buttongrp = $('<div class=\"btn-group inline pull-right\"></div>');\n",
       "    var button = $('<button class=\"btn btn-mini btn-primary\" href=\"#\" title=\"Stop Interaction\"><i class=\"fa fa-power-off icon-remove icon-large\"></i></button>');\n",
       "    button.click(function (evt) { fig.handle_close(fig, {}); } );\n",
       "    button.mouseover('Stop Interaction', toolbar_mouse_event);\n",
       "    buttongrp.append(button);\n",
       "    var titlebar = this.root.find($('.ui-dialog-titlebar'));\n",
       "    titlebar.prepend(buttongrp);\n",
       "}\n",
       "\n",
       "mpl.figure.prototype._root_extra_style = function(el){\n",
       "    var fig = this\n",
       "    el.on(\"remove\", function(){\n",
       "\tfig.close_ws(fig, {});\n",
       "    });\n",
       "}\n",
       "\n",
       "mpl.figure.prototype._canvas_extra_style = function(el){\n",
       "    // this is important to make the div 'focusable\n",
       "    el.attr('tabindex', 0)\n",
       "    // reach out to IPython and tell the keyboard manager to turn it's self\n",
       "    // off when our div gets focus\n",
       "\n",
       "    // location in version 3\n",
       "    if (IPython.notebook.keyboard_manager) {\n",
       "        IPython.notebook.keyboard_manager.register_events(el);\n",
       "    }\n",
       "    else {\n",
       "        // location in version 2\n",
       "        IPython.keyboard_manager.register_events(el);\n",
       "    }\n",
       "\n",
       "}\n",
       "\n",
       "mpl.figure.prototype._key_event_extra = function(event, name) {\n",
       "    var manager = IPython.notebook.keyboard_manager;\n",
       "    if (!manager)\n",
       "        manager = IPython.keyboard_manager;\n",
       "\n",
       "    // Check for shift+enter\n",
       "    if (event.shiftKey && event.which == 13) {\n",
       "        this.canvas_div.blur();\n",
       "        // select the cell after this one\n",
       "        var index = IPython.notebook.find_cell_index(this.cell_info[0]);\n",
       "        IPython.notebook.select(index + 1);\n",
       "    }\n",
       "}\n",
       "\n",
       "mpl.figure.prototype.handle_save = function(fig, msg) {\n",
       "    fig.ondownload(fig, null);\n",
       "}\n",
       "\n",
       "\n",
       "mpl.find_output_cell = function(html_output) {\n",
       "    // Return the cell and output element which can be found *uniquely* in the notebook.\n",
       "    // Note - this is a bit hacky, but it is done because the \"notebook_saving.Notebook\"\n",
       "    // IPython event is triggered only after the cells have been serialised, which for\n",
       "    // our purposes (turning an active figure into a static one), is too late.\n",
       "    var cells = IPython.notebook.get_cells();\n",
       "    var ncells = cells.length;\n",
       "    for (var i=0; i<ncells; i++) {\n",
       "        var cell = cells[i];\n",
       "        if (cell.cell_type === 'code'){\n",
       "            for (var j=0; j<cell.output_area.outputs.length; j++) {\n",
       "                var data = cell.output_area.outputs[j];\n",
       "                if (data.data) {\n",
       "                    // IPython >= 3 moved mimebundle to data attribute of output\n",
       "                    data = data.data;\n",
       "                }\n",
       "                if (data['text/html'] == html_output) {\n",
       "                    return [cell, data, j];\n",
       "                }\n",
       "            }\n",
       "        }\n",
       "    }\n",
       "}\n",
       "\n",
       "// Register the function which deals with the matplotlib target/channel.\n",
       "// The kernel may be null if the page has been refreshed.\n",
       "if (IPython.notebook.kernel != null) {\n",
       "    IPython.notebook.kernel.comm_manager.register_target('matplotlib', mpl.mpl_figure_comm);\n",
       "}\n"
      ],
      "text/plain": [
       "<IPython.core.display.Javascript object>"
      ]
     },
     "metadata": {},
     "output_type": "display_data"
    },
    {
     "data": {
      "text/html": [
       "<img src=\"data:image/png;base64,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\" width=\"640\">"
      ],
      "text/plain": [
       "<IPython.core.display.HTML object>"
      ]
     },
     "metadata": {},
     "output_type": "display_data"
    }
   ],
   "source": [
    "morphoscanner.plot.plot.plot_peptide_list(trj.get_frame(100), [14,15])"
   ]
  },
  {
   "cell_type": "code",
   "execution_count": 173,
   "metadata": {},
   "outputs": [],
   "source": [
    "%matplotlib inline"
   ]
  },
  {
   "cell_type": "code",
   "execution_count": null,
   "metadata": {},
   "outputs": [],
   "source": []
  },
  {
   "cell_type": "code",
   "execution_count": null,
   "metadata": {},
   "outputs": [],
   "source": []
  },
  {
   "cell_type": "code",
   "execution_count": null,
   "metadata": {},
   "outputs": [],
   "source": []
  },
  {
   "cell_type": "code",
   "execution_count": null,
   "metadata": {},
   "outputs": [],
   "source": []
  }
 ],
 "metadata": {
  "kernelspec": {
   "display_name": "Python 3",
   "language": "python",
   "name": "python3"
  },
  "language_info": {
   "codemirror_mode": {
    "name": "ipython",
    "version": 3
   },
   "file_extension": ".py",
   "mimetype": "text/x-python",
   "name": "python",
   "nbconvert_exporter": "python",
   "pygments_lexer": "ipython3",
   "version": "3.7.6"
  }
 },
 "nbformat": 4,
 "nbformat_minor": 2
}
