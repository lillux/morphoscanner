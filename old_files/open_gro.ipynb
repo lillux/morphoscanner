{
 "cells": [
  {
   "cell_type": "code",
   "execution_count": 1,
   "metadata": {},
   "outputs": [],
   "source": [
    "path = '/home/lillo/TesiCNTE/CNTE/dataset/dm4500Compl_mix1_K2_1%4500ns.gro' #laptop"
   ]
  },
  {
   "cell_type": "code",
   "execution_count": null,
   "metadata": {},
   "outputs": [],
   "source": []
  },
  {
   "cell_type": "code",
   "execution_count": 3,
   "metadata": {},
   "outputs": [],
   "source": [
    "import numpy as np\n",
    "\n",
    "def clean_gro(path):\n",
    "    \n",
    "    \n",
    "        # open file .gro and return a list with one element per line of the .gro file\n",
    "    def read_gro(path):\n",
    "        gromacs_output = open(path)\n",
    "\n",
    "        gro_file = []\n",
    "        for line in gromacs_output:\n",
    "            gro_file.append(line)\n",
    "\n",
    "\n",
    "\n",
    "        gromacs_output.close()        \n",
    "\n",
    "        return gro_file\n",
    "\n",
    "\n",
    "\n",
    "    # return string in a string with numbers\n",
    "    def return_if_string(string):\n",
    "        digits = []\n",
    "        for i in string:\n",
    "            if not i.isdigit():\n",
    "                digits.append(i)\n",
    "\n",
    "        string = ''.join(digits)\n",
    "\n",
    "        return string\n",
    "\n",
    "\n",
    "    # return numbers in a string with numbers\n",
    "    def return_if_digit(string):\n",
    "        digits = []\n",
    "        for i in string:\n",
    "            if i.isdigit():\n",
    "                digits.append(i)\n",
    "\n",
    "        string = ''.join(digits)\n",
    "\n",
    "        return string\n",
    "\n",
    "\n",
    "    # remove first, second and last lines from gro_file and reorder information\n",
    "    # FIX OPTION TO GET ENTRY RELATED TO A LABEL (as 'bb' or 'ca')\n",
    "    def clean_gro_file(gro_file):\n",
    "        cleaned_gro_file = []\n",
    "        for aminoacid in gro_file[2:-1]:\n",
    "            splitted = aminoacid.split()\n",
    "            if splitted[1] == 'BB':\n",
    "                position_in_peptide = return_if_digit(splitted[0])\n",
    "                residue = return_if_string(splitted[0])\n",
    "                index = splitted[2]\n",
    "                x = splitted[3]\n",
    "                y = splitted[4]\n",
    "                z = splitted[5]\n",
    "                cleaned_gro_file.append([index, position_in_peptide, residue, x, y, z])\n",
    "        return cleaned_gro_file\n",
    "    \n",
    "    \n",
    "    gro_file = read_gro(path)\n",
    "    cleaned_gro_file = clean_gro_file(gro_file)\n",
    "\n",
    "    return cleaned_gro_file\n",
    "\n",
    "\n",
    "\n",
    "\n",
    "# create coordinate dict from cleaned_gro_file\n",
    "def get_coordinate_dict_from_cleaned_gro(cleaned_gro_file):\n",
    "    \n",
    "    peptide_lenght_list = []\n",
    "\n",
    "    temporary_list = []\n",
    "\n",
    "    # iterate trough cleaned_gro_file\n",
    "    for residue in cleaned_gro_file:\n",
    "\n",
    "        # if temporary list just started, add aminoacid position in chain\n",
    "        if len(temporary_list) == 0:\n",
    "            temporary_list.append(int(residue[1]))\n",
    "\n",
    "        else:\n",
    "            # if position of actual residue is less than last residue\n",
    "            if temporary_list[-1] > int(residue[1]):\n",
    "\n",
    "                # append lenght of last peptide to peptide lenght list\n",
    "                peptide_lenght_list.append(len(temporary_list))\n",
    "\n",
    "                # empty temporary list\n",
    "                temporary_list = []\n",
    "\n",
    "                # append actual residue position\n",
    "                temporary_list.append(int(residue[1]))\n",
    "\n",
    "            # if position of actual residue is higher than last residue, ad current residue position\n",
    "            else:\n",
    "                temporary_list.append(int(residue[1]))\n",
    "\n",
    "    # append last peptide lenght to lenght stack\n",
    "    peptide_lenght_list.append(len(temporary_list))\n",
    "\n",
    "    # create empty dict for coordinate\n",
    "    peptide_coordinate_dict = {}\n",
    "\n",
    "    # create an entry in dict for every peptide in the file\n",
    "    for peptide in range(len(peptide_lenght_list)):\n",
    "        peptide_coordinate_dict[peptide] = {}\n",
    "\n",
    "        # for every residue in lenght peptide, add coordinate x, y, z\n",
    "        for residue in range(peptide_lenght_list[peptide]):\n",
    "            peptide_coordinate_dict[peptide][residue] = [float(coordinate) for coordinate in cleaned_gro_file[(peptide * peptide_lenght_list[peptide])+residue][3:]]\n",
    "\n",
    "    return peptide_coordinate_dict\n",
    "\n",
    "\n",
    "# read .gro and output a dict with the coordinate of the file\n",
    "def get_coordinate_from_gro(path):\n",
    "    \n",
    "    cleaned_gro = clean_gro(path)\n",
    "    \n",
    "    gro_coordinate_dict = get_coordinate_dict_from_cleaned_gro(cleaned_gro)\n",
    "    \n",
    "    return gro_coordinate_dict"
   ]
  },
  {
   "cell_type": "code",
   "execution_count": 4,
   "metadata": {},
   "outputs": [],
   "source": [
    "coordinate_dict = get_coordinate_from_gro(path)"
   ]
  },
  {
   "cell_type": "code",
   "execution_count": 13,
   "metadata": {},
   "outputs": [
    {
     "data": {
      "text/plain": [
       "100"
      ]
     },
     "execution_count": 13,
     "metadata": {},
     "output_type": "execute_result"
    }
   ],
   "source": [
    "len(coordinate_dict)"
   ]
  },
  {
   "cell_type": "code",
   "execution_count": null,
   "metadata": {},
   "outputs": [],
   "source": []
  },
  {
   "cell_type": "code",
   "execution_count": null,
   "metadata": {},
   "outputs": [],
   "source": []
  },
  {
   "cell_type": "code",
   "execution_count": null,
   "metadata": {},
   "outputs": [],
   "source": []
  },
  {
   "cell_type": "code",
   "execution_count": null,
   "metadata": {},
   "outputs": [],
   "source": []
  },
  {
   "cell_type": "code",
   "execution_count": null,
   "metadata": {},
   "outputs": [],
   "source": []
  },
  {
   "cell_type": "code",
   "execution_count": null,
   "metadata": {},
   "outputs": [],
   "source": []
  },
  {
   "cell_type": "code",
   "execution_count": null,
   "metadata": {},
   "outputs": [],
   "source": []
  },
  {
   "cell_type": "code",
   "execution_count": null,
   "metadata": {},
   "outputs": [],
   "source": []
  },
  {
   "cell_type": "code",
   "execution_count": null,
   "metadata": {},
   "outputs": [],
   "source": []
  },
  {
   "cell_type": "code",
   "execution_count": null,
   "metadata": {},
   "outputs": [],
   "source": []
  },
  {
   "cell_type": "code",
   "execution_count": null,
   "metadata": {},
   "outputs": [],
   "source": []
  },
  {
   "cell_type": "code",
   "execution_count": null,
   "metadata": {},
   "outputs": [],
   "source": []
  },
  {
   "cell_type": "code",
   "execution_count": null,
   "metadata": {},
   "outputs": [],
   "source": []
  },
  {
   "cell_type": "code",
   "execution_count": null,
   "metadata": {},
   "outputs": [],
   "source": []
  },
  {
   "cell_type": "code",
   "execution_count": null,
   "metadata": {},
   "outputs": [],
   "source": []
  },
  {
   "cell_type": "code",
   "execution_count": null,
   "metadata": {},
   "outputs": [],
   "source": []
  }
 ],
 "metadata": {
  "kernelspec": {
   "display_name": "Python 3",
   "language": "python",
   "name": "python3"
  },
  "language_info": {
   "codemirror_mode": {
    "name": "ipython",
    "version": 3
   },
   "file_extension": ".py",
   "mimetype": "text/x-python",
   "name": "python",
   "nbconvert_exporter": "python",
   "pygments_lexer": "ipython3",
   "version": "3.6.9"
  }
 },
 "nbformat": 4,
 "nbformat_minor": 2
}
